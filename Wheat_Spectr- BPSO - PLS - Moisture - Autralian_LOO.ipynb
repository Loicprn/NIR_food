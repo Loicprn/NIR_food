{
 "cells": [
  {
   "cell_type": "code",
   "execution_count": 69,
   "id": "79c1089e",
   "metadata": {},
   "outputs": [],
   "source": [
    "import plotly.express as px\n",
    "import pandas as pd\n",
    "import numpy as np\n",
    "import matplotlib.pyplot as plt\n",
    "from numpy import alen, arange\n",
    "import math\n",
    "from math import sqrt\n",
    "from sklearn.model_selection import KFold\n",
    "from sklearn.linear_model import LinearRegression\n",
    "from sklearn.model_selection import cross_val_score\n",
    "from sklearn.model_selection import LeaveOneOut\n",
    "from sklearn.ensemble import AdaBoostRegressor\n",
    "from sklearn.pipeline import make_pipeline\n",
    "from sklearn.ensemble import RandomForestRegressor\n",
    "from sklearn.ensemble import GradientBoostingRegressor\n",
    "from sklearn.linear_model import LinearRegression\n",
    "from sklearn.ensemble import VotingRegressor\n",
    "\n",
    "from sklearn.svm import SVR\n",
    "#### PLS\n",
    "from sklearn.cross_decomposition import PLSRegression\n",
    "from sklearn.model_selection import cross_val_predict\n",
    "from sklearn.metrics import mean_squared_error, r2_score\n",
    "from scipy.signal import savgol_filter\n",
    "from sklearn.preprocessing import StandardScaler\n",
    "from sklearn import preprocessing\n",
    "from sklearn.model_selection import train_test_split\n",
    "from scipy.signal import savgol_filter"
   ]
  },
  {
   "cell_type": "code",
   "execution_count": 70,
   "id": "66e3b728",
   "metadata": {},
   "outputs": [],
   "source": [
    "#BPSO\n",
    "\n",
    "def pls_optimise_components(X, y, npc):\n",
    " \n",
    "    rmsecv = np.zeros(npc)\n",
    "    for i in range(1,npc+1,1):\n",
    " \n",
    "        # Simple PLS\n",
    "        pls_simple = PLSRegression(n_components=i)\n",
    "        # Fit\n",
    "        pls_simple.fit(X, y)\n",
    "        #cv = LeaveOneOut()\n",
    "        cv=10\n",
    "        # Cross-validation\n",
    "        y_cv = cross_val_predict(pls_simple, X, y, cv=cv)\n",
    " \n",
    "        # Calculate scores\n",
    "        score = r2_score(y, y_cv)\n",
    "        rmsecv[i-1] = np.sqrt(mean_squared_error(y, y_cv))\n",
    " \n",
    "    # Find the minimum of ther RMSE and its location\n",
    "    opt_comp, rmsecv_min = np.argmin(rmsecv),  rmsecv[np.argmin(rmsecv)]\n",
    " \n",
    "    return (opt_comp+1, rmsecv_min)\n",
    "\n",
    "def base_pls(X,y,n_components, return_model=False):\n",
    " \n",
    "    # Simple PLS\n",
    "    pls_simple = PLSRegression(n_components=n_components)\n",
    "    # Fit\n",
    "    pls_simple.fit(X, y)\n",
    "    cv = 10\n",
    "    # Cross-validation\n",
    "    y_cv = cross_val_predict(pls_simple, X, y, cv=cv)\n",
    " \n",
    "    # Calculate scores\n",
    "    score = r2_score(y, y_cv)\n",
    "    rmsecv = np.sqrt(mean_squared_error(y, y_cv))\n",
    " \n",
    "    if return_model == False:\n",
    "        return(y_cv, score, rmsecv)\n",
    "    else:\n",
    "        return(y_cv, score, rmsecv, pls_simple)\n",
    "    \n",
    "from sklearn import linear_model\n",
    "from sklearn.linear_model import LinearRegression\n",
    "from sklearn.metrics import r2_score\n",
    "# Create an instance \n",
    "#reg = linear_model.LinearRegression\n",
    "\n",
    "# Define objective function\n",
    "def f_per_particle(m, alpha):\n",
    "    \"\"\"Computes for the objective function per particle\n",
    "\n",
    "    Inputs\n",
    "    ------\n",
    "    m : numpy.ndarray\n",
    "        Binary mask that can be obtained from BinaryPSO, will\n",
    "        be used to mask features.\n",
    "    alpha: float (default is 0.5)\n",
    "        Constant weight for trading-off classifier performance\n",
    "        and number of features\n",
    "\n",
    "    Returns\n",
    "    -------\n",
    "    numpy.ndarray\n",
    "        Computed objective function\n",
    "    \"\"\"\n",
    "    \n",
    "    total_features = dimensions\n",
    "    # Get the subset of the features from the binary mask\n",
    "\n",
    "    #X_sav = savgol_filter(X_train, 3, polyorder=2, deriv=1)\n",
    "\n",
    "    if np.count_nonzero(m) == 0:\n",
    "        X_subset = X_train\n",
    "    else:\n",
    "        X_subset = X_train[:,m==1]\n",
    "\n",
    "    \n",
    " \n",
    "\n",
    "    # #regr = make_pipeline(StandardScaler(), SVR())\n",
    "    # #regr = make_pipeline(StandardScaler(), RandomForestRegressor(max_depth=5, random_state=1))\n",
    "    # #regr = make_pipeline(StandardScaler(), SVR(C = 0.5, degree= 1, kernel= 'rbf',epsilon= 0.16))\n",
    "    # #X1 = savgol_filter(X_subset, 3, polyorder=2, deriv=1)\n",
    "    # reg1 = GradientBoostingRegressor(random_state=1)\n",
    "    # #reg2 = RandomForestRegressor(random_state=1)\n",
    "    # opt_comp, rmsecv_min = pls_optimise_components(X_subset, y_train_oleo, 8)\n",
    "    # reg3 = PLSRegression(n_components=opt_comp)\n",
    "    # #reg3 = PLSRegression(n_components=5)\n",
    "    # #reg3 = LinearRegression()\n",
    "    # ereg = VotingRegressor(estimators=[('gb', reg1), ('plsr', reg3)])\n",
    "    # ereg = ereg.fit(X_subset, y_train_oleo)\n",
    "    # #regr.fit(X_subset, y_train_oleo)\n",
    "    # y_pred = cross_val_predict(ereg, X_subset, y_train_oleo, cv=10)\n",
    "    # #y_pred = ereg.predict(X_subset)\n",
    "    # #y_pred = regr.predict(X1)\n",
    "    # #r2cv = mean_squared_error(y_train_oleo, y_pred)\n",
    "    # r2cv = r2_score(y_train_oleo, y_pred)\n",
    "    # P = r2cv\n",
    "    # #P = (classifier.predict(X_subset) == y).mean()\n",
    "    # # Compute for the objective function\n",
    "    # j = (alpha * (1.0 - P)\n",
    "    #     + (1.0 - alpha) * (1 - (X_subset.shape[1] / total_features)))\n",
    "\n",
    "\n",
    "\n",
    "    opt_comp, rmsecv_min = pls_optimise_components(X_subset, y_train_oleo, 8)\n",
    "    predicted, r2cv, rmscv = base_pls(X_subset, y_train_oleo, opt_comp)\n",
    "    \n",
    "    P = r2cv\n",
    "    #P = (classifier.predict(X_subset) == y).mean()\n",
    "    # Compute for the objective function\n",
    "    j = (alpha * (1.0 - P)\n",
    "        + (1.0 - alpha) * (1 - (X_subset.shape[1] / total_features)))\n",
    "\n",
    "    return j\n",
    "\n",
    "def f(x, alpha=0.88):\n",
    "    \"\"\"Higher-level method to do classification in the\n",
    "    whole swarm.\n",
    "\n",
    "    Inputs\n",
    "    ------\n",
    "    x: numpy.ndarray of shape (n_particles, dimensions)\n",
    "        The swarm that will perform the search\n",
    "\n",
    "    Returns\n",
    "    -------\n",
    "    numpy.ndarray of shape (n_particles, )\n",
    "        The computed loss for each particle\n",
    "    \"\"\"\n",
    "    n_particles = x.shape[0]\n",
    "    j = [f_per_particle(x[i], alpha) for i in range(n_particles)]\n",
    "    return np.array(j)\n",
    "\n",
    "def snv(input_data):\n",
    "  \n",
    "    # Define a new array and populate it with the corrected data  \n",
    "    output_data = np.zeros_like(input_data)\n",
    "    for i in range(input_data.shape[0]):\n",
    " \n",
    "        # Apply correction\n",
    "        output_data[i,:] = (input_data[i,:] - np.mean(input_data[i,:])) / np.std(input_data[i,:])\n",
    " \n",
    "    return output_data\n",
    "\n",
    "def msc(input_data):\n",
    "     # mean centre correction\n",
    "    for i in range(input_data.shape[0]):\n",
    "        input_data[i,:] -= input_data[i,:].mean()\n",
    " \n",
    "    # Get the reference spectrum. If not given, estimate it from the mean    \n",
    "\n",
    "    # Calculate mean\n",
    "    ref = np.mean(input_data, axis=0)\n",
    "\n",
    " \n",
    "    # Define a new array and populate it with the corrected data    \n",
    "    output_data= np.zeros_like(input_data)\n",
    "    for i in range(input_data.shape[0]):\n",
    "        # Run regression\n",
    "        fit = np.polyfit(ref, input_data[i,:], 1, full=True)\n",
    "        # Apply correction\n",
    "        output_data[i,:] = (input_data[i,:] - fit[0][1]) / fit[0][0] \n",
    "    return output_data"
   ]
  },
  {
   "cell_type": "code",
   "execution_count": 71,
   "id": "a70d7488",
   "metadata": {},
   "outputs": [],
   "source": [
    "df = pd.read_csv('Data/Wheat/Wheat_mean_NIR_data_65_samples.csv')"
   ]
  },
  {
   "cell_type": "code",
   "execution_count": 72,
   "id": "6e065140",
   "metadata": {},
   "outputs": [
    {
     "data": {
      "text/html": [
       "<div>\n",
       "<style scoped>\n",
       "    .dataframe tbody tr th:only-of-type {\n",
       "        vertical-align: middle;\n",
       "    }\n",
       "\n",
       "    .dataframe tbody tr th {\n",
       "        vertical-align: top;\n",
       "    }\n",
       "\n",
       "    .dataframe thead th {\n",
       "        text-align: right;\n",
       "    }\n",
       "</style>\n",
       "<table border=\"1\" class=\"dataframe\">\n",
       "  <thead>\n",
       "    <tr style=\"text-align: right;\">\n",
       "      <th></th>\n",
       "      <th>Sample</th>\n",
       "      <th>Batch</th>\n",
       "      <th>Order</th>\n",
       "      <th>TP</th>\n",
       "      <th>CUPRAC</th>\n",
       "      <th>FRAP</th>\n",
       "      <th>TMA</th>\n",
       "      <th>Moisture</th>\n",
       "      <th>Protein</th>\n",
       "      <th>999.8970106</th>\n",
       "      <th>...</th>\n",
       "      <th>2478.712814</th>\n",
       "      <th>2481.08483</th>\n",
       "      <th>2483.461389</th>\n",
       "      <th>2485.842505</th>\n",
       "      <th>2488.227573</th>\n",
       "      <th>2490.617843</th>\n",
       "      <th>2493.012709</th>\n",
       "      <th>2495.412185</th>\n",
       "      <th>2497.816284</th>\n",
       "      <th>2500.22502</th>\n",
       "    </tr>\n",
       "  </thead>\n",
       "  <tbody>\n",
       "    <tr>\n",
       "      <th>0</th>\n",
       "      <td>W1</td>\n",
       "      <td>1</td>\n",
       "      <td>1</td>\n",
       "      <td>177.256315</td>\n",
       "      <td>366.709718</td>\n",
       "      <td>56.286815</td>\n",
       "      <td>0.000000</td>\n",
       "      <td>10.1</td>\n",
       "      <td>13.904338</td>\n",
       "      <td>0.264490</td>\n",
       "      <td>...</td>\n",
       "      <td>0.993593</td>\n",
       "      <td>0.996831</td>\n",
       "      <td>0.998601</td>\n",
       "      <td>1.000223</td>\n",
       "      <td>1.001534</td>\n",
       "      <td>1.001571</td>\n",
       "      <td>1.002851</td>\n",
       "      <td>1.004485</td>\n",
       "      <td>1.004250</td>\n",
       "      <td>1.002066</td>\n",
       "    </tr>\n",
       "    <tr>\n",
       "      <th>1</th>\n",
       "      <td>W2</td>\n",
       "      <td>1</td>\n",
       "      <td>2</td>\n",
       "      <td>153.408515</td>\n",
       "      <td>290.123902</td>\n",
       "      <td>53.543083</td>\n",
       "      <td>2.511161</td>\n",
       "      <td>8.7</td>\n",
       "      <td>14.786418</td>\n",
       "      <td>0.283164</td>\n",
       "      <td>...</td>\n",
       "      <td>1.031166</td>\n",
       "      <td>1.033582</td>\n",
       "      <td>1.035195</td>\n",
       "      <td>1.037318</td>\n",
       "      <td>1.038840</td>\n",
       "      <td>1.038373</td>\n",
       "      <td>1.038098</td>\n",
       "      <td>1.039568</td>\n",
       "      <td>1.039971</td>\n",
       "      <td>1.039888</td>\n",
       "    </tr>\n",
       "    <tr>\n",
       "      <th>2</th>\n",
       "      <td>W3</td>\n",
       "      <td>1</td>\n",
       "      <td>3</td>\n",
       "      <td>167.788770</td>\n",
       "      <td>433.513709</td>\n",
       "      <td>54.841090</td>\n",
       "      <td>0.235243</td>\n",
       "      <td>10.4</td>\n",
       "      <td>12.500000</td>\n",
       "      <td>0.276600</td>\n",
       "      <td>...</td>\n",
       "      <td>1.048032</td>\n",
       "      <td>1.050699</td>\n",
       "      <td>1.051539</td>\n",
       "      <td>1.053081</td>\n",
       "      <td>1.054179</td>\n",
       "      <td>1.054097</td>\n",
       "      <td>1.053567</td>\n",
       "      <td>1.053987</td>\n",
       "      <td>1.054386</td>\n",
       "      <td>1.052976</td>\n",
       "    </tr>\n",
       "    <tr>\n",
       "      <th>3</th>\n",
       "      <td>W4</td>\n",
       "      <td>1</td>\n",
       "      <td>4</td>\n",
       "      <td>161.171271</td>\n",
       "      <td>281.405362</td>\n",
       "      <td>57.062854</td>\n",
       "      <td>9.228084</td>\n",
       "      <td>11.6</td>\n",
       "      <td>14.819005</td>\n",
       "      <td>0.284350</td>\n",
       "      <td>...</td>\n",
       "      <td>1.066802</td>\n",
       "      <td>1.069377</td>\n",
       "      <td>1.071662</td>\n",
       "      <td>1.075393</td>\n",
       "      <td>1.077126</td>\n",
       "      <td>1.075814</td>\n",
       "      <td>1.075846</td>\n",
       "      <td>1.076120</td>\n",
       "      <td>1.076186</td>\n",
       "      <td>1.076950</td>\n",
       "    </tr>\n",
       "    <tr>\n",
       "      <th>4</th>\n",
       "      <td>W5</td>\n",
       "      <td>1</td>\n",
       "      <td>5</td>\n",
       "      <td>143.785691</td>\n",
       "      <td>309.539558</td>\n",
       "      <td>55.627153</td>\n",
       "      <td>0.590040</td>\n",
       "      <td>10.9</td>\n",
       "      <td>16.722783</td>\n",
       "      <td>0.294623</td>\n",
       "      <td>...</td>\n",
       "      <td>1.007914</td>\n",
       "      <td>1.010732</td>\n",
       "      <td>1.012537</td>\n",
       "      <td>1.013475</td>\n",
       "      <td>1.015025</td>\n",
       "      <td>1.014866</td>\n",
       "      <td>1.015861</td>\n",
       "      <td>1.016620</td>\n",
       "      <td>1.016702</td>\n",
       "      <td>1.016687</td>\n",
       "    </tr>\n",
       "  </tbody>\n",
       "</table>\n",
       "<p>5 rows × 1566 columns</p>\n",
       "</div>"
      ],
      "text/plain": [
       "  Sample  Batch  Order          TP      CUPRAC       FRAP       TMA  Moisture  \\\n",
       "0     W1      1      1  177.256315  366.709718  56.286815  0.000000      10.1   \n",
       "1     W2      1      2  153.408515  290.123902  53.543083  2.511161       8.7   \n",
       "2     W3      1      3  167.788770  433.513709  54.841090  0.235243      10.4   \n",
       "3     W4      1      4  161.171271  281.405362  57.062854  9.228084      11.6   \n",
       "4     W5      1      5  143.785691  309.539558  55.627153  0.590040      10.9   \n",
       "\n",
       "     Protein  999.8970106  ...  2478.712814  2481.08483  2483.461389  \\\n",
       "0  13.904338     0.264490  ...     0.993593    0.996831     0.998601   \n",
       "1  14.786418     0.283164  ...     1.031166    1.033582     1.035195   \n",
       "2  12.500000     0.276600  ...     1.048032    1.050699     1.051539   \n",
       "3  14.819005     0.284350  ...     1.066802    1.069377     1.071662   \n",
       "4  16.722783     0.294623  ...     1.007914    1.010732     1.012537   \n",
       "\n",
       "   2485.842505  2488.227573  2490.617843  2493.012709  2495.412185  \\\n",
       "0     1.000223     1.001534     1.001571     1.002851     1.004485   \n",
       "1     1.037318     1.038840     1.038373     1.038098     1.039568   \n",
       "2     1.053081     1.054179     1.054097     1.053567     1.053987   \n",
       "3     1.075393     1.077126     1.075814     1.075846     1.076120   \n",
       "4     1.013475     1.015025     1.014866     1.015861     1.016620   \n",
       "\n",
       "   2497.816284  2500.22502  \n",
       "0     1.004250    1.002066  \n",
       "1     1.039971    1.039888  \n",
       "2     1.054386    1.052976  \n",
       "3     1.076186    1.076950  \n",
       "4     1.016702    1.016687  \n",
       "\n",
       "[5 rows x 1566 columns]"
      ]
     },
     "execution_count": 72,
     "metadata": {},
     "output_type": "execute_result"
    }
   ],
   "source": [
    "df.head()"
   ]
  },
  {
   "cell_type": "code",
   "execution_count": 73,
   "id": "7c3b8119",
   "metadata": {},
   "outputs": [
    {
     "data": {
      "text/plain": [
       "<seaborn.axisgrid.FacetGrid at 0x22b56e134c0>"
      ]
     },
     "execution_count": 73,
     "metadata": {},
     "output_type": "execute_result"
    },
    {
     "data": {
      "image/png": "[encoded data removed]",
      "text/plain": [
       "<Figure size 360x360 with 1 Axes>"
      ]
     },
     "metadata": {
      "needs_background": "light"
     },
     "output_type": "display_data"
    }
   ],
   "source": [
    "import seaborn as sns\n",
    "sns.displot(df['Moisture'])"
   ]
  },
  {
   "cell_type": "code",
   "execution_count": 74,
   "id": "299b7701",
   "metadata": {},
   "outputs": [
    {
     "data": {
      "image/png": "[encoded data removed]",
      "text/plain": [
       "<Figure size 576x324 with 1 Axes>"
      ]
     },
     "metadata": {
      "needs_background": "light"
     },
     "output_type": "display_data"
    }
   ],
   "source": [
    "wl = np.arange(0, 1557, 1)\n",
    "plt.figure(figsize=(8, 4.5))\n",
    "with plt.style.context('ggplot'):\n",
    "    plt.plot(wl, df.iloc[:,9:].values.T)\n",
    "    plt.xlabel(\"Wavelengths (nm)\")\n",
    "    plt.ylabel(\"Absorbance\")\n",
    "    plt.show()"
   ]
  },
  {
   "cell_type": "code",
   "execution_count": 75,
   "id": "c0c84a51",
   "metadata": {},
   "outputs": [
    {
     "data": {
      "text/html": [
       "<div>\n",
       "<style scoped>\n",
       "    .dataframe tbody tr th:only-of-type {\n",
       "        vertical-align: middle;\n",
       "    }\n",
       "\n",
       "    .dataframe tbody tr th {\n",
       "        vertical-align: top;\n",
       "    }\n",
       "\n",
       "    .dataframe thead th {\n",
       "        text-align: right;\n",
       "    }\n",
       "</style>\n",
       "<table border=\"1\" class=\"dataframe\">\n",
       "  <thead>\n",
       "    <tr style=\"text-align: right;\">\n",
       "      <th></th>\n",
       "      <th>999.8970106</th>\n",
       "      <th>1000.28298</th>\n",
       "      <th>1000.669047</th>\n",
       "      <th>1001.055413</th>\n",
       "      <th>1001.441976</th>\n",
       "      <th>1001.829039</th>\n",
       "      <th>1002.216201</th>\n",
       "      <th>1002.603862</th>\n",
       "      <th>1002.991623</th>\n",
       "      <th>1003.379885</th>\n",
       "      <th>...</th>\n",
       "      <th>2485.842505</th>\n",
       "      <th>2488.227573</th>\n",
       "      <th>2490.617843</th>\n",
       "      <th>2493.012709</th>\n",
       "      <th>2495.412185</th>\n",
       "      <th>2497.816284</th>\n",
       "      <th>2500.22502</th>\n",
       "      <th>Umidade</th>\n",
       "      <th>Protein</th>\n",
       "      <th>class</th>\n",
       "    </tr>\n",
       "  </thead>\n",
       "  <tbody>\n",
       "    <tr>\n",
       "      <th>0</th>\n",
       "      <td>0.264490</td>\n",
       "      <td>0.265070</td>\n",
       "      <td>0.264313</td>\n",
       "      <td>0.265251</td>\n",
       "      <td>0.264319</td>\n",
       "      <td>0.264963</td>\n",
       "      <td>0.265600</td>\n",
       "      <td>0.265346</td>\n",
       "      <td>0.264630</td>\n",
       "      <td>0.264989</td>\n",
       "      <td>...</td>\n",
       "      <td>1.000223</td>\n",
       "      <td>1.001534</td>\n",
       "      <td>1.001571</td>\n",
       "      <td>1.002851</td>\n",
       "      <td>1.004485</td>\n",
       "      <td>1.004250</td>\n",
       "      <td>1.002066</td>\n",
       "      <td>10.1</td>\n",
       "      <td>13.904338</td>\n",
       "      <td>8</td>\n",
       "    </tr>\n",
       "    <tr>\n",
       "      <th>1</th>\n",
       "      <td>0.283164</td>\n",
       "      <td>0.284325</td>\n",
       "      <td>0.283624</td>\n",
       "      <td>0.284148</td>\n",
       "      <td>0.282205</td>\n",
       "      <td>0.281135</td>\n",
       "      <td>0.281490</td>\n",
       "      <td>0.281886</td>\n",
       "      <td>0.282097</td>\n",
       "      <td>0.282473</td>\n",
       "      <td>...</td>\n",
       "      <td>1.037318</td>\n",
       "      <td>1.038840</td>\n",
       "      <td>1.038373</td>\n",
       "      <td>1.038098</td>\n",
       "      <td>1.039568</td>\n",
       "      <td>1.039971</td>\n",
       "      <td>1.039888</td>\n",
       "      <td>8.7</td>\n",
       "      <td>14.786418</td>\n",
       "      <td>8</td>\n",
       "    </tr>\n",
       "    <tr>\n",
       "      <th>2</th>\n",
       "      <td>0.276600</td>\n",
       "      <td>0.277441</td>\n",
       "      <td>0.275031</td>\n",
       "      <td>0.276462</td>\n",
       "      <td>0.276817</td>\n",
       "      <td>0.276438</td>\n",
       "      <td>0.276419</td>\n",
       "      <td>0.276996</td>\n",
       "      <td>0.279289</td>\n",
       "      <td>0.279410</td>\n",
       "      <td>...</td>\n",
       "      <td>1.053081</td>\n",
       "      <td>1.054179</td>\n",
       "      <td>1.054097</td>\n",
       "      <td>1.053567</td>\n",
       "      <td>1.053987</td>\n",
       "      <td>1.054386</td>\n",
       "      <td>1.052976</td>\n",
       "      <td>10.4</td>\n",
       "      <td>12.500000</td>\n",
       "      <td>10</td>\n",
       "    </tr>\n",
       "    <tr>\n",
       "      <th>3</th>\n",
       "      <td>0.284350</td>\n",
       "      <td>0.286067</td>\n",
       "      <td>0.286507</td>\n",
       "      <td>0.286528</td>\n",
       "      <td>0.286619</td>\n",
       "      <td>0.286029</td>\n",
       "      <td>0.285122</td>\n",
       "      <td>0.286209</td>\n",
       "      <td>0.286949</td>\n",
       "      <td>0.287247</td>\n",
       "      <td>...</td>\n",
       "      <td>1.075393</td>\n",
       "      <td>1.077126</td>\n",
       "      <td>1.075814</td>\n",
       "      <td>1.075846</td>\n",
       "      <td>1.076120</td>\n",
       "      <td>1.076186</td>\n",
       "      <td>1.076950</td>\n",
       "      <td>11.6</td>\n",
       "      <td>14.819005</td>\n",
       "      <td>11</td>\n",
       "    </tr>\n",
       "    <tr>\n",
       "      <th>4</th>\n",
       "      <td>0.294623</td>\n",
       "      <td>0.296398</td>\n",
       "      <td>0.297447</td>\n",
       "      <td>0.295038</td>\n",
       "      <td>0.291319</td>\n",
       "      <td>0.292503</td>\n",
       "      <td>0.295399</td>\n",
       "      <td>0.297310</td>\n",
       "      <td>0.297976</td>\n",
       "      <td>0.297869</td>\n",
       "      <td>...</td>\n",
       "      <td>1.013475</td>\n",
       "      <td>1.015025</td>\n",
       "      <td>1.014866</td>\n",
       "      <td>1.015861</td>\n",
       "      <td>1.016620</td>\n",
       "      <td>1.016702</td>\n",
       "      <td>1.016687</td>\n",
       "      <td>10.9</td>\n",
       "      <td>16.722783</td>\n",
       "      <td>10</td>\n",
       "    </tr>\n",
       "    <tr>\n",
       "      <th>...</th>\n",
       "      <td>...</td>\n",
       "      <td>...</td>\n",
       "      <td>...</td>\n",
       "      <td>...</td>\n",
       "      <td>...</td>\n",
       "      <td>...</td>\n",
       "      <td>...</td>\n",
       "      <td>...</td>\n",
       "      <td>...</td>\n",
       "      <td>...</td>\n",
       "      <td>...</td>\n",
       "      <td>...</td>\n",
       "      <td>...</td>\n",
       "      <td>...</td>\n",
       "      <td>...</td>\n",
       "      <td>...</td>\n",
       "      <td>...</td>\n",
       "      <td>...</td>\n",
       "      <td>...</td>\n",
       "      <td>...</td>\n",
       "      <td>...</td>\n",
       "    </tr>\n",
       "    <tr>\n",
       "      <th>60</th>\n",
       "      <td>0.255387</td>\n",
       "      <td>0.256557</td>\n",
       "      <td>0.257468</td>\n",
       "      <td>0.256755</td>\n",
       "      <td>0.255548</td>\n",
       "      <td>0.255051</td>\n",
       "      <td>0.255576</td>\n",
       "      <td>0.256388</td>\n",
       "      <td>0.255947</td>\n",
       "      <td>0.256028</td>\n",
       "      <td>...</td>\n",
       "      <td>1.024929</td>\n",
       "      <td>1.026869</td>\n",
       "      <td>1.029787</td>\n",
       "      <td>1.029719</td>\n",
       "      <td>1.027954</td>\n",
       "      <td>1.026543</td>\n",
       "      <td>1.027072</td>\n",
       "      <td>14.0</td>\n",
       "      <td>14.186047</td>\n",
       "      <td>14</td>\n",
       "    </tr>\n",
       "    <tr>\n",
       "      <th>61</th>\n",
       "      <td>0.260055</td>\n",
       "      <td>0.261521</td>\n",
       "      <td>0.260796</td>\n",
       "      <td>0.261677</td>\n",
       "      <td>0.261635</td>\n",
       "      <td>0.258871</td>\n",
       "      <td>0.257091</td>\n",
       "      <td>0.258535</td>\n",
       "      <td>0.259138</td>\n",
       "      <td>0.260256</td>\n",
       "      <td>...</td>\n",
       "      <td>1.045070</td>\n",
       "      <td>1.046475</td>\n",
       "      <td>1.047091</td>\n",
       "      <td>1.047631</td>\n",
       "      <td>1.048851</td>\n",
       "      <td>1.049913</td>\n",
       "      <td>1.048571</td>\n",
       "      <td>14.1</td>\n",
       "      <td>14.318976</td>\n",
       "      <td>14</td>\n",
       "    </tr>\n",
       "    <tr>\n",
       "      <th>62</th>\n",
       "      <td>0.261027</td>\n",
       "      <td>0.262079</td>\n",
       "      <td>0.260400</td>\n",
       "      <td>0.259748</td>\n",
       "      <td>0.259618</td>\n",
       "      <td>0.258786</td>\n",
       "      <td>0.258932</td>\n",
       "      <td>0.257340</td>\n",
       "      <td>0.256873</td>\n",
       "      <td>0.259077</td>\n",
       "      <td>...</td>\n",
       "      <td>1.052203</td>\n",
       "      <td>1.054044</td>\n",
       "      <td>1.055173</td>\n",
       "      <td>1.055738</td>\n",
       "      <td>1.057897</td>\n",
       "      <td>1.059257</td>\n",
       "      <td>1.057239</td>\n",
       "      <td>14.2</td>\n",
       "      <td>13.986014</td>\n",
       "      <td>14</td>\n",
       "    </tr>\n",
       "    <tr>\n",
       "      <th>63</th>\n",
       "      <td>0.257334</td>\n",
       "      <td>0.258735</td>\n",
       "      <td>0.257742</td>\n",
       "      <td>0.256439</td>\n",
       "      <td>0.255940</td>\n",
       "      <td>0.255588</td>\n",
       "      <td>0.255329</td>\n",
       "      <td>0.255204</td>\n",
       "      <td>0.256131</td>\n",
       "      <td>0.255853</td>\n",
       "      <td>...</td>\n",
       "      <td>1.054979</td>\n",
       "      <td>1.056454</td>\n",
       "      <td>1.057531</td>\n",
       "      <td>1.059781</td>\n",
       "      <td>1.060897</td>\n",
       "      <td>1.059562</td>\n",
       "      <td>1.057915</td>\n",
       "      <td>14.2</td>\n",
       "      <td>13.869464</td>\n",
       "      <td>14</td>\n",
       "    </tr>\n",
       "    <tr>\n",
       "      <th>64</th>\n",
       "      <td>0.259750</td>\n",
       "      <td>0.261176</td>\n",
       "      <td>0.260649</td>\n",
       "      <td>0.260872</td>\n",
       "      <td>0.262105</td>\n",
       "      <td>0.262085</td>\n",
       "      <td>0.261662</td>\n",
       "      <td>0.260108</td>\n",
       "      <td>0.260835</td>\n",
       "      <td>0.261071</td>\n",
       "      <td>...</td>\n",
       "      <td>1.047974</td>\n",
       "      <td>1.049033</td>\n",
       "      <td>1.048476</td>\n",
       "      <td>1.049073</td>\n",
       "      <td>1.050243</td>\n",
       "      <td>1.050267</td>\n",
       "      <td>1.050142</td>\n",
       "      <td>14.3</td>\n",
       "      <td>13.885648</td>\n",
       "      <td>14</td>\n",
       "    </tr>\n",
       "  </tbody>\n",
       "</table>\n",
       "<p>65 rows × 1560 columns</p>\n",
       "</div>"
      ],
      "text/plain": [
       "    999.8970106  1000.28298  1000.669047  1001.055413  1001.441976  \\\n",
       "0      0.264490    0.265070     0.264313     0.265251     0.264319   \n",
       "1      0.283164    0.284325     0.283624     0.284148     0.282205   \n",
       "2      0.276600    0.277441     0.275031     0.276462     0.276817   \n",
       "3      0.284350    0.286067     0.286507     0.286528     0.286619   \n",
       "4      0.294623    0.296398     0.297447     0.295038     0.291319   \n",
       "..          ...         ...          ...          ...          ...   \n",
       "60     0.255387    0.256557     0.257468     0.256755     0.255548   \n",
       "61     0.260055    0.261521     0.260796     0.261677     0.261635   \n",
       "62     0.261027    0.262079     0.260400     0.259748     0.259618   \n",
       "63     0.257334    0.258735     0.257742     0.256439     0.255940   \n",
       "64     0.259750    0.261176     0.260649     0.260872     0.262105   \n",
       "\n",
       "    1001.829039  1002.216201  1002.603862  1002.991623  1003.379885  ...  \\\n",
       "0      0.264963     0.265600     0.265346     0.264630     0.264989  ...   \n",
       "1      0.281135     0.281490     0.281886     0.282097     0.282473  ...   \n",
       "2      0.276438     0.276419     0.276996     0.279289     0.279410  ...   \n",
       "3      0.286029     0.285122     0.286209     0.286949     0.287247  ...   \n",
       "4      0.292503     0.295399     0.297310     0.297976     0.297869  ...   \n",
       "..          ...          ...          ...          ...          ...  ...   \n",
       "60     0.255051     0.255576     0.256388     0.255947     0.256028  ...   \n",
       "61     0.258871     0.257091     0.258535     0.259138     0.260256  ...   \n",
       "62     0.258786     0.258932     0.257340     0.256873     0.259077  ...   \n",
       "63     0.255588     0.255329     0.255204     0.256131     0.255853  ...   \n",
       "64     0.262085     0.261662     0.260108     0.260835     0.261071  ...   \n",
       "\n",
       "    2485.842505  2488.227573  2490.617843  2493.012709  2495.412185  \\\n",
       "0      1.000223     1.001534     1.001571     1.002851     1.004485   \n",
       "1      1.037318     1.038840     1.038373     1.038098     1.039568   \n",
       "2      1.053081     1.054179     1.054097     1.053567     1.053987   \n",
       "3      1.075393     1.077126     1.075814     1.075846     1.076120   \n",
       "4      1.013475     1.015025     1.014866     1.015861     1.016620   \n",
       "..          ...          ...          ...          ...          ...   \n",
       "60     1.024929     1.026869     1.029787     1.029719     1.027954   \n",
       "61     1.045070     1.046475     1.047091     1.047631     1.048851   \n",
       "62     1.052203     1.054044     1.055173     1.055738     1.057897   \n",
       "63     1.054979     1.056454     1.057531     1.059781     1.060897   \n",
       "64     1.047974     1.049033     1.048476     1.049073     1.050243   \n",
       "\n",
       "    2497.816284  2500.22502  Umidade    Protein  class  \n",
       "0      1.004250    1.002066     10.1  13.904338      8  \n",
       "1      1.039971    1.039888      8.7  14.786418      8  \n",
       "2      1.054386    1.052976     10.4  12.500000     10  \n",
       "3      1.076186    1.076950     11.6  14.819005     11  \n",
       "4      1.016702    1.016687     10.9  16.722783     10  \n",
       "..          ...         ...      ...        ...    ...  \n",
       "60     1.026543    1.027072     14.0  14.186047     14  \n",
       "61     1.049913    1.048571     14.1  14.318976     14  \n",
       "62     1.059257    1.057239     14.2  13.986014     14  \n",
       "63     1.059562    1.057915     14.2  13.869464     14  \n",
       "64     1.050267    1.050142     14.3  13.885648     14  \n",
       "\n",
       "[65 rows x 1560 columns]"
      ]
     },
     "execution_count": 75,
     "metadata": {},
     "output_type": "execute_result"
    }
   ],
   "source": [
    "#df.iloc[:,9:] = snv(df.values[:,9:])\n",
    "df_pretreat = df.iloc[:,9:]\n",
    "df_pretreat['Umidade'] = df['Moisture']\n",
    "df_pretreat['Protein'] = df['Protein']\n",
    "df_pretreat['class'] = df_pretreat['Umidade'].astype(int)\n",
    "\n",
    "\n",
    "for index, row in df_pretreat.iterrows():\n",
    "    if row['Umidade']< 10.2:\n",
    "        df_pretreat.loc[index, 'class'] = 8\n",
    "df_pretreat"
   ]
  },
  {
   "cell_type": "code",
   "execution_count": 76,
   "id": "955674db",
   "metadata": {},
   "outputs": [
    {
     "data": {
      "image/png": "[encoded data removed]",
      "text/plain": [
       "<Figure size 576x324 with 1 Axes>"
      ]
     },
     "metadata": {
      "needs_background": "light"
     },
     "output_type": "display_data"
    }
   ],
   "source": [
    "wl = np.arange(0, 1557, 1)\n",
    "plt.figure(figsize=(8, 4.5))\n",
    "with plt.style.context('ggplot'):\n",
    "    plt.plot(wl, df_pretreat.iloc[:,:-3].values.T)\n",
    "    plt.xlabel(\"Wavelengths (nm)\")\n",
    "    plt.ylabel(\"Absorbance\")\n",
    "    plt.show()"
   ]
  },
  {
   "cell_type": "code",
   "execution_count": 77,
   "id": "11cbadd5",
   "metadata": {},
   "outputs": [
    {
     "name": "stdout",
     "output_type": "stream",
     "text": [
      "[7.35605556e-01 2.52042792e-01 1.02671324e-02 9.25402519e-04\n",
      " 5.39444511e-04]\n"
     ]
    }
   ],
   "source": [
    "import numpy as np\n",
    "from sklearn.decomposition import PCA\n",
    "from sklearn.preprocessing import StandardScaler\n",
    "\n",
    "\n",
    "\n",
    "pca = PCA(n_components=5)\n",
    "T = pca.fit_transform(df_pretreat.iloc[:,:-2])\n",
    "df_pca = pd.DataFrame(T)\n",
    "df_pca.rename(columns={0: 'PC1', 1: 'PC2', 2: 'PC3', 3: 'PC4', 4: 'PC5'}, inplace=True)\n",
    "\n",
    "print(pca.explained_variance_ratio_)\n"
   ]
  },
  {
   "cell_type": "code",
   "execution_count": 26,
   "id": "e0413042",
   "metadata": {},
   "outputs": [
    {
     "data": {
      "application/vnd.plotly.v1+json": {
       "config": {
        "plotlyServerURL": "https://plot.ly"
       },
       "data": [
        {
         "hoverlabel": {
          "namelength": 0
         },
         "hovertemplate": "PC1=%{x}<br>PC2=%{y}",
         "legendgroup": "",
         "marker": {
          "color": "#636efa",
          "symbol": "circle"
         },
         "mode": "markers",
         "name": "",
         "showlegend": false,
         "type": "scatter",
         "x": [
          -0.32244636228359624,
          0.7693647355369004,
          0.8798092141398675,
          1.3435818054751918,
          0.9183174865614081,
          0.8816187390675327,
          0.824639859638726,
          1.9321390927361959,
          1.6136384503953323,
          0.7194842501708355,
          1.1782724554261752,
          0.767977098354366,
          1.5650508062028643,
          0.6463088125087453,
          0.6107693155557304,
          1.5210205775698016,
          1.6702006889117096,
          -0.7192619546740834,
          -1.4823359409185743,
          -0.9644502136975244,
          -1.2270412058667044,
          -1.0410713684593689,
          -1.4509163107228422,
          -0.6820249154273199,
          -0.9827267012473208,
          -0.38431417802319356,
          -0.7375652313557517,
          -0.6813204192976448,
          -0.6155255485147908,
          -0.7645836103222615,
          -0.5853909433848256,
          -0.6848421201692177,
          -0.290301603826743,
          -0.5080972740861287,
          -0.8552576170766418,
          -0.6903094292737971,
          -0.6119846113276892,
          -0.7650725343712264,
          -0.3661757620445698,
          -0.6435469468974577,
          -0.015063079415701883,
          -0.1578809544962693,
          -0.37524840441110835,
          -0.04764702837210938,
          -0.36605850666294326,
          -0.5254509133579554,
          -0.34399449898270895,
          0.03622396951807031,
          -0.4378618020099501,
          -0.068269156242134,
          -0.3976656176927527,
          -0.08335170788053946,
          0.1748398552362093,
          0.18546469781421399,
          -0.32127107776293673,
          0.4334710172093635,
          0.17924619632522068,
          0.10535458425471432,
          0.6537501102131539,
          0.5339002497497478,
          -0.08452515382530584,
          0.22461053244501958,
          0.29134513929060823,
          0.348114375969204,
          0.27233658810478206
         ],
         "xaxis": "x",
         "y": [
          0.24811808127249427,
          0.29191030647948984,
          0.05075467565954762,
          0.014844777870784327,
          0.6147109392543383,
          0.18445381078590586,
          0.2728777967601324,
          0.07236115024280508,
          0.11029345101765614,
          0.15540185512310623,
          -0.05233389616620988,
          0.18528726317697644,
          -0.08750437950433868,
          0.06321898570072186,
          0.17165704751249825,
          0.11861216446640234,
          0.5241797225542976,
          0.08663364144663374,
          0.5013166982123207,
          0.10691936777971127,
          0.22138157482635482,
          0.19430867770867583,
          0.2813752209822988,
          0.06330313909153239,
          0.14488254098593464,
          -0.015287649227806547,
          0.03304161190773294,
          0.04220958035691281,
          -0.028428902821968603,
          0.04349061791560651,
          -0.05559568251466893,
          -0.040541723020142105,
          -0.1356575706869185,
          -0.04758161409147917,
          0.07927547665933038,
          0.053209030385703925,
          0.03438095567209256,
          0.12557311052254616,
          -0.0753872206053569,
          -0.003260636837353938,
          -0.15384594601000237,
          -0.1178160563329061,
          -0.1518592775189206,
          -0.20222359754134606,
          -0.1306020746617265,
          -0.14023550137008584,
          -0.14632498517573134,
          -0.3158652577778003,
          -0.1486657252519165,
          -0.053750298310097346,
          -0.02698340755443987,
          -0.07683269492810783,
          -0.19211668774459342,
          -0.1447461226140879,
          0.07572627543491774,
          -0.27455175647789104,
          -0.13014852529005017,
          -0.24992928880186932,
          -0.31676616934856355,
          -0.32123929210229746,
          -0.1502413706742576,
          -0.2572010774603248,
          -0.3120993580019152,
          -0.375818493028648,
          -0.23426730831163814
         ],
         "yaxis": "y"
        }
       ],
       "layout": {
        "height": 600,
        "legend": {
         "tracegroupgap": 0
        },
        "margin": {
         "t": 60
        },
        "template": {
         "data": {
          "bar": [
           {
            "error_x": {
             "color": "#2a3f5f"
            },
            "error_y": {
             "color": "#2a3f5f"
            },
            "marker": {
             "line": {
              "color": "#E5ECF6",
              "width": 0.5
             }
            },
            "type": "bar"
           }
          ],
          "barpolar": [
           {
            "marker": {
             "line": {
              "color": "#E5ECF6",
              "width": 0.5
             }
            },
            "type": "barpolar"
           }
          ],
          "carpet": [
           {
            "aaxis": {
             "endlinecolor": "#2a3f5f",
             "gridcolor": "white",
             "linecolor": "white",
             "minorgridcolor": "white",
             "startlinecolor": "#2a3f5f"
            },
            "baxis": {
             "endlinecolor": "#2a3f5f",
             "gridcolor": "white",
             "linecolor": "white",
             "minorgridcolor": "white",
             "startlinecolor": "#2a3f5f"
            },
            "type": "carpet"
           }
          ],
          "choropleth": [
           {
            "colorbar": {
             "outlinewidth": 0,
             "ticks": ""
            },
            "type": "choropleth"
           }
          ],
          "contour": [
           {
            "colorbar": {
             "outlinewidth": 0,
             "ticks": ""
            },
            "colorscale": [
             [
              0,
              "#0d0887"
             ],
             [
              0.1111111111111111,
              "#46039f"
             ],
             [
              0.2222222222222222,
              "#7201a8"
             ],
             [
              0.3333333333333333,
              "#9c179e"
             ],
             [
              0.4444444444444444,
              "#bd3786"
             ],
             [
              0.5555555555555556,
              "#d8576b"
             ],
             [
              0.6666666666666666,
              "#ed7953"
             ],
             [
              0.7777777777777778,
              "#fb9f3a"
             ],
             [
              0.8888888888888888,
              "#fdca26"
             ],
             [
              1,
              "#f0f921"
             ]
            ],
            "type": "contour"
           }
          ],
          "contourcarpet": [
           {
            "colorbar": {
             "outlinewidth": 0,
             "ticks": ""
            },
            "type": "contourcarpet"
           }
          ],
          "heatmap": [
           {
            "colorbar": {
             "outlinewidth": 0,
             "ticks": ""
            },
            "colorscale": [
             [
              0,
              "#0d0887"
             ],
             [
              0.1111111111111111,
              "#46039f"
             ],
             [
              0.2222222222222222,
              "#7201a8"
             ],
             [
              0.3333333333333333,
              "#9c179e"
             ],
             [
              0.4444444444444444,
              "#bd3786"
             ],
             [
              0.5555555555555556,
              "#d8576b"
             ],
             [
              0.6666666666666666,
              "#ed7953"
             ],
             [
              0.7777777777777778,
              "#fb9f3a"
             ],
             [
              0.8888888888888888,
              "#fdca26"
             ],
             [
              1,
              "#f0f921"
             ]
            ],
            "type": "heatmap"
           }
          ],
          "heatmapgl": [
           {
            "colorbar": {
             "outlinewidth": 0,
             "ticks": ""
            },
            "colorscale": [
             [
              0,
              "#0d0887"
             ],
             [
              0.1111111111111111,
              "#46039f"
             ],
             [
              0.2222222222222222,
              "#7201a8"
             ],
             [
              0.3333333333333333,
              "#9c179e"
             ],
             [
              0.4444444444444444,
              "#bd3786"
             ],
             [
              0.5555555555555556,
              "#d8576b"
             ],
             [
              0.6666666666666666,
              "#ed7953"
             ],
             [
              0.7777777777777778,
              "#fb9f3a"
             ],
             [
              0.8888888888888888,
              "#fdca26"
             ],
             [
              1,
              "#f0f921"
             ]
            ],
            "type": "heatmapgl"
           }
          ],
          "histogram": [
           {
            "marker": {
             "colorbar": {
              "outlinewidth": 0,
              "ticks": ""
             }
            },
            "type": "histogram"
           }
          ],
          "histogram2d": [
           {
            "colorbar": {
             "outlinewidth": 0,
             "ticks": ""
            },
            "colorscale": [
             [
              0,
              "#0d0887"
             ],
             [
              0.1111111111111111,
              "#46039f"
             ],
             [
              0.2222222222222222,
              "#7201a8"
             ],
             [
              0.3333333333333333,
              "#9c179e"
             ],
             [
              0.4444444444444444,
              "#bd3786"
             ],
             [
              0.5555555555555556,
              "#d8576b"
             ],
             [
              0.6666666666666666,
              "#ed7953"
             ],
             [
              0.7777777777777778,
              "#fb9f3a"
             ],
             [
              0.8888888888888888,
              "#fdca26"
             ],
             [
              1,
              "#f0f921"
             ]
            ],
            "type": "histogram2d"
           }
          ],
          "histogram2dcontour": [
           {
            "colorbar": {
             "outlinewidth": 0,
             "ticks": ""
            },
            "colorscale": [
             [
              0,
              "#0d0887"
             ],
             [
              0.1111111111111111,
              "#46039f"
             ],
             [
              0.2222222222222222,
              "#7201a8"
             ],
             [
              0.3333333333333333,
              "#9c179e"
             ],
             [
              0.4444444444444444,
              "#bd3786"
             ],
             [
              0.5555555555555556,
              "#d8576b"
             ],
             [
              0.6666666666666666,
              "#ed7953"
             ],
             [
              0.7777777777777778,
              "#fb9f3a"
             ],
             [
              0.8888888888888888,
              "#fdca26"
             ],
             [
              1,
              "#f0f921"
             ]
            ],
            "type": "histogram2dcontour"
           }
          ],
          "mesh3d": [
           {
            "colorbar": {
             "outlinewidth": 0,
             "ticks": ""
            },
            "type": "mesh3d"
           }
          ],
          "parcoords": [
           {
            "line": {
             "colorbar": {
              "outlinewidth": 0,
              "ticks": ""
             }
            },
            "type": "parcoords"
           }
          ],
          "scatter": [
           {
            "marker": {
             "colorbar": {
              "outlinewidth": 0,
              "ticks": ""
             }
            },
            "type": "scatter"
           }
          ],
          "scatter3d": [
           {
            "line": {
             "colorbar": {
              "outlinewidth": 0,
              "ticks": ""
             }
            },
            "marker": {
             "colorbar": {
              "outlinewidth": 0,
              "ticks": ""
             }
            },
            "type": "scatter3d"
           }
          ],
          "scattercarpet": [
           {
            "marker": {
             "colorbar": {
              "outlinewidth": 0,
              "ticks": ""
             }
            },
            "type": "scattercarpet"
           }
          ],
          "scattergeo": [
           {
            "marker": {
             "colorbar": {
              "outlinewidth": 0,
              "ticks": ""
             }
            },
            "type": "scattergeo"
           }
          ],
          "scattergl": [
           {
            "marker": {
             "colorbar": {
              "outlinewidth": 0,
              "ticks": ""
             }
            },
            "type": "scattergl"
           }
          ],
          "scattermapbox": [
           {
            "marker": {
             "colorbar": {
              "outlinewidth": 0,
              "ticks": ""
             }
            },
            "type": "scattermapbox"
           }
          ],
          "scatterpolar": [
           {
            "marker": {
             "colorbar": {
              "outlinewidth": 0,
              "ticks": ""
             }
            },
            "type": "scatterpolar"
           }
          ],
          "scatterpolargl": [
           {
            "marker": {
             "colorbar": {
              "outlinewidth": 0,
              "ticks": ""
             }
            },
            "type": "scatterpolargl"
           }
          ],
          "scatterternary": [
           {
            "marker": {
             "colorbar": {
              "outlinewidth": 0,
              "ticks": ""
             }
            },
            "type": "scatterternary"
           }
          ],
          "surface": [
           {
            "colorbar": {
             "outlinewidth": 0,
             "ticks": ""
            },
            "colorscale": [
             [
              0,
              "#0d0887"
             ],
             [
              0.1111111111111111,
              "#46039f"
             ],
             [
              0.2222222222222222,
              "#7201a8"
             ],
             [
              0.3333333333333333,
              "#9c179e"
             ],
             [
              0.4444444444444444,
              "#bd3786"
             ],
             [
              0.5555555555555556,
              "#d8576b"
             ],
             [
              0.6666666666666666,
              "#ed7953"
             ],
             [
              0.7777777777777778,
              "#fb9f3a"
             ],
             [
              0.8888888888888888,
              "#fdca26"
             ],
             [
              1,
              "#f0f921"
             ]
            ],
            "type": "surface"
           }
          ],
          "table": [
           {
            "cells": {
             "fill": {
              "color": "#EBF0F8"
             },
             "line": {
              "color": "white"
             }
            },
            "header": {
             "fill": {
              "color": "#C8D4E3"
             },
             "line": {
              "color": "white"
             }
            },
            "type": "table"
           }
          ]
         },
         "layout": {
          "annotationdefaults": {
           "arrowcolor": "#2a3f5f",
           "arrowhead": 0,
           "arrowwidth": 1
          },
          "colorscale": {
           "diverging": [
            [
             0,
             "#8e0152"
            ],
            [
             0.1,
             "#c51b7d"
            ],
            [
             0.2,
             "#de77ae"
            ],
            [
             0.3,
             "#f1b6da"
            ],
            [
             0.4,
             "#fde0ef"
            ],
            [
             0.5,
             "#f7f7f7"
            ],
            [
             0.6,
             "#e6f5d0"
            ],
            [
             0.7,
             "#b8e186"
            ],
            [
             0.8,
             "#7fbc41"
            ],
            [
             0.9,
             "#4d9221"
            ],
            [
             1,
             "#276419"
            ]
           ],
           "sequential": [
            [
             0,
             "#0d0887"
            ],
            [
             0.1111111111111111,
             "#46039f"
            ],
            [
             0.2222222222222222,
             "#7201a8"
            ],
            [
             0.3333333333333333,
             "#9c179e"
            ],
            [
             0.4444444444444444,
             "#bd3786"
            ],
            [
             0.5555555555555556,
             "#d8576b"
            ],
            [
             0.6666666666666666,
             "#ed7953"
            ],
            [
             0.7777777777777778,
             "#fb9f3a"
            ],
            [
             0.8888888888888888,
             "#fdca26"
            ],
            [
             1,
             "#f0f921"
            ]
           ],
           "sequentialminus": [
            [
             0,
             "#0d0887"
            ],
            [
             0.1111111111111111,
             "#46039f"
            ],
            [
             0.2222222222222222,
             "#7201a8"
            ],
            [
             0.3333333333333333,
             "#9c179e"
            ],
            [
             0.4444444444444444,
             "#bd3786"
            ],
            [
             0.5555555555555556,
             "#d8576b"
            ],
            [
             0.6666666666666666,
             "#ed7953"
            ],
            [
             0.7777777777777778,
             "#fb9f3a"
            ],
            [
             0.8888888888888888,
             "#fdca26"
            ],
            [
             1,
             "#f0f921"
            ]
           ]
          },
          "colorway": [
           "#636efa",
           "#EF553B",
           "#00cc96",
           "#ab63fa",
           "#FFA15A",
           "#19d3f3",
           "#FF6692",
           "#B6E880",
           "#FF97FF",
           "#FECB52"
          ],
          "font": {
           "color": "#2a3f5f"
          },
          "geo": {
           "bgcolor": "white",
           "lakecolor": "white",
           "landcolor": "#E5ECF6",
           "showlakes": true,
           "showland": true,
           "subunitcolor": "white"
          },
          "hoverlabel": {
           "align": "left"
          },
          "hovermode": "closest",
          "mapbox": {
           "style": "light"
          },
          "paper_bgcolor": "white",
          "plot_bgcolor": "#E5ECF6",
          "polar": {
           "angularaxis": {
            "gridcolor": "white",
            "linecolor": "white",
            "ticks": ""
           },
           "bgcolor": "#E5ECF6",
           "radialaxis": {
            "gridcolor": "white",
            "linecolor": "white",
            "ticks": ""
           }
          },
          "scene": {
           "xaxis": {
            "backgroundcolor": "#E5ECF6",
            "gridcolor": "white",
            "gridwidth": 2,
            "linecolor": "white",
            "showbackground": true,
            "ticks": "",
            "zerolinecolor": "white"
           },
           "yaxis": {
            "backgroundcolor": "#E5ECF6",
            "gridcolor": "white",
            "gridwidth": 2,
            "linecolor": "white",
            "showbackground": true,
            "ticks": "",
            "zerolinecolor": "white"
           },
           "zaxis": {
            "backgroundcolor": "#E5ECF6",
            "gridcolor": "white",
            "gridwidth": 2,
            "linecolor": "white",
            "showbackground": true,
            "ticks": "",
            "zerolinecolor": "white"
           }
          },
          "shapedefaults": {
           "line": {
            "color": "#2a3f5f"
           }
          },
          "ternary": {
           "aaxis": {
            "gridcolor": "white",
            "linecolor": "white",
            "ticks": ""
           },
           "baxis": {
            "gridcolor": "white",
            "linecolor": "white",
            "ticks": ""
           },
           "bgcolor": "#E5ECF6",
           "caxis": {
            "gridcolor": "white",
            "linecolor": "white",
            "ticks": ""
           }
          },
          "title": {
           "x": 0.05
          },
          "xaxis": {
           "automargin": true,
           "gridcolor": "white",
           "linecolor": "white",
           "ticks": "",
           "zerolinecolor": "white",
           "zerolinewidth": 2
          },
          "yaxis": {
           "automargin": true,
           "gridcolor": "white",
           "linecolor": "white",
           "ticks": "",
           "zerolinecolor": "white",
           "zerolinewidth": 2
          }
         }
        },
        "xaxis": {
         "anchor": "y",
         "domain": [
          0,
          0.98
         ],
         "title": {
          "text": "PC1"
         }
        },
        "yaxis": {
         "anchor": "x",
         "domain": [
          0,
          1
         ],
         "title": {
          "text": "PC2"
         }
        }
       }
      }
     },
     "metadata": {},
     "output_type": "display_data"
    }
   ],
   "source": [
    "import plotly.express as px\n",
    "\n",
    "fig = px.scatter(df_pca, x='PC1', y='PC2', render_mode='svg')\n",
    "\n",
    "fig.show()"
   ]
  },
  {
   "cell_type": "code",
   "execution_count": 44,
   "id": "1da0d349",
   "metadata": {},
   "outputs": [
    {
     "data": {
      "text/html": [
       "<div>\n",
       "<style scoped>\n",
       "    .dataframe tbody tr th:only-of-type {\n",
       "        vertical-align: middle;\n",
       "    }\n",
       "\n",
       "    .dataframe tbody tr th {\n",
       "        vertical-align: top;\n",
       "    }\n",
       "\n",
       "    .dataframe thead th {\n",
       "        text-align: right;\n",
       "    }\n",
       "</style>\n",
       "<table border=\"1\" class=\"dataframe\">\n",
       "  <thead>\n",
       "    <tr style=\"text-align: right;\">\n",
       "      <th></th>\n",
       "      <th>999.8970106</th>\n",
       "      <th>1000.28298</th>\n",
       "      <th>1000.669047</th>\n",
       "      <th>1001.055413</th>\n",
       "      <th>1001.441976</th>\n",
       "      <th>1001.829039</th>\n",
       "      <th>1002.216201</th>\n",
       "      <th>1002.603862</th>\n",
       "      <th>1002.991623</th>\n",
       "      <th>1003.379885</th>\n",
       "      <th>...</th>\n",
       "      <th>2483.461389</th>\n",
       "      <th>2485.842505</th>\n",
       "      <th>2488.227573</th>\n",
       "      <th>2490.617843</th>\n",
       "      <th>2493.012709</th>\n",
       "      <th>2495.412185</th>\n",
       "      <th>2497.816284</th>\n",
       "      <th>2500.22502</th>\n",
       "      <th>Umidade</th>\n",
       "      <th>Protein</th>\n",
       "    </tr>\n",
       "  </thead>\n",
       "  <tbody>\n",
       "    <tr>\n",
       "      <th>count</th>\n",
       "      <td>65.000000</td>\n",
       "      <td>65.000000</td>\n",
       "      <td>65.000000</td>\n",
       "      <td>65.000000</td>\n",
       "      <td>65.000000</td>\n",
       "      <td>65.000000</td>\n",
       "      <td>65.000000</td>\n",
       "      <td>65.000000</td>\n",
       "      <td>65.000000</td>\n",
       "      <td>65.000000</td>\n",
       "      <td>...</td>\n",
       "      <td>65.000000</td>\n",
       "      <td>65.000000</td>\n",
       "      <td>65.000000</td>\n",
       "      <td>65.000000</td>\n",
       "      <td>65.000000</td>\n",
       "      <td>65.000000</td>\n",
       "      <td>65.000000</td>\n",
       "      <td>65.000000</td>\n",
       "      <td>65.000000</td>\n",
       "      <td>65.000000</td>\n",
       "    </tr>\n",
       "    <tr>\n",
       "      <th>mean</th>\n",
       "      <td>0.262450</td>\n",
       "      <td>0.263598</td>\n",
       "      <td>0.263188</td>\n",
       "      <td>0.262685</td>\n",
       "      <td>0.262942</td>\n",
       "      <td>0.262787</td>\n",
       "      <td>0.263007</td>\n",
       "      <td>0.262583</td>\n",
       "      <td>0.262511</td>\n",
       "      <td>0.263006</td>\n",
       "      <td>...</td>\n",
       "      <td>1.019769</td>\n",
       "      <td>1.021549</td>\n",
       "      <td>1.023116</td>\n",
       "      <td>1.023843</td>\n",
       "      <td>1.024174</td>\n",
       "      <td>1.024359</td>\n",
       "      <td>1.024523</td>\n",
       "      <td>1.024243</td>\n",
       "      <td>11.851231</td>\n",
       "      <td>14.114709</td>\n",
       "    </tr>\n",
       "    <tr>\n",
       "      <th>std</th>\n",
       "      <td>0.013381</td>\n",
       "      <td>0.013966</td>\n",
       "      <td>0.014161</td>\n",
       "      <td>0.013803</td>\n",
       "      <td>0.013159</td>\n",
       "      <td>0.013293</td>\n",
       "      <td>0.013934</td>\n",
       "      <td>0.014699</td>\n",
       "      <td>0.015194</td>\n",
       "      <td>0.014817</td>\n",
       "      <td>...</td>\n",
       "      <td>0.032673</td>\n",
       "      <td>0.032854</td>\n",
       "      <td>0.032833</td>\n",
       "      <td>0.032685</td>\n",
       "      <td>0.032748</td>\n",
       "      <td>0.032733</td>\n",
       "      <td>0.032808</td>\n",
       "      <td>0.032759</td>\n",
       "      <td>1.358467</td>\n",
       "      <td>2.029961</td>\n",
       "    </tr>\n",
       "    <tr>\n",
       "      <th>min</th>\n",
       "      <td>0.248124</td>\n",
       "      <td>0.247141</td>\n",
       "      <td>0.246445</td>\n",
       "      <td>0.247026</td>\n",
       "      <td>0.248580</td>\n",
       "      <td>0.248597</td>\n",
       "      <td>0.248738</td>\n",
       "      <td>0.246566</td>\n",
       "      <td>0.246000</td>\n",
       "      <td>0.246762</td>\n",
       "      <td>...</td>\n",
       "      <td>0.927884</td>\n",
       "      <td>0.928114</td>\n",
       "      <td>0.930028</td>\n",
       "      <td>0.930709</td>\n",
       "      <td>0.930913</td>\n",
       "      <td>0.930114</td>\n",
       "      <td>0.931235</td>\n",
       "      <td>0.932131</td>\n",
       "      <td>8.700000</td>\n",
       "      <td>10.664571</td>\n",
       "    </tr>\n",
       "    <tr>\n",
       "      <th>25%</th>\n",
       "      <td>0.252859</td>\n",
       "      <td>0.254145</td>\n",
       "      <td>0.254103</td>\n",
       "      <td>0.253420</td>\n",
       "      <td>0.253875</td>\n",
       "      <td>0.254010</td>\n",
       "      <td>0.253906</td>\n",
       "      <td>0.252606</td>\n",
       "      <td>0.251943</td>\n",
       "      <td>0.252630</td>\n",
       "      <td>...</td>\n",
       "      <td>0.998032</td>\n",
       "      <td>0.999681</td>\n",
       "      <td>1.000850</td>\n",
       "      <td>1.001571</td>\n",
       "      <td>1.002568</td>\n",
       "      <td>1.002324</td>\n",
       "      <td>1.002347</td>\n",
       "      <td>1.001487</td>\n",
       "      <td>11.000000</td>\n",
       "      <td>12.008979</td>\n",
       "    </tr>\n",
       "    <tr>\n",
       "      <th>50%</th>\n",
       "      <td>0.257334</td>\n",
       "      <td>0.258076</td>\n",
       "      <td>0.257427</td>\n",
       "      <td>0.256755</td>\n",
       "      <td>0.257451</td>\n",
       "      <td>0.257088</td>\n",
       "      <td>0.257091</td>\n",
       "      <td>0.256388</td>\n",
       "      <td>0.255814</td>\n",
       "      <td>0.256028</td>\n",
       "      <td>...</td>\n",
       "      <td>1.021560</td>\n",
       "      <td>1.024043</td>\n",
       "      <td>1.026266</td>\n",
       "      <td>1.026563</td>\n",
       "      <td>1.027050</td>\n",
       "      <td>1.027214</td>\n",
       "      <td>1.026543</td>\n",
       "      <td>1.025906</td>\n",
       "      <td>11.400000</td>\n",
       "      <td>13.885648</td>\n",
       "    </tr>\n",
       "    <tr>\n",
       "      <th>75%</th>\n",
       "      <td>0.264490</td>\n",
       "      <td>0.265769</td>\n",
       "      <td>0.265144</td>\n",
       "      <td>0.265251</td>\n",
       "      <td>0.264319</td>\n",
       "      <td>0.265047</td>\n",
       "      <td>0.265600</td>\n",
       "      <td>0.265346</td>\n",
       "      <td>0.264630</td>\n",
       "      <td>0.264989</td>\n",
       "      <td>...</td>\n",
       "      <td>1.042488</td>\n",
       "      <td>1.045070</td>\n",
       "      <td>1.046475</td>\n",
       "      <td>1.047099</td>\n",
       "      <td>1.047631</td>\n",
       "      <td>1.047026</td>\n",
       "      <td>1.047125</td>\n",
       "      <td>1.048571</td>\n",
       "      <td>11.800000</td>\n",
       "      <td>16.478555</td>\n",
       "    </tr>\n",
       "    <tr>\n",
       "      <th>max</th>\n",
       "      <td>0.297521</td>\n",
       "      <td>0.300073</td>\n",
       "      <td>0.300032</td>\n",
       "      <td>0.299144</td>\n",
       "      <td>0.299168</td>\n",
       "      <td>0.298542</td>\n",
       "      <td>0.299683</td>\n",
       "      <td>0.300385</td>\n",
       "      <td>0.300661</td>\n",
       "      <td>0.300363</td>\n",
       "      <td>...</td>\n",
       "      <td>1.089120</td>\n",
       "      <td>1.090794</td>\n",
       "      <td>1.091733</td>\n",
       "      <td>1.092713</td>\n",
       "      <td>1.094012</td>\n",
       "      <td>1.093522</td>\n",
       "      <td>1.093375</td>\n",
       "      <td>1.094220</td>\n",
       "      <td>14.500000</td>\n",
       "      <td>17.463849</td>\n",
       "    </tr>\n",
       "  </tbody>\n",
       "</table>\n",
       "<p>8 rows × 1559 columns</p>\n",
       "</div>"
      ],
      "text/plain": [
       "       999.8970106  1000.28298  1000.669047  1001.055413  1001.441976  \\\n",
       "count    65.000000   65.000000    65.000000    65.000000    65.000000   \n",
       "mean      0.262450    0.263598     0.263188     0.262685     0.262942   \n",
       "std       0.013381    0.013966     0.014161     0.013803     0.013159   \n",
       "min       0.248124    0.247141     0.246445     0.247026     0.248580   \n",
       "25%       0.252859    0.254145     0.254103     0.253420     0.253875   \n",
       "50%       0.257334    0.258076     0.257427     0.256755     0.257451   \n",
       "75%       0.264490    0.265769     0.265144     0.265251     0.264319   \n",
       "max       0.297521    0.300073     0.300032     0.299144     0.299168   \n",
       "\n",
       "       1001.829039  1002.216201  1002.603862  1002.991623  1003.379885  ...  \\\n",
       "count    65.000000    65.000000    65.000000    65.000000    65.000000  ...   \n",
       "mean      0.262787     0.263007     0.262583     0.262511     0.263006  ...   \n",
       "std       0.013293     0.013934     0.014699     0.015194     0.014817  ...   \n",
       "min       0.248597     0.248738     0.246566     0.246000     0.246762  ...   \n",
       "25%       0.254010     0.253906     0.252606     0.251943     0.252630  ...   \n",
       "50%       0.257088     0.257091     0.256388     0.255814     0.256028  ...   \n",
       "75%       0.265047     0.265600     0.265346     0.264630     0.264989  ...   \n",
       "max       0.298542     0.299683     0.300385     0.300661     0.300363  ...   \n",
       "\n",
       "       2483.461389  2485.842505  2488.227573  2490.617843  2493.012709  \\\n",
       "count    65.000000    65.000000    65.000000    65.000000    65.000000   \n",
       "mean      1.019769     1.021549     1.023116     1.023843     1.024174   \n",
       "std       0.032673     0.032854     0.032833     0.032685     0.032748   \n",
       "min       0.927884     0.928114     0.930028     0.930709     0.930913   \n",
       "25%       0.998032     0.999681     1.000850     1.001571     1.002568   \n",
       "50%       1.021560     1.024043     1.026266     1.026563     1.027050   \n",
       "75%       1.042488     1.045070     1.046475     1.047099     1.047631   \n",
       "max       1.089120     1.090794     1.091733     1.092713     1.094012   \n",
       "\n",
       "       2495.412185  2497.816284  2500.22502    Umidade    Protein  \n",
       "count    65.000000    65.000000   65.000000  65.000000  65.000000  \n",
       "mean      1.024359     1.024523    1.024243  11.851231  14.114709  \n",
       "std       0.032733     0.032808    0.032759   1.358467   2.029961  \n",
       "min       0.930114     0.931235    0.932131   8.700000  10.664571  \n",
       "25%       1.002324     1.002347    1.001487  11.000000  12.008979  \n",
       "50%       1.027214     1.026543    1.025906  11.400000  13.885648  \n",
       "75%       1.047026     1.047125    1.048571  11.800000  16.478555  \n",
       "max       1.093522     1.093375    1.094220  14.500000  17.463849  \n",
       "\n",
       "[8 rows x 1559 columns]"
      ]
     },
     "execution_count": 44,
     "metadata": {},
     "output_type": "execute_result"
    }
   ],
   "source": [
    "df_pretreat.describe()"
   ]
  },
  {
   "cell_type": "code",
   "execution_count": 14,
   "id": "34e4be4b",
   "metadata": {},
   "outputs": [],
   "source": [
    "# df_pretreat['class'] = 0\n",
    "# for index, row in df_pretreat.iterrows():\n",
    "#     if row['Umidade'] < 11:\n",
    "#         df_pretreat.loc[index, 'class'] = 0\n",
    "#     elif row['Umidade'] < 11.4:\n",
    "#         df_pretreat.loc[index, 'class'] = 1\n",
    "#     elif row['Umidade'] < 11.8:\n",
    "#         df_pretreat.loc[index, 'class'] = 2\n",
    "#     else:\n",
    "#         df_pretreat.loc[index, 'class'] = 3"
   ]
  },
  {
   "cell_type": "code",
   "execution_count": null,
   "id": "38748135",
   "metadata": {},
   "outputs": [],
   "source": [
    "# df_pretreat['class'] = 0\n",
    "# for index, row in df_pretreat.iterrows():\n",
    "#     if row['Umidade'] < 10.5:\n",
    "#         df_pretreat.loc[index, 'class'] = 0\n",
    "#     elif row['Umidade'] < 11.4:\n",
    "#         df_pretreat.loc[index, 'class'] = 1\n",
    "#     elif row['Umidade'] < 11.8:\n",
    "#         df_pretreat.loc[index, 'class'] = 2\n",
    "#     else:\n",
    "#         df_pretreat.loc[index, 'class'] = 3"
   ]
  },
  {
   "cell_type": "code",
   "execution_count": 36,
   "id": "42b3a08a",
   "metadata": {},
   "outputs": [
    {
     "data": {
      "text/plain": [
       "<seaborn.axisgrid.FacetGrid at 0x22b5736d910>"
      ]
     },
     "execution_count": 36,
     "metadata": {},
     "output_type": "execute_result"
    },
    {
     "data": {
      "image/png": "[encoded data removed]",
      "text/plain": [
       "<Figure size 360x360 with 1 Axes>"
      ]
     },
     "metadata": {
      "needs_background": "light"
     },
     "output_type": "display_data"
    }
   ],
   "source": [
    "import seaborn as sns\n",
    "sns.displot(df_pretreat['class'])"
   ]
  },
  {
   "cell_type": "code",
   "execution_count": 37,
   "id": "e8e2b137",
   "metadata": {},
   "outputs": [],
   "source": [
    "from sklearn.preprocessing import StandardScaler\n",
    "from sklearn.model_selection import train_test_split\n",
    "\n",
    "\n",
    "y = df_pretreat[['Umidade','Protein','class']]\n",
    "## Do not take the reference value and the class\n",
    "X = df_pretreat.values[:, :-2]\n",
    "X_train, X_test, y_train, y_test = train_test_split(X, y, test_size=0.25, random_state=0,stratify=y['class'])\n",
    "\n",
    "\n",
    "# col = [0,3,5,8,10,12,20,21,25,28,29,34,35,38,39,40,45,46,47,49,50,51,53,57,58,62,63,67,70,71,73,74,80,83,90,93,97,99,100,103,104,106,108,110,113,115,116,117,118,119,121,122,124,125,126,128,132,134,136,137,138,143,147,149,154,158,164,166,168,169,176,178,179,180,182,183,185,188,190,195,197,202,205,212,214,216,227,241,242,246,247,249,250,253,255,258,260,265,267,269,272,273,274,279,286,290,292,295,296,299,301,302,303,305,306,309,310,318,323,324,325,327,328,331,333,335,338,345,347,348,350,351,353,360,361,368,371,373,374,375,379,380,383,384,386,395,399,401,402,403,406,413,414,416,417,421,422,423,424,426,429,431,437,440,441,445,452,454,457,461,462,463,465,466,467,468,473,475,478,481,482,483,485,487,491,493,494,499,508,511,527,528,529,537,539,542,547,555,558,559,562,567,571,573,575,578,579,585,589,591,595,597,598,600,601,602,603,605,613,619,620,622,623,629,631,632,633,635,636,639,640,641,644,646,649,650,652,653,655,656,657,658,662,665,667,668,674,675,680,684,686,688,692,696,699,705,706,711,714,718,723,724,725,726,727,728,730,733,734,735,736,737,738,739,740,743,744,748,750,751,754,756,758,760,761,765,766,770,772,773,774,775,778,782,783,787,791,797,803,805,807,808,812,813,817,820,821,823,827,828,834,835,837,839,840,845,850,853,854,855,857,858,861,863,866,871,873,875,877,879,884,885,886,887,891,893,895,899,904,905,910,916,917,918,922,923,925,926,927,931,932,933,936,940,941,944,946,950,951,956,958,960,962,966,968,972,974,975,982,986,987,995,996,997,998,999,1001,1003,1010,1011,1013,1015,1016,1018,1020,1022,1024,1029,1031,1035,1040,1041,1043,1044,1045,1049,1058,1060,1064,1065,1066,1067,1068,1070,1071,1072,1079,1082,1084,1088,1090,1095,1096,1106,1110,1118,1125,1126,1128,1129,1130,1134,1135,1138,1144,1150,1152,1157,1158,1161,1164,1167,1168,1170,1172,1174,1176,1177,1180,1183,1185,1186,1187,1188,1191,1198,1199,1201,1203,1208,1209,1211,1215,1219,1223,1224,1225,1229,1232,1235,1242,1243,1244,1247,1248,1250,1256,1257,1261,1276,1277,1279,1280,1283,1287,1289,1291,1295,1298,1299,1301,1302,1306,1308,1310,1314,1315,1316,1320,1322,1323,1324,1326,1327,1328,1335,1336,1340,1345,1346,1348,1349,1351,1355,1356,1358,1362,1363,1364,1365,1368,1369,1374,1378,1379,1380,1383,1385,1387,1388,1391,1392,1393,1400,1407,1411,1412,1415,1417,1418,1423,1425,1428,1429,1431,1432,1433,1437,1443,1448,1449,1450,1451,1453,1457,1459,1461,1463,1468,1470,1472,1474,1475,1477,1481,1482,1486,1490,1491,1492,1495,1496,1498,1499,1502,1505,1506,1508,1509,1511,1512,1514,1515,1516,1518,1519,1521,1522,1531,1533,1536,1542,1543,1544,1546,1547,1549,1550,1553]\n",
    "# X_train = (np.delete(X_train, col,1))\n",
    "# X_test = (np.delete(X_test, col,1))\n",
    "\n",
    "# col = [0,   1,   2,   8,   9,  12,  15,  17,  18,  20,  21,  22,  24,\n",
    "#         31,  34,  36,  37,  39,  40,  41,  42,  44,  45,  46,  48,  50,\n",
    "#         52,  53,  54,  55,  58,  61,  65,  68,  71,  72,  75,  80,  81,\n",
    "#         82,  89,  90,  91,  92,  95,  98, 103, 106, 109, 112, 118, 122,\n",
    "#        124, 125, 128, 133, 135, 137, 139, 148, 149, 153, 155, 156, 158,\n",
    "#        161, 162, 167, 173, 174, 175, 176, 177, 178, 181, 183, 185, 186,\n",
    "#        187, 188, 192, 198, 199, 203, 210, 216, 217, 219, 221, 224, 225,\n",
    "#        228, 229, 231, 232, 238, 240, 242, 246, 247, 248, 252, 253, 254,\n",
    "#        257, 261, 268, 269, 270, 272, 273, 275, 277, 280, 282, 284, 286,\n",
    "#        287, 289, 293, 295, 296, 297, 300, 305, 306, 315, 316, 317, 318,\n",
    "#        319, 320, 325, 327, 332, 334, 336, 339, 342, 347, 351, 352, 353,\n",
    "#        356, 358, 360, 363, 365, 369, 373, 374, 375, 378, 379, 382, 386,\n",
    "#        387, 392, 393, 395, 403, 407, 411, 414, 416, 418, 427, 428, 429,\n",
    "#        434, 436, 440, 442, 444, 446, 449, 450, 451, 454, 457, 460, 464,\n",
    "#        465, 467, 469, 470, 473, 475, 476, 477, 478, 480, 481, 483, 487,\n",
    "#        491, 494, 497, 502, 504, 505, 506, 514, 516, 517, 518, 520, 522,\n",
    "#        523, 533, 535, 538, 541, 543, 544, 546, 547, 549, 550, 552, 558,\n",
    "#        560, 562, 564, 565, 567, 568, 569, 570, 571, 572, 574, 577, 578,\n",
    "#        580, 594, 597, 598, 602, 604, 607, 611, 613, 614, 616, 625, 627,\n",
    "#        628, 630, 631, 633, 634, 636, 640, 641, 642, 653, 670, 672, 675,\n",
    "#        676, 678, 679, 680, 683, 684, 686, 689, 692, 695, 696, 699, 701,\n",
    "#        703, 704, 705, 709, 710, 714, 715, 717, 718, 722, 723, 730, 736,\n",
    "#        739, 740, 742, 743, 745, 749, 752, 756, 759, 760, 766, 770, 775,\n",
    "#        777, 780, 784, 786, 794, 795, 797, 798, 800, 802, 804, 806, 807,\n",
    "#        810, 814, 818, 820, 826, 827, 828, 830, 832, 836, 838, 841, 846,\n",
    "#        848, 851, 852, 858, 859, 863, 866, 868, 872, 873, 875, 880, 883,\n",
    "#        884, 888, 889, 892, 893, 895, 899, 901, 906, 907, 910, 915, 921,\n",
    "#        924, 925, 928, 929, 931, 933, 934, 947, 954, 960, 965, 966]\n",
    "# X_train = (np.delete(X_train, col,1))\n",
    "# X_test = (np.delete(X_test, col,1))\n",
    "\n",
    "# col = [1,   2,   4,   6,   7,  11,  12,  13,  22,  24,  25,  26,  30,\n",
    "#         36,  42,  44,  51,  57,  61,  62,  64,  71,  72,  75,  78,  80,\n",
    "#         81,  84,  86,  89,  94,  95, 101, 105, 106, 110, 111, 113, 114,\n",
    "#        116, 117, 124, 125, 135, 136, 137, 140, 144, 146, 149, 152, 153,\n",
    "#        154, 156, 157, 158, 159, 161, 164, 167, 171, 176, 178, 181, 189,\n",
    "#        190, 192, 194, 200, 204, 208, 210, 211, 217, 222, 223, 224, 225,\n",
    "#        227, 228, 230, 232, 236, 237, 239, 242, 246, 247, 260, 262, 263,\n",
    "#        266, 267, 271, 273, 276, 283, 285, 292, 294, 296, 297, 298, 299,\n",
    "#        300, 301, 302, 306, 309, 316, 317, 319, 321, 324, 325, 334, 335,\n",
    "#        336, 338, 339, 342, 345, 346, 348, 350, 353, 354, 355, 356, 357,\n",
    "#        359, 364, 367, 370, 378, 380, 383, 384, 385, 387, 391, 392, 393,\n",
    "#        394, 395, 398, 399, 400, 405, 407, 409, 414, 417, 419, 434, 440,\n",
    "#        443, 444, 447, 449, 450, 451, 453, 456, 458, 461, 464, 465, 469,\n",
    "#        473, 475, 476, 480, 486, 490, 496, 497, 498, 499, 505, 512, 514,\n",
    "#        516, 518, 525, 528, 530, 536, 540, 542, 544, 545, 546, 557, 558,\n",
    "#        559, 568, 569, 571, 572, 578, 583, 584, 589, 595, 601]\n",
    "# X_train = (np.delete(X_train, col,1))\n",
    "# X_test = (np.delete(X_test, col,1))\n",
    "\n",
    "# col = [3,   4,   6,   7,  15,  20,  21,  26,  29,  32,  33,  35,  38,\n",
    "#         42,  43,  52,  53,  55,  62,  63,  66,  67,  68,  74,  76,  83,\n",
    "#         85,  92,  93,  96, 100, 108, 113, 116, 117, 119, 120, 121, 123,\n",
    "#        124, 126, 127, 129, 130, 133, 137, 138, 139, 142, 144, 147, 148,\n",
    "#        150, 152, 155, 162, 164, 165, 169, 170, 178, 186, 192, 197, 199,\n",
    "#        206, 209, 211, 213, 219, 227, 229, 230, 238, 240, 244, 245, 250,\n",
    "#        251, 255, 261, 263, 265, 266, 267, 271, 272, 273, 274, 277, 278,\n",
    "#        283, 289, 292, 296, 299, 301, 308, 309, 313, 315, 316, 318, 320,\n",
    "#        321, 323, 325, 329, 331, 341, 344, 353, 357, 365, 366, 369, 378,\n",
    "#        380, 389, 391, 394, 395, 397]\n",
    "# X_train = (np.delete(X_train, col,1))\n",
    "# X_test = (np.delete(X_test, col,1))\n",
    "# X_train_snv = msc(X_train)\n",
    "# X_#test_snv = msc(X_test)\n",
    "\n",
    "y_train_oleo = y_train['Umidade']\n",
    "\n",
    "\n",
    "y_test_oleo = y_test['Umidade']\n",
    "\n",
    "#X1 = savgol_filter(X_train, 23, polyorder=2, deriv=2)\n",
    "#X2 = savgol_filter(X_test, 23, polyorder=2, deriv=2)\n",
    "\n",
    "# X_train_snv = msc(X_train)\n",
    "# X_test_snv = msc(X_test)\n",
    "\n",
    "# mean centre correction\n",
    "#X_mc = mc(X1)\n",
    "\n",
    "##Standard Normal Variate\n",
    "\n",
    "# Xsnv = snv(X_train)"
   ]
  },
  {
   "cell_type": "code",
   "execution_count": 66,
   "id": "3fb0b9ac",
   "metadata": {},
   "outputs": [],
   "source": [
    "##SNV\n",
    "from sklearn.preprocessing import StandardScaler\n",
    "from sklearn.model_selection import train_test_split\n",
    "\n",
    "\n",
    "y = df_pretreat[['Umidade','Protein','class']]\n",
    "## Do not take the reference value and the class\n",
    "X = df_pretreat.values[:, :-2]\n",
    "X_train, X_test, y_train, y_test = train_test_split(X, y, test_size=0.25, random_state=0,stratify=y['class'])\n",
    "\n",
    "\n",
    "col = [1,4,11,12,14,16,18,21,23,27,30,31,32,33,34,36,38,40,41,44,45,46,49,52,53,55,56,57,65,67,68,69,71,72,73,75,82,84,85,94,97,98,104,106,111,116,119,120,121,122,126,129,130,133,134,135,144,147,149,153,155,157,161,162,164,165,167,168,170,171,172,174,175,179,180,182,183,184,185,187,189,191,192,193,196,197,198,200,201,202,204,205,207,208,209,211,212,215,217,218,219,222,223,225,226,232,234,235,237,238,241,243,244,247,250,253,254,255,256,258,260,262,264,265,267,270,271,275,278,280,284,288,290,293,295,296,297,298,300,302,303,306,309,311,313,314,316,318,319,320,322,324,325,328,329,330,332,334,335,343,345,346,347,349,351,354,355,356,358,360,364,365,366,369,370,372,373,374,375,376,377,378,382,386,388,389,390,391,394,395,397,401,403,407,408,410,411,413,415,417,418,419,420,421,424,425,426,428,429,431,432,433,435,436,438,439,440,441,442,445,447,448,451,454,455,456,459,460,462,463,465,466,467,468,472,473,475,480,481,482,484,485,488,489,491,493,496,497,498,500,501,503,507,511,512,513,514,515,520,521,525,528,530,531,534,536,539,540,541,544,545,547,553,554,555,556,557,562,563,564,565,567,568,569,570,571,572,577,581,582,583,585,587,588,589,591,592,596,597,599,600,601,602,603,606,608,609,610,612,613,614,618,620,622,625,626,630,631,633,635,637,638,641,644,646,648,650,651,652,653,657,658,659,662,664,666,671,672,673,676,677,678,680,681,685,686,687,688,691,696,697,700,701,703,707,709,713,714,715,716,717,718,721,723,729,730,733,735,736,740,744,745,748,750,751,754,756,760,763,764,767,768,773,776,777,778,779,781,783,784,785,786,787,789,790,794,796,799,800,801,806,809,810,811,814,815,816,821,827,829,831,832,836,837,841,843,844,845,846,849,858,861,862,864,866,867,868,869,870,874,876,880,881,882,883,886,890,893,897,898,899,900,904,905,909,911,913,918,920,925,926,929,931,933,934,938,941,942,944,945,946,947,952,954,956,958,960,961,964,967,970,971,972,975,978,980,981,982,985,987,988,989,994,995,996,997,1001,1003,1004,1005,1009,1011,1012,1016,1017,1019,1023,1028,1029,1031,1033,1034,1037,1038,1039,1045,1049,1052,1053,1054,1056,1057,1058,1059,1060,1062,1064,1065,1068,1069,1073,1076,1079,1081,1089,1090,1091,1094,1096,1098,1099,1100,1101,1103,1104,1106,1109,1110,1112,1116,1117,1122,1123,1124,1127,1129,1130,1131,1135,1136,1138,1139,1143,1150,1151,1153,1156,1160,1161,1162,1163,1164,1166,1168,1169,1172,1174,1175,1176,1181,1183,1186,1190,1191,1194,1196,1198,1199,1200,1202,1205,1207,1211,1212,1213,1214,1215,1216,1218,1219,1220,1221,1222,1223,1224,1226,1227,1228,1229,1230,1232,1235,1236,1237,1238,1239,1241,1242,1246,1248,1250,1252,1255,1257,1258,1259,1262,1263,1265,1270,1274,1275,1276,1277,1282,1287,1288,1289,1290,1294,1296,1298,1300,1304,1307,1308,1310,1311,1312,1313,1315,1318,1321,1323,1326,1327,1330,1332,1339,1340,1343,1344,1347,1348,1349,1351,1352,1354,1355,1356,1357,1359,1360,1361,1367,1368,1369,1371,1372,1375,1376,1377,1378,1380,1381,1385,1390,1391,1392,1393,1394,1395,1396,1398,1401,1405,1408,1409,1413,1416,1418,1419,1420,1426,1427,1433,1434,1437,1440,1441,1442,1444,1445,1448,1449,1450,1452,1455,1457,1458,1459,1461,1466,1467,1469,1470,1472,1473,1477,1478,1481,1483,1486,1490,1491,1492,1493,1494,1497,1498,1499,1501,1503,1505,1506,1507,1508,1512,1513,1514,1516,1517,1521,1527,1529,1532,1535,1537,1539,1541,1542,1543,1547,1548,1550,1553,1555]\n",
    "X_train = (np.delete(X_train, col,1))\n",
    "X_test = (np.delete(X_test, col,1))\n",
    "\n",
    "col = [ 1,   2,   3,   4,   6,  10,  11,  15,  16,  18,  20,  21,  22,\n",
    "        23,  24,  26,  27,  29,  31,  32,  33,  35,  37,  39,  40,  44,\n",
    "        48,  52,  57,  59,  60,  62,  63,  67,  69,  70,  72,  76,  77,\n",
    "        78,  79,  83,  84,  87,  88,  89,  90,  91,  92,  93,  95,  98,\n",
    "        99, 103, 106, 107, 112, 115, 116, 119, 121, 122, 123, 124, 125,\n",
    "       128, 130, 131, 132, 133, 134, 136, 137, 138, 140, 144, 149, 156,\n",
    "       159, 164, 171, 172, 173, 175, 176, 177, 178, 179, 180, 181, 182,\n",
    "       184, 185, 186, 188, 189, 191, 192, 194, 195, 196, 199, 200, 205,\n",
    "       206, 207, 208, 210, 211, 212, 214, 215, 216, 217, 220, 221, 223,\n",
    "       226, 228, 229, 230, 231, 233, 235, 236, 242, 245, 246, 247, 249,\n",
    "       250, 251, 253, 255, 261, 263, 264, 265, 270, 271, 273, 274, 275,\n",
    "       280, 281, 282, 284, 285, 289, 293, 295, 306, 307, 312, 313, 316,\n",
    "       319, 321, 323, 328, 329, 330, 331, 338, 339, 340, 342, 343, 344,\n",
    "       345, 346, 347, 349, 352, 355, 356, 357, 359, 361, 367, 371, 372,\n",
    "       377, 378, 384, 388, 389, 394, 395, 397, 398, 399, 400, 405, 406,\n",
    "       407, 409, 410, 418, 424, 425, 426, 428, 430, 431, 435, 436, 437,\n",
    "       438, 439, 440, 442, 443, 446, 449, 451, 453, 454, 455, 457, 459,\n",
    "       460, 463, 464, 466, 468, 474, 475, 476, 478, 479, 481, 482, 488,\n",
    "       489, 490, 491, 495, 497, 503, 504, 505, 506, 507, 508, 510, 513,\n",
    "       516, 517, 518, 520, 521, 523, 525, 527, 529, 534, 536, 537, 541,\n",
    "       544, 545, 546, 547, 548, 549, 551, 552, 555, 559, 560, 561, 563,\n",
    "       564, 565, 566, 573, 574, 575, 576, 577, 579, 580, 581, 583, 587,\n",
    "       592, 593, 594, 602, 603, 604, 607, 608, 609, 612, 614, 615, 617,\n",
    "       620, 621, 624, 628, 629, 630, 636, 640, 642, 646, 647, 648, 650,\n",
    "       651, 654, 656, 657, 658, 660, 668, 671, 674, 675, 677, 678, 680,\n",
    "       681, 684, 686, 687, 688, 689, 690, 691, 692, 694, 695, 696, 698,\n",
    "       699, 708, 710, 711, 714, 715, 716, 717, 719, 721, 722, 724, 727,\n",
    "       732, 733, 737, 740, 742, 743, 749, 752, 755, 756, 758, 759, 760,\n",
    "       761, 763, 764, 767, 770, 771, 776, 777, 778, 780, 781, 782, 788,\n",
    "       789, 790, 791, 792, 795]\n",
    "X_train = (np.delete(X_train, col,1))\n",
    "X_test = (np.delete(X_test, col,1))\n",
    "\n",
    "col = [5,   8,  10,  11,  13,  14,  22,  23,  25,  27,  28,  29,  30,\n",
    "        33,  34,  36,  40,  42,  44,  45,  46,  50,  52,  55,  56,  57,\n",
    "        59,  60,  64,  66,  67,  68,  71,  72,  73,  74,  81,  82,  84,\n",
    "        86,  90,  92,  94,  99, 100, 102, 103, 105, 108, 113, 114, 118,\n",
    "       120, 122, 124, 129, 132, 134, 136, 137, 139, 140, 141, 148, 150,\n",
    "       156, 160, 163, 174, 176, 180, 182, 183, 186, 187, 189, 190, 192,\n",
    "       194, 197, 205, 211, 212, 216, 218, 220, 223, 225, 227, 229, 230,\n",
    "       233, 239, 240, 242, 245, 255, 256, 257, 260, 264, 266, 267, 272,\n",
    "       274, 278, 283, 286, 288, 292, 293, 296, 297, 301, 305, 306, 307,\n",
    "       310, 311, 312, 319, 321, 323, 326, 327, 328, 329, 331, 334, 337,\n",
    "       341, 342, 344, 348, 349, 351, 352, 353, 358, 359, 360, 363, 364,\n",
    "       366, 367, 370, 371, 373, 374, 376, 377, 380, 383, 384, 387, 388,\n",
    "       392, 393, 395, 396, 398, 399, 400, 405, 411, 416]\n",
    "X_train = (np.delete(X_train, col,1))\n",
    "X_test = (np.delete(X_test, col,1))\n",
    "\n",
    "col = [0,  13,  15,  16,  20,  21,  22,  23,  27,  29,  30,  31,  32,\n",
    "        37,  41,  47,  48,  50,  58,  60,  62,  63,  64,  66,  69,  70,\n",
    "        73,  79,  84,  87,  89, 105, 106, 109, 110, 114, 119, 122, 124,\n",
    "       127, 129, 136, 137, 141, 142, 143, 144, 146, 151, 155, 158, 160,\n",
    "       163, 165, 167, 169, 170, 177, 185, 186, 188, 189, 192, 199, 204,\n",
    "       209, 211, 220, 224, 225, 231, 234, 238, 239, 241, 242, 244, 245,\n",
    "       251]\n",
    "X_train = (np.delete(X_train, col,1))\n",
    "X_test = (np.delete(X_test, col,1))\n",
    "\n",
    "col = [1,   2,   4,  10,  16,  23,  24,  27,  28,  31,  36,  37,  38,\n",
    "        39,  46,  47,  48,  50,  55,  57,  60,  65,  66,  70,  72,  76,\n",
    "        77,  79,  88,  89,  93,  98,  99, 100, 101, 105, 107, 120, 121,\n",
    "       129, 137, 141, 142, 144, 154, 161, 164, 170]\n",
    "X_train = (np.delete(X_train, col,1))\n",
    "X_test = (np.delete(X_test, col,1))\n",
    "\n",
    "col = [0,   9,  13,  16,  22,  33,  39,  51,  56,  59,  65,  73,  75,\n",
    "        80,  82,  84,  85,  86,  94,  97, 102, 108, 109, 110, 111, 114,\n",
    "       121]\n",
    "X_train = (np.delete(X_train, col,1))\n",
    "X_test = (np.delete(X_test, col,1))\n",
    "\n",
    "col = [7, 12, 17, 21, 23, 27, 30, 31, 34, 47, 50, 59, 62, 66, 70, 80]\n",
    "X_train = (np.delete(X_train, col,1))\n",
    "X_test = (np.delete(X_test, col,1))\n",
    "\n",
    "\n",
    "#X_train_snv = msc(X_train)\n",
    "#X_test_snv = msc(X_test)\n",
    "\n",
    "y_train_oleo = y_train['Umidade']\n",
    "\n",
    "\n",
    "y_test_oleo = y_test['Umidade']\n",
    "\n",
    "#X1 = savgol_filter(X_train, 23, polyorder=2, deriv=2)\n",
    "#X2 = savgol_filter(X_test, 23, polyorder=2, deriv=2)\n",
    "\n",
    "# X_train_snv = msc(X_train)\n",
    "# X_test_snv = msc(X_test)\n",
    "\n",
    "# mean centre correction\n",
    "#X_mc = mc(X1)\n",
    "\n",
    "##Standard Normal Variate\n",
    "\n",
    "# Xsnv = snv(X_train)"
   ]
  },
  {
   "cell_type": "code",
   "execution_count": 155,
   "id": "9010f7ad",
   "metadata": {},
   "outputs": [],
   "source": [
    "##sans pretraitement\n",
    "from sklearn.preprocessing import StandardScaler\n",
    "from sklearn.model_selection import train_test_split\n",
    "\n",
    "\n",
    "y = df_pretreat[['Umidade','Protein','class']]\n",
    "## Do not take the reference value and the class\n",
    "X = df_pretreat.values[:, :-2]\n",
    "X_train, X_test, y_train, y_test = train_test_split(X, y, test_size=0.25, random_state=0,stratify=y['class'])\n",
    "\n",
    "\n",
    "col = [1,5,11,15,19,20,21,22,27,30,32,34,35,36,37,38,39,43,45,48,52,55,56,59,60,61,66,67,68,71,72,76,80,85,86,88,90,91,93,94,95,97,99,100,102,104,105,107,110,114,115,118,120,123,127,128,129,130,131,133,134,142,143,144,147,151,152,155,157,158,160,161,164,165,166,167,168,169,171,176,179,181,184,185,186,187,188,189,199,200,210,211,220,221,222,228,230,232,234,236,239,240,241,245,246,247,252,253,256,257,260,261,263,265,266,268,269,272,273,275,277,280,283,285,287,290,291,293,295,298,301,303,308,310,311,314,317,319,328,331,334,341,342,349,350,351,353,355,357,358,359,360,362,368,372,377,378,379,380,383,385,388,389,390,394,401,403,407,408,410,414,418,420,422,423,425,427,428,430,431,433,434,436,438,441,447,448,454,459,465,467,471,472,475,476,481,484,485,487,489,491,493,494,495,503,505,507,509,511,513,515,516,518,519,520,522,527,528,530,534,535,536,542,544,546,552,559,567,578,581,585,589,590,601,602,614,615,616,617,618,619,620,622,623,624,625,627,630,633,634,636,637,642,645,647,653,657,658,659,661,662,663,664,666,668,669,674,683,686,688,692,694,696,698,703,706,709,710,713,715,720,721,725,726,727,728,729,730,731,733,734,736,737,739,741,742,744,746,750,755,756,761,763,765,773,774,778,779,780,781,785,786,788,790,794,795,796,797,798,801,805,813,814,817,818,819,820,829,830,832,833,834,835,837,845,846,848,849,850,851,854,855,857,859,861,863,865,868,871,873,876,878,879,880,887,888,889,896,900,903,904,907,911,912,914,918,919,928,930,932,937,942,944,946,948,950,952,953,958,961,964,968,971,978,981,984,988,989,990,994,996,999,1002,1003,1005,1010,1013,1014,1017,1020,1023,1028,1030,1033,1036,1039,1040,1041,1043,1044,1047,1048,1049,1051,1053,1055,1061,1064,1065,1071,1075,1078,1081,1083,1084,1086,1088,1090,1095,1101,1103,1110,1111,1115,1118,1120,1121,1125,1132,1135,1136,1142,1144,1147,1151,1154,1155,1156,1158,1162,1163,1164,1167,1171,1172,1173,1174,1175,1177,1182,1187,1191,1195,1197,1202,1203,1207,1210,1213,1225,1229,1232,1234,1235,1236,1237,1240,1242,1243,1251,1252,1254,1255,1258,1261,1264,1270,1271,1273,1274,1275,1276,1278,1282,1284,1286,1287,1288,1290,1296,1299,1300,1301,1303,1305,1306,1307,1308,1310,1311,1314,1318,1319,1321,1323,1324,1326,1327,1329,1332,1334,1335,1336,1345,1348,1353,1357,1358,1362,1364,1365,1370,1373,1377,1380,1382,1384,1388,1390,1392,1398,1399,1404,1407,1408,1411,1412,1413,1414,1416,1417,1420,1422,1423,1426,1431,1437,1438,1439,1445,1447,1448,1449,1454,1456,1460,1461,1462,1463,1464,1465,1469,1474,1476,1478,1480,1481,1484,1488,1498,1499,1503,1504,1506,1507,1508,1511,1516,1517,1518,1520,1521,1522,1523,1526,1531,1532,1539,1540,1541,1544,1546,1550,1551,1555]\n",
    "X_train = (np.delete(X_train, col,1))\n",
    "X_test = (np.delete(X_test, col,1))\n",
    "\n",
    "col = [ 2,   7,   9,  12,  13,  22,  23,  25,  28,  30,  35,  43,  45,\n",
    "        46,  56,  64,  65,  71,  76,  82,  83,  86,  87,  90,  93,  98,\n",
    "       103, 106, 108, 109, 115, 116, 126, 127, 133, 136, 137, 139, 140,\n",
    "       143, 149, 150, 156, 161, 162, 164, 168, 170, 171, 173, 175, 177,\n",
    "       180, 181, 183, 184, 189, 190, 198, 205, 210, 213, 216, 217, 218,\n",
    "       224, 226, 227, 231, 234, 236, 237, 241, 244, 245, 247, 249, 250,\n",
    "       252, 253, 255, 256, 257, 258, 261, 265, 266, 267, 273, 275, 277,\n",
    "       278, 280, 282, 283, 285, 286, 288, 289, 290, 291, 292, 295, 297,\n",
    "       298, 300, 302, 306, 310, 312, 316, 317, 319, 321, 324, 329, 332,\n",
    "       336, 339, 344, 345, 347, 348, 349, 352, 354, 355, 356, 359, 360,\n",
    "       361, 362, 365, 369, 375, 379, 381, 383, 386, 387, 389, 390, 392,\n",
    "       393, 394, 403, 404, 410, 414, 416, 418, 420, 422, 425, 432, 433,\n",
    "       434, 438, 441, 442, 443, 445, 446, 447, 453, 456, 459, 461, 467,\n",
    "       468, 470, 471, 472, 476, 480, 481, 490, 491, 492, 493, 496, 498,\n",
    "       499, 500, 505, 506, 508, 509, 511, 512, 515, 517, 524, 525, 526,\n",
    "       532, 533, 535, 536, 538, 539, 541, 542, 543, 544, 547, 549, 551,\n",
    "       552, 553, 556, 559, 560, 561, 565, 566, 567, 570, 572, 577, 579,\n",
    "       581, 583, 586, 587, 590, 594, 597, 602, 603, 604, 607, 608, 612,\n",
    "       615, 616, 622, 628, 638, 639, 644, 645, 646, 650, 653, 655, 657,\n",
    "       658, 659, 668, 669, 671, 673, 674, 675, 677, 678, 679, 682, 685,\n",
    "       691, 692, 693, 698, 700, 701, 702, 704, 705, 706, 707, 708, 712,\n",
    "       714, 718, 723, 728, 729, 730, 732, 739, 740, 741, 743, 749, 750,\n",
    "       751, 752, 753, 754, 758, 759, 762, 764, 766, 772, 779, 780, 782,\n",
    "       784, 786, 789, 791, 798, 799, 807, 809, 812, 818, 822, 826, 840,\n",
    "       841, 843, 846, 848, 849, 854, 860, 861, 868, 870, 873, 874, 884,\n",
    "       887, 889, 890, 896, 898, 899, 900, 901, 903, 904, 905, 910, 913,\n",
    "       915, 917, 921, 923, 926, 927, 930, 932, 933, 941, 946, 950]\n",
    "X_train = (np.delete(X_train, col,1))\n",
    "X_test = (np.delete(X_test, col,1))\n",
    "\n",
    "col = [0,   2,   4,   7,   9,  10,  11,  16,  20,  21,  28,  30,  34,\n",
    "        35,  36,  37,  40,  43,  46,  47,  48,  50,  52,  53,  56,  57,\n",
    "        59,  64,  66,  67,  72,  73,  87,  89,  93,  96, 103, 106, 112,\n",
    "       114, 115, 116, 117, 118, 119, 121, 124, 125, 126, 129, 134, 136,\n",
    "       137, 141, 144, 149, 150, 158, 160, 161, 164, 172, 180, 181, 186,\n",
    "       187, 190, 194, 196, 197, 205, 207, 211, 215, 216, 223, 224, 225,\n",
    "       226, 233, 234, 236, 237, 242, 252, 255, 257, 258, 259, 263, 265,\n",
    "       267, 270, 271, 272, 273, 275, 281, 282, 284, 287, 288, 289, 290,\n",
    "       295, 298, 300, 302, 303, 306, 307, 313, 314, 315, 319, 322, 323,\n",
    "       324, 325, 330, 332, 333, 338, 339, 350, 351, 352, 353, 354, 357,\n",
    "       361, 365, 368, 371, 377, 386, 389, 391, 393, 404, 405, 410, 412,\n",
    "       413, 419, 423, 424, 427, 430, 433, 436, 438, 441, 442, 444, 447,\n",
    "       451, 457, 460, 462, 465, 466, 470, 472, 474, 476, 479, 481, 484,\n",
    "       486, 488, 496, 497, 499, 501, 505, 506, 508, 510, 511, 514, 516,\n",
    "       519, 522, 524, 525, 526, 528, 529, 533, 535, 537, 538, 539, 542,\n",
    "       547, 557, 559, 561, 563, 567, 571, 572, 574, 578, 582, 589, 590,\n",
    "       594, 595, 596, 598]\n",
    "X_train = (np.delete(X_train, col,1))\n",
    "X_test = (np.delete(X_test, col,1))\n",
    "\n",
    "col = [ 5,   9,  11,  13,  14,  15,  18,  19,  22,  25,  27,  29,  30,\n",
    "        31,  40,  41,  43,  44,  45,  50,  51,  52,  56,  62,  64,  65,\n",
    "        70,  73,  75,  77,  79,  80,  84,  87,  92,  93,  96, 104, 107,\n",
    "       108, 114, 115, 119, 121, 123, 125, 127, 129, 133, 140, 143, 146,\n",
    "       149, 152, 153, 155, 164, 166, 168, 172, 175, 179, 180, 181, 185,\n",
    "       188, 193, 198, 199, 200, 202, 203, 207, 213, 214, 218, 219, 224,\n",
    "       229, 230, 233, 240, 243, 245, 246, 247, 249, 253, 264, 267, 269,\n",
    "       275, 276, 277, 278, 279, 283, 284, 289, 291, 292, 296, 297, 298,\n",
    "       301, 304, 305, 310, 312, 317, 319, 321, 328, 330, 331, 332, 342,\n",
    "       343, 346, 351, 358, 363, 364, 366, 369, 370, 372, 374, 375, 381,\n",
    "       382]\n",
    "X_train = (np.delete(X_train, col,1))\n",
    "X_test = (np.delete(X_test, col,1))\n",
    "\n",
    "col = [5,  11,  23,  27,  28,  30,  35,  36,  38,  39,  43,  47,  53,\n",
    "        55,  56,  61,  63,  70,  72,  81,  85,  94, 100, 105, 106, 107,\n",
    "       109, 114, 120, 123, 129, 131, 136, 141, 144, 147, 150, 152, 153,\n",
    "       159, 162, 163, 168, 172, 173, 178, 179, 181, 183, 185, 189, 190,\n",
    "       192, 202, 213, 214, 220, 222, 227, 229, 231, 233, 234, 236, 239,\n",
    "       240, 241, 242, 245, 248, 256]\n",
    "X_train = (np.delete(X_train, col,1))\n",
    "X_test = (np.delete(X_test, col,1))\n",
    "\n",
    "col = [ 0,   1,   5,  18,  25,  30,  35,  40,  42,  44,  45,  62,  65,\n",
    "        66,  68,  75,  87,  90,  94, 112, 113, 114, 120, 122, 126, 128,\n",
    "       130, 131, 137, 139, 142, 148, 151, 154, 158, 160, 162, 165, 168,\n",
    "       170, 171, 172, 181, 186]\n",
    "X_train = (np.delete(X_train, col,1))\n",
    "X_test = (np.delete(X_test, col,1))\n",
    "\n",
    "col = [19,  27,  33,  36,  39,  43,  44,  53,  55,  58,  61,  62,  64,\n",
    "        65,  67,  74,  75,  77,  78,  91,  97, 103, 109, 110, 114, 126,\n",
    "       134, 142]\n",
    "X_train = (np.delete(X_train, col,1))\n",
    "X_test = (np.delete(X_test, col,1))\n",
    "\n",
    "col = [ 5,  9, 10, 13, 22, 36, 38, 39, 42, 48, 55, 65, 66, 71, 72, 83, 89,\n",
    "       94]\n",
    "X_train = (np.delete(X_train, col,1))\n",
    "X_test = (np.delete(X_test, col,1))\n",
    "\n",
    "col = [ 8, 11, 13, 21, 23, 34, 37, 38, 49, 51, 62, 63, 67, 78, 80, 82, 89]\n",
    "X_train = (np.delete(X_train, col,1))\n",
    "X_test = (np.delete(X_test, col,1))\n",
    "\n",
    "col = [ 4, 12, 16, 24, 27, 34, 42, 62, 68, 75]\n",
    "X_train = (np.delete(X_train, col,1))\n",
    "X_test = (np.delete(X_test, col,1))\n",
    "\n",
    "col = [ 2, 12, 28, 40, 43, 48, 63, 64]\n",
    "X_train = (np.delete(X_train, col,1))\n",
    "X_test = (np.delete(X_test, col,1))\n",
    "\n",
    "col = [ 4, 25, 43, 46, 47, 49, 61]\n",
    "X_train = (np.delete(X_train, col,1))\n",
    "X_test = (np.delete(X_test, col,1))\n",
    "\n",
    "col = [ 1,  4,  5, 29, 31, 34, 55]\n",
    "X_train = (np.delete(X_train, col,1))\n",
    "X_test = (np.delete(X_test, col,1))\n",
    "\n",
    "col = [12, 48]\n",
    "X_train = (np.delete(X_train, col,1))\n",
    "X_test = (np.delete(X_test, col,1))\n",
    "\n",
    "col = [16, 20, 46]\n",
    "X_train = (np.delete(X_train, col,1))\n",
    "X_test = (np.delete(X_test, col,1))\n",
    "\n",
    "col = [4, 23, 36]\n",
    "X_train = (np.delete(X_train, col,1))\n",
    "X_test = (np.delete(X_test, col,1))\n",
    "\n",
    "col = [8, 14]\n",
    "X_train = (np.delete(X_train, col,1))\n",
    "X_test = (np.delete(X_test, col,1))\n",
    "\n",
    "col = [2,  5, 12]\n",
    "X_train = (np.delete(X_train, col,1))\n",
    "X_test = (np.delete(X_test, col,1))\n",
    "\n",
    "\n",
    "\n",
    "\n",
    "#X_train_snv = msc(X_train)\n",
    "#X_test_snv = msc(X_test)\n",
    "\n",
    "y_train_oleo = y_train['Umidade']\n",
    "\n",
    "\n",
    "y_test_oleo = y_test['Umidade']\n",
    "\n",
    "#X1 = savgol_filter(X_train, 23, polyorder=2, deriv=2)\n",
    "#X2 = savgol_filter(X_test, 23, polyorder=2, deriv=2)\n",
    "\n",
    "# X_train_snv = msc(X_train)\n",
    "# X_test_snv = msc(X_test)\n",
    "\n",
    "# mean centre correction\n",
    "#X_mc = mc(X1)\n",
    "\n",
    "##Standard Normal Variate\n",
    "\n",
    "# Xsnv = snv(X_train)"
   ]
  },
  {
   "cell_type": "code",
   "execution_count": 157,
   "id": "361f8e21",
   "metadata": {},
   "outputs": [
    {
     "name": "stderr",
     "output_type": "stream",
     "text": [
      "2023-05-02 16:45:32,738 - pyswarms.discrete.binary - INFO - Optimize for 100 iters with {'c1': 2, 'c2': 2, 'w': 0.9, 'k': 20, 'p': 2}\n",
      "pyswarms.discrete.binary: 100%|██████████|100/100, best_cost=1.18e-6\n",
      "2023-05-02 16:51:26,973 - pyswarms.discrete.binary - INFO - Optimization finished | best cost: 1.1780592794519151e-06, best pos: [1 1 1 1 1 1 1 1 1 1 1 1 1 1 1 1 1 1 1 1 1 1 1 1 1 1 1 1 1 1 1 1 1 1 1 1 1]\n"
     ]
    }
   ],
   "source": [
    "# Import PySwarms\n",
    "import pyswarms as ps\n",
    "\n",
    "# Initialize swarm, arbitrary\n",
    "options = {'c1': 2, 'c2': 2, 'w':0.9, 'k': 20, 'p':2}\n",
    "\n",
    "# Call instance of PSO\n",
    "dimensions = X_train.shape[1] # dimensions should be the number of features\n",
    "\n",
    "optimizer = ps.discrete.BinaryPSO(n_particles=20, dimensions=dimensions, options=options)\n",
    "\n",
    "# Perform optimization\n",
    "cost, pos = optimizer.optimize(f, iters=100, verbose=2)\n",
    "optimizer.reset()"
   ]
  },
  {
   "cell_type": "code",
   "execution_count": 158,
   "id": "a84219fb",
   "metadata": {},
   "outputs": [
    {
     "data": {
      "text/plain": [
       "array([], dtype=int64)"
      ]
     },
     "execution_count": 158,
     "metadata": {},
     "output_type": "execute_result"
    }
   ],
   "source": [
    "np.where(pos == 0)[0]"
   ]
  },
  {
   "cell_type": "code",
   "execution_count": 81,
   "id": "2879d3da",
   "metadata": {},
   "outputs": [],
   "source": [
    "with open(\"Col_to_delete_2023-05-02_Wheat_moisture_X.txt\", \"w\") as txt_file:\n",
    "    for line in np.where(pos == 0)[0]:\n",
    "        txt_file.write(str(line)+',')"
   ]
  },
  {
   "cell_type": "code",
   "execution_count": 40,
   "id": "935f3bb4",
   "metadata": {},
   "outputs": [
    {
     "data": {
      "text/plain": [
       "(48, 277)"
      ]
     },
     "execution_count": 40,
     "metadata": {},
     "output_type": "execute_result"
    }
   ],
   "source": [
    "X.shape"
   ]
  },
  {
   "cell_type": "code",
   "execution_count": 156,
   "id": "aef1f3ab",
   "metadata": {},
   "outputs": [
    {
     "name": "stdout",
     "output_type": "stream",
     "text": [
      "N comp:  8\n",
      "N Wave:  (48, 37)\n",
      "R2CV:  0.9999987850447042\n",
      "RMSECV:  0.0014802944767765267\n",
      "RMSE test:  0.001812410221015953\n"
     ]
    }
   ],
   "source": [
    "ls_score_pls = []\n",
    "n_opt = 8\n",
    "for i in range(3,9):\n",
    "    pls_simple = PLSRegression(n_components=i)\n",
    "    cv = LeaveOneOut()\n",
    "    #cv = 10\n",
    "\n",
    "    X1 = X_train \n",
    "    #X1 = X_train[:,pos==1] \n",
    "\n",
    "    X2 = X_test\n",
    "    #X2 = X_test[:,pos==1] \n",
    "\n",
    "\n",
    "    # Fit\n",
    "    pls_simple.fit(X1, y_train_oleo)\n",
    "\n",
    "\n",
    "    # Cross-validation\n",
    "    y_cv = cross_val_predict(pls_simple,X1, y_train_oleo, cv=cv)\n",
    "    y_pred = pls_simple.predict(X2)\n",
    "    score = r2_score(y_train_oleo, y_cv)\n",
    "    if ls_score_pls:\n",
    "        if score< ls_score_pls[-1] and i>4:\n",
    "            n_opt =  i-1\n",
    "            break\n",
    "\n",
    "    ls_score_pls.append(score)\n",
    "\n",
    "pls_simple = PLSRegression(n_components=n_opt)\n",
    "cv = LeaveOneOut()\n",
    "# cv = 10\n",
    "\n",
    "X1 = X_train \n",
    "#X1 = X_train[:,pos==1] \n",
    "\n",
    "X2 = X_test\n",
    "#X2 = X_test[:,pos==1] \n",
    "\n",
    "\n",
    "# Fit\n",
    "pls_simple.fit(X1, y_train_oleo)\n",
    "\n",
    "\n",
    "# Cross-validation\n",
    "y_cv = cross_val_predict(pls_simple,X1, y_train_oleo, cv=cv)\n",
    "y_pred = pls_simple.predict(X2)\n",
    "# Calculate scores\n",
    "score = r2_score(y_train_oleo, y_cv)\n",
    "score_train = mean_squared_error(y_train_oleo, y_cv,squared=False)\n",
    "score_test = mean_squared_error(y_test_oleo, y_pred,squared=False)\n",
    "\n",
    "print('N comp: ', n_opt)\n",
    "print('N Wave: ', X_train.shape)\n",
    "print('R2CV: ', score)\n",
    "print('RMSECV: ', score_train)\n",
    "print('RMSE test: ', score_test)"
   ]
  },
  {
   "cell_type": "code",
   "execution_count": 53,
   "id": "97eb8cb0",
   "metadata": {},
   "outputs": [
    {
     "name": "stdout",
     "output_type": "stream",
     "text": [
      "R2:  0.9969506568806307\n",
      "RMSE train:  0.07798778313383636\n",
      "RMSE test:  0.06872854631490269\n"
     ]
    }
   ],
   "source": [
    "pls_simple = PLSRegression(n_components=7)\n",
    "cv = LeaveOneOut()\n",
    "# cv = 10\n",
    "# col = [0,3,5,6,10,11,12,13,14,17,21,\n",
    "#        22,23,24,27,29,30,33,35,36,38,39,\n",
    "#        44,50,51,52,55,5,57,58,59,60,62,63,65,\n",
    "#        68,71,72,73,75,77,78,82,83,85,87,\n",
    "#        89,90,93,94,96,97,102,103,105]\n",
    "# X1 = (np.delete(X_train, col,1))\n",
    "X1 = X_train \n",
    "#X1 = X_train[:,pos==1] \n",
    "#X_selected_features = X_train[:,pos==1] \n",
    "#X1 = savgol_filter(X_selected_features, 3, polyorder=2, deriv=2)\n",
    "#print(X_selected_features.shape)\n",
    "\n",
    "#X_snv = snv(X1)\n",
    "#X_msc = msc(X_snv)\n",
    "\n",
    "#X_selected_features_test = X_test[:,pos==1]\n",
    "#X2 = (np.delete(X_test, col,1))\n",
    "X2 = X_test\n",
    "#X2 = X_test[:,pos==1] \n",
    "#X2 = savgol_filter(X_selected_features_test , 3, polyorder=2, deriv=2)\n",
    "#X_snv2 = snv(X2)\n",
    "#X_msc2 = msc(X_snv2)\n",
    "# Fit\n",
    "pls_simple.fit(X1, y_train_oleo)\n",
    "# Cross-validation\n",
    "y_cv = cross_val_predict(pls_simple,X1, y_train_oleo, cv=cv)\n",
    "y_pred = pls_simple.predict(X2)\n",
    "\n",
    "#y_cv = pls_simple.predict(X1)\n",
    "# Calculate scores\n",
    "score = r2_score(y_train_oleo, y_cv)\n",
    "score_train = mean_squared_error(y_train_oleo, y_cv,squared=False)\n",
    "score_test = mean_squared_error(y_test_oleo, y_pred,squared=False)\n",
    "#score_test_manuf = mean_squared_error(y_test_oleo,y_test_result,squared=False)\n",
    "#score_train_manuf = mean_squared_error(y_train_oleo,y_train_result,squared=False)\n",
    "print('R2: ', score)\n",
    "print('RMSE train: ', score_train)\n",
    "print('RMSE test: ', score_test)\n",
    "#print('RMSE train manuf: ', score_train_manuf)\n",
    "#print('RMSE test manuf: ', score_test_manuf)"
   ]
  },
  {
   "attachments": {},
   "cell_type": "markdown",
   "id": "3836f8d5",
   "metadata": {},
   "source": [
    "R2:  0.9969506568806307\n",
    "RMSE train:  0.07798778313383636\n",
    "RMSE test:  0.06872854631490269\n",
    "n_comp = 7\n",
    "\n",
    "2e boucle\n",
    "\n",
    "R2:  0.9966849231129646\n",
    "RMSE train:  0.07965968376864087\n",
    "RMSE test:  0.0707983089348296\n",
    "n_comp = 6\n",
    "\n",
    "\n",
    "SNV\n",
    "\n",
    "1e boucle\n",
    "\n",
    "N comp:  7\n",
    "R2CV:  0.9095603675528044\n",
    "RMSECV:  0.4038753653227796\n",
    "RMSE test:  0.4050099800831125\n",
    "\n",
    "N comp:  7\n",
    "R2CV:  0.9516688750586109\n",
    "RMSECV:  0.295244231714664\n",
    "RMSE test:  0.4295648057448053\n",
    "\n",
    "N comp:  8\n",
    "R2CV:  0.969097857366537\n",
    "RMSECV:  0.23608166851851087\n",
    "RMSE test:  0.45509832849892967\n",
    "\n",
    "N comp:  8\n",
    "R2CV:  0.9793438832678304\n",
    "RMSECV:  0.19301555464661818\n",
    "RMSE test:  0.4703314116035503\n",
    "\n",
    "N comp:  8\n",
    "R2CV:  0.9871555165958046\n",
    "RMSECV:  0.1522040786545131\n",
    "RMSE test:  0.44608068775183074\n",
    "\n",
    "N comp:  8\n",
    "N Wave:  (48, 99)\n",
    "R2CV:  0.9882374473767754\n",
    "RMSECV:  0.14565277363427862\n",
    "RMSE test:  0.40955351652009336\n",
    "\n",
    "N comp:  8\n",
    "N Wave:  (48, 83)\n",
    "R2CV:  0.9881203970688367\n",
    "RMSECV:  0.14637568212841953\n",
    "RMSE test:  0.3267431752315184\n",
    "\n",
    "sans pretraitement\n",
    "\n",
    "N comp:  8\n",
    "N Wave:  (48, 1558)\n",
    "R2CV:  0.9957066390993096\n",
    "RMSECV:  0.08799675717289746\n",
    "RMSE test:  0.08896006838439006\n",
    "\n",
    "N comp:  8\n",
    "N Wave:  (48, 953)\n",
    "R2CV:  0.998155463784291\n",
    "RMSECV:  0.057678181965627726\n",
    "RMSE test:  0.05813650612093563\n",
    "\n",
    "N comp:  8\n",
    "N Wave:  (48, 603)\n",
    "R2CV:  0.9991891694021001\n",
    "RMSECV:  0.038241334034407194\n",
    "RMSE test:  0.042004467873736274\n",
    "\n",
    "N comp:  8\n",
    "N Wave:  (48, 391)\n",
    "R2CV:  0.9996553805912165\n",
    "RMSECV:  0.024930893072497008\n",
    "RMSE test:  0.03246059823786906\n",
    "\n",
    "N comp:  8\n",
    "N Wave:  (48, 260)\n",
    "R2CV:  0.9998511453063859\n",
    "RMSECV:  0.016385105275750475\n",
    "RMSE test:  0.023775916198911597\n",
    "\n",
    "N comp:  8\n",
    "N Wave:  (48, 145)\n",
    "R2CV:  0.9999534170026853\n",
    "RMSECV:  0.009166038648208688\n",
    "RMSE test:  0.0166044034751294\n",
    "\n",
    "N comp:  8\n",
    "N Wave:  (48, 117)\n",
    "R2CV:  0.999965062721877\n",
    "RMSECV:  0.007938025745091734\n",
    "RMSE test:  0.013645444809728962\n",
    "\n",
    "N comp:  8\n",
    "N Wave:  (48, 99)\n",
    "R2CV:  0.9999772512388795\n",
    "RMSECV:  0.006405408690539388\n",
    "RMSE test:  0.009161109345597447\n",
    "\n",
    "N comp:  8\n",
    "N Wave:  (48, 82)\n",
    "R2CV:  0.9999819147146324\n",
    "RMSECV:  0.005711243180135775\n",
    "RMSE test:  0.007502718105670003\n",
    "\n",
    "N comp:  8\n",
    "N Wave:  (48, 72)\n",
    "R2CV:  0.9999845752754535\n",
    "RMSECV:  0.005274443908089398\n",
    "RMSE test:  0.0067673206519763855\n",
    "\n",
    "N comp:  8\n",
    "N Wave:  (48, 64)\n",
    "R2CV:  0.9999873397276031\n",
    "RMSECV:  0.0047784769400336284\n",
    "RMSE test:  0.00461485165989251\n",
    "\n",
    "N comp:  8\n",
    "N Wave:  (48, 57)\n",
    "R2CV:  0.9999919873528291\n",
    "RMSECV:  0.003801508616891351\n",
    "RMSE test:  0.0039381984642526385\n",
    "\n",
    "N comp:  8\n",
    "N Wave:  (48, 50)\n",
    "R2CV:  0.999996283659295\n",
    "RMSECV:  0.0025889623253872447\n",
    "RMSE test:  0.0030427712446112936\n",
    "\n",
    "N comp:  8\n",
    "N Wave:  (48, 48)\n",
    "R2CV:  0.9999968791102039\n",
    "RMSECV:  0.0023725052720434763\n",
    "RMSE test:  0.0028358386763699854\n",
    "\n",
    "N comp:  8\n",
    "N Wave:  (48, 45)\n",
    "R2CV:  0.9999979408484285\n",
    "RMSECV:  0.0019271349483160943\n",
    "RMSE test:  0.002163586872094469\n",
    "\n",
    "N comp:  8\n",
    "N Wave:  (48, 42)\n",
    "R2CV:  0.9999985617383278\n",
    "RMSECV:  0.0016105971384404642\n",
    "RMSE test:  0.001593226073391903\n",
    "\n",
    "N comp:  8\n",
    "N Wave:  (48, 40)\n",
    "R2CV:  0.9999987292193286\n",
    "RMSECV:  0.0015139211971854866\n",
    "RMSE test:  0.0014801662316109888\n",
    "\n",
    "N comp:  8\n",
    "N Wave:  (48, 37)\n",
    "R2CV:  0.9999987850447042\n",
    "RMSECV:  0.0014802944767765267\n",
    "RMSE test:  0.001812410221015953"
   ]
  },
  {
   "cell_type": "code",
   "execution_count": 35,
   "id": "73507540",
   "metadata": {},
   "outputs": [
    {
     "data": {
      "application/vnd.plotly.v1+json": {
       "config": {
        "plotlyServerURL": "https://plot.ly"
       },
       "data": [
        {
         "hoverlabel": {
          "namelength": 0
         },
         "hovertemplate": "Moisture content measured (%)=%{x}<br>Moisture content predicted (%)=%{y}",
         "legendgroup": "",
         "marker": {
          "color": "#636efa",
          "symbol": "circle"
         },
         "mode": "markers",
         "name": "",
         "showlegend": false,
         "type": "scatter",
         "x": [
          11.5,
          10.96,
          11.4,
          10.1,
          11.4,
          11.4,
          14,
          10.9,
          11.3,
          14,
          10.7,
          11.6,
          13.67,
          14.1,
          11.05,
          10.8,
          11.125,
          11.345,
          11.4,
          14.5,
          11.6,
          10.92,
          11.6,
          11.6,
          11.5,
          10.94,
          11.5,
          11.015,
          11.7,
          10.4,
          14.3,
          13.92,
          11.4,
          11.3,
          11,
          8.7,
          11.4,
          11.36,
          10.5,
          13.735,
          13.9,
          13.88,
          14.2,
          10.9,
          11.6,
          14.3,
          14.5,
          10.7
         ],
         "xaxis": "x",
         "y": [
          11.442241077755154,
          10.91391484191651,
          11.404257534403715,
          10.120199533244882,
          11.443075047433846,
          11.424732586167298,
          13.93747010924168,
          10.995757868074506,
          11.474460229733515,
          13.981241343796263,
          10.707420936242741,
          11.651328597275095,
          13.595879472598579,
          14.034079710343889,
          10.860404844700316,
          10.729350060720968,
          11.161346721428265,
          11.336529428167712,
          11.430835151543766,
          14.506402829793382,
          11.705713627062833,
          10.840752621721727,
          11.608133669717153,
          11.613760020493078,
          11.388784167684372,
          10.95011987306356,
          11.457898295635015,
          11.030024636412332,
          11.856993859014711,
          10.451165286005397,
          14.270113205630725,
          13.835986518525665,
          11.372388254761564,
          11.450701650210368,
          10.987538760369537,
          8.704401772290538,
          11.486237258371263,
          11.382740055178267,
          10.411754854788372,
          13.692563240520348,
          14.024515403425251,
          13.825266330748649,
          14.136782294347737,
          11.036473865736616,
          11.573849633621055,
          14.208874953118476,
          14.362532887526948,
          10.779212048369649
         ],
         "yaxis": "y"
        },
        {
         "hoverlabel": {
          "namelength": 0
         },
         "hovertemplate": "<b>OLS trendline</b><br>y_pred_train = 0.983012 * y_ref_train + 0.201812<br>R<sup>2</sup>=0.997151<br><br>Moisture content measured (%)=%{x}<br>Moisture content predicted (%)=%{y} <b>(trend)</b>",
         "legendgroup": "",
         "marker": {
          "color": "#636efa",
          "symbol": "circle"
         },
         "mode": "lines",
         "name": "",
         "showlegend": false,
         "type": "scatter",
         "x": [
          8.7,
          10.1,
          10.4,
          10.5,
          10.7,
          10.7,
          10.8,
          10.9,
          10.9,
          10.92,
          10.94,
          10.96,
          11,
          11.015,
          11.05,
          11.125,
          11.3,
          11.3,
          11.345,
          11.36,
          11.4,
          11.4,
          11.4,
          11.4,
          11.4,
          11.4,
          11.5,
          11.5,
          11.5,
          11.6,
          11.6,
          11.6,
          11.6,
          11.6,
          11.7,
          13.67,
          13.735,
          13.88,
          13.9,
          13.92,
          14,
          14,
          14.1,
          14.2,
          14.3,
          14.3,
          14.5,
          14.5
         ],
         "xaxis": "x",
         "y": [
          8.75401512007116,
          10.130231674335052,
          10.425135221677316,
          10.523436404124736,
          10.720038769019576,
          10.720038769019576,
          10.818339951467,
          10.91664113391442,
          10.91664113391442,
          10.936301370403903,
          10.955961606893387,
          10.975621843382871,
          11.01494231636184,
          11.029687493728954,
          11.06409290758555,
          11.137818794421117,
          11.309845863704103,
          11.309845863704103,
          11.354081395805443,
          11.368826573172555,
          11.408147046151523,
          11.408147046151523,
          11.408147046151523,
          11.408147046151523,
          11.408147046151523,
          11.408147046151523,
          11.506448228598943,
          11.506448228598943,
          11.506448228598943,
          11.604749411046365,
          11.604749411046365,
          11.604749411046365,
          11.604749411046365,
          11.604749411046365,
          11.703050593493785,
          13.639583887707976,
          13.7034796562988,
          13.846016370847561,
          13.865676607337045,
          13.885336843826527,
          13.963977789784465,
          13.963977789784465,
          14.062278972231885,
          14.160580154679305,
          14.258881337126729,
          14.258881337126729,
          14.455483702021569,
          14.455483702021569
         ],
         "yaxis": "y"
        }
       ],
       "layout": {
        "height": 400,
        "legend": {
         "tracegroupgap": 0
        },
        "template": {
         "data": {
          "bar": [
           {
            "error_x": {
             "color": "#2a3f5f"
            },
            "error_y": {
             "color": "#2a3f5f"
            },
            "marker": {
             "line": {
              "color": "#E5ECF6",
              "width": 0.5
             }
            },
            "type": "bar"
           }
          ],
          "barpolar": [
           {
            "marker": {
             "line": {
              "color": "#E5ECF6",
              "width": 0.5
             }
            },
            "type": "barpolar"
           }
          ],
          "carpet": [
           {
            "aaxis": {
             "endlinecolor": "#2a3f5f",
             "gridcolor": "white",
             "linecolor": "white",
             "minorgridcolor": "white",
             "startlinecolor": "#2a3f5f"
            },
            "baxis": {
             "endlinecolor": "#2a3f5f",
             "gridcolor": "white",
             "linecolor": "white",
             "minorgridcolor": "white",
             "startlinecolor": "#2a3f5f"
            },
            "type": "carpet"
           }
          ],
          "choropleth": [
           {
            "colorbar": {
             "outlinewidth": 0,
             "ticks": ""
            },
            "type": "choropleth"
           }
          ],
          "contour": [
           {
            "colorbar": {
             "outlinewidth": 0,
             "ticks": ""
            },
            "colorscale": [
             [
              0,
              "#0d0887"
             ],
             [
              0.1111111111111111,
              "#46039f"
             ],
             [
              0.2222222222222222,
              "#7201a8"
             ],
             [
              0.3333333333333333,
              "#9c179e"
             ],
             [
              0.4444444444444444,
              "#bd3786"
             ],
             [
              0.5555555555555556,
              "#d8576b"
             ],
             [
              0.6666666666666666,
              "#ed7953"
             ],
             [
              0.7777777777777778,
              "#fb9f3a"
             ],
             [
              0.8888888888888888,
              "#fdca26"
             ],
             [
              1,
              "#f0f921"
             ]
            ],
            "type": "contour"
           }
          ],
          "contourcarpet": [
           {
            "colorbar": {
             "outlinewidth": 0,
             "ticks": ""
            },
            "type": "contourcarpet"
           }
          ],
          "heatmap": [
           {
            "colorbar": {
             "outlinewidth": 0,
             "ticks": ""
            },
            "colorscale": [
             [
              0,
              "#0d0887"
             ],
             [
              0.1111111111111111,
              "#46039f"
             ],
             [
              0.2222222222222222,
              "#7201a8"
             ],
             [
              0.3333333333333333,
              "#9c179e"
             ],
             [
              0.4444444444444444,
              "#bd3786"
             ],
             [
              0.5555555555555556,
              "#d8576b"
             ],
             [
              0.6666666666666666,
              "#ed7953"
             ],
             [
              0.7777777777777778,
              "#fb9f3a"
             ],
             [
              0.8888888888888888,
              "#fdca26"
             ],
             [
              1,
              "#f0f921"
             ]
            ],
            "type": "heatmap"
           }
          ],
          "heatmapgl": [
           {
            "colorbar": {
             "outlinewidth": 0,
             "ticks": ""
            },
            "colorscale": [
             [
              0,
              "#0d0887"
             ],
             [
              0.1111111111111111,
              "#46039f"
             ],
             [
              0.2222222222222222,
              "#7201a8"
             ],
             [
              0.3333333333333333,
              "#9c179e"
             ],
             [
              0.4444444444444444,
              "#bd3786"
             ],
             [
              0.5555555555555556,
              "#d8576b"
             ],
             [
              0.6666666666666666,
              "#ed7953"
             ],
             [
              0.7777777777777778,
              "#fb9f3a"
             ],
             [
              0.8888888888888888,
              "#fdca26"
             ],
             [
              1,
              "#f0f921"
             ]
            ],
            "type": "heatmapgl"
           }
          ],
          "histogram": [
           {
            "marker": {
             "colorbar": {
              "outlinewidth": 0,
              "ticks": ""
             }
            },
            "type": "histogram"
           }
          ],
          "histogram2d": [
           {
            "colorbar": {
             "outlinewidth": 0,
             "ticks": ""
            },
            "colorscale": [
             [
              0,
              "#0d0887"
             ],
             [
              0.1111111111111111,
              "#46039f"
             ],
             [
              0.2222222222222222,
              "#7201a8"
             ],
             [
              0.3333333333333333,
              "#9c179e"
             ],
             [
              0.4444444444444444,
              "#bd3786"
             ],
             [
              0.5555555555555556,
              "#d8576b"
             ],
             [
              0.6666666666666666,
              "#ed7953"
             ],
             [
              0.7777777777777778,
              "#fb9f3a"
             ],
             [
              0.8888888888888888,
              "#fdca26"
             ],
             [
              1,
              "#f0f921"
             ]
            ],
            "type": "histogram2d"
           }
          ],
          "histogram2dcontour": [
           {
            "colorbar": {
             "outlinewidth": 0,
             "ticks": ""
            },
            "colorscale": [
             [
              0,
              "#0d0887"
             ],
             [
              0.1111111111111111,
              "#46039f"
             ],
             [
              0.2222222222222222,
              "#7201a8"
             ],
             [
              0.3333333333333333,
              "#9c179e"
             ],
             [
              0.4444444444444444,
              "#bd3786"
             ],
             [
              0.5555555555555556,
              "#d8576b"
             ],
             [
              0.6666666666666666,
              "#ed7953"
             ],
             [
              0.7777777777777778,
              "#fb9f3a"
             ],
             [
              0.8888888888888888,
              "#fdca26"
             ],
             [
              1,
              "#f0f921"
             ]
            ],
            "type": "histogram2dcontour"
           }
          ],
          "mesh3d": [
           {
            "colorbar": {
             "outlinewidth": 0,
             "ticks": ""
            },
            "type": "mesh3d"
           }
          ],
          "parcoords": [
           {
            "line": {
             "colorbar": {
              "outlinewidth": 0,
              "ticks": ""
             }
            },
            "type": "parcoords"
           }
          ],
          "scatter": [
           {
            "marker": {
             "colorbar": {
              "outlinewidth": 0,
              "ticks": ""
             }
            },
            "type": "scatter"
           }
          ],
          "scatter3d": [
           {
            "line": {
             "colorbar": {
              "outlinewidth": 0,
              "ticks": ""
             }
            },
            "marker": {
             "colorbar": {
              "outlinewidth": 0,
              "ticks": ""
             }
            },
            "type": "scatter3d"
           }
          ],
          "scattercarpet": [
           {
            "marker": {
             "colorbar": {
              "outlinewidth": 0,
              "ticks": ""
             }
            },
            "type": "scattercarpet"
           }
          ],
          "scattergeo": [
           {
            "marker": {
             "colorbar": {
              "outlinewidth": 0,
              "ticks": ""
             }
            },
            "type": "scattergeo"
           }
          ],
          "scattergl": [
           {
            "marker": {
             "colorbar": {
              "outlinewidth": 0,
              "ticks": ""
             }
            },
            "type": "scattergl"
           }
          ],
          "scattermapbox": [
           {
            "marker": {
             "colorbar": {
              "outlinewidth": 0,
              "ticks": ""
             }
            },
            "type": "scattermapbox"
           }
          ],
          "scatterpolar": [
           {
            "marker": {
             "colorbar": {
              "outlinewidth": 0,
              "ticks": ""
             }
            },
            "type": "scatterpolar"
           }
          ],
          "scatterpolargl": [
           {
            "marker": {
             "colorbar": {
              "outlinewidth": 0,
              "ticks": ""
             }
            },
            "type": "scatterpolargl"
           }
          ],
          "scatterternary": [
           {
            "marker": {
             "colorbar": {
              "outlinewidth": 0,
              "ticks": ""
             }
            },
            "type": "scatterternary"
           }
          ],
          "surface": [
           {
            "colorbar": {
             "outlinewidth": 0,
             "ticks": ""
            },
            "colorscale": [
             [
              0,
              "#0d0887"
             ],
             [
              0.1111111111111111,
              "#46039f"
             ],
             [
              0.2222222222222222,
              "#7201a8"
             ],
             [
              0.3333333333333333,
              "#9c179e"
             ],
             [
              0.4444444444444444,
              "#bd3786"
             ],
             [
              0.5555555555555556,
              "#d8576b"
             ],
             [
              0.6666666666666666,
              "#ed7953"
             ],
             [
              0.7777777777777778,
              "#fb9f3a"
             ],
             [
              0.8888888888888888,
              "#fdca26"
             ],
             [
              1,
              "#f0f921"
             ]
            ],
            "type": "surface"
           }
          ],
          "table": [
           {
            "cells": {
             "fill": {
              "color": "#EBF0F8"
             },
             "line": {
              "color": "white"
             }
            },
            "header": {
             "fill": {
              "color": "#C8D4E3"
             },
             "line": {
              "color": "white"
             }
            },
            "type": "table"
           }
          ]
         },
         "layout": {
          "annotationdefaults": {
           "arrowcolor": "#2a3f5f",
           "arrowhead": 0,
           "arrowwidth": 1
          },
          "colorscale": {
           "diverging": [
            [
             0,
             "#8e0152"
            ],
            [
             0.1,
             "#c51b7d"
            ],
            [
             0.2,
             "#de77ae"
            ],
            [
             0.3,
             "#f1b6da"
            ],
            [
             0.4,
             "#fde0ef"
            ],
            [
             0.5,
             "#f7f7f7"
            ],
            [
             0.6,
             "#e6f5d0"
            ],
            [
             0.7,
             "#b8e186"
            ],
            [
             0.8,
             "#7fbc41"
            ],
            [
             0.9,
             "#4d9221"
            ],
            [
             1,
             "#276419"
            ]
           ],
           "sequential": [
            [
             0,
             "#0d0887"
            ],
            [
             0.1111111111111111,
             "#46039f"
            ],
            [
             0.2222222222222222,
             "#7201a8"
            ],
            [
             0.3333333333333333,
             "#9c179e"
            ],
            [
             0.4444444444444444,
             "#bd3786"
            ],
            [
             0.5555555555555556,
             "#d8576b"
            ],
            [
             0.6666666666666666,
             "#ed7953"
            ],
            [
             0.7777777777777778,
             "#fb9f3a"
            ],
            [
             0.8888888888888888,
             "#fdca26"
            ],
            [
             1,
             "#f0f921"
            ]
           ],
           "sequentialminus": [
            [
             0,
             "#0d0887"
            ],
            [
             0.1111111111111111,
             "#46039f"
            ],
            [
             0.2222222222222222,
             "#7201a8"
            ],
            [
             0.3333333333333333,
             "#9c179e"
            ],
            [
             0.4444444444444444,
             "#bd3786"
            ],
            [
             0.5555555555555556,
             "#d8576b"
            ],
            [
             0.6666666666666666,
             "#ed7953"
            ],
            [
             0.7777777777777778,
             "#fb9f3a"
            ],
            [
             0.8888888888888888,
             "#fdca26"
            ],
            [
             1,
             "#f0f921"
            ]
           ]
          },
          "colorway": [
           "#636efa",
           "#EF553B",
           "#00cc96",
           "#ab63fa",
           "#FFA15A",
           "#19d3f3",
           "#FF6692",
           "#B6E880",
           "#FF97FF",
           "#FECB52"
          ],
          "font": {
           "color": "#2a3f5f"
          },
          "geo": {
           "bgcolor": "white",
           "lakecolor": "white",
           "landcolor": "#E5ECF6",
           "showlakes": true,
           "showland": true,
           "subunitcolor": "white"
          },
          "hoverlabel": {
           "align": "left"
          },
          "hovermode": "closest",
          "mapbox": {
           "style": "light"
          },
          "paper_bgcolor": "white",
          "plot_bgcolor": "#E5ECF6",
          "polar": {
           "angularaxis": {
            "gridcolor": "white",
            "linecolor": "white",
            "ticks": ""
           },
           "bgcolor": "#E5ECF6",
           "radialaxis": {
            "gridcolor": "white",
            "linecolor": "white",
            "ticks": ""
           }
          },
          "scene": {
           "xaxis": {
            "backgroundcolor": "#E5ECF6",
            "gridcolor": "white",
            "gridwidth": 2,
            "linecolor": "white",
            "showbackground": true,
            "ticks": "",
            "zerolinecolor": "white"
           },
           "yaxis": {
            "backgroundcolor": "#E5ECF6",
            "gridcolor": "white",
            "gridwidth": 2,
            "linecolor": "white",
            "showbackground": true,
            "ticks": "",
            "zerolinecolor": "white"
           },
           "zaxis": {
            "backgroundcolor": "#E5ECF6",
            "gridcolor": "white",
            "gridwidth": 2,
            "linecolor": "white",
            "showbackground": true,
            "ticks": "",
            "zerolinecolor": "white"
           }
          },
          "shapedefaults": {
           "line": {
            "color": "#2a3f5f"
           }
          },
          "ternary": {
           "aaxis": {
            "gridcolor": "white",
            "linecolor": "white",
            "ticks": ""
           },
           "baxis": {
            "gridcolor": "white",
            "linecolor": "white",
            "ticks": ""
           },
           "bgcolor": "#E5ECF6",
           "caxis": {
            "gridcolor": "white",
            "linecolor": "white",
            "ticks": ""
           }
          },
          "title": {
           "x": 0.05
          },
          "xaxis": {
           "automargin": true,
           "gridcolor": "white",
           "linecolor": "white",
           "ticks": "",
           "zerolinecolor": "white",
           "zerolinewidth": 2
          },
          "yaxis": {
           "automargin": true,
           "gridcolor": "white",
           "linecolor": "white",
           "ticks": "",
           "zerolinecolor": "white",
           "zerolinewidth": 2
          }
         }
        },
        "title": {
         "text": "Prediction performance for moisture content "
        },
        "width": 600,
        "xaxis": {
         "anchor": "y",
         "domain": [
          0,
          0.98
         ],
         "title": {
          "text": "Moisture content measured (%)"
         }
        },
        "yaxis": {
         "anchor": "x",
         "domain": [
          0,
          1
         ],
         "title": {
          "text": "Moisture content predicted (%)"
         }
        }
       }
      }
     },
     "metadata": {},
     "output_type": "display_data"
    }
   ],
   "source": [
    "import plotly.express as px\n",
    "\n",
    "df_pred = pd.DataFrame()\n",
    "df_pred['y_ref_train'] = y_train_oleo\n",
    "df_pred['y_pred_train'] = y_cv\n",
    "fig = px.scatter(df_pred, x=\"y_ref_train\", y=\"y_pred_train\", trendline=\"ols\", title=\"Prediction performance for moisture content \",\n",
    "                 labels={\n",
    "                     \"y_ref_train\": \"Moisture content measured (%)\",\n",
    "                     \"y_pred_train\": \"Moisture content predicted (%)\",\n",
    "\n",
    "                 },width=600, height=400)\n",
    "fig.show()"
   ]
  },
  {
   "cell_type": "code",
   "execution_count": 36,
   "id": "a80e688f",
   "metadata": {},
   "outputs": [
    {
     "data": {
      "application/vnd.plotly.v1+json": {
       "config": {
        "plotlyServerURL": "https://plot.ly"
       },
       "data": [
        {
         "hoverlabel": {
          "namelength": 0
         },
         "hovertemplate": "Moisture content measured (%)=%{x}<br>Moisture content predicted (%)=%{y}",
         "legendgroup": "",
         "marker": {
          "color": "#636efa",
          "symbol": "circle"
         },
         "mode": "markers",
         "name": "",
         "showlegend": false,
         "type": "scatter",
         "x": [
          11.4,
          10.1,
          11.335,
          11.5,
          11.1,
          13.8,
          11.4,
          14.2,
          11.4,
          11.075,
          11.4,
          10.9,
          11.5,
          10.9,
          10.9,
          14,
          11.8
         ],
         "xaxis": "x",
         "y": [
          11.36641169409565,
          10.10033743693046,
          11.313144931201949,
          11.511368891690298,
          11.123552873662085,
          13.942254472680846,
          11.430246111392089,
          14.119951144126246,
          11.438997425326493,
          11.03448034525109,
          11.458665013801875,
          11.03397672653209,
          11.452521371093958,
          10.918783536473649,
          10.963407170653754,
          14.01508642147539,
          11.937997896589739
         ],
         "yaxis": "y"
        },
        {
         "hoverlabel": {
          "namelength": 0
         },
         "hovertemplate": "<b>OLS trendline</b><br>y_pred_test = 0.998933 * y_ref_test + 0.039015<br>R<sup>2</sup>=0.996865<br><br>Moisture content measured (%)=%{x}<br>Moisture content predicted (%)=%{y} <b>(trend)</b>",
         "legendgroup": "",
         "marker": {
          "color": "#636efa",
          "symbol": "circle"
         },
         "mode": "lines",
         "name": "",
         "showlegend": false,
         "type": "scatter",
         "x": [
          10.1,
          10.9,
          10.9,
          10.9,
          11.075,
          11.1,
          11.335,
          11.4,
          11.4,
          11.4,
          11.4,
          11.5,
          11.5,
          11.8,
          13.8,
          14,
          14.2
         ],
         "xaxis": "x",
         "y": [
          10.12823581418196,
          10.927382045115221,
          10.927382045115221,
          10.927382045115221,
          11.102195283131872,
          11.127168602848537,
          11.361917808185183,
          11.42684843944851,
          11.42684843944851,
          11.42684843944851,
          11.42684843944851,
          11.526741718315167,
          11.526741718315167,
          11.826421554915141,
          13.824287132248294,
          14.02407368998161,
          14.223860247714923
         ],
         "yaxis": "y"
        }
       ],
       "layout": {
        "height": 400,
        "legend": {
         "tracegroupgap": 0
        },
        "template": {
         "data": {
          "bar": [
           {
            "error_x": {
             "color": "#2a3f5f"
            },
            "error_y": {
             "color": "#2a3f5f"
            },
            "marker": {
             "line": {
              "color": "#E5ECF6",
              "width": 0.5
             }
            },
            "type": "bar"
           }
          ],
          "barpolar": [
           {
            "marker": {
             "line": {
              "color": "#E5ECF6",
              "width": 0.5
             }
            },
            "type": "barpolar"
           }
          ],
          "carpet": [
           {
            "aaxis": {
             "endlinecolor": "#2a3f5f",
             "gridcolor": "white",
             "linecolor": "white",
             "minorgridcolor": "white",
             "startlinecolor": "#2a3f5f"
            },
            "baxis": {
             "endlinecolor": "#2a3f5f",
             "gridcolor": "white",
             "linecolor": "white",
             "minorgridcolor": "white",
             "startlinecolor": "#2a3f5f"
            },
            "type": "carpet"
           }
          ],
          "choropleth": [
           {
            "colorbar": {
             "outlinewidth": 0,
             "ticks": ""
            },
            "type": "choropleth"
           }
          ],
          "contour": [
           {
            "colorbar": {
             "outlinewidth": 0,
             "ticks": ""
            },
            "colorscale": [
             [
              0,
              "#0d0887"
             ],
             [
              0.1111111111111111,
              "#46039f"
             ],
             [
              0.2222222222222222,
              "#7201a8"
             ],
             [
              0.3333333333333333,
              "#9c179e"
             ],
             [
              0.4444444444444444,
              "#bd3786"
             ],
             [
              0.5555555555555556,
              "#d8576b"
             ],
             [
              0.6666666666666666,
              "#ed7953"
             ],
             [
              0.7777777777777778,
              "#fb9f3a"
             ],
             [
              0.8888888888888888,
              "#fdca26"
             ],
             [
              1,
              "#f0f921"
             ]
            ],
            "type": "contour"
           }
          ],
          "contourcarpet": [
           {
            "colorbar": {
             "outlinewidth": 0,
             "ticks": ""
            },
            "type": "contourcarpet"
           }
          ],
          "heatmap": [
           {
            "colorbar": {
             "outlinewidth": 0,
             "ticks": ""
            },
            "colorscale": [
             [
              0,
              "#0d0887"
             ],
             [
              0.1111111111111111,
              "#46039f"
             ],
             [
              0.2222222222222222,
              "#7201a8"
             ],
             [
              0.3333333333333333,
              "#9c179e"
             ],
             [
              0.4444444444444444,
              "#bd3786"
             ],
             [
              0.5555555555555556,
              "#d8576b"
             ],
             [
              0.6666666666666666,
              "#ed7953"
             ],
             [
              0.7777777777777778,
              "#fb9f3a"
             ],
             [
              0.8888888888888888,
              "#fdca26"
             ],
             [
              1,
              "#f0f921"
             ]
            ],
            "type": "heatmap"
           }
          ],
          "heatmapgl": [
           {
            "colorbar": {
             "outlinewidth": 0,
             "ticks": ""
            },
            "colorscale": [
             [
              0,
              "#0d0887"
             ],
             [
              0.1111111111111111,
              "#46039f"
             ],
             [
              0.2222222222222222,
              "#7201a8"
             ],
             [
              0.3333333333333333,
              "#9c179e"
             ],
             [
              0.4444444444444444,
              "#bd3786"
             ],
             [
              0.5555555555555556,
              "#d8576b"
             ],
             [
              0.6666666666666666,
              "#ed7953"
             ],
             [
              0.7777777777777778,
              "#fb9f3a"
             ],
             [
              0.8888888888888888,
              "#fdca26"
             ],
             [
              1,
              "#f0f921"
             ]
            ],
            "type": "heatmapgl"
           }
          ],
          "histogram": [
           {
            "marker": {
             "colorbar": {
              "outlinewidth": 0,
              "ticks": ""
             }
            },
            "type": "histogram"
           }
          ],
          "histogram2d": [
           {
            "colorbar": {
             "outlinewidth": 0,
             "ticks": ""
            },
            "colorscale": [
             [
              0,
              "#0d0887"
             ],
             [
              0.1111111111111111,
              "#46039f"
             ],
             [
              0.2222222222222222,
              "#7201a8"
             ],
             [
              0.3333333333333333,
              "#9c179e"
             ],
             [
              0.4444444444444444,
              "#bd3786"
             ],
             [
              0.5555555555555556,
              "#d8576b"
             ],
             [
              0.6666666666666666,
              "#ed7953"
             ],
             [
              0.7777777777777778,
              "#fb9f3a"
             ],
             [
              0.8888888888888888,
              "#fdca26"
             ],
             [
              1,
              "#f0f921"
             ]
            ],
            "type": "histogram2d"
           }
          ],
          "histogram2dcontour": [
           {
            "colorbar": {
             "outlinewidth": 0,
             "ticks": ""
            },
            "colorscale": [
             [
              0,
              "#0d0887"
             ],
             [
              0.1111111111111111,
              "#46039f"
             ],
             [
              0.2222222222222222,
              "#7201a8"
             ],
             [
              0.3333333333333333,
              "#9c179e"
             ],
             [
              0.4444444444444444,
              "#bd3786"
             ],
             [
              0.5555555555555556,
              "#d8576b"
             ],
             [
              0.6666666666666666,
              "#ed7953"
             ],
             [
              0.7777777777777778,
              "#fb9f3a"
             ],
             [
              0.8888888888888888,
              "#fdca26"
             ],
             [
              1,
              "#f0f921"
             ]
            ],
            "type": "histogram2dcontour"
           }
          ],
          "mesh3d": [
           {
            "colorbar": {
             "outlinewidth": 0,
             "ticks": ""
            },
            "type": "mesh3d"
           }
          ],
          "parcoords": [
           {
            "line": {
             "colorbar": {
              "outlinewidth": 0,
              "ticks": ""
             }
            },
            "type": "parcoords"
           }
          ],
          "scatter": [
           {
            "marker": {
             "colorbar": {
              "outlinewidth": 0,
              "ticks": ""
             }
            },
            "type": "scatter"
           }
          ],
          "scatter3d": [
           {
            "line": {
             "colorbar": {
              "outlinewidth": 0,
              "ticks": ""
             }
            },
            "marker": {
             "colorbar": {
              "outlinewidth": 0,
              "ticks": ""
             }
            },
            "type": "scatter3d"
           }
          ],
          "scattercarpet": [
           {
            "marker": {
             "colorbar": {
              "outlinewidth": 0,
              "ticks": ""
             }
            },
            "type": "scattercarpet"
           }
          ],
          "scattergeo": [
           {
            "marker": {
             "colorbar": {
              "outlinewidth": 0,
              "ticks": ""
             }
            },
            "type": "scattergeo"
           }
          ],
          "scattergl": [
           {
            "marker": {
             "colorbar": {
              "outlinewidth": 0,
              "ticks": ""
             }
            },
            "type": "scattergl"
           }
          ],
          "scattermapbox": [
           {
            "marker": {
             "colorbar": {
              "outlinewidth": 0,
              "ticks": ""
             }
            },
            "type": "scattermapbox"
           }
          ],
          "scatterpolar": [
           {
            "marker": {
             "colorbar": {
              "outlinewidth": 0,
              "ticks": ""
             }
            },
            "type": "scatterpolar"
           }
          ],
          "scatterpolargl": [
           {
            "marker": {
             "colorbar": {
              "outlinewidth": 0,
              "ticks": ""
             }
            },
            "type": "scatterpolargl"
           }
          ],
          "scatterternary": [
           {
            "marker": {
             "colorbar": {
              "outlinewidth": 0,
              "ticks": ""
             }
            },
            "type": "scatterternary"
           }
          ],
          "surface": [
           {
            "colorbar": {
             "outlinewidth": 0,
             "ticks": ""
            },
            "colorscale": [
             [
              0,
              "#0d0887"
             ],
             [
              0.1111111111111111,
              "#46039f"
             ],
             [
              0.2222222222222222,
              "#7201a8"
             ],
             [
              0.3333333333333333,
              "#9c179e"
             ],
             [
              0.4444444444444444,
              "#bd3786"
             ],
             [
              0.5555555555555556,
              "#d8576b"
             ],
             [
              0.6666666666666666,
              "#ed7953"
             ],
             [
              0.7777777777777778,
              "#fb9f3a"
             ],
             [
              0.8888888888888888,
              "#fdca26"
             ],
             [
              1,
              "#f0f921"
             ]
            ],
            "type": "surface"
           }
          ],
          "table": [
           {
            "cells": {
             "fill": {
              "color": "#EBF0F8"
             },
             "line": {
              "color": "white"
             }
            },
            "header": {
             "fill": {
              "color": "#C8D4E3"
             },
             "line": {
              "color": "white"
             }
            },
            "type": "table"
           }
          ]
         },
         "layout": {
          "annotationdefaults": {
           "arrowcolor": "#2a3f5f",
           "arrowhead": 0,
           "arrowwidth": 1
          },
          "colorscale": {
           "diverging": [
            [
             0,
             "#8e0152"
            ],
            [
             0.1,
             "#c51b7d"
            ],
            [
             0.2,
             "#de77ae"
            ],
            [
             0.3,
             "#f1b6da"
            ],
            [
             0.4,
             "#fde0ef"
            ],
            [
             0.5,
             "#f7f7f7"
            ],
            [
             0.6,
             "#e6f5d0"
            ],
            [
             0.7,
             "#b8e186"
            ],
            [
             0.8,
             "#7fbc41"
            ],
            [
             0.9,
             "#4d9221"
            ],
            [
             1,
             "#276419"
            ]
           ],
           "sequential": [
            [
             0,
             "#0d0887"
            ],
            [
             0.1111111111111111,
             "#46039f"
            ],
            [
             0.2222222222222222,
             "#7201a8"
            ],
            [
             0.3333333333333333,
             "#9c179e"
            ],
            [
             0.4444444444444444,
             "#bd3786"
            ],
            [
             0.5555555555555556,
             "#d8576b"
            ],
            [
             0.6666666666666666,
             "#ed7953"
            ],
            [
             0.7777777777777778,
             "#fb9f3a"
            ],
            [
             0.8888888888888888,
             "#fdca26"
            ],
            [
             1,
             "#f0f921"
            ]
           ],
           "sequentialminus": [
            [
             0,
             "#0d0887"
            ],
            [
             0.1111111111111111,
             "#46039f"
            ],
            [
             0.2222222222222222,
             "#7201a8"
            ],
            [
             0.3333333333333333,
             "#9c179e"
            ],
            [
             0.4444444444444444,
             "#bd3786"
            ],
            [
             0.5555555555555556,
             "#d8576b"
            ],
            [
             0.6666666666666666,
             "#ed7953"
            ],
            [
             0.7777777777777778,
             "#fb9f3a"
            ],
            [
             0.8888888888888888,
             "#fdca26"
            ],
            [
             1,
             "#f0f921"
            ]
           ]
          },
          "colorway": [
           "#636efa",
           "#EF553B",
           "#00cc96",
           "#ab63fa",
           "#FFA15A",
           "#19d3f3",
           "#FF6692",
           "#B6E880",
           "#FF97FF",
           "#FECB52"
          ],
          "font": {
           "color": "#2a3f5f"
          },
          "geo": {
           "bgcolor": "white",
           "lakecolor": "white",
           "landcolor": "#E5ECF6",
           "showlakes": true,
           "showland": true,
           "subunitcolor": "white"
          },
          "hoverlabel": {
           "align": "left"
          },
          "hovermode": "closest",
          "mapbox": {
           "style": "light"
          },
          "paper_bgcolor": "white",
          "plot_bgcolor": "#E5ECF6",
          "polar": {
           "angularaxis": {
            "gridcolor": "white",
            "linecolor": "white",
            "ticks": ""
           },
           "bgcolor": "#E5ECF6",
           "radialaxis": {
            "gridcolor": "white",
            "linecolor": "white",
            "ticks": ""
           }
          },
          "scene": {
           "xaxis": {
            "backgroundcolor": "#E5ECF6",
            "gridcolor": "white",
            "gridwidth": 2,
            "linecolor": "white",
            "showbackground": true,
            "ticks": "",
            "zerolinecolor": "white"
           },
           "yaxis": {
            "backgroundcolor": "#E5ECF6",
            "gridcolor": "white",
            "gridwidth": 2,
            "linecolor": "white",
            "showbackground": true,
            "ticks": "",
            "zerolinecolor": "white"
           },
           "zaxis": {
            "backgroundcolor": "#E5ECF6",
            "gridcolor": "white",
            "gridwidth": 2,
            "linecolor": "white",
            "showbackground": true,
            "ticks": "",
            "zerolinecolor": "white"
           }
          },
          "shapedefaults": {
           "line": {
            "color": "#2a3f5f"
           }
          },
          "ternary": {
           "aaxis": {
            "gridcolor": "white",
            "linecolor": "white",
            "ticks": ""
           },
           "baxis": {
            "gridcolor": "white",
            "linecolor": "white",
            "ticks": ""
           },
           "bgcolor": "#E5ECF6",
           "caxis": {
            "gridcolor": "white",
            "linecolor": "white",
            "ticks": ""
           }
          },
          "title": {
           "x": 0.05
          },
          "xaxis": {
           "automargin": true,
           "gridcolor": "white",
           "linecolor": "white",
           "ticks": "",
           "zerolinecolor": "white",
           "zerolinewidth": 2
          },
          "yaxis": {
           "automargin": true,
           "gridcolor": "white",
           "linecolor": "white",
           "ticks": "",
           "zerolinecolor": "white",
           "zerolinewidth": 2
          }
         }
        },
        "title": {
         "text": "Prediction performance for moisture content "
        },
        "width": 600,
        "xaxis": {
         "anchor": "y",
         "domain": [
          0,
          0.98
         ],
         "title": {
          "text": "Moisture content measured (%)"
         }
        },
        "yaxis": {
         "anchor": "x",
         "domain": [
          0,
          1
         ],
         "title": {
          "text": "Moisture content predicted (%)"
         }
        }
       }
      }
     },
     "metadata": {},
     "output_type": "display_data"
    }
   ],
   "source": [
    "df_pred = pd.DataFrame()\n",
    "df_pred['y_ref_test'] = y_test_oleo\n",
    "df_pred['y_pred_test'] = y_pred\n",
    "fig = px.scatter(df_pred, x=\"y_ref_test\", y=\"y_pred_test\", trendline=\"ols\", title=\"Prediction performance for moisture content \",\n",
    "                 labels={\n",
    "                     \"y_ref_test\": \"Moisture content measured (%)\",\n",
    "                     \"y_pred_test\": \"Moisture content predicted (%)\",\n",
    "\n",
    "                 },width=600, height=400)\n",
    "fig.show()"
   ]
  },
  {
   "cell_type": "code",
   "execution_count": null,
   "id": "d6a33868",
   "metadata": {},
   "outputs": [],
   "source": []
  }
 ],
 "metadata": {
  "kernelspec": {
   "display_name": "base",
   "language": "python",
   "name": "python3"
  },
  "language_info": {
   "codemirror_mode": {
    "name": "ipython",
    "version": 3
   },
   "file_extension": ".py",
   "mimetype": "text/x-python",
   "name": "python",
   "nbconvert_exporter": "python",
   "pygments_lexer": "ipython3",
   "version": "3.9.7"
  },
  "vscode": {
   "interpreter": {
    "hash": "f495aec6bb42f5bf50edc3d7c3c03d5f8869c4ec116315d269d15969b9ab482a"
   }
  }
 },
 "nbformat": 4,
 "nbformat_minor": 5
}
