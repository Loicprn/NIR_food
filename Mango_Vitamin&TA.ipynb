{
 "cells": [
  {
   "cell_type": "code",
   "execution_count": 1,
   "id": "79c1089e",
   "metadata": {},
   "outputs": [],
   "source": [
    "import plotly.express as px\n",
    "import pandas as pd\n",
    "import numpy as np\n",
    "import matplotlib.pyplot as plt\n",
    "from numpy import alen, arange\n",
    "import math\n",
    "from math import sqrt\n",
    "from sklearn.model_selection import KFold\n",
    "from sklearn.linear_model import LinearRegression\n",
    "from sklearn.model_selection import cross_val_score\n",
    "from sklearn.model_selection import LeaveOneOut\n",
    "from sklearn.ensemble import AdaBoostRegressor\n",
    "from sklearn.pipeline import make_pipeline\n",
    "from sklearn.ensemble import RandomForestRegressor\n",
    "from sklearn.ensemble import GradientBoostingRegressor\n",
    "from sklearn.linear_model import LinearRegression\n",
    "from sklearn.ensemble import VotingRegressor\n",
    "\n",
    "from sklearn.svm import SVR\n",
    "#### PLS\n",
    "from sklearn.cross_decomposition import PLSRegression\n",
    "from sklearn.model_selection import cross_val_predict\n",
    "from sklearn.metrics import mean_squared_error, r2_score\n",
    "from scipy.signal import savgol_filter\n",
    "from sklearn.preprocessing import StandardScaler\n",
    "from sklearn import preprocessing\n",
    "from sklearn.model_selection import train_test_split\n",
    "from scipy.signal import savgol_filter"
   ]
  },
  {
   "cell_type": "code",
   "execution_count": 5,
   "id": "66e3b728",
   "metadata": {},
   "outputs": [],
   "source": [
    "#BPSO\n",
    "\n",
    "def pls_optimise_components(X, y, npc):\n",
    " \n",
    "    rmsecv = np.zeros(npc)\n",
    "    for i in range(1,npc+1,1):\n",
    " \n",
    "        # Simple PLS\n",
    "        pls_simple = PLSRegression(n_components=i)\n",
    "        # Fit\n",
    "        pls_simple.fit(X, y)\n",
    "        #cv = LeaveOneOut()\n",
    "        cv=10\n",
    "        # Cross-validation\n",
    "        y_cv = cross_val_predict(pls_simple, X, y, cv=cv)\n",
    " \n",
    "        # Calculate scores\n",
    "        score = r2_score(y, y_cv)\n",
    "        rmsecv[i-1] = np.sqrt(mean_squared_error(y, y_cv))\n",
    " \n",
    "    # Find the minimum of ther RMSE and its location\n",
    "    opt_comp, rmsecv_min = np.argmin(rmsecv),  rmsecv[np.argmin(rmsecv)]\n",
    " \n",
    "    return (opt_comp+1, rmsecv_min)\n",
    "\n",
    "def base_pls(X,y,n_components, return_model=False):\n",
    " \n",
    "    # Simple PLS\n",
    "    pls_simple = PLSRegression(n_components=n_components)\n",
    "    # Fit\n",
    "    pls_simple.fit(X, y)\n",
    "    #cv = 10\n",
    "    cv= 10\n",
    "    # Cross-validation\n",
    "    y_cv = cross_val_predict(pls_simple, X, y, cv=cv)\n",
    " \n",
    "    # Calculate scores\n",
    "    score = r2_score(y, y_cv)\n",
    "    rmsecv = np.sqrt(mean_squared_error(y, y_cv))\n",
    " \n",
    "    if return_model == False:\n",
    "        return(y_cv, score, rmsecv)\n",
    "    else:\n",
    "        return(y_cv, score, rmsecv, pls_simple)\n",
    "    \n",
    "from sklearn import linear_model\n",
    "from sklearn.linear_model import LinearRegression\n",
    "from sklearn.metrics import r2_score\n",
    "# Create an instance \n",
    "#reg = linear_model.LinearRegression\n",
    "\n",
    "# Define objective function\n",
    "def f_per_particle(m, alpha):\n",
    "    \"\"\"Computes for the objective function per particle\n",
    "\n",
    "    Inputs\n",
    "    ------\n",
    "    m : numpy.ndarray\n",
    "        Binary mask that can be obtained from BinaryPSO, will\n",
    "        be used to mask features.\n",
    "    alpha: float (default is 0.5)\n",
    "        Constant weight for trading-off classifier performance\n",
    "        and number of features\n",
    "\n",
    "    Returns\n",
    "    -------\n",
    "    numpy.ndarray\n",
    "        Computed objective function\n",
    "    \"\"\"\n",
    "    \n",
    "    total_features = dimensions\n",
    "    # Get the subset of the features from the binary mask\n",
    "\n",
    "    #X_sav = savgol_filter(X_train, 3, polyorder=2, deriv=1)\n",
    "\n",
    "    if np.count_nonzero(m) == 0:\n",
    "        X_subset = X_train\n",
    "    else:\n",
    "        X_subset = X_train[:,m==1]\n",
    "\n",
    "    \n",
    " \n",
    "\n",
    "    # #regr = make_pipeline(StandardScaler(), SVR())\n",
    "    # #regr = make_pipeline(StandardScaler(), RandomForestRegressor(max_depth=5, random_state=1))\n",
    "    # #regr = make_pipeline(StandardScaler(), SVR(C = 0.5, degree= 1, kernel= 'rbf',epsilon= 0.16))\n",
    "    # #X1 = savgol_filter(X_subset, 3, polyorder=2, deriv=1)\n",
    "    # reg1 = GradientBoostingRegressor(random_state=1)\n",
    "    # reg2 = RandomForestRegressor(random_state=1)\n",
    "    # reg3 = LinearRegression()\n",
    "    # ereg = VotingRegressor(estimators=[('gb', reg1), ('rf', reg2), ('lr', reg3)])\n",
    "    # ereg = ereg.fit(X_subset, y_train_oleo)\n",
    "    # #regr.fit(X_subset, y_train_oleo)\n",
    "    # #y_pred = cross_val_predict(regr, X_subset, y_train_oleo, cv=10)\n",
    "    # y_pred = ereg.predict(X_subset)\n",
    "    # #y_pred = regr.predict(X1)\n",
    "    # r2cv = mean_squared_error(y_train_oleo, y_pred)\n",
    "    # #r2cv = r2_score(y_train_oleo, y_pred)\n",
    "    # P = r2cv\n",
    "    # #P = (classifier.predict(X_subset) == y).mean()\n",
    "    # # Compute for the objective function\n",
    "    # j = (alpha * (1.0 - (1-P))\n",
    "    #     + (1.0 - alpha) * (1 - (X_subset.shape[1] / total_features)))\n",
    "\n",
    "\n",
    "\n",
    "    opt_comp, rmsecv_min = pls_optimise_components(X_subset, y_train_oleo, 8)\n",
    "    predicted, r2cv, rmscv = base_pls(X_subset, y_train_oleo, opt_comp)\n",
    "    \n",
    "    P = r2cv\n",
    "    #P = (classifier.predict(X_subset) == y).mean()\n",
    "    # Compute for the objective function\n",
    "    j = (alpha * (1.0 - P)\n",
    "        + (1.0 - alpha) * (1 - (X_subset.shape[1] / total_features)))\n",
    "\n",
    "    return j\n",
    "\n",
    "def f(x, alpha=0.88):\n",
    "    \"\"\"Higher-level method to do classification in the\n",
    "    whole swarm.\n",
    "\n",
    "    Inputs\n",
    "    ------\n",
    "    x: numpy.ndarray of shape (n_particles, dimensions)\n",
    "        The swarm that will perform the search\n",
    "\n",
    "    Returns\n",
    "    -------\n",
    "    numpy.ndarray of shape (n_particles, )\n",
    "        The computed loss for each particle\n",
    "    \"\"\"\n",
    "    n_particles = x.shape[0]\n",
    "    j = [f_per_particle(x[i], alpha) for i in range(n_particles)]\n",
    "    return np.array(j)\n",
    "\n",
    "def snv(input_data):\n",
    "  \n",
    "    # Define a new array and populate it with the corrected data  \n",
    "    output_data = np.zeros_like(input_data)\n",
    "    for i in range(input_data.shape[0]):\n",
    " \n",
    "        # Apply correction\n",
    "        output_data[i,:] = (input_data[i,:] - np.mean(input_data[i,:])) / np.std(input_data[i,:])\n",
    " \n",
    "    return output_data\n",
    "\n",
    "def msc(input_data):\n",
    "     # mean centre correction\n",
    "    for i in range(input_data.shape[0]):\n",
    "        input_data[i,:] -= input_data[i,:].mean()\n",
    " \n",
    "    # Get the reference spectrum. If not given, estimate it from the mean    \n",
    "\n",
    "    # Calculate mean\n",
    "    ref = np.mean(input_data, axis=0)\n",
    "\n",
    " \n",
    "    # Define a new array and populate it with the corrected data    \n",
    "    output_data= np.zeros_like(input_data)\n",
    "    for i in range(input_data.shape[0]):\n",
    "        # Run regression\n",
    "        fit = np.polyfit(ref, input_data[i,:], 1, full=True)\n",
    "        # Apply correction\n",
    "        output_data[i,:] = (input_data[i,:] - fit[0][1]) / fit[0][0] \n",
    "    return output_data"
   ]
  },
  {
   "cell_type": "code",
   "execution_count": 6,
   "id": "a70d7488",
   "metadata": {},
   "outputs": [],
   "source": [
    "df = pd.read_excel(open('Data/Spectra datasets NIRS_intact_mangos.xlsx', 'rb'),\n",
    "              sheet_name='Raw Spectra data') \n",
    "df2 = pd.read_excel(open('Data/Spectra datasets NIRS_intact_mangos.xlsx', 'rb'),\n",
    "              sheet_name='TA and Vit C') \n",
    "df2 = df2.iloc[:,:3]\n",
    "df = pd.merge(df, df2, left_index=True, right_index=True)"
   ]
  },
  {
   "cell_type": "code",
   "execution_count": 7,
   "id": "6e065140",
   "metadata": {},
   "outputs": [
    {
     "data": {
      "text/html": [
       "<div>\n",
       "<style scoped>\n",
       "    .dataframe tbody tr th:only-of-type {\n",
       "        vertical-align: middle;\n",
       "    }\n",
       "\n",
       "    .dataframe tbody tr th {\n",
       "        vertical-align: top;\n",
       "    }\n",
       "\n",
       "    .dataframe thead th {\n",
       "        text-align: right;\n",
       "    }\n",
       "</style>\n",
       "<table border=\"1\" class=\"dataframe\">\n",
       "  <thead>\n",
       "    <tr style=\"text-align: right;\">\n",
       "      <th></th>\n",
       "      <th>No.</th>\n",
       "      <th>variety</th>\n",
       "      <th>999.9</th>\n",
       "      <th>1000.3</th>\n",
       "      <th>1000.7</th>\n",
       "      <th>1001.1</th>\n",
       "      <th>1001.4</th>\n",
       "      <th>1001.8</th>\n",
       "      <th>1002.2</th>\n",
       "      <th>1002.6</th>\n",
       "      <th>...</th>\n",
       "      <th>2483.5</th>\n",
       "      <th>2485.8</th>\n",
       "      <th>2488.2</th>\n",
       "      <th>2490.6</th>\n",
       "      <th>2493</th>\n",
       "      <th>2495.4</th>\n",
       "      <th>2497.8</th>\n",
       "      <th>2500.2</th>\n",
       "      <th>TA (mg/100gr FM)</th>\n",
       "      <th>Vit C (mg/100gr FM)</th>\n",
       "    </tr>\n",
       "  </thead>\n",
       "  <tbody>\n",
       "    <tr>\n",
       "      <th>0</th>\n",
       "      <td>1</td>\n",
       "      <td>Kent</td>\n",
       "      <td>0.428519</td>\n",
       "      <td>0.427882</td>\n",
       "      <td>0.427481</td>\n",
       "      <td>0.427315</td>\n",
       "      <td>0.427002</td>\n",
       "      <td>0.426289</td>\n",
       "      <td>0.425939</td>\n",
       "      <td>0.425540</td>\n",
       "      <td>...</td>\n",
       "      <td>1.585399</td>\n",
       "      <td>1.586905</td>\n",
       "      <td>1.587933</td>\n",
       "      <td>1.589149</td>\n",
       "      <td>1.590033</td>\n",
       "      <td>1.591012</td>\n",
       "      <td>1.591306</td>\n",
       "      <td>1.591581</td>\n",
       "      <td>268.56</td>\n",
       "      <td>29.95</td>\n",
       "    </tr>\n",
       "    <tr>\n",
       "      <th>1</th>\n",
       "      <td>2</td>\n",
       "      <td>Kent</td>\n",
       "      <td>0.455501</td>\n",
       "      <td>0.454918</td>\n",
       "      <td>0.454001</td>\n",
       "      <td>0.453701</td>\n",
       "      <td>0.453563</td>\n",
       "      <td>0.453152</td>\n",
       "      <td>0.452960</td>\n",
       "      <td>0.452852</td>\n",
       "      <td>...</td>\n",
       "      <td>1.455168</td>\n",
       "      <td>1.455935</td>\n",
       "      <td>1.456416</td>\n",
       "      <td>1.457003</td>\n",
       "      <td>1.457670</td>\n",
       "      <td>1.458605</td>\n",
       "      <td>1.459040</td>\n",
       "      <td>1.459716</td>\n",
       "      <td>291.07</td>\n",
       "      <td>31.36</td>\n",
       "    </tr>\n",
       "    <tr>\n",
       "      <th>2</th>\n",
       "      <td>3</td>\n",
       "      <td>Kent</td>\n",
       "      <td>0.429935</td>\n",
       "      <td>0.429312</td>\n",
       "      <td>0.429004</td>\n",
       "      <td>0.428822</td>\n",
       "      <td>0.428090</td>\n",
       "      <td>0.427227</td>\n",
       "      <td>0.427130</td>\n",
       "      <td>0.427362</td>\n",
       "      <td>...</td>\n",
       "      <td>1.509284</td>\n",
       "      <td>1.510514</td>\n",
       "      <td>1.511341</td>\n",
       "      <td>1.512626</td>\n",
       "      <td>1.513753</td>\n",
       "      <td>1.514989</td>\n",
       "      <td>1.515703</td>\n",
       "      <td>1.515965</td>\n",
       "      <td>378.17</td>\n",
       "      <td>33.07</td>\n",
       "    </tr>\n",
       "    <tr>\n",
       "      <th>3</th>\n",
       "      <td>4</td>\n",
       "      <td>Kent</td>\n",
       "      <td>0.417054</td>\n",
       "      <td>0.416565</td>\n",
       "      <td>0.416097</td>\n",
       "      <td>0.415913</td>\n",
       "      <td>0.415398</td>\n",
       "      <td>0.414692</td>\n",
       "      <td>0.414409</td>\n",
       "      <td>0.413956</td>\n",
       "      <td>...</td>\n",
       "      <td>1.583658</td>\n",
       "      <td>1.585719</td>\n",
       "      <td>1.586842</td>\n",
       "      <td>1.587910</td>\n",
       "      <td>1.588926</td>\n",
       "      <td>1.589898</td>\n",
       "      <td>1.590328</td>\n",
       "      <td>1.591335</td>\n",
       "      <td>276.55</td>\n",
       "      <td>30.63</td>\n",
       "    </tr>\n",
       "    <tr>\n",
       "      <th>4</th>\n",
       "      <td>5</td>\n",
       "      <td>Kent</td>\n",
       "      <td>0.433239</td>\n",
       "      <td>0.432622</td>\n",
       "      <td>0.432626</td>\n",
       "      <td>0.432379</td>\n",
       "      <td>0.431620</td>\n",
       "      <td>0.430710</td>\n",
       "      <td>0.430836</td>\n",
       "      <td>0.430847</td>\n",
       "      <td>...</td>\n",
       "      <td>1.604524</td>\n",
       "      <td>1.605982</td>\n",
       "      <td>1.606778</td>\n",
       "      <td>1.607837</td>\n",
       "      <td>1.608756</td>\n",
       "      <td>1.609967</td>\n",
       "      <td>1.610900</td>\n",
       "      <td>1.611099</td>\n",
       "      <td>324.40</td>\n",
       "      <td>31.69</td>\n",
       "    </tr>\n",
       "  </tbody>\n",
       "</table>\n",
       "<p>5 rows × 1561 columns</p>\n",
       "</div>"
      ],
      "text/plain": [
       "   No. variety     999.9    1000.3    1000.7    1001.1    1001.4    1001.8  \\\n",
       "0    1    Kent  0.428519  0.427882  0.427481  0.427315  0.427002  0.426289   \n",
       "1    2    Kent  0.455501  0.454918  0.454001  0.453701  0.453563  0.453152   \n",
       "2    3    Kent  0.429935  0.429312  0.429004  0.428822  0.428090  0.427227   \n",
       "3    4    Kent  0.417054  0.416565  0.416097  0.415913  0.415398  0.414692   \n",
       "4    5    Kent  0.433239  0.432622  0.432626  0.432379  0.431620  0.430710   \n",
       "\n",
       "     1002.2    1002.6  ...    2483.5    2485.8    2488.2    2490.6      2493  \\\n",
       "0  0.425939  0.425540  ...  1.585399  1.586905  1.587933  1.589149  1.590033   \n",
       "1  0.452960  0.452852  ...  1.455168  1.455935  1.456416  1.457003  1.457670   \n",
       "2  0.427130  0.427362  ...  1.509284  1.510514  1.511341  1.512626  1.513753   \n",
       "3  0.414409  0.413956  ...  1.583658  1.585719  1.586842  1.587910  1.588926   \n",
       "4  0.430836  0.430847  ...  1.604524  1.605982  1.606778  1.607837  1.608756   \n",
       "\n",
       "     2495.4    2497.8    2500.2  TA (mg/100gr FM)  Vit C (mg/100gr FM)  \n",
       "0  1.591012  1.591306  1.591581            268.56                29.95  \n",
       "1  1.458605  1.459040  1.459716            291.07                31.36  \n",
       "2  1.514989  1.515703  1.515965            378.17                33.07  \n",
       "3  1.589898  1.590328  1.591335            276.55                30.63  \n",
       "4  1.609967  1.610900  1.611099            324.40                31.69  \n",
       "\n",
       "[5 rows x 1561 columns]"
      ]
     },
     "execution_count": 7,
     "metadata": {},
     "output_type": "execute_result"
    }
   ],
   "source": [
    "\n",
    "df.drop(columns=['No'], inplace=True)\n",
    "df.head()"
   ]
  },
  {
   "cell_type": "code",
   "execution_count": 8,
   "id": "7c3b8119",
   "metadata": {},
   "outputs": [
    {
     "data": {
      "text/plain": [
       "<seaborn.axisgrid.FacetGrid at 0x1e355cab460>"
      ]
     },
     "execution_count": 8,
     "metadata": {},
     "output_type": "execute_result"
    },
    {
     "data": {
      "image/png": "[encoded data removed]",
      "text/plain": [
       "<Figure size 360x360 with 1 Axes>"
      ]
     },
     "metadata": {
      "needs_background": "light"
     },
     "output_type": "display_data"
    }
   ],
   "source": [
    "import seaborn as sns\n",
    "sns.displot(df['TA (mg/100gr FM)'])"
   ]
  },
  {
   "cell_type": "code",
   "execution_count": 9,
   "id": "299b7701",
   "metadata": {},
   "outputs": [
    {
     "data": {
      "image/png": "[encoded data removed]",
      "text/plain": [
       "<Figure size 576x324 with 1 Axes>"
      ]
     },
     "metadata": {
      "needs_background": "light"
     },
     "output_type": "display_data"
    }
   ],
   "source": [
    "wl = np.arange(0, 1557, 1)\n",
    "plt.figure(figsize=(8, 4.5))\n",
    "with plt.style.context('ggplot'):\n",
    "    plt.plot(wl, df.iloc[:,2:-2].values.T)\n",
    "    plt.xlabel(\"Wavelengths (nm)\")\n",
    "    plt.ylabel(\"Absorbance\")\n",
    "    plt.show()"
   ]
  },
  {
   "cell_type": "code",
   "execution_count": 10,
   "id": "7e8f0408",
   "metadata": {},
   "outputs": [
    {
     "data": {
      "text/html": [
       "<div>\n",
       "<style scoped>\n",
       "    .dataframe tbody tr th:only-of-type {\n",
       "        vertical-align: middle;\n",
       "    }\n",
       "\n",
       "    .dataframe tbody tr th {\n",
       "        vertical-align: top;\n",
       "    }\n",
       "\n",
       "    .dataframe thead th {\n",
       "        text-align: right;\n",
       "    }\n",
       "</style>\n",
       "<table border=\"1\" class=\"dataframe\">\n",
       "  <thead>\n",
       "    <tr style=\"text-align: right;\">\n",
       "      <th></th>\n",
       "      <th>No.</th>\n",
       "      <th>999.9</th>\n",
       "      <th>1000.3</th>\n",
       "      <th>1000.7</th>\n",
       "      <th>1001.1</th>\n",
       "      <th>1001.4</th>\n",
       "      <th>1001.8</th>\n",
       "      <th>1002.2</th>\n",
       "      <th>1002.6</th>\n",
       "      <th>1003</th>\n",
       "      <th>...</th>\n",
       "      <th>2483.5</th>\n",
       "      <th>2485.8</th>\n",
       "      <th>2488.2</th>\n",
       "      <th>2490.6</th>\n",
       "      <th>2493</th>\n",
       "      <th>2495.4</th>\n",
       "      <th>2497.8</th>\n",
       "      <th>2500.2</th>\n",
       "      <th>TA (mg/100gr FM)</th>\n",
       "      <th>Vit C (mg/100gr FM)</th>\n",
       "    </tr>\n",
       "  </thead>\n",
       "  <tbody>\n",
       "    <tr>\n",
       "      <th>count</th>\n",
       "      <td>58.000000</td>\n",
       "      <td>58.000000</td>\n",
       "      <td>58.000000</td>\n",
       "      <td>58.000000</td>\n",
       "      <td>58.000000</td>\n",
       "      <td>58.000000</td>\n",
       "      <td>58.000000</td>\n",
       "      <td>58.000000</td>\n",
       "      <td>58.000000</td>\n",
       "      <td>58.000000</td>\n",
       "      <td>...</td>\n",
       "      <td>58.000000</td>\n",
       "      <td>58.000000</td>\n",
       "      <td>58.000000</td>\n",
       "      <td>58.000000</td>\n",
       "      <td>58.000000</td>\n",
       "      <td>58.000000</td>\n",
       "      <td>58.000000</td>\n",
       "      <td>58.000000</td>\n",
       "      <td>58.000000</td>\n",
       "      <td>58.000000</td>\n",
       "    </tr>\n",
       "    <tr>\n",
       "      <th>mean</th>\n",
       "      <td>29.500000</td>\n",
       "      <td>0.460653</td>\n",
       "      <td>0.459933</td>\n",
       "      <td>0.459574</td>\n",
       "      <td>0.459491</td>\n",
       "      <td>0.459061</td>\n",
       "      <td>0.458285</td>\n",
       "      <td>0.457949</td>\n",
       "      <td>0.457766</td>\n",
       "      <td>0.457380</td>\n",
       "      <td>...</td>\n",
       "      <td>1.526632</td>\n",
       "      <td>1.528022</td>\n",
       "      <td>1.528898</td>\n",
       "      <td>1.529857</td>\n",
       "      <td>1.530579</td>\n",
       "      <td>1.531431</td>\n",
       "      <td>1.532195</td>\n",
       "      <td>1.533000</td>\n",
       "      <td>495.481552</td>\n",
       "      <td>32.206207</td>\n",
       "    </tr>\n",
       "    <tr>\n",
       "      <th>std</th>\n",
       "      <td>16.886879</td>\n",
       "      <td>0.031786</td>\n",
       "      <td>0.031751</td>\n",
       "      <td>0.031767</td>\n",
       "      <td>0.031751</td>\n",
       "      <td>0.031688</td>\n",
       "      <td>0.031685</td>\n",
       "      <td>0.031679</td>\n",
       "      <td>0.031711</td>\n",
       "      <td>0.031670</td>\n",
       "      <td>...</td>\n",
       "      <td>0.066033</td>\n",
       "      <td>0.066071</td>\n",
       "      <td>0.066045</td>\n",
       "      <td>0.066049</td>\n",
       "      <td>0.066061</td>\n",
       "      <td>0.066029</td>\n",
       "      <td>0.066026</td>\n",
       "      <td>0.065970</td>\n",
       "      <td>131.071278</td>\n",
       "      <td>1.306183</td>\n",
       "    </tr>\n",
       "    <tr>\n",
       "      <th>min</th>\n",
       "      <td>1.000000</td>\n",
       "      <td>0.402086</td>\n",
       "      <td>0.401481</td>\n",
       "      <td>0.401110</td>\n",
       "      <td>0.401233</td>\n",
       "      <td>0.401014</td>\n",
       "      <td>0.400085</td>\n",
       "      <td>0.399549</td>\n",
       "      <td>0.399255</td>\n",
       "      <td>0.398900</td>\n",
       "      <td>...</td>\n",
       "      <td>1.372218</td>\n",
       "      <td>1.373669</td>\n",
       "      <td>1.374740</td>\n",
       "      <td>1.375916</td>\n",
       "      <td>1.376677</td>\n",
       "      <td>1.377766</td>\n",
       "      <td>1.378839</td>\n",
       "      <td>1.379707</td>\n",
       "      <td>189.720000</td>\n",
       "      <td>28.930000</td>\n",
       "    </tr>\n",
       "    <tr>\n",
       "      <th>25%</th>\n",
       "      <td>15.250000</td>\n",
       "      <td>0.435018</td>\n",
       "      <td>0.434316</td>\n",
       "      <td>0.433993</td>\n",
       "      <td>0.433932</td>\n",
       "      <td>0.433669</td>\n",
       "      <td>0.432855</td>\n",
       "      <td>0.432442</td>\n",
       "      <td>0.432238</td>\n",
       "      <td>0.432158</td>\n",
       "      <td>...</td>\n",
       "      <td>1.475048</td>\n",
       "      <td>1.476691</td>\n",
       "      <td>1.477722</td>\n",
       "      <td>1.478711</td>\n",
       "      <td>1.479259</td>\n",
       "      <td>1.480368</td>\n",
       "      <td>1.481292</td>\n",
       "      <td>1.482093</td>\n",
       "      <td>413.210000</td>\n",
       "      <td>31.585000</td>\n",
       "    </tr>\n",
       "    <tr>\n",
       "      <th>50%</th>\n",
       "      <td>29.500000</td>\n",
       "      <td>0.461451</td>\n",
       "      <td>0.460869</td>\n",
       "      <td>0.460091</td>\n",
       "      <td>0.459754</td>\n",
       "      <td>0.459469</td>\n",
       "      <td>0.458879</td>\n",
       "      <td>0.458529</td>\n",
       "      <td>0.458229</td>\n",
       "      <td>0.457678</td>\n",
       "      <td>...</td>\n",
       "      <td>1.539385</td>\n",
       "      <td>1.540158</td>\n",
       "      <td>1.541077</td>\n",
       "      <td>1.542174</td>\n",
       "      <td>1.542736</td>\n",
       "      <td>1.543302</td>\n",
       "      <td>1.544208</td>\n",
       "      <td>1.545211</td>\n",
       "      <td>490.810000</td>\n",
       "      <td>32.125000</td>\n",
       "    </tr>\n",
       "    <tr>\n",
       "      <th>75%</th>\n",
       "      <td>43.750000</td>\n",
       "      <td>0.477194</td>\n",
       "      <td>0.476610</td>\n",
       "      <td>0.476370</td>\n",
       "      <td>0.476418</td>\n",
       "      <td>0.475867</td>\n",
       "      <td>0.475082</td>\n",
       "      <td>0.474711</td>\n",
       "      <td>0.474384</td>\n",
       "      <td>0.473837</td>\n",
       "      <td>...</td>\n",
       "      <td>1.577103</td>\n",
       "      <td>1.579154</td>\n",
       "      <td>1.580488</td>\n",
       "      <td>1.581241</td>\n",
       "      <td>1.581983</td>\n",
       "      <td>1.583017</td>\n",
       "      <td>1.583784</td>\n",
       "      <td>1.584993</td>\n",
       "      <td>582.930000</td>\n",
       "      <td>32.742500</td>\n",
       "    </tr>\n",
       "    <tr>\n",
       "      <th>max</th>\n",
       "      <td>58.000000</td>\n",
       "      <td>0.545846</td>\n",
       "      <td>0.544815</td>\n",
       "      <td>0.544524</td>\n",
       "      <td>0.544631</td>\n",
       "      <td>0.544169</td>\n",
       "      <td>0.543143</td>\n",
       "      <td>0.542535</td>\n",
       "      <td>0.542080</td>\n",
       "      <td>0.541842</td>\n",
       "      <td>...</td>\n",
       "      <td>1.658891</td>\n",
       "      <td>1.660840</td>\n",
       "      <td>1.661063</td>\n",
       "      <td>1.662344</td>\n",
       "      <td>1.663918</td>\n",
       "      <td>1.664709</td>\n",
       "      <td>1.664998</td>\n",
       "      <td>1.665684</td>\n",
       "      <td>772.770000</td>\n",
       "      <td>35.660000</td>\n",
       "    </tr>\n",
       "  </tbody>\n",
       "</table>\n",
       "<p>8 rows × 1560 columns</p>\n",
       "</div>"
      ],
      "text/plain": [
       "             No.      999.9     1000.3     1000.7     1001.1     1001.4  \\\n",
       "count  58.000000  58.000000  58.000000  58.000000  58.000000  58.000000   \n",
       "mean   29.500000   0.460653   0.459933   0.459574   0.459491   0.459061   \n",
       "std    16.886879   0.031786   0.031751   0.031767   0.031751   0.031688   \n",
       "min     1.000000   0.402086   0.401481   0.401110   0.401233   0.401014   \n",
       "25%    15.250000   0.435018   0.434316   0.433993   0.433932   0.433669   \n",
       "50%    29.500000   0.461451   0.460869   0.460091   0.459754   0.459469   \n",
       "75%    43.750000   0.477194   0.476610   0.476370   0.476418   0.475867   \n",
       "max    58.000000   0.545846   0.544815   0.544524   0.544631   0.544169   \n",
       "\n",
       "          1001.8     1002.2     1002.6       1003  ...     2483.5     2485.8  \\\n",
       "count  58.000000  58.000000  58.000000  58.000000  ...  58.000000  58.000000   \n",
       "mean    0.458285   0.457949   0.457766   0.457380  ...   1.526632   1.528022   \n",
       "std     0.031685   0.031679   0.031711   0.031670  ...   0.066033   0.066071   \n",
       "min     0.400085   0.399549   0.399255   0.398900  ...   1.372218   1.373669   \n",
       "25%     0.432855   0.432442   0.432238   0.432158  ...   1.475048   1.476691   \n",
       "50%     0.458879   0.458529   0.458229   0.457678  ...   1.539385   1.540158   \n",
       "75%     0.475082   0.474711   0.474384   0.473837  ...   1.577103   1.579154   \n",
       "max     0.543143   0.542535   0.542080   0.541842  ...   1.658891   1.660840   \n",
       "\n",
       "          2488.2     2490.6       2493     2495.4     2497.8     2500.2  \\\n",
       "count  58.000000  58.000000  58.000000  58.000000  58.000000  58.000000   \n",
       "mean    1.528898   1.529857   1.530579   1.531431   1.532195   1.533000   \n",
       "std     0.066045   0.066049   0.066061   0.066029   0.066026   0.065970   \n",
       "min     1.374740   1.375916   1.376677   1.377766   1.378839   1.379707   \n",
       "25%     1.477722   1.478711   1.479259   1.480368   1.481292   1.482093   \n",
       "50%     1.541077   1.542174   1.542736   1.543302   1.544208   1.545211   \n",
       "75%     1.580488   1.581241   1.581983   1.583017   1.583784   1.584993   \n",
       "max     1.661063   1.662344   1.663918   1.664709   1.664998   1.665684   \n",
       "\n",
       "       TA (mg/100gr FM)  Vit C (mg/100gr FM)  \n",
       "count         58.000000            58.000000  \n",
       "mean         495.481552            32.206207  \n",
       "std          131.071278             1.306183  \n",
       "min          189.720000            28.930000  \n",
       "25%          413.210000            31.585000  \n",
       "50%          490.810000            32.125000  \n",
       "75%          582.930000            32.742500  \n",
       "max          772.770000            35.660000  \n",
       "\n",
       "[8 rows x 1560 columns]"
      ]
     },
     "execution_count": 10,
     "metadata": {},
     "output_type": "execute_result"
    }
   ],
   "source": [
    "df.describe()"
   ]
  },
  {
   "cell_type": "code",
   "execution_count": 86,
   "id": "c0c84a51",
   "metadata": {},
   "outputs": [
    {
     "data": {
      "text/html": [
       "<div>\n",
       "<style scoped>\n",
       "    .dataframe tbody tr th:only-of-type {\n",
       "        vertical-align: middle;\n",
       "    }\n",
       "\n",
       "    .dataframe tbody tr th {\n",
       "        vertical-align: top;\n",
       "    }\n",
       "\n",
       "    .dataframe thead th {\n",
       "        text-align: right;\n",
       "    }\n",
       "</style>\n",
       "<table border=\"1\" class=\"dataframe\">\n",
       "  <thead>\n",
       "    <tr style=\"text-align: right;\">\n",
       "      <th></th>\n",
       "      <th>999.9</th>\n",
       "      <th>1000.3</th>\n",
       "      <th>1000.7</th>\n",
       "      <th>1001.1</th>\n",
       "      <th>1001.4</th>\n",
       "      <th>1001.8</th>\n",
       "      <th>1002.2</th>\n",
       "      <th>1002.6</th>\n",
       "      <th>1003</th>\n",
       "      <th>1003.4</th>\n",
       "      <th>...</th>\n",
       "      <th>2485.8</th>\n",
       "      <th>2488.2</th>\n",
       "      <th>2490.6</th>\n",
       "      <th>2493</th>\n",
       "      <th>2495.4</th>\n",
       "      <th>2497.8</th>\n",
       "      <th>2500.2</th>\n",
       "      <th>TA</th>\n",
       "      <th>C</th>\n",
       "      <th>class</th>\n",
       "    </tr>\n",
       "  </thead>\n",
       "  <tbody>\n",
       "    <tr>\n",
       "      <th>0</th>\n",
       "      <td>-0.000408</td>\n",
       "      <td>-0.000411</td>\n",
       "      <td>-0.000414</td>\n",
       "      <td>-0.000416</td>\n",
       "      <td>-0.000419</td>\n",
       "      <td>-0.000422</td>\n",
       "      <td>-0.000424</td>\n",
       "      <td>-0.000427</td>\n",
       "      <td>-0.000434</td>\n",
       "      <td>-0.000433</td>\n",
       "      <td>...</td>\n",
       "      <td>0.001153</td>\n",
       "      <td>0.001058</td>\n",
       "      <td>0.000963</td>\n",
       "      <td>0.000868</td>\n",
       "      <td>0.000773</td>\n",
       "      <td>0.000678</td>\n",
       "      <td>0.000583</td>\n",
       "      <td>268.56</td>\n",
       "      <td>29.95</td>\n",
       "      <td>2</td>\n",
       "    </tr>\n",
       "    <tr>\n",
       "      <th>1</th>\n",
       "      <td>-0.000276</td>\n",
       "      <td>-0.000295</td>\n",
       "      <td>-0.000314</td>\n",
       "      <td>-0.000332</td>\n",
       "      <td>-0.000351</td>\n",
       "      <td>-0.000370</td>\n",
       "      <td>-0.000389</td>\n",
       "      <td>-0.000408</td>\n",
       "      <td>-0.000416</td>\n",
       "      <td>-0.000417</td>\n",
       "      <td>...</td>\n",
       "      <td>0.000845</td>\n",
       "      <td>0.000763</td>\n",
       "      <td>0.000682</td>\n",
       "      <td>0.000601</td>\n",
       "      <td>0.000520</td>\n",
       "      <td>0.000438</td>\n",
       "      <td>0.000357</td>\n",
       "      <td>291.07</td>\n",
       "      <td>31.36</td>\n",
       "      <td>2</td>\n",
       "    </tr>\n",
       "    <tr>\n",
       "      <th>2</th>\n",
       "      <td>-0.000331</td>\n",
       "      <td>-0.000340</td>\n",
       "      <td>-0.000350</td>\n",
       "      <td>-0.000359</td>\n",
       "      <td>-0.000369</td>\n",
       "      <td>-0.000378</td>\n",
       "      <td>-0.000388</td>\n",
       "      <td>-0.000398</td>\n",
       "      <td>-0.000394</td>\n",
       "      <td>-0.000399</td>\n",
       "      <td>...</td>\n",
       "      <td>0.001277</td>\n",
       "      <td>0.001171</td>\n",
       "      <td>0.001065</td>\n",
       "      <td>0.000960</td>\n",
       "      <td>0.000854</td>\n",
       "      <td>0.000748</td>\n",
       "      <td>0.000643</td>\n",
       "      <td>378.17</td>\n",
       "      <td>33.07</td>\n",
       "      <td>3</td>\n",
       "    </tr>\n",
       "    <tr>\n",
       "      <th>3</th>\n",
       "      <td>-0.000463</td>\n",
       "      <td>-0.000455</td>\n",
       "      <td>-0.000447</td>\n",
       "      <td>-0.000439</td>\n",
       "      <td>-0.000431</td>\n",
       "      <td>-0.000423</td>\n",
       "      <td>-0.000415</td>\n",
       "      <td>-0.000407</td>\n",
       "      <td>-0.000403</td>\n",
       "      <td>-0.000406</td>\n",
       "      <td>...</td>\n",
       "      <td>0.001354</td>\n",
       "      <td>0.001220</td>\n",
       "      <td>0.001085</td>\n",
       "      <td>0.000950</td>\n",
       "      <td>0.000816</td>\n",
       "      <td>0.000681</td>\n",
       "      <td>0.000546</td>\n",
       "      <td>276.55</td>\n",
       "      <td>30.63</td>\n",
       "      <td>2</td>\n",
       "    </tr>\n",
       "    <tr>\n",
       "      <th>4</th>\n",
       "      <td>-0.000342</td>\n",
       "      <td>-0.000353</td>\n",
       "      <td>-0.000365</td>\n",
       "      <td>-0.000376</td>\n",
       "      <td>-0.000388</td>\n",
       "      <td>-0.000399</td>\n",
       "      <td>-0.000411</td>\n",
       "      <td>-0.000422</td>\n",
       "      <td>-0.000432</td>\n",
       "      <td>-0.000443</td>\n",
       "      <td>...</td>\n",
       "      <td>0.001285</td>\n",
       "      <td>0.001168</td>\n",
       "      <td>0.001051</td>\n",
       "      <td>0.000933</td>\n",
       "      <td>0.000816</td>\n",
       "      <td>0.000699</td>\n",
       "      <td>0.000582</td>\n",
       "      <td>324.40</td>\n",
       "      <td>31.69</td>\n",
       "      <td>3</td>\n",
       "    </tr>\n",
       "    <tr>\n",
       "      <th>5</th>\n",
       "      <td>-0.000423</td>\n",
       "      <td>-0.000423</td>\n",
       "      <td>-0.000423</td>\n",
       "      <td>-0.000423</td>\n",
       "      <td>-0.000423</td>\n",
       "      <td>-0.000422</td>\n",
       "      <td>-0.000422</td>\n",
       "      <td>-0.000422</td>\n",
       "      <td>-0.000425</td>\n",
       "      <td>-0.000433</td>\n",
       "      <td>...</td>\n",
       "      <td>0.001296</td>\n",
       "      <td>0.001174</td>\n",
       "      <td>0.001053</td>\n",
       "      <td>0.000931</td>\n",
       "      <td>0.000810</td>\n",
       "      <td>0.000688</td>\n",
       "      <td>0.000567</td>\n",
       "      <td>394.76</td>\n",
       "      <td>32.02</td>\n",
       "      <td>3</td>\n",
       "    </tr>\n",
       "    <tr>\n",
       "      <th>6</th>\n",
       "      <td>-0.000369</td>\n",
       "      <td>-0.000383</td>\n",
       "      <td>-0.000397</td>\n",
       "      <td>-0.000411</td>\n",
       "      <td>-0.000425</td>\n",
       "      <td>-0.000439</td>\n",
       "      <td>-0.000453</td>\n",
       "      <td>-0.000467</td>\n",
       "      <td>-0.000469</td>\n",
       "      <td>-0.000472</td>\n",
       "      <td>...</td>\n",
       "      <td>0.000905</td>\n",
       "      <td>0.000819</td>\n",
       "      <td>0.000733</td>\n",
       "      <td>0.000648</td>\n",
       "      <td>0.000562</td>\n",
       "      <td>0.000476</td>\n",
       "      <td>0.000390</td>\n",
       "      <td>449.97</td>\n",
       "      <td>32.43</td>\n",
       "      <td>4</td>\n",
       "    </tr>\n",
       "    <tr>\n",
       "      <th>7</th>\n",
       "      <td>-0.000346</td>\n",
       "      <td>-0.000353</td>\n",
       "      <td>-0.000359</td>\n",
       "      <td>-0.000366</td>\n",
       "      <td>-0.000372</td>\n",
       "      <td>-0.000379</td>\n",
       "      <td>-0.000385</td>\n",
       "      <td>-0.000392</td>\n",
       "      <td>-0.000398</td>\n",
       "      <td>-0.000414</td>\n",
       "      <td>...</td>\n",
       "      <td>0.001169</td>\n",
       "      <td>0.001091</td>\n",
       "      <td>0.001014</td>\n",
       "      <td>0.000936</td>\n",
       "      <td>0.000858</td>\n",
       "      <td>0.000781</td>\n",
       "      <td>0.000703</td>\n",
       "      <td>189.72</td>\n",
       "      <td>28.93</td>\n",
       "      <td>2</td>\n",
       "    </tr>\n",
       "    <tr>\n",
       "      <th>8</th>\n",
       "      <td>-0.000516</td>\n",
       "      <td>-0.000507</td>\n",
       "      <td>-0.000499</td>\n",
       "      <td>-0.000490</td>\n",
       "      <td>-0.000481</td>\n",
       "      <td>-0.000472</td>\n",
       "      <td>-0.000463</td>\n",
       "      <td>-0.000455</td>\n",
       "      <td>-0.000445</td>\n",
       "      <td>-0.000437</td>\n",
       "      <td>...</td>\n",
       "      <td>0.000998</td>\n",
       "      <td>0.000923</td>\n",
       "      <td>0.000847</td>\n",
       "      <td>0.000771</td>\n",
       "      <td>0.000695</td>\n",
       "      <td>0.000619</td>\n",
       "      <td>0.000543</td>\n",
       "      <td>298.37</td>\n",
       "      <td>29.94</td>\n",
       "      <td>2</td>\n",
       "    </tr>\n",
       "    <tr>\n",
       "      <th>9</th>\n",
       "      <td>-0.000512</td>\n",
       "      <td>-0.000498</td>\n",
       "      <td>-0.000484</td>\n",
       "      <td>-0.000470</td>\n",
       "      <td>-0.000456</td>\n",
       "      <td>-0.000442</td>\n",
       "      <td>-0.000428</td>\n",
       "      <td>-0.000414</td>\n",
       "      <td>-0.000415</td>\n",
       "      <td>-0.000414</td>\n",
       "      <td>...</td>\n",
       "      <td>0.001303</td>\n",
       "      <td>0.001215</td>\n",
       "      <td>0.001126</td>\n",
       "      <td>0.001038</td>\n",
       "      <td>0.000950</td>\n",
       "      <td>0.000862</td>\n",
       "      <td>0.000774</td>\n",
       "      <td>203.86</td>\n",
       "      <td>29.18</td>\n",
       "      <td>2</td>\n",
       "    </tr>\n",
       "    <tr>\n",
       "      <th>10</th>\n",
       "      <td>-0.000239</td>\n",
       "      <td>-0.000259</td>\n",
       "      <td>-0.000279</td>\n",
       "      <td>-0.000299</td>\n",
       "      <td>-0.000318</td>\n",
       "      <td>-0.000338</td>\n",
       "      <td>-0.000358</td>\n",
       "      <td>-0.000377</td>\n",
       "      <td>-0.000394</td>\n",
       "      <td>-0.000409</td>\n",
       "      <td>...</td>\n",
       "      <td>0.001266</td>\n",
       "      <td>0.001162</td>\n",
       "      <td>0.001058</td>\n",
       "      <td>0.000953</td>\n",
       "      <td>0.000849</td>\n",
       "      <td>0.000745</td>\n",
       "      <td>0.000640</td>\n",
       "      <td>444.48</td>\n",
       "      <td>32.67</td>\n",
       "      <td>4</td>\n",
       "    </tr>\n",
       "    <tr>\n",
       "      <th>11</th>\n",
       "      <td>-0.000280</td>\n",
       "      <td>-0.000296</td>\n",
       "      <td>-0.000313</td>\n",
       "      <td>-0.000329</td>\n",
       "      <td>-0.000345</td>\n",
       "      <td>-0.000362</td>\n",
       "      <td>-0.000378</td>\n",
       "      <td>-0.000394</td>\n",
       "      <td>-0.000392</td>\n",
       "      <td>-0.000409</td>\n",
       "      <td>...</td>\n",
       "      <td>0.000952</td>\n",
       "      <td>0.000896</td>\n",
       "      <td>0.000839</td>\n",
       "      <td>0.000783</td>\n",
       "      <td>0.000727</td>\n",
       "      <td>0.000670</td>\n",
       "      <td>0.000614</td>\n",
       "      <td>366.56</td>\n",
       "      <td>31.53</td>\n",
       "      <td>3</td>\n",
       "    </tr>\n",
       "    <tr>\n",
       "      <th>12</th>\n",
       "      <td>-0.000299</td>\n",
       "      <td>-0.000310</td>\n",
       "      <td>-0.000321</td>\n",
       "      <td>-0.000332</td>\n",
       "      <td>-0.000343</td>\n",
       "      <td>-0.000354</td>\n",
       "      <td>-0.000365</td>\n",
       "      <td>-0.000376</td>\n",
       "      <td>-0.000386</td>\n",
       "      <td>-0.000397</td>\n",
       "      <td>...</td>\n",
       "      <td>0.000897</td>\n",
       "      <td>0.000820</td>\n",
       "      <td>0.000742</td>\n",
       "      <td>0.000665</td>\n",
       "      <td>0.000587</td>\n",
       "      <td>0.000510</td>\n",
       "      <td>0.000432</td>\n",
       "      <td>452.36</td>\n",
       "      <td>32.75</td>\n",
       "      <td>4</td>\n",
       "    </tr>\n",
       "    <tr>\n",
       "      <th>13</th>\n",
       "      <td>-0.000336</td>\n",
       "      <td>-0.000336</td>\n",
       "      <td>-0.000336</td>\n",
       "      <td>-0.000336</td>\n",
       "      <td>-0.000336</td>\n",
       "      <td>-0.000336</td>\n",
       "      <td>-0.000336</td>\n",
       "      <td>-0.000336</td>\n",
       "      <td>-0.000346</td>\n",
       "      <td>-0.000364</td>\n",
       "      <td>...</td>\n",
       "      <td>0.001135</td>\n",
       "      <td>0.001041</td>\n",
       "      <td>0.000948</td>\n",
       "      <td>0.000855</td>\n",
       "      <td>0.000761</td>\n",
       "      <td>0.000668</td>\n",
       "      <td>0.000575</td>\n",
       "      <td>432.59</td>\n",
       "      <td>32.10</td>\n",
       "      <td>4</td>\n",
       "    </tr>\n",
       "    <tr>\n",
       "      <th>14</th>\n",
       "      <td>-0.000491</td>\n",
       "      <td>-0.000482</td>\n",
       "      <td>-0.000474</td>\n",
       "      <td>-0.000465</td>\n",
       "      <td>-0.000456</td>\n",
       "      <td>-0.000448</td>\n",
       "      <td>-0.000439</td>\n",
       "      <td>-0.000430</td>\n",
       "      <td>-0.000426</td>\n",
       "      <td>-0.000430</td>\n",
       "      <td>...</td>\n",
       "      <td>0.000879</td>\n",
       "      <td>0.000795</td>\n",
       "      <td>0.000710</td>\n",
       "      <td>0.000625</td>\n",
       "      <td>0.000541</td>\n",
       "      <td>0.000456</td>\n",
       "      <td>0.000371</td>\n",
       "      <td>408.60</td>\n",
       "      <td>32.69</td>\n",
       "      <td>4</td>\n",
       "    </tr>\n",
       "    <tr>\n",
       "      <th>15</th>\n",
       "      <td>-0.000338</td>\n",
       "      <td>-0.000347</td>\n",
       "      <td>-0.000355</td>\n",
       "      <td>-0.000364</td>\n",
       "      <td>-0.000373</td>\n",
       "      <td>-0.000382</td>\n",
       "      <td>-0.000390</td>\n",
       "      <td>-0.000399</td>\n",
       "      <td>-0.000401</td>\n",
       "      <td>-0.000417</td>\n",
       "      <td>...</td>\n",
       "      <td>0.000875</td>\n",
       "      <td>0.000800</td>\n",
       "      <td>0.000724</td>\n",
       "      <td>0.000649</td>\n",
       "      <td>0.000573</td>\n",
       "      <td>0.000498</td>\n",
       "      <td>0.000423</td>\n",
       "      <td>362.35</td>\n",
       "      <td>30.42</td>\n",
       "      <td>3</td>\n",
       "    </tr>\n",
       "    <tr>\n",
       "      <th>16</th>\n",
       "      <td>-0.000472</td>\n",
       "      <td>-0.000468</td>\n",
       "      <td>-0.000465</td>\n",
       "      <td>-0.000461</td>\n",
       "      <td>-0.000458</td>\n",
       "      <td>-0.000454</td>\n",
       "      <td>-0.000450</td>\n",
       "      <td>-0.000447</td>\n",
       "      <td>-0.000443</td>\n",
       "      <td>-0.000455</td>\n",
       "      <td>...</td>\n",
       "      <td>0.000677</td>\n",
       "      <td>0.000608</td>\n",
       "      <td>0.000539</td>\n",
       "      <td>0.000469</td>\n",
       "      <td>0.000400</td>\n",
       "      <td>0.000331</td>\n",
       "      <td>0.000262</td>\n",
       "      <td>469.52</td>\n",
       "      <td>33.39</td>\n",
       "      <td>4</td>\n",
       "    </tr>\n",
       "    <tr>\n",
       "      <th>17</th>\n",
       "      <td>-0.000496</td>\n",
       "      <td>-0.000494</td>\n",
       "      <td>-0.000493</td>\n",
       "      <td>-0.000491</td>\n",
       "      <td>-0.000489</td>\n",
       "      <td>-0.000488</td>\n",
       "      <td>-0.000486</td>\n",
       "      <td>-0.000485</td>\n",
       "      <td>-0.000486</td>\n",
       "      <td>-0.000484</td>\n",
       "      <td>...</td>\n",
       "      <td>0.000608</td>\n",
       "      <td>0.000541</td>\n",
       "      <td>0.000474</td>\n",
       "      <td>0.000407</td>\n",
       "      <td>0.000340</td>\n",
       "      <td>0.000273</td>\n",
       "      <td>0.000206</td>\n",
       "      <td>466.18</td>\n",
       "      <td>35.19</td>\n",
       "      <td>4</td>\n",
       "    </tr>\n",
       "    <tr>\n",
       "      <th>18</th>\n",
       "      <td>-0.000355</td>\n",
       "      <td>-0.000358</td>\n",
       "      <td>-0.000360</td>\n",
       "      <td>-0.000362</td>\n",
       "      <td>-0.000364</td>\n",
       "      <td>-0.000367</td>\n",
       "      <td>-0.000369</td>\n",
       "      <td>-0.000371</td>\n",
       "      <td>-0.000375</td>\n",
       "      <td>-0.000385</td>\n",
       "      <td>...</td>\n",
       "      <td>0.001139</td>\n",
       "      <td>0.001021</td>\n",
       "      <td>0.000903</td>\n",
       "      <td>0.000784</td>\n",
       "      <td>0.000666</td>\n",
       "      <td>0.000548</td>\n",
       "      <td>0.000429</td>\n",
       "      <td>412.89</td>\n",
       "      <td>30.79</td>\n",
       "      <td>4</td>\n",
       "    </tr>\n",
       "    <tr>\n",
       "      <th>19</th>\n",
       "      <td>-0.000387</td>\n",
       "      <td>-0.000387</td>\n",
       "      <td>-0.000388</td>\n",
       "      <td>-0.000388</td>\n",
       "      <td>-0.000389</td>\n",
       "      <td>-0.000389</td>\n",
       "      <td>-0.000390</td>\n",
       "      <td>-0.000390</td>\n",
       "      <td>-0.000386</td>\n",
       "      <td>-0.000398</td>\n",
       "      <td>...</td>\n",
       "      <td>0.000749</td>\n",
       "      <td>0.000660</td>\n",
       "      <td>0.000571</td>\n",
       "      <td>0.000482</td>\n",
       "      <td>0.000393</td>\n",
       "      <td>0.000304</td>\n",
       "      <td>0.000215</td>\n",
       "      <td>381.98</td>\n",
       "      <td>31.03</td>\n",
       "      <td>3</td>\n",
       "    </tr>\n",
       "    <tr>\n",
       "      <th>20</th>\n",
       "      <td>-0.000336</td>\n",
       "      <td>-0.000342</td>\n",
       "      <td>-0.000348</td>\n",
       "      <td>-0.000353</td>\n",
       "      <td>-0.000359</td>\n",
       "      <td>-0.000365</td>\n",
       "      <td>-0.000370</td>\n",
       "      <td>-0.000376</td>\n",
       "      <td>-0.000379</td>\n",
       "      <td>-0.000398</td>\n",
       "      <td>...</td>\n",
       "      <td>0.001348</td>\n",
       "      <td>0.001241</td>\n",
       "      <td>0.001134</td>\n",
       "      <td>0.001027</td>\n",
       "      <td>0.000919</td>\n",
       "      <td>0.000812</td>\n",
       "      <td>0.000705</td>\n",
       "      <td>414.17</td>\n",
       "      <td>32.72</td>\n",
       "      <td>4</td>\n",
       "    </tr>\n",
       "    <tr>\n",
       "      <th>21</th>\n",
       "      <td>-0.000533</td>\n",
       "      <td>-0.000522</td>\n",
       "      <td>-0.000512</td>\n",
       "      <td>-0.000501</td>\n",
       "      <td>-0.000491</td>\n",
       "      <td>-0.000480</td>\n",
       "      <td>-0.000470</td>\n",
       "      <td>-0.000459</td>\n",
       "      <td>-0.000465</td>\n",
       "      <td>-0.000461</td>\n",
       "      <td>...</td>\n",
       "      <td>0.001389</td>\n",
       "      <td>0.001285</td>\n",
       "      <td>0.001182</td>\n",
       "      <td>0.001078</td>\n",
       "      <td>0.000974</td>\n",
       "      <td>0.000870</td>\n",
       "      <td>0.000767</td>\n",
       "      <td>505.05</td>\n",
       "      <td>35.27</td>\n",
       "      <td>5</td>\n",
       "    </tr>\n",
       "    <tr>\n",
       "      <th>22</th>\n",
       "      <td>-0.000361</td>\n",
       "      <td>-0.000371</td>\n",
       "      <td>-0.000381</td>\n",
       "      <td>-0.000391</td>\n",
       "      <td>-0.000401</td>\n",
       "      <td>-0.000411</td>\n",
       "      <td>-0.000421</td>\n",
       "      <td>-0.000431</td>\n",
       "      <td>-0.000442</td>\n",
       "      <td>-0.000452</td>\n",
       "      <td>...</td>\n",
       "      <td>0.000858</td>\n",
       "      <td>0.000767</td>\n",
       "      <td>0.000675</td>\n",
       "      <td>0.000584</td>\n",
       "      <td>0.000492</td>\n",
       "      <td>0.000401</td>\n",
       "      <td>0.000310</td>\n",
       "      <td>757.02</td>\n",
       "      <td>33.14</td>\n",
       "      <td>7</td>\n",
       "    </tr>\n",
       "    <tr>\n",
       "      <th>23</th>\n",
       "      <td>-0.000330</td>\n",
       "      <td>-0.000342</td>\n",
       "      <td>-0.000355</td>\n",
       "      <td>-0.000367</td>\n",
       "      <td>-0.000380</td>\n",
       "      <td>-0.000392</td>\n",
       "      <td>-0.000405</td>\n",
       "      <td>-0.000417</td>\n",
       "      <td>-0.000420</td>\n",
       "      <td>-0.000432</td>\n",
       "      <td>...</td>\n",
       "      <td>0.001227</td>\n",
       "      <td>0.001121</td>\n",
       "      <td>0.001016</td>\n",
       "      <td>0.000911</td>\n",
       "      <td>0.000806</td>\n",
       "      <td>0.000700</td>\n",
       "      <td>0.000595</td>\n",
       "      <td>437.32</td>\n",
       "      <td>32.30</td>\n",
       "      <td>4</td>\n",
       "    </tr>\n",
       "    <tr>\n",
       "      <th>24</th>\n",
       "      <td>-0.000439</td>\n",
       "      <td>-0.000439</td>\n",
       "      <td>-0.000438</td>\n",
       "      <td>-0.000437</td>\n",
       "      <td>-0.000437</td>\n",
       "      <td>-0.000436</td>\n",
       "      <td>-0.000436</td>\n",
       "      <td>-0.000435</td>\n",
       "      <td>-0.000429</td>\n",
       "      <td>-0.000435</td>\n",
       "      <td>...</td>\n",
       "      <td>0.000987</td>\n",
       "      <td>0.000918</td>\n",
       "      <td>0.000850</td>\n",
       "      <td>0.000782</td>\n",
       "      <td>0.000714</td>\n",
       "      <td>0.000646</td>\n",
       "      <td>0.000578</td>\n",
       "      <td>589.64</td>\n",
       "      <td>34.27</td>\n",
       "      <td>5</td>\n",
       "    </tr>\n",
       "    <tr>\n",
       "      <th>25</th>\n",
       "      <td>-0.000340</td>\n",
       "      <td>-0.000345</td>\n",
       "      <td>-0.000350</td>\n",
       "      <td>-0.000355</td>\n",
       "      <td>-0.000360</td>\n",
       "      <td>-0.000365</td>\n",
       "      <td>-0.000369</td>\n",
       "      <td>-0.000374</td>\n",
       "      <td>-0.000386</td>\n",
       "      <td>-0.000397</td>\n",
       "      <td>...</td>\n",
       "      <td>0.001299</td>\n",
       "      <td>0.001208</td>\n",
       "      <td>0.001118</td>\n",
       "      <td>0.001027</td>\n",
       "      <td>0.000937</td>\n",
       "      <td>0.000846</td>\n",
       "      <td>0.000756</td>\n",
       "      <td>495.30</td>\n",
       "      <td>30.70</td>\n",
       "      <td>4</td>\n",
       "    </tr>\n",
       "    <tr>\n",
       "      <th>26</th>\n",
       "      <td>-0.000424</td>\n",
       "      <td>-0.000425</td>\n",
       "      <td>-0.000426</td>\n",
       "      <td>-0.000427</td>\n",
       "      <td>-0.000428</td>\n",
       "      <td>-0.000428</td>\n",
       "      <td>-0.000429</td>\n",
       "      <td>-0.000430</td>\n",
       "      <td>-0.000434</td>\n",
       "      <td>-0.000432</td>\n",
       "      <td>...</td>\n",
       "      <td>0.001331</td>\n",
       "      <td>0.001218</td>\n",
       "      <td>0.001106</td>\n",
       "      <td>0.000994</td>\n",
       "      <td>0.000881</td>\n",
       "      <td>0.000769</td>\n",
       "      <td>0.000656</td>\n",
       "      <td>487.58</td>\n",
       "      <td>35.66</td>\n",
       "      <td>4</td>\n",
       "    </tr>\n",
       "    <tr>\n",
       "      <th>27</th>\n",
       "      <td>-0.000375</td>\n",
       "      <td>-0.000385</td>\n",
       "      <td>-0.000395</td>\n",
       "      <td>-0.000406</td>\n",
       "      <td>-0.000416</td>\n",
       "      <td>-0.000426</td>\n",
       "      <td>-0.000436</td>\n",
       "      <td>-0.000446</td>\n",
       "      <td>-0.000454</td>\n",
       "      <td>-0.000468</td>\n",
       "      <td>...</td>\n",
       "      <td>0.001130</td>\n",
       "      <td>0.001042</td>\n",
       "      <td>0.000954</td>\n",
       "      <td>0.000866</td>\n",
       "      <td>0.000778</td>\n",
       "      <td>0.000689</td>\n",
       "      <td>0.000601</td>\n",
       "      <td>492.19</td>\n",
       "      <td>31.21</td>\n",
       "      <td>4</td>\n",
       "    </tr>\n",
       "    <tr>\n",
       "      <th>28</th>\n",
       "      <td>-0.000334</td>\n",
       "      <td>-0.000345</td>\n",
       "      <td>-0.000357</td>\n",
       "      <td>-0.000368</td>\n",
       "      <td>-0.000380</td>\n",
       "      <td>-0.000391</td>\n",
       "      <td>-0.000403</td>\n",
       "      <td>-0.000414</td>\n",
       "      <td>-0.000424</td>\n",
       "      <td>-0.000436</td>\n",
       "      <td>...</td>\n",
       "      <td>0.000964</td>\n",
       "      <td>0.000907</td>\n",
       "      <td>0.000849</td>\n",
       "      <td>0.000791</td>\n",
       "      <td>0.000733</td>\n",
       "      <td>0.000675</td>\n",
       "      <td>0.000618</td>\n",
       "      <td>489.43</td>\n",
       "      <td>32.23</td>\n",
       "      <td>4</td>\n",
       "    </tr>\n",
       "    <tr>\n",
       "      <th>29</th>\n",
       "      <td>-0.000514</td>\n",
       "      <td>-0.000501</td>\n",
       "      <td>-0.000488</td>\n",
       "      <td>-0.000475</td>\n",
       "      <td>-0.000462</td>\n",
       "      <td>-0.000448</td>\n",
       "      <td>-0.000435</td>\n",
       "      <td>-0.000422</td>\n",
       "      <td>-0.000422</td>\n",
       "      <td>-0.000423</td>\n",
       "      <td>...</td>\n",
       "      <td>0.001009</td>\n",
       "      <td>0.000937</td>\n",
       "      <td>0.000864</td>\n",
       "      <td>0.000792</td>\n",
       "      <td>0.000720</td>\n",
       "      <td>0.000647</td>\n",
       "      <td>0.000575</td>\n",
       "      <td>430.28</td>\n",
       "      <td>32.59</td>\n",
       "      <td>4</td>\n",
       "    </tr>\n",
       "    <tr>\n",
       "      <th>30</th>\n",
       "      <td>-0.000317</td>\n",
       "      <td>-0.000325</td>\n",
       "      <td>-0.000333</td>\n",
       "      <td>-0.000341</td>\n",
       "      <td>-0.000349</td>\n",
       "      <td>-0.000357</td>\n",
       "      <td>-0.000365</td>\n",
       "      <td>-0.000374</td>\n",
       "      <td>-0.000375</td>\n",
       "      <td>-0.000381</td>\n",
       "      <td>...</td>\n",
       "      <td>0.001137</td>\n",
       "      <td>0.001034</td>\n",
       "      <td>0.000932</td>\n",
       "      <td>0.000829</td>\n",
       "      <td>0.000727</td>\n",
       "      <td>0.000624</td>\n",
       "      <td>0.000522</td>\n",
       "      <td>603.27</td>\n",
       "      <td>33.48</td>\n",
       "      <td>6</td>\n",
       "    </tr>\n",
       "    <tr>\n",
       "      <th>31</th>\n",
       "      <td>-0.000337</td>\n",
       "      <td>-0.000347</td>\n",
       "      <td>-0.000357</td>\n",
       "      <td>-0.000367</td>\n",
       "      <td>-0.000377</td>\n",
       "      <td>-0.000387</td>\n",
       "      <td>-0.000397</td>\n",
       "      <td>-0.000406</td>\n",
       "      <td>-0.000416</td>\n",
       "      <td>-0.000433</td>\n",
       "      <td>...</td>\n",
       "      <td>0.001121</td>\n",
       "      <td>0.001029</td>\n",
       "      <td>0.000937</td>\n",
       "      <td>0.000845</td>\n",
       "      <td>0.000753</td>\n",
       "      <td>0.000661</td>\n",
       "      <td>0.000569</td>\n",
       "      <td>456.68</td>\n",
       "      <td>32.61</td>\n",
       "      <td>4</td>\n",
       "    </tr>\n",
       "    <tr>\n",
       "      <th>32</th>\n",
       "      <td>-0.000325</td>\n",
       "      <td>-0.000335</td>\n",
       "      <td>-0.000344</td>\n",
       "      <td>-0.000354</td>\n",
       "      <td>-0.000364</td>\n",
       "      <td>-0.000373</td>\n",
       "      <td>-0.000383</td>\n",
       "      <td>-0.000392</td>\n",
       "      <td>-0.000395</td>\n",
       "      <td>-0.000401</td>\n",
       "      <td>...</td>\n",
       "      <td>0.001173</td>\n",
       "      <td>0.001095</td>\n",
       "      <td>0.001017</td>\n",
       "      <td>0.000939</td>\n",
       "      <td>0.000861</td>\n",
       "      <td>0.000783</td>\n",
       "      <td>0.000705</td>\n",
       "      <td>569.95</td>\n",
       "      <td>33.98</td>\n",
       "      <td>5</td>\n",
       "    </tr>\n",
       "    <tr>\n",
       "      <th>33</th>\n",
       "      <td>-0.000446</td>\n",
       "      <td>-0.000438</td>\n",
       "      <td>-0.000430</td>\n",
       "      <td>-0.000423</td>\n",
       "      <td>-0.000415</td>\n",
       "      <td>-0.000407</td>\n",
       "      <td>-0.000400</td>\n",
       "      <td>-0.000392</td>\n",
       "      <td>-0.000388</td>\n",
       "      <td>-0.000391</td>\n",
       "      <td>...</td>\n",
       "      <td>0.001156</td>\n",
       "      <td>0.001057</td>\n",
       "      <td>0.000959</td>\n",
       "      <td>0.000861</td>\n",
       "      <td>0.000762</td>\n",
       "      <td>0.000664</td>\n",
       "      <td>0.000566</td>\n",
       "      <td>537.99</td>\n",
       "      <td>32.41</td>\n",
       "      <td>5</td>\n",
       "    </tr>\n",
       "    <tr>\n",
       "      <th>34</th>\n",
       "      <td>-0.000338</td>\n",
       "      <td>-0.000351</td>\n",
       "      <td>-0.000364</td>\n",
       "      <td>-0.000377</td>\n",
       "      <td>-0.000390</td>\n",
       "      <td>-0.000403</td>\n",
       "      <td>-0.000416</td>\n",
       "      <td>-0.000430</td>\n",
       "      <td>-0.000438</td>\n",
       "      <td>-0.000441</td>\n",
       "      <td>...</td>\n",
       "      <td>0.000727</td>\n",
       "      <td>0.000656</td>\n",
       "      <td>0.000585</td>\n",
       "      <td>0.000514</td>\n",
       "      <td>0.000443</td>\n",
       "      <td>0.000371</td>\n",
       "      <td>0.000300</td>\n",
       "      <td>563.66</td>\n",
       "      <td>33.12</td>\n",
       "      <td>5</td>\n",
       "    </tr>\n",
       "    <tr>\n",
       "      <th>35</th>\n",
       "      <td>-0.000380</td>\n",
       "      <td>-0.000382</td>\n",
       "      <td>-0.000384</td>\n",
       "      <td>-0.000386</td>\n",
       "      <td>-0.000387</td>\n",
       "      <td>-0.000389</td>\n",
       "      <td>-0.000391</td>\n",
       "      <td>-0.000393</td>\n",
       "      <td>-0.000393</td>\n",
       "      <td>-0.000398</td>\n",
       "      <td>...</td>\n",
       "      <td>0.001187</td>\n",
       "      <td>0.001069</td>\n",
       "      <td>0.000950</td>\n",
       "      <td>0.000832</td>\n",
       "      <td>0.000714</td>\n",
       "      <td>0.000595</td>\n",
       "      <td>0.000477</td>\n",
       "      <td>483.12</td>\n",
       "      <td>33.15</td>\n",
       "      <td>4</td>\n",
       "    </tr>\n",
       "    <tr>\n",
       "      <th>36</th>\n",
       "      <td>-0.000417</td>\n",
       "      <td>-0.000417</td>\n",
       "      <td>-0.000417</td>\n",
       "      <td>-0.000416</td>\n",
       "      <td>-0.000416</td>\n",
       "      <td>-0.000416</td>\n",
       "      <td>-0.000416</td>\n",
       "      <td>-0.000415</td>\n",
       "      <td>-0.000414</td>\n",
       "      <td>-0.000412</td>\n",
       "      <td>...</td>\n",
       "      <td>0.000697</td>\n",
       "      <td>0.000642</td>\n",
       "      <td>0.000586</td>\n",
       "      <td>0.000531</td>\n",
       "      <td>0.000475</td>\n",
       "      <td>0.000420</td>\n",
       "      <td>0.000364</td>\n",
       "      <td>472.32</td>\n",
       "      <td>32.71</td>\n",
       "      <td>4</td>\n",
       "    </tr>\n",
       "    <tr>\n",
       "      <th>37</th>\n",
       "      <td>-0.000329</td>\n",
       "      <td>-0.000338</td>\n",
       "      <td>-0.000347</td>\n",
       "      <td>-0.000357</td>\n",
       "      <td>-0.000366</td>\n",
       "      <td>-0.000375</td>\n",
       "      <td>-0.000384</td>\n",
       "      <td>-0.000394</td>\n",
       "      <td>-0.000397</td>\n",
       "      <td>-0.000405</td>\n",
       "      <td>...</td>\n",
       "      <td>0.000954</td>\n",
       "      <td>0.000881</td>\n",
       "      <td>0.000809</td>\n",
       "      <td>0.000736</td>\n",
       "      <td>0.000664</td>\n",
       "      <td>0.000592</td>\n",
       "      <td>0.000519</td>\n",
       "      <td>607.74</td>\n",
       "      <td>34.01</td>\n",
       "      <td>6</td>\n",
       "    </tr>\n",
       "    <tr>\n",
       "      <th>38</th>\n",
       "      <td>-0.000337</td>\n",
       "      <td>-0.000346</td>\n",
       "      <td>-0.000355</td>\n",
       "      <td>-0.000364</td>\n",
       "      <td>-0.000373</td>\n",
       "      <td>-0.000382</td>\n",
       "      <td>-0.000391</td>\n",
       "      <td>-0.000400</td>\n",
       "      <td>-0.000410</td>\n",
       "      <td>-0.000424</td>\n",
       "      <td>...</td>\n",
       "      <td>0.001023</td>\n",
       "      <td>0.000962</td>\n",
       "      <td>0.000901</td>\n",
       "      <td>0.000839</td>\n",
       "      <td>0.000778</td>\n",
       "      <td>0.000716</td>\n",
       "      <td>0.000655</td>\n",
       "      <td>514.39</td>\n",
       "      <td>31.94</td>\n",
       "      <td>5</td>\n",
       "    </tr>\n",
       "    <tr>\n",
       "      <th>39</th>\n",
       "      <td>-0.000283</td>\n",
       "      <td>-0.000300</td>\n",
       "      <td>-0.000317</td>\n",
       "      <td>-0.000335</td>\n",
       "      <td>-0.000352</td>\n",
       "      <td>-0.000370</td>\n",
       "      <td>-0.000387</td>\n",
       "      <td>-0.000404</td>\n",
       "      <td>-0.000411</td>\n",
       "      <td>-0.000424</td>\n",
       "      <td>...</td>\n",
       "      <td>0.000935</td>\n",
       "      <td>0.000874</td>\n",
       "      <td>0.000812</td>\n",
       "      <td>0.000751</td>\n",
       "      <td>0.000690</td>\n",
       "      <td>0.000628</td>\n",
       "      <td>0.000567</td>\n",
       "      <td>406.80</td>\n",
       "      <td>32.10</td>\n",
       "      <td>4</td>\n",
       "    </tr>\n",
       "    <tr>\n",
       "      <th>40</th>\n",
       "      <td>-0.000360</td>\n",
       "      <td>-0.000361</td>\n",
       "      <td>-0.000362</td>\n",
       "      <td>-0.000363</td>\n",
       "      <td>-0.000363</td>\n",
       "      <td>-0.000364</td>\n",
       "      <td>-0.000365</td>\n",
       "      <td>-0.000365</td>\n",
       "      <td>-0.000370</td>\n",
       "      <td>-0.000374</td>\n",
       "      <td>...</td>\n",
       "      <td>0.001194</td>\n",
       "      <td>0.001087</td>\n",
       "      <td>0.000980</td>\n",
       "      <td>0.000874</td>\n",
       "      <td>0.000767</td>\n",
       "      <td>0.000661</td>\n",
       "      <td>0.000554</td>\n",
       "      <td>645.07</td>\n",
       "      <td>31.99</td>\n",
       "      <td>6</td>\n",
       "    </tr>\n",
       "    <tr>\n",
       "      <th>41</th>\n",
       "      <td>-0.000415</td>\n",
       "      <td>-0.000410</td>\n",
       "      <td>-0.000405</td>\n",
       "      <td>-0.000399</td>\n",
       "      <td>-0.000394</td>\n",
       "      <td>-0.000389</td>\n",
       "      <td>-0.000384</td>\n",
       "      <td>-0.000378</td>\n",
       "      <td>-0.000383</td>\n",
       "      <td>-0.000388</td>\n",
       "      <td>...</td>\n",
       "      <td>0.001363</td>\n",
       "      <td>0.001259</td>\n",
       "      <td>0.001155</td>\n",
       "      <td>0.001051</td>\n",
       "      <td>0.000946</td>\n",
       "      <td>0.000842</td>\n",
       "      <td>0.000738</td>\n",
       "      <td>539.95</td>\n",
       "      <td>31.55</td>\n",
       "      <td>5</td>\n",
       "    </tr>\n",
       "    <tr>\n",
       "      <th>42</th>\n",
       "      <td>-0.000410</td>\n",
       "      <td>-0.000406</td>\n",
       "      <td>-0.000402</td>\n",
       "      <td>-0.000398</td>\n",
       "      <td>-0.000394</td>\n",
       "      <td>-0.000389</td>\n",
       "      <td>-0.000385</td>\n",
       "      <td>-0.000381</td>\n",
       "      <td>-0.000383</td>\n",
       "      <td>-0.000389</td>\n",
       "      <td>...</td>\n",
       "      <td>0.001486</td>\n",
       "      <td>0.001371</td>\n",
       "      <td>0.001255</td>\n",
       "      <td>0.001140</td>\n",
       "      <td>0.001024</td>\n",
       "      <td>0.000909</td>\n",
       "      <td>0.000794</td>\n",
       "      <td>654.10</td>\n",
       "      <td>31.74</td>\n",
       "      <td>6</td>\n",
       "    </tr>\n",
       "    <tr>\n",
       "      <th>43</th>\n",
       "      <td>-0.000391</td>\n",
       "      <td>-0.000392</td>\n",
       "      <td>-0.000393</td>\n",
       "      <td>-0.000394</td>\n",
       "      <td>-0.000395</td>\n",
       "      <td>-0.000396</td>\n",
       "      <td>-0.000396</td>\n",
       "      <td>-0.000397</td>\n",
       "      <td>-0.000394</td>\n",
       "      <td>-0.000399</td>\n",
       "      <td>...</td>\n",
       "      <td>0.001028</td>\n",
       "      <td>0.000953</td>\n",
       "      <td>0.000879</td>\n",
       "      <td>0.000805</td>\n",
       "      <td>0.000731</td>\n",
       "      <td>0.000656</td>\n",
       "      <td>0.000582</td>\n",
       "      <td>558.21</td>\n",
       "      <td>32.05</td>\n",
       "      <td>5</td>\n",
       "    </tr>\n",
       "    <tr>\n",
       "      <th>44</th>\n",
       "      <td>-0.000545</td>\n",
       "      <td>-0.000529</td>\n",
       "      <td>-0.000514</td>\n",
       "      <td>-0.000498</td>\n",
       "      <td>-0.000482</td>\n",
       "      <td>-0.000466</td>\n",
       "      <td>-0.000451</td>\n",
       "      <td>-0.000435</td>\n",
       "      <td>-0.000424</td>\n",
       "      <td>-0.000427</td>\n",
       "      <td>...</td>\n",
       "      <td>0.000795</td>\n",
       "      <td>0.000733</td>\n",
       "      <td>0.000672</td>\n",
       "      <td>0.000610</td>\n",
       "      <td>0.000548</td>\n",
       "      <td>0.000487</td>\n",
       "      <td>0.000425</td>\n",
       "      <td>772.77</td>\n",
       "      <td>33.00</td>\n",
       "      <td>7</td>\n",
       "    </tr>\n",
       "    <tr>\n",
       "      <th>45</th>\n",
       "      <td>-0.000479</td>\n",
       "      <td>-0.000470</td>\n",
       "      <td>-0.000462</td>\n",
       "      <td>-0.000454</td>\n",
       "      <td>-0.000446</td>\n",
       "      <td>-0.000438</td>\n",
       "      <td>-0.000430</td>\n",
       "      <td>-0.000422</td>\n",
       "      <td>-0.000420</td>\n",
       "      <td>-0.000427</td>\n",
       "      <td>...</td>\n",
       "      <td>0.001181</td>\n",
       "      <td>0.001081</td>\n",
       "      <td>0.000981</td>\n",
       "      <td>0.000881</td>\n",
       "      <td>0.000780</td>\n",
       "      <td>0.000680</td>\n",
       "      <td>0.000580</td>\n",
       "      <td>717.59</td>\n",
       "      <td>32.30</td>\n",
       "      <td>7</td>\n",
       "    </tr>\n",
       "    <tr>\n",
       "      <th>46</th>\n",
       "      <td>-0.000430</td>\n",
       "      <td>-0.000429</td>\n",
       "      <td>-0.000428</td>\n",
       "      <td>-0.000427</td>\n",
       "      <td>-0.000425</td>\n",
       "      <td>-0.000424</td>\n",
       "      <td>-0.000423</td>\n",
       "      <td>-0.000422</td>\n",
       "      <td>-0.000427</td>\n",
       "      <td>-0.000431</td>\n",
       "      <td>...</td>\n",
       "      <td>0.000930</td>\n",
       "      <td>0.000853</td>\n",
       "      <td>0.000776</td>\n",
       "      <td>0.000700</td>\n",
       "      <td>0.000623</td>\n",
       "      <td>0.000546</td>\n",
       "      <td>0.000470</td>\n",
       "      <td>552.29</td>\n",
       "      <td>32.56</td>\n",
       "      <td>5</td>\n",
       "    </tr>\n",
       "    <tr>\n",
       "      <th>47</th>\n",
       "      <td>-0.000449</td>\n",
       "      <td>-0.000439</td>\n",
       "      <td>-0.000429</td>\n",
       "      <td>-0.000420</td>\n",
       "      <td>-0.000410</td>\n",
       "      <td>-0.000400</td>\n",
       "      <td>-0.000390</td>\n",
       "      <td>-0.000380</td>\n",
       "      <td>-0.000377</td>\n",
       "      <td>-0.000378</td>\n",
       "      <td>...</td>\n",
       "      <td>0.001151</td>\n",
       "      <td>0.001066</td>\n",
       "      <td>0.000981</td>\n",
       "      <td>0.000896</td>\n",
       "      <td>0.000811</td>\n",
       "      <td>0.000726</td>\n",
       "      <td>0.000641</td>\n",
       "      <td>550.26</td>\n",
       "      <td>31.85</td>\n",
       "      <td>5</td>\n",
       "    </tr>\n",
       "    <tr>\n",
       "      <th>48</th>\n",
       "      <td>-0.000422</td>\n",
       "      <td>-0.000416</td>\n",
       "      <td>-0.000410</td>\n",
       "      <td>-0.000404</td>\n",
       "      <td>-0.000399</td>\n",
       "      <td>-0.000393</td>\n",
       "      <td>-0.000387</td>\n",
       "      <td>-0.000381</td>\n",
       "      <td>-0.000375</td>\n",
       "      <td>-0.000373</td>\n",
       "      <td>...</td>\n",
       "      <td>0.000937</td>\n",
       "      <td>0.000861</td>\n",
       "      <td>0.000785</td>\n",
       "      <td>0.000708</td>\n",
       "      <td>0.000632</td>\n",
       "      <td>0.000556</td>\n",
       "      <td>0.000480</td>\n",
       "      <td>542.91</td>\n",
       "      <td>32.35</td>\n",
       "      <td>5</td>\n",
       "    </tr>\n",
       "    <tr>\n",
       "      <th>49</th>\n",
       "      <td>-0.000397</td>\n",
       "      <td>-0.000391</td>\n",
       "      <td>-0.000385</td>\n",
       "      <td>-0.000379</td>\n",
       "      <td>-0.000373</td>\n",
       "      <td>-0.000367</td>\n",
       "      <td>-0.000361</td>\n",
       "      <td>-0.000355</td>\n",
       "      <td>-0.000348</td>\n",
       "      <td>-0.000347</td>\n",
       "      <td>...</td>\n",
       "      <td>0.001583</td>\n",
       "      <td>0.001453</td>\n",
       "      <td>0.001323</td>\n",
       "      <td>0.001193</td>\n",
       "      <td>0.001063</td>\n",
       "      <td>0.000933</td>\n",
       "      <td>0.000803</td>\n",
       "      <td>642.38</td>\n",
       "      <td>31.23</td>\n",
       "      <td>6</td>\n",
       "    </tr>\n",
       "    <tr>\n",
       "      <th>50</th>\n",
       "      <td>-0.000349</td>\n",
       "      <td>-0.000353</td>\n",
       "      <td>-0.000357</td>\n",
       "      <td>-0.000361</td>\n",
       "      <td>-0.000365</td>\n",
       "      <td>-0.000369</td>\n",
       "      <td>-0.000373</td>\n",
       "      <td>-0.000377</td>\n",
       "      <td>-0.000381</td>\n",
       "      <td>-0.000388</td>\n",
       "      <td>...</td>\n",
       "      <td>0.001404</td>\n",
       "      <td>0.001297</td>\n",
       "      <td>0.001190</td>\n",
       "      <td>0.001082</td>\n",
       "      <td>0.000975</td>\n",
       "      <td>0.000868</td>\n",
       "      <td>0.000760</td>\n",
       "      <td>663.29</td>\n",
       "      <td>31.80</td>\n",
       "      <td>6</td>\n",
       "    </tr>\n",
       "    <tr>\n",
       "      <th>51</th>\n",
       "      <td>-0.000456</td>\n",
       "      <td>-0.000452</td>\n",
       "      <td>-0.000448</td>\n",
       "      <td>-0.000444</td>\n",
       "      <td>-0.000441</td>\n",
       "      <td>-0.000437</td>\n",
       "      <td>-0.000433</td>\n",
       "      <td>-0.000429</td>\n",
       "      <td>-0.000430</td>\n",
       "      <td>-0.000430</td>\n",
       "      <td>...</td>\n",
       "      <td>0.001491</td>\n",
       "      <td>0.001346</td>\n",
       "      <td>0.001201</td>\n",
       "      <td>0.001055</td>\n",
       "      <td>0.000910</td>\n",
       "      <td>0.000765</td>\n",
       "      <td>0.000620</td>\n",
       "      <td>698.90</td>\n",
       "      <td>32.81</td>\n",
       "      <td>6</td>\n",
       "    </tr>\n",
       "    <tr>\n",
       "      <th>52</th>\n",
       "      <td>-0.000398</td>\n",
       "      <td>-0.000397</td>\n",
       "      <td>-0.000396</td>\n",
       "      <td>-0.000395</td>\n",
       "      <td>-0.000394</td>\n",
       "      <td>-0.000393</td>\n",
       "      <td>-0.000392</td>\n",
       "      <td>-0.000391</td>\n",
       "      <td>-0.000394</td>\n",
       "      <td>-0.000403</td>\n",
       "      <td>...</td>\n",
       "      <td>0.001613</td>\n",
       "      <td>0.001505</td>\n",
       "      <td>0.001398</td>\n",
       "      <td>0.001290</td>\n",
       "      <td>0.001183</td>\n",
       "      <td>0.001075</td>\n",
       "      <td>0.000968</td>\n",
       "      <td>545.64</td>\n",
       "      <td>31.19</td>\n",
       "      <td>5</td>\n",
       "    </tr>\n",
       "    <tr>\n",
       "      <th>53</th>\n",
       "      <td>-0.000411</td>\n",
       "      <td>-0.000413</td>\n",
       "      <td>-0.000416</td>\n",
       "      <td>-0.000418</td>\n",
       "      <td>-0.000421</td>\n",
       "      <td>-0.000423</td>\n",
       "      <td>-0.000426</td>\n",
       "      <td>-0.000428</td>\n",
       "      <td>-0.000433</td>\n",
       "      <td>-0.000438</td>\n",
       "      <td>...</td>\n",
       "      <td>0.001466</td>\n",
       "      <td>0.001354</td>\n",
       "      <td>0.001241</td>\n",
       "      <td>0.001129</td>\n",
       "      <td>0.001017</td>\n",
       "      <td>0.000904</td>\n",
       "      <td>0.000792</td>\n",
       "      <td>630.61</td>\n",
       "      <td>31.99</td>\n",
       "      <td>6</td>\n",
       "    </tr>\n",
       "    <tr>\n",
       "      <th>54</th>\n",
       "      <td>-0.000418</td>\n",
       "      <td>-0.000413</td>\n",
       "      <td>-0.000408</td>\n",
       "      <td>-0.000404</td>\n",
       "      <td>-0.000399</td>\n",
       "      <td>-0.000394</td>\n",
       "      <td>-0.000389</td>\n",
       "      <td>-0.000384</td>\n",
       "      <td>-0.000381</td>\n",
       "      <td>-0.000385</td>\n",
       "      <td>...</td>\n",
       "      <td>0.001380</td>\n",
       "      <td>0.001284</td>\n",
       "      <td>0.001189</td>\n",
       "      <td>0.001093</td>\n",
       "      <td>0.000998</td>\n",
       "      <td>0.000902</td>\n",
       "      <td>0.000807</td>\n",
       "      <td>653.72</td>\n",
       "      <td>31.99</td>\n",
       "      <td>6</td>\n",
       "    </tr>\n",
       "    <tr>\n",
       "      <th>55</th>\n",
       "      <td>-0.000408</td>\n",
       "      <td>-0.000406</td>\n",
       "      <td>-0.000405</td>\n",
       "      <td>-0.000403</td>\n",
       "      <td>-0.000402</td>\n",
       "      <td>-0.000400</td>\n",
       "      <td>-0.000399</td>\n",
       "      <td>-0.000397</td>\n",
       "      <td>-0.000400</td>\n",
       "      <td>-0.000406</td>\n",
       "      <td>...</td>\n",
       "      <td>0.001651</td>\n",
       "      <td>0.001517</td>\n",
       "      <td>0.001383</td>\n",
       "      <td>0.001249</td>\n",
       "      <td>0.001115</td>\n",
       "      <td>0.000980</td>\n",
       "      <td>0.000846</td>\n",
       "      <td>578.61</td>\n",
       "      <td>31.95</td>\n",
       "      <td>5</td>\n",
       "    </tr>\n",
       "    <tr>\n",
       "      <th>56</th>\n",
       "      <td>-0.000350</td>\n",
       "      <td>-0.000353</td>\n",
       "      <td>-0.000356</td>\n",
       "      <td>-0.000360</td>\n",
       "      <td>-0.000363</td>\n",
       "      <td>-0.000366</td>\n",
       "      <td>-0.000370</td>\n",
       "      <td>-0.000373</td>\n",
       "      <td>-0.000375</td>\n",
       "      <td>-0.000383</td>\n",
       "      <td>...</td>\n",
       "      <td>0.001222</td>\n",
       "      <td>0.001124</td>\n",
       "      <td>0.001026</td>\n",
       "      <td>0.000928</td>\n",
       "      <td>0.000830</td>\n",
       "      <td>0.000731</td>\n",
       "      <td>0.000633</td>\n",
       "      <td>584.37</td>\n",
       "      <td>32.13</td>\n",
       "      <td>5</td>\n",
       "    </tr>\n",
       "    <tr>\n",
       "      <th>57</th>\n",
       "      <td>-0.000317</td>\n",
       "      <td>-0.000319</td>\n",
       "      <td>-0.000322</td>\n",
       "      <td>-0.000325</td>\n",
       "      <td>-0.000328</td>\n",
       "      <td>-0.000330</td>\n",
       "      <td>-0.000333</td>\n",
       "      <td>-0.000336</td>\n",
       "      <td>-0.000334</td>\n",
       "      <td>-0.000335</td>\n",
       "      <td>...</td>\n",
       "      <td>0.001282</td>\n",
       "      <td>0.001186</td>\n",
       "      <td>0.001090</td>\n",
       "      <td>0.000994</td>\n",
       "      <td>0.000899</td>\n",
       "      <td>0.000803</td>\n",
       "      <td>0.000707</td>\n",
       "      <td>620.42</td>\n",
       "      <td>32.12</td>\n",
       "      <td>6</td>\n",
       "    </tr>\n",
       "  </tbody>\n",
       "</table>\n",
       "<p>58 rows × 1560 columns</p>\n",
       "</div>"
      ],
      "text/plain": [
       "       999.9    1000.3    1000.7    1001.1    1001.4    1001.8    1002.2  \\\n",
       "0  -0.000408 -0.000411 -0.000414 -0.000416 -0.000419 -0.000422 -0.000424   \n",
       "1  -0.000276 -0.000295 -0.000314 -0.000332 -0.000351 -0.000370 -0.000389   \n",
       "2  -0.000331 -0.000340 -0.000350 -0.000359 -0.000369 -0.000378 -0.000388   \n",
       "3  -0.000463 -0.000455 -0.000447 -0.000439 -0.000431 -0.000423 -0.000415   \n",
       "4  -0.000342 -0.000353 -0.000365 -0.000376 -0.000388 -0.000399 -0.000411   \n",
       "5  -0.000423 -0.000423 -0.000423 -0.000423 -0.000423 -0.000422 -0.000422   \n",
       "6  -0.000369 -0.000383 -0.000397 -0.000411 -0.000425 -0.000439 -0.000453   \n",
       "7  -0.000346 -0.000353 -0.000359 -0.000366 -0.000372 -0.000379 -0.000385   \n",
       "8  -0.000516 -0.000507 -0.000499 -0.000490 -0.000481 -0.000472 -0.000463   \n",
       "9  -0.000512 -0.000498 -0.000484 -0.000470 -0.000456 -0.000442 -0.000428   \n",
       "10 -0.000239 -0.000259 -0.000279 -0.000299 -0.000318 -0.000338 -0.000358   \n",
       "11 -0.000280 -0.000296 -0.000313 -0.000329 -0.000345 -0.000362 -0.000378   \n",
       "12 -0.000299 -0.000310 -0.000321 -0.000332 -0.000343 -0.000354 -0.000365   \n",
       "13 -0.000336 -0.000336 -0.000336 -0.000336 -0.000336 -0.000336 -0.000336   \n",
       "14 -0.000491 -0.000482 -0.000474 -0.000465 -0.000456 -0.000448 -0.000439   \n",
       "15 -0.000338 -0.000347 -0.000355 -0.000364 -0.000373 -0.000382 -0.000390   \n",
       "16 -0.000472 -0.000468 -0.000465 -0.000461 -0.000458 -0.000454 -0.000450   \n",
       "17 -0.000496 -0.000494 -0.000493 -0.000491 -0.000489 -0.000488 -0.000486   \n",
       "18 -0.000355 -0.000358 -0.000360 -0.000362 -0.000364 -0.000367 -0.000369   \n",
       "19 -0.000387 -0.000387 -0.000388 -0.000388 -0.000389 -0.000389 -0.000390   \n",
       "20 -0.000336 -0.000342 -0.000348 -0.000353 -0.000359 -0.000365 -0.000370   \n",
       "21 -0.000533 -0.000522 -0.000512 -0.000501 -0.000491 -0.000480 -0.000470   \n",
       "22 -0.000361 -0.000371 -0.000381 -0.000391 -0.000401 -0.000411 -0.000421   \n",
       "23 -0.000330 -0.000342 -0.000355 -0.000367 -0.000380 -0.000392 -0.000405   \n",
       "24 -0.000439 -0.000439 -0.000438 -0.000437 -0.000437 -0.000436 -0.000436   \n",
       "25 -0.000340 -0.000345 -0.000350 -0.000355 -0.000360 -0.000365 -0.000369   \n",
       "26 -0.000424 -0.000425 -0.000426 -0.000427 -0.000428 -0.000428 -0.000429   \n",
       "27 -0.000375 -0.000385 -0.000395 -0.000406 -0.000416 -0.000426 -0.000436   \n",
       "28 -0.000334 -0.000345 -0.000357 -0.000368 -0.000380 -0.000391 -0.000403   \n",
       "29 -0.000514 -0.000501 -0.000488 -0.000475 -0.000462 -0.000448 -0.000435   \n",
       "30 -0.000317 -0.000325 -0.000333 -0.000341 -0.000349 -0.000357 -0.000365   \n",
       "31 -0.000337 -0.000347 -0.000357 -0.000367 -0.000377 -0.000387 -0.000397   \n",
       "32 -0.000325 -0.000335 -0.000344 -0.000354 -0.000364 -0.000373 -0.000383   \n",
       "33 -0.000446 -0.000438 -0.000430 -0.000423 -0.000415 -0.000407 -0.000400   \n",
       "34 -0.000338 -0.000351 -0.000364 -0.000377 -0.000390 -0.000403 -0.000416   \n",
       "35 -0.000380 -0.000382 -0.000384 -0.000386 -0.000387 -0.000389 -0.000391   \n",
       "36 -0.000417 -0.000417 -0.000417 -0.000416 -0.000416 -0.000416 -0.000416   \n",
       "37 -0.000329 -0.000338 -0.000347 -0.000357 -0.000366 -0.000375 -0.000384   \n",
       "38 -0.000337 -0.000346 -0.000355 -0.000364 -0.000373 -0.000382 -0.000391   \n",
       "39 -0.000283 -0.000300 -0.000317 -0.000335 -0.000352 -0.000370 -0.000387   \n",
       "40 -0.000360 -0.000361 -0.000362 -0.000363 -0.000363 -0.000364 -0.000365   \n",
       "41 -0.000415 -0.000410 -0.000405 -0.000399 -0.000394 -0.000389 -0.000384   \n",
       "42 -0.000410 -0.000406 -0.000402 -0.000398 -0.000394 -0.000389 -0.000385   \n",
       "43 -0.000391 -0.000392 -0.000393 -0.000394 -0.000395 -0.000396 -0.000396   \n",
       "44 -0.000545 -0.000529 -0.000514 -0.000498 -0.000482 -0.000466 -0.000451   \n",
       "45 -0.000479 -0.000470 -0.000462 -0.000454 -0.000446 -0.000438 -0.000430   \n",
       "46 -0.000430 -0.000429 -0.000428 -0.000427 -0.000425 -0.000424 -0.000423   \n",
       "47 -0.000449 -0.000439 -0.000429 -0.000420 -0.000410 -0.000400 -0.000390   \n",
       "48 -0.000422 -0.000416 -0.000410 -0.000404 -0.000399 -0.000393 -0.000387   \n",
       "49 -0.000397 -0.000391 -0.000385 -0.000379 -0.000373 -0.000367 -0.000361   \n",
       "50 -0.000349 -0.000353 -0.000357 -0.000361 -0.000365 -0.000369 -0.000373   \n",
       "51 -0.000456 -0.000452 -0.000448 -0.000444 -0.000441 -0.000437 -0.000433   \n",
       "52 -0.000398 -0.000397 -0.000396 -0.000395 -0.000394 -0.000393 -0.000392   \n",
       "53 -0.000411 -0.000413 -0.000416 -0.000418 -0.000421 -0.000423 -0.000426   \n",
       "54 -0.000418 -0.000413 -0.000408 -0.000404 -0.000399 -0.000394 -0.000389   \n",
       "55 -0.000408 -0.000406 -0.000405 -0.000403 -0.000402 -0.000400 -0.000399   \n",
       "56 -0.000350 -0.000353 -0.000356 -0.000360 -0.000363 -0.000366 -0.000370   \n",
       "57 -0.000317 -0.000319 -0.000322 -0.000325 -0.000328 -0.000330 -0.000333   \n",
       "\n",
       "      1002.6      1003    1003.4  ...    2485.8    2488.2    2490.6      2493  \\\n",
       "0  -0.000427 -0.000434 -0.000433  ...  0.001153  0.001058  0.000963  0.000868   \n",
       "1  -0.000408 -0.000416 -0.000417  ...  0.000845  0.000763  0.000682  0.000601   \n",
       "2  -0.000398 -0.000394 -0.000399  ...  0.001277  0.001171  0.001065  0.000960   \n",
       "3  -0.000407 -0.000403 -0.000406  ...  0.001354  0.001220  0.001085  0.000950   \n",
       "4  -0.000422 -0.000432 -0.000443  ...  0.001285  0.001168  0.001051  0.000933   \n",
       "5  -0.000422 -0.000425 -0.000433  ...  0.001296  0.001174  0.001053  0.000931   \n",
       "6  -0.000467 -0.000469 -0.000472  ...  0.000905  0.000819  0.000733  0.000648   \n",
       "7  -0.000392 -0.000398 -0.000414  ...  0.001169  0.001091  0.001014  0.000936   \n",
       "8  -0.000455 -0.000445 -0.000437  ...  0.000998  0.000923  0.000847  0.000771   \n",
       "9  -0.000414 -0.000415 -0.000414  ...  0.001303  0.001215  0.001126  0.001038   \n",
       "10 -0.000377 -0.000394 -0.000409  ...  0.001266  0.001162  0.001058  0.000953   \n",
       "11 -0.000394 -0.000392 -0.000409  ...  0.000952  0.000896  0.000839  0.000783   \n",
       "12 -0.000376 -0.000386 -0.000397  ...  0.000897  0.000820  0.000742  0.000665   \n",
       "13 -0.000336 -0.000346 -0.000364  ...  0.001135  0.001041  0.000948  0.000855   \n",
       "14 -0.000430 -0.000426 -0.000430  ...  0.000879  0.000795  0.000710  0.000625   \n",
       "15 -0.000399 -0.000401 -0.000417  ...  0.000875  0.000800  0.000724  0.000649   \n",
       "16 -0.000447 -0.000443 -0.000455  ...  0.000677  0.000608  0.000539  0.000469   \n",
       "17 -0.000485 -0.000486 -0.000484  ...  0.000608  0.000541  0.000474  0.000407   \n",
       "18 -0.000371 -0.000375 -0.000385  ...  0.001139  0.001021  0.000903  0.000784   \n",
       "19 -0.000390 -0.000386 -0.000398  ...  0.000749  0.000660  0.000571  0.000482   \n",
       "20 -0.000376 -0.000379 -0.000398  ...  0.001348  0.001241  0.001134  0.001027   \n",
       "21 -0.000459 -0.000465 -0.000461  ...  0.001389  0.001285  0.001182  0.001078   \n",
       "22 -0.000431 -0.000442 -0.000452  ...  0.000858  0.000767  0.000675  0.000584   \n",
       "23 -0.000417 -0.000420 -0.000432  ...  0.001227  0.001121  0.001016  0.000911   \n",
       "24 -0.000435 -0.000429 -0.000435  ...  0.000987  0.000918  0.000850  0.000782   \n",
       "25 -0.000374 -0.000386 -0.000397  ...  0.001299  0.001208  0.001118  0.001027   \n",
       "26 -0.000430 -0.000434 -0.000432  ...  0.001331  0.001218  0.001106  0.000994   \n",
       "27 -0.000446 -0.000454 -0.000468  ...  0.001130  0.001042  0.000954  0.000866   \n",
       "28 -0.000414 -0.000424 -0.000436  ...  0.000964  0.000907  0.000849  0.000791   \n",
       "29 -0.000422 -0.000422 -0.000423  ...  0.001009  0.000937  0.000864  0.000792   \n",
       "30 -0.000374 -0.000375 -0.000381  ...  0.001137  0.001034  0.000932  0.000829   \n",
       "31 -0.000406 -0.000416 -0.000433  ...  0.001121  0.001029  0.000937  0.000845   \n",
       "32 -0.000392 -0.000395 -0.000401  ...  0.001173  0.001095  0.001017  0.000939   \n",
       "33 -0.000392 -0.000388 -0.000391  ...  0.001156  0.001057  0.000959  0.000861   \n",
       "34 -0.000430 -0.000438 -0.000441  ...  0.000727  0.000656  0.000585  0.000514   \n",
       "35 -0.000393 -0.000393 -0.000398  ...  0.001187  0.001069  0.000950  0.000832   \n",
       "36 -0.000415 -0.000414 -0.000412  ...  0.000697  0.000642  0.000586  0.000531   \n",
       "37 -0.000394 -0.000397 -0.000405  ...  0.000954  0.000881  0.000809  0.000736   \n",
       "38 -0.000400 -0.000410 -0.000424  ...  0.001023  0.000962  0.000901  0.000839   \n",
       "39 -0.000404 -0.000411 -0.000424  ...  0.000935  0.000874  0.000812  0.000751   \n",
       "40 -0.000365 -0.000370 -0.000374  ...  0.001194  0.001087  0.000980  0.000874   \n",
       "41 -0.000378 -0.000383 -0.000388  ...  0.001363  0.001259  0.001155  0.001051   \n",
       "42 -0.000381 -0.000383 -0.000389  ...  0.001486  0.001371  0.001255  0.001140   \n",
       "43 -0.000397 -0.000394 -0.000399  ...  0.001028  0.000953  0.000879  0.000805   \n",
       "44 -0.000435 -0.000424 -0.000427  ...  0.000795  0.000733  0.000672  0.000610   \n",
       "45 -0.000422 -0.000420 -0.000427  ...  0.001181  0.001081  0.000981  0.000881   \n",
       "46 -0.000422 -0.000427 -0.000431  ...  0.000930  0.000853  0.000776  0.000700   \n",
       "47 -0.000380 -0.000377 -0.000378  ...  0.001151  0.001066  0.000981  0.000896   \n",
       "48 -0.000381 -0.000375 -0.000373  ...  0.000937  0.000861  0.000785  0.000708   \n",
       "49 -0.000355 -0.000348 -0.000347  ...  0.001583  0.001453  0.001323  0.001193   \n",
       "50 -0.000377 -0.000381 -0.000388  ...  0.001404  0.001297  0.001190  0.001082   \n",
       "51 -0.000429 -0.000430 -0.000430  ...  0.001491  0.001346  0.001201  0.001055   \n",
       "52 -0.000391 -0.000394 -0.000403  ...  0.001613  0.001505  0.001398  0.001290   \n",
       "53 -0.000428 -0.000433 -0.000438  ...  0.001466  0.001354  0.001241  0.001129   \n",
       "54 -0.000384 -0.000381 -0.000385  ...  0.001380  0.001284  0.001189  0.001093   \n",
       "55 -0.000397 -0.000400 -0.000406  ...  0.001651  0.001517  0.001383  0.001249   \n",
       "56 -0.000373 -0.000375 -0.000383  ...  0.001222  0.001124  0.001026  0.000928   \n",
       "57 -0.000336 -0.000334 -0.000335  ...  0.001282  0.001186  0.001090  0.000994   \n",
       "\n",
       "      2495.4    2497.8    2500.2      TA      C  class  \n",
       "0   0.000773  0.000678  0.000583  268.56  29.95      2  \n",
       "1   0.000520  0.000438  0.000357  291.07  31.36      2  \n",
       "2   0.000854  0.000748  0.000643  378.17  33.07      3  \n",
       "3   0.000816  0.000681  0.000546  276.55  30.63      2  \n",
       "4   0.000816  0.000699  0.000582  324.40  31.69      3  \n",
       "5   0.000810  0.000688  0.000567  394.76  32.02      3  \n",
       "6   0.000562  0.000476  0.000390  449.97  32.43      4  \n",
       "7   0.000858  0.000781  0.000703  189.72  28.93      2  \n",
       "8   0.000695  0.000619  0.000543  298.37  29.94      2  \n",
       "9   0.000950  0.000862  0.000774  203.86  29.18      2  \n",
       "10  0.000849  0.000745  0.000640  444.48  32.67      4  \n",
       "11  0.000727  0.000670  0.000614  366.56  31.53      3  \n",
       "12  0.000587  0.000510  0.000432  452.36  32.75      4  \n",
       "13  0.000761  0.000668  0.000575  432.59  32.10      4  \n",
       "14  0.000541  0.000456  0.000371  408.60  32.69      4  \n",
       "15  0.000573  0.000498  0.000423  362.35  30.42      3  \n",
       "16  0.000400  0.000331  0.000262  469.52  33.39      4  \n",
       "17  0.000340  0.000273  0.000206  466.18  35.19      4  \n",
       "18  0.000666  0.000548  0.000429  412.89  30.79      4  \n",
       "19  0.000393  0.000304  0.000215  381.98  31.03      3  \n",
       "20  0.000919  0.000812  0.000705  414.17  32.72      4  \n",
       "21  0.000974  0.000870  0.000767  505.05  35.27      5  \n",
       "22  0.000492  0.000401  0.000310  757.02  33.14      7  \n",
       "23  0.000806  0.000700  0.000595  437.32  32.30      4  \n",
       "24  0.000714  0.000646  0.000578  589.64  34.27      5  \n",
       "25  0.000937  0.000846  0.000756  495.30  30.70      4  \n",
       "26  0.000881  0.000769  0.000656  487.58  35.66      4  \n",
       "27  0.000778  0.000689  0.000601  492.19  31.21      4  \n",
       "28  0.000733  0.000675  0.000618  489.43  32.23      4  \n",
       "29  0.000720  0.000647  0.000575  430.28  32.59      4  \n",
       "30  0.000727  0.000624  0.000522  603.27  33.48      6  \n",
       "31  0.000753  0.000661  0.000569  456.68  32.61      4  \n",
       "32  0.000861  0.000783  0.000705  569.95  33.98      5  \n",
       "33  0.000762  0.000664  0.000566  537.99  32.41      5  \n",
       "34  0.000443  0.000371  0.000300  563.66  33.12      5  \n",
       "35  0.000714  0.000595  0.000477  483.12  33.15      4  \n",
       "36  0.000475  0.000420  0.000364  472.32  32.71      4  \n",
       "37  0.000664  0.000592  0.000519  607.74  34.01      6  \n",
       "38  0.000778  0.000716  0.000655  514.39  31.94      5  \n",
       "39  0.000690  0.000628  0.000567  406.80  32.10      4  \n",
       "40  0.000767  0.000661  0.000554  645.07  31.99      6  \n",
       "41  0.000946  0.000842  0.000738  539.95  31.55      5  \n",
       "42  0.001024  0.000909  0.000794  654.10  31.74      6  \n",
       "43  0.000731  0.000656  0.000582  558.21  32.05      5  \n",
       "44  0.000548  0.000487  0.000425  772.77  33.00      7  \n",
       "45  0.000780  0.000680  0.000580  717.59  32.30      7  \n",
       "46  0.000623  0.000546  0.000470  552.29  32.56      5  \n",
       "47  0.000811  0.000726  0.000641  550.26  31.85      5  \n",
       "48  0.000632  0.000556  0.000480  542.91  32.35      5  \n",
       "49  0.001063  0.000933  0.000803  642.38  31.23      6  \n",
       "50  0.000975  0.000868  0.000760  663.29  31.80      6  \n",
       "51  0.000910  0.000765  0.000620  698.90  32.81      6  \n",
       "52  0.001183  0.001075  0.000968  545.64  31.19      5  \n",
       "53  0.001017  0.000904  0.000792  630.61  31.99      6  \n",
       "54  0.000998  0.000902  0.000807  653.72  31.99      6  \n",
       "55  0.001115  0.000980  0.000846  578.61  31.95      5  \n",
       "56  0.000830  0.000731  0.000633  584.37  32.13      5  \n",
       "57  0.000899  0.000803  0.000707  620.42  32.12      6  \n",
       "\n",
       "[58 rows x 1560 columns]"
      ]
     },
     "execution_count": 86,
     "metadata": {},
     "output_type": "execute_result"
    }
   ],
   "source": [
    "##df.iloc[:,2:-2] = snv(df.values[:,2:-2])\n",
    "df.iloc[:,2:-2] = savgol_filter(df.values[:,2:-2], 15, polyorder=2, deriv=1)\n",
    "#df.iloc[:,1:-2] = snv(df.values[:,1:-2])\n",
    "df_pretreat = df.iloc[:, 2:-2]\n",
    "df_pretreat['TA'] = df['TA (mg/100gr FM)']\n",
    "df_pretreat['C'] = df['Vit C (mg/100gr FM)']\n",
    "df_pretreat['class'] = (df_pretreat['TA']/100).astype(int)\n",
    "\n",
    "for index, row in df_pretreat.iterrows():\n",
    "    if row['class']== 1:\n",
    "        df_pretreat.loc[index, 'class'] = 2\n",
    "\n",
    "df_pretreat"
   ]
  },
  {
   "cell_type": "code",
   "execution_count": 87,
   "id": "955674db",
   "metadata": {},
   "outputs": [
    {
     "data": {
      "image/png": "[encoded data removed]",
      "text/plain": [
       "<Figure size 576x324 with 1 Axes>"
      ]
     },
     "metadata": {
      "needs_background": "light"
     },
     "output_type": "display_data"
    }
   ],
   "source": [
    "wl = np.arange(0, 1557, 1)\n",
    "plt.figure(figsize=(8, 4.5))\n",
    "with plt.style.context('ggplot'):\n",
    "    plt.plot(wl, df_pretreat.iloc[:,:-3].values.T)\n",
    "    plt.xlabel(\"Wavelengths (nm)\")\n",
    "    plt.ylabel(\"Absorbance\")\n",
    "    plt.show()"
   ]
  },
  {
   "cell_type": "code",
   "execution_count": 88,
   "id": "107545c4",
   "metadata": {},
   "outputs": [
    {
     "data": {
      "text/plain": [
       "<seaborn.axisgrid.FacetGrid at 0x23cf1cc96d0>"
      ]
     },
     "execution_count": 88,
     "metadata": {},
     "output_type": "execute_result"
    },
    {
     "data": {
      "image/png": "[encoded data removed]",
      "text/plain": [
       "<Figure size 360x360 with 1 Axes>"
      ]
     },
     "metadata": {
      "needs_background": "light"
     },
     "output_type": "display_data"
    }
   ],
   "source": [
    "import seaborn as sns\n",
    "sns.displot(df_pretreat['TA'])"
   ]
  },
  {
   "cell_type": "code",
   "execution_count": 89,
   "id": "8eea8f5f",
   "metadata": {},
   "outputs": [
    {
     "data": {
      "text/html": [
       "<div>\n",
       "<style scoped>\n",
       "    .dataframe tbody tr th:only-of-type {\n",
       "        vertical-align: middle;\n",
       "    }\n",
       "\n",
       "    .dataframe tbody tr th {\n",
       "        vertical-align: top;\n",
       "    }\n",
       "\n",
       "    .dataframe thead th {\n",
       "        text-align: right;\n",
       "    }\n",
       "</style>\n",
       "<table border=\"1\" class=\"dataframe\">\n",
       "  <thead>\n",
       "    <tr style=\"text-align: right;\">\n",
       "      <th></th>\n",
       "      <th>999.9</th>\n",
       "      <th>1000.3</th>\n",
       "      <th>1000.7</th>\n",
       "      <th>1001.1</th>\n",
       "      <th>1001.4</th>\n",
       "      <th>1001.8</th>\n",
       "      <th>1002.2</th>\n",
       "      <th>1002.6</th>\n",
       "      <th>1003</th>\n",
       "      <th>1003.4</th>\n",
       "      <th>...</th>\n",
       "      <th>2485.8</th>\n",
       "      <th>2488.2</th>\n",
       "      <th>2490.6</th>\n",
       "      <th>2493</th>\n",
       "      <th>2495.4</th>\n",
       "      <th>2497.8</th>\n",
       "      <th>2500.2</th>\n",
       "      <th>TA</th>\n",
       "      <th>C</th>\n",
       "      <th>class</th>\n",
       "    </tr>\n",
       "  </thead>\n",
       "  <tbody>\n",
       "    <tr>\n",
       "      <th>count</th>\n",
       "      <td>58.000000</td>\n",
       "      <td>58.000000</td>\n",
       "      <td>58.000000</td>\n",
       "      <td>58.000000</td>\n",
       "      <td>58.000000</td>\n",
       "      <td>58.000000</td>\n",
       "      <td>58.000000</td>\n",
       "      <td>58.000000</td>\n",
       "      <td>58.000000</td>\n",
       "      <td>58.000000</td>\n",
       "      <td>...</td>\n",
       "      <td>58.000000</td>\n",
       "      <td>58.000000</td>\n",
       "      <td>58.000000</td>\n",
       "      <td>58.000000</td>\n",
       "      <td>58.000000</td>\n",
       "      <td>58.000000</td>\n",
       "      <td>58.000000</td>\n",
       "      <td>58.000000</td>\n",
       "      <td>58.000000</td>\n",
       "      <td>58.000000</td>\n",
       "    </tr>\n",
       "    <tr>\n",
       "      <th>mean</th>\n",
       "      <td>-0.000389</td>\n",
       "      <td>-0.000391</td>\n",
       "      <td>-0.000394</td>\n",
       "      <td>-0.000396</td>\n",
       "      <td>-0.000398</td>\n",
       "      <td>-0.000400</td>\n",
       "      <td>-0.000402</td>\n",
       "      <td>-0.000404</td>\n",
       "      <td>-0.000407</td>\n",
       "      <td>-0.000413</td>\n",
       "      <td>...</td>\n",
       "      <td>0.001131</td>\n",
       "      <td>0.001038</td>\n",
       "      <td>0.000946</td>\n",
       "      <td>0.000854</td>\n",
       "      <td>0.000761</td>\n",
       "      <td>0.000669</td>\n",
       "      <td>0.000577</td>\n",
       "      <td>495.481552</td>\n",
       "      <td>32.206207</td>\n",
       "      <td>4.431034</td>\n",
       "    </tr>\n",
       "    <tr>\n",
       "      <th>std</th>\n",
       "      <td>0.000070</td>\n",
       "      <td>0.000063</td>\n",
       "      <td>0.000055</td>\n",
       "      <td>0.000048</td>\n",
       "      <td>0.000042</td>\n",
       "      <td>0.000036</td>\n",
       "      <td>0.000032</td>\n",
       "      <td>0.000030</td>\n",
       "      <td>0.000030</td>\n",
       "      <td>0.000029</td>\n",
       "      <td>...</td>\n",
       "      <td>0.000246</td>\n",
       "      <td>0.000229</td>\n",
       "      <td>0.000213</td>\n",
       "      <td>0.000198</td>\n",
       "      <td>0.000185</td>\n",
       "      <td>0.000173</td>\n",
       "      <td>0.000162</td>\n",
       "      <td>131.071278</td>\n",
       "      <td>1.306183</td>\n",
       "      <td>1.326016</td>\n",
       "    </tr>\n",
       "    <tr>\n",
       "      <th>min</th>\n",
       "      <td>-0.000545</td>\n",
       "      <td>-0.000529</td>\n",
       "      <td>-0.000514</td>\n",
       "      <td>-0.000501</td>\n",
       "      <td>-0.000491</td>\n",
       "      <td>-0.000488</td>\n",
       "      <td>-0.000486</td>\n",
       "      <td>-0.000485</td>\n",
       "      <td>-0.000486</td>\n",
       "      <td>-0.000484</td>\n",
       "      <td>...</td>\n",
       "      <td>0.000608</td>\n",
       "      <td>0.000541</td>\n",
       "      <td>0.000474</td>\n",
       "      <td>0.000407</td>\n",
       "      <td>0.000340</td>\n",
       "      <td>0.000273</td>\n",
       "      <td>0.000206</td>\n",
       "      <td>189.720000</td>\n",
       "      <td>28.930000</td>\n",
       "      <td>2.000000</td>\n",
       "    </tr>\n",
       "    <tr>\n",
       "      <th>25%</th>\n",
       "      <td>-0.000429</td>\n",
       "      <td>-0.000428</td>\n",
       "      <td>-0.000427</td>\n",
       "      <td>-0.000423</td>\n",
       "      <td>-0.000425</td>\n",
       "      <td>-0.000424</td>\n",
       "      <td>-0.000426</td>\n",
       "      <td>-0.000426</td>\n",
       "      <td>-0.000426</td>\n",
       "      <td>-0.000433</td>\n",
       "      <td>...</td>\n",
       "      <td>0.000941</td>\n",
       "      <td>0.000875</td>\n",
       "      <td>0.000810</td>\n",
       "      <td>0.000740</td>\n",
       "      <td>0.000665</td>\n",
       "      <td>0.000565</td>\n",
       "      <td>0.000477</td>\n",
       "      <td>413.210000</td>\n",
       "      <td>31.585000</td>\n",
       "      <td>4.000000</td>\n",
       "    </tr>\n",
       "    <tr>\n",
       "      <th>50%</th>\n",
       "      <td>-0.000383</td>\n",
       "      <td>-0.000386</td>\n",
       "      <td>-0.000390</td>\n",
       "      <td>-0.000392</td>\n",
       "      <td>-0.000394</td>\n",
       "      <td>-0.000393</td>\n",
       "      <td>-0.000394</td>\n",
       "      <td>-0.000400</td>\n",
       "      <td>-0.000402</td>\n",
       "      <td>-0.000413</td>\n",
       "      <td>...</td>\n",
       "      <td>0.001152</td>\n",
       "      <td>0.001058</td>\n",
       "      <td>0.000957</td>\n",
       "      <td>0.000863</td>\n",
       "      <td>0.000770</td>\n",
       "      <td>0.000677</td>\n",
       "      <td>0.000581</td>\n",
       "      <td>490.810000</td>\n",
       "      <td>32.125000</td>\n",
       "      <td>4.000000</td>\n",
       "    </tr>\n",
       "    <tr>\n",
       "      <th>75%</th>\n",
       "      <td>-0.000337</td>\n",
       "      <td>-0.000346</td>\n",
       "      <td>-0.000355</td>\n",
       "      <td>-0.000361</td>\n",
       "      <td>-0.000365</td>\n",
       "      <td>-0.000371</td>\n",
       "      <td>-0.000384</td>\n",
       "      <td>-0.000381</td>\n",
       "      <td>-0.000386</td>\n",
       "      <td>-0.000397</td>\n",
       "      <td>...</td>\n",
       "      <td>0.001298</td>\n",
       "      <td>0.001203</td>\n",
       "      <td>0.001089</td>\n",
       "      <td>0.000985</td>\n",
       "      <td>0.000876</td>\n",
       "      <td>0.000778</td>\n",
       "      <td>0.000691</td>\n",
       "      <td>582.930000</td>\n",
       "      <td>32.742500</td>\n",
       "      <td>5.000000</td>\n",
       "    </tr>\n",
       "    <tr>\n",
       "      <th>max</th>\n",
       "      <td>-0.000239</td>\n",
       "      <td>-0.000259</td>\n",
       "      <td>-0.000279</td>\n",
       "      <td>-0.000299</td>\n",
       "      <td>-0.000318</td>\n",
       "      <td>-0.000330</td>\n",
       "      <td>-0.000333</td>\n",
       "      <td>-0.000336</td>\n",
       "      <td>-0.000334</td>\n",
       "      <td>-0.000335</td>\n",
       "      <td>...</td>\n",
       "      <td>0.001651</td>\n",
       "      <td>0.001517</td>\n",
       "      <td>0.001398</td>\n",
       "      <td>0.001290</td>\n",
       "      <td>0.001183</td>\n",
       "      <td>0.001075</td>\n",
       "      <td>0.000968</td>\n",
       "      <td>772.770000</td>\n",
       "      <td>35.660000</td>\n",
       "      <td>7.000000</td>\n",
       "    </tr>\n",
       "  </tbody>\n",
       "</table>\n",
       "<p>8 rows × 1560 columns</p>\n",
       "</div>"
      ],
      "text/plain": [
       "           999.9     1000.3     1000.7     1001.1     1001.4     1001.8  \\\n",
       "count  58.000000  58.000000  58.000000  58.000000  58.000000  58.000000   \n",
       "mean   -0.000389  -0.000391  -0.000394  -0.000396  -0.000398  -0.000400   \n",
       "std     0.000070   0.000063   0.000055   0.000048   0.000042   0.000036   \n",
       "min    -0.000545  -0.000529  -0.000514  -0.000501  -0.000491  -0.000488   \n",
       "25%    -0.000429  -0.000428  -0.000427  -0.000423  -0.000425  -0.000424   \n",
       "50%    -0.000383  -0.000386  -0.000390  -0.000392  -0.000394  -0.000393   \n",
       "75%    -0.000337  -0.000346  -0.000355  -0.000361  -0.000365  -0.000371   \n",
       "max    -0.000239  -0.000259  -0.000279  -0.000299  -0.000318  -0.000330   \n",
       "\n",
       "          1002.2     1002.6       1003     1003.4  ...     2485.8     2488.2  \\\n",
       "count  58.000000  58.000000  58.000000  58.000000  ...  58.000000  58.000000   \n",
       "mean   -0.000402  -0.000404  -0.000407  -0.000413  ...   0.001131   0.001038   \n",
       "std     0.000032   0.000030   0.000030   0.000029  ...   0.000246   0.000229   \n",
       "min    -0.000486  -0.000485  -0.000486  -0.000484  ...   0.000608   0.000541   \n",
       "25%    -0.000426  -0.000426  -0.000426  -0.000433  ...   0.000941   0.000875   \n",
       "50%    -0.000394  -0.000400  -0.000402  -0.000413  ...   0.001152   0.001058   \n",
       "75%    -0.000384  -0.000381  -0.000386  -0.000397  ...   0.001298   0.001203   \n",
       "max    -0.000333  -0.000336  -0.000334  -0.000335  ...   0.001651   0.001517   \n",
       "\n",
       "          2490.6       2493     2495.4     2497.8     2500.2          TA  \\\n",
       "count  58.000000  58.000000  58.000000  58.000000  58.000000   58.000000   \n",
       "mean    0.000946   0.000854   0.000761   0.000669   0.000577  495.481552   \n",
       "std     0.000213   0.000198   0.000185   0.000173   0.000162  131.071278   \n",
       "min     0.000474   0.000407   0.000340   0.000273   0.000206  189.720000   \n",
       "25%     0.000810   0.000740   0.000665   0.000565   0.000477  413.210000   \n",
       "50%     0.000957   0.000863   0.000770   0.000677   0.000581  490.810000   \n",
       "75%     0.001089   0.000985   0.000876   0.000778   0.000691  582.930000   \n",
       "max     0.001398   0.001290   0.001183   0.001075   0.000968  772.770000   \n",
       "\n",
       "               C      class  \n",
       "count  58.000000  58.000000  \n",
       "mean   32.206207   4.431034  \n",
       "std     1.306183   1.326016  \n",
       "min    28.930000   2.000000  \n",
       "25%    31.585000   4.000000  \n",
       "50%    32.125000   4.000000  \n",
       "75%    32.742500   5.000000  \n",
       "max    35.660000   7.000000  \n",
       "\n",
       "[8 rows x 1560 columns]"
      ]
     },
     "execution_count": 89,
     "metadata": {},
     "output_type": "execute_result"
    }
   ],
   "source": [
    "df_pretreat.describe()"
   ]
  },
  {
   "cell_type": "code",
   "execution_count": 90,
   "id": "11cbadd5",
   "metadata": {},
   "outputs": [
    {
     "name": "stdout",
     "output_type": "stream",
     "text": [
      "[0.63017627 0.32966489 0.01968379 0.00705665 0.00398959]\n"
     ]
    }
   ],
   "source": [
    "import numpy as np\n",
    "from sklearn.decomposition import PCA\n",
    "from sklearn.preprocessing import StandardScaler\n",
    "\n",
    "\n",
    "\n",
    "pca = PCA(n_components=5)\n",
    "T = pca.fit_transform(df_pretreat.iloc[:,:-3].values)\n",
    "df_pca = pd.DataFrame(T)\n",
    "df_pca.rename(columns={0: 'PC1', 1: 'PC2', 2: 'PC3', 3: 'PC4', 4: 'PC5'}, inplace=True)\n",
    "\n",
    "print(pca.explained_variance_ratio_)\n",
    "\n",
    "from sklearn.cluster import DBSCAN\n",
    "data = list(zip(T[:, 0], T[:, 1]))\n",
    "clustering = DBSCAN(eps=0.004, min_samples=2).fit(data)\n",
    "df_pca['cluster'] = clustering.labels_\n",
    "#df1['cluster'] = clustering.labels_\n",
    "\n",
    "\n",
    "# df1_cluster1 = df1[df1['cluster']==1]\n",
    "# dataset= df1_cluster1\n",
    "# dataset.drop(columns=['cluster'], inplace=True)\n",
    "# dataset.head()"
   ]
  },
  {
   "cell_type": "code",
   "execution_count": 176,
   "id": "a947ee61",
   "metadata": {},
   "outputs": [
    {
     "data": {
      "text/html": [
       "<div>\n",
       "<style scoped>\n",
       "    .dataframe tbody tr th:only-of-type {\n",
       "        vertical-align: middle;\n",
       "    }\n",
       "\n",
       "    .dataframe tbody tr th {\n",
       "        vertical-align: top;\n",
       "    }\n",
       "\n",
       "    .dataframe thead th {\n",
       "        text-align: right;\n",
       "    }\n",
       "</style>\n",
       "<table border=\"1\" class=\"dataframe\">\n",
       "  <thead>\n",
       "    <tr style=\"text-align: right;\">\n",
       "      <th></th>\n",
       "      <th>PC1</th>\n",
       "      <th>PC2</th>\n",
       "      <th>PC3</th>\n",
       "      <th>PC4</th>\n",
       "      <th>PC5</th>\n",
       "      <th>cluster</th>\n",
       "      <th>ID</th>\n",
       "    </tr>\n",
       "  </thead>\n",
       "  <tbody>\n",
       "    <tr>\n",
       "      <th>0</th>\n",
       "      <td>-0.015066</td>\n",
       "      <td>0.005363</td>\n",
       "      <td>-0.001018</td>\n",
       "      <td>-0.001057</td>\n",
       "      <td>0.001343</td>\n",
       "      <td>0</td>\n",
       "      <td>0</td>\n",
       "    </tr>\n",
       "    <tr>\n",
       "      <th>1</th>\n",
       "      <td>0.006786</td>\n",
       "      <td>0.005566</td>\n",
       "      <td>-0.001659</td>\n",
       "      <td>-0.001627</td>\n",
       "      <td>0.000631</td>\n",
       "      <td>1</td>\n",
       "      <td>1</td>\n",
       "    </tr>\n",
       "    <tr>\n",
       "      <th>2</th>\n",
       "      <td>-0.004939</td>\n",
       "      <td>-0.001572</td>\n",
       "      <td>-0.000228</td>\n",
       "      <td>-0.001675</td>\n",
       "      <td>0.000557</td>\n",
       "      <td>1</td>\n",
       "      <td>2</td>\n",
       "    </tr>\n",
       "    <tr>\n",
       "      <th>3</th>\n",
       "      <td>-0.020953</td>\n",
       "      <td>-0.000998</td>\n",
       "      <td>-0.002123</td>\n",
       "      <td>-0.001670</td>\n",
       "      <td>0.000722</td>\n",
       "      <td>0</td>\n",
       "      <td>3</td>\n",
       "    </tr>\n",
       "    <tr>\n",
       "      <th>4</th>\n",
       "      <td>-0.016160</td>\n",
       "      <td>0.003106</td>\n",
       "      <td>-0.000347</td>\n",
       "      <td>-0.000271</td>\n",
       "      <td>0.000837</td>\n",
       "      <td>0</td>\n",
       "      <td>4</td>\n",
       "    </tr>\n",
       "    <tr>\n",
       "      <th>5</th>\n",
       "      <td>-0.015404</td>\n",
       "      <td>0.007497</td>\n",
       "      <td>0.000744</td>\n",
       "      <td>0.000145</td>\n",
       "      <td>0.000459</td>\n",
       "      <td>0</td>\n",
       "      <td>5</td>\n",
       "    </tr>\n",
       "    <tr>\n",
       "      <th>6</th>\n",
       "      <td>-0.000803</td>\n",
       "      <td>0.007408</td>\n",
       "      <td>0.000827</td>\n",
       "      <td>0.000301</td>\n",
       "      <td>0.000444</td>\n",
       "      <td>1</td>\n",
       "      <td>6</td>\n",
       "    </tr>\n",
       "    <tr>\n",
       "      <th>7</th>\n",
       "      <td>-0.012349</td>\n",
       "      <td>0.006996</td>\n",
       "      <td>-0.000325</td>\n",
       "      <td>-0.000781</td>\n",
       "      <td>0.000001</td>\n",
       "      <td>0</td>\n",
       "      <td>7</td>\n",
       "    </tr>\n",
       "    <tr>\n",
       "      <th>8</th>\n",
       "      <td>-0.005373</td>\n",
       "      <td>0.009274</td>\n",
       "      <td>0.002588</td>\n",
       "      <td>-0.000582</td>\n",
       "      <td>0.000268</td>\n",
       "      <td>2</td>\n",
       "      <td>8</td>\n",
       "    </tr>\n",
       "    <tr>\n",
       "      <th>9</th>\n",
       "      <td>-0.017854</td>\n",
       "      <td>0.000029</td>\n",
       "      <td>0.000952</td>\n",
       "      <td>-0.001402</td>\n",
       "      <td>-0.000036</td>\n",
       "      <td>0</td>\n",
       "      <td>9</td>\n",
       "    </tr>\n",
       "    <tr>\n",
       "      <th>10</th>\n",
       "      <td>-0.009206</td>\n",
       "      <td>-0.003774</td>\n",
       "      <td>0.000082</td>\n",
       "      <td>-0.001252</td>\n",
       "      <td>-0.000699</td>\n",
       "      <td>1</td>\n",
       "      <td>10</td>\n",
       "    </tr>\n",
       "    <tr>\n",
       "      <th>11</th>\n",
       "      <td>0.000294</td>\n",
       "      <td>0.007051</td>\n",
       "      <td>0.000238</td>\n",
       "      <td>-0.001364</td>\n",
       "      <td>-0.000170</td>\n",
       "      <td>1</td>\n",
       "      <td>11</td>\n",
       "    </tr>\n",
       "    <tr>\n",
       "      <th>12</th>\n",
       "      <td>0.005608</td>\n",
       "      <td>0.004944</td>\n",
       "      <td>-0.000011</td>\n",
       "      <td>0.000480</td>\n",
       "      <td>-0.001159</td>\n",
       "      <td>1</td>\n",
       "      <td>12</td>\n",
       "    </tr>\n",
       "    <tr>\n",
       "      <th>13</th>\n",
       "      <td>-0.005145</td>\n",
       "      <td>-0.001346</td>\n",
       "      <td>-0.001839</td>\n",
       "      <td>-0.001283</td>\n",
       "      <td>-0.000417</td>\n",
       "      <td>1</td>\n",
       "      <td>13</td>\n",
       "    </tr>\n",
       "    <tr>\n",
       "      <th>14</th>\n",
       "      <td>-0.005683</td>\n",
       "      <td>0.009773</td>\n",
       "      <td>0.001113</td>\n",
       "      <td>-0.000583</td>\n",
       "      <td>-0.001663</td>\n",
       "      <td>2</td>\n",
       "      <td>14</td>\n",
       "    </tr>\n",
       "    <tr>\n",
       "      <th>15</th>\n",
       "      <td>0.000626</td>\n",
       "      <td>0.005468</td>\n",
       "      <td>-0.002808</td>\n",
       "      <td>-0.000600</td>\n",
       "      <td>-0.000625</td>\n",
       "      <td>1</td>\n",
       "      <td>15</td>\n",
       "    </tr>\n",
       "    <tr>\n",
       "      <th>16</th>\n",
       "      <td>0.004828</td>\n",
       "      <td>0.016211</td>\n",
       "      <td>0.003465</td>\n",
       "      <td>-0.000243</td>\n",
       "      <td>-0.000942</td>\n",
       "      <td>-1</td>\n",
       "      <td>16</td>\n",
       "    </tr>\n",
       "    <tr>\n",
       "      <th>17</th>\n",
       "      <td>0.018910</td>\n",
       "      <td>0.013778</td>\n",
       "      <td>0.005557</td>\n",
       "      <td>-0.000900</td>\n",
       "      <td>-0.000269</td>\n",
       "      <td>-1</td>\n",
       "      <td>17</td>\n",
       "    </tr>\n",
       "    <tr>\n",
       "      <th>18</th>\n",
       "      <td>-0.010276</td>\n",
       "      <td>0.000278</td>\n",
       "      <td>-0.000312</td>\n",
       "      <td>-0.001051</td>\n",
       "      <td>-0.000909</td>\n",
       "      <td>1</td>\n",
       "      <td>18</td>\n",
       "    </tr>\n",
       "    <tr>\n",
       "      <th>19</th>\n",
       "      <td>0.010306</td>\n",
       "      <td>0.004006</td>\n",
       "      <td>-0.002604</td>\n",
       "      <td>-0.001252</td>\n",
       "      <td>-0.000144</td>\n",
       "      <td>1</td>\n",
       "      <td>19</td>\n",
       "    </tr>\n",
       "    <tr>\n",
       "      <th>20</th>\n",
       "      <td>-0.002250</td>\n",
       "      <td>-0.003321</td>\n",
       "      <td>-0.000559</td>\n",
       "      <td>0.000174</td>\n",
       "      <td>0.000673</td>\n",
       "      <td>1</td>\n",
       "      <td>20</td>\n",
       "    </tr>\n",
       "    <tr>\n",
       "      <th>21</th>\n",
       "      <td>-0.005759</td>\n",
       "      <td>-0.002376</td>\n",
       "      <td>0.001312</td>\n",
       "      <td>0.001702</td>\n",
       "      <td>0.001340</td>\n",
       "      <td>1</td>\n",
       "      <td>21</td>\n",
       "    </tr>\n",
       "    <tr>\n",
       "      <th>22</th>\n",
       "      <td>0.008105</td>\n",
       "      <td>0.000269</td>\n",
       "      <td>-0.001950</td>\n",
       "      <td>0.002538</td>\n",
       "      <td>0.000048</td>\n",
       "      <td>3</td>\n",
       "      <td>22</td>\n",
       "    </tr>\n",
       "    <tr>\n",
       "      <th>23</th>\n",
       "      <td>-0.001289</td>\n",
       "      <td>0.001145</td>\n",
       "      <td>0.000366</td>\n",
       "      <td>0.000623</td>\n",
       "      <td>0.001030</td>\n",
       "      <td>1</td>\n",
       "      <td>23</td>\n",
       "    </tr>\n",
       "    <tr>\n",
       "      <th>24</th>\n",
       "      <td>0.004486</td>\n",
       "      <td>0.002913</td>\n",
       "      <td>0.000031</td>\n",
       "      <td>0.001271</td>\n",
       "      <td>0.000609</td>\n",
       "      <td>1</td>\n",
       "      <td>24</td>\n",
       "    </tr>\n",
       "    <tr>\n",
       "      <th>25</th>\n",
       "      <td>-0.006476</td>\n",
       "      <td>-0.002018</td>\n",
       "      <td>-0.000513</td>\n",
       "      <td>0.001043</td>\n",
       "      <td>0.000144</td>\n",
       "      <td>1</td>\n",
       "      <td>25</td>\n",
       "    </tr>\n",
       "    <tr>\n",
       "      <th>26</th>\n",
       "      <td>-0.005033</td>\n",
       "      <td>-0.006314</td>\n",
       "      <td>0.000218</td>\n",
       "      <td>0.000710</td>\n",
       "      <td>0.000263</td>\n",
       "      <td>1</td>\n",
       "      <td>26</td>\n",
       "    </tr>\n",
       "    <tr>\n",
       "      <th>27</th>\n",
       "      <td>-0.003545</td>\n",
       "      <td>0.004930</td>\n",
       "      <td>0.001825</td>\n",
       "      <td>0.001590</td>\n",
       "      <td>0.001789</td>\n",
       "      <td>1</td>\n",
       "      <td>27</td>\n",
       "    </tr>\n",
       "    <tr>\n",
       "      <th>28</th>\n",
       "      <td>0.000354</td>\n",
       "      <td>0.005239</td>\n",
       "      <td>-0.000594</td>\n",
       "      <td>0.000739</td>\n",
       "      <td>0.000797</td>\n",
       "      <td>1</td>\n",
       "      <td>28</td>\n",
       "    </tr>\n",
       "    <tr>\n",
       "      <th>29</th>\n",
       "      <td>-0.001098</td>\n",
       "      <td>0.005440</td>\n",
       "      <td>-0.001078</td>\n",
       "      <td>-0.000070</td>\n",
       "      <td>-0.000182</td>\n",
       "      <td>1</td>\n",
       "      <td>29</td>\n",
       "    </tr>\n",
       "    <tr>\n",
       "      <th>30</th>\n",
       "      <td>-0.006184</td>\n",
       "      <td>-0.002919</td>\n",
       "      <td>-0.001440</td>\n",
       "      <td>0.001884</td>\n",
       "      <td>-0.000479</td>\n",
       "      <td>1</td>\n",
       "      <td>30</td>\n",
       "    </tr>\n",
       "    <tr>\n",
       "      <th>31</th>\n",
       "      <td>-0.000194</td>\n",
       "      <td>0.003243</td>\n",
       "      <td>-0.000232</td>\n",
       "      <td>0.000506</td>\n",
       "      <td>0.000453</td>\n",
       "      <td>1</td>\n",
       "      <td>31</td>\n",
       "    </tr>\n",
       "    <tr>\n",
       "      <th>32</th>\n",
       "      <td>-0.001891</td>\n",
       "      <td>-0.001585</td>\n",
       "      <td>-0.001210</td>\n",
       "      <td>0.001562</td>\n",
       "      <td>-0.000168</td>\n",
       "      <td>1</td>\n",
       "      <td>32</td>\n",
       "    </tr>\n",
       "    <tr>\n",
       "      <th>33</th>\n",
       "      <td>-0.005031</td>\n",
       "      <td>-0.001950</td>\n",
       "      <td>-0.000905</td>\n",
       "      <td>0.000897</td>\n",
       "      <td>-0.000589</td>\n",
       "      <td>1</td>\n",
       "      <td>33</td>\n",
       "    </tr>\n",
       "    <tr>\n",
       "      <th>34</th>\n",
       "      <td>0.011096</td>\n",
       "      <td>0.007188</td>\n",
       "      <td>-0.001272</td>\n",
       "      <td>0.000733</td>\n",
       "      <td>-0.000352</td>\n",
       "      <td>1</td>\n",
       "      <td>34</td>\n",
       "    </tr>\n",
       "    <tr>\n",
       "      <th>35</th>\n",
       "      <td>-0.006342</td>\n",
       "      <td>0.000373</td>\n",
       "      <td>0.000349</td>\n",
       "      <td>0.001199</td>\n",
       "      <td>0.000290</td>\n",
       "      <td>1</td>\n",
       "      <td>35</td>\n",
       "    </tr>\n",
       "    <tr>\n",
       "      <th>36</th>\n",
       "      <td>0.006181</td>\n",
       "      <td>0.010984</td>\n",
       "      <td>-0.000335</td>\n",
       "      <td>-0.000106</td>\n",
       "      <td>-0.001316</td>\n",
       "      <td>-1</td>\n",
       "      <td>36</td>\n",
       "    </tr>\n",
       "    <tr>\n",
       "      <th>37</th>\n",
       "      <td>0.003291</td>\n",
       "      <td>0.004741</td>\n",
       "      <td>-0.000324</td>\n",
       "      <td>0.001895</td>\n",
       "      <td>-0.001546</td>\n",
       "      <td>1</td>\n",
       "      <td>37</td>\n",
       "    </tr>\n",
       "    <tr>\n",
       "      <th>38</th>\n",
       "      <td>-0.003737</td>\n",
       "      <td>0.004102</td>\n",
       "      <td>-0.001890</td>\n",
       "      <td>0.000906</td>\n",
       "      <td>0.000131</td>\n",
       "      <td>1</td>\n",
       "      <td>38</td>\n",
       "    </tr>\n",
       "    <tr>\n",
       "      <th>39</th>\n",
       "      <td>-0.001201</td>\n",
       "      <td>0.006431</td>\n",
       "      <td>-0.000762</td>\n",
       "      <td>0.001991</td>\n",
       "      <td>-0.000317</td>\n",
       "      <td>1</td>\n",
       "      <td>39</td>\n",
       "    </tr>\n",
       "    <tr>\n",
       "      <th>40</th>\n",
       "      <td>0.010879</td>\n",
       "      <td>-0.007835</td>\n",
       "      <td>-0.000327</td>\n",
       "      <td>-0.000017</td>\n",
       "      <td>-0.000507</td>\n",
       "      <td>4</td>\n",
       "      <td>40</td>\n",
       "    </tr>\n",
       "    <tr>\n",
       "      <th>41</th>\n",
       "      <td>-0.004689</td>\n",
       "      <td>-0.009270</td>\n",
       "      <td>-0.000308</td>\n",
       "      <td>0.000014</td>\n",
       "      <td>-0.000527</td>\n",
       "      <td>1</td>\n",
       "      <td>41</td>\n",
       "    </tr>\n",
       "    <tr>\n",
       "      <th>42</th>\n",
       "      <td>0.004265</td>\n",
       "      <td>-0.012555</td>\n",
       "      <td>0.001778</td>\n",
       "      <td>0.000246</td>\n",
       "      <td>-0.000752</td>\n",
       "      <td>5</td>\n",
       "      <td>42</td>\n",
       "    </tr>\n",
       "    <tr>\n",
       "      <th>43</th>\n",
       "      <td>0.007374</td>\n",
       "      <td>-0.001266</td>\n",
       "      <td>-0.002292</td>\n",
       "      <td>-0.000680</td>\n",
       "      <td>0.000185</td>\n",
       "      <td>3</td>\n",
       "      <td>43</td>\n",
       "    </tr>\n",
       "    <tr>\n",
       "      <th>44</th>\n",
       "      <td>0.031407</td>\n",
       "      <td>-0.001175</td>\n",
       "      <td>-0.000282</td>\n",
       "      <td>-0.000802</td>\n",
       "      <td>0.001673</td>\n",
       "      <td>-1</td>\n",
       "      <td>44</td>\n",
       "    </tr>\n",
       "    <tr>\n",
       "      <th>45</th>\n",
       "      <td>0.012023</td>\n",
       "      <td>-0.005269</td>\n",
       "      <td>0.002120</td>\n",
       "      <td>-0.000187</td>\n",
       "      <td>0.000820</td>\n",
       "      <td>4</td>\n",
       "      <td>45</td>\n",
       "    </tr>\n",
       "    <tr>\n",
       "      <th>46</th>\n",
       "      <td>0.020666</td>\n",
       "      <td>-0.001640</td>\n",
       "      <td>-0.001343</td>\n",
       "      <td>-0.001259</td>\n",
       "      <td>0.001322</td>\n",
       "      <td>-1</td>\n",
       "      <td>46</td>\n",
       "    </tr>\n",
       "    <tr>\n",
       "      <th>47</th>\n",
       "      <td>0.009700</td>\n",
       "      <td>-0.006320</td>\n",
       "      <td>-0.002929</td>\n",
       "      <td>-0.000461</td>\n",
       "      <td>0.000041</td>\n",
       "      <td>4</td>\n",
       "      <td>47</td>\n",
       "    </tr>\n",
       "    <tr>\n",
       "      <th>48</th>\n",
       "      <td>0.012947</td>\n",
       "      <td>0.002393</td>\n",
       "      <td>-0.000296</td>\n",
       "      <td>-0.000232</td>\n",
       "      <td>-0.000620</td>\n",
       "      <td>1</td>\n",
       "      <td>48</td>\n",
       "    </tr>\n",
       "    <tr>\n",
       "      <th>49</th>\n",
       "      <td>-0.006547</td>\n",
       "      <td>-0.013183</td>\n",
       "      <td>0.000676</td>\n",
       "      <td>-0.000140</td>\n",
       "      <td>-0.000882</td>\n",
       "      <td>-1</td>\n",
       "      <td>49</td>\n",
       "    </tr>\n",
       "    <tr>\n",
       "      <th>50</th>\n",
       "      <td>0.001285</td>\n",
       "      <td>-0.013046</td>\n",
       "      <td>0.000776</td>\n",
       "      <td>-0.000232</td>\n",
       "      <td>-0.001021</td>\n",
       "      <td>5</td>\n",
       "      <td>50</td>\n",
       "    </tr>\n",
       "    <tr>\n",
       "      <th>51</th>\n",
       "      <td>0.004683</td>\n",
       "      <td>-0.010962</td>\n",
       "      <td>0.003596</td>\n",
       "      <td>-0.000076</td>\n",
       "      <td>0.000525</td>\n",
       "      <td>5</td>\n",
       "      <td>51</td>\n",
       "    </tr>\n",
       "    <tr>\n",
       "      <th>52</th>\n",
       "      <td>-0.008691</td>\n",
       "      <td>-0.008289</td>\n",
       "      <td>0.001158</td>\n",
       "      <td>-0.000431</td>\n",
       "      <td>0.000089</td>\n",
       "      <td>-1</td>\n",
       "      <td>52</td>\n",
       "    </tr>\n",
       "    <tr>\n",
       "      <th>53</th>\n",
       "      <td>-0.002728</td>\n",
       "      <td>-0.008936</td>\n",
       "      <td>0.001711</td>\n",
       "      <td>0.000343</td>\n",
       "      <td>0.000362</td>\n",
       "      <td>1</td>\n",
       "      <td>53</td>\n",
       "    </tr>\n",
       "    <tr>\n",
       "      <th>54</th>\n",
       "      <td>0.001467</td>\n",
       "      <td>-0.009622</td>\n",
       "      <td>0.000353</td>\n",
       "      <td>0.000433</td>\n",
       "      <td>-0.000119</td>\n",
       "      <td>5</td>\n",
       "      <td>54</td>\n",
       "    </tr>\n",
       "    <tr>\n",
       "      <th>55</th>\n",
       "      <td>-0.002881</td>\n",
       "      <td>-0.011373</td>\n",
       "      <td>0.004543</td>\n",
       "      <td>-0.000524</td>\n",
       "      <td>-0.000256</td>\n",
       "      <td>1</td>\n",
       "      <td>55</td>\n",
       "    </tr>\n",
       "    <tr>\n",
       "      <th>56</th>\n",
       "      <td>0.004985</td>\n",
       "      <td>-0.006383</td>\n",
       "      <td>-0.000368</td>\n",
       "      <td>-0.000257</td>\n",
       "      <td>-0.000867</td>\n",
       "      <td>-1</td>\n",
       "      <td>56</td>\n",
       "    </tr>\n",
       "    <tr>\n",
       "      <th>57</th>\n",
       "      <td>0.012221</td>\n",
       "      <td>-0.010840</td>\n",
       "      <td>-0.001895</td>\n",
       "      <td>-0.000857</td>\n",
       "      <td>-0.000314</td>\n",
       "      <td>4</td>\n",
       "      <td>57</td>\n",
       "    </tr>\n",
       "  </tbody>\n",
       "</table>\n",
       "</div>"
      ],
      "text/plain": [
       "         PC1       PC2       PC3       PC4       PC5  cluster  ID\n",
       "0  -0.015066  0.005363 -0.001018 -0.001057  0.001343        0   0\n",
       "1   0.006786  0.005566 -0.001659 -0.001627  0.000631        1   1\n",
       "2  -0.004939 -0.001572 -0.000228 -0.001675  0.000557        1   2\n",
       "3  -0.020953 -0.000998 -0.002123 -0.001670  0.000722        0   3\n",
       "4  -0.016160  0.003106 -0.000347 -0.000271  0.000837        0   4\n",
       "5  -0.015404  0.007497  0.000744  0.000145  0.000459        0   5\n",
       "6  -0.000803  0.007408  0.000827  0.000301  0.000444        1   6\n",
       "7  -0.012349  0.006996 -0.000325 -0.000781  0.000001        0   7\n",
       "8  -0.005373  0.009274  0.002588 -0.000582  0.000268        2   8\n",
       "9  -0.017854  0.000029  0.000952 -0.001402 -0.000036        0   9\n",
       "10 -0.009206 -0.003774  0.000082 -0.001252 -0.000699        1  10\n",
       "11  0.000294  0.007051  0.000238 -0.001364 -0.000170        1  11\n",
       "12  0.005608  0.004944 -0.000011  0.000480 -0.001159        1  12\n",
       "13 -0.005145 -0.001346 -0.001839 -0.001283 -0.000417        1  13\n",
       "14 -0.005683  0.009773  0.001113 -0.000583 -0.001663        2  14\n",
       "15  0.000626  0.005468 -0.002808 -0.000600 -0.000625        1  15\n",
       "16  0.004828  0.016211  0.003465 -0.000243 -0.000942       -1  16\n",
       "17  0.018910  0.013778  0.005557 -0.000900 -0.000269       -1  17\n",
       "18 -0.010276  0.000278 -0.000312 -0.001051 -0.000909        1  18\n",
       "19  0.010306  0.004006 -0.002604 -0.001252 -0.000144        1  19\n",
       "20 -0.002250 -0.003321 -0.000559  0.000174  0.000673        1  20\n",
       "21 -0.005759 -0.002376  0.001312  0.001702  0.001340        1  21\n",
       "22  0.008105  0.000269 -0.001950  0.002538  0.000048        3  22\n",
       "23 -0.001289  0.001145  0.000366  0.000623  0.001030        1  23\n",
       "24  0.004486  0.002913  0.000031  0.001271  0.000609        1  24\n",
       "25 -0.006476 -0.002018 -0.000513  0.001043  0.000144        1  25\n",
       "26 -0.005033 -0.006314  0.000218  0.000710  0.000263        1  26\n",
       "27 -0.003545  0.004930  0.001825  0.001590  0.001789        1  27\n",
       "28  0.000354  0.005239 -0.000594  0.000739  0.000797        1  28\n",
       "29 -0.001098  0.005440 -0.001078 -0.000070 -0.000182        1  29\n",
       "30 -0.006184 -0.002919 -0.001440  0.001884 -0.000479        1  30\n",
       "31 -0.000194  0.003243 -0.000232  0.000506  0.000453        1  31\n",
       "32 -0.001891 -0.001585 -0.001210  0.001562 -0.000168        1  32\n",
       "33 -0.005031 -0.001950 -0.000905  0.000897 -0.000589        1  33\n",
       "34  0.011096  0.007188 -0.001272  0.000733 -0.000352        1  34\n",
       "35 -0.006342  0.000373  0.000349  0.001199  0.000290        1  35\n",
       "36  0.006181  0.010984 -0.000335 -0.000106 -0.001316       -1  36\n",
       "37  0.003291  0.004741 -0.000324  0.001895 -0.001546        1  37\n",
       "38 -0.003737  0.004102 -0.001890  0.000906  0.000131        1  38\n",
       "39 -0.001201  0.006431 -0.000762  0.001991 -0.000317        1  39\n",
       "40  0.010879 -0.007835 -0.000327 -0.000017 -0.000507        4  40\n",
       "41 -0.004689 -0.009270 -0.000308  0.000014 -0.000527        1  41\n",
       "42  0.004265 -0.012555  0.001778  0.000246 -0.000752        5  42\n",
       "43  0.007374 -0.001266 -0.002292 -0.000680  0.000185        3  43\n",
       "44  0.031407 -0.001175 -0.000282 -0.000802  0.001673       -1  44\n",
       "45  0.012023 -0.005269  0.002120 -0.000187  0.000820        4  45\n",
       "46  0.020666 -0.001640 -0.001343 -0.001259  0.001322       -1  46\n",
       "47  0.009700 -0.006320 -0.002929 -0.000461  0.000041        4  47\n",
       "48  0.012947  0.002393 -0.000296 -0.000232 -0.000620        1  48\n",
       "49 -0.006547 -0.013183  0.000676 -0.000140 -0.000882       -1  49\n",
       "50  0.001285 -0.013046  0.000776 -0.000232 -0.001021        5  50\n",
       "51  0.004683 -0.010962  0.003596 -0.000076  0.000525        5  51\n",
       "52 -0.008691 -0.008289  0.001158 -0.000431  0.000089       -1  52\n",
       "53 -0.002728 -0.008936  0.001711  0.000343  0.000362        1  53\n",
       "54  0.001467 -0.009622  0.000353  0.000433 -0.000119        5  54\n",
       "55 -0.002881 -0.011373  0.004543 -0.000524 -0.000256        1  55\n",
       "56  0.004985 -0.006383 -0.000368 -0.000257 -0.000867       -1  56\n",
       "57  0.012221 -0.010840 -0.001895 -0.000857 -0.000314        4  57"
      ]
     },
     "execution_count": 176,
     "metadata": {},
     "output_type": "execute_result"
    }
   ],
   "source": [
    "#df_pca['PC1'] = df_pca['PC1']*-1\n",
    "df_pca['PC2'] = df_pca['PC2']\n",
    "df_pca['ID'] = df.index\n",
    "df_pca"
   ]
  },
  {
   "cell_type": "code",
   "execution_count": 177,
   "id": "e0413042",
   "metadata": {},
   "outputs": [
    {
     "data": {
      "application/vnd.plotly.v1+json": {
       "config": {
        "plotlyServerURL": "https://plot.ly"
       },
       "data": [
        {
         "customdata": [
          [
           0
          ],
          [
           1
          ],
          [
           2
          ],
          [
           3
          ],
          [
           4
          ],
          [
           5
          ],
          [
           6
          ],
          [
           7
          ],
          [
           8
          ],
          [
           9
          ],
          [
           10
          ],
          [
           11
          ],
          [
           12
          ],
          [
           13
          ],
          [
           14
          ],
          [
           15
          ],
          [
           16
          ],
          [
           17
          ],
          [
           18
          ],
          [
           19
          ],
          [
           20
          ],
          [
           21
          ],
          [
           22
          ],
          [
           23
          ],
          [
           24
          ],
          [
           25
          ],
          [
           26
          ],
          [
           27
          ],
          [
           28
          ],
          [
           29
          ],
          [
           30
          ],
          [
           31
          ],
          [
           32
          ],
          [
           33
          ],
          [
           34
          ],
          [
           35
          ],
          [
           36
          ],
          [
           37
          ],
          [
           38
          ],
          [
           39
          ],
          [
           40
          ],
          [
           41
          ],
          [
           42
          ],
          [
           43
          ],
          [
           44
          ],
          [
           45
          ],
          [
           46
          ],
          [
           47
          ],
          [
           48
          ],
          [
           49
          ],
          [
           50
          ],
          [
           51
          ],
          [
           52
          ],
          [
           53
          ],
          [
           54
          ],
          [
           55
          ],
          [
           56
          ],
          [
           57
          ]
         ],
         "hoverlabel": {
          "namelength": 0
         },
         "hovertemplate": "PC1=%{x}<br>PC2=%{y}<br>ID=%{customdata[0]}<br>cluster=%{marker.color}",
         "legendgroup": "",
         "marker": {
          "color": [
           0,
           1,
           1,
           0,
           0,
           0,
           1,
           0,
           2,
           0,
           1,
           1,
           1,
           1,
           2,
           1,
           -1,
           -1,
           1,
           1,
           1,
           1,
           3,
           1,
           1,
           1,
           1,
           1,
           1,
           1,
           1,
           1,
           1,
           1,
           1,
           1,
           -1,
           1,
           1,
           1,
           4,
           1,
           5,
           3,
           -1,
           4,
           -1,
           4,
           1,
           -1,
           5,
           5,
           -1,
           1,
           5,
           1,
           -1,
           4
          ],
          "coloraxis": "coloraxis",
          "symbol": "circle"
         },
         "mode": "markers",
         "name": "",
         "showlegend": false,
         "type": "scatter",
         "x": [
          -0.015066472037128315,
          0.006786338602403595,
          -0.004939220943145328,
          -0.02095262405757519,
          -0.01615951623125643,
          -0.01540422974964212,
          -0.000802640806458587,
          -0.012348759126873483,
          -0.005373067486530057,
          -0.017854345828893406,
          -0.009205710845189691,
          0.0002940205221479966,
          0.005608243994724033,
          -0.005144607721335595,
          -0.005682819626673361,
          0.0006259842405685463,
          0.004827998449016373,
          0.018910411949165453,
          -0.010275935866503175,
          0.010305690402999071,
          -0.00225028740480763,
          -0.005758922326739142,
          0.008105077377773507,
          -0.001288680726437021,
          0.004486301253179255,
          -0.006476164271855969,
          -0.005032567623311988,
          -0.0035449755254437147,
          0.00035408429900886694,
          -0.001098301580051775,
          -0.006183763057693571,
          -0.0001940281020868149,
          -0.001890772445363362,
          -0.005030845680028359,
          0.011096480054468475,
          -0.006341976929778776,
          0.006181314103147833,
          0.0032908026925682708,
          -0.0037365105330684437,
          -0.0012013338761438525,
          0.010878951274844431,
          -0.00468918866184516,
          0.004265082920727233,
          0.007373901554809088,
          0.031407330037939635,
          0.012023052723192974,
          0.020666046062426575,
          0.009700461388146195,
          0.012947430885307106,
          -0.006547104896043406,
          0.0012847293848181926,
          0.004682623458575878,
          -0.008691276602770451,
          -0.00272827373546605,
          0.0014671699431961281,
          -0.002881100375426328,
          0.004985373932033004,
          0.012221123174378871
         ],
         "xaxis": "x",
         "y": [
          0.005363407885422663,
          0.005566173633062975,
          -0.0015717025568121937,
          -0.0009983970619077674,
          0.003106394643023814,
          0.007496949638443834,
          0.0074078515071207725,
          0.006996259111837569,
          0.00927381551534649,
          0.00002869318436120133,
          -0.0037735831640891863,
          0.0070506550477832195,
          0.00494411455489718,
          -0.0013460950388846408,
          0.009772894256362229,
          0.00546795292752091,
          0.01621059649552736,
          0.013777506788138397,
          0.00027789596949623477,
          0.004006495565286626,
          -0.003320615557671546,
          -0.0023755211421793124,
          0.0002688728182459208,
          0.0011451165754988283,
          0.002912588767441507,
          -0.002017942274674625,
          -0.006314466850977635,
          0.004929816436427294,
          0.00523885440911726,
          0.005440035378067416,
          -0.002918833932961709,
          0.003242616743895471,
          -0.00158495776433747,
          -0.0019504154814333195,
          0.007188447683084052,
          0.0003725508988001365,
          0.010983858266859249,
          0.004741081420812549,
          0.004101725204867653,
          0.006430568636268341,
          -0.007834998087511513,
          -0.00927019825781079,
          -0.012554932007328006,
          -0.0012656931758632634,
          -0.0011751195297668312,
          -0.0052691037215041505,
          -0.0016398706713813315,
          -0.006320007009943914,
          0.0023932479015184743,
          -0.013182989662568397,
          -0.01304598814823038,
          -0.010962403245111066,
          -0.008289175184033826,
          -0.008935949759913337,
          -0.009621559359689029,
          -0.011373363963686507,
          -0.006383343418347849,
          -0.01083981183591609
         ],
         "yaxis": "y"
        }
       ],
       "layout": {
        "coloraxis": {
         "colorbar": {
          "title": {
           "text": "cluster"
          }
         },
         "colorscale": [
          [
           0,
           "#0d0887"
          ],
          [
           0.1111111111111111,
           "#46039f"
          ],
          [
           0.2222222222222222,
           "#7201a8"
          ],
          [
           0.3333333333333333,
           "#9c179e"
          ],
          [
           0.4444444444444444,
           "#bd3786"
          ],
          [
           0.5555555555555556,
           "#d8576b"
          ],
          [
           0.6666666666666666,
           "#ed7953"
          ],
          [
           0.7777777777777778,
           "#fb9f3a"
          ],
          [
           0.8888888888888888,
           "#fdca26"
          ],
          [
           1,
           "#f0f921"
          ]
         ]
        },
        "height": 600,
        "legend": {
         "tracegroupgap": 0
        },
        "margin": {
         "t": 60
        },
        "template": {
         "data": {
          "bar": [
           {
            "error_x": {
             "color": "#2a3f5f"
            },
            "error_y": {
             "color": "#2a3f5f"
            },
            "marker": {
             "line": {
              "color": "#E5ECF6",
              "width": 0.5
             }
            },
            "type": "bar"
           }
          ],
          "barpolar": [
           {
            "marker": {
             "line": {
              "color": "#E5ECF6",
              "width": 0.5
             }
            },
            "type": "barpolar"
           }
          ],
          "carpet": [
           {
            "aaxis": {
             "endlinecolor": "#2a3f5f",
             "gridcolor": "white",
             "linecolor": "white",
             "minorgridcolor": "white",
             "startlinecolor": "#2a3f5f"
            },
            "baxis": {
             "endlinecolor": "#2a3f5f",
             "gridcolor": "white",
             "linecolor": "white",
             "minorgridcolor": "white",
             "startlinecolor": "#2a3f5f"
            },
            "type": "carpet"
           }
          ],
          "choropleth": [
           {
            "colorbar": {
             "outlinewidth": 0,
             "ticks": ""
            },
            "type": "choropleth"
           }
          ],
          "contour": [
           {
            "colorbar": {
             "outlinewidth": 0,
             "ticks": ""
            },
            "colorscale": [
             [
              0,
              "#0d0887"
             ],
             [
              0.1111111111111111,
              "#46039f"
             ],
             [
              0.2222222222222222,
              "#7201a8"
             ],
             [
              0.3333333333333333,
              "#9c179e"
             ],
             [
              0.4444444444444444,
              "#bd3786"
             ],
             [
              0.5555555555555556,
              "#d8576b"
             ],
             [
              0.6666666666666666,
              "#ed7953"
             ],
             [
              0.7777777777777778,
              "#fb9f3a"
             ],
             [
              0.8888888888888888,
              "#fdca26"
             ],
             [
              1,
              "#f0f921"
             ]
            ],
            "type": "contour"
           }
          ],
          "contourcarpet": [
           {
            "colorbar": {
             "outlinewidth": 0,
             "ticks": ""
            },
            "type": "contourcarpet"
           }
          ],
          "heatmap": [
           {
            "colorbar": {
             "outlinewidth": 0,
             "ticks": ""
            },
            "colorscale": [
             [
              0,
              "#0d0887"
             ],
             [
              0.1111111111111111,
              "#46039f"
             ],
             [
              0.2222222222222222,
              "#7201a8"
             ],
             [
              0.3333333333333333,
              "#9c179e"
             ],
             [
              0.4444444444444444,
              "#bd3786"
             ],
             [
              0.5555555555555556,
              "#d8576b"
             ],
             [
              0.6666666666666666,
              "#ed7953"
             ],
             [
              0.7777777777777778,
              "#fb9f3a"
             ],
             [
              0.8888888888888888,
              "#fdca26"
             ],
             [
              1,
              "#f0f921"
             ]
            ],
            "type": "heatmap"
           }
          ],
          "heatmapgl": [
           {
            "colorbar": {
             "outlinewidth": 0,
             "ticks": ""
            },
            "colorscale": [
             [
              0,
              "#0d0887"
             ],
             [
              0.1111111111111111,
              "#46039f"
             ],
             [
              0.2222222222222222,
              "#7201a8"
             ],
             [
              0.3333333333333333,
              "#9c179e"
             ],
             [
              0.4444444444444444,
              "#bd3786"
             ],
             [
              0.5555555555555556,
              "#d8576b"
             ],
             [
              0.6666666666666666,
              "#ed7953"
             ],
             [
              0.7777777777777778,
              "#fb9f3a"
             ],
             [
              0.8888888888888888,
              "#fdca26"
             ],
             [
              1,
              "#f0f921"
             ]
            ],
            "type": "heatmapgl"
           }
          ],
          "histogram": [
           {
            "marker": {
             "colorbar": {
              "outlinewidth": 0,
              "ticks": ""
             }
            },
            "type": "histogram"
           }
          ],
          "histogram2d": [
           {
            "colorbar": {
             "outlinewidth": 0,
             "ticks": ""
            },
            "colorscale": [
             [
              0,
              "#0d0887"
             ],
             [
              0.1111111111111111,
              "#46039f"
             ],
             [
              0.2222222222222222,
              "#7201a8"
             ],
             [
              0.3333333333333333,
              "#9c179e"
             ],
             [
              0.4444444444444444,
              "#bd3786"
             ],
             [
              0.5555555555555556,
              "#d8576b"
             ],
             [
              0.6666666666666666,
              "#ed7953"
             ],
             [
              0.7777777777777778,
              "#fb9f3a"
             ],
             [
              0.8888888888888888,
              "#fdca26"
             ],
             [
              1,
              "#f0f921"
             ]
            ],
            "type": "histogram2d"
           }
          ],
          "histogram2dcontour": [
           {
            "colorbar": {
             "outlinewidth": 0,
             "ticks": ""
            },
            "colorscale": [
             [
              0,
              "#0d0887"
             ],
             [
              0.1111111111111111,
              "#46039f"
             ],
             [
              0.2222222222222222,
              "#7201a8"
             ],
             [
              0.3333333333333333,
              "#9c179e"
             ],
             [
              0.4444444444444444,
              "#bd3786"
             ],
             [
              0.5555555555555556,
              "#d8576b"
             ],
             [
              0.6666666666666666,
              "#ed7953"
             ],
             [
              0.7777777777777778,
              "#fb9f3a"
             ],
             [
              0.8888888888888888,
              "#fdca26"
             ],
             [
              1,
              "#f0f921"
             ]
            ],
            "type": "histogram2dcontour"
           }
          ],
          "mesh3d": [
           {
            "colorbar": {
             "outlinewidth": 0,
             "ticks": ""
            },
            "type": "mesh3d"
           }
          ],
          "parcoords": [
           {
            "line": {
             "colorbar": {
              "outlinewidth": 0,
              "ticks": ""
             }
            },
            "type": "parcoords"
           }
          ],
          "scatter": [
           {
            "marker": {
             "colorbar": {
              "outlinewidth": 0,
              "ticks": ""
             }
            },
            "type": "scatter"
           }
          ],
          "scatter3d": [
           {
            "line": {
             "colorbar": {
              "outlinewidth": 0,
              "ticks": ""
             }
            },
            "marker": {
             "colorbar": {
              "outlinewidth": 0,
              "ticks": ""
             }
            },
            "type": "scatter3d"
           }
          ],
          "scattercarpet": [
           {
            "marker": {
             "colorbar": {
              "outlinewidth": 0,
              "ticks": ""
             }
            },
            "type": "scattercarpet"
           }
          ],
          "scattergeo": [
           {
            "marker": {
             "colorbar": {
              "outlinewidth": 0,
              "ticks": ""
             }
            },
            "type": "scattergeo"
           }
          ],
          "scattergl": [
           {
            "marker": {
             "colorbar": {
              "outlinewidth": 0,
              "ticks": ""
             }
            },
            "type": "scattergl"
           }
          ],
          "scattermapbox": [
           {
            "marker": {
             "colorbar": {
              "outlinewidth": 0,
              "ticks": ""
             }
            },
            "type": "scattermapbox"
           }
          ],
          "scatterpolar": [
           {
            "marker": {
             "colorbar": {
              "outlinewidth": 0,
              "ticks": ""
             }
            },
            "type": "scatterpolar"
           }
          ],
          "scatterpolargl": [
           {
            "marker": {
             "colorbar": {
              "outlinewidth": 0,
              "ticks": ""
             }
            },
            "type": "scatterpolargl"
           }
          ],
          "scatterternary": [
           {
            "marker": {
             "colorbar": {
              "outlinewidth": 0,
              "ticks": ""
             }
            },
            "type": "scatterternary"
           }
          ],
          "surface": [
           {
            "colorbar": {
             "outlinewidth": 0,
             "ticks": ""
            },
            "colorscale": [
             [
              0,
              "#0d0887"
             ],
             [
              0.1111111111111111,
              "#46039f"
             ],
             [
              0.2222222222222222,
              "#7201a8"
             ],
             [
              0.3333333333333333,
              "#9c179e"
             ],
             [
              0.4444444444444444,
              "#bd3786"
             ],
             [
              0.5555555555555556,
              "#d8576b"
             ],
             [
              0.6666666666666666,
              "#ed7953"
             ],
             [
              0.7777777777777778,
              "#fb9f3a"
             ],
             [
              0.8888888888888888,
              "#fdca26"
             ],
             [
              1,
              "#f0f921"
             ]
            ],
            "type": "surface"
           }
          ],
          "table": [
           {
            "cells": {
             "fill": {
              "color": "#EBF0F8"
             },
             "line": {
              "color": "white"
             }
            },
            "header": {
             "fill": {
              "color": "#C8D4E3"
             },
             "line": {
              "color": "white"
             }
            },
            "type": "table"
           }
          ]
         },
         "layout": {
          "annotationdefaults": {
           "arrowcolor": "#2a3f5f",
           "arrowhead": 0,
           "arrowwidth": 1
          },
          "colorscale": {
           "diverging": [
            [
             0,
             "#8e0152"
            ],
            [
             0.1,
             "#c51b7d"
            ],
            [
             0.2,
             "#de77ae"
            ],
            [
             0.3,
             "#f1b6da"
            ],
            [
             0.4,
             "#fde0ef"
            ],
            [
             0.5,
             "#f7f7f7"
            ],
            [
             0.6,
             "#e6f5d0"
            ],
            [
             0.7,
             "#b8e186"
            ],
            [
             0.8,
             "#7fbc41"
            ],
            [
             0.9,
             "#4d9221"
            ],
            [
             1,
             "#276419"
            ]
           ],
           "sequential": [
            [
             0,
             "#0d0887"
            ],
            [
             0.1111111111111111,
             "#46039f"
            ],
            [
             0.2222222222222222,
             "#7201a8"
            ],
            [
             0.3333333333333333,
             "#9c179e"
            ],
            [
             0.4444444444444444,
             "#bd3786"
            ],
            [
             0.5555555555555556,
             "#d8576b"
            ],
            [
             0.6666666666666666,
             "#ed7953"
            ],
            [
             0.7777777777777778,
             "#fb9f3a"
            ],
            [
             0.8888888888888888,
             "#fdca26"
            ],
            [
             1,
             "#f0f921"
            ]
           ],
           "sequentialminus": [
            [
             0,
             "#0d0887"
            ],
            [
             0.1111111111111111,
             "#46039f"
            ],
            [
             0.2222222222222222,
             "#7201a8"
            ],
            [
             0.3333333333333333,
             "#9c179e"
            ],
            [
             0.4444444444444444,
             "#bd3786"
            ],
            [
             0.5555555555555556,
             "#d8576b"
            ],
            [
             0.6666666666666666,
             "#ed7953"
            ],
            [
             0.7777777777777778,
             "#fb9f3a"
            ],
            [
             0.8888888888888888,
             "#fdca26"
            ],
            [
             1,
             "#f0f921"
            ]
           ]
          },
          "colorway": [
           "#636efa",
           "#EF553B",
           "#00cc96",
           "#ab63fa",
           "#FFA15A",
           "#19d3f3",
           "#FF6692",
           "#B6E880",
           "#FF97FF",
           "#FECB52"
          ],
          "font": {
           "color": "#2a3f5f"
          },
          "geo": {
           "bgcolor": "white",
           "lakecolor": "white",
           "landcolor": "#E5ECF6",
           "showlakes": true,
           "showland": true,
           "subunitcolor": "white"
          },
          "hoverlabel": {
           "align": "left"
          },
          "hovermode": "closest",
          "mapbox": {
           "style": "light"
          },
          "paper_bgcolor": "white",
          "plot_bgcolor": "#E5ECF6",
          "polar": {
           "angularaxis": {
            "gridcolor": "white",
            "linecolor": "white",
            "ticks": ""
           },
           "bgcolor": "#E5ECF6",
           "radialaxis": {
            "gridcolor": "white",
            "linecolor": "white",
            "ticks": ""
           }
          },
          "scene": {
           "xaxis": {
            "backgroundcolor": "#E5ECF6",
            "gridcolor": "white",
            "gridwidth": 2,
            "linecolor": "white",
            "showbackground": true,
            "ticks": "",
            "zerolinecolor": "white"
           },
           "yaxis": {
            "backgroundcolor": "#E5ECF6",
            "gridcolor": "white",
            "gridwidth": 2,
            "linecolor": "white",
            "showbackground": true,
            "ticks": "",
            "zerolinecolor": "white"
           },
           "zaxis": {
            "backgroundcolor": "#E5ECF6",
            "gridcolor": "white",
            "gridwidth": 2,
            "linecolor": "white",
            "showbackground": true,
            "ticks": "",
            "zerolinecolor": "white"
           }
          },
          "shapedefaults": {
           "line": {
            "color": "#2a3f5f"
           }
          },
          "ternary": {
           "aaxis": {
            "gridcolor": "white",
            "linecolor": "white",
            "ticks": ""
           },
           "baxis": {
            "gridcolor": "white",
            "linecolor": "white",
            "ticks": ""
           },
           "bgcolor": "#E5ECF6",
           "caxis": {
            "gridcolor": "white",
            "linecolor": "white",
            "ticks": ""
           }
          },
          "title": {
           "x": 0.05
          },
          "xaxis": {
           "automargin": true,
           "gridcolor": "white",
           "linecolor": "white",
           "ticks": "",
           "zerolinecolor": "white",
           "zerolinewidth": 2
          },
          "yaxis": {
           "automargin": true,
           "gridcolor": "white",
           "linecolor": "white",
           "ticks": "",
           "zerolinecolor": "white",
           "zerolinewidth": 2
          }
         }
        },
        "xaxis": {
         "anchor": "y",
         "domain": [
          0,
          0.98
         ],
         "title": {
          "text": "PC1"
         }
        },
        "yaxis": {
         "anchor": "x",
         "domain": [
          0,
          1
         ],
         "title": {
          "text": "PC2"
         }
        }
       }
      }
     },
     "metadata": {},
     "output_type": "display_data"
    }
   ],
   "source": [
    "import plotly.express as px\n",
    "\n",
    "fig = px.scatter(df_pca, x='PC1', y='PC2', render_mode='svg', hover_data=['ID'],color='cluster')\n",
    "\n",
    "fig.show()"
   ]
  },
  {
   "cell_type": "code",
   "execution_count": 36,
   "id": "fe673cc3",
   "metadata": {},
   "outputs": [
    {
     "name": "stdout",
     "output_type": "stream",
     "text": [
      "[pca] >Column labels are auto-completed.\n",
      "[pca] >Row labels are auto-completed.\n",
      "[pca] >The PCA reduction is performed to capture [95.0%] explained variance using the [1557] columns of the input data.\n",
      "[pca] >Fit using PCA.\n",
      "[pca] >Compute loadings and PCs.\n",
      "[pca] >Compute explained variance.\n",
      "[pca] >Number of components is [2] that covers the [95.00%] explained variance.\n",
      "[pca] >The PCA reduction is performed on the [1557] columns of the input dataframe.\n",
      "[pca] >Fit using PCA.\n",
      "[pca] >Compute loadings and PCs.\n",
      "[pca] >Outlier detection using Hotelling T2 test with alpha=[0.05] and n_components=[2]\n",
      "[pca] >Multiple test correction applied for Hotelling T2 test: [fdr_bh]\n",
      "[pca] >Outlier detection using SPE/DmodX with n_std=[2]\n",
      "[pca] >Plot PC1 vs PC2 with loadings.\n"
     ]
    },
    {
     "name": "stderr",
     "output_type": "stream",
     "text": [
      "                                         \r"
     ]
    },
    {
     "data": {
      "text/plain": [
       "(<Figure size 1080x720 with 1 Axes>,\n",
       " <AxesSubplot:title={'center':'Outliers marked using Hotellings T2 method.'}, xlabel='PC1 (83.2% expl.var)', ylabel='PC2 (14.5% expl.var)'>)"
      ]
     },
     "execution_count": 36,
     "metadata": {},
     "output_type": "execute_result"
    },
    {
     "data": {
      "image/png": "[encoded data removed]",
      "text/plain": [
       "<Figure size 1080x720 with 1 Axes>"
      ]
     },
     "metadata": {
      "needs_background": "light"
     },
     "output_type": "display_data"
    }
   ],
   "source": [
    "# import numpy as np\n",
    "# from sklearn.decomposition import PCA\n",
    "# from sklearn.preprocessing import StandardScaler\n",
    "from pca import pca\n",
    "\n",
    "pca_model = pca(detect_outliers=['ht2', 'spe'],n_std=2.5 )\n",
    "\n",
    "results = pca_model.fit_transform(X)\n",
    "#PCA(n_components=5)\n",
    "# Plot Hotellings T2\n",
    "pca_model.biplot(SPE=True, hotellingt2=True, title='Outliers marked using Hotellings T2 method.', legend=False)"
   ]
  },
  {
   "cell_type": "code",
   "execution_count": null,
   "id": "3d21e7e6",
   "metadata": {},
   "outputs": [],
   "source": [
    "# df_pretreat = df.iloc[:, 1:-2]\n",
    "# df_pretreat['Umidade'] = df['Moisture Content (%)']\n",
    "# df_pretreat['Oleo'] = df['Fat Content (%)']"
   ]
  },
  {
   "cell_type": "code",
   "execution_count": 62,
   "id": "a322761d",
   "metadata": {},
   "outputs": [],
   "source": [
    "###Remove maybe 39 and 42\n",
    "df_pretreat.drop([44,46], inplace=True)"
   ]
  },
  {
   "cell_type": "code",
   "execution_count": 385,
   "id": "34e4be4b",
   "metadata": {},
   "outputs": [],
   "source": [
    "df_pretreat['class'] = 0\n",
    "for index, row in df_pretreat.iterrows():\n",
    "    if row['TA'] < 300:\n",
    "        df_pretreat.loc[index, 'class'] = 0\n",
    "    elif row['TA'] < 400:\n",
    "        df_pretreat.loc[index, 'class'] = 1\n",
    "    elif row['TA'] < 500:\n",
    "        df_pretreat.loc[index, 'class'] = 2\n",
    "    elif row['TA'] < 600:\n",
    "        df_pretreat.loc[index, 'class'] = 3\n",
    "    elif row['TA'] < 700:\n",
    "        df_pretreat.loc[index, 'class'] = 3\n",
    "    else:\n",
    "        df_pretreat.loc[index, 'class'] = 4"
   ]
  },
  {
   "cell_type": "code",
   "execution_count": 126,
   "id": "86708550",
   "metadata": {},
   "outputs": [
    {
     "data": {
      "text/html": [
       "<div>\n",
       "<style scoped>\n",
       "    .dataframe tbody tr th:only-of-type {\n",
       "        vertical-align: middle;\n",
       "    }\n",
       "\n",
       "    .dataframe tbody tr th {\n",
       "        vertical-align: top;\n",
       "    }\n",
       "\n",
       "    .dataframe thead th {\n",
       "        text-align: right;\n",
       "    }\n",
       "</style>\n",
       "<table border=\"1\" class=\"dataframe\">\n",
       "  <thead>\n",
       "    <tr style=\"text-align: right;\">\n",
       "      <th></th>\n",
       "      <th>999.9</th>\n",
       "      <th>1000.3</th>\n",
       "      <th>1000.7</th>\n",
       "      <th>1001.1</th>\n",
       "      <th>1001.4</th>\n",
       "      <th>1001.8</th>\n",
       "      <th>1002.2</th>\n",
       "      <th>1002.6</th>\n",
       "      <th>1003</th>\n",
       "      <th>1003.4</th>\n",
       "      <th>...</th>\n",
       "      <th>2485.8</th>\n",
       "      <th>2488.2</th>\n",
       "      <th>2490.6</th>\n",
       "      <th>2493</th>\n",
       "      <th>2495.4</th>\n",
       "      <th>2497.8</th>\n",
       "      <th>2500.2</th>\n",
       "      <th>TA</th>\n",
       "      <th>C</th>\n",
       "      <th>class</th>\n",
       "    </tr>\n",
       "  </thead>\n",
       "  <tbody>\n",
       "    <tr>\n",
       "      <th>0</th>\n",
       "      <td>-0.000408</td>\n",
       "      <td>-0.000411</td>\n",
       "      <td>-0.000414</td>\n",
       "      <td>-0.000416</td>\n",
       "      <td>-0.000419</td>\n",
       "      <td>-0.000422</td>\n",
       "      <td>-0.000424</td>\n",
       "      <td>-0.000427</td>\n",
       "      <td>-0.000434</td>\n",
       "      <td>-0.000433</td>\n",
       "      <td>...</td>\n",
       "      <td>0.001153</td>\n",
       "      <td>0.001058</td>\n",
       "      <td>0.000963</td>\n",
       "      <td>0.000868</td>\n",
       "      <td>0.000773</td>\n",
       "      <td>0.000678</td>\n",
       "      <td>0.000583</td>\n",
       "      <td>268.56</td>\n",
       "      <td>29.95</td>\n",
       "      <td>0</td>\n",
       "    </tr>\n",
       "    <tr>\n",
       "      <th>1</th>\n",
       "      <td>-0.000276</td>\n",
       "      <td>-0.000295</td>\n",
       "      <td>-0.000314</td>\n",
       "      <td>-0.000332</td>\n",
       "      <td>-0.000351</td>\n",
       "      <td>-0.000370</td>\n",
       "      <td>-0.000389</td>\n",
       "      <td>-0.000408</td>\n",
       "      <td>-0.000416</td>\n",
       "      <td>-0.000417</td>\n",
       "      <td>...</td>\n",
       "      <td>0.000845</td>\n",
       "      <td>0.000763</td>\n",
       "      <td>0.000682</td>\n",
       "      <td>0.000601</td>\n",
       "      <td>0.000520</td>\n",
       "      <td>0.000438</td>\n",
       "      <td>0.000357</td>\n",
       "      <td>291.07</td>\n",
       "      <td>31.36</td>\n",
       "      <td>1</td>\n",
       "    </tr>\n",
       "    <tr>\n",
       "      <th>2</th>\n",
       "      <td>-0.000331</td>\n",
       "      <td>-0.000340</td>\n",
       "      <td>-0.000350</td>\n",
       "      <td>-0.000359</td>\n",
       "      <td>-0.000369</td>\n",
       "      <td>-0.000378</td>\n",
       "      <td>-0.000388</td>\n",
       "      <td>-0.000398</td>\n",
       "      <td>-0.000394</td>\n",
       "      <td>-0.000399</td>\n",
       "      <td>...</td>\n",
       "      <td>0.001277</td>\n",
       "      <td>0.001171</td>\n",
       "      <td>0.001065</td>\n",
       "      <td>0.000960</td>\n",
       "      <td>0.000854</td>\n",
       "      <td>0.000748</td>\n",
       "      <td>0.000643</td>\n",
       "      <td>378.17</td>\n",
       "      <td>33.07</td>\n",
       "      <td>1</td>\n",
       "    </tr>\n",
       "    <tr>\n",
       "      <th>3</th>\n",
       "      <td>-0.000463</td>\n",
       "      <td>-0.000455</td>\n",
       "      <td>-0.000447</td>\n",
       "      <td>-0.000439</td>\n",
       "      <td>-0.000431</td>\n",
       "      <td>-0.000423</td>\n",
       "      <td>-0.000415</td>\n",
       "      <td>-0.000407</td>\n",
       "      <td>-0.000403</td>\n",
       "      <td>-0.000406</td>\n",
       "      <td>...</td>\n",
       "      <td>0.001354</td>\n",
       "      <td>0.001220</td>\n",
       "      <td>0.001085</td>\n",
       "      <td>0.000950</td>\n",
       "      <td>0.000816</td>\n",
       "      <td>0.000681</td>\n",
       "      <td>0.000546</td>\n",
       "      <td>276.55</td>\n",
       "      <td>30.63</td>\n",
       "      <td>0</td>\n",
       "    </tr>\n",
       "    <tr>\n",
       "      <th>4</th>\n",
       "      <td>-0.000342</td>\n",
       "      <td>-0.000353</td>\n",
       "      <td>-0.000365</td>\n",
       "      <td>-0.000376</td>\n",
       "      <td>-0.000388</td>\n",
       "      <td>-0.000399</td>\n",
       "      <td>-0.000411</td>\n",
       "      <td>-0.000422</td>\n",
       "      <td>-0.000432</td>\n",
       "      <td>-0.000443</td>\n",
       "      <td>...</td>\n",
       "      <td>0.001285</td>\n",
       "      <td>0.001168</td>\n",
       "      <td>0.001051</td>\n",
       "      <td>0.000933</td>\n",
       "      <td>0.000816</td>\n",
       "      <td>0.000699</td>\n",
       "      <td>0.000582</td>\n",
       "      <td>324.40</td>\n",
       "      <td>31.69</td>\n",
       "      <td>0</td>\n",
       "    </tr>\n",
       "  </tbody>\n",
       "</table>\n",
       "<p>5 rows × 1560 columns</p>\n",
       "</div>"
      ],
      "text/plain": [
       "      999.9    1000.3    1000.7    1001.1    1001.4    1001.8    1002.2  \\\n",
       "0 -0.000408 -0.000411 -0.000414 -0.000416 -0.000419 -0.000422 -0.000424   \n",
       "1 -0.000276 -0.000295 -0.000314 -0.000332 -0.000351 -0.000370 -0.000389   \n",
       "2 -0.000331 -0.000340 -0.000350 -0.000359 -0.000369 -0.000378 -0.000388   \n",
       "3 -0.000463 -0.000455 -0.000447 -0.000439 -0.000431 -0.000423 -0.000415   \n",
       "4 -0.000342 -0.000353 -0.000365 -0.000376 -0.000388 -0.000399 -0.000411   \n",
       "\n",
       "     1002.6      1003    1003.4  ...    2485.8    2488.2    2490.6      2493  \\\n",
       "0 -0.000427 -0.000434 -0.000433  ...  0.001153  0.001058  0.000963  0.000868   \n",
       "1 -0.000408 -0.000416 -0.000417  ...  0.000845  0.000763  0.000682  0.000601   \n",
       "2 -0.000398 -0.000394 -0.000399  ...  0.001277  0.001171  0.001065  0.000960   \n",
       "3 -0.000407 -0.000403 -0.000406  ...  0.001354  0.001220  0.001085  0.000950   \n",
       "4 -0.000422 -0.000432 -0.000443  ...  0.001285  0.001168  0.001051  0.000933   \n",
       "\n",
       "     2495.4    2497.8    2500.2      TA      C  class  \n",
       "0  0.000773  0.000678  0.000583  268.56  29.95      0  \n",
       "1  0.000520  0.000438  0.000357  291.07  31.36      1  \n",
       "2  0.000854  0.000748  0.000643  378.17  33.07      1  \n",
       "3  0.000816  0.000681  0.000546  276.55  30.63      0  \n",
       "4  0.000816  0.000699  0.000582  324.40  31.69      0  \n",
       "\n",
       "[5 rows x 1560 columns]"
      ]
     },
     "execution_count": 126,
     "metadata": {},
     "output_type": "execute_result"
    }
   ],
   "source": [
    "df_pretreat['class'] = clustering.labels_\n",
    "df_pretreat.head()"
   ]
  },
  {
   "cell_type": "code",
   "execution_count": 189,
   "id": "e8e2b137",
   "metadata": {},
   "outputs": [],
   "source": [
    "##Sans modif\n",
    "\n",
    "from sklearn.preprocessing import StandardScaler\n",
    "from sklearn.model_selection import train_test_split\n",
    "\n",
    "\n",
    "y = df_pretreat[['TA','C','class']]\n",
    "## Do not take the reference value and the class\n",
    "X = df_pretreat.values[:, :-3]\n",
    "X_train, X_test, y_train, y_test = train_test_split(X, y, test_size=0.15, random_state=0,stratify=y['class'])\n",
    "\n",
    "\n",
    "# col = [0,2,3,6,7,8,16,21,27,29,31,32,33,39,40,46,51,53,54,56,58,59,62,63,64,65,66,67,70,71,73,85,92,94,96,97,99,102,107,110,113,119,122,125,130,131,132,133,134,137,139,141,143,146,147,148,150,154,155,157,158,159,166,167,168,170,178,179,182,187,190,192,193,195,196,199,201,202,203,205,206,208,209,210,211,214,215,217,219,221,222,224,226,227,228,229,232,235,236,237,242,245,246,254,255,266,267,270,274,279,280,284,286,288,290,294,295,297,298,300,301,302,304,305,307,309,310,312,318,319,321,323,324,325,327,328,331,332,334,337,338,351,353,354,355,356,357,362,367,368,369,370,372,374,375,377,379,381,386,387,391,392,399,401,402,411,412,413,414,422,425,426,428,429,430,431,435,437,439,440,441,443,444,445,446,448,457,461,462,464,465,467,470,472,474,479,481,482,483,485,486,490,494,495,498,500,503,506,507,508,511,512,513,515,518,519,520,524,532,536,537,539,544,547,549,551,555,560,565,567,570,571,572,573,575,578,580,581,585,587,589,592,598,599,605,610,612,615,618,622,630,633,636,637,640,642,649,652,653,656,666,667,668,673,674,675,677,688,689,690,691,692,695,696,699,700,701,702,703,707,708,709,711,712,713,714,717,719,722,724,725,726,727,728,729,730,732,734,735,741,744,746,747,748,752,756,758,759,760,763,766,768,769,770,772,774,775,776,783,788,789,791,792,793,794,797,801,802,806,807,810,812,813,814,818,822,826,833,834,837,839,841,843,844,845,850,855,862,863,864,869,872,873,874,875,876,879,887,889,900,901,903,904,907,908,909,912,916,920,922,923,925,926,928,929,931,932,940,942,943,945,947,948,951,955,957,964,966,967,969,971,973,974,977,978,982,989,994,1000,1001,1002,1003,1005,1007,1008,1009,1013,1014,1026,1028,1029,1031,1033,1034,1035,1040,1041,1044,1045,1047,1051,1053,1059,1062,1063,1065,1067,1073,1075,1077,1079,1083,1084,1091,1093,1094,1096,1102,1104,1105,1110,1113,1114,1117,1118,1121,1122,1126,1127,1130,1137,1139,1141,1145,1147,1148,1153,1158,1159,1161,1164,1166,1167,1168,1171,1175,1176,1178,1180,1185,1188,1189,1196,1198,1200,1202,1203,1204,1210,1211,1213,1215,1216,1220,1230,1234,1237,1238,1239,1242,1249,1253,1255,1256,1257,1260,1262,1263,1264,1265,1267,1269,1270,1271,1272,1276,1277,1278,1284,1292,1293,1297,1306,1307,1312,1314,1315,1318,1329,1331,1332,1335,1345,1346,1347,1351,1352,1353,1354,1355,1356,1357,1358,1359,1362,1364,1365,1366,1369,1372,1376,1378,1381,1385,1386,1388,1391,1394,1397,1399,1401,1402,1406,1407,1410,1412,1413,1414,1415,1417,1419,1427,1428,1431,1432,1434,1435,1439,1440,1448,1449,1453,1456,1458,1461,1463,1465,1466,1482,1486,1493,1495,1497,1498,1507,1508,1511,1514,1515,1517,1525,1527,1528,1534,1535,1541,1542,1543,1546,1547,1553,1554]\n",
    "# X_train = (np.delete(X_train, col,1))\n",
    "# X_test = (np.delete(X_test, col,1))\n",
    "# X = (np.delete(X, col,1))\n",
    "# col = [ 0,   2,   3,   9,  10,  11,  13,  14,  20,  22,  27,  32,  33,\n",
    "#         34,  35,  39,  44,  48,  56,  57,  59,  60,  62,  67,  71,  76,\n",
    "#         77,  78,  82,  88,  92,  93,  94,  96, 100, 102, 103, 104, 106,\n",
    "#        108, 113, 114, 116, 119, 121, 126, 128, 134, 136, 140, 148, 152,\n",
    "#        154, 156, 158, 161, 162, 164, 165, 166, 168, 173, 182, 183, 184,\n",
    "#        185, 193, 203, 206, 208, 210, 212, 213, 219, 224, 227, 230, 231,\n",
    "#        233, 234, 237, 238, 242, 243, 244, 246, 247, 248, 250, 251, 256,\n",
    "#        259, 263, 265, 267, 271, 272, 276, 277, 281, 282, 293, 294, 303,\n",
    "#        308, 311, 312, 314, 317, 327, 331, 332, 333, 338, 340, 343, 344,\n",
    "#        350, 351, 355, 359, 360, 361, 362, 367, 375, 381, 382, 385, 389,\n",
    "#        390, 393, 394, 395, 396, 397, 398, 399, 401, 406, 407, 411, 412,\n",
    "#        414, 415, 418, 420, 422, 424, 426, 429, 430, 432, 433, 436, 437,\n",
    "#        438, 440, 446, 448, 449, 451, 455, 458, 465, 466, 471, 472, 473,\n",
    "#        479, 482, 485, 487, 490, 491, 492, 493, 499, 500, 501, 504, 505,\n",
    "#        506, 509, 511, 517, 520, 521, 522, 526, 527, 531, 532, 535, 536,\n",
    "#        539, 540, 541, 543, 548, 552, 561, 566, 570, 571, 573, 575, 578,\n",
    "#        583, 598, 599, 604, 605, 608, 616, 618, 620, 623, 624, 626, 628,\n",
    "#        629, 631, 632, 635, 637, 639, 641, 642, 644, 645, 646, 647, 648,\n",
    "#        650, 651, 656, 660, 664, 667, 668, 669, 670, 674, 676, 678, 681,\n",
    "#        684, 686, 688, 690, 691, 692, 696, 699, 700, 705, 710, 712, 714,\n",
    "#        715, 719, 731, 732, 733, 738, 744, 747, 749, 751, 757, 759, 760,\n",
    "#        761, 766, 768, 772, 773, 775, 777, 779, 782, 784, 785, 786, 788,\n",
    "#        789, 790, 791, 793, 796, 799, 801, 811, 812, 813, 814, 817, 822,\n",
    "#        825, 831, 833, 834, 837, 838, 839, 841, 845, 850, 855, 858, 860,\n",
    "#        869, 870, 877, 882, 884, 885, 887, 894, 896, 898, 904, 908, 910,\n",
    "#        911, 913, 914, 915, 916, 918, 925, 927, 932, 937, 938, 939, 942,\n",
    "#        944, 946, 949, 950, 951, 953]\n",
    "# X_train = (np.delete(X_train, col,1))\n",
    "# X_test = (np.delete(X_test, col,1))\n",
    "# X = (np.delete(X, col,1))\n",
    "\n",
    "\n",
    "# col = [2,   3,   6,   7,   9,  10,  12,  13,  14,  15,  17,  19,  24,\n",
    "#         34,  35,  41,  43,  44,  45,  46,  48,  52,  55,  56,  60,  63,\n",
    "#         64,  66,  67,  68,  70,  72,  76,  79,  81,  82,  83,  85,  88,\n",
    "#         89,  91,  93, 103, 104, 107, 108, 111, 113, 114, 117, 119, 122,\n",
    "#        125, 127, 129, 131, 133, 135, 141, 142, 143, 149, 152, 156, 158,\n",
    "#        162, 164, 172, 174, 175, 178, 180, 185, 187, 190, 191, 192, 202,\n",
    "#        203, 208, 211, 213, 215, 217, 218, 223, 231, 232, 233, 234, 235,\n",
    "#        236, 238, 239, 242, 243, 246, 250, 252, 253, 254, 259, 262, 265,\n",
    "#        267, 268, 271, 273, 278, 279, 280, 285, 291, 298, 299, 302, 303,\n",
    "#        310, 314, 315, 317, 320, 327, 328, 330, 331, 333, 334, 337, 339,\n",
    "#        344, 346, 347, 350, 353, 354, 360, 364, 365, 366, 368, 370, 371,\n",
    "#        372, 374, 375, 376, 377, 378, 385, 386, 388, 392, 394, 396, 399,\n",
    "#        401, 403, 408, 412, 417, 421, 424, 426, 427, 429, 431, 432, 436,\n",
    "#        439, 440, 441, 442, 444, 445]\n",
    "# X_train = (np.delete(X_train, col,1))\n",
    "# X_test = (np.delete(X_test, col,1))\n",
    "# X = (np.delete(X, col,1))\n",
    "\n",
    "# # X_train_snv = msc(X_train)\n",
    "# # X_#test_snv = msc(X_test)\n",
    "\n",
    "y_train_oleo = y_train['TA']\n",
    "\n",
    "\n",
    "y_test_oleo = y_test['TA']\n",
    "\n",
    "#X1 = savgol_filter(X_train, 23, polyorder=2, deriv=2)\n",
    "#X2 = savgol_filter(X_test, 23, polyorder=2, deriv=2)\n",
    "\n",
    "# X_train_snv = msc(X_train)\n",
    "# X_test_snv = msc(X_test)\n",
    "\n",
    "# mean centre correction\n",
    "#X_mc = mc(X1)\n",
    "\n",
    "##Standard Normal Variate\n",
    "\n",
    "# Xsnv = snv(X_train)"
   ]
  },
  {
   "cell_type": "code",
   "execution_count": 15,
   "id": "4fb32a54",
   "metadata": {},
   "outputs": [],
   "source": [
    "##Derive 15\n",
    "\n",
    "from sklearn.preprocessing import StandardScaler\n",
    "from sklearn.model_selection import train_test_split\n",
    "\n",
    "\n",
    "y = df_pretreat[['TA','C','class']]\n",
    "## Do not take the reference value and the class\n",
    "X = df_pretreat.values[:, :-3]\n",
    "X_train, X_test, y_train, y_test = train_test_split(X, y, test_size=0.15, random_state=0,stratify=y['class'])\n",
    "\n",
    "col = [0,1,2,3,4,5,6,7,8,11,12,15,16,17,18,19,22,24,31,32,33,36,38,39,42,43,44,46,47,48,49,50,55,64,65,66,67,69,73,74,75,76,77,79,81,82,83,84,85,86,89,92,93,95,96,98,108,109,110,111,112,113,115,116,117,118,122,124,125,133,134,135,136,140,141,143,144,145,149,150,152,153,154,155,156,157,158,159,160,163,164,165,166,172,174,175,176,178,179,180,181,182,183,184,185,187,188,195,196,197,200,201,202,203,211,214,216,222,225,227,231,233,237,238,239,240,241,242,243,252,257,258,260,261,262,263,264,267,268,271,273,277,280,282,284,285,286,287,289,295,297,299,300,301,302,303,310,315,317,321,324,326,327,329,332,334,335,336,340,341,342,349,350,352,353,358,360,363,365,367,369,370,372,374,377,378,379,380,387,390,391,393,395,396,399,401,403,409,411,420,421,422,423,424,425,426,427,431,432,435,436,439,442,447,448,449,450,452,454,455,458,461,462,463,464,466,472,473,477,478,479,480,482,484,487,490,493,495,496,498,500,505,506,509,510,511,512,514,515,516,518,519,520,521,522,523,526,532,533,535,536,539,541,542,543,544,545,549,550,551,558,559,560,561,563,565,568,569,570,571,572,573,575,581,582,585,590,597,598,600,601,603,605,618,619,620,621,627,629,630,631,636,641,643,644,647,649,652,653,654,655,656,660,664,665,666,667,669,673,674,680,681,682,688,689,690,693,694,697,703,704,705,708,709,710,711,723,725,727,729,733,736,737,739,741,742,747,748,751,753,756,758,760,763,764,771,773,775,776,778,779,780,781,784,788,789,795,798,799,800,802,804,808,809,810,811,812,813,816,819,820,824,826,832,842,846,852,854,856,859,860,863,864,868,871,878,881,884,885,887,894,902,910,913,916,919,924,929,930,931,937,939,940,946,947,950,953,955,958,959,960,962,965,966,970,972,978,979,983,984,987,990,993,995,997,998,1001,1004,1006,1013,1019,1025,1030,1031,1032,1033,1035,1038,1039,1047,1048,1049,1052,1053,1054,1056,1059,1060,1062,1063,1064,1072,1073,1074,1075,1076,1078,1079,1080,1081,1082,1083,1085,1086,1087,1090,1093,1094,1096,1097,1098,1099,1101,1104,1105,1106,1108,1109,1110,1111,1113,1114,1116,1121,1123,1125,1130,1131,1135,1140,1141,1147,1148,1157,1158,1162,1163,1165,1169,1171,1172,1173,1176,1177,1178,1181,1184,1185,1187,1188,1190,1191,1195,1196,1200,1201,1205,1206,1208,1209,1213,1217,1223,1224,1226,1228,1230,1232,1236,1237,1238,1240,1242,1252,1253,1255,1257,1265,1266,1268,1269,1270,1272,1275,1277,1278,1281,1284,1289,1294,1298,1299,1300,1301,1305,1313,1315,1320,1324,1327,1330,1331,1333,1336,1341,1347,1348,1349,1351,1353,1356,1359,1363,1366,1367,1368,1371,1374,1377,1380,1385,1386,1390,1392,1395,1396,1397,1398,1399,1400,1401,1402,1406,1407,1408,1409,1410,1412,1414,1415,1417,1418,1419,1420,1422,1425,1429,1431,1432,1447,1456,1458,1461,1463,1466,1470,1475,1476,1479,1483,1484,1486,1487,1493,1494,1495,1499,1501,1507,1529,1530,1535,1536,1538,1544,1556]\n",
    "X_train = (np.delete(X_train, col,1))\n",
    "X_test = (np.delete(X_test, col,1))\n",
    "X = (np.delete(X, col,1))\n",
    "\n",
    "col = [ 3,7,8,9,13,15,16,18,23,24,25,27,29,33,34,37,38,41,48,50,53,55,56,57,62,63,66,67,69,70,73,75,76,78,79,81,82,84,85,86,87,88,90,95,97,98,100,101,103,106,107,109,110,111,117,119,122,124,125,130,134,135,138,140,141,142,143,145,150,151,153,157,159,161,163,165,167,169,170,171,176,180,181,184,185,187,188,190,191,194,195,197,199,200,204,206,211,215,216,220,221,223,224,225,226,228,230,233,234,235,237,241,242,243,245,247,249,255,258,259,262,264,265,272,273,274,276,277,278,279,281,282,285,288,292,293,294,295,297,300,301,304,305,306,307,308,311,312,315,316,317,321,323,330,332,333,334,335,338,340,341,343,344,346,347,348,349,351,352,359,361,363,364,367,369,370,371,372,375,380,382,383,389,390,392,393,394,396,399,400,404,405,408,411,413,415,418,420,422,423,424,427,428,430,431,432,434,436,437,439,440,441,442,445,447,448,450,451,454,457,458,465,468,473,477,480,481,484,490,491,492,494,500,501,502,510,515,516,517,518,520,524,525,526,528,532,537,538,540,541,545,548,549,550,554,555,559,560,564,565,566,569,573,574,575,576,579,581,583,584,589,591,592,594,595,602,603,606,607,611,614,616,619,620,627,629,633,634,636,639,640,642,644,645,647,648,655,658,660,661,665,667,668,673,674,675,685,687,697,699,701,706,707,709,710,713,716,723,725,730,732,734,735,737,742,743,744,745,747,749,750,752,755,758,759,760,765,766,767,770,771,772,773,777,783,785,786,788,790,791,793,795,797,799,801,803,805,806,808,812,813,814,815,820,821,824,828,830,833,835,842,844,846,850,851,853,856,862,864,865,866,868,872,880,882,885,889,892,893,897,898,900,903,906,910]\n",
    "X_train = (np.delete(X_train, col,1))\n",
    "X_test = (np.delete(X_test, col,1))\n",
    "X = (np.delete(X, col,1))\n",
    "\n",
    "\n",
    "col = [0,   1,   2,   3,   4,   5,   6,   9,  10,  13,  16,  18,  20,\n",
    "        25,  28,  29,  30,  32,  33,  34,  35,  38,  39,  40,  42,  43,\n",
    "        46,  52,  53,  55,  57,  58,  59,  60,  62,  64,  65,  66,  67,\n",
    "        68,  70,  73,  78,  79,  82,  83,  85,  88,  91,  95,  97,  98,\n",
    "       101, 103, 106, 112, 116, 119, 121, 124, 129, 133, 135, 146, 148,\n",
    "       149, 151, 152, 153, 156, 157, 159, 170, 171, 172, 173, 175, 176,\n",
    "       180, 181, 182, 186, 190, 193, 194, 195, 199, 200, 201, 203, 205,\n",
    "       210, 215, 217, 219, 221, 222, 223, 226, 227, 228, 230, 235, 239,\n",
    "       240, 241, 244, 245, 250, 257, 258, 259, 268, 270, 272, 273, 278,\n",
    "       279, 282, 283, 286, 288, 291, 293, 298, 300, 301, 305, 306, 310,\n",
    "       313, 314, 324, 325, 328, 331, 332, 334, 335, 336, 338, 340, 341,\n",
    "       342, 343, 345, 346, 349, 350, 351, 354, 355, 357, 358, 362, 363,\n",
    "       364, 369, 373, 374, 375, 381, 384, 385, 388, 389, 390, 392, 395,\n",
    "       397, 398, 402, 404, 407, 410, 412, 414, 416, 419, 421, 423, 426,\n",
    "       428, 429, 431, 433, 435, 437, 438, 439, 441, 448, 449, 450, 451,\n",
    "       452, 453, 455, 456, 460, 465, 466, 467, 470, 477, 479, 481, 482,\n",
    "       483, 484, 485, 486, 487, 490, 492, 497, 505, 507, 509, 510, 514]\n",
    "X_train = (np.delete(X_train, col,1))\n",
    "X_test = (np.delete(X_test, col,1))\n",
    "X = (np.delete(X, col,1))\n",
    "\n",
    "# col = [0,   3,   6,  11,  15,  16,  21,  24,  25,  27,  30,  32,  35,\n",
    "#         39,  40,  42,  43,  44,  49,  55,  57,  58,  59,  60,  63,  64,\n",
    "#         66,  68,  71,  72,  73,  77,  78,  82,  83,  87,  89,  91,  93,\n",
    "#         95,  98, 103, 104, 108, 111, 120, 121, 122, 124, 126, 127, 129,\n",
    "#        131, 134, 137, 139, 145, 151, 153, 154, 156, 157, 158, 165, 166,\n",
    "#        171, 172, 176, 177, 182, 184, 185, 186, 188, 189, 196, 198, 200,\n",
    "#        204, 205, 209, 211, 213, 217, 219, 226, 227, 237, 238, 242, 243,\n",
    "#        245, 250, 251, 253, 254, 255, 259, 260, 263, 269, 272, 273, 281,\n",
    "#        292]\n",
    "# X_train = (np.delete(X_train, col,1))\n",
    "# X_test = (np.delete(X_test, col,1))\n",
    "# X = (np.delete(X, col,1))\n",
    "\n",
    "# col = [ 4,   7,   9,  20,  22,  24,  26,  27,  29,  30,  33,  46,  47,\n",
    "#         53,  56,  57,  63,  65,  70,  73,  76,  77,  79,  80,  83,  84,\n",
    "#         88,  96,  98, 101, 103, 105, 110, 114, 117, 118, 121, 122, 123,\n",
    "#        124, 132, 134, 136, 145, 146, 148, 151, 152, 154, 157, 160, 171,\n",
    "#        175, 179, 182]\n",
    "# X_train = (np.delete(X_train, col,1))\n",
    "# X_test = (np.delete(X_test, col,1))\n",
    "# X = (np.delete(X, col,1))\n",
    "\n",
    "# col = [ 2,  13,  19,  20,  22,  26,  43,  49,  52,  54,  55,  61,  62,\n",
    "#         64,  72,  73,  74,  77,  88,  89,  90,  98, 106, 107, 113, 115,\n",
    "#        116, 124, 127]\n",
    "# X_train = (np.delete(X_train, col,1))\n",
    "# X_test = (np.delete(X_test, col,1))\n",
    "# X = (np.delete(X, col,1))\n",
    "\n",
    "# col = [  37,  40,  43,  49,  50,  58,  60,  63,  65,  68,  69,  71,  83,\n",
    "#         85,  91,  92,  93, 103, 104]\n",
    "# X_train = (np.delete(X_train, col,1))\n",
    "# X_test = (np.delete(X_test, col,1))\n",
    "# X = (np.delete(X, col,1))\n",
    "\n",
    "# # X_train_snv = msc(X_train)\n",
    "# # X_#test_snv = msc(X_test)\n",
    "\n",
    "y_train_oleo = y_train['TA']\n",
    "\n",
    "\n",
    "y_test_oleo = y_test['TA']\n",
    "\n",
    "#X1 = savgol_filter(X_train, 23, polyorder=2, deriv=2)\n",
    "#X2 = savgol_filter(X_test, 23, polyorder=2, deriv=2)\n",
    "\n",
    "# X_train_snv = msc(X_train)\n",
    "# X_test_snv = msc(X_test)\n",
    "\n",
    "# mean centre correction\n",
    "#X_mc = mc(X1)\n",
    "\n",
    "##Standard Normal Variate\n",
    "\n",
    "# Xsnv = snv(X_train)"
   ]
  },
  {
   "cell_type": "code",
   "execution_count": 91,
   "id": "f1b9c3d2",
   "metadata": {},
   "outputs": [],
   "source": [
    "##Derive 15 amelioration\n",
    "\n",
    "from sklearn.preprocessing import StandardScaler\n",
    "from sklearn.model_selection import train_test_split\n",
    "\n",
    "\n",
    "y = df_pretreat[['TA','C','class']]\n",
    "## Do not take the reference value and the class\n",
    "X = df_pretreat.values[:, :-3]\n",
    "X_train, X_test, y_train, y_test = train_test_split(X, y, test_size=0.15, random_state=0,stratify=y['class'])\n",
    "\n",
    "# col = [0,1,2,3,4,5,6,7,8,11,12,15,16,17,18,19,22,24,31,32,33,36,38,39,42,43,44,46,47,48,49,50,55,64,65,66,67,69,73,74,75,76,77,79,81,82,83,84,85,86,89,92,93,95,96,98,108,109,110,111,112,113,115,116,117,118,122,124,125,133,134,135,136,140,141,143,144,145,149,150,152,153,154,155,156,157,158,159,160,163,164,165,166,172,174,175,176,178,179,180,181,182,183,184,185,187,188,195,196,197,200,201,202,203,211,214,216,222,225,227,231,233,237,238,239,240,241,242,243,252,257,258,260,261,262,263,264,267,268,271,273,277,280,282,284,285,286,287,289,295,297,299,300,301,302,303,310,315,317,321,324,326,327,329,332,334,335,336,340,341,342,349,350,352,353,358,360,363,365,367,369,370,372,374,377,378,379,380,387,390,391,393,395,396,399,401,403,409,411,420,421,422,423,424,425,426,427,431,432,435,436,439,442,447,448,449,450,452,454,455,458,461,462,463,464,466,472,473,477,478,479,480,482,484,487,490,493,495,496,498,500,505,506,509,510,511,512,514,515,516,518,519,520,521,522,523,526,532,533,535,536,539,541,542,543,544,545,549,550,551,558,559,560,561,563,565,568,569,570,571,572,573,575,581,582,585,590,597,598,600,601,603,605,618,619,620,621,627,629,630,631,636,641,643,644,647,649,652,653,654,655,656,660,664,665,666,667,669,673,674,680,681,682,688,689,690,693,694,697,703,704,705,708,709,710,711,723,725,727,729,733,736,737,739,741,742,747,748,751,753,756,758,760,763,764,771,773,775,776,778,779,780,781,784,788,789,795,798,799,800,802,804,808,809,810,811,812,813,816,819,820,824,826,832,842,846,852,854,856,859,860,863,864,868,871,878,881,884,885,887,894,902,910,913,916,919,924,929,930,931,937,939,940,946,947,950,953,955,958,959,960,962,965,966,970,972,978,979,983,984,987,990,993,995,997,998,1001,1004,1006,1013,1019,1025,1030,1031,1032,1033,1035,1038,1039,1047,1048,1049,1052,1053,1054,1056,1059,1060,1062,1063,1064,1072,1073,1074,1075,1076,1078,1079,1080,1081,1082,1083,1085,1086,1087,1090,1093,1094,1096,1097,1098,1099,1101,1104,1105,1106,1108,1109,1110,1111,1113,1114,1116,1121,1123,1125,1130,1131,1135,1140,1141,1147,1148,1157,1158,1162,1163,1165,1169,1171,1172,1173,1176,1177,1178,1181,1184,1185,1187,1188,1190,1191,1195,1196,1200,1201,1205,1206,1208,1209,1213,1217,1223,1224,1226,1228,1230,1232,1236,1237,1238,1240,1242,1252,1253,1255,1257,1265,1266,1268,1269,1270,1272,1275,1277,1278,1281,1284,1289,1294,1298,1299,1300,1301,1305,1313,1315,1320,1324,1327,1330,1331,1333,1336,1341,1347,1348,1349,1351,1353,1356,1359,1363,1366,1367,1368,1371,1374,1377,1380,1385,1386,1390,1392,1395,1396,1397,1398,1399,1400,1401,1402,1406,1407,1408,1409,1410,1412,1414,1415,1417,1418,1419,1420,1422,1425,1429,1431,1432,1447,1456,1458,1461,1463,1466,1470,1475,1476,1479,1483,1484,1486,1487,1493,1494,1495,1499,1501,1507,1529,1530,1535,1536,1538,1544,1556]\n",
    "# X_train = (np.delete(X_train, col,1))\n",
    "# X_test = (np.delete(X_test, col,1))\n",
    "# X = (np.delete(X, col,1))\n",
    "\n",
    "# col = [ 0,   1,   2,   3,   4,   7,   8,  13,  15,  18,  19,  21,  22,\n",
    "#         27,  30,  33,  36,  37,  39,  42,  44,  46,  51,  53,  54,  55,\n",
    "#         63,  65,  68,  70,  71,  72,  73,  74,  77,  78,  84,  85,  88,\n",
    "#         89,  92,  94,  95,  97, 101, 102, 103, 104, 105, 106, 107, 108,\n",
    "#        109, 110, 111, 114, 116, 120, 124, 125, 126, 127, 128, 135, 136,\n",
    "#        141, 142, 144, 149, 152, 154, 158, 162, 164, 165, 169, 172, 173,\n",
    "#        175, 178, 182, 185, 186, 188, 189, 191, 195, 196, 197, 198, 199,\n",
    "#        200, 201, 206, 213, 214, 217, 221, 223, 225, 228, 231, 234, 236,\n",
    "#        237, 239, 242, 245, 246, 247, 254, 255, 262, 263, 264, 267, 268,\n",
    "#        269, 272, 274, 275, 276, 281, 282, 283, 288, 290, 291, 292, 293,\n",
    "#        294, 296, 303, 307, 308, 310, 312, 313, 316, 317, 319, 322, 323,\n",
    "#        328, 330, 333, 335, 338, 339, 346, 347, 348, 350, 353, 358, 359,\n",
    "#        360, 364, 368, 373, 374, 375, 376, 377, 379, 385, 386, 390, 393,\n",
    "#        395, 398, 399, 402, 403, 404, 406, 407, 409, 413, 417, 418, 419,\n",
    "#        422, 424, 425, 426, 427, 430, 432, 436, 437, 438, 439, 440, 443,\n",
    "#        445, 446, 447, 448, 453, 454, 458, 460, 462, 467, 470, 473, 476,\n",
    "#        484, 485, 489, 490, 491, 495, 499, 500, 502, 503, 504, 505, 506,\n",
    "#        507, 523, 526, 529, 534, 537, 538, 548, 549, 555, 556, 558, 559,\n",
    "#        560, 562, 567, 568, 570, 571, 575, 576, 581, 582, 584, 587, 590,\n",
    "#        596, 599, 600, 602, 603, 606, 607, 610, 612, 614, 615, 616, 617,\n",
    "#        618, 619, 620, 621, 623, 625, 627, 630, 631, 640, 641, 642, 646,\n",
    "#        647, 651, 658, 659, 663, 666, 668, 671, 676, 677, 679, 681, 682,\n",
    "#        683, 686, 688, 689, 691, 692, 694, 699, 707, 709, 713, 715, 717,\n",
    "#        722, 724, 730, 731, 736, 737, 738, 742, 744, 745, 748, 751, 753,\n",
    "#        757, 758, 759, 760, 763, 765, 771, 772, 776, 777, 780, 782, 783,\n",
    "#        792, 794, 797, 798, 799, 801, 803, 804, 805, 806, 808, 812, 817,\n",
    "#        819, 825, 829, 831, 834, 835, 837, 840, 843, 844, 845, 846, 847,\n",
    "#        849, 852, 857, 859, 860, 861, 862, 864, 867, 870, 873, 874, 875,\n",
    "#        876, 881, 882, 883, 885, 886, 889, 890, 896, 899, 906, 907]\n",
    "# X_train = (np.delete(X_train, col,1))\n",
    "# X_test = (np.delete(X_test, col,1))\n",
    "# X = (np.delete(X, col,1))\n",
    "\n",
    "\n",
    "# col = [1,   4,   5,   6,   7,  10,  12,  14,  15,  21,  25,  26,  27,\n",
    "#         29,  30,  31,  32,  33,  34,  35,  36,  37,  38,  39,  40,  41,\n",
    "#         43,  46,  47,  48,  49,  53,  55,  56,  59,  60,  61,  64,  67,\n",
    "#         70,  71,  74,  75,  77,  82,  84,  85,  86,  89,  90,  92,  94,\n",
    "#         95,  96,  97, 101, 102, 103, 105, 109, 112, 118, 121, 122, 124,\n",
    "#        125, 131, 132, 133, 135, 137, 139, 141, 143, 148, 151, 154, 155,\n",
    "#        156, 159, 160, 168, 171, 173, 174, 176, 177, 178, 183, 187, 191,\n",
    "#        196, 200, 207, 210, 213, 218, 219, 225, 226, 229, 231, 232, 236,\n",
    "#        237, 241, 243, 247, 249, 251, 253, 258, 265, 267, 273, 276, 279,\n",
    "#        281, 284, 286, 295, 296, 297, 298, 299, 300, 302, 304, 306, 311,\n",
    "#        312, 313, 314, 317, 319, 320, 321, 323, 324, 326, 327, 334, 338,\n",
    "#        339, 340, 343, 344, 349, 356, 357, 362, 363, 364, 365, 366, 368,\n",
    "#        369, 370, 371, 372, 373, 378, 381, 388, 390, 393, 397, 399, 402,\n",
    "#        405, 406, 409, 410, 411, 416, 420, 421, 423, 424, 425, 431, 435,\n",
    "#        438, 440, 445, 446, 448, 451, 455, 456, 457, 460, 463, 465, 467,\n",
    "#        468, 469, 470, 471, 473, 476, 477, 480, 483, 485, 488, 491, 494,\n",
    "#        496, 498, 499, 504, 507, 509, 510, 511, 512, 514, 515, 516, 519,\n",
    "#        520, 521, 527, 528, 529, 530, 531, 532]\n",
    "# X_train = (np.delete(X_train, col,1))\n",
    "# X_test = (np.delete(X_test, col,1))\n",
    "# X = (np.delete(X, col,1))\n",
    "\n",
    "# col = [ 3,   5,   8,  10,  12,  13,  18,  23,  25,  28,  38,  41,  43,\n",
    "#         44,  45,  46,  47,  48,  55,  58,  60,  61,  67,  69,  70,  73,\n",
    "#         82,  83,  85,  86,  89,  92,  97,  98,  99, 106, 109, 111, 113,\n",
    "#        114, 116, 117, 118, 123, 130, 132, 137, 139, 142, 143, 147, 149,\n",
    "#        150, 153, 154, 156, 163, 164, 166, 169, 172, 177, 181, 184, 186,\n",
    "#        188, 191, 196, 197, 198, 202, 203, 207, 209, 210, 211, 213, 214,\n",
    "#        216, 217, 219, 221, 223, 225, 229, 232, 238, 240, 242, 243, 245,\n",
    "#        247, 250, 251, 254, 255, 261, 262, 265, 268, 271, 272, 275, 276,\n",
    "#        280, 283, 284, 285, 291, 298, 299, 302, 304, 305]\n",
    "# X_train = (np.delete(X_train, col,1))\n",
    "# X_test = (np.delete(X_test, col,1))\n",
    "# X = (np.delete(X, col,1))\n",
    "\n",
    "# # col = [ 3,  10,  12,  16,  17,  29,  32,  37,  39,  43,  48,  49,  53,\n",
    "# #         55,  57,  66,  71,  73,  77,  78,  79,  81,  88,  91,  92,  98,\n",
    "# #        100, 101, 103, 108, 110, 119, 121, 122, 123, 124, 125, 126, 130,\n",
    "# #        137, 140, 141, 143, 149, 150, 152, 162, 164, 166, 167, 174, 177,\n",
    "# #        181]\n",
    "# # X_train = (np.delete(X_train, col,1))\n",
    "# # X_test = (np.delete(X_test, col,1))\n",
    "# # X = (np.delete(X, col,1))\n",
    "\n",
    "# # col = [ 0,   6,  19,  22,  29,  36,  39,  46,  47,  49,  52,  55,  64,\n",
    "# #         65,  67,  71,  79,  82,  88,  97,  98, 102, 103, 104, 105, 108,\n",
    "# #        112, 115, 121, 123, 128, 133, 138]\n",
    "# # X_train = (np.delete(X_train, col,1))\n",
    "# # X_test = (np.delete(X_test, col,1))\n",
    "# # X = (np.delete(X, col,1))\n",
    "\n",
    "# # col = [   3,   9,  14,  18,  19,  20,  21,  25,  27,  50,  58,  61,  66,\n",
    "# #         76,  77,  79,  80,  82,  89,  96,  98, 100, 103]\n",
    "# # X_train = (np.delete(X_train, col,1))\n",
    "# # X_test = (np.delete(X_test, col,1))\n",
    "# # X = (np.delete(X, col,1))\n",
    "\n",
    "# # col = [   0, 23, 29, 38, 50, 55, 62, 75, 78]\n",
    "# # X_train = (np.delete(X_train, col,1))\n",
    "# # X_test = (np.delete(X_test, col,1))\n",
    "# # X = (np.delete(X, col,1))\n",
    "\n",
    "# # # X_train_snv = msc(X_train)\n",
    "# # # X_#test_snv = msc(X_test)\n",
    "\n",
    "y_train_oleo = y_train['TA']\n",
    "\n",
    "\n",
    "y_test_oleo = y_test['TA']\n",
    "\n",
    "#X1 = savgol_filter(X_train, 23, polyorder=2, deriv=2)\n",
    "#X2 = savgol_filter(X_test, 23, polyorder=2, deriv=2)\n",
    "\n",
    "# X_train_snv = msc(X_train)\n",
    "# X_test_snv = msc(X_test)\n",
    "\n",
    "# mean centre correction\n",
    "#X_mc = mc(X1)\n",
    "\n",
    "##Standard Normal Variate\n",
    "\n",
    "# Xsnv = snv(X_train)"
   ]
  },
  {
   "cell_type": "code",
   "execution_count": 92,
   "id": "f9b91181",
   "metadata": {},
   "outputs": [
    {
     "data": {
      "text/plain": [
       "(49, 3)"
      ]
     },
     "execution_count": 92,
     "metadata": {},
     "output_type": "execute_result"
    }
   ],
   "source": [
    "y_train.shape"
   ]
  },
  {
   "cell_type": "code",
   "execution_count": 93,
   "id": "cbaffccf",
   "metadata": {},
   "outputs": [
    {
     "data": {
      "text/plain": [
       "(9, 3)"
      ]
     },
     "execution_count": 93,
     "metadata": {},
     "output_type": "execute_result"
    }
   ],
   "source": [
    "y_test.shape"
   ]
  },
  {
   "cell_type": "code",
   "execution_count": 18,
   "id": "63309615",
   "metadata": {},
   "outputs": [],
   "source": [
    "# #SNV\n",
    "# X = df_pretreat.values[:, :-2]\n",
    "# col=[1,2,6,7,8,10,14,16,19,20,21,22,24,25,31,32,34,36,37,38,39,40,41,42,45,49,50,54,55,56,62,63,64,69,74,76,78,79,82,85,87,94,97,98,99,102,103,104,105,106,109,111,113,114,118,120,122,126,128,135,136,137,144,146,148,150,151,152,153,156,157,158,166,167,169,170,172,173,174,178,180,181,183,185,186,187,190,191,192,193,194,197,202,204,208,209,211,213,214,215,217,218,221,222,225,226,228,231,234,235,236,237,238,239,241,246,247,250,253,254,255,256,257,258,261,267,273,274,275,276,279,283,287,288,291,292,293,294,295,297,299,301,303,304,306,308,309,310,311,312,314,315,317,318,319,320,322,323,325,326,327,328,329,330,333,334,335,336,337,338,339,340,342,346,347,348,349,350,354,355,357,358,359,363,364,366,367,368,370,372,374,376,377,380,384,387,391,392,393,395,397,399,401,402,403,404,406,409,413,414,416,417,418,419,420,421,423,424,425,426,427,428,429,431,434,435,436,438,439,440,441,442,443,445,446,447,451,453,455,456,458,459,460,462,463,464,465,466,467,468,473,474,476,484,485,487,490,491,492,495,496,498,499,500,501,503,505,508,509,510,511,514,516,517,519,520,521,523,525,526,527,528,530,531,538,540,541,542,543,547,549,550,552,553,554,555,556,557,564,566,568,570,571,574,576,580,585,588,591,592,593,595,597,600,601,602,603,604,608,609,613,616,617,621,623,624,631,632,633,635,640,642,644,656,657,662,663,664,668,669,670,672,674,679,680,686,687,691,692,695,698,699,700,702,703,706,707,709,716,720,721,725,726,727,730,734,735,738,741,747,752,757,758,759,762,766,767,772,773,775,776,779,781,784,786,787,788,791,795,796,797,798,799,800,803,805,808,814,816,819,820,821,822,823,825,826,829,831,836,837,839,840,847,850,852,853,854,857,859,861,862,863,866,872,876,878,880,881,882,884,885,887,891,896,900,906,910,911,912,913,914,915,918,926,927,931,933,938,943,944,947,948,952,953,955,957,959,960,961,962,963,967,969,977,979,980,983,984,985,987,991,992,994,996,998,999,1000,1001,1002,1003,1009,1010,1014,1015,1016,1017,1018,1019,1020,1021,1022,1023,1024,1025,1026,1029,1030,1032,1034,1040,1042,1044,1045,1047,1048,1049,1052,1058,1059,1064,1070,1072,1074,1076,1081,1083,1089,1090,1098,1101,1103,1106,1108,1109,1110,1111,1115,1116,1119,1120,1121,1123,1124,1126,1128,1131,1135,1137,1141,1143,1148,1151,1152,1153,1154,1155,1156,1157,1158,1160,1164,1165,1167,1168,1169,1170,1172,1174,1178,1179,1180,1182,1186,1187,1191,1192,1195,1196,1201,1204,1205,1208,1212,1213,1214,1215,1226,1228,1231,1235,1240,1241,1242,1252,1253,1257,1258,1259,1260,1261,1265,1266,1269,1273,1274,1282,1283,1286,1290,1291,1294,1299,1302,1303,1305,1309,1316,1325,1326,1327,1329,1331,1332,1333,1335,1337,1338,1343,1344,1347,1349,1350,1352,1355,1356,1357,1359,1365,1366,1367,1369,1372,1375,1377,1378,1381,1382,1385,1386,1387,1390,1392,1393,1398,1399,1403,1404,1405,1407,1408,1409,1411,1413,1415,1417,1419,1421,1422,1428,1430,1435,1436,1437,1438,1442,1443,1446,1449,1459,1462,1464,1465,1468,1469,1473,1475,1478,1481,1482,1484,1487,1491,1492,1493,1498,1499,1500,1502,1505,1512,1514,1515,1516,1517,1518,1519,1520,1521,1522,1523,1525,1527,1528,1533,1534,1536,1537,1539,1544,1548,1553,1557]\n",
    "# X = (np.delete(X, col,1))\n",
    "\n",
    "# col= [ 2,   3,   6,   7,   9,  17,  19,  29,  30,  36,  39,  40,  41,\n",
    "#         43,  46,  47,  51,  53,  58,  59,  61,  63,  65,  66,  67,  73,\n",
    "#         75,  78,  79,  83,  85,  86,  94,  95, 100, 101, 104, 105, 109,\n",
    "#        113, 116, 119, 120, 127, 129, 136, 137, 138, 139, 141, 144, 146,\n",
    "#        152, 153, 154, 155, 159, 163, 164, 166, 168, 169, 170, 172, 173,\n",
    "#        176, 180, 181, 183, 184, 185, 189, 190, 192, 197, 198, 199, 200,\n",
    "#        201, 203, 204, 206, 207, 208, 209, 211, 212, 213, 216, 217, 218,\n",
    "#        219, 220, 223, 225, 229, 231, 233, 234, 236, 240, 242, 243, 246,\n",
    "#        251, 253, 255, 258, 260, 261, 267, 269, 272, 275, 277, 278, 279,\n",
    "#        286, 287, 288, 290, 292, 293, 295, 300, 301, 303, 305, 306, 309,\n",
    "#        312, 314, 315, 317, 318, 319, 320, 324, 325, 327, 328, 330, 332,\n",
    "#        335, 336, 344, 345, 348, 351, 352, 353, 356, 357, 363, 367, 368,\n",
    "#        374, 376, 377, 382, 387, 401, 402, 403, 405, 408, 412, 413, 416,\n",
    "#        417, 421, 422, 424, 425, 427, 429, 430, 432, 433, 434, 435, 436,\n",
    "#        438, 440, 441, 442, 444, 445, 449, 450, 451, 454, 457, 460, 461,\n",
    "#        463, 464, 468, 469, 474, 475, 476, 478, 482, 484, 490, 491, 496,\n",
    "#        497, 500, 505, 506, 507, 508, 509, 510, 513, 514, 515, 518, 520,\n",
    "#        521, 522, 523, 528, 530, 531, 533, 537, 538, 539, 540, 542, 543,\n",
    "#        549, 560, 563, 564, 565, 569, 571, 572, 573, 576, 577, 578, 579,\n",
    "#        582, 584, 585, 586, 587, 588, 590, 591, 592, 597, 604, 607, 608,\n",
    "#        610, 611, 613, 616, 617, 623, 626, 629, 631, 636, 641, 645, 647,\n",
    "#        648, 651, 652, 653, 654, 657, 659, 660, 662, 663, 664, 665, 668,\n",
    "#        669, 672, 673, 681, 684, 685, 688, 689, 690, 691, 696, 698, 702,\n",
    "#        709, 711, 712, 714, 717, 721, 722, 726, 728, 731, 738, 740, 741,\n",
    "#        742, 743, 744, 745, 747, 748, 749, 752, 754, 759, 760, 762, 763,\n",
    "#        764, 765, 766, 769, 777, 779, 781, 782, 783, 785, 793, 796, 798,\n",
    "#        800, 802, 805, 807, 808, 809, 810, 811, 817, 819, 824, 826, 828,\n",
    "#        830, 831, 832, 835, 837, 840, 841, 842, 844, 845]\n",
    "# X = (np.delete(X, col,1))\n",
    "\n",
    "# col =[1,   2,   3,   4,   7,   8,  14,  19,  24,  26,  27,  30,  37,\n",
    "#         40,  44,  45,  48,  50,  53,  56,  60,  61,  65,  66,  70,  72,\n",
    "#         74,  76,  78,  80,  83,  86,  88,  89,  93,  94,  95, 100, 101,\n",
    "#        102, 103, 104, 106, 107, 109, 110, 111, 112, 114, 115, 118, 122,\n",
    "#        128, 130, 131, 132, 134, 138, 139, 143, 144, 146, 149, 150, 154,\n",
    "#        156, 158, 160, 161, 165, 166, 171, 177, 180, 181, 188, 201, 203,\n",
    "#        204, 205, 208, 209, 212, 214, 215, 229, 231, 232, 241, 244, 246,\n",
    "#        247, 249, 252, 254, 255, 257, 258, 266, 270, 271, 276, 281, 282,\n",
    "#        290, 291, 295, 296, 297, 298, 299, 300, 301, 302, 304, 306, 308,\n",
    "#        309, 310, 311, 312, 317, 320, 322, 329, 330, 336, 337, 340, 341,\n",
    "#        342, 346, 348, 350, 352, 357, 358, 361, 364, 366, 367, 368, 369,\n",
    "#        370, 372, 374, 376, 378, 379, 380, 381, 387, 390, 392, 397, 404,\n",
    "#        412, 413, 416, 422, 424, 428, 429, 431, 432, 433, 434, 435, 437,\n",
    "#        441, 444, 446, 456, 457, 458, 459, 464, 465, 472, 477, 482, 483]\n",
    "# X = (np.delete(X, col,1))\n",
    "\n",
    "# col = [ 8,   9,  10,  11,  14,  17,  20,  21,  26,  30,  32,  34,  37,\n",
    "#         43,  44,  48,  49,  52,  53,  54,  56,  58,  59,  60,  62,  63,\n",
    "#         64,  69,  70,  74,  75,  80,  81,  83,  85,  89,  95,  99, 100,\n",
    "#        104, 106, 109, 113, 114, 116, 124, 125, 128, 130, 136, 138, 139,\n",
    "#        151, 152, 154, 155, 156, 157, 158, 159, 160, 162, 164, 165, 166,\n",
    "#        167, 169, 171, 172, 173, 174, 177, 178, 180, 182, 183, 186, 189,\n",
    "#        191, 195, 196, 197, 203, 205, 206, 208, 209, 211, 213, 214, 216,\n",
    "#        218, 229, 230, 233, 234, 235, 244, 250, 252, 260, 264, 267, 270,\n",
    "#        276, 277, 284, 285, 286, 288, 290, 297, 299, 301]\n",
    "# X = (np.delete(X, col,1))\n",
    "\n",
    "# col = [3,   7,  13,  15,  18,  20,  24,  25,  28,  32,  42,  43,  50,\n",
    "#         51,  53,  54,  57,  66,  69,  74,  76,  80,  81,  84,  86,  87,\n",
    "#         88,  89,  95,  99, 100, 102, 108, 109, 110, 112, 114, 116, 118,\n",
    "#        119, 121, 124, 125, 127, 128, 134, 137, 148, 149, 153, 156, 157,\n",
    "#        161, 162, 167, 168, 172, 184, 185, 187]\n",
    "# X = (np.delete(X, col,1))\n",
    "\n",
    "# col = [2,   6,   9,  11,  15,  17,  30,  42,  44,  49,  52,  63,  65,\n",
    "#         73,  78,  85,  93,  95,  96,  97, 101, 102, 105, 110, 111, 113,\n",
    "#        115, 121, 122, 124]\n",
    "# X = (np.delete(X, col,1))"
   ]
  },
  {
   "cell_type": "code",
   "execution_count": 53,
   "id": "cc236ea7",
   "metadata": {},
   "outputs": [
    {
     "name": "stderr",
     "output_type": "stream",
     "text": [
      "2023-05-03 12:21:11,452 - pyswarms.discrete.binary - INFO - Optimize for 100 iters with {'c1': 2, 'c2': 2, 'w': 0.9, 'k': 20, 'p': 2}\n",
      "pyswarms.discrete.binary: 100%|██████████|100/100, best_cost=0.0376\n",
      "2023-05-03 12:28:57,790 - pyswarms.discrete.binary - INFO - Optimization finished | best cost: 0.037611408610629365, best pos: [0 1 1 1 1 1 1 1 1 1 1 1 1 1 1 1 1 1 1 1 1 1 1 0 1 1 1 1 1 0 1 1 1 1 1 1 1\n",
      " 1 0 1 1 1 1 1 1 1 1 1 1 1 0 1 1 1 1 0 1 1 1 1 1 1 0 1 1 1 1 1 1 1 1 1 1 1\n",
      " 1 0 1 1 0 1 1 1 1]\n"
     ]
    }
   ],
   "source": [
    "# Import PySwarms\n",
    "import pyswarms as ps\n",
    "\n",
    "# Initialize swarm, arbitrary\n",
    "options = {'c1': 2, 'c2': 2, 'w':0.9, 'k': 20, 'p':2}\n",
    "\n",
    "# Call instance of PSO\n",
    "dimensions = X_train.shape[1] # dimensions should be the number of features\n",
    "\n",
    "optimizer = ps.discrete.BinaryPSO(n_particles=20, dimensions=dimensions, options=options)\n",
    "\n",
    "# Perform optimization\n",
    "cost, pos = optimizer.optimize(f, iters=100, verbose=2)\n",
    "optimizer.reset()"
   ]
  },
  {
   "cell_type": "code",
   "execution_count": 54,
   "id": "a84219fb",
   "metadata": {},
   "outputs": [
    {
     "data": {
      "text/plain": [
       "array([ 0, 23, 29, 38, 50, 55, 62, 75, 78], dtype=int64)"
      ]
     },
     "execution_count": 54,
     "metadata": {},
     "output_type": "execute_result"
    }
   ],
   "source": [
    "np.where(pos == 0)[0]"
   ]
  },
  {
   "cell_type": "code",
   "execution_count": 18,
   "id": "5c356a2d",
   "metadata": {},
   "outputs": [],
   "source": [
    "with open(\"Col_to_delete_2023-04-28_Mango_X_traintest_v2.txt\", \"w\") as txt_file:\n",
    "    for line in np.where(pos == 0)[0]:\n",
    "        txt_file.write(str(line)+',')"
   ]
  },
  {
   "cell_type": "code",
   "execution_count": null,
   "id": "503d14cf",
   "metadata": {},
   "outputs": [],
   "source": [
    "len(np.where(pos == 0)[0])"
   ]
  },
  {
   "cell_type": "code",
   "execution_count": 94,
   "id": "97eb8cb0",
   "metadata": {},
   "outputs": [
    {
     "name": "stdout",
     "output_type": "stream",
     "text": [
      "N comp:  4\n",
      "N Wave:  (49, 1557)\n",
      "R2CV:  0.8358460333760553\n",
      "RMSECV:  54.10086026608747\n",
      "RMSE test:  45.24860722815614\n",
      "Pour comparaison\n",
      "R2:  0.9107154566072478\n",
      "RMSE:  38.825683225529154\n"
     ]
    }
   ],
   "source": [
    "ls_score_pls = []\n",
    "n_opt = 8\n",
    "for i in range(3,9):\n",
    "    pls_simple = PLSRegression(n_components=i)\n",
    "    cv = LeaveOneOut()\n",
    "    #cv = 10\n",
    "\n",
    "    X1 = X_train \n",
    "    #X1 = X_train[:,pos==1] \n",
    "\n",
    "    X2 = X_test\n",
    "    #X2 = X_test[:,pos==1] \n",
    "\n",
    "\n",
    "    # Fit\n",
    "    pls_simple.fit(X1, y_train_oleo)\n",
    "\n",
    "\n",
    "    # Cross-validation\n",
    "    y_cv = cross_val_predict(pls_simple,X1, y_train_oleo, cv=cv)\n",
    "    y_pred = pls_simple.predict(X2)\n",
    "    score = r2_score(y_train_oleo, y_cv)\n",
    "    if ls_score_pls:\n",
    "        if score< ls_score_pls[-1] and i>4:\n",
    "            n_opt =  i-1\n",
    "            break\n",
    "\n",
    "    ls_score_pls.append(score)\n",
    "\n",
    "pls_simple = PLSRegression(n_components=n_opt)\n",
    "cv = LeaveOneOut()\n",
    "# cv = 10\n",
    "\n",
    "X1 = X_train \n",
    "#X1 = X_train[:,pos==1] \n",
    "\n",
    "X2 = X_test\n",
    "#X2 = X_test[:,pos==1] \n",
    "\n",
    "\n",
    "# Fit\n",
    "pls_simple.fit(X1, y_train_oleo)\n",
    "\n",
    "\n",
    "# Cross-validation\n",
    "y_cv = cross_val_predict(pls_simple,X1, y_train_oleo, cv=cv)\n",
    "y_pred = pls_simple.predict(X2)\n",
    "y_pred_tot = pls_simple.predict(X)\n",
    "# Calculate scores\n",
    "score = r2_score(y_train_oleo, y_cv)\n",
    "score_train = mean_squared_error(y_train_oleo, y_cv,squared=False)\n",
    "score_test = mean_squared_error(y_test_oleo, y_pred,squared=False)\n",
    "\n",
    "score_tot = r2_score(y['TA'], y_pred_tot)\n",
    "score_rmse_tot = mean_squared_error(y['TA'], y_pred_tot,squared=False)\n",
    "\n",
    "print('N comp: ', n_opt)\n",
    "print('N Wave: ', X_train.shape)\n",
    "print('R2CV: ', score)\n",
    "print('RMSECV: ', score_train)\n",
    "print('RMSE test: ', score_test)\n",
    "\n",
    "\n",
    "print('Pour comparaison')\n",
    "print('R2: ', score_tot)\n",
    "print('RMSE: ', score_rmse_tot)"
   ]
  },
  {
   "attachments": {},
   "cell_type": "markdown",
   "id": "2f8088d2",
   "metadata": {},
   "source": [
    "Derive\n",
    "\n",
    "1e boucle\n",
    "N comp:  6\n",
    "N Wave:  (49, 815)\n",
    "R2CV:  0.9200680533821843\n",
    "RMSECV:  36.05445887491471\n",
    "RMSE test:  86.38780557649953\n",
    "Pour comparaison\n",
    "R2:  0.9297196597264819\n",
    "RMSE:  34.44672148700014\n",
    "\n",
    "2e boucle\n",
    "N comp:  9\n",
    "N Wave:  (49, 447)\n",
    "R2CV:  0.9559432491675324\n",
    "RMSECV:  26.76732792421152\n",
    "RMSE test:  87.43849070531671\n",
    "Pour comparaison\n",
    "R2:  0.9296455191718063\n",
    "RMSE:  34.4648860678723\n",
    "\n",
    "N comp:  10\n",
    "N Wave:  (49, 272)\n",
    "R2CV:  0.9668373336955703\n",
    "RMSECV:  23.223277272619605\n",
    "RMSE test:  88.86651276200514\n",
    "Pour comparaison\n",
    "R2:  0.9273666445154275\n",
    "RMSE:  35.01861937842171\n",
    "\n",
    "\n",
    "Sans modif\n",
    "N comp:  6\n",
    "N Wave:  (49, 1557)\n",
    "R2CV:  0.9586415015829838\n",
    "RMSECV:  25.934696396667853\n",
    "RMSE test:  75.21727920502043\n",
    "Pour comparaison\n",
    "R2:  0.9231598055667118\n",
    "RMSE:  36.01846441128063\n",
    "\n",
    "1e boucle\n",
    "N comp:  6\n",
    "N Wave:  (49, 955)\n",
    "R2CV:  0.9597085632138898\n",
    "RMSECV:  25.597948692729513\n",
    "RMSE test:  73.95320912468085\n",
    "Pour comparaison\n",
    "R2:  0.9255449577204465\n",
    "RMSE:  35.455043550879644\n",
    "\n",
    "N comp:  6\n",
    "N Wave:  (49, 611)\n",
    "R2CV:  0.9593509596319281\n",
    "RMSECV:  25.71129407433406\n",
    "RMSE test:  73.97857717873235\n",
    "Pour comparaison\n",
    "R2:  0.9252455696921518\n",
    "RMSE:  35.52625542559209\n",
    "\n",
    "\n",
    "Derive 15\n",
    "\n",
    "N comp:  8\n",
    "N Wave:  (49, 1557)\n",
    "R2CV:  0.9414137216462933\n",
    "RMSECV:  30.86716491890119\n",
    "RMSE test:  71.35108133613807\n",
    "Pour comparaison\n",
    "R2:  0.9473751394961446\n",
    "RMSE:  29.807561226814784\n",
    "\n",
    "1e boucle\n",
    "N comp:  8\n",
    "N Wave:  (49, 857)\n",
    "R2CV:  0.9586717190102149\n",
    "RMSECV:  25.925220436141455\n",
    "RMSE test:  71.60692893360412\n",
    "Pour comparaison\n",
    "R2:  0.9485000031185334\n",
    "RMSE:  29.487270056597016\n",
    "\n",
    "\n",
    "SNV + Cluster\n",
    "N comp:  5\n",
    "N Wave:  (46, 1557)\n",
    "R2CV:  0.8943359411493441\n",
    "RMSECV:  39.733379145513844\n",
    "RMSE test:  37.18409598770797\n",
    "Pour comparaison\n",
    "R2:  0.9365029127849186\n",
    "RMSE:  32.742200801621486\n",
    "\n",
    "\n",
    "Derive 15 + Cluster\n",
    "N comp:  8\n",
    "N Wave:  (46, 1557)\n",
    "R2CV:  0.8502860019288419\n",
    "RMSECV:  50.77961581717062\n",
    "RMSE test:  24.289536212179655\n",
    "Pour comparaison\n",
    "R2:  0.9828585738098583\n",
    "RMSE:  17.01196350519615\n",
    "\n",
    "N comp:  8\n",
    "N Wave:  (46, 912)\n",
    "R2CV:  0.9184408985788499\n",
    "RMSECV:  37.47955474391261\n",
    "RMSE test:  27.450154830578605\n",
    "Pour comparaison\n",
    "R2:  0.9835340490195753\n",
    "RMSE:  16.673407901570997\n",
    "\n",
    "N comp:  8\n",
    "N Wave:  (46, 603)\n",
    "R2CV:  0.9456297950000695\n",
    "RMSECV:  30.601216533017304\n",
    "RMSE test:  26.515235728512078\n",
    "Pour comparaison\n",
    "R2:  0.9861206186120981\n",
    "RMSE:  15.307914249898664\n",
    "\n",
    "N comp:  8\n",
    "N Wave:  (46, 432)\n",
    "R2CV:  0.9632750897355192\n",
    "RMSECV:  25.15003410603132\n",
    "RMSE test:  28.634609279038855\n",
    "Pour comparaison\n",
    "R2:  0.9863456439056725\n",
    "RMSE:  15.183314162366067\n",
    "\n",
    "N comp:  8\n",
    "N Wave:  (46, 333)\n",
    "R2CV:  0.9677736790272621\n",
    "RMSECV:  23.559364469056934\n",
    "RMSE test:  32.72936035793517\n",
    "Pour comparaison\n",
    "R2:  0.9842891378294626\n",
    "RMSE:  16.286620437870237\n",
    "\n",
    "\n",
    "Derive 15 + Integer separation\n",
    "\n",
    "\n",
    "N comp:  8\n",
    "N Wave:  (49, 911)\n",
    "R2CV:  0.9399126425637309\n",
    "RMSECV:  32.73181083028156\n",
    "RMSE test:  16.5511290172025\n",
    "Pour comparaison\n",
    "R2:  0.9915873305054618\n",
    "RMSE:  11.917849025858928\n",
    "\n",
    "N comp:  8\n",
    "N Wave:  (49, 516)\n",
    "R2CV:  0.9565244920797791\n",
    "RMSECV:  27.8420245741996\n",
    "RMSE test:  20.324226011686495\n",
    "Pour comparaison\n",
    "R2:  0.9904643355828988\n",
    "RMSE:  12.688387846738925\n",
    "\n",
    "N comp:  9\n",
    "N Wave:  (49, 295)\n",
    "R2CV:  0.9766132894387476\n",
    "RMSECV:  20.420343843095658\n",
    "RMSE test:  24.779527779268783\n",
    "Pour comparaison\n",
    "R2:  0.9916500598254263\n",
    "RMSE:  11.873332989172795\n",
    "\n",
    "N comp:  9\n",
    "N Wave:  (49, 190)\n",
    "R2CV:  0.9803452890606768\n",
    "RMSECV:  18.72025717639269\n",
    "RMSE test:  25.102527542674554\n",
    "Pour comparaison\n",
    "R2:  0.991503805080171\n",
    "RMSE:  11.976866248474613\n",
    "\n",
    "N comp:  11\n",
    "N Wave:  (49, 135)\n",
    "R2CV:  0.9861741657817495\n",
    "RMSECV:  15.700885725905994\n",
    "RMSE test:  29.30345354262055\n",
    "Pour comparaison\n",
    "R2:  0.9909170131354341\n",
    "RMSE:  12.38355419001707\n",
    "\n",
    "N comp:  12\n",
    "N Wave:  (49, 106)\n",
    "R2CV:  0.987388804003356\n",
    "RMSECV:  14.995350378400879\n",
    "RMSE test:  32.004508692101176\n",
    "Pour comparaison\n",
    "R2:  0.9894725365414683\n",
    "RMSE:  13.331924243840664\n",
    "\n",
    "N comp:  10\n",
    "N Wave:  (49, 87)\n",
    "R2CV:  0.9870357096812615\n",
    "RMSECV:  15.203824721541471\n",
    "RMSE test:  30.116047565221933\n",
    "Pour comparaison\n",
    "R2:  0.9897796675918232\n",
    "RMSE:  13.136010182951072\n",
    "\n",
    "\n",
    "\n",
    "Amelioration\n",
    "\n",
    "N comp:  8\n",
    "N Wave:  (49, 535)\n",
    "R2CV:  0.9506754053660492\n",
    "RMSECV:  29.655840864701354\n",
    "RMSE test:  21.547328252644437\n",
    "Pour comparaison\n",
    "R2:  0.9890240757077617\n",
    "RMSE:  13.612927052385457\n",
    "\n",
    "N comp:  8\n",
    "N Wave:  (49, 306)\n",
    "R2CV:  0.9649578501052195\n",
    "RMSECV:  24.996191988472464\n",
    "RMSE test:  24.296892900992496\n",
    "Pour comparaison\n",
    "R2:  0.9882368137003634\n",
    "RMSE:  14.092675551159468\n",
    "\n",
    "N comp:  8\n",
    "N Wave:  (49, 192)\n",
    "R2CV:  0.9684747237062657\n",
    "RMSECV:  23.708710352285536\n",
    "RMSE test:  21.786076141114254\n",
    "Pour comparaison\n",
    "R2:  0.9887962054950639\n",
    "RMSE:  13.753509544616621\n",
    "\n",
    "N comp:  8\n",
    "N Wave:  (49, 139)\n",
    "R2CV:  0.9685021189229116\n",
    "RMSECV:  23.698406772143663\n",
    "RMSE test:  24.540538219947024\n",
    "Pour comparaison\n",
    "R2:  0.9887619958097694\n",
    "RMSE:  13.774491035371721\n",
    "\n",
    "N comp:  8\n",
    "N Wave:  (49, 106)\n",
    "R2CV:  0.9712239350362907\n",
    "RMSECV:  22.651354805850413\n",
    "RMSE test:  24.371099400864498\n",
    "Pour comparaison\n",
    "R2:  0.9873403445125382\n",
    "RMSE:  14.61981609121443\n",
    "\n",
    "N comp:  8\n",
    "N Wave:  (49, 83)\n",
    "R2CV:  0.9733967836891889\n",
    "RMSECV:  21.779382038166943\n",
    "RMSE test:  29.564734330866646\n",
    "Pour comparaison\n",
    "R2:  0.9857773913248684\n",
    "RMSE:  15.496035274936569\n",
    "\n",
    "N comp:  8\n",
    "N Wave:  (49, 74)\n",
    "R2CV:  0.9643317443607816\n",
    "RMSECV:  25.218509546328605\n",
    "RMSE test:  35.35552345164366\n",
    "Pour comparaison\n",
    "R2:  0.9802104677267547\n",
    "RMSE:  18.278844183756682"
   ]
  },
  {
   "cell_type": "code",
   "execution_count": null,
   "id": "78cbdb26",
   "metadata": {},
   "outputs": [],
   "source": [
    "pls_simple = PLSRegression(n_components=6)\n",
    "cv = LeaveOneOut()\n",
    "#cv = 10\n",
    "\n",
    "X1 = X\n",
    "    #X1 = X[:,pos==1]  \n",
    "\n",
    "\n",
    "\n",
    "\n",
    "# Fit\n",
    "pls_simple.fit(X1, y['TA'])\n",
    "\n",
    "\n",
    "# Cross-validation\n",
    "y_cv = cross_val_predict(pls_simple,X1, y['TA'], cv=cv)\n",
    "y_pred = pls_simple.predict(X1)\n",
    "# Calculate scores\n",
    "scorecv = r2_score(y['TA'], y_cv)\n",
    "score = r2_score(y['TA'], y_pred)\n",
    "score_train = mean_squared_error(y['TA'], y_pred,squared=False)\n",
    "#score_test = mean_squared_error(y_test_oleo, y_pred,squared=False)\n",
    "\n",
    "print('N comp: ', n_opt)\n",
    "print('R2cv: ', scorecv)\n",
    "print('R2: ', score)\n",
    "print('RMSE: ', score_train)\n",
    "#print('RMSE test: ', score_test)\n",
    "\n"
   ]
  },
  {
   "cell_type": "code",
   "execution_count": 324,
   "id": "b1524d7f",
   "metadata": {},
   "outputs": [
    {
     "name": "stdout",
     "output_type": "stream",
     "text": [
      "R2cv:  0.8735991156786587\n",
      "R2:  0.9683931322490633\n",
      "RMSE:  23.10051677719242\n"
     ]
    }
   ],
   "source": [
    "pls_simple = PLSRegression(n_components=6)\n",
    "cv = LeaveOneOut()\n",
    "#cv = 10\n",
    "\n",
    "X1 = X\n",
    "    #X1 = X[:,pos==1]  \n",
    "\n",
    "\n",
    "\n",
    "\n",
    "# Fit\n",
    "pls_simple.fit(X1, y['TA'])\n",
    "\n",
    "\n",
    "# Cross-validation\n",
    "y_cv = cross_val_predict(pls_simple,X1, y['TA'], cv=cv)\n",
    "y_pred = pls_simple.predict(X1)\n",
    "# Calculate scores\n",
    "scorecv = r2_score(y['TA'], y_cv)\n",
    "score = r2_score(y['TA'], y_pred)\n",
    "score_train = mean_squared_error(y['TA'], y_pred,squared=False)\n",
    "#score_test = mean_squared_error(y_test_oleo, y_pred,squared=False)\n",
    "\n",
    "print('R2cv: ', scorecv)\n",
    "print('R2: ', score)\n",
    "print('RMSE: ', score_train)\n",
    "#print('RMSE test: ', score_test)\n"
   ]
  },
  {
   "cell_type": "code",
   "execution_count": null,
   "id": "abe51e13",
   "metadata": {},
   "outputs": [],
   "source": [
    "ls_score_pls = []\n",
    "n_opt = 8\n",
    "for i in range(3,9):\n",
    "    pls_simple = PLSRegression(n_components=i)\n",
    "    cv = LeaveOneOut()\n",
    "    #cv = 10\n",
    "\n",
    "    X1 = X_train \n",
    "    #X1 = X_train[:,pos==1] \n",
    "\n",
    "    X2 = X_test\n",
    "    #X2 = X_test[:,pos==1] \n",
    "\n",
    "\n",
    "    # Fit\n",
    "    pls_simple.fit(X1, y_train_oleo)\n",
    "\n",
    "\n",
    "    # Cross-validation\n",
    "    y_cv = cross_val_predict(pls_simple,X1, y_train_oleo, cv=cv)\n",
    "    y_pred = pls_simple.predict(X2)\n",
    "    score = r2_score(y_train_oleo, y_cv)\n",
    "    if ls_score_pls:\n",
    "        if score< ls_score_pls[-1] and i>4:\n",
    "            n_opt =  i-1\n",
    "            break\n",
    "\n",
    "    ls_score_pls.append(score)\n",
    "\n",
    "pls_simple = PLSRegression(n_components=n_opt)\n",
    "cv = LeaveOneOut()\n",
    "# cv = 10\n",
    "\n",
    "X1 = X_train \n",
    "#X1 = X_train[:,pos==1] \n",
    "\n",
    "X2 = X_test\n",
    "#X2 = X_test[:,pos==1] \n",
    "\n",
    "\n",
    "# Fit\n",
    "pls_simple.fit(X1, y_train_oleo)\n",
    "\n",
    "\n",
    "# Cross-validation\n",
    "y_cv = cross_val_predict(pls_simple,X1, y_train_oleo, cv=cv)\n",
    "y_pred = pls_simple.predict(X2)\n",
    "y_pred_tot = pls_simple.predict(X)\n",
    "# Calculate scores\n",
    "score = r2_score(y_train_oleo, y_cv)\n",
    "score_train = mean_squared_error(y_train_oleo, y_cv,squared=False)\n",
    "score_test = mean_squared_error(y_test_oleo, y_pred,squared=False)\n",
    "\n",
    "score_tot = r2_score(y['TA'], y_pred_tot)\n",
    "score_rmse_tot = mean_squared_error(y['TA'], y_pred_tot,squared=False)\n",
    "\n",
    "print('N comp: ', n_opt)\n",
    "print('N Wave: ', X_train.shape)\n",
    "print('R2CV: ', score)\n",
    "print('RMSECV: ', score_train)\n",
    "print('RMSE test: ', score_test)\n",
    "\n",
    "\n",
    "print('Pour comparaison')\n",
    "print('R2: ', score_tot)\n",
    "print('RMSE: ', score_rmse_tot)"
   ]
  },
  {
   "cell_type": "code",
   "execution_count": 63,
   "id": "b71b2eab",
   "metadata": {},
   "outputs": [
    {
     "data": {
      "application/vnd.plotly.v1+json": {
       "config": {
        "plotlyServerURL": "https://plot.ly"
       },
       "data": [
        {
         "hoverlabel": {
          "namelength": 0
         },
         "hovertemplate": "Total acidity content measured (%)=%{x}<br>Total acidity predicted (%)=%{y}",
         "legendgroup": "",
         "marker": {
          "color": "#636efa",
          "symbol": "circle"
         },
         "mode": "markers",
         "name": "",
         "showlegend": false,
         "type": "scatter",
         "x": [
          545.64,
          414.17,
          291.07,
          558.21,
          489.43,
          717.59,
          449.97,
          394.76,
          563.66,
          642.38,
          589.64,
          469.52,
          324.4,
          452.36,
          362.35,
          569.95,
          472.32,
          456.68,
          552.29,
          378.17,
          603.27,
          542.91,
          189.72,
          514.39,
          757.02,
          607.74,
          366.56,
          772.77,
          578.61,
          437.32,
          487.58,
          412.89,
          495.3,
          483.12,
          203.86,
          539.95,
          408.6,
          406.8,
          654.1,
          505.05,
          698.9,
          620.42,
          276.55,
          550.26,
          663.29,
          653.72,
          268.56,
          430.28,
          432.59
         ],
         "xaxis": "x",
         "y": [
          537.2766434218381,
          435.525872333511,
          324.40916903207335,
          547.1079148307339,
          472.0942130971901,
          692.168356497359,
          448.76185303844477,
          384.6125460710963,
          540.5017568979745,
          625.2173156255519,
          586.0855274421496,
          461.2358952786295,
          310.2246442524573,
          481.94462338686776,
          382.2087426024044,
          552.8923346164455,
          471.8475438322134,
          468.7668229046141,
          576.078903758791,
          342.0273051109043,
          610.9661262614552,
          526.8009995542743,
          231.2535009808405,
          514.9697824373148,
          659.321926224087,
          620.6496868144699,
          351.3392963271597,
          778.1423561443647,
          572.4758169493296,
          456.6795077936338,
          502.37075113440585,
          374.1144694641216,
          463.0203608212879,
          505.1073413509761,
          217.9184929523774,
          567.1332578944455,
          421.4544206099413,
          405.54161003658726,
          680.322916033498,
          537.8982593950752,
          698.3147261581695,
          624.3908771172376,
          257.75103608108236,
          563.0442517659618,
          647.7003172950582,
          653.2896606132343,
          252.5776043019858,
          444.65274542946537,
          448.5370296755507
         ],
         "yaxis": "y"
        },
        {
         "hoverlabel": {
          "namelength": 0
         },
         "hovertemplate": "<b>OLS trendline</b><br>y_pred = 0.950426 * y + 23.970101<br>R<sup>2</sup>=0.968843<br><br>Total acidity content measured (%)=%{x}<br>Total acidity predicted (%)=%{y} <b>(trend)</b>",
         "legendgroup": "",
         "marker": {
          "color": "#636efa",
          "symbol": "circle"
         },
         "mode": "lines",
         "name": "",
         "showlegend": false,
         "type": "scatter",
         "x": [
          189.72,
          203.86,
          268.56,
          276.55,
          291.07,
          324.4,
          362.35,
          366.56,
          378.17,
          394.76,
          406.8,
          408.6,
          412.89,
          414.17,
          430.28,
          432.59,
          437.32,
          449.97,
          452.36,
          456.68,
          469.52,
          472.32,
          483.12,
          487.58,
          489.43,
          495.3,
          505.05,
          514.39,
          539.95,
          542.91,
          545.64,
          550.26,
          552.29,
          558.21,
          563.66,
          569.95,
          578.61,
          589.64,
          603.27,
          607.74,
          620.42,
          642.38,
          653.72,
          654.1,
          663.29,
          698.9,
          717.59,
          757.02,
          772.77
         ],
         "xaxis": "x",
         "y": [
          204.28494735310963,
          217.72397293700982,
          279.2165440316592,
          286.81044887008653,
          300.6106363862273,
          332.28833954827775,
          368.3570114654639,
          372.35830550423475,
          383.3927529603226,
          399.1603225810371,
          410.6034532762393,
          412.31422032369477,
          416.3915484534636,
          417.60809390943194,
          432.9194589841584,
          435.1149433617262,
          439.6104589919842,
          451.6333496310463,
          453.9048680996122,
          458.0107090135053,
          470.21418061868764,
          472.87537380361834,
          483.1399760883512,
          487.37887666149084,
          489.1371650158201,
          494.7161664427999,
          503.9828212831837,
          512.8598014072027,
          537.1526934810704,
          539.9659548479971,
          542.5606182033046,
          546.9515869584402,
          548.880952017515,
          554.5074747513686,
          559.6872972006088,
          565.6654776053282,
          573.8961679558639,
          584.3793682522161,
          597.3336765060038,
          601.5820813405182,
          613.6334847637046,
          634.5048427426613,
          645.2826751416308,
          645.6438370738714,
          654.378253277269,
          688.222928032763,
          705.9863925421757,
          743.4616951428252,
          758.4309068080605
         ],
         "yaxis": "y"
        }
       ],
       "layout": {
        "height": 400,
        "legend": {
         "tracegroupgap": 0
        },
        "template": {
         "data": {
          "bar": [
           {
            "error_x": {
             "color": "#2a3f5f"
            },
            "error_y": {
             "color": "#2a3f5f"
            },
            "marker": {
             "line": {
              "color": "#E5ECF6",
              "width": 0.5
             }
            },
            "type": "bar"
           }
          ],
          "barpolar": [
           {
            "marker": {
             "line": {
              "color": "#E5ECF6",
              "width": 0.5
             }
            },
            "type": "barpolar"
           }
          ],
          "carpet": [
           {
            "aaxis": {
             "endlinecolor": "#2a3f5f",
             "gridcolor": "white",
             "linecolor": "white",
             "minorgridcolor": "white",
             "startlinecolor": "#2a3f5f"
            },
            "baxis": {
             "endlinecolor": "#2a3f5f",
             "gridcolor": "white",
             "linecolor": "white",
             "minorgridcolor": "white",
             "startlinecolor": "#2a3f5f"
            },
            "type": "carpet"
           }
          ],
          "choropleth": [
           {
            "colorbar": {
             "outlinewidth": 0,
             "ticks": ""
            },
            "type": "choropleth"
           }
          ],
          "contour": [
           {
            "colorbar": {
             "outlinewidth": 0,
             "ticks": ""
            },
            "colorscale": [
             [
              0,
              "#0d0887"
             ],
             [
              0.1111111111111111,
              "#46039f"
             ],
             [
              0.2222222222222222,
              "#7201a8"
             ],
             [
              0.3333333333333333,
              "#9c179e"
             ],
             [
              0.4444444444444444,
              "#bd3786"
             ],
             [
              0.5555555555555556,
              "#d8576b"
             ],
             [
              0.6666666666666666,
              "#ed7953"
             ],
             [
              0.7777777777777778,
              "#fb9f3a"
             ],
             [
              0.8888888888888888,
              "#fdca26"
             ],
             [
              1,
              "#f0f921"
             ]
            ],
            "type": "contour"
           }
          ],
          "contourcarpet": [
           {
            "colorbar": {
             "outlinewidth": 0,
             "ticks": ""
            },
            "type": "contourcarpet"
           }
          ],
          "heatmap": [
           {
            "colorbar": {
             "outlinewidth": 0,
             "ticks": ""
            },
            "colorscale": [
             [
              0,
              "#0d0887"
             ],
             [
              0.1111111111111111,
              "#46039f"
             ],
             [
              0.2222222222222222,
              "#7201a8"
             ],
             [
              0.3333333333333333,
              "#9c179e"
             ],
             [
              0.4444444444444444,
              "#bd3786"
             ],
             [
              0.5555555555555556,
              "#d8576b"
             ],
             [
              0.6666666666666666,
              "#ed7953"
             ],
             [
              0.7777777777777778,
              "#fb9f3a"
             ],
             [
              0.8888888888888888,
              "#fdca26"
             ],
             [
              1,
              "#f0f921"
             ]
            ],
            "type": "heatmap"
           }
          ],
          "heatmapgl": [
           {
            "colorbar": {
             "outlinewidth": 0,
             "ticks": ""
            },
            "colorscale": [
             [
              0,
              "#0d0887"
             ],
             [
              0.1111111111111111,
              "#46039f"
             ],
             [
              0.2222222222222222,
              "#7201a8"
             ],
             [
              0.3333333333333333,
              "#9c179e"
             ],
             [
              0.4444444444444444,
              "#bd3786"
             ],
             [
              0.5555555555555556,
              "#d8576b"
             ],
             [
              0.6666666666666666,
              "#ed7953"
             ],
             [
              0.7777777777777778,
              "#fb9f3a"
             ],
             [
              0.8888888888888888,
              "#fdca26"
             ],
             [
              1,
              "#f0f921"
             ]
            ],
            "type": "heatmapgl"
           }
          ],
          "histogram": [
           {
            "marker": {
             "colorbar": {
              "outlinewidth": 0,
              "ticks": ""
             }
            },
            "type": "histogram"
           }
          ],
          "histogram2d": [
           {
            "colorbar": {
             "outlinewidth": 0,
             "ticks": ""
            },
            "colorscale": [
             [
              0,
              "#0d0887"
             ],
             [
              0.1111111111111111,
              "#46039f"
             ],
             [
              0.2222222222222222,
              "#7201a8"
             ],
             [
              0.3333333333333333,
              "#9c179e"
             ],
             [
              0.4444444444444444,
              "#bd3786"
             ],
             [
              0.5555555555555556,
              "#d8576b"
             ],
             [
              0.6666666666666666,
              "#ed7953"
             ],
             [
              0.7777777777777778,
              "#fb9f3a"
             ],
             [
              0.8888888888888888,
              "#fdca26"
             ],
             [
              1,
              "#f0f921"
             ]
            ],
            "type": "histogram2d"
           }
          ],
          "histogram2dcontour": [
           {
            "colorbar": {
             "outlinewidth": 0,
             "ticks": ""
            },
            "colorscale": [
             [
              0,
              "#0d0887"
             ],
             [
              0.1111111111111111,
              "#46039f"
             ],
             [
              0.2222222222222222,
              "#7201a8"
             ],
             [
              0.3333333333333333,
              "#9c179e"
             ],
             [
              0.4444444444444444,
              "#bd3786"
             ],
             [
              0.5555555555555556,
              "#d8576b"
             ],
             [
              0.6666666666666666,
              "#ed7953"
             ],
             [
              0.7777777777777778,
              "#fb9f3a"
             ],
             [
              0.8888888888888888,
              "#fdca26"
             ],
             [
              1,
              "#f0f921"
             ]
            ],
            "type": "histogram2dcontour"
           }
          ],
          "mesh3d": [
           {
            "colorbar": {
             "outlinewidth": 0,
             "ticks": ""
            },
            "type": "mesh3d"
           }
          ],
          "parcoords": [
           {
            "line": {
             "colorbar": {
              "outlinewidth": 0,
              "ticks": ""
             }
            },
            "type": "parcoords"
           }
          ],
          "scatter": [
           {
            "marker": {
             "colorbar": {
              "outlinewidth": 0,
              "ticks": ""
             }
            },
            "type": "scatter"
           }
          ],
          "scatter3d": [
           {
            "line": {
             "colorbar": {
              "outlinewidth": 0,
              "ticks": ""
             }
            },
            "marker": {
             "colorbar": {
              "outlinewidth": 0,
              "ticks": ""
             }
            },
            "type": "scatter3d"
           }
          ],
          "scattercarpet": [
           {
            "marker": {
             "colorbar": {
              "outlinewidth": 0,
              "ticks": ""
             }
            },
            "type": "scattercarpet"
           }
          ],
          "scattergeo": [
           {
            "marker": {
             "colorbar": {
              "outlinewidth": 0,
              "ticks": ""
             }
            },
            "type": "scattergeo"
           }
          ],
          "scattergl": [
           {
            "marker": {
             "colorbar": {
              "outlinewidth": 0,
              "ticks": ""
             }
            },
            "type": "scattergl"
           }
          ],
          "scattermapbox": [
           {
            "marker": {
             "colorbar": {
              "outlinewidth": 0,
              "ticks": ""
             }
            },
            "type": "scattermapbox"
           }
          ],
          "scatterpolar": [
           {
            "marker": {
             "colorbar": {
              "outlinewidth": 0,
              "ticks": ""
             }
            },
            "type": "scatterpolar"
           }
          ],
          "scatterpolargl": [
           {
            "marker": {
             "colorbar": {
              "outlinewidth": 0,
              "ticks": ""
             }
            },
            "type": "scatterpolargl"
           }
          ],
          "scatterternary": [
           {
            "marker": {
             "colorbar": {
              "outlinewidth": 0,
              "ticks": ""
             }
            },
            "type": "scatterternary"
           }
          ],
          "surface": [
           {
            "colorbar": {
             "outlinewidth": 0,
             "ticks": ""
            },
            "colorscale": [
             [
              0,
              "#0d0887"
             ],
             [
              0.1111111111111111,
              "#46039f"
             ],
             [
              0.2222222222222222,
              "#7201a8"
             ],
             [
              0.3333333333333333,
              "#9c179e"
             ],
             [
              0.4444444444444444,
              "#bd3786"
             ],
             [
              0.5555555555555556,
              "#d8576b"
             ],
             [
              0.6666666666666666,
              "#ed7953"
             ],
             [
              0.7777777777777778,
              "#fb9f3a"
             ],
             [
              0.8888888888888888,
              "#fdca26"
             ],
             [
              1,
              "#f0f921"
             ]
            ],
            "type": "surface"
           }
          ],
          "table": [
           {
            "cells": {
             "fill": {
              "color": "#EBF0F8"
             },
             "line": {
              "color": "white"
             }
            },
            "header": {
             "fill": {
              "color": "#C8D4E3"
             },
             "line": {
              "color": "white"
             }
            },
            "type": "table"
           }
          ]
         },
         "layout": {
          "annotationdefaults": {
           "arrowcolor": "#2a3f5f",
           "arrowhead": 0,
           "arrowwidth": 1
          },
          "colorscale": {
           "diverging": [
            [
             0,
             "#8e0152"
            ],
            [
             0.1,
             "#c51b7d"
            ],
            [
             0.2,
             "#de77ae"
            ],
            [
             0.3,
             "#f1b6da"
            ],
            [
             0.4,
             "#fde0ef"
            ],
            [
             0.5,
             "#f7f7f7"
            ],
            [
             0.6,
             "#e6f5d0"
            ],
            [
             0.7,
             "#b8e186"
            ],
            [
             0.8,
             "#7fbc41"
            ],
            [
             0.9,
             "#4d9221"
            ],
            [
             1,
             "#276419"
            ]
           ],
           "sequential": [
            [
             0,
             "#0d0887"
            ],
            [
             0.1111111111111111,
             "#46039f"
            ],
            [
             0.2222222222222222,
             "#7201a8"
            ],
            [
             0.3333333333333333,
             "#9c179e"
            ],
            [
             0.4444444444444444,
             "#bd3786"
            ],
            [
             0.5555555555555556,
             "#d8576b"
            ],
            [
             0.6666666666666666,
             "#ed7953"
            ],
            [
             0.7777777777777778,
             "#fb9f3a"
            ],
            [
             0.8888888888888888,
             "#fdca26"
            ],
            [
             1,
             "#f0f921"
            ]
           ],
           "sequentialminus": [
            [
             0,
             "#0d0887"
            ],
            [
             0.1111111111111111,
             "#46039f"
            ],
            [
             0.2222222222222222,
             "#7201a8"
            ],
            [
             0.3333333333333333,
             "#9c179e"
            ],
            [
             0.4444444444444444,
             "#bd3786"
            ],
            [
             0.5555555555555556,
             "#d8576b"
            ],
            [
             0.6666666666666666,
             "#ed7953"
            ],
            [
             0.7777777777777778,
             "#fb9f3a"
            ],
            [
             0.8888888888888888,
             "#fdca26"
            ],
            [
             1,
             "#f0f921"
            ]
           ]
          },
          "colorway": [
           "#636efa",
           "#EF553B",
           "#00cc96",
           "#ab63fa",
           "#FFA15A",
           "#19d3f3",
           "#FF6692",
           "#B6E880",
           "#FF97FF",
           "#FECB52"
          ],
          "font": {
           "color": "#2a3f5f"
          },
          "geo": {
           "bgcolor": "white",
           "lakecolor": "white",
           "landcolor": "#E5ECF6",
           "showlakes": true,
           "showland": true,
           "subunitcolor": "white"
          },
          "hoverlabel": {
           "align": "left"
          },
          "hovermode": "closest",
          "mapbox": {
           "style": "light"
          },
          "paper_bgcolor": "white",
          "plot_bgcolor": "#E5ECF6",
          "polar": {
           "angularaxis": {
            "gridcolor": "white",
            "linecolor": "white",
            "ticks": ""
           },
           "bgcolor": "#E5ECF6",
           "radialaxis": {
            "gridcolor": "white",
            "linecolor": "white",
            "ticks": ""
           }
          },
          "scene": {
           "xaxis": {
            "backgroundcolor": "#E5ECF6",
            "gridcolor": "white",
            "gridwidth": 2,
            "linecolor": "white",
            "showbackground": true,
            "ticks": "",
            "zerolinecolor": "white"
           },
           "yaxis": {
            "backgroundcolor": "#E5ECF6",
            "gridcolor": "white",
            "gridwidth": 2,
            "linecolor": "white",
            "showbackground": true,
            "ticks": "",
            "zerolinecolor": "white"
           },
           "zaxis": {
            "backgroundcolor": "#E5ECF6",
            "gridcolor": "white",
            "gridwidth": 2,
            "linecolor": "white",
            "showbackground": true,
            "ticks": "",
            "zerolinecolor": "white"
           }
          },
          "shapedefaults": {
           "line": {
            "color": "#2a3f5f"
           }
          },
          "ternary": {
           "aaxis": {
            "gridcolor": "white",
            "linecolor": "white",
            "ticks": ""
           },
           "baxis": {
            "gridcolor": "white",
            "linecolor": "white",
            "ticks": ""
           },
           "bgcolor": "#E5ECF6",
           "caxis": {
            "gridcolor": "white",
            "linecolor": "white",
            "ticks": ""
           }
          },
          "title": {
           "x": 0.05
          },
          "xaxis": {
           "automargin": true,
           "gridcolor": "white",
           "linecolor": "white",
           "ticks": "",
           "zerolinecolor": "white",
           "zerolinewidth": 2
          },
          "yaxis": {
           "automargin": true,
           "gridcolor": "white",
           "linecolor": "white",
           "ticks": "",
           "zerolinecolor": "white",
           "zerolinewidth": 2
          }
         }
        },
        "title": {
         "text": "Prediction performance for total acidity content "
        },
        "width": 600,
        "xaxis": {
         "anchor": "y",
         "domain": [
          0,
          0.98
         ],
         "title": {
          "text": "Total acidity content measured (%)"
         }
        },
        "yaxis": {
         "anchor": "x",
         "domain": [
          0,
          1
         ],
         "title": {
          "text": "Total acidity predicted (%)"
         }
        }
       }
      }
     },
     "metadata": {},
     "output_type": "display_data"
    }
   ],
   "source": [
    "import plotly.express as px\n",
    "\n",
    "df_pred = pd.DataFrame()\n",
    "df_pred['y'] = y_train_oleo\n",
    "df_pred['y_pred'] = y_cv\n",
    "fig = px.scatter(df_pred, x=\"y\", y=\"y_pred\", trendline=\"ols\", title=\"Prediction performance for total acidity content \",\n",
    "                 labels={\n",
    "                     \"y\": \"Total acidity content measured (%)\",\n",
    "                     \"y_pred\": \"Total acidity predicted (%)\",\n",
    "\n",
    "                 },width=600, height=400)\n",
    "fig.show()"
   ]
  },
  {
   "cell_type": "code",
   "execution_count": 64,
   "id": "fcd5343c",
   "metadata": {},
   "outputs": [
    {
     "data": {
      "application/vnd.plotly.v1+json": {
       "config": {
        "plotlyServerURL": "https://plot.ly"
       },
       "data": [
        {
         "hoverlabel": {
          "namelength": 0
         },
         "hovertemplate": "Total acidity content measured (%)=%{x}<br>Total acidity predicted (%)=%{y}",
         "legendgroup": "",
         "marker": {
          "color": "#636efa",
          "symbol": "circle"
         },
         "mode": "markers",
         "name": "",
         "showlegend": false,
         "type": "scatter",
         "x": [
          537.99,
          630.61,
          381.98,
          492.19,
          645.07,
          444.48,
          584.37,
          298.37,
          466.18
         ],
         "xaxis": "x",
         "y": [
          546.6588445907087,
          631.9500444739693,
          434.47792471432643,
          479.14890621438184,
          662.2372744041079,
          428.1785465846189,
          585.7850672546292,
          314.63595173402916,
          487.194635742804
         ],
         "yaxis": "y"
        },
        {
         "hoverlabel": {
          "namelength": 0
         },
         "hovertemplate": "<b>OLS trendline</b><br>y_pred = 0.944268 * y + 37.641587<br>R<sup>2</sup>=0.968461<br><br>Total acidity content measured (%)=%{x}<br>Total acidity predicted (%)=%{y} <b>(trend)</b>",
         "legendgroup": "",
         "marker": {
          "color": "#636efa",
          "symbol": "circle"
         },
         "mode": "lines",
         "name": "",
         "showlegend": false,
         "type": "scatter",
         "x": [
          298.37,
          381.98,
          444.48,
          466.18,
          492.19,
          537.99,
          584.37,
          630.61,
          645.07
         ],
         "xaxis": "x",
         "y": [
          319.3829222510303,
          398.333195410005,
          457.34996460550684,
          477.84058687018506,
          502.40100553858514,
          545.6484940050489,
          589.4436580896469,
          633.1066246112471,
          646.7607443323184
         ],
         "yaxis": "y"
        }
       ],
       "layout": {
        "height": 400,
        "legend": {
         "tracegroupgap": 0
        },
        "template": {
         "data": {
          "bar": [
           {
            "error_x": {
             "color": "#2a3f5f"
            },
            "error_y": {
             "color": "#2a3f5f"
            },
            "marker": {
             "line": {
              "color": "#E5ECF6",
              "width": 0.5
             }
            },
            "type": "bar"
           }
          ],
          "barpolar": [
           {
            "marker": {
             "line": {
              "color": "#E5ECF6",
              "width": 0.5
             }
            },
            "type": "barpolar"
           }
          ],
          "carpet": [
           {
            "aaxis": {
             "endlinecolor": "#2a3f5f",
             "gridcolor": "white",
             "linecolor": "white",
             "minorgridcolor": "white",
             "startlinecolor": "#2a3f5f"
            },
            "baxis": {
             "endlinecolor": "#2a3f5f",
             "gridcolor": "white",
             "linecolor": "white",
             "minorgridcolor": "white",
             "startlinecolor": "#2a3f5f"
            },
            "type": "carpet"
           }
          ],
          "choropleth": [
           {
            "colorbar": {
             "outlinewidth": 0,
             "ticks": ""
            },
            "type": "choropleth"
           }
          ],
          "contour": [
           {
            "colorbar": {
             "outlinewidth": 0,
             "ticks": ""
            },
            "colorscale": [
             [
              0,
              "#0d0887"
             ],
             [
              0.1111111111111111,
              "#46039f"
             ],
             [
              0.2222222222222222,
              "#7201a8"
             ],
             [
              0.3333333333333333,
              "#9c179e"
             ],
             [
              0.4444444444444444,
              "#bd3786"
             ],
             [
              0.5555555555555556,
              "#d8576b"
             ],
             [
              0.6666666666666666,
              "#ed7953"
             ],
             [
              0.7777777777777778,
              "#fb9f3a"
             ],
             [
              0.8888888888888888,
              "#fdca26"
             ],
             [
              1,
              "#f0f921"
             ]
            ],
            "type": "contour"
           }
          ],
          "contourcarpet": [
           {
            "colorbar": {
             "outlinewidth": 0,
             "ticks": ""
            },
            "type": "contourcarpet"
           }
          ],
          "heatmap": [
           {
            "colorbar": {
             "outlinewidth": 0,
             "ticks": ""
            },
            "colorscale": [
             [
              0,
              "#0d0887"
             ],
             [
              0.1111111111111111,
              "#46039f"
             ],
             [
              0.2222222222222222,
              "#7201a8"
             ],
             [
              0.3333333333333333,
              "#9c179e"
             ],
             [
              0.4444444444444444,
              "#bd3786"
             ],
             [
              0.5555555555555556,
              "#d8576b"
             ],
             [
              0.6666666666666666,
              "#ed7953"
             ],
             [
              0.7777777777777778,
              "#fb9f3a"
             ],
             [
              0.8888888888888888,
              "#fdca26"
             ],
             [
              1,
              "#f0f921"
             ]
            ],
            "type": "heatmap"
           }
          ],
          "heatmapgl": [
           {
            "colorbar": {
             "outlinewidth": 0,
             "ticks": ""
            },
            "colorscale": [
             [
              0,
              "#0d0887"
             ],
             [
              0.1111111111111111,
              "#46039f"
             ],
             [
              0.2222222222222222,
              "#7201a8"
             ],
             [
              0.3333333333333333,
              "#9c179e"
             ],
             [
              0.4444444444444444,
              "#bd3786"
             ],
             [
              0.5555555555555556,
              "#d8576b"
             ],
             [
              0.6666666666666666,
              "#ed7953"
             ],
             [
              0.7777777777777778,
              "#fb9f3a"
             ],
             [
              0.8888888888888888,
              "#fdca26"
             ],
             [
              1,
              "#f0f921"
             ]
            ],
            "type": "heatmapgl"
           }
          ],
          "histogram": [
           {
            "marker": {
             "colorbar": {
              "outlinewidth": 0,
              "ticks": ""
             }
            },
            "type": "histogram"
           }
          ],
          "histogram2d": [
           {
            "colorbar": {
             "outlinewidth": 0,
             "ticks": ""
            },
            "colorscale": [
             [
              0,
              "#0d0887"
             ],
             [
              0.1111111111111111,
              "#46039f"
             ],
             [
              0.2222222222222222,
              "#7201a8"
             ],
             [
              0.3333333333333333,
              "#9c179e"
             ],
             [
              0.4444444444444444,
              "#bd3786"
             ],
             [
              0.5555555555555556,
              "#d8576b"
             ],
             [
              0.6666666666666666,
              "#ed7953"
             ],
             [
              0.7777777777777778,
              "#fb9f3a"
             ],
             [
              0.8888888888888888,
              "#fdca26"
             ],
             [
              1,
              "#f0f921"
             ]
            ],
            "type": "histogram2d"
           }
          ],
          "histogram2dcontour": [
           {
            "colorbar": {
             "outlinewidth": 0,
             "ticks": ""
            },
            "colorscale": [
             [
              0,
              "#0d0887"
             ],
             [
              0.1111111111111111,
              "#46039f"
             ],
             [
              0.2222222222222222,
              "#7201a8"
             ],
             [
              0.3333333333333333,
              "#9c179e"
             ],
             [
              0.4444444444444444,
              "#bd3786"
             ],
             [
              0.5555555555555556,
              "#d8576b"
             ],
             [
              0.6666666666666666,
              "#ed7953"
             ],
             [
              0.7777777777777778,
              "#fb9f3a"
             ],
             [
              0.8888888888888888,
              "#fdca26"
             ],
             [
              1,
              "#f0f921"
             ]
            ],
            "type": "histogram2dcontour"
           }
          ],
          "mesh3d": [
           {
            "colorbar": {
             "outlinewidth": 0,
             "ticks": ""
            },
            "type": "mesh3d"
           }
          ],
          "parcoords": [
           {
            "line": {
             "colorbar": {
              "outlinewidth": 0,
              "ticks": ""
             }
            },
            "type": "parcoords"
           }
          ],
          "scatter": [
           {
            "marker": {
             "colorbar": {
              "outlinewidth": 0,
              "ticks": ""
             }
            },
            "type": "scatter"
           }
          ],
          "scatter3d": [
           {
            "line": {
             "colorbar": {
              "outlinewidth": 0,
              "ticks": ""
             }
            },
            "marker": {
             "colorbar": {
              "outlinewidth": 0,
              "ticks": ""
             }
            },
            "type": "scatter3d"
           }
          ],
          "scattercarpet": [
           {
            "marker": {
             "colorbar": {
              "outlinewidth": 0,
              "ticks": ""
             }
            },
            "type": "scattercarpet"
           }
          ],
          "scattergeo": [
           {
            "marker": {
             "colorbar": {
              "outlinewidth": 0,
              "ticks": ""
             }
            },
            "type": "scattergeo"
           }
          ],
          "scattergl": [
           {
            "marker": {
             "colorbar": {
              "outlinewidth": 0,
              "ticks": ""
             }
            },
            "type": "scattergl"
           }
          ],
          "scattermapbox": [
           {
            "marker": {
             "colorbar": {
              "outlinewidth": 0,
              "ticks": ""
             }
            },
            "type": "scattermapbox"
           }
          ],
          "scatterpolar": [
           {
            "marker": {
             "colorbar": {
              "outlinewidth": 0,
              "ticks": ""
             }
            },
            "type": "scatterpolar"
           }
          ],
          "scatterpolargl": [
           {
            "marker": {
             "colorbar": {
              "outlinewidth": 0,
              "ticks": ""
             }
            },
            "type": "scatterpolargl"
           }
          ],
          "scatterternary": [
           {
            "marker": {
             "colorbar": {
              "outlinewidth": 0,
              "ticks": ""
             }
            },
            "type": "scatterternary"
           }
          ],
          "surface": [
           {
            "colorbar": {
             "outlinewidth": 0,
             "ticks": ""
            },
            "colorscale": [
             [
              0,
              "#0d0887"
             ],
             [
              0.1111111111111111,
              "#46039f"
             ],
             [
              0.2222222222222222,
              "#7201a8"
             ],
             [
              0.3333333333333333,
              "#9c179e"
             ],
             [
              0.4444444444444444,
              "#bd3786"
             ],
             [
              0.5555555555555556,
              "#d8576b"
             ],
             [
              0.6666666666666666,
              "#ed7953"
             ],
             [
              0.7777777777777778,
              "#fb9f3a"
             ],
             [
              0.8888888888888888,
              "#fdca26"
             ],
             [
              1,
              "#f0f921"
             ]
            ],
            "type": "surface"
           }
          ],
          "table": [
           {
            "cells": {
             "fill": {
              "color": "#EBF0F8"
             },
             "line": {
              "color": "white"
             }
            },
            "header": {
             "fill": {
              "color": "#C8D4E3"
             },
             "line": {
              "color": "white"
             }
            },
            "type": "table"
           }
          ]
         },
         "layout": {
          "annotationdefaults": {
           "arrowcolor": "#2a3f5f",
           "arrowhead": 0,
           "arrowwidth": 1
          },
          "colorscale": {
           "diverging": [
            [
             0,
             "#8e0152"
            ],
            [
             0.1,
             "#c51b7d"
            ],
            [
             0.2,
             "#de77ae"
            ],
            [
             0.3,
             "#f1b6da"
            ],
            [
             0.4,
             "#fde0ef"
            ],
            [
             0.5,
             "#f7f7f7"
            ],
            [
             0.6,
             "#e6f5d0"
            ],
            [
             0.7,
             "#b8e186"
            ],
            [
             0.8,
             "#7fbc41"
            ],
            [
             0.9,
             "#4d9221"
            ],
            [
             1,
             "#276419"
            ]
           ],
           "sequential": [
            [
             0,
             "#0d0887"
            ],
            [
             0.1111111111111111,
             "#46039f"
            ],
            [
             0.2222222222222222,
             "#7201a8"
            ],
            [
             0.3333333333333333,
             "#9c179e"
            ],
            [
             0.4444444444444444,
             "#bd3786"
            ],
            [
             0.5555555555555556,
             "#d8576b"
            ],
            [
             0.6666666666666666,
             "#ed7953"
            ],
            [
             0.7777777777777778,
             "#fb9f3a"
            ],
            [
             0.8888888888888888,
             "#fdca26"
            ],
            [
             1,
             "#f0f921"
            ]
           ],
           "sequentialminus": [
            [
             0,
             "#0d0887"
            ],
            [
             0.1111111111111111,
             "#46039f"
            ],
            [
             0.2222222222222222,
             "#7201a8"
            ],
            [
             0.3333333333333333,
             "#9c179e"
            ],
            [
             0.4444444444444444,
             "#bd3786"
            ],
            [
             0.5555555555555556,
             "#d8576b"
            ],
            [
             0.6666666666666666,
             "#ed7953"
            ],
            [
             0.7777777777777778,
             "#fb9f3a"
            ],
            [
             0.8888888888888888,
             "#fdca26"
            ],
            [
             1,
             "#f0f921"
            ]
           ]
          },
          "colorway": [
           "#636efa",
           "#EF553B",
           "#00cc96",
           "#ab63fa",
           "#FFA15A",
           "#19d3f3",
           "#FF6692",
           "#B6E880",
           "#FF97FF",
           "#FECB52"
          ],
          "font": {
           "color": "#2a3f5f"
          },
          "geo": {
           "bgcolor": "white",
           "lakecolor": "white",
           "landcolor": "#E5ECF6",
           "showlakes": true,
           "showland": true,
           "subunitcolor": "white"
          },
          "hoverlabel": {
           "align": "left"
          },
          "hovermode": "closest",
          "mapbox": {
           "style": "light"
          },
          "paper_bgcolor": "white",
          "plot_bgcolor": "#E5ECF6",
          "polar": {
           "angularaxis": {
            "gridcolor": "white",
            "linecolor": "white",
            "ticks": ""
           },
           "bgcolor": "#E5ECF6",
           "radialaxis": {
            "gridcolor": "white",
            "linecolor": "white",
            "ticks": ""
           }
          },
          "scene": {
           "xaxis": {
            "backgroundcolor": "#E5ECF6",
            "gridcolor": "white",
            "gridwidth": 2,
            "linecolor": "white",
            "showbackground": true,
            "ticks": "",
            "zerolinecolor": "white"
           },
           "yaxis": {
            "backgroundcolor": "#E5ECF6",
            "gridcolor": "white",
            "gridwidth": 2,
            "linecolor": "white",
            "showbackground": true,
            "ticks": "",
            "zerolinecolor": "white"
           },
           "zaxis": {
            "backgroundcolor": "#E5ECF6",
            "gridcolor": "white",
            "gridwidth": 2,
            "linecolor": "white",
            "showbackground": true,
            "ticks": "",
            "zerolinecolor": "white"
           }
          },
          "shapedefaults": {
           "line": {
            "color": "#2a3f5f"
           }
          },
          "ternary": {
           "aaxis": {
            "gridcolor": "white",
            "linecolor": "white",
            "ticks": ""
           },
           "baxis": {
            "gridcolor": "white",
            "linecolor": "white",
            "ticks": ""
           },
           "bgcolor": "#E5ECF6",
           "caxis": {
            "gridcolor": "white",
            "linecolor": "white",
            "ticks": ""
           }
          },
          "title": {
           "x": 0.05
          },
          "xaxis": {
           "automargin": true,
           "gridcolor": "white",
           "linecolor": "white",
           "ticks": "",
           "zerolinecolor": "white",
           "zerolinewidth": 2
          },
          "yaxis": {
           "automargin": true,
           "gridcolor": "white",
           "linecolor": "white",
           "ticks": "",
           "zerolinecolor": "white",
           "zerolinewidth": 2
          }
         }
        },
        "title": {
         "text": "Prediction performance for total acidity content "
        },
        "width": 600,
        "xaxis": {
         "anchor": "y",
         "domain": [
          0,
          0.98
         ],
         "title": {
          "text": "Total acidity content measured (%)"
         }
        },
        "yaxis": {
         "anchor": "x",
         "domain": [
          0,
          1
         ],
         "title": {
          "text": "Total acidity predicted (%)"
         }
        }
       }
      }
     },
     "metadata": {},
     "output_type": "display_data"
    }
   ],
   "source": [
    "import plotly.express as px\n",
    "\n",
    "df_pred = pd.DataFrame()\n",
    "df_pred['y'] = y_test_oleo\n",
    "df_pred['y_pred'] = y_pred\n",
    "fig = px.scatter(df_pred, x=\"y\", y=\"y_pred\", trendline=\"ols\", title=\"Prediction performance for total acidity content \",\n",
    "                 labels={\n",
    "                     \"y\": \"Total acidity content measured (%)\",\n",
    "                     \"y_pred\": \"Total acidity predicted (%)\",\n",
    "\n",
    "                 },width=600, height=400)\n",
    "fig.show()"
   ]
  },
  {
   "cell_type": "code",
   "execution_count": null,
   "id": "e3d45641",
   "metadata": {},
   "outputs": [],
   "source": [
    "#Wavelength to keep\n",
    "wl_list = np.arange(0, 1557, 1)\n",
    "col = [ 4,6,10,12,19,23,30,32,33,35,36,37,41,42,44,49,52,54,55,63,65,67,70,71,72,74,76,77,80,81,82,85,87,89,93,98,101,108,111,112,115,116,118,120,121,122,123,124,129,131,134,139,147,148,149,150,151,153,155,157,158,159,160,161,163,165,166,168,170,173,176,177,178,179,181,182,187,188,190,191,192,193,196,197,199,203,204,205,207,209,212,222,223,228,229,231,233,235,236,237,239,246,248,249,251,259,263,264,268,270,271,274,279,282,284,287,292,293,295,298,300,301,302,305,310,313,318,322,326,327,331,334,338,339,341,343,348,350,353,354,357,358,359,360,362,365,367,368,371,373,374,375,376,383,384,386,388,389,391,392,393,394,395,396,401,402,403,405,406,410,411,412,414,415,416,417,418,419,420,421,422,424,425,426,428,429,431,432,433,434,435,437,438,439,443,444,445,447,453,454,456,458,461,462,466,471,473,475,478,479,480,481,482,485,488,489,491,492,496,501,507,509,511,512,514,515,519,524,529,530,532,535,538,539,541,542,544,547,548,551,554,555,556,558,561,562,563,564,566,568,569,570,571,574,575,577,578,579,580,581,583,585,586,587,589,590,591,593,595,597,598,599,601,602,603,605,607,608,609,610,613,615,618,619,620,621,622,626,627,630,632,633,635,637,639,644,646,648,652,656,657,658,662,665,667,671,674,675,677,679,681,682,683,685,686,687,688,690,691,692,693,695,696,697,699,702,707,712,713,715,718,719,723,725,726,727,728,733,740,741,743,744,746,750,752,754,757,758,763,765,766,767,768,769,772,773,774,775,776,777,780,781,785,786,789,791,792,793,794,799,800,801,807,808,809,810,811,812,815,816,819,822,823,824,825,827,831,834,835,839,840,844,845,846,848,850,851,852,853,854,861,863,864,865,866,868,870,871,872,873,874,875,877,879,882,884,885,886,887,889,890,891,893,895,897,898,899,903,904,905,906,908,915,917,918,921,923,924,925,927,928,929,933,934,936,940,941,942,944,945,946,947,948,949,951,952,955,956,958,960,962,965,966,970,974,975,976,977,978,979,981,984,988,992,993,996,1000,1002,1003,1004,1007,1012,1014,1016,1017,1018,1021,1022,1024,1026,1028,1030,1032,1036,1038,1041,1042,1044,1048,1050,1053,1056,1057,1060,1062,1063,1066,1067,1068,1070,1073,1077,1080,1083,1084,1085,1087,1088,1089,1090,1091,1093,1095,1096,1098,1099,1105,1106,1108,1109,1110,1111,1113,1114,1115,1121,1122,1123,1124,1125,1126,1129,1131,1132,1133,1134,1137,1138,1141,1142,1144,1145,1149,1150,1152,1155,1158,1159,1163,1164,1169,1170,1172,1174,1178,1180,1181,1182,1183,1186,1188,1191,1193,1194,1195,1201,1202,1206,1208,1210,1215,1217,1219,1223,1226,1227,1229,1230,1232,1234,1240,1241,1242,1247,1249,1258,1262,1263,1265,1268,1269,1270,1274,1275,1276,1277,1278,1280,1283,1284,1287,1289,1291,1294,1295,1296,1297,1299,1300,1301,1304,1308,1311,1315,1317,1319,1323,1324,1326,1332,1338,1339,1340,1343,1344,1345,1346,1347,1351,1353,1354,1355,1357,1363,1364,1366,1367,1368,1371,1381,1382,1383,1385,1386,1389,1391,1396,1397,1402,1405,1406,1408,1409,1410,1415,1416,1417,1419,1420,1427,1429,1431,1432,1435,1436,1437,1438,1442,1443,1444,1445,1447,1448,1449,1450,1452,1454,1457,1459,1462,1463,1465,1466,1467,1470,1471,1472,1476,1478,1480,1486,1488,1490,1491,1494,1497,1499,1500,1501,1507,1508,1509,1511,1514,1516,1518,1522,1525,1527,1528,1533,1534,1541,1542,1545,1546,1548,1550,1553,1556]\n",
    "\n",
    "wl_list = np.delete(wl_list, col)\n",
    "###If needed ##\n",
    "col = [0,   1,   4,   6,   9,  14,  15,  16,  18,  25,  26,  27,  30,\n",
    "        33,  35,  37,  38,  39,  40,  44,  45,  51,  52,  53,  54,  58,\n",
    "        72,  73,  75,  76,  77,  78,  79,  82,  83,  85,  86,  88,  90,\n",
    "        91,  92,  93,  94,  99, 102, 108, 109, 110, 112, 113, 114, 115,\n",
    "       116, 117, 118, 119, 122, 125, 128, 129, 131, 133, 135, 143, 144,\n",
    "       145, 147, 148, 150, 151, 152, 159, 161, 163, 164, 165, 173, 176,\n",
    "       179, 180, 183, 184, 185, 189, 190, 193, 197, 199, 200, 204, 205,\n",
    "       208, 209, 210, 212, 213, 216, 217, 219, 220, 221, 223, 226, 227,\n",
    "       228, 231, 232, 236, 239, 242, 243, 256, 257, 259, 266, 268, 273,\n",
    "       277, 282, 287, 288, 296, 300, 301, 303, 304, 308, 317, 318, 319,\n",
    "       324, 327, 332, 333, 336, 338, 340, 341, 342, 344, 349, 350, 351,\n",
    "       354, 360, 361, 363, 366, 367, 374, 375, 377, 378, 379, 380, 383,\n",
    "       385, 387, 388, 390, 391, 393, 400, 402, 406, 408, 409, 411, 412,\n",
    "       413, 414, 418, 420, 421, 422, 425, 427, 430, 431, 432, 433, 434,\n",
    "       435, 439, 441, 443, 446, 447, 449, 450, 452, 454, 457, 458, 463,\n",
    "       467, 473, 474, 475, 477, 479, 483, 484, 486, 488, 490, 493, 495,\n",
    "       496, 497, 498, 501, 504, 506, 509, 510, 511, 515, 516, 524, 526,\n",
    "       527, 528, 529, 530, 532, 534, 535, 541, 544, 545, 553, 554, 555,\n",
    "       563, 566, 571, 572, 578, 580, 582, 586, 587, 588, 589, 590, 591,\n",
    "       592, 595, 596, 597, 599, 600, 601, 603, 605, 607, 608, 615, 616,\n",
    "       618, 620, 622, 626, 629, 630, 631, 642, 643, 644, 648, 649, 650,\n",
    "       653, 654, 655, 657, 660, 662, 663, 664, 668, 669, 671, 672, 675,\n",
    "       677, 679, 681, 682, 684, 686, 688, 689, 690, 691, 695, 696, 697,\n",
    "       699, 700, 702, 703, 704, 705, 706, 712, 713, 715, 716, 723, 724,\n",
    "       726, 727, 730, 731, 732, 736, 737, 738, 739, 740, 746, 748, 752,\n",
    "       756, 759, 761, 765, 766, 767, 772, 773, 775, 776, 778, 781, 785,\n",
    "       786, 791, 792, 794, 796, 798, 801, 804, 807, 817, 818, 821, 824,\n",
    "       826]\n",
    "wl_list = np.delete(wl_list, col)\n",
    "col = [1,   3,   7,   8,   9,  14,  16,  17,  20,  23,  27,  28,  29,\n",
    "        30,  31,  32,  36,  38,  39,  41,  48,  51,  54,  56,  58,  59,\n",
    "        60,  61,  63,  64,  67,  71,  72,  73,  75,  76,  78,  81,  82,\n",
    "        84,  87,  89,  90,  93,  94,  96,  97,  98,  99, 101, 105, 109,\n",
    "       111, 112, 115, 117, 118, 119, 121, 122, 124, 126, 131, 133, 136,\n",
    "       137, 139, 140, 144, 146, 149, 150, 152, 153, 159, 162, 166, 167,\n",
    "       168, 171, 173, 182, 183, 184, 187, 188, 189, 190, 192, 195, 197,\n",
    "       198, 200, 208, 211, 212, 213, 214, 215, 217, 220, 221, 223, 230,\n",
    "       237, 238, 239, 240, 242, 247, 249, 251, 255, 256, 258, 263, 264,\n",
    "       267, 269, 272, 273, 278, 281, 282, 284, 286, 289, 291, 294, 295,\n",
    "       297, 299, 300, 301, 303, 306, 307, 308, 309, 310, 312, 316, 320,\n",
    "       322, 324, 325, 326, 328, 333, 334, 335, 339, 341, 342, 343, 347,\n",
    "       349, 350, 351, 353, 356, 361, 363, 368, 371, 376, 379, 380, 382,\n",
    "       391, 394, 395, 402, 403, 406, 407, 411, 412, 413, 414, 415, 416,\n",
    "       423, 424, 426, 427, 428, 429, 430, 431, 433, 435, 438, 439, 440,\n",
    "       442, 445, 449, 453, 456, 457, 458, 459, 466, 470, 471, 472]\n",
    "wl_list = np.delete(wl_list, col)\n",
    "col = [1,   3,   4,   6,   8,  11,  14,  15,  18,  19,  21,  23,  25,\n",
    "        26,  28,  32,  35,  40,  44,  46,  47,  48,  51,  56,  57,  59,\n",
    "        62,  63,  64,  65,  69,  72,  77,  85,  86,  90,  94,  96,  99,\n",
    "       100, 101, 102, 105, 107, 108, 115, 117, 119, 120, 123, 126, 127,\n",
    "       129, 130, 131, 132, 134, 143, 145, 149, 152, 155, 158, 162, 165,\n",
    "       172, 174, 178, 179, 180, 183, 186, 195, 197, 200, 201, 205, 206,\n",
    "       207, 210, 214, 215, 217, 221, 223, 225, 226, 227, 228, 229, 233,\n",
    "       234, 235, 236, 240, 242, 243, 244, 245, 248, 254, 255, 256, 260,\n",
    "       264, 265, 267]\n",
    "wl_list = np.delete(wl_list, col)\n",
    "wl_list"
   ]
  },
  {
   "cell_type": "code",
   "execution_count": null,
   "id": "32b55065",
   "metadata": {},
   "outputs": [],
   "source": [
    "# ##Show the wavelength selected\n",
    "\n",
    "# wl = np.arange(0, 1557, 1)\n",
    "# print(len(wl))\n",
    "# wavelength_res = wl_list\n",
    "# plt.figure(figsize=(18, 9.5))\n",
    "# with plt.style.context('ggplot'):\n",
    "#     plt.plot(wl, df_pretreat.values[:, :-3].T)\n",
    "#     for i in range(0, (len(wavelength_res)-1)):\n",
    "#         plt.axvline(x=wavelength_res[i], color='r', label='axvline - full height')\n",
    "#     plt.xlabel(\"Wavelengths (nm)\")\n",
    "#     plt.ylabel(\"D2 Absorbance\")\n",
    "#     plt.show()"
   ]
  },
  {
   "cell_type": "code",
   "execution_count": null,
   "id": "eedf1a8e",
   "metadata": {},
   "outputs": [],
   "source": [
    "len(wl_list)"
   ]
  },
  {
   "cell_type": "code",
   "execution_count": null,
   "id": "230c471a",
   "metadata": {},
   "outputs": [],
   "source": []
  }
 ],
 "metadata": {
  "kernelspec": {
   "display_name": "base",
   "language": "python",
   "name": "python3"
  },
  "language_info": {
   "codemirror_mode": {
    "name": "ipython",
    "version": 3
   },
   "file_extension": ".py",
   "mimetype": "text/x-python",
   "name": "python",
   "nbconvert_exporter": "python",
   "pygments_lexer": "ipython3",
   "version": "3.9.7"
  },
  "vscode": {
   "interpreter": {
    "hash": "f495aec6bb42f5bf50edc3d7c3c03d5f8869c4ec116315d269d15969b9ab482a"
   }
  }
 },
 "nbformat": 4,
 "nbformat_minor": 5
}
