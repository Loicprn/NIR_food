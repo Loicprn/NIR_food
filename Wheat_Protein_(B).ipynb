{
 "cells": [
  {
   "cell_type": "code",
   "execution_count": 1,
   "id": "79c1089e",
   "metadata": {},
   "outputs": [],
   "source": [
    "import plotly.express as px\n",
    "import pandas as pd\n",
    "import numpy as np\n",
    "import matplotlib.pyplot as plt\n",
    "from numpy import alen, arange\n",
    "import math\n",
    "from math import sqrt\n",
    "from sklearn.model_selection import KFold\n",
    "from sklearn.linear_model import LinearRegression\n",
    "from sklearn.model_selection import cross_val_score\n",
    "from sklearn.model_selection import LeaveOneOut\n",
    "from sklearn.ensemble import AdaBoostRegressor\n",
    "from sklearn.pipeline import make_pipeline\n",
    "from sklearn.ensemble import RandomForestRegressor\n",
    "from sklearn.ensemble import GradientBoostingRegressor\n",
    "from sklearn.linear_model import LinearRegression\n",
    "from sklearn.ensemble import VotingRegressor\n",
    "\n",
    "from sklearn.svm import SVR\n",
    "#### PLS\n",
    "from sklearn.cross_decomposition import PLSRegression\n",
    "from sklearn.model_selection import cross_val_predict\n",
    "from sklearn.metrics import mean_squared_error, r2_score\n",
    "from scipy.signal import savgol_filter\n",
    "from sklearn.preprocessing import StandardScaler\n",
    "from sklearn import preprocessing\n",
    "from sklearn.model_selection import train_test_split\n",
    "from scipy.signal import savgol_filter"
   ]
  },
  {
   "cell_type": "code",
   "execution_count": 2,
   "id": "66e3b728",
   "metadata": {},
   "outputs": [],
   "source": [
    "#BPSO\n",
    "\n",
    "def pls_optimise_components(X, y, npc):\n",
    " \n",
    "    rmsecv = np.zeros(npc)\n",
    "    for i in range(1,npc+1,1):\n",
    " \n",
    "        # Simple PLS\n",
    "        pls_simple = PLSRegression(n_components=i)\n",
    "        # Fit\n",
    "        pls_simple.fit(X, y)\n",
    "        #cv = LeaveOneOut()\n",
    "        cv=10\n",
    "        # Cross-validation\n",
    "        y_cv = cross_val_predict(pls_simple, X, y, cv=cv)\n",
    " \n",
    "        # Calculate scores\n",
    "        score = r2_score(y, y_cv)\n",
    "        rmsecv[i-1] = np.sqrt(mean_squared_error(y, y_cv))\n",
    " \n",
    "    # Find the minimum of ther RMSE and its location\n",
    "    opt_comp, rmsecv_min = np.argmin(rmsecv),  rmsecv[np.argmin(rmsecv)]\n",
    " \n",
    "    return (opt_comp+1, rmsecv_min)\n",
    "\n",
    "def base_pls(X,y,n_components, return_model=False):\n",
    " \n",
    "    # Simple PLS\n",
    "    pls_simple = PLSRegression(n_components=n_components)\n",
    "    # Fit\n",
    "    pls_simple.fit(X, y)\n",
    "    cv = 10\n",
    "    # Cross-validation\n",
    "    y_cv = cross_val_predict(pls_simple, X, y, cv=cv)\n",
    " \n",
    "    # Calculate scores\n",
    "    score = r2_score(y, y_cv)\n",
    "    rmsecv = np.sqrt(mean_squared_error(y, y_cv))\n",
    " \n",
    "    if return_model == False:\n",
    "        return(y_cv, score, rmsecv)\n",
    "    else:\n",
    "        return(y_cv, score, rmsecv, pls_simple)\n",
    "    \n",
    "from sklearn import linear_model\n",
    "from sklearn.linear_model import LinearRegression\n",
    "from sklearn.metrics import r2_score\n",
    "# Create an instance \n",
    "#reg = linear_model.LinearRegression\n",
    "\n",
    "# Define objective function\n",
    "def f_per_particle(m, alpha):\n",
    "    \"\"\"Computes for the objective function per particle\n",
    "\n",
    "    Inputs\n",
    "    ------\n",
    "    m : numpy.ndarray\n",
    "        Binary mask that can be obtained from BinaryPSO, will\n",
    "        be used to mask features.\n",
    "    alpha: float (default is 0.5)\n",
    "        Constant weight for trading-off classifier performance\n",
    "        and number of features\n",
    "\n",
    "    Returns\n",
    "    -------\n",
    "    numpy.ndarray\n",
    "        Computed objective function\n",
    "    \"\"\"\n",
    "    \n",
    "    total_features = dimensions\n",
    "    # Get the subset of the features from the binary mask\n",
    "\n",
    "    #X_sav = savgol_filter(X_train, 3, polyorder=2, deriv=1)\n",
    "\n",
    "    if np.count_nonzero(m) == 0:\n",
    "        X_subset = X_train\n",
    "    else:\n",
    "        X_subset = X_train[:,m==1]\n",
    "\n",
    "    \n",
    " \n",
    "\n",
    "    # #regr = make_pipeline(StandardScaler(), SVR())\n",
    "    # #regr = make_pipeline(StandardScaler(), RandomForestRegressor(max_depth=5, random_state=1))\n",
    "    # #regr = make_pipeline(StandardScaler(), SVR(C = 0.5, degree= 1, kernel= 'rbf',epsilon= 0.16))\n",
    "    # #X1 = savgol_filter(X_subset, 3, polyorder=2, deriv=1)\n",
    "    # reg1 = GradientBoostingRegressor(random_state=1)\n",
    "    # #reg2 = RandomForestRegressor(random_state=1)\n",
    "    # opt_comp, rmsecv_min = pls_optimise_components(X_subset, y_train_oleo, 8)\n",
    "    # reg3 = PLSRegression(n_components=opt_comp)\n",
    "    # #reg3 = PLSRegression(n_components=5)\n",
    "    # #reg3 = LinearRegression()\n",
    "    # ereg = VotingRegressor(estimators=[('gb', reg1), ('plsr', reg3)])\n",
    "    # ereg = ereg.fit(X_subset, y_train_oleo)\n",
    "    # #regr.fit(X_subset, y_train_oleo)\n",
    "    # y_pred = cross_val_predict(ereg, X_subset, y_train_oleo, cv=10)\n",
    "    # #y_pred = ereg.predict(X_subset)\n",
    "    # #y_pred = regr.predict(X1)\n",
    "    # #r2cv = mean_squared_error(y_train_oleo, y_pred)\n",
    "    # r2cv = r2_score(y_train_oleo, y_pred)\n",
    "    # P = r2cv\n",
    "    # #P = (classifier.predict(X_subset) == y).mean()\n",
    "    # # Compute for the objective function\n",
    "    # j = (alpha * (1.0 - P)\n",
    "    #     + (1.0 - alpha) * (1 - (X_subset.shape[1] / total_features)))\n",
    "\n",
    "\n",
    "\n",
    "    opt_comp, rmsecv_min = pls_optimise_components(X_subset, y_train, 8)\n",
    "    predicted, r2cv, rmscv = base_pls(X_subset, y_train, opt_comp)\n",
    "    \n",
    "    P = r2cv\n",
    "    #P = (classifier.predict(X_subset) == y).mean()\n",
    "    # Compute for the objective function\n",
    "    j = (alpha * (1.0 - P)\n",
    "        + (1.0 - alpha) * (1 - (X_subset.shape[1] / total_features)))\n",
    "\n",
    "    return j\n",
    "\n",
    "def f(x, alpha=0.88):\n",
    "    \"\"\"Higher-level method to do classification in the\n",
    "    whole swarm.\n",
    "\n",
    "    Inputs\n",
    "    ------\n",
    "    x: numpy.ndarray of shape (n_particles, dimensions)\n",
    "        The swarm that will perform the search\n",
    "\n",
    "    Returns\n",
    "    -------\n",
    "    numpy.ndarray of shape (n_particles, )\n",
    "        The computed loss for each particle\n",
    "    \"\"\"\n",
    "    n_particles = x.shape[0]\n",
    "    j = [f_per_particle(x[i], alpha) for i in range(n_particles)]\n",
    "    return np.array(j)\n",
    "\n",
    "def snv(input_data):\n",
    "  \n",
    "    # Define a new array and populate it with the corrected data  \n",
    "    output_data = np.zeros_like(input_data)\n",
    "    for i in range(input_data.shape[0]):\n",
    " \n",
    "        # Apply correction\n",
    "        output_data[i,:] = (input_data[i,:] - np.mean(input_data[i,:])) / np.std(input_data[i,:])\n",
    " \n",
    "    return output_data\n",
    "\n",
    "def msc(input_data):\n",
    "     # mean centre correction\n",
    "    for i in range(input_data.shape[0]):\n",
    "        input_data[i,:] -= input_data[i,:].mean()\n",
    " \n",
    "    # Get the reference spectrum. If not given, estimate it from the mean    \n",
    "\n",
    "    # Calculate mean\n",
    "    ref = np.mean(input_data, axis=0)\n",
    "\n",
    " \n",
    "    # Define a new array and populate it with the corrected data    \n",
    "    output_data= np.zeros_like(input_data)\n",
    "    for i in range(input_data.shape[0]):\n",
    "        # Run regression\n",
    "        fit = np.polyfit(ref, input_data[i,:], 1, full=True)\n",
    "        # Apply correction\n",
    "        output_data[i,:] = (input_data[i,:] - fit[0][1]) / fit[0][0] \n",
    "    return output_data"
   ]
  },
  {
   "cell_type": "code",
   "execution_count": 3,
   "id": "a70d7488",
   "metadata": {},
   "outputs": [],
   "source": [
    "X_train = pd.read_excel(open('Data/Wheat/wheatkernel.xlsx', 'rb'),\n",
    "              sheet_name='calibration_X', header=None)\n",
    "X_test = pd.read_excel(open('Data/Wheat/wheatkernel.xlsx', 'rb'),\n",
    "              sheet_name='test_X', header=None)\n",
    "y_train = pd.read_excel(open('Data/Wheat/wheatkernel.xlsx', 'rb'),\n",
    "              sheet_name='calibration_Y', header=None)\n",
    "y_test = pd.read_excel(open('Data/Wheat/wheatkernel.xlsx', 'rb'),\n",
    "              sheet_name='test_Y', header=None)\n",
    "#df = pd.read_csv('Data/Wheat/evt5_reference_data_fromHoneCreate.csv', sep=';')"
   ]
  },
  {
   "cell_type": "code",
   "execution_count": 4,
   "id": "6e065140",
   "metadata": {},
   "outputs": [
    {
     "data": {
      "text/html": [
       "<div>\n",
       "<style scoped>\n",
       "    .dataframe tbody tr th:only-of-type {\n",
       "        vertical-align: middle;\n",
       "    }\n",
       "\n",
       "    .dataframe tbody tr th {\n",
       "        vertical-align: top;\n",
       "    }\n",
       "\n",
       "    .dataframe thead th {\n",
       "        text-align: right;\n",
       "    }\n",
       "</style>\n",
       "<table border=\"1\" class=\"dataframe\">\n",
       "  <thead>\n",
       "    <tr style=\"text-align: right;\">\n",
       "      <th></th>\n",
       "      <th>0</th>\n",
       "      <th>1</th>\n",
       "      <th>2</th>\n",
       "      <th>3</th>\n",
       "      <th>4</th>\n",
       "      <th>5</th>\n",
       "      <th>6</th>\n",
       "      <th>7</th>\n",
       "      <th>8</th>\n",
       "      <th>9</th>\n",
       "      <th>...</th>\n",
       "      <th>90</th>\n",
       "      <th>91</th>\n",
       "      <th>92</th>\n",
       "      <th>93</th>\n",
       "      <th>94</th>\n",
       "      <th>95</th>\n",
       "      <th>96</th>\n",
       "      <th>97</th>\n",
       "      <th>98</th>\n",
       "      <th>99</th>\n",
       "    </tr>\n",
       "  </thead>\n",
       "  <tbody>\n",
       "    <tr>\n",
       "      <th>0</th>\n",
       "      <td>3.479858</td>\n",
       "      <td>3.476058</td>\n",
       "      <td>3.472176</td>\n",
       "      <td>3.468331</td>\n",
       "      <td>3.464457</td>\n",
       "      <td>3.460572</td>\n",
       "      <td>3.456706</td>\n",
       "      <td>3.452831</td>\n",
       "      <td>3.449021</td>\n",
       "      <td>3.445266</td>\n",
       "      <td>...</td>\n",
       "      <td>3.304351</td>\n",
       "      <td>3.300280</td>\n",
       "      <td>3.296252</td>\n",
       "      <td>3.292211</td>\n",
       "      <td>3.288173</td>\n",
       "      <td>3.284211</td>\n",
       "      <td>3.280298</td>\n",
       "      <td>3.276471</td>\n",
       "      <td>3.272626</td>\n",
       "      <td>3.268861</td>\n",
       "    </tr>\n",
       "    <tr>\n",
       "      <th>1</th>\n",
       "      <td>3.278917</td>\n",
       "      <td>3.275375</td>\n",
       "      <td>3.271787</td>\n",
       "      <td>3.268191</td>\n",
       "      <td>3.264570</td>\n",
       "      <td>3.260946</td>\n",
       "      <td>3.257313</td>\n",
       "      <td>3.253652</td>\n",
       "      <td>3.249994</td>\n",
       "      <td>3.246374</td>\n",
       "      <td>...</td>\n",
       "      <td>3.081765</td>\n",
       "      <td>3.077966</td>\n",
       "      <td>3.074187</td>\n",
       "      <td>3.070431</td>\n",
       "      <td>3.066709</td>\n",
       "      <td>3.063015</td>\n",
       "      <td>3.059394</td>\n",
       "      <td>3.055775</td>\n",
       "      <td>3.052168</td>\n",
       "      <td>3.048617</td>\n",
       "    </tr>\n",
       "    <tr>\n",
       "      <th>2</th>\n",
       "      <td>3.294602</td>\n",
       "      <td>3.291299</td>\n",
       "      <td>3.287919</td>\n",
       "      <td>3.284469</td>\n",
       "      <td>3.280994</td>\n",
       "      <td>3.277485</td>\n",
       "      <td>3.273966</td>\n",
       "      <td>3.270439</td>\n",
       "      <td>3.266947</td>\n",
       "      <td>3.263488</td>\n",
       "      <td>...</td>\n",
       "      <td>3.095908</td>\n",
       "      <td>3.092150</td>\n",
       "      <td>3.088372</td>\n",
       "      <td>3.084617</td>\n",
       "      <td>3.080892</td>\n",
       "      <td>3.077198</td>\n",
       "      <td>3.073566</td>\n",
       "      <td>3.069950</td>\n",
       "      <td>3.066369</td>\n",
       "      <td>3.062792</td>\n",
       "    </tr>\n",
       "    <tr>\n",
       "      <th>3</th>\n",
       "      <td>3.255145</td>\n",
       "      <td>3.251761</td>\n",
       "      <td>3.248320</td>\n",
       "      <td>3.244840</td>\n",
       "      <td>3.241315</td>\n",
       "      <td>3.237757</td>\n",
       "      <td>3.234184</td>\n",
       "      <td>3.230631</td>\n",
       "      <td>3.227072</td>\n",
       "      <td>3.223516</td>\n",
       "      <td>...</td>\n",
       "      <td>3.068241</td>\n",
       "      <td>3.065193</td>\n",
       "      <td>3.062142</td>\n",
       "      <td>3.059107</td>\n",
       "      <td>3.056113</td>\n",
       "      <td>3.053168</td>\n",
       "      <td>3.050252</td>\n",
       "      <td>3.047370</td>\n",
       "      <td>3.044502</td>\n",
       "      <td>3.041626</td>\n",
       "    </tr>\n",
       "    <tr>\n",
       "      <th>4</th>\n",
       "      <td>3.311137</td>\n",
       "      <td>3.307559</td>\n",
       "      <td>3.303919</td>\n",
       "      <td>3.300265</td>\n",
       "      <td>3.296648</td>\n",
       "      <td>3.293071</td>\n",
       "      <td>3.289449</td>\n",
       "      <td>3.285809</td>\n",
       "      <td>3.282198</td>\n",
       "      <td>3.278666</td>\n",
       "      <td>...</td>\n",
       "      <td>3.140716</td>\n",
       "      <td>3.136864</td>\n",
       "      <td>3.133022</td>\n",
       "      <td>3.129227</td>\n",
       "      <td>3.125489</td>\n",
       "      <td>3.121748</td>\n",
       "      <td>3.118098</td>\n",
       "      <td>3.114458</td>\n",
       "      <td>3.110825</td>\n",
       "      <td>3.107219</td>\n",
       "    </tr>\n",
       "  </tbody>\n",
       "</table>\n",
       "<p>5 rows × 100 columns</p>\n",
       "</div>"
      ],
      "text/plain": [
       "         0         1         2         3         4         5         6   \\\n",
       "0  3.479858  3.476058  3.472176  3.468331  3.464457  3.460572  3.456706   \n",
       "1  3.278917  3.275375  3.271787  3.268191  3.264570  3.260946  3.257313   \n",
       "2  3.294602  3.291299  3.287919  3.284469  3.280994  3.277485  3.273966   \n",
       "3  3.255145  3.251761  3.248320  3.244840  3.241315  3.237757  3.234184   \n",
       "4  3.311137  3.307559  3.303919  3.300265  3.296648  3.293071  3.289449   \n",
       "\n",
       "         7         8         9   ...        90        91        92        93  \\\n",
       "0  3.452831  3.449021  3.445266  ...  3.304351  3.300280  3.296252  3.292211   \n",
       "1  3.253652  3.249994  3.246374  ...  3.081765  3.077966  3.074187  3.070431   \n",
       "2  3.270439  3.266947  3.263488  ...  3.095908  3.092150  3.088372  3.084617   \n",
       "3  3.230631  3.227072  3.223516  ...  3.068241  3.065193  3.062142  3.059107   \n",
       "4  3.285809  3.282198  3.278666  ...  3.140716  3.136864  3.133022  3.129227   \n",
       "\n",
       "         94        95        96        97        98        99  \n",
       "0  3.288173  3.284211  3.280298  3.276471  3.272626  3.268861  \n",
       "1  3.066709  3.063015  3.059394  3.055775  3.052168  3.048617  \n",
       "2  3.080892  3.077198  3.073566  3.069950  3.066369  3.062792  \n",
       "3  3.056113  3.053168  3.050252  3.047370  3.044502  3.041626  \n",
       "4  3.125489  3.121748  3.118098  3.114458  3.110825  3.107219  \n",
       "\n",
       "[5 rows x 100 columns]"
      ]
     },
     "execution_count": 4,
     "metadata": {},
     "output_type": "execute_result"
    }
   ],
   "source": [
    "#df.head()\n",
    "X_train.head()"
   ]
  },
  {
   "cell_type": "code",
   "execution_count": 5,
   "id": "1317bcbb",
   "metadata": {},
   "outputs": [
    {
     "name": "stdout",
     "output_type": "stream",
     "text": [
      "(415, 100)\n",
      "(108, 100)\n"
     ]
    }
   ],
   "source": [
    "print(X_train.shape)\n",
    "print(X_test.shape)"
   ]
  },
  {
   "cell_type": "code",
   "execution_count": 9,
   "id": "5138f242",
   "metadata": {},
   "outputs": [
    {
     "data": {
      "text/html": [
       "<div>\n",
       "<style scoped>\n",
       "    .dataframe tbody tr th:only-of-type {\n",
       "        vertical-align: middle;\n",
       "    }\n",
       "\n",
       "    .dataframe tbody tr th {\n",
       "        vertical-align: top;\n",
       "    }\n",
       "\n",
       "    .dataframe thead th {\n",
       "        text-align: right;\n",
       "    }\n",
       "</style>\n",
       "<table border=\"1\" class=\"dataframe\">\n",
       "  <thead>\n",
       "    <tr style=\"text-align: right;\">\n",
       "      <th></th>\n",
       "      <th>0</th>\n",
       "    </tr>\n",
       "  </thead>\n",
       "  <tbody>\n",
       "    <tr>\n",
       "      <th>count</th>\n",
       "      <td>523.000000</td>\n",
       "    </tr>\n",
       "    <tr>\n",
       "      <th>mean</th>\n",
       "      <td>9.958228</td>\n",
       "    </tr>\n",
       "    <tr>\n",
       "      <th>std</th>\n",
       "      <td>1.604031</td>\n",
       "    </tr>\n",
       "    <tr>\n",
       "      <th>min</th>\n",
       "      <td>6.770000</td>\n",
       "    </tr>\n",
       "    <tr>\n",
       "      <th>25%</th>\n",
       "      <td>8.917875</td>\n",
       "    </tr>\n",
       "    <tr>\n",
       "      <th>50%</th>\n",
       "      <td>9.770000</td>\n",
       "    </tr>\n",
       "    <tr>\n",
       "      <th>75%</th>\n",
       "      <td>10.738593</td>\n",
       "    </tr>\n",
       "    <tr>\n",
       "      <th>max</th>\n",
       "      <td>16.950884</td>\n",
       "    </tr>\n",
       "  </tbody>\n",
       "</table>\n",
       "</div>"
      ],
      "text/plain": [
       "                0\n",
       "count  523.000000\n",
       "mean     9.958228\n",
       "std      1.604031\n",
       "min      6.770000\n",
       "25%      8.917875\n",
       "50%      9.770000\n",
       "75%     10.738593\n",
       "max     16.950884"
      ]
     },
     "execution_count": 9,
     "metadata": {},
     "output_type": "execute_result"
    }
   ],
   "source": [
    "df_y = y_train.append(y_test, ignore_index=True)\n",
    "df_x = X_train.append(X_test, ignore_index=True)\n",
    "df_y.describe()"
   ]
  },
  {
   "cell_type": "code",
   "execution_count": 11,
   "id": "277bc535",
   "metadata": {},
   "outputs": [
    {
     "data": {
      "text/html": [
       "<div>\n",
       "<style scoped>\n",
       "    .dataframe tbody tr th:only-of-type {\n",
       "        vertical-align: middle;\n",
       "    }\n",
       "\n",
       "    .dataframe tbody tr th {\n",
       "        vertical-align: top;\n",
       "    }\n",
       "\n",
       "    .dataframe thead th {\n",
       "        text-align: right;\n",
       "    }\n",
       "</style>\n",
       "<table border=\"1\" class=\"dataframe\">\n",
       "  <thead>\n",
       "    <tr style=\"text-align: right;\">\n",
       "      <th></th>\n",
       "      <th>0</th>\n",
       "      <th>1</th>\n",
       "      <th>2</th>\n",
       "      <th>3</th>\n",
       "      <th>4</th>\n",
       "      <th>5</th>\n",
       "      <th>6</th>\n",
       "      <th>7</th>\n",
       "      <th>8</th>\n",
       "      <th>9</th>\n",
       "      <th>...</th>\n",
       "      <th>90</th>\n",
       "      <th>91</th>\n",
       "      <th>92</th>\n",
       "      <th>93</th>\n",
       "      <th>94</th>\n",
       "      <th>95</th>\n",
       "      <th>96</th>\n",
       "      <th>97</th>\n",
       "      <th>98</th>\n",
       "      <th>99</th>\n",
       "    </tr>\n",
       "  </thead>\n",
       "  <tbody>\n",
       "    <tr>\n",
       "      <th>count</th>\n",
       "      <td>523.000000</td>\n",
       "      <td>523.000000</td>\n",
       "      <td>523.000000</td>\n",
       "      <td>523.000000</td>\n",
       "      <td>523.000000</td>\n",
       "      <td>523.000000</td>\n",
       "      <td>523.000000</td>\n",
       "      <td>523.000000</td>\n",
       "      <td>523.000000</td>\n",
       "      <td>523.000000</td>\n",
       "      <td>...</td>\n",
       "      <td>523.000000</td>\n",
       "      <td>523.000000</td>\n",
       "      <td>523.000000</td>\n",
       "      <td>523.000000</td>\n",
       "      <td>523.000000</td>\n",
       "      <td>523.000000</td>\n",
       "      <td>523.000000</td>\n",
       "      <td>523.000000</td>\n",
       "      <td>523.000000</td>\n",
       "      <td>523.000000</td>\n",
       "    </tr>\n",
       "    <tr>\n",
       "      <th>mean</th>\n",
       "      <td>2.995909</td>\n",
       "      <td>2.993010</td>\n",
       "      <td>2.990086</td>\n",
       "      <td>2.987153</td>\n",
       "      <td>2.984218</td>\n",
       "      <td>2.981288</td>\n",
       "      <td>2.978372</td>\n",
       "      <td>2.975479</td>\n",
       "      <td>2.972611</td>\n",
       "      <td>2.969773</td>\n",
       "      <td>...</td>\n",
       "      <td>2.861539</td>\n",
       "      <td>2.858426</td>\n",
       "      <td>2.855327</td>\n",
       "      <td>2.852253</td>\n",
       "      <td>2.849211</td>\n",
       "      <td>2.846208</td>\n",
       "      <td>2.843245</td>\n",
       "      <td>2.840307</td>\n",
       "      <td>2.837378</td>\n",
       "      <td>2.834452</td>\n",
       "    </tr>\n",
       "    <tr>\n",
       "      <th>std</th>\n",
       "      <td>0.188013</td>\n",
       "      <td>0.187571</td>\n",
       "      <td>0.187123</td>\n",
       "      <td>0.186675</td>\n",
       "      <td>0.186226</td>\n",
       "      <td>0.185777</td>\n",
       "      <td>0.185331</td>\n",
       "      <td>0.184890</td>\n",
       "      <td>0.184457</td>\n",
       "      <td>0.184035</td>\n",
       "      <td>...</td>\n",
       "      <td>0.171266</td>\n",
       "      <td>0.170809</td>\n",
       "      <td>0.170357</td>\n",
       "      <td>0.169909</td>\n",
       "      <td>0.169468</td>\n",
       "      <td>0.169035</td>\n",
       "      <td>0.168611</td>\n",
       "      <td>0.168194</td>\n",
       "      <td>0.167786</td>\n",
       "      <td>0.167388</td>\n",
       "    </tr>\n",
       "    <tr>\n",
       "      <th>min</th>\n",
       "      <td>2.638791</td>\n",
       "      <td>2.636990</td>\n",
       "      <td>2.635159</td>\n",
       "      <td>2.633342</td>\n",
       "      <td>2.631548</td>\n",
       "      <td>2.629776</td>\n",
       "      <td>2.627980</td>\n",
       "      <td>2.626175</td>\n",
       "      <td>2.624344</td>\n",
       "      <td>2.622520</td>\n",
       "      <td>...</td>\n",
       "      <td>2.522153</td>\n",
       "      <td>2.519497</td>\n",
       "      <td>2.516825</td>\n",
       "      <td>2.514177</td>\n",
       "      <td>2.511523</td>\n",
       "      <td>2.508901</td>\n",
       "      <td>2.506269</td>\n",
       "      <td>2.503634</td>\n",
       "      <td>2.501001</td>\n",
       "      <td>2.498414</td>\n",
       "    </tr>\n",
       "    <tr>\n",
       "      <th>25%</th>\n",
       "      <td>2.843292</td>\n",
       "      <td>2.840652</td>\n",
       "      <td>2.838031</td>\n",
       "      <td>2.835476</td>\n",
       "      <td>2.832919</td>\n",
       "      <td>2.830409</td>\n",
       "      <td>2.827918</td>\n",
       "      <td>2.825463</td>\n",
       "      <td>2.823058</td>\n",
       "      <td>2.820655</td>\n",
       "      <td>...</td>\n",
       "      <td>2.722787</td>\n",
       "      <td>2.720385</td>\n",
       "      <td>2.717951</td>\n",
       "      <td>2.715295</td>\n",
       "      <td>2.712576</td>\n",
       "      <td>2.710034</td>\n",
       "      <td>2.707323</td>\n",
       "      <td>2.704371</td>\n",
       "      <td>2.701572</td>\n",
       "      <td>2.699050</td>\n",
       "    </tr>\n",
       "    <tr>\n",
       "      <th>50%</th>\n",
       "      <td>2.982492</td>\n",
       "      <td>2.979407</td>\n",
       "      <td>2.976281</td>\n",
       "      <td>2.973498</td>\n",
       "      <td>2.970721</td>\n",
       "      <td>2.967951</td>\n",
       "      <td>2.965202</td>\n",
       "      <td>2.962459</td>\n",
       "      <td>2.959708</td>\n",
       "      <td>2.956274</td>\n",
       "      <td>...</td>\n",
       "      <td>2.850924</td>\n",
       "      <td>2.847887</td>\n",
       "      <td>2.845430</td>\n",
       "      <td>2.842974</td>\n",
       "      <td>2.840542</td>\n",
       "      <td>2.837878</td>\n",
       "      <td>2.834984</td>\n",
       "      <td>2.832121</td>\n",
       "      <td>2.829268</td>\n",
       "      <td>2.826407</td>\n",
       "    </tr>\n",
       "    <tr>\n",
       "      <th>75%</th>\n",
       "      <td>3.128101</td>\n",
       "      <td>3.124765</td>\n",
       "      <td>3.121396</td>\n",
       "      <td>3.118045</td>\n",
       "      <td>3.114924</td>\n",
       "      <td>3.111825</td>\n",
       "      <td>3.108761</td>\n",
       "      <td>3.105748</td>\n",
       "      <td>3.102759</td>\n",
       "      <td>3.099569</td>\n",
       "      <td>...</td>\n",
       "      <td>2.984951</td>\n",
       "      <td>2.981271</td>\n",
       "      <td>2.977667</td>\n",
       "      <td>2.974121</td>\n",
       "      <td>2.970518</td>\n",
       "      <td>2.967026</td>\n",
       "      <td>2.964230</td>\n",
       "      <td>2.960958</td>\n",
       "      <td>2.957705</td>\n",
       "      <td>2.954436</td>\n",
       "    </tr>\n",
       "    <tr>\n",
       "      <th>max</th>\n",
       "      <td>3.502061</td>\n",
       "      <td>3.498685</td>\n",
       "      <td>3.495242</td>\n",
       "      <td>3.491803</td>\n",
       "      <td>3.488400</td>\n",
       "      <td>3.484926</td>\n",
       "      <td>3.481374</td>\n",
       "      <td>3.477843</td>\n",
       "      <td>3.474308</td>\n",
       "      <td>3.470836</td>\n",
       "      <td>...</td>\n",
       "      <td>3.334358</td>\n",
       "      <td>3.330844</td>\n",
       "      <td>3.327304</td>\n",
       "      <td>3.323814</td>\n",
       "      <td>3.320332</td>\n",
       "      <td>3.316877</td>\n",
       "      <td>3.313466</td>\n",
       "      <td>3.310083</td>\n",
       "      <td>3.306721</td>\n",
       "      <td>3.303349</td>\n",
       "    </tr>\n",
       "  </tbody>\n",
       "</table>\n",
       "<p>8 rows × 100 columns</p>\n",
       "</div>"
      ],
      "text/plain": [
       "               0           1           2           3           4           5   \\\n",
       "count  523.000000  523.000000  523.000000  523.000000  523.000000  523.000000   \n",
       "mean     2.995909    2.993010    2.990086    2.987153    2.984218    2.981288   \n",
       "std      0.188013    0.187571    0.187123    0.186675    0.186226    0.185777   \n",
       "min      2.638791    2.636990    2.635159    2.633342    2.631548    2.629776   \n",
       "25%      2.843292    2.840652    2.838031    2.835476    2.832919    2.830409   \n",
       "50%      2.982492    2.979407    2.976281    2.973498    2.970721    2.967951   \n",
       "75%      3.128101    3.124765    3.121396    3.118045    3.114924    3.111825   \n",
       "max      3.502061    3.498685    3.495242    3.491803    3.488400    3.484926   \n",
       "\n",
       "               6           7           8           9   ...          90  \\\n",
       "count  523.000000  523.000000  523.000000  523.000000  ...  523.000000   \n",
       "mean     2.978372    2.975479    2.972611    2.969773  ...    2.861539   \n",
       "std      0.185331    0.184890    0.184457    0.184035  ...    0.171266   \n",
       "min      2.627980    2.626175    2.624344    2.622520  ...    2.522153   \n",
       "25%      2.827918    2.825463    2.823058    2.820655  ...    2.722787   \n",
       "50%      2.965202    2.962459    2.959708    2.956274  ...    2.850924   \n",
       "75%      3.108761    3.105748    3.102759    3.099569  ...    2.984951   \n",
       "max      3.481374    3.477843    3.474308    3.470836  ...    3.334358   \n",
       "\n",
       "               91          92          93          94          95          96  \\\n",
       "count  523.000000  523.000000  523.000000  523.000000  523.000000  523.000000   \n",
       "mean     2.858426    2.855327    2.852253    2.849211    2.846208    2.843245   \n",
       "std      0.170809    0.170357    0.169909    0.169468    0.169035    0.168611   \n",
       "min      2.519497    2.516825    2.514177    2.511523    2.508901    2.506269   \n",
       "25%      2.720385    2.717951    2.715295    2.712576    2.710034    2.707323   \n",
       "50%      2.847887    2.845430    2.842974    2.840542    2.837878    2.834984   \n",
       "75%      2.981271    2.977667    2.974121    2.970518    2.967026    2.964230   \n",
       "max      3.330844    3.327304    3.323814    3.320332    3.316877    3.313466   \n",
       "\n",
       "               97          98          99  \n",
       "count  523.000000  523.000000  523.000000  \n",
       "mean     2.840307    2.837378    2.834452  \n",
       "std      0.168194    0.167786    0.167388  \n",
       "min      2.503634    2.501001    2.498414  \n",
       "25%      2.704371    2.701572    2.699050  \n",
       "50%      2.832121    2.829268    2.826407  \n",
       "75%      2.960958    2.957705    2.954436  \n",
       "max      3.310083    3.306721    3.303349  \n",
       "\n",
       "[8 rows x 100 columns]"
      ]
     },
     "execution_count": 11,
     "metadata": {},
     "output_type": "execute_result"
    }
   ],
   "source": [
    "df_x.describe()"
   ]
  },
  {
   "cell_type": "code",
   "execution_count": 109,
   "id": "7c3b8119",
   "metadata": {},
   "outputs": [
    {
     "data": {
      "text/plain": [
       "<seaborn.axisgrid.FacetGrid at 0x282a3c1bc10>"
      ]
     },
     "execution_count": 109,
     "metadata": {},
     "output_type": "execute_result"
    },
    {
     "data": {
      "image/png": "[encoded data removed]",
      "text/plain": [
       "<Figure size 402.375x360 with 1 Axes>"
      ]
     },
     "metadata": {
      "needs_background": "light"
     },
     "output_type": "display_data"
    }
   ],
   "source": [
    "import seaborn as sns\n",
    "sns.displot(y_train)"
   ]
  },
  {
   "cell_type": "code",
   "execution_count": 110,
   "id": "03a0724c",
   "metadata": {},
   "outputs": [
    {
     "data": {
      "text/plain": [
       "<seaborn.axisgrid.FacetGrid at 0x282c3814250>"
      ]
     },
     "execution_count": 110,
     "metadata": {},
     "output_type": "execute_result"
    },
    {
     "data": {
      "image/png": "[encoded data removed]",
      "text/plain": [
       "<Figure size 402.375x360 with 1 Axes>"
      ]
     },
     "metadata": {
      "needs_background": "light"
     },
     "output_type": "display_data"
    }
   ],
   "source": [
    "sns.displot(y_test)"
   ]
  },
  {
   "cell_type": "code",
   "execution_count": 111,
   "id": "299b7701",
   "metadata": {},
   "outputs": [
    {
     "data": {
      "image/png": "[encoded data removed]",
      "text/plain": [
       "<Figure size 576x324 with 1 Axes>"
      ]
     },
     "metadata": {
      "needs_background": "light"
     },
     "output_type": "display_data"
    }
   ],
   "source": [
    "wl = np.arange(0, 100, 1)\n",
    "plt.figure(figsize=(8, 4.5))\n",
    "with plt.style.context('ggplot'):\n",
    "    plt.plot(wl, X_train.values.T)\n",
    "    plt.xlabel(\"Wavelengths (nm)\")\n",
    "    plt.ylabel(\"Absorbance\")\n",
    "    plt.show()"
   ]
  },
  {
   "cell_type": "code",
   "execution_count": null,
   "id": "7e8f0408",
   "metadata": {},
   "outputs": [],
   "source": []
  },
  {
   "cell_type": "code",
   "execution_count": 112,
   "id": "c0c84a51",
   "metadata": {},
   "outputs": [],
   "source": [
    "X_train = savgol_filter(X_train, 3, polyorder=2, deriv=1)\n",
    "X_test = savgol_filter(X_test, 3, polyorder=2, deriv=1)\n",
    "\n",
    "X_train = snv(X_train)\n",
    "X_test = snv(X_test)"
   ]
  },
  {
   "cell_type": "code",
   "execution_count": 113,
   "id": "955674db",
   "metadata": {},
   "outputs": [
    {
     "data": {
      "image/png": "[encoded data removed]",
      "text/plain": [
       "<Figure size 576x324 with 1 Axes>"
      ]
     },
     "metadata": {
      "needs_background": "light"
     },
     "output_type": "display_data"
    }
   ],
   "source": [
    "wl = np.arange(0, 100, 1)\n",
    "plt.figure(figsize=(8, 4.5))\n",
    "with plt.style.context('ggplot'):\n",
    "    plt.plot(wl, X_train.T)\n",
    "    plt.xlabel(\"Wavelengths (nm)\")\n",
    "    plt.ylabel(\"Absorbance\")\n",
    "    plt.show()"
   ]
  },
  {
   "cell_type": "code",
   "execution_count": 76,
   "id": "11cbadd5",
   "metadata": {},
   "outputs": [
    {
     "name": "stdout",
     "output_type": "stream",
     "text": [
      "[0.72393526 0.13281835 0.07014732 0.01997479 0.01474766]\n"
     ]
    }
   ],
   "source": [
    "import numpy as np\n",
    "from sklearn.decomposition import PCA\n",
    "from sklearn.preprocessing import StandardScaler\n",
    "\n",
    "\n",
    "\n",
    "pca = PCA(n_components=5)\n",
    "T = pca.fit_transform(X_train)\n",
    "df_pca = pd.DataFrame(T)\n",
    "df_pca.rename(columns={0: 'PC1', 1: 'PC2', 2: 'PC3', 3: 'PC4', 4: 'PC5'}, inplace=True)\n",
    "\n",
    "print(pca.explained_variance_ratio_)\n"
   ]
  },
  {
   "cell_type": "code",
   "execution_count": 197,
   "id": "e0413042",
   "metadata": {},
   "outputs": [
    {
     "data": {
      "application/vnd.plotly.v1+json": {
       "config": {
        "plotlyServerURL": "https://plot.ly"
       },
       "data": [
        {
         "hoverlabel": {
          "namelength": 0
         },
         "hovertemplate": "PC1=%{x}<br>PC2=%{y}",
         "legendgroup": "",
         "marker": {
          "color": "#636efa",
          "symbol": "circle"
         },
         "mode": "markers",
         "name": "",
         "showlegend": false,
         "type": "scatter",
         "x": [
          0.06489278010983213,
          -1.3904924362781432,
          -1.5561959684246844,
          -1.5359837669874874,
          -0.25994719246426806,
          0.2822756061926655,
          -1.225063417952322,
          0.23430372505030594,
          -1.4042758850703874,
          -0.08125769734215807,
          1.6514816543814566,
          -0.16628198556077575,
          1.6603381488649351,
          -0.6485026079274862,
          -1.5726178433480815,
          0.3556083089112646,
          0.6004896176400479,
          1.342339099700147,
          -0.9003639747616724,
          1.1521832200218378,
          1.0532628115433855,
          0.1496139034877798,
          -0.24868113013056692,
          0.2334808731730681,
          -1.3114278405603323,
          -0.0749040452328278,
          -0.3298347156059831,
          0.03304693350899197,
          0.7385146289240203,
          -1.0902292493914658,
          1.0617360204748982,
          1.6280153581238517,
          -0.4412587585694916,
          2.1001664857564872,
          -0.22921560501473148,
          0.32253316248251845,
          1.7026543304613355,
          -0.7340600631177658,
          1.08833330497331,
          0.9990809348941886,
          -0.6612743732843145,
          3.3316559556190346,
          0.04893699482932673,
          -0.011337243945939908,
          -0.45409507821351885,
          1.066316324267537,
          0.8459240485823226,
          0.21914596183390564,
          -0.6597142829726153,
          0.7096490770390342,
          -0.01936256341836897,
          -0.9794856844148782,
          1.4665084901770171,
          0.5269417871161386,
          -0.5875275451638015,
          -0.5262100203965713,
          1.5367397783514372,
          0.5464867388626691,
          -0.7190529823661107,
          -0.04060304593753049,
          -0.9377001411065361,
          0.008170015823070064,
          0.9653455220334132,
          0.7489725070635207,
          -0.370428767724104,
          -0.029463112970391087,
          -0.6928065373888099,
          0.26916757162153093,
          0.5448089980065404,
          -0.09160408702610406,
          0.7509012962860447,
          0.49139787557849046,
          0.6857145566244472,
          0.8509521629470088,
          0.8404183579245968,
          0.6111619852601519,
          0.03754763739296673,
          -0.36070351785010996,
          -0.4243762316470125,
          0.507564351315395,
          -0.6210865807525667,
          -0.030621137676053935,
          0.6541465799152179,
          0.03372861086790151,
          -0.7283156782392602,
          2.2457018756331975,
          -1.1413647712699768,
          -0.42674209581966277,
          -0.7941112484835224,
          -0.16451809052519334,
          -0.7855658599812665,
          0.3396164365922126,
          -1.7643503833780605,
          0.16510329495854606,
          -0.43190840999529073,
          0.3965258126656349,
          -1.2378312520264687,
          0.06122180042800477,
          0.3140924772653827,
          -0.22038869765911062,
          -1.4119571540433427,
          0.9566111252899673,
          1.8588280040034257,
          0.29995752957641486,
          -1.2346949598160164,
          0.11762705354283155,
          0.6866243212964206,
          1.1567824167275647,
          0.060611456513382504,
          -0.8264367827736704,
          0.5185030518187539,
          0.5003223820462106,
          0.17372424745101236,
          -2.153858202093693,
          0.85249169643948,
          -0.5530392566337127,
          1.4897096385611341,
          0.4871014186461159,
          0.9075551031117696,
          0.7495435094715915,
          0.14296391746431994,
          0.34498646819189477,
          -0.7543587794805665,
          0.27413686759162675,
          -0.6555885083350482,
          0.5607020303721146,
          -0.4318501580224301,
          0.0059111583145121565,
          -0.41279331574752676,
          -0.6953514228750917,
          -0.32839783109351894,
          -1.4335588669577415,
          0.5325834126029819,
          -0.4007700604204435,
          0.19038736299412654,
          2.452641125064057,
          0.8849201714900496,
          0.23039158888752856,
          1.0835388623929911,
          0.8019357050979152,
          0.6245328657234582,
          -0.6484145266919028,
          0.9468187142929053,
          0.5320065294392372,
          0.448781188805821,
          0.11663220997301801,
          -0.7095048052485571,
          -1.1457996752739734,
          2.5541613616391863,
          -0.6086044275123186,
          -0.0007047852487617685,
          0.5767875142394525,
          0.22965851030927578,
          -0.5847974195436241,
          -0.2991152563475233,
          1.283866866328012,
          1.3843568784391498,
          0.03514326652763039,
          0.1001787552425417,
          0.436625446089536,
          -1.2702061603996446,
          0.14949489740094643,
          2.5105204123960028,
          0.7742441990910283,
          0.2159161186068691,
          -0.09261565288702997,
          0.8300010489492297,
          -1.0724391334164498,
          -0.4012494326089041,
          0.6354851696921557,
          0.576539524505696,
          0.5720614390784481,
          0.5470287158608592,
          0.24227787090688419,
          -1.879836286434446,
          -0.5270885408542141,
          -1.2324737362392977,
          0.4498663763169654,
          -0.03666774306180367,
          1.0057586735251107,
          -0.16135482974863133,
          1.0933571321407767,
          0.17111324297568326,
          -0.453256736504296,
          0.4579495882953767,
          0.7970204580090008,
          -0.5552083261877067,
          -0.8605537287102273,
          -0.461082239125299,
          -0.9496210178901753,
          1.462065624722301,
          0.015409823658784115,
          0.05127097353394111,
          0.09486226879975687,
          0.14280737992715228,
          1.5849012115385257,
          -0.7369749466843738,
          1.8135270416166145,
          -0.4294301314175822,
          -1.0799815171379656,
          1.2983313337933475,
          -0.3246597006725461,
          0.0548819456456232,
          -0.9048599816081428,
          0.8125777099149908,
          -1.1580454625910073,
          -0.9319149967199577,
          2.56919621225112,
          1.3134629763259644,
          0.6262316767637608,
          -0.5299017223740078,
          1.0898551283624844,
          -0.10596520495207286,
          -0.9956519541601899,
          1.1711546878362036,
          -1.1652434932642708,
          1.39033636150781,
          -1.1645347945941336,
          -0.44282520589812974,
          -0.7004128778611896,
          -0.30603562870155965,
          0.5102424560954429,
          0.4704375486775616,
          0.031861597837911655,
          -0.6180185667765499,
          0.8675335646998503,
          -0.24279769672821208,
          2.5460544561100176,
          -0.44405754602617636,
          0.7693777680917685,
          -1.7917665399950922,
          0.5419519484948806,
          -1.2037769861379763,
          -0.28166021472757086,
          -0.7131210948923371,
          -1.0747031878664965,
          0.7363195912747902,
          -0.06661242661414386,
          0.27722099914967885,
          2.561870852660253,
          -0.27304943170170703,
          1.8360045869265578,
          1.4110351913958508,
          -0.09268025057184533,
          -1.2180480053025171,
          -0.7255872243920128,
          0.6411080960103483,
          -0.244991462991005,
          -0.01411645070044478,
          -0.30948746308036795,
          1.5327703803552333,
          -0.1539810520415197,
          0.8512326434711733,
          -0.587761623368383,
          -0.08102659614473523,
          -0.7312544693689713,
          0.10690085684039578,
          -0.2932559698702806,
          -0.5399711564220375,
          0.6528001942490784,
          1.5528405855541525,
          0.5349764501151024,
          0.10393905075970546,
          -0.18568907719126926,
          1.2108684714672258,
          2.3435056203053204,
          -0.47087571689636865,
          -0.4498680860519968,
          0.44413753818420976,
          0.23967786847841452,
          -0.33101697493415344,
          -0.24276756816474582,
          0.515101839310237,
          -0.567006486888535,
          -0.5487500276756482,
          -0.6088140008776985,
          0.26175394059227536,
          -0.0994053972437524,
          0.1985324124439456,
          0.4046158437843646,
          -0.6149066042212765,
          -0.6034816070295016,
          -0.5810762835747032,
          0.8250164575058742,
          2.2743870184283983,
          -0.7655138556969793,
          -0.06870178856694219,
          -0.8699583873975538,
          -0.35400881244881666,
          0.29913579206659563,
          -0.06620906676394644,
          1.0352466888378702,
          -0.6220466061677313,
          1.026458880322231,
          0.10223983081587396,
          0.14861203673919077,
          -0.2613640848395532,
          -0.42482349350565085,
          0.693807801141219,
          -0.32379841303193097,
          -0.13305641088153417,
          0.17040274772663191,
          1.0250232535244548,
          -0.9236704074928431,
          -0.5423088461111668,
          -0.3831274404998282,
          -0.7091248984048137,
          0.48916734207839796,
          -0.43033926807559825,
          -0.5437596647399362,
          0.7791729526171143,
          0.3290871785321359,
          0.42212953747991094,
          -0.9390188153155125,
          -0.2959220548701627,
          1.3623757745046488,
          -0.7566493358877293,
          0.32987964175337636,
          0.4179642631646976,
          0.26892905368953596,
          0.6239762786567064,
          -0.5613548920764504,
          -1.426524345275801,
          -0.2485610723899643,
          -0.6157410637552676,
          -0.04281288345772149,
          0.16914112524706604,
          -0.3002421648902523,
          0.019903385348457772,
          -0.29018736326039685,
          1.1752260565865154,
          -0.5179281072308494,
          0.2240909674688133,
          -0.05774977974375847,
          0.6634990691912371,
          -0.6173207802892202,
          0.3047741661174272,
          -0.6843415001845268,
          0.7714725062074645,
          0.0009247417360691458,
          0.7280214283312493,
          0.4841002948953019,
          0.19953136475127434,
          0.19147439330895905,
          -0.31444925116075945,
          0.3143796893059207,
          -1.3987590474004572,
          0.15943381368537793,
          -0.4116301222774524,
          0.2399633019864745,
          -0.9438258938146518,
          -0.47604487431312104,
          -0.6467691532742207,
          -0.6923246925546517,
          -0.9372416436207549,
          -0.33302591609932186,
          1.4961345851906012,
          -0.6431412042796879,
          -0.9307972538377413,
          0.14092189386680937,
          0.20146018181533057,
          -0.23747159639226612,
          -0.5323107920361467,
          -0.4420192581053153,
          -0.013435719998617543,
          -0.16463499840528342,
          -2.1652614863364166,
          0.5160158984191328,
          0.9079299525445884,
          -0.3874589852353939,
          -1.3611866912462423,
          -0.8044584313040213,
          -0.8031087875478351,
          1.142434536238965,
          -0.09879901869113088,
          -0.4300323363591609,
          0.4222419555114469,
          -1.5168418584395913,
          0.5776502277223637,
          -0.8021023632330266,
          -0.007493982593973219,
          -0.2164248979984146,
          0.20017452306960826,
          0.5312953827982021,
          0.3132247520345818,
          -0.8091393702613465,
          -0.7591102985594632,
          -1.7587566475901653,
          -0.707711123766689,
          -0.47367625032787297,
          -1.2087724835464306,
          0.350015163807169,
          0.3394128275211348,
          -0.4877996578055001,
          -0.9468310451370794,
          -0.008566219176206943,
          -1.9147028437975109,
          -1.4081947355229694,
          -0.6866538578456522,
          -0.6693479938801785,
          -0.7260777919012001,
          -1.2191209428250607,
          -0.741678130772019,
          -1.1766488584010903,
          -1.6430793588737926,
          -2.058596775866187,
          -1.5650509126472207,
          -0.833922121829546,
          -1.7239292046927044,
          -0.5519348447542499,
          -1.0668489258874263,
          -0.39756955326927185,
          -0.12294622237261135,
          -1.1365019539443901,
          -0.3189996013745801
         ],
         "xaxis": "x",
         "y": [
          -0.2250868351683321,
          -0.2878606111757167,
          -0.42816614926420343,
          0.152354248483679,
          -0.14572007435735065,
          0.025794414107907903,
          -0.19902587499768049,
          -0.29806033124865694,
          -0.3239205179364333,
          -0.32711304697278626,
          -0.6758912197757756,
          -0.04256896693794352,
          0.6475346690744465,
          -0.6864679487915127,
          -0.14341176888258644,
          0.5756356927982172,
          -0.23184870801833135,
          -0.05002038322385891,
          -0.06756764012531523,
          0.14748649097034658,
          -0.3827573997572389,
          -0.07289715679616227,
          0.14494239546762455,
          -0.1810131021585168,
          0.07010797148971899,
          -0.09616580414325772,
          -0.07534363205252749,
          -0.2383083416818631,
          -0.04963837863973539,
          -0.012081331271582315,
          0.2542931757424211,
          0.20688133157627897,
          -0.4450299687721356,
          -0.16421354343908884,
          -0.019946280058110367,
          0.1975322824687594,
          -0.21972479376891357,
          -0.6364649118666973,
          0.16644304808171312,
          -0.13845345132586787,
          0.0015851488465124539,
          -0.011501567575830913,
          -0.11926620639293017,
          0.06581965473182486,
          -0.006188107911800184,
          0.0805672104145111,
          0.11717442397905209,
          0.20806062987457394,
          0.166082540285901,
          -0.22790890715443377,
          -0.3466289799260495,
          0.03660405687114637,
          0.26207306087187027,
          -0.12604308117642657,
          -0.026204943521802727,
          -0.26125815582314377,
          -0.1260097835441188,
          0.14522689622537227,
          0.0996778568318656,
          -0.15345883105367328,
          -0.017732508074259485,
          -0.17842690887012977,
          -0.0036628245749106636,
          0.031984424191374046,
          -0.20035281170872474,
          0.14057201775715095,
          -0.1686395059610781,
          0.2894737050285948,
          0.09945529049740387,
          0.33952729781065855,
          0.23654916234895548,
          -0.04239984637343921,
          0.3107670022241518,
          -0.016491405104736758,
          -0.20422081226482522,
          0.3257811618867824,
          0.38007229854649516,
          0.06477641129789918,
          -0.014543081941686917,
          0.11459639471258952,
          -0.010607455504356109,
          -0.27369307557376815,
          -0.08467354994001533,
          -0.09477332377282972,
          0.048582564545224874,
          -0.2820257913964312,
          -0.11002141419236515,
          -0.0753921423465881,
          -0.05817785951897892,
          -0.3686150543513225,
          -0.22177279045773043,
          -0.02923861579682238,
          -0.2356244954124775,
          -0.1310236572098552,
          -0.2629292974642954,
          -0.33319402612134785,
          -0.07876351607434101,
          -0.3972642319579317,
          -0.0994004578773333,
          -0.5441246849531196,
          -0.4114334697025844,
          0.10382601361224367,
          -0.42519818802705134,
          -0.16759941441204176,
          -0.21843191007682183,
          0.00012162369722378864,
          0.08799818051470167,
          -0.21678476726155887,
          0.15280230500021794,
          0.04540324388931879,
          -0.383616707182268,
          0.5610170519622876,
          0.06788105238812629,
          -0.05396104507311869,
          -0.23058554738989265,
          0.042658277348547526,
          -0.20254934924093412,
          -0.40389986563330565,
          0.09117242430036855,
          0.03875006209999589,
          0.045664507497851635,
          -0.23651021336331257,
          0.10706396845188763,
          -0.22087731736829924,
          -0.031452737004231436,
          -0.34921010228477595,
          -0.21151772516793388,
          0.09046609844916052,
          -0.050301789809514975,
          0.29765867674659974,
          -0.08781365652768625,
          -0.12048567677500963,
          -0.0956606214503726,
          -0.23585200978249898,
          -0.17109779310151854,
          -0.23211646382443402,
          0.042294559025792884,
          -0.15279691313570537,
          0.03481856196739959,
          -0.19462256713265635,
          0.08888235300952614,
          -0.13683284431042989,
          -0.1852524096823796,
          -0.557293128816499,
          0.08673196121382734,
          -0.10940299114252434,
          0.13528722499151125,
          0.12684924896504401,
          -0.0027536256706929825,
          0.13687409264453496,
          -0.2373117015527122,
          -0.23378863845138445,
          -0.20516638309248472,
          0.11255534996052614,
          -0.013294550286782713,
          0.07273918780150429,
          0.35735675090315744,
          -0.31766386810584374,
          0.020048112044669424,
          -0.07727422656339854,
          0.2183095045296902,
          0.225952724206235,
          -0.3484093522870882,
          0.18789775513691798,
          0.12509195901132802,
          -0.10918978582184294,
          0.10524488382732088,
          -0.023890570328188455,
          -0.030773480872532104,
          -0.12457163543072967,
          0.31593418197506606,
          0.15306672180661754,
          0.06430357863306337,
          0.24410232133977708,
          -0.15024025660350138,
          -0.29728487058169456,
          -0.04347132639244602,
          0.008658759596502304,
          0.292562372850935,
          -0.05195785316941738,
          -0.01419829317569519,
          -0.14754363603741943,
          -0.0885361921874564,
          -0.023947534295572198,
          0.03212705987856492,
          -0.17954572033803862,
          0.1013035727526997,
          -0.20445820651232322,
          0.5953865223849447,
          -0.03707008082080161,
          0.5525360542279497,
          0.0817198890646866,
          -0.15103688508981308,
          0.17907508340586203,
          0.2055289957266462,
          -0.1341388100083115,
          -0.06998797571627112,
          -0.20850470507052712,
          0.05179854302443289,
          -0.08402165446941816,
          -0.035633003526104844,
          -0.18474757590159904,
          0.45611736470163783,
          0.08363362726921554,
          -0.12341633471400604,
          0.43815315702432633,
          0.03288933013885121,
          -0.21257789041545688,
          0.14448653207100906,
          -0.2637997847911822,
          0.1661085620016444,
          0.027297717682756583,
          0.39936093292218117,
          -0.14285990782046237,
          0.07460250666606713,
          -0.05329694415359155,
          0.24522332696707957,
          -0.30667481277303843,
          0.008817072105385716,
          0.0669475796375794,
          -0.07996738040663649,
          -0.08667783400375666,
          0.17920761738727128,
          0.21162332121510377,
          -0.19908655386236634,
          0.02509101067146092,
          -0.31182594571266714,
          0.7748369474449087,
          0.46582925143225773,
          -0.2949419594957615,
          -0.33876782846061065,
          0.04481532286795404,
          0.30683401425686224,
          -0.07679462060493789,
          0.06931703578243475,
          0.2778222664570663,
          0.09778741940428748,
          -0.20278011089621814,
          0.6751446427494161,
          -0.47769979956807257,
          0.0004882178126557062,
          -0.17853035079802584,
          0.12258853323900079,
          -0.06116317506396182,
          0.13288917454426807,
          -0.03979925702821605,
          -0.25115416407937724,
          0.02855026189041517,
          0.028056588170205125,
          -0.4609864191498224,
          -0.1427298017222542,
          -0.04225213347222626,
          0.282812545900257,
          -0.12462855353486203,
          0.15723420600375762,
          -0.3884199897545319,
          -0.1465275441301467,
          -0.1550207814051339,
          0.16380636225740552,
          0.24538772311104617,
          -0.09874515925340666,
          -0.5291128041421584,
          0.042376217449823644,
          0.02981777291802458,
          -0.05676065073163742,
          -0.2166059372244329,
          0.13484336741822764,
          -0.14843845271783246,
          0.1770894919182293,
          0.07322593865913977,
          -0.21764666844859837,
          -0.23030721322206216,
          -0.09779144648033268,
          0.033482065099256615,
          0.015497791983224178,
          0.28352101830783916,
          0.07859883031881361,
          0.3535104716729243,
          0.3137984257816181,
          -0.16997109109848194,
          -0.0011064336206867025,
          0.04053334431912047,
          0.017934517513038366,
          0.03048612045077608,
          0.13749395237118126,
          0.14426284269204775,
          0.05792511694491029,
          0.06598267957643826,
          -0.1437960363920114,
          -0.050414957206335854,
          0.3326756165589917,
          -0.18320638037334772,
          0.06704331061579338,
          -0.13313589418326546,
          -0.11735416677971976,
          -0.05489581300256405,
          0.06067175003617741,
          0.017087491453348435,
          -0.15568584062168395,
          0.17000820721248242,
          0.14335654135125506,
          0.1915190871744836,
          -0.024605285905919375,
          -0.0327414840197901,
          -0.09799709748955432,
          -0.2835539422509318,
          0.06758674724897502,
          -0.15303037803054587,
          0.16558587526489024,
          0.20558797468565507,
          -0.19318822041105332,
          -0.17952768842033823,
          0.12595357718142708,
          -0.0035830295528392,
          0.26279579714532014,
          0.013052790367242844,
          0.062155347186069146,
          -0.19073471755331475,
          0.12987400424591927,
          0.10320783603982252,
          -0.1545114288239533,
          0.11821944295860304,
          0.3243929804124919,
          0.0916262419505635,
          0.2343153265685588,
          0.04730938749445511,
          -0.1577807029211653,
          0.01072798791497431,
          -0.30108755848895935,
          0.05005145231426322,
          0.298607886172967,
          -0.09428697800707302,
          0.2889835411243654,
          0.06883514004390867,
          0.4427074259819589,
          -0.2475364478685677,
          0.6644295182995108,
          0.004720102760242925,
          -0.1837587649973424,
          0.1734880152949792,
          0.15311989810067667,
          -0.08788939079644763,
          0.3689305757867458,
          -0.027580459048245503,
          -0.20594553978309474,
          -0.12889281402767447,
          -0.05235907897474543,
          0.45556191211622243,
          0.17126842841888154,
          0.47671643637541333,
          -0.0019269874961576514,
          0.13453053792461858,
          0.24398391424179747,
          0.1665615000771689,
          -0.20851600455998542,
          0.08428230035022115,
          0.3885718265697695,
          0.26553675977192515,
          0.046882882453145154,
          0.11615467438128244,
          0.27188959315624744,
          0.08575970685292346,
          -0.25125273570653944,
          0.0720134879941046,
          0.5221705721604751,
          0.14212208993184516,
          0.031489306192201645,
          0.5878747549681799,
          -0.019371409373520006,
          -0.011557342844695865,
          0.40274941556327776,
          -0.10564109572767283,
          0.17818055662525015,
          -0.05401760500308279,
          -0.03980916536016199,
          0.05158267903996108,
          0.012106829088702321,
          0.020892932400237114,
          0.23547766248576069,
          -0.3135432648144051,
          0.2606406630181195,
          -0.06016654020094559,
          0.3050594136496989,
          -0.11437715707453855,
          0.21158815028444397,
          0.09502177669551029,
          0.5418444647218055,
          0.013060136583116144,
          -0.0313056572416777,
          -0.09672545014109546,
          0.10814626188372284,
          0.030904062701174878,
          0.2525327600562335,
          0.07398592412506905,
          0.19455166049297876,
          0.03566793802842405,
          -0.05108356062421512,
          0.13231037426536565,
          0.10847326110302995,
          -0.30175735205614607,
          0.19386901497765271,
          0.009064291653745386,
          -0.5327156339833304,
          0.10521954914598369,
          0.04570056743289205,
          -0.1124617231570668,
          -0.13061296754850713,
          0.19594650029555238,
          0.3549492908852985,
          0.09552227402078084,
          0.062132000348854445,
          0.19354008318812213,
          0.03726412351763557,
          0.08448789526784087,
          0.06523247460809252
         ],
         "yaxis": "y"
        }
       ],
       "layout": {
        "height": 600,
        "legend": {
         "tracegroupgap": 0
        },
        "margin": {
         "t": 60
        },
        "template": {
         "data": {
          "bar": [
           {
            "error_x": {
             "color": "#2a3f5f"
            },
            "error_y": {
             "color": "#2a3f5f"
            },
            "marker": {
             "line": {
              "color": "#E5ECF6",
              "width": 0.5
             }
            },
            "type": "bar"
           }
          ],
          "barpolar": [
           {
            "marker": {
             "line": {
              "color": "#E5ECF6",
              "width": 0.5
             }
            },
            "type": "barpolar"
           }
          ],
          "carpet": [
           {
            "aaxis": {
             "endlinecolor": "#2a3f5f",
             "gridcolor": "white",
             "linecolor": "white",
             "minorgridcolor": "white",
             "startlinecolor": "#2a3f5f"
            },
            "baxis": {
             "endlinecolor": "#2a3f5f",
             "gridcolor": "white",
             "linecolor": "white",
             "minorgridcolor": "white",
             "startlinecolor": "#2a3f5f"
            },
            "type": "carpet"
           }
          ],
          "choropleth": [
           {
            "colorbar": {
             "outlinewidth": 0,
             "ticks": ""
            },
            "type": "choropleth"
           }
          ],
          "contour": [
           {
            "colorbar": {
             "outlinewidth": 0,
             "ticks": ""
            },
            "colorscale": [
             [
              0,
              "#0d0887"
             ],
             [
              0.1111111111111111,
              "#46039f"
             ],
             [
              0.2222222222222222,
              "#7201a8"
             ],
             [
              0.3333333333333333,
              "#9c179e"
             ],
             [
              0.4444444444444444,
              "#bd3786"
             ],
             [
              0.5555555555555556,
              "#d8576b"
             ],
             [
              0.6666666666666666,
              "#ed7953"
             ],
             [
              0.7777777777777778,
              "#fb9f3a"
             ],
             [
              0.8888888888888888,
              "#fdca26"
             ],
             [
              1,
              "#f0f921"
             ]
            ],
            "type": "contour"
           }
          ],
          "contourcarpet": [
           {
            "colorbar": {
             "outlinewidth": 0,
             "ticks": ""
            },
            "type": "contourcarpet"
           }
          ],
          "heatmap": [
           {
            "colorbar": {
             "outlinewidth": 0,
             "ticks": ""
            },
            "colorscale": [
             [
              0,
              "#0d0887"
             ],
             [
              0.1111111111111111,
              "#46039f"
             ],
             [
              0.2222222222222222,
              "#7201a8"
             ],
             [
              0.3333333333333333,
              "#9c179e"
             ],
             [
              0.4444444444444444,
              "#bd3786"
             ],
             [
              0.5555555555555556,
              "#d8576b"
             ],
             [
              0.6666666666666666,
              "#ed7953"
             ],
             [
              0.7777777777777778,
              "#fb9f3a"
             ],
             [
              0.8888888888888888,
              "#fdca26"
             ],
             [
              1,
              "#f0f921"
             ]
            ],
            "type": "heatmap"
           }
          ],
          "heatmapgl": [
           {
            "colorbar": {
             "outlinewidth": 0,
             "ticks": ""
            },
            "colorscale": [
             [
              0,
              "#0d0887"
             ],
             [
              0.1111111111111111,
              "#46039f"
             ],
             [
              0.2222222222222222,
              "#7201a8"
             ],
             [
              0.3333333333333333,
              "#9c179e"
             ],
             [
              0.4444444444444444,
              "#bd3786"
             ],
             [
              0.5555555555555556,
              "#d8576b"
             ],
             [
              0.6666666666666666,
              "#ed7953"
             ],
             [
              0.7777777777777778,
              "#fb9f3a"
             ],
             [
              0.8888888888888888,
              "#fdca26"
             ],
             [
              1,
              "#f0f921"
             ]
            ],
            "type": "heatmapgl"
           }
          ],
          "histogram": [
           {
            "marker": {
             "colorbar": {
              "outlinewidth": 0,
              "ticks": ""
             }
            },
            "type": "histogram"
           }
          ],
          "histogram2d": [
           {
            "colorbar": {
             "outlinewidth": 0,
             "ticks": ""
            },
            "colorscale": [
             [
              0,
              "#0d0887"
             ],
             [
              0.1111111111111111,
              "#46039f"
             ],
             [
              0.2222222222222222,
              "#7201a8"
             ],
             [
              0.3333333333333333,
              "#9c179e"
             ],
             [
              0.4444444444444444,
              "#bd3786"
             ],
             [
              0.5555555555555556,
              "#d8576b"
             ],
             [
              0.6666666666666666,
              "#ed7953"
             ],
             [
              0.7777777777777778,
              "#fb9f3a"
             ],
             [
              0.8888888888888888,
              "#fdca26"
             ],
             [
              1,
              "#f0f921"
             ]
            ],
            "type": "histogram2d"
           }
          ],
          "histogram2dcontour": [
           {
            "colorbar": {
             "outlinewidth": 0,
             "ticks": ""
            },
            "colorscale": [
             [
              0,
              "#0d0887"
             ],
             [
              0.1111111111111111,
              "#46039f"
             ],
             [
              0.2222222222222222,
              "#7201a8"
             ],
             [
              0.3333333333333333,
              "#9c179e"
             ],
             [
              0.4444444444444444,
              "#bd3786"
             ],
             [
              0.5555555555555556,
              "#d8576b"
             ],
             [
              0.6666666666666666,
              "#ed7953"
             ],
             [
              0.7777777777777778,
              "#fb9f3a"
             ],
             [
              0.8888888888888888,
              "#fdca26"
             ],
             [
              1,
              "#f0f921"
             ]
            ],
            "type": "histogram2dcontour"
           }
          ],
          "mesh3d": [
           {
            "colorbar": {
             "outlinewidth": 0,
             "ticks": ""
            },
            "type": "mesh3d"
           }
          ],
          "parcoords": [
           {
            "line": {
             "colorbar": {
              "outlinewidth": 0,
              "ticks": ""
             }
            },
            "type": "parcoords"
           }
          ],
          "scatter": [
           {
            "marker": {
             "colorbar": {
              "outlinewidth": 0,
              "ticks": ""
             }
            },
            "type": "scatter"
           }
          ],
          "scatter3d": [
           {
            "line": {
             "colorbar": {
              "outlinewidth": 0,
              "ticks": ""
             }
            },
            "marker": {
             "colorbar": {
              "outlinewidth": 0,
              "ticks": ""
             }
            },
            "type": "scatter3d"
           }
          ],
          "scattercarpet": [
           {
            "marker": {
             "colorbar": {
              "outlinewidth": 0,
              "ticks": ""
             }
            },
            "type": "scattercarpet"
           }
          ],
          "scattergeo": [
           {
            "marker": {
             "colorbar": {
              "outlinewidth": 0,
              "ticks": ""
             }
            },
            "type": "scattergeo"
           }
          ],
          "scattergl": [
           {
            "marker": {
             "colorbar": {
              "outlinewidth": 0,
              "ticks": ""
             }
            },
            "type": "scattergl"
           }
          ],
          "scattermapbox": [
           {
            "marker": {
             "colorbar": {
              "outlinewidth": 0,
              "ticks": ""
             }
            },
            "type": "scattermapbox"
           }
          ],
          "scatterpolar": [
           {
            "marker": {
             "colorbar": {
              "outlinewidth": 0,
              "ticks": ""
             }
            },
            "type": "scatterpolar"
           }
          ],
          "scatterpolargl": [
           {
            "marker": {
             "colorbar": {
              "outlinewidth": 0,
              "ticks": ""
             }
            },
            "type": "scatterpolargl"
           }
          ],
          "scatterternary": [
           {
            "marker": {
             "colorbar": {
              "outlinewidth": 0,
              "ticks": ""
             }
            },
            "type": "scatterternary"
           }
          ],
          "surface": [
           {
            "colorbar": {
             "outlinewidth": 0,
             "ticks": ""
            },
            "colorscale": [
             [
              0,
              "#0d0887"
             ],
             [
              0.1111111111111111,
              "#46039f"
             ],
             [
              0.2222222222222222,
              "#7201a8"
             ],
             [
              0.3333333333333333,
              "#9c179e"
             ],
             [
              0.4444444444444444,
              "#bd3786"
             ],
             [
              0.5555555555555556,
              "#d8576b"
             ],
             [
              0.6666666666666666,
              "#ed7953"
             ],
             [
              0.7777777777777778,
              "#fb9f3a"
             ],
             [
              0.8888888888888888,
              "#fdca26"
             ],
             [
              1,
              "#f0f921"
             ]
            ],
            "type": "surface"
           }
          ],
          "table": [
           {
            "cells": {
             "fill": {
              "color": "#EBF0F8"
             },
             "line": {
              "color": "white"
             }
            },
            "header": {
             "fill": {
              "color": "#C8D4E3"
             },
             "line": {
              "color": "white"
             }
            },
            "type": "table"
           }
          ]
         },
         "layout": {
          "annotationdefaults": {
           "arrowcolor": "#2a3f5f",
           "arrowhead": 0,
           "arrowwidth": 1
          },
          "colorscale": {
           "diverging": [
            [
             0,
             "#8e0152"
            ],
            [
             0.1,
             "#c51b7d"
            ],
            [
             0.2,
             "#de77ae"
            ],
            [
             0.3,
             "#f1b6da"
            ],
            [
             0.4,
             "#fde0ef"
            ],
            [
             0.5,
             "#f7f7f7"
            ],
            [
             0.6,
             "#e6f5d0"
            ],
            [
             0.7,
             "#b8e186"
            ],
            [
             0.8,
             "#7fbc41"
            ],
            [
             0.9,
             "#4d9221"
            ],
            [
             1,
             "#276419"
            ]
           ],
           "sequential": [
            [
             0,
             "#0d0887"
            ],
            [
             0.1111111111111111,
             "#46039f"
            ],
            [
             0.2222222222222222,
             "#7201a8"
            ],
            [
             0.3333333333333333,
             "#9c179e"
            ],
            [
             0.4444444444444444,
             "#bd3786"
            ],
            [
             0.5555555555555556,
             "#d8576b"
            ],
            [
             0.6666666666666666,
             "#ed7953"
            ],
            [
             0.7777777777777778,
             "#fb9f3a"
            ],
            [
             0.8888888888888888,
             "#fdca26"
            ],
            [
             1,
             "#f0f921"
            ]
           ],
           "sequentialminus": [
            [
             0,
             "#0d0887"
            ],
            [
             0.1111111111111111,
             "#46039f"
            ],
            [
             0.2222222222222222,
             "#7201a8"
            ],
            [
             0.3333333333333333,
             "#9c179e"
            ],
            [
             0.4444444444444444,
             "#bd3786"
            ],
            [
             0.5555555555555556,
             "#d8576b"
            ],
            [
             0.6666666666666666,
             "#ed7953"
            ],
            [
             0.7777777777777778,
             "#fb9f3a"
            ],
            [
             0.8888888888888888,
             "#fdca26"
            ],
            [
             1,
             "#f0f921"
            ]
           ]
          },
          "colorway": [
           "#636efa",
           "#EF553B",
           "#00cc96",
           "#ab63fa",
           "#FFA15A",
           "#19d3f3",
           "#FF6692",
           "#B6E880",
           "#FF97FF",
           "#FECB52"
          ],
          "font": {
           "color": "#2a3f5f"
          },
          "geo": {
           "bgcolor": "white",
           "lakecolor": "white",
           "landcolor": "#E5ECF6",
           "showlakes": true,
           "showland": true,
           "subunitcolor": "white"
          },
          "hoverlabel": {
           "align": "left"
          },
          "hovermode": "closest",
          "mapbox": {
           "style": "light"
          },
          "paper_bgcolor": "white",
          "plot_bgcolor": "#E5ECF6",
          "polar": {
           "angularaxis": {
            "gridcolor": "white",
            "linecolor": "white",
            "ticks": ""
           },
           "bgcolor": "#E5ECF6",
           "radialaxis": {
            "gridcolor": "white",
            "linecolor": "white",
            "ticks": ""
           }
          },
          "scene": {
           "xaxis": {
            "backgroundcolor": "#E5ECF6",
            "gridcolor": "white",
            "gridwidth": 2,
            "linecolor": "white",
            "showbackground": true,
            "ticks": "",
            "zerolinecolor": "white"
           },
           "yaxis": {
            "backgroundcolor": "#E5ECF6",
            "gridcolor": "white",
            "gridwidth": 2,
            "linecolor": "white",
            "showbackground": true,
            "ticks": "",
            "zerolinecolor": "white"
           },
           "zaxis": {
            "backgroundcolor": "#E5ECF6",
            "gridcolor": "white",
            "gridwidth": 2,
            "linecolor": "white",
            "showbackground": true,
            "ticks": "",
            "zerolinecolor": "white"
           }
          },
          "shapedefaults": {
           "line": {
            "color": "#2a3f5f"
           }
          },
          "ternary": {
           "aaxis": {
            "gridcolor": "white",
            "linecolor": "white",
            "ticks": ""
           },
           "baxis": {
            "gridcolor": "white",
            "linecolor": "white",
            "ticks": ""
           },
           "bgcolor": "#E5ECF6",
           "caxis": {
            "gridcolor": "white",
            "linecolor": "white",
            "ticks": ""
           }
          },
          "title": {
           "x": 0.05
          },
          "xaxis": {
           "automargin": true,
           "gridcolor": "white",
           "linecolor": "white",
           "ticks": "",
           "zerolinecolor": "white",
           "zerolinewidth": 2
          },
          "yaxis": {
           "automargin": true,
           "gridcolor": "white",
           "linecolor": "white",
           "ticks": "",
           "zerolinecolor": "white",
           "zerolinewidth": 2
          }
         }
        },
        "xaxis": {
         "anchor": "y",
         "domain": [
          0,
          0.98
         ],
         "title": {
          "text": "PC1"
         }
        },
        "yaxis": {
         "anchor": "x",
         "domain": [
          0,
          1
         ],
         "title": {
          "text": "PC2"
         }
        }
       }
      }
     },
     "metadata": {},
     "output_type": "display_data"
    }
   ],
   "source": [
    "import plotly.express as px\n",
    "\n",
    "fig = px.scatter(df_pca, x='PC1', y='PC2', render_mode='svg')\n",
    "\n",
    "fig.show()"
   ]
  },
  {
   "cell_type": "code",
   "execution_count": 41,
   "id": "1da0d349",
   "metadata": {},
   "outputs": [
    {
     "data": {
      "text/html": [
       "<div>\n",
       "<style scoped>\n",
       "    .dataframe tbody tr th:only-of-type {\n",
       "        vertical-align: middle;\n",
       "    }\n",
       "\n",
       "    .dataframe tbody tr th {\n",
       "        vertical-align: top;\n",
       "    }\n",
       "\n",
       "    .dataframe thead th {\n",
       "        text-align: right;\n",
       "    }\n",
       "</style>\n",
       "<table border=\"1\" class=\"dataframe\">\n",
       "  <thead>\n",
       "    <tr style=\"text-align: right;\">\n",
       "      <th></th>\n",
       "      <th>0</th>\n",
       "    </tr>\n",
       "  </thead>\n",
       "  <tbody>\n",
       "    <tr>\n",
       "      <th>count</th>\n",
       "      <td>415.000000</td>\n",
       "    </tr>\n",
       "    <tr>\n",
       "      <th>mean</th>\n",
       "      <td>9.989022</td>\n",
       "    </tr>\n",
       "    <tr>\n",
       "      <th>std</th>\n",
       "      <td>1.564924</td>\n",
       "    </tr>\n",
       "    <tr>\n",
       "      <th>min</th>\n",
       "      <td>6.770000</td>\n",
       "    </tr>\n",
       "    <tr>\n",
       "      <th>25%</th>\n",
       "      <td>8.940000</td>\n",
       "    </tr>\n",
       "    <tr>\n",
       "      <th>50%</th>\n",
       "      <td>9.800000</td>\n",
       "    </tr>\n",
       "    <tr>\n",
       "      <th>75%</th>\n",
       "      <td>10.800000</td>\n",
       "    </tr>\n",
       "    <tr>\n",
       "      <th>max</th>\n",
       "      <td>15.200000</td>\n",
       "    </tr>\n",
       "  </tbody>\n",
       "</table>\n",
       "</div>"
      ],
      "text/plain": [
       "                0\n",
       "count  415.000000\n",
       "mean     9.989022\n",
       "std      1.564924\n",
       "min      6.770000\n",
       "25%      8.940000\n",
       "50%      9.800000\n",
       "75%     10.800000\n",
       "max     15.200000"
      ]
     },
     "execution_count": 41,
     "metadata": {},
     "output_type": "execute_result"
    }
   ],
   "source": [
    "y_train.describe()"
   ]
  },
  {
   "cell_type": "code",
   "execution_count": 42,
   "id": "34e4be4b",
   "metadata": {},
   "outputs": [],
   "source": [
    "# df_pretreat['class'] = 0\n",
    "# for index, row in df_pretreat.iterrows():\n",
    "#     if row['Umidade'] < 8:\n",
    "#         df_pretreat.loc[index, 'class'] = 0\n",
    "#     elif row['Umidade'] < 9:\n",
    "#         df_pretreat.loc[index, 'class'] = 1\n",
    "#     elif row['Umidade'] < 10:\n",
    "#         df_pretreat.loc[index, 'class'] = 2\n",
    "#     else:\n",
    "#         df_pretreat.loc[index, 'class'] = 3"
   ]
  },
  {
   "cell_type": "code",
   "execution_count": 43,
   "id": "e8e2b137",
   "metadata": {},
   "outputs": [],
   "source": [
    "# from sklearn.preprocessing import StandardScaler\n",
    "# from sklearn.model_selection import train_test_split\n",
    "\n",
    "\n",
    "# y = df_pretreat[['Umidade','Oleo','class']]\n",
    "# ## Do not take the reference value and the class\n",
    "# X = df_pretreat.values[:, :-2]\n",
    "# X_train, X_test, y_train, y_test = train_test_split(X, y, test_size=0.15, random_state=0,stratify=y['class'])\n",
    "\n",
    "# col = [11, 14, 16, 19, 21, 22, 25, 27, 29, 30, 41, 42, 43, 48, 50, 53, 54,\n",
    "#        55, 60, 63, 67, 85]\n",
    "# X_train = (np.delete(X_train, col,1))\n",
    "# X_test = (np.delete(X_test, col,1))\n",
    "\n",
    "\n",
    "# col = [ 6, 25, 29, 32, 48, 55, 56, 63, 67, 72, 76]\n",
    "# X_train = (np.delete(X_train, col,1))\n",
    "# X_test = (np.delete(X_test, col,1))\n",
    "# # X_train_snv = msc(X_train)\n",
    "# # X_#test_snv = msc(X_test)\n",
    "\n",
    "# y_train_oleo = y_train['Umidade']\n",
    "\n",
    "\n",
    "# y_test_oleo = y_test['Umidade']\n",
    "\n",
    "# #X1 = savgol_filter(X_train, 23, polyorder=2, deriv=2)\n",
    "# #X2 = savgol_filter(X_test, 23, polyorder=2, deriv=2)\n",
    "\n",
    "# # X_train_snv = msc(X_train)\n",
    "# # X_test_snv = msc(X_test)\n",
    "\n",
    "# # mean centre correction\n",
    "# #X_mc = mc(X1)\n",
    "\n",
    "# ##Standard Normal Variate\n",
    "\n",
    "# # Xsnv = snv(X_train)"
   ]
  },
  {
   "cell_type": "code",
   "execution_count": 109,
   "id": "51d074ed",
   "metadata": {},
   "outputs": [],
   "source": [
    "### Derive + SNV\n",
    "\n",
    "# col = [9, 11, 15, 17, 18, 21, 23, 27, 29, 40, 41, 42, 46, 47, 51, 53, 54,\n",
    "#        60, 62, 76, 95, 99]\n",
    "# X_train = (np.delete(X_train, col,1))\n",
    "# X_test = (np.delete(X_test, col,1))\n",
    "\n",
    "\n",
    "# col = [7, 10, 19, 25, 29, 30, 33, 37, 39, 44, 45, 50]\n",
    "# X_train = (np.delete(X_train, col,1))\n",
    "# X_test = (np.delete(X_test, col,1))\n",
    "\n",
    "# col = [14, 28, 29, 30, 37, 53, 58]\n",
    "# X_train = (np.delete(X_train, col,1))\n",
    "# X_test = (np.delete(X_test, col,1))\n",
    "\n",
    "# col = [17, 18, 28, 39]\n",
    "# X_train = (np.delete(X_train, col,1))\n",
    "# X_test = (np.delete(X_test, col,1))\n",
    "\n",
    "# col = [ 9, 15, 21, 33, 44]\n",
    "# X_train = (np.delete(X_train, col,1))\n",
    "# X_test = (np.delete(X_test, col,1))\n",
    "\n",
    "# col = [ 2, 16, 22, 44, 47]\n",
    "# X_train = (np.delete(X_train, col,1))\n",
    "# X_test = (np.delete(X_test, col,1))\n",
    "\n",
    "# col = [ 26,29]\n",
    "# X_train = (np.delete(X_train, col,1))\n",
    "# X_test = (np.delete(X_test, col,1))\n",
    "\n",
    "# col = [ 40]\n",
    "# X_train = (np.delete(X_train, col,1))\n",
    "# X_test = (np.delete(X_test, col,1))\n",
    "# # # X_train_snv = msc(X_train)\n",
    "# # # X_#test_snv = msc(X_test)\n",
    "\n",
    "# # y_train_oleo = y_train['Umidade']\n",
    "\n",
    "\n",
    "# # y_test_oleo = y_test['Umidade']\n",
    "\n",
    "# # #X1 = savgol_filter(X_train, 23, polyorder=2, deriv=2)\n",
    "# # #X2 = savgol_filter(X_test, 23, polyorder=2, deriv=2)\n",
    "\n",
    "# # # X_train_snv = msc(X_train)\n",
    "# # # X_test_snv = msc(X_test)\n",
    "\n",
    "# # # mean centre correction\n",
    "# # #X_mc = mc(X1)\n",
    "\n",
    "# # ##Standard Normal Variate\n",
    "\n",
    "# # # Xsnv = snv(X_train)"
   ]
  },
  {
   "cell_type": "code",
   "execution_count": 114,
   "id": "65488999",
   "metadata": {},
   "outputs": [],
   "source": [
    "### derive + SNV - new\n",
    "\n",
    "col = [ 3, 12, 18, 24, 29, 34, 36, 41, 42, 43, 44, 53, 54, 55, 62, 65, 67,\n",
    "       72, 77, 94, 97]\n",
    "X_train = (np.delete(X_train, col,1))\n",
    "X_test = (np.delete(X_test, col,1))\n",
    "\n",
    "# col = [8, 17, 29, 34, 37, 40, 46, 48, 50, 78]\n",
    "# X_train = (np.delete(X_train, col,1))\n",
    "# X_test = (np.delete(X_test, col,1))\n",
    "\n",
    "# col = [17, 19, 28, 32, 40, 43, 65]\n",
    "# X_train = (np.delete(X_train, col,1))\n",
    "# X_test = (np.delete(X_test, col,1))\n",
    "\n",
    "# col = [35]\n",
    "# X_train = (np.delete(X_train, col,1))\n",
    "# X_test = (np.delete(X_test, col,1))\n"
   ]
  },
  {
   "cell_type": "code",
   "execution_count": 92,
   "id": "361f8e21",
   "metadata": {},
   "outputs": [
    {
     "name": "stderr",
     "output_type": "stream",
     "text": [
      "2023-05-03 13:02:33,642 - pyswarms.discrete.binary - INFO - Optimize for 100 iters with {'c1': 2, 'c2': 2, 'w': 0.9, 'k': 20, 'p': 2}\n",
      "pyswarms.discrete.binary: 100%|██████████|100/100, best_cost=0.0876\n",
      "2023-05-03 13:13:59,486 - pyswarms.discrete.binary - INFO - Optimization finished | best cost: 0.0876477766586251, best pos: [1 1 1 1 1 1 1 1 1 1 1 1 1 1 1 1 1 1 1 1 1 1 1 1 1 1 1 1 1 1 1 1 1 1 1 0 1\n",
      " 1 1 1 1 1 1 1 1 1 1 1 1 1 1 1 1 1 1 1 1 1 1 1 1 1]\n"
     ]
    }
   ],
   "source": [
    "# Import PySwarms\n",
    "import pyswarms as ps\n",
    "\n",
    "# Initialize swarm, arbitrary\n",
    "options = {'c1': 2, 'c2': 2, 'w':0.9, 'k': 20, 'p':2}\n",
    "\n",
    "# Call instance of PSO\n",
    "dimensions = X_train.shape[1] # dimensions should be the number of features\n",
    "\n",
    "optimizer = ps.discrete.BinaryPSO(n_particles=20, dimensions=dimensions, options=options)\n",
    "\n",
    "# Perform optimization\n",
    "cost, pos = optimizer.optimize(f, iters=100, verbose=2)\n",
    "optimizer.reset()"
   ]
  },
  {
   "cell_type": "code",
   "execution_count": 93,
   "id": "a84219fb",
   "metadata": {},
   "outputs": [
    {
     "data": {
      "text/plain": [
       "array([35], dtype=int64)"
      ]
     },
     "execution_count": 93,
     "metadata": {},
     "output_type": "execute_result"
    }
   ],
   "source": [
    "np.where(pos == 0)[0]"
   ]
  },
  {
   "cell_type": "code",
   "execution_count": 104,
   "id": "97eb8cb0",
   "metadata": {},
   "outputs": [
    {
     "name": "stdout",
     "output_type": "stream",
     "text": [
      "N comp:  8\n",
      "N W (415, 61)\n",
      "R2:  0.9124990785258744\n",
      "RMSE train:  0.4623552418736252\n",
      "RMSE test:  0.4543455745810633\n"
     ]
    }
   ],
   "source": [
    "ls_score_pls = []\n",
    "n_opt = 8\n",
    "for i in range(3,9):\n",
    "    pls_simple = PLSRegression(n_components=i)\n",
    "    cv = LeaveOneOut()\n",
    "    #cv = 10\n",
    "\n",
    "    X1 = X_train \n",
    "    #X1 = X_train[:,pos==1] \n",
    "\n",
    "    X2 = X_test\n",
    "    #X2 = X_test[:,pos==1] \n",
    "\n",
    "\n",
    "    # Fit\n",
    "    pls_simple.fit(X1, y_train)\n",
    "\n",
    "\n",
    "    # Cross-validation\n",
    "    y_cv = cross_val_predict(pls_simple,X1, y_train, cv=cv)\n",
    "    y_pred = pls_simple.predict(X2)\n",
    "    score = r2_score(y_train, y_cv)\n",
    "    if ls_score_pls:\n",
    "        if score< ls_score_pls[-1] and i>4:\n",
    "            n_opt =  i-1\n",
    "            break\n",
    "\n",
    "    ls_score_pls.append(score)\n",
    "\n",
    "pls_simple = PLSRegression(n_components=n_opt)\n",
    "cv = LeaveOneOut()\n",
    "#cv = 10\n",
    "\n",
    "X1 = X_train \n",
    "#X1 = X_train[:,pos==1] \n",
    "\n",
    "X2 = X_test\n",
    "#X2 = X_test[:,pos==1] \n",
    "\n",
    "\n",
    "# Fit\n",
    "pls_simple.fit(X1, y_train)\n",
    "\n",
    "\n",
    "# Cross-validation\n",
    "y_cv = cross_val_predict(pls_simple,X1, y_train, cv=cv)\n",
    "y_pred = pls_simple.predict(X2)\n",
    "# Calculate scores\n",
    "score = r2_score(y_train, y_cv)\n",
    "score_train = mean_squared_error(y_train, y_cv,squared=False)\n",
    "score_test = mean_squared_error(y_test, y_pred,squared=False)\n",
    "\n",
    "print('N comp: ', n_opt)\n",
    "print('N W', X_train.shape)\n",
    "print('R2: ', score)\n",
    "print('RMSE train: ', score_train)\n",
    "print('RMSE test: ', score_test)\n",
    "\n"
   ]
  },
  {
   "attachments": {},
   "cell_type": "markdown",
   "id": "a468ec11",
   "metadata": {},
   "source": [
    "Sans suppression\n",
    "N comp:  2\n",
    "R2:  0.4596048499283586\n",
    "RMSE train:  1.1490136651617\n",
    "RMSE test:  1.3605876366740455\n",
    "\n",
    "Avec pre-traitement\n",
    "N comp:  7\n",
    "R2:  0.8870491625687604\n",
    "RMSE train:  0.5253082240394796\n",
    "RMSE test:  0.44207644653216055\n",
    "\n",
    "Avec optimisation\n",
    "\n",
    "N comp:  10\n",
    "R2:  0.9124025905955926\n",
    "RMSE train:  0.46261009295377936\n",
    "RMSE test:  0.41418291622270287\n",
    "\n",
    "2e boucle\n",
    "\n",
    "N comp:  10\n",
    "R2:  0.9118266343944599\n",
    "RMSE train:  0.46412844046600177\n",
    "RMSE test:  0.3913216462659776\n",
    "\n",
    "\n",
    "Derive + SNV\n",
    "\n",
    "N comp:  8\n",
    "N W (415, 100)\n",
    "R2:  0.8943229845631394\n",
    "RMSE train:  0.5081123397383713\n",
    "RMSE test:  0.5065344520512033\n",
    "\n",
    "1e boucle\n",
    "\n",
    "N comp:  8\n",
    "N W (415, 78)\n",
    "R2:  0.9052339394569837\n",
    "RMSE train:  0.4811670572619828\n",
    "RMSE test:  0.5162251684801937\n",
    "\n",
    "N comp:  8\n",
    "N W (415, 66)\n",
    "R2:  0.9085133726841861\n",
    "RMSE train:  0.4727682266042632\n",
    "RMSE test:  0.47195137798401277\n",
    "\n",
    "N comp:  8\n",
    "N W (415, 59)\n",
    "R2:  0.9094785936895836\n",
    "RMSE train:  0.47026766541038084\n",
    "RMSE test:  0.42438779051435804\n",
    "\n",
    "N comp:  8\n",
    "N W (415, 55)\n",
    "R2:  0.9100977295292939\n",
    "RMSE train:  0.4686566700338566\n",
    "RMSE test:  0.4291661151285659\n",
    "\n",
    "N comp:  8\n",
    "N W (415, 50)\n",
    "R2:  0.9104929729641026\n",
    "RMSE train:  0.4676253417458744\n",
    "RMSE test:  0.4398464477850427\n",
    "\n",
    "N comp:  8\n",
    "N W (415, 45)\n",
    "R2:  0.9130351632259351\n",
    "RMSE train:  0.46093672894440607\n",
    "RMSE test:  0.41037726351972004\n",
    "\n",
    "N comp:  8\n",
    "N W (415, 43)\n",
    "R2:  0.9134794866132417\n",
    "RMSE train:  0.4597577050669712\n",
    "RMSE test:  0.41271440057186415\n",
    "\n",
    "N comp:  8\n",
    "N W (415, 42)\n",
    "R2:  0.9136389104274913\n",
    "RMSE train:  0.459333932024981\n",
    "RMSE test:  0.41172877467291225\n",
    "\n",
    "\n",
    "\n",
    "Derive + SNV - new\n",
    "\n",
    "N comp:  8\n",
    "N W (415, 79)\n",
    "R2:  0.9080197982538791\n",
    "RMSE train:  0.47404181397245787\n",
    "RMSE test:  0.49205450288971947\n",
    "\n",
    "N comp:  8\n",
    "N W (415, 69)\n",
    "R2:  0.9109483731112994\n",
    "RMSE train:  0.4664342161897883\n",
    "RMSE test:  0.5031293773262979\n",
    "\n",
    "N comp:  8\n",
    "N W (415, 62)\n",
    "R2:  0.9147343826550586\n",
    "RMSE train:  0.4564113573050644\n",
    "RMSE test:  0.4024014334113302\n",
    "\n",
    "N comp:  8\n",
    "N W (415, 61)\n",
    "R2:  0.9124990785258744\n",
    "RMSE train:  0.4623552418736252\n",
    "RMSE test:  0.4543455745810633"
   ]
  },
  {
   "cell_type": "code",
   "execution_count": 115,
   "id": "73507540",
   "metadata": {},
   "outputs": [
    {
     "data": {
      "application/vnd.plotly.v1+json": {
       "config": {
        "plotlyServerURL": "https://plot.ly"
       },
       "data": [
        {
         "hoverlabel": {
          "namelength": 0
         },
         "hovertemplate": "Protein content measured (%)=%{x}<br>Protein content predicted (%)=%{y}",
         "legendgroup": "",
         "marker": {
          "color": "#636efa",
          "symbol": "circle"
         },
         "mode": "markers",
         "name": "",
         "showlegend": false,
         "type": "scatter",
         "x": [
          6.76999998092651,
          6.80000019073486,
          7.1399998664856,
          7.15999984741211,
          7.32000017166138,
          7.32999992370606,
          7.36999988555908,
          7.42999982833862,
          7.44999980926514,
          7.44999980926514,
          7.44999980926514,
          7.48000001907349,
          7.5,
          7.5,
          7.51000022888184,
          7.51999998092651,
          7.6100001335144,
          7.67000007629395,
          7.67000007629395,
          7.69000005722046,
          7.82999992370606,
          7.82999992370606,
          7.84999990463257,
          7.8600001335144,
          7.88000011444092,
          7.92999982833862,
          8,
          8.06999969482422,
          8.10000038146973,
          8.10999965667725,
          8.10999965667725,
          8.11999988555908,
          8.13000011444092,
          8.13000011444092,
          8.14000034332275,
          8.15999984741211,
          8.15999984741211,
          8.18000030517578,
          8.18000030517578,
          8.19999980926514,
          8.21000003814697,
          8.22999954223633,
          8.22999954223633,
          8.26000022888184,
          8.27000045776367,
          8.27999973297119,
          8.27999973297119,
          8.3100004196167,
          8.32999992370606,
          8.35000038146973,
          8.35000038146973,
          8.35999965667725,
          8.36999988555908,
          8.36999988555908,
          8.38000011444092,
          8.39000034332275,
          8.39999961853027,
          8.40999984741211,
          8.40999984741211,
          8.43000030517578,
          8.43000030517578,
          8.4399995803833,
          8.4399995803833,
          8.44400024414063,
          8.47000026702881,
          8.47999954223633,
          8.5,
          8.51000022888184,
          8.53999996185303,
          8.53999996185303,
          8.5600004196167,
          8.60000038146973,
          8.61999988555908,
          8.63000011444092,
          8.63000011444092,
          8.65999984741211,
          8.65999984741211,
          8.68000030517578,
          8.68000030517578,
          8.6899995803833,
          8.6899995803833,
          8.71000003814697,
          8.72000026702881,
          8.72999954223633,
          8.73999977111816,
          8.75,
          8.77000045776367,
          8.80000019073486,
          8.8100004196167,
          8.8100004196167,
          8.82999992370606,
          8.82999992370606,
          8.82999992370606,
          8.84000015258789,
          8.85000038146973,
          8.85999965667725,
          8.88000011444092,
          8.89000034332275,
          8.89000034332275,
          8.89999961853027,
          8.92000007629395,
          8.92000007629395,
          8.9399995803833,
          8.9399995803833,
          8.9399995803833,
          8.94999980926514,
          8.98999977111816,
          9,
          9,
          9.01000022888184,
          9.02999973297119,
          9.02999973297119,
          9.03999996185303,
          9.03999996185303,
          9.0600004196167,
          9.06999969482422,
          9.06999969482422,
          9.06999969482422,
          9.07999992370606,
          9.10000038146973,
          9.10000038146973,
          9.10000038146973,
          9.10999965667725,
          9.10999965667725,
          9.14000034332275,
          9.14000034332275,
          9.14000034332275,
          9.15999984741211,
          9.15999984741211,
          9.15999984741211,
          9.15999984741211,
          9.15999984741211,
          9.18000030517578,
          9.18000030517578,
          9.1899995803833,
          9.19999980926514,
          9.22000026702881,
          9.23999977111816,
          9.23999977111816,
          9.23999977111816,
          9.23999977111816,
          9.25,
          9.25,
          9.25,
          9.26000022888184,
          9.27000045776367,
          9.27000045776367,
          9.30000019073486,
          9.31999969482422,
          9.31999969482422,
          9.32999992370606,
          9.34000015258789,
          9.34000015258789,
          9.35000038146973,
          9.35999965667725,
          9.35999965667725,
          9.36999988555908,
          9.38000011444092,
          9.39999961853027,
          9.40999984741211,
          9.40999984741211,
          9.40999984741211,
          9.43000030517578,
          9.46000003814697,
          9.46000003814697,
          9.46000003814697,
          9.46000003814697,
          9.47000026702881,
          9.47999954223633,
          9.47999954223633,
          9.48999977111816,
          9.48999977111816,
          9.5,
          9.51000022888184,
          9.52999973297119,
          9.53999996185303,
          9.5600004196167,
          9.57999992370606,
          9.59000015258789,
          9.59000015258789,
          9.59000015258789,
          9.59000015258789,
          9.60000038146973,
          9.60999965667725,
          9.60999965667725,
          9.61999988555908,
          9.61999988555908,
          9.61999988555908,
          9.64999961853027,
          9.64999961853027,
          9.65999984741211,
          9.67000007629395,
          9.6899995803833,
          9.6899995803833,
          9.69999980926514,
          9.72000026702881,
          9.72999954223633,
          9.73999977111816,
          9.73999977111816,
          9.77000045776367,
          9.77999973297119,
          9.77999973297119,
          9.77999973297119,
          9.78999996185303,
          9.78999996185303,
          9.80000019073486,
          9.80000019073486,
          9.80000019073486,
          9.8100004196167,
          9.8100004196167,
          9.8100004196167,
          9.8100004196167,
          9.82999992370606,
          9.82999992370606,
          9.84000015258789,
          9.84000015258789,
          9.84000015258789,
          9.85000038146973,
          9.86999988555908,
          9.86999988555908,
          9.89000034332275,
          9.89999961853027,
          9.92000007629395,
          9.92000007629395,
          9.9399995803833,
          9.9399995803833,
          9.9399995803833,
          9.94999980926514,
          9.94999980926514,
          9.94999980926514,
          9.94999980926514,
          9.96000003814697,
          9.96000003814697,
          9.96000003814697,
          9.97000026702881,
          9.97000026702881,
          9.97000026702881,
          9.97999954223633,
          9.97999954223633,
          9.97999954223633,
          9.97999954223633,
          9.97999954223633,
          10,
          10,
          10,
          10,
          10,
          10,
          10,
          10,
          10.1000003814697,
          10.1000003814697,
          10.1000003814697,
          10.1000003814697,
          10.1000003814697,
          10.1000003814697,
          10.1000003814697,
          10.1000003814697,
          10.1000003814697,
          10.1000003814697,
          10.1000003814697,
          10.1999998092651,
          10.1999998092651,
          10.1999998092651,
          10.1999998092651,
          10.1999998092651,
          10.1999998092651,
          10.1999998092651,
          10.1999998092651,
          10.1999998092651,
          10.2700004577637,
          10.3000001907349,
          10.3000001907349,
          10.3000001907349,
          10.3000001907349,
          10.3000001907349,
          10.3000001907349,
          10.3599996566772,
          10.3999996185303,
          10.3999996185303,
          10.3999996185303,
          10.3999996185303,
          10.3999996185303,
          10.3999996185303,
          10.5,
          10.5,
          10.5,
          10.5,
          10.5,
          10.5,
          10.5,
          10.5,
          10.5,
          10.6000003814697,
          10.6000003814697,
          10.6000003814697,
          10.6000003814697,
          10.6000003814697,
          10.6000003814697,
          10.6999998092651,
          10.6999998092651,
          10.6999998092651,
          10.6999998092651,
          10.6999998092651,
          10.6999998092651,
          10.6999998092651,
          10.6999998092651,
          10.8000001907349,
          10.8000001907349,
          10.8000001907349,
          10.8000001907349,
          10.8000001907349,
          10.8000001907349,
          10.8000001907349,
          10.8000001907349,
          10.8999996185303,
          10.8999996185303,
          10.8999996185303,
          10.8999996185303,
          10.8999996185303,
          10.8999996185303,
          11,
          11,
          11,
          11,
          11,
          11,
          11,
          11,
          11.0299997329712,
          11.1000003814697,
          11.1000003814697,
          11.1000003814697,
          11.1000003814697,
          11.1000003814697,
          11.1000003814697,
          11.1999998092651,
          11.1999998092651,
          11.1999998092651,
          11.3000001907349,
          11.3000001907349,
          11.3000001907349,
          11.3000001907349,
          11.3000001907349,
          11.3999996185303,
          11.3999996185303,
          11.3999996185303,
          11.3999996185303,
          11.3999996185303,
          11.5,
          11.5,
          11.5,
          11.5,
          11.5,
          11.6000003814697,
          11.6000003814697,
          11.6000003814697,
          11.6000003814697,
          11.6000003814697,
          11.6000003814697,
          11.6999998092651,
          11.6999998092651,
          11.6999998092651,
          11.6999998092651,
          11.6999998092651,
          11.8000001907349,
          11.8000001907349,
          11.8000001907349,
          11.8000001907349,
          12,
          12,
          12,
          12.1000003814697,
          12.1000003814697,
          12.1000003814697,
          12.1000003814697,
          12.1000003814697,
          12.1000003814697,
          12.1999998092651,
          12.1999998092651,
          12.1999998092651,
          12.1999998092651,
          12.3000001907349,
          12.3000001907349,
          12.3000001907349,
          12.3999996185303,
          12.3999996185303,
          12.5,
          12.5,
          12.6000003814697,
          12.8999996185303,
          13,
          13,
          13.1000003814697,
          13.1999998092651,
          13.3000001907349,
          13.3000001907349,
          13.3999996185303,
          13.5,
          13.5,
          13.5,
          13.5,
          13.8000001907349,
          14.1000003814697,
          14.1999998092651,
          14.3000001907349,
          14.3999996185303,
          14.3999996185303,
          14.6000003814697,
          14.6999998092651,
          14.8999996185303,
          14.8999996185303,
          15.1000003814697,
          15.1000003814697,
          15.1999998092651
         ],
         "xaxis": "x",
         "y": [
          6.719535224177917,
          7.570034888605728,
          8.743300219212347,
          7.631669830675859,
          8.09166732068743,
          7.138659292219225,
          7.477055783530252,
          8.211188501347607,
          7.4245219223838035,
          7.644967343052525,
          7.976352227323079,
          8.372305286758191,
          8.07475625302002,
          8.09842761185986,
          7.783329504378226,
          7.02011186167577,
          7.319295337420863,
          7.494133500279748,
          7.849207612916126,
          8.225466598351423,
          8.223099265403288,
          8.062702744218122,
          8.12868515941886,
          7.788723124143825,
          8.991025667855666,
          7.3582916189556755,
          8.250298596317384,
          8.979480062181842,
          8.360118527615995,
          8.607952468666607,
          8.555218022091484,
          8.104172276995902,
          7.214933076494383,
          8.083807904837428,
          8.274750822425691,
          8.516995621508565,
          9.056993194841432,
          7.4534633544373925,
          8.33505781926693,
          8.5284608142349,
          8.683190188769023,
          8.441646643528447,
          9.133220205328847,
          8.384898803158872,
          8.301643837930762,
          9.019832014017183,
          8.172514496200762,
          8.212620678975178,
          7.35724798160663,
          8.168571494526063,
          8.943176421610147,
          9.167621428680306,
          8.612043835986912,
          8.694565296992916,
          8.412098296761869,
          8.132363120184433,
          8.30268711391976,
          8.883252186116914,
          8.79294982679959,
          8.855865267877707,
          8.841202620132846,
          8.81974410972136,
          8.663992170979451,
          8.154072274159594,
          9.004522003389255,
          8.013437454545329,
          7.950741611998646,
          8.923771602479803,
          9.013634551167314,
          8.614082327087734,
          10.065123729413592,
          8.766985076947485,
          9.093254697262964,
          9.249704122351979,
          8.880470403862716,
          9.360222133724701,
          8.33759561671627,
          8.257366302400797,
          8.941918586099703,
          8.803457769432898,
          8.422266756217077,
          9.154472650507161,
          9.921416394539804,
          9.160276317407714,
          8.605405230604898,
          8.973602889287266,
          8.24567255239927,
          8.949037218637248,
          8.765445419666754,
          9.237928745664245,
          7.729355950717386,
          9.022654494172283,
          8.7221469694773,
          8.908484916314059,
          8.837171728621776,
          9.075207844349434,
          8.719468941863884,
          8.515188474748582,
          9.589639446255985,
          8.736646924551849,
          8.929328983937307,
          9.13184232839155,
          9.10707660009089,
          10.330005508631057,
          9.403216321601272,
          9.40208965675813,
          9.367413596240636,
          8.9659835035152,
          8.995373268924718,
          8.904660775655692,
          9.233465918097767,
          9.148528277162406,
          8.911929657598906,
          10.255950177066792,
          8.990668550444783,
          9.107953087353597,
          9.31767288824716,
          8.667942367365317,
          9.172603446103642,
          9.337787188015405,
          8.366394309749996,
          9.150471905830107,
          9.358989970432214,
          9.123428520461383,
          8.408061872519099,
          8.771559841142741,
          9.632923838202968,
          8.567721923146753,
          8.592373142462284,
          9.63467721407924,
          9.535190848117988,
          9.507675281820172,
          8.719326516624124,
          9.308423473425792,
          8.957928301989687,
          9.622150770850707,
          9.022770499737538,
          9.53344545243288,
          8.993351751323624,
          9.155168002787732,
          8.972291377185863,
          9.390369593867323,
          9.951653976067067,
          9.028527448670472,
          9.336968329363906,
          9.174339514314322,
          9.467867031539758,
          9.366031717746631,
          9.675601853371138,
          9.931476254540213,
          9.26132228185825,
          9.209384215733051,
          9.608624970896209,
          8.761158038478728,
          9.808737534575375,
          9.375404876550611,
          9.4862497681251,
          8.0781476042355,
          9.190203692477594,
          9.482025269747714,
          9.555171360050245,
          9.66198764809521,
          8.909066187302798,
          9.110629577466833,
          9.042421054089399,
          9.422817076989773,
          9.503813250003775,
          9.712241172258631,
          9.002664327433779,
          9.083960724742939,
          9.61628757312813,
          8.718168476356524,
          9.078435422561567,
          9.77218618888685,
          10.015472715868242,
          9.887652452094263,
          10.367188963113325,
          9.620605105817267,
          9.67240949533195,
          10.59538029864473,
          9.156309847355917,
          9.681349474177049,
          9.761498883183632,
          9.767739404340707,
          9.681459173572437,
          9.975916283466995,
          9.550480455623966,
          10.344690042297461,
          8.776782431324708,
          9.465859455715652,
          10.126534317407229,
          9.630552667844444,
          9.888693825420432,
          8.947808692287163,
          10.141518248458508,
          9.881071387601123,
          9.684567276411734,
          9.755616369648159,
          11.355865589684697,
          9.372356946550136,
          9.60497895401248,
          9.890884922849782,
          9.31060148001609,
          9.540108971149582,
          9.25243139361284,
          9.878958051576058,
          9.859023639727981,
          8.746890868448512,
          9.560765896150127,
          9.560167466295244,
          10.055207000894873,
          10.143601873294777,
          10.47430787422954,
          9.862752364867552,
          10.247195728412281,
          10.08183012663118,
          9.208008367009462,
          9.600465843942162,
          10.159302098354754,
          9.879308669379819,
          9.103140548440349,
          9.757202647505045,
          9.902285901435585,
          10.164730826056076,
          10.132968048161196,
          10.39096982934495,
          9.834693448033137,
          9.363320091014975,
          10.008235850108932,
          9.790815656365206,
          8.944810922430584,
          10.115450660223388,
          10.275551151970811,
          9.55271357775664,
          10.107847239799534,
          10.065186418213855,
          10.340114163406941,
          9.661058783571514,
          9.950947891839057,
          9.839356775316746,
          9.385524642932785,
          9.705725567950058,
          9.958120125246701,
          9.746540317591782,
          9.596970786981469,
          9.76025742616565,
          10.157254919985157,
          9.977542635801981,
          9.828051173297986,
          9.122992431129402,
          9.918077202713713,
          10.755747745211883,
          10.109617016118346,
          10.593229362079729,
          10.17747596693983,
          9.544647898681976,
          9.787456095378927,
          10.272292609974182,
          10.667099909462934,
          9.823375719234592,
          9.814981719143834,
          10.346531574293953,
          10.153904744200931,
          10.77505585572156,
          10.107393996843033,
          10.272608879653593,
          10.957652492796363,
          9.605460883669958,
          9.886285407514979,
          9.961313595728255,
          10.278457578494976,
          10.129576086106395,
          10.078643806248916,
          10.536041107459209,
          10.609706433617932,
          10.577774711756453,
          10.955314085490027,
          10.571318951298299,
          10.158712487303436,
          11.072104849987838,
          11.373860964741812,
          10.136558833178738,
          10.346854516648806,
          10.430707982318888,
          10.56509355211745,
          10.305801103763878,
          10.609247167977216,
          10.436570427486014,
          10.586676259485158,
          9.738221696770509,
          10.140712742611484,
          9.892388380676415,
          10.326189060170686,
          10.938771614141077,
          10.545783170897632,
          10.9208261455836,
          10.96825680604174,
          10.447060446932415,
          10.23542763116818,
          10.406652722837151,
          10.986269458096965,
          10.50393445256144,
          10.652302479860287,
          10.743431708800504,
          10.457941727091423,
          10.349745265444634,
          10.396786123574183,
          11.069008455803772,
          10.790392608927968,
          10.49394803387624,
          10.399590542476185,
          10.872874752897761,
          10.59694754955916,
          10.937710137738572,
          10.902241279354417,
          10.37099096244442,
          10.567789088358731,
          10.674717651504297,
          11.100025549251978,
          10.546302254628976,
          10.868080563636344,
          10.466986565097148,
          11.237531482120163,
          11.230034406757081,
          10.876813543180852,
          10.6864806808408,
          10.32208711993336,
          10.525551337282794,
          10.704881489336103,
          10.759468564685019,
          11.014343502794105,
          10.345903506732215,
          10.518179121153512,
          11.232971418434737,
          10.274406004795564,
          11.01075870321525,
          10.550993558355923,
          11.383587044464566,
          11.206632310267754,
          11.720162804337022,
          9.973389365594445,
          11.359348178768752,
          11.135033230728826,
          10.613080506854953,
          11.285395764995613,
          11.822219932407013,
          11.602611038271316,
          11.438136493454596,
          11.550375920104678,
          11.970219562952487,
          11.615505632182682,
          10.459166603719341,
          11.082430922625843,
          10.868012370825333,
          11.830492079587138,
          11.55751610972358,
          12.266125170773496,
          11.210565595313675,
          11.079882335386,
          11.051945670747221,
          10.519502309889562,
          11.936287715042477,
          9.952882115949762,
          11.232244877859069,
          11.259656942840031,
          11.726292371544693,
          12.285104534392474,
          11.838290297154387,
          11.343986400331053,
          11.439934123633634,
          11.132080800639363,
          11.24618402491039,
          11.528402426809675,
          11.205414888303704,
          12.701347855394486,
          11.54221882096148,
          11.912703915399113,
          11.787025689076795,
          12.233860109862022,
          12.02665421368912,
          12.49616832455079,
          11.714915191432784,
          11.852280172365642,
          12.200825639723025,
          12.912647438598892,
          12.374641817425118,
          12.37110798740336,
          13.179604361577589,
          12.3632465628544,
          12.208773134353969,
          13.214258467212929,
          12.968253499739626,
          13.203512155352982,
          12.430539335048671,
          13.54792678349083,
          13.15822402874727,
          12.705880451944413,
          13.992279510175754,
          13.699439663418076,
          13.605595739127615,
          13.439322746443327,
          13.513353692864756,
          13.216054341427272,
          13.968512485496799,
          14.303288039856138,
          13.765776596641722,
          13.786489447014445,
          13.491426896869953,
          14.273133891437844,
          14.54148523339355,
          14.3370100723406,
          15.501057054808433,
          14.74743851559182,
          15.625600510525235,
          14.929822665154282
         ],
         "yaxis": "y"
        },
        {
         "hoverlabel": {
          "namelength": 0
         },
         "hovertemplate": "<b>OLS trendline</b><br>y_pred_train = 0.916384 * y_ref_train + 0.836268<br>R<sup>2</sup>=0.912516<br><br>Protein content measured (%)=%{x}<br>Protein content predicted (%)=%{y} <b>(trend)</b>",
         "legendgroup": "",
         "marker": {
          "color": "#636efa",
          "symbol": "circle"
         },
         "mode": "lines",
         "name": "",
         "showlegend": false,
         "type": "scatter",
         "x": [
          6.76999998092651,
          6.80000019073486,
          7.1399998664856,
          7.15999984741211,
          7.32000017166138,
          7.32999992370606,
          7.36999988555908,
          7.42999982833862,
          7.44999980926514,
          7.44999980926514,
          7.44999980926514,
          7.48000001907349,
          7.5,
          7.5,
          7.51000022888184,
          7.51999998092651,
          7.6100001335144,
          7.67000007629395,
          7.67000007629395,
          7.69000005722046,
          7.82999992370606,
          7.82999992370606,
          7.84999990463257,
          7.8600001335144,
          7.88000011444092,
          7.92999982833862,
          8,
          8.06999969482422,
          8.10000038146973,
          8.10999965667725,
          8.10999965667725,
          8.11999988555908,
          8.13000011444092,
          8.13000011444092,
          8.14000034332275,
          8.15999984741211,
          8.15999984741211,
          8.18000030517578,
          8.18000030517578,
          8.19999980926514,
          8.21000003814697,
          8.22999954223633,
          8.22999954223633,
          8.26000022888184,
          8.27000045776367,
          8.27999973297119,
          8.27999973297119,
          8.3100004196167,
          8.32999992370606,
          8.35000038146973,
          8.35000038146973,
          8.35999965667725,
          8.36999988555908,
          8.36999988555908,
          8.38000011444092,
          8.39000034332275,
          8.39999961853027,
          8.40999984741211,
          8.40999984741211,
          8.43000030517578,
          8.43000030517578,
          8.4399995803833,
          8.4399995803833,
          8.44400024414063,
          8.47000026702881,
          8.47999954223633,
          8.5,
          8.51000022888184,
          8.53999996185303,
          8.53999996185303,
          8.5600004196167,
          8.60000038146973,
          8.61999988555908,
          8.63000011444092,
          8.63000011444092,
          8.65999984741211,
          8.65999984741211,
          8.68000030517578,
          8.68000030517578,
          8.6899995803833,
          8.6899995803833,
          8.71000003814697,
          8.72000026702881,
          8.72999954223633,
          8.73999977111816,
          8.75,
          8.77000045776367,
          8.80000019073486,
          8.8100004196167,
          8.8100004196167,
          8.82999992370606,
          8.82999992370606,
          8.82999992370606,
          8.84000015258789,
          8.85000038146973,
          8.85999965667725,
          8.88000011444092,
          8.89000034332275,
          8.89000034332275,
          8.89999961853027,
          8.92000007629395,
          8.92000007629395,
          8.9399995803833,
          8.9399995803833,
          8.9399995803833,
          8.94999980926514,
          8.98999977111816,
          9,
          9,
          9.01000022888184,
          9.02999973297119,
          9.02999973297119,
          9.03999996185303,
          9.03999996185303,
          9.0600004196167,
          9.06999969482422,
          9.06999969482422,
          9.06999969482422,
          9.07999992370606,
          9.10000038146973,
          9.10000038146973,
          9.10000038146973,
          9.10999965667725,
          9.10999965667725,
          9.14000034332275,
          9.14000034332275,
          9.14000034332275,
          9.15999984741211,
          9.15999984741211,
          9.15999984741211,
          9.15999984741211,
          9.15999984741211,
          9.18000030517578,
          9.18000030517578,
          9.1899995803833,
          9.19999980926514,
          9.22000026702881,
          9.23999977111816,
          9.23999977111816,
          9.23999977111816,
          9.23999977111816,
          9.25,
          9.25,
          9.25,
          9.26000022888184,
          9.27000045776367,
          9.27000045776367,
          9.30000019073486,
          9.31999969482422,
          9.31999969482422,
          9.32999992370606,
          9.34000015258789,
          9.34000015258789,
          9.35000038146973,
          9.35999965667725,
          9.35999965667725,
          9.36999988555908,
          9.38000011444092,
          9.39999961853027,
          9.40999984741211,
          9.40999984741211,
          9.40999984741211,
          9.43000030517578,
          9.46000003814697,
          9.46000003814697,
          9.46000003814697,
          9.46000003814697,
          9.47000026702881,
          9.47999954223633,
          9.47999954223633,
          9.48999977111816,
          9.48999977111816,
          9.5,
          9.51000022888184,
          9.52999973297119,
          9.53999996185303,
          9.5600004196167,
          9.57999992370606,
          9.59000015258789,
          9.59000015258789,
          9.59000015258789,
          9.59000015258789,
          9.60000038146973,
          9.60999965667725,
          9.60999965667725,
          9.61999988555908,
          9.61999988555908,
          9.61999988555908,
          9.64999961853027,
          9.64999961853027,
          9.65999984741211,
          9.67000007629395,
          9.6899995803833,
          9.6899995803833,
          9.69999980926514,
          9.72000026702881,
          9.72999954223633,
          9.73999977111816,
          9.73999977111816,
          9.77000045776367,
          9.77999973297119,
          9.77999973297119,
          9.77999973297119,
          9.78999996185303,
          9.78999996185303,
          9.80000019073486,
          9.80000019073486,
          9.80000019073486,
          9.8100004196167,
          9.8100004196167,
          9.8100004196167,
          9.8100004196167,
          9.82999992370606,
          9.82999992370606,
          9.84000015258789,
          9.84000015258789,
          9.84000015258789,
          9.85000038146973,
          9.86999988555908,
          9.86999988555908,
          9.89000034332275,
          9.89999961853027,
          9.92000007629395,
          9.92000007629395,
          9.9399995803833,
          9.9399995803833,
          9.9399995803833,
          9.94999980926514,
          9.94999980926514,
          9.94999980926514,
          9.94999980926514,
          9.96000003814697,
          9.96000003814697,
          9.96000003814697,
          9.97000026702881,
          9.97000026702881,
          9.97000026702881,
          9.97999954223633,
          9.97999954223633,
          9.97999954223633,
          9.97999954223633,
          9.97999954223633,
          10,
          10,
          10,
          10,
          10,
          10,
          10,
          10,
          10.1000003814697,
          10.1000003814697,
          10.1000003814697,
          10.1000003814697,
          10.1000003814697,
          10.1000003814697,
          10.1000003814697,
          10.1000003814697,
          10.1000003814697,
          10.1000003814697,
          10.1000003814697,
          10.1999998092651,
          10.1999998092651,
          10.1999998092651,
          10.1999998092651,
          10.1999998092651,
          10.1999998092651,
          10.1999998092651,
          10.1999998092651,
          10.1999998092651,
          10.2700004577637,
          10.3000001907349,
          10.3000001907349,
          10.3000001907349,
          10.3000001907349,
          10.3000001907349,
          10.3000001907349,
          10.3599996566772,
          10.3999996185303,
          10.3999996185303,
          10.3999996185303,
          10.3999996185303,
          10.3999996185303,
          10.3999996185303,
          10.5,
          10.5,
          10.5,
          10.5,
          10.5,
          10.5,
          10.5,
          10.5,
          10.5,
          10.6000003814697,
          10.6000003814697,
          10.6000003814697,
          10.6000003814697,
          10.6000003814697,
          10.6000003814697,
          10.6999998092651,
          10.6999998092651,
          10.6999998092651,
          10.6999998092651,
          10.6999998092651,
          10.6999998092651,
          10.6999998092651,
          10.6999998092651,
          10.8000001907349,
          10.8000001907349,
          10.8000001907349,
          10.8000001907349,
          10.8000001907349,
          10.8000001907349,
          10.8000001907349,
          10.8000001907349,
          10.8999996185303,
          10.8999996185303,
          10.8999996185303,
          10.8999996185303,
          10.8999996185303,
          10.8999996185303,
          11,
          11,
          11,
          11,
          11,
          11,
          11,
          11,
          11.0299997329712,
          11.1000003814697,
          11.1000003814697,
          11.1000003814697,
          11.1000003814697,
          11.1000003814697,
          11.1000003814697,
          11.1999998092651,
          11.1999998092651,
          11.1999998092651,
          11.3000001907349,
          11.3000001907349,
          11.3000001907349,
          11.3000001907349,
          11.3000001907349,
          11.3999996185303,
          11.3999996185303,
          11.3999996185303,
          11.3999996185303,
          11.3999996185303,
          11.5,
          11.5,
          11.5,
          11.5,
          11.5,
          11.6000003814697,
          11.6000003814697,
          11.6000003814697,
          11.6000003814697,
          11.6000003814697,
          11.6000003814697,
          11.6999998092651,
          11.6999998092651,
          11.6999998092651,
          11.6999998092651,
          11.6999998092651,
          11.8000001907349,
          11.8000001907349,
          11.8000001907349,
          11.8000001907349,
          12,
          12,
          12,
          12.1000003814697,
          12.1000003814697,
          12.1000003814697,
          12.1000003814697,
          12.1000003814697,
          12.1000003814697,
          12.1999998092651,
          12.1999998092651,
          12.1999998092651,
          12.1999998092651,
          12.3000001907349,
          12.3000001907349,
          12.3000001907349,
          12.3999996185303,
          12.3999996185303,
          12.5,
          12.5,
          12.6000003814697,
          12.8999996185303,
          13,
          13,
          13.1000003814697,
          13.1999998092651,
          13.3000001907349,
          13.3000001907349,
          13.3999996185303,
          13.5,
          13.5,
          13.5,
          13.5,
          13.8000001907349,
          14.1000003814697,
          14.1999998092651,
          14.3000001907349,
          14.3999996185303,
          14.3999996185303,
          14.6000003814697,
          14.6999998092651,
          14.8999996185303,
          14.8999996185303,
          15.1000003814697,
          15.1000003814697,
          15.1999998092651
         ],
         "xaxis": "x",
         "y": [
          7.040189629391287,
          7.067681352432476,
          7.379251737424651,
          7.397579407130069,
          7.544201201739556,
          7.553364818109213,
          7.590020157520049,
          7.645003166636313,
          7.663330836341741,
          7.663330836341741,
          7.663330836341741,
          7.69082255938293,
          7.709150229088348,
          7.709150229088348,
          7.718314282424119,
          7.727477898793767,
          7.809952630951219,
          7.8649356400674915,
          7.8649356400674915,
          7.883263309772911,
          8.011556997710866,
          8.011556997710866,
          8.029884667416283,
          8.039048720752046,
          8.057376390457472,
          8.103195346237966,
          8.16734240869,
          8.23148903417592,
          8.258981194183225,
          8.268144373586765,
          8.268144373586765,
          8.277308426922527,
          8.286472480258299,
          8.286472480258299,
          8.295636533594061,
          8.313963766333373,
          8.313963766333373,
          8.332291873004905,
          8.332291873004905,
          8.350619105744219,
          8.359783159079981,
          8.378110391819293,
          8.378110391819293,
          8.405602551826597,
          8.41476660516236,
          8.4239297845659,
          8.4239297845659,
          8.451421944573205,
          8.469749177312517,
          8.488077283984051,
          8.488077283984051,
          8.497240463387591,
          8.506404516723354,
          8.506404516723354,
          8.515568570059125,
          8.524732623394888,
          8.533895802798428,
          8.5430598561342,
          8.5430598561342,
          8.561387962805732,
          8.561387962805732,
          8.570551142209274,
          8.570551142209274,
          8.574217287902922,
          8.59804330221658,
          8.60720648162012,
          8.625534588291652,
          8.634698641627423,
          8.662189927702498,
          8.662189927702498,
          8.68051803437403,
          8.717173373784878,
          8.73550060652418,
          8.744664659859952,
          8.744664659859952,
          8.772155945935024,
          8.772155945935024,
          8.790484052606558,
          8.790484052606558,
          8.7996472320101,
          8.7996472320101,
          8.817975338681634,
          8.827139392017404,
          8.836302571420946,
          8.845466624756709,
          8.854630678092478,
          8.872958784764013,
          8.900450070839087,
          8.909614124174857,
          8.909614124174857,
          8.92794135691417,
          8.92794135691417,
          8.92794135691417,
          8.937105410249933,
          8.946269463585704,
          8.955432642989244,
          8.973760749660778,
          8.982924802996541,
          8.982924802996541,
          8.992087982400081,
          9.010416089071624,
          9.010416089071624,
          9.028743321810927,
          9.028743321810927,
          9.028743321810927,
          9.037907375146698,
          9.074562714557535,
          9.083726767893305,
          9.083726767893305,
          9.092890821229076,
          9.11121805396838,
          9.11121805396838,
          9.12038210730415,
          9.12038210730415,
          9.138710213975683,
          9.147873393379225,
          9.147873393379225,
          9.147873393379225,
          9.157037446714996,
          9.17536555338653,
          9.17536555338653,
          9.17536555338653,
          9.18452873279007,
          9.18452873279007,
          9.212020892797366,
          9.212020892797366,
          9.212020892797366,
          9.230348125536677,
          9.230348125536677,
          9.230348125536677,
          9.230348125536677,
          9.230348125536677,
          9.248676232208211,
          9.248676232208211,
          9.257839411611753,
          9.267003464947523,
          9.285331571619057,
          9.30365880435836,
          9.30365880435836,
          9.30365880435836,
          9.30365880435836,
          9.312822857694131,
          9.312822857694131,
          9.312822857694131,
          9.321986911029903,
          9.331150964365666,
          9.331150964365666,
          9.358642250440738,
          9.376969483180051,
          9.376969483180051,
          9.386133536515823,
          9.395297589851586,
          9.395297589851586,
          9.404461643187355,
          9.413624822590895,
          9.413624822590895,
          9.422788875926658,
          9.43195292926243,
          9.450280162001732,
          9.459444215337504,
          9.459444215337504,
          9.459444215337504,
          9.477772322009038,
          9.505263608084112,
          9.505263608084112,
          9.505263608084112,
          9.505263608084112,
          9.514427661419884,
          9.523590840823424,
          9.523590840823424,
          9.532754894159186,
          9.532754894159186,
          9.541918947494958,
          9.551083000830728,
          9.56941023357003,
          9.578574286905802,
          9.596902393577336,
          9.615229626316648,
          9.62439367965241,
          9.62439367965241,
          9.62439367965241,
          9.62439367965241,
          9.633557732988182,
          9.642720912391722,
          9.642720912391722,
          9.651884965727485,
          9.651884965727485,
          9.651884965727485,
          9.679376251802559,
          9.679376251802559,
          9.68854030513833,
          9.697704358474102,
          9.716031591213405,
          9.716031591213405,
          9.725195644549176,
          9.74352375122071,
          9.75268693062425,
          9.761850983960013,
          9.761850983960013,
          9.789343143967317,
          9.798506323370857,
          9.798506323370857,
          9.798506323370857,
          9.807670376706628,
          9.807670376706628,
          9.816834430042391,
          9.816834430042391,
          9.816834430042391,
          9.825998483378163,
          9.825998483378163,
          9.825998483378163,
          9.825998483378163,
          9.844325716117474,
          9.844325716117474,
          9.853489769453237,
          9.853489769453237,
          9.853489769453237,
          9.862653822789008,
          9.880981055528311,
          9.880981055528311,
          9.899309162199845,
          9.908472341603385,
          9.926800448274928,
          9.926800448274928,
          9.945127681014231,
          9.945127681014231,
          9.945127681014231,
          9.954291734350003,
          9.954291734350003,
          9.954291734350003,
          9.954291734350003,
          9.963455787685765,
          9.963455787685765,
          9.963455787685765,
          9.972619841021535,
          9.972619841021535,
          9.972619841021535,
          9.981783020425077,
          9.981783020425077,
          9.981783020425077,
          9.981783020425077,
          9.981783020425077,
          10.00011112709661,
          10.00011112709661,
          10.00011112709661,
          10.00011112709661,
          10.00011112709661,
          10.00011112709661,
          10.00011112709661,
          10.00011112709661,
          10.091749912589806,
          10.091749912589806,
          10.091749912589806,
          10.091749912589806,
          10.091749912589806,
          10.091749912589806,
          10.091749912589806,
          10.091749912589806,
          10.091749912589806,
          10.091749912589806,
          10.091749912589806,
          10.18338782415079,
          10.18338782415079,
          10.18338782415079,
          10.18338782415079,
          10.18338782415079,
          10.18338782415079,
          10.18338782415079,
          10.18338782415079,
          10.18338782415079,
          10.247535323568997,
          10.275026609644081,
          10.275026609644081,
          10.275026609644081,
          10.275026609644081,
          10.275026609644081,
          10.275026609644081,
          10.330009181794155,
          10.366664521205065,
          10.366664521205065,
          10.366664521205065,
          10.366664521205065,
          10.366664521205065,
          10.366664521205065,
          10.458303306698262,
          10.458303306698262,
          10.458303306698262,
          10.458303306698262,
          10.458303306698262,
          10.458303306698262,
          10.458303306698262,
          10.458303306698262,
          10.458303306698262,
          10.54994209219146,
          10.54994209219146,
          10.54994209219146,
          10.54994209219146,
          10.54994209219146,
          10.54994209219146,
          10.641580003752443,
          10.641580003752443,
          10.641580003752443,
          10.641580003752443,
          10.641580003752443,
          10.641580003752443,
          10.641580003752443,
          10.641580003752443,
          10.733218789245733,
          10.733218789245733,
          10.733218789245733,
          10.733218789245733,
          10.733218789245733,
          10.733218789245733,
          10.733218789245733,
          10.733218789245733,
          10.824856700806718,
          10.824856700806718,
          10.824856700806718,
          10.824856700806718,
          10.824856700806718,
          10.824856700806718,
          10.916495486299914,
          10.916495486299914,
          10.916495486299914,
          10.916495486299914,
          10.916495486299914,
          10.916495486299914,
          10.916495486299914,
          10.916495486299914,
          10.943986772374998,
          11.00813427179311,
          11.00813427179311,
          11.00813427179311,
          11.00813427179311,
          11.00813427179311,
          11.00813427179311,
          11.099772183354096,
          11.099772183354096,
          11.099772183354096,
          11.191410968847386,
          11.191410968847386,
          11.191410968847386,
          11.191410968847386,
          11.191410968847386,
          11.28304888040837,
          11.28304888040837,
          11.28304888040837,
          11.28304888040837,
          11.28304888040837,
          11.374687665901567,
          11.374687665901567,
          11.374687665901567,
          11.374687665901567,
          11.374687665901567,
          11.466326451394764,
          11.466326451394764,
          11.466326451394764,
          11.466326451394764,
          11.466326451394764,
          11.466326451394764,
          11.557964362955747,
          11.557964362955747,
          11.557964362955747,
          11.557964362955747,
          11.557964362955747,
          11.649603148449037,
          11.649603148449037,
          11.649603148449037,
          11.649603148449037,
          11.83287984550322,
          11.83287984550322,
          11.83287984550322,
          11.924518630996415,
          11.924518630996415,
          11.924518630996415,
          11.924518630996415,
          11.924518630996415,
          11.924518630996415,
          12.0161565425574,
          12.0161565425574,
          12.0161565425574,
          12.0161565425574,
          12.10779532805069,
          12.10779532805069,
          12.10779532805069,
          12.199433239611674,
          12.199433239611674,
          12.29107202510487,
          12.29107202510487,
          12.382710810598068,
          12.657625419213327,
          12.749264204706524,
          12.749264204706524,
          12.84090299019972,
          12.932540901760705,
          13.024179687253994,
          13.024179687253994,
          13.115817598814978,
          13.207456384308175,
          13.207456384308175,
          13.207456384308175,
          13.207456384308175,
          13.482371866855647,
          13.757287349403025,
          13.848925260964009,
          13.940564046457299,
          14.032201958018282,
          14.032201958018282,
          14.215479529004677,
          14.307117440565662,
          14.490394137619935,
          14.490394137619935,
          14.673671708606328,
          14.673671708606328,
          14.765309620167313
         ],
         "yaxis": "y"
        }
       ],
       "layout": {
        "height": 400,
        "legend": {
         "tracegroupgap": 0
        },
        "template": {
         "data": {
          "bar": [
           {
            "error_x": {
             "color": "#2a3f5f"
            },
            "error_y": {
             "color": "#2a3f5f"
            },
            "marker": {
             "line": {
              "color": "#E5ECF6",
              "width": 0.5
             }
            },
            "type": "bar"
           }
          ],
          "barpolar": [
           {
            "marker": {
             "line": {
              "color": "#E5ECF6",
              "width": 0.5
             }
            },
            "type": "barpolar"
           }
          ],
          "carpet": [
           {
            "aaxis": {
             "endlinecolor": "#2a3f5f",
             "gridcolor": "white",
             "linecolor": "white",
             "minorgridcolor": "white",
             "startlinecolor": "#2a3f5f"
            },
            "baxis": {
             "endlinecolor": "#2a3f5f",
             "gridcolor": "white",
             "linecolor": "white",
             "minorgridcolor": "white",
             "startlinecolor": "#2a3f5f"
            },
            "type": "carpet"
           }
          ],
          "choropleth": [
           {
            "colorbar": {
             "outlinewidth": 0,
             "ticks": ""
            },
            "type": "choropleth"
           }
          ],
          "contour": [
           {
            "colorbar": {
             "outlinewidth": 0,
             "ticks": ""
            },
            "colorscale": [
             [
              0,
              "#0d0887"
             ],
             [
              0.1111111111111111,
              "#46039f"
             ],
             [
              0.2222222222222222,
              "#7201a8"
             ],
             [
              0.3333333333333333,
              "#9c179e"
             ],
             [
              0.4444444444444444,
              "#bd3786"
             ],
             [
              0.5555555555555556,
              "#d8576b"
             ],
             [
              0.6666666666666666,
              "#ed7953"
             ],
             [
              0.7777777777777778,
              "#fb9f3a"
             ],
             [
              0.8888888888888888,
              "#fdca26"
             ],
             [
              1,
              "#f0f921"
             ]
            ],
            "type": "contour"
           }
          ],
          "contourcarpet": [
           {
            "colorbar": {
             "outlinewidth": 0,
             "ticks": ""
            },
            "type": "contourcarpet"
           }
          ],
          "heatmap": [
           {
            "colorbar": {
             "outlinewidth": 0,
             "ticks": ""
            },
            "colorscale": [
             [
              0,
              "#0d0887"
             ],
             [
              0.1111111111111111,
              "#46039f"
             ],
             [
              0.2222222222222222,
              "#7201a8"
             ],
             [
              0.3333333333333333,
              "#9c179e"
             ],
             [
              0.4444444444444444,
              "#bd3786"
             ],
             [
              0.5555555555555556,
              "#d8576b"
             ],
             [
              0.6666666666666666,
              "#ed7953"
             ],
             [
              0.7777777777777778,
              "#fb9f3a"
             ],
             [
              0.8888888888888888,
              "#fdca26"
             ],
             [
              1,
              "#f0f921"
             ]
            ],
            "type": "heatmap"
           }
          ],
          "heatmapgl": [
           {
            "colorbar": {
             "outlinewidth": 0,
             "ticks": ""
            },
            "colorscale": [
             [
              0,
              "#0d0887"
             ],
             [
              0.1111111111111111,
              "#46039f"
             ],
             [
              0.2222222222222222,
              "#7201a8"
             ],
             [
              0.3333333333333333,
              "#9c179e"
             ],
             [
              0.4444444444444444,
              "#bd3786"
             ],
             [
              0.5555555555555556,
              "#d8576b"
             ],
             [
              0.6666666666666666,
              "#ed7953"
             ],
             [
              0.7777777777777778,
              "#fb9f3a"
             ],
             [
              0.8888888888888888,
              "#fdca26"
             ],
             [
              1,
              "#f0f921"
             ]
            ],
            "type": "heatmapgl"
           }
          ],
          "histogram": [
           {
            "marker": {
             "colorbar": {
              "outlinewidth": 0,
              "ticks": ""
             }
            },
            "type": "histogram"
           }
          ],
          "histogram2d": [
           {
            "colorbar": {
             "outlinewidth": 0,
             "ticks": ""
            },
            "colorscale": [
             [
              0,
              "#0d0887"
             ],
             [
              0.1111111111111111,
              "#46039f"
             ],
             [
              0.2222222222222222,
              "#7201a8"
             ],
             [
              0.3333333333333333,
              "#9c179e"
             ],
             [
              0.4444444444444444,
              "#bd3786"
             ],
             [
              0.5555555555555556,
              "#d8576b"
             ],
             [
              0.6666666666666666,
              "#ed7953"
             ],
             [
              0.7777777777777778,
              "#fb9f3a"
             ],
             [
              0.8888888888888888,
              "#fdca26"
             ],
             [
              1,
              "#f0f921"
             ]
            ],
            "type": "histogram2d"
           }
          ],
          "histogram2dcontour": [
           {
            "colorbar": {
             "outlinewidth": 0,
             "ticks": ""
            },
            "colorscale": [
             [
              0,
              "#0d0887"
             ],
             [
              0.1111111111111111,
              "#46039f"
             ],
             [
              0.2222222222222222,
              "#7201a8"
             ],
             [
              0.3333333333333333,
              "#9c179e"
             ],
             [
              0.4444444444444444,
              "#bd3786"
             ],
             [
              0.5555555555555556,
              "#d8576b"
             ],
             [
              0.6666666666666666,
              "#ed7953"
             ],
             [
              0.7777777777777778,
              "#fb9f3a"
             ],
             [
              0.8888888888888888,
              "#fdca26"
             ],
             [
              1,
              "#f0f921"
             ]
            ],
            "type": "histogram2dcontour"
           }
          ],
          "mesh3d": [
           {
            "colorbar": {
             "outlinewidth": 0,
             "ticks": ""
            },
            "type": "mesh3d"
           }
          ],
          "parcoords": [
           {
            "line": {
             "colorbar": {
              "outlinewidth": 0,
              "ticks": ""
             }
            },
            "type": "parcoords"
           }
          ],
          "scatter": [
           {
            "marker": {
             "colorbar": {
              "outlinewidth": 0,
              "ticks": ""
             }
            },
            "type": "scatter"
           }
          ],
          "scatter3d": [
           {
            "line": {
             "colorbar": {
              "outlinewidth": 0,
              "ticks": ""
             }
            },
            "marker": {
             "colorbar": {
              "outlinewidth": 0,
              "ticks": ""
             }
            },
            "type": "scatter3d"
           }
          ],
          "scattercarpet": [
           {
            "marker": {
             "colorbar": {
              "outlinewidth": 0,
              "ticks": ""
             }
            },
            "type": "scattercarpet"
           }
          ],
          "scattergeo": [
           {
            "marker": {
             "colorbar": {
              "outlinewidth": 0,
              "ticks": ""
             }
            },
            "type": "scattergeo"
           }
          ],
          "scattergl": [
           {
            "marker": {
             "colorbar": {
              "outlinewidth": 0,
              "ticks": ""
             }
            },
            "type": "scattergl"
           }
          ],
          "scattermapbox": [
           {
            "marker": {
             "colorbar": {
              "outlinewidth": 0,
              "ticks": ""
             }
            },
            "type": "scattermapbox"
           }
          ],
          "scatterpolar": [
           {
            "marker": {
             "colorbar": {
              "outlinewidth": 0,
              "ticks": ""
             }
            },
            "type": "scatterpolar"
           }
          ],
          "scatterpolargl": [
           {
            "marker": {
             "colorbar": {
              "outlinewidth": 0,
              "ticks": ""
             }
            },
            "type": "scatterpolargl"
           }
          ],
          "scatterternary": [
           {
            "marker": {
             "colorbar": {
              "outlinewidth": 0,
              "ticks": ""
             }
            },
            "type": "scatterternary"
           }
          ],
          "surface": [
           {
            "colorbar": {
             "outlinewidth": 0,
             "ticks": ""
            },
            "colorscale": [
             [
              0,
              "#0d0887"
             ],
             [
              0.1111111111111111,
              "#46039f"
             ],
             [
              0.2222222222222222,
              "#7201a8"
             ],
             [
              0.3333333333333333,
              "#9c179e"
             ],
             [
              0.4444444444444444,
              "#bd3786"
             ],
             [
              0.5555555555555556,
              "#d8576b"
             ],
             [
              0.6666666666666666,
              "#ed7953"
             ],
             [
              0.7777777777777778,
              "#fb9f3a"
             ],
             [
              0.8888888888888888,
              "#fdca26"
             ],
             [
              1,
              "#f0f921"
             ]
            ],
            "type": "surface"
           }
          ],
          "table": [
           {
            "cells": {
             "fill": {
              "color": "#EBF0F8"
             },
             "line": {
              "color": "white"
             }
            },
            "header": {
             "fill": {
              "color": "#C8D4E3"
             },
             "line": {
              "color": "white"
             }
            },
            "type": "table"
           }
          ]
         },
         "layout": {
          "annotationdefaults": {
           "arrowcolor": "#2a3f5f",
           "arrowhead": 0,
           "arrowwidth": 1
          },
          "colorscale": {
           "diverging": [
            [
             0,
             "#8e0152"
            ],
            [
             0.1,
             "#c51b7d"
            ],
            [
             0.2,
             "#de77ae"
            ],
            [
             0.3,
             "#f1b6da"
            ],
            [
             0.4,
             "#fde0ef"
            ],
            [
             0.5,
             "#f7f7f7"
            ],
            [
             0.6,
             "#e6f5d0"
            ],
            [
             0.7,
             "#b8e186"
            ],
            [
             0.8,
             "#7fbc41"
            ],
            [
             0.9,
             "#4d9221"
            ],
            [
             1,
             "#276419"
            ]
           ],
           "sequential": [
            [
             0,
             "#0d0887"
            ],
            [
             0.1111111111111111,
             "#46039f"
            ],
            [
             0.2222222222222222,
             "#7201a8"
            ],
            [
             0.3333333333333333,
             "#9c179e"
            ],
            [
             0.4444444444444444,
             "#bd3786"
            ],
            [
             0.5555555555555556,
             "#d8576b"
            ],
            [
             0.6666666666666666,
             "#ed7953"
            ],
            [
             0.7777777777777778,
             "#fb9f3a"
            ],
            [
             0.8888888888888888,
             "#fdca26"
            ],
            [
             1,
             "#f0f921"
            ]
           ],
           "sequentialminus": [
            [
             0,
             "#0d0887"
            ],
            [
             0.1111111111111111,
             "#46039f"
            ],
            [
             0.2222222222222222,
             "#7201a8"
            ],
            [
             0.3333333333333333,
             "#9c179e"
            ],
            [
             0.4444444444444444,
             "#bd3786"
            ],
            [
             0.5555555555555556,
             "#d8576b"
            ],
            [
             0.6666666666666666,
             "#ed7953"
            ],
            [
             0.7777777777777778,
             "#fb9f3a"
            ],
            [
             0.8888888888888888,
             "#fdca26"
            ],
            [
             1,
             "#f0f921"
            ]
           ]
          },
          "colorway": [
           "#636efa",
           "#EF553B",
           "#00cc96",
           "#ab63fa",
           "#FFA15A",
           "#19d3f3",
           "#FF6692",
           "#B6E880",
           "#FF97FF",
           "#FECB52"
          ],
          "font": {
           "color": "#2a3f5f"
          },
          "geo": {
           "bgcolor": "white",
           "lakecolor": "white",
           "landcolor": "#E5ECF6",
           "showlakes": true,
           "showland": true,
           "subunitcolor": "white"
          },
          "hoverlabel": {
           "align": "left"
          },
          "hovermode": "closest",
          "mapbox": {
           "style": "light"
          },
          "paper_bgcolor": "white",
          "plot_bgcolor": "#E5ECF6",
          "polar": {
           "angularaxis": {
            "gridcolor": "white",
            "linecolor": "white",
            "ticks": ""
           },
           "bgcolor": "#E5ECF6",
           "radialaxis": {
            "gridcolor": "white",
            "linecolor": "white",
            "ticks": ""
           }
          },
          "scene": {
           "xaxis": {
            "backgroundcolor": "#E5ECF6",
            "gridcolor": "white",
            "gridwidth": 2,
            "linecolor": "white",
            "showbackground": true,
            "ticks": "",
            "zerolinecolor": "white"
           },
           "yaxis": {
            "backgroundcolor": "#E5ECF6",
            "gridcolor": "white",
            "gridwidth": 2,
            "linecolor": "white",
            "showbackground": true,
            "ticks": "",
            "zerolinecolor": "white"
           },
           "zaxis": {
            "backgroundcolor": "#E5ECF6",
            "gridcolor": "white",
            "gridwidth": 2,
            "linecolor": "white",
            "showbackground": true,
            "ticks": "",
            "zerolinecolor": "white"
           }
          },
          "shapedefaults": {
           "line": {
            "color": "#2a3f5f"
           }
          },
          "ternary": {
           "aaxis": {
            "gridcolor": "white",
            "linecolor": "white",
            "ticks": ""
           },
           "baxis": {
            "gridcolor": "white",
            "linecolor": "white",
            "ticks": ""
           },
           "bgcolor": "#E5ECF6",
           "caxis": {
            "gridcolor": "white",
            "linecolor": "white",
            "ticks": ""
           }
          },
          "title": {
           "x": 0.05
          },
          "xaxis": {
           "automargin": true,
           "gridcolor": "white",
           "linecolor": "white",
           "ticks": "",
           "zerolinecolor": "white",
           "zerolinewidth": 2
          },
          "yaxis": {
           "automargin": true,
           "gridcolor": "white",
           "linecolor": "white",
           "ticks": "",
           "zerolinecolor": "white",
           "zerolinewidth": 2
          }
         }
        },
        "title": {
         "text": "Prediction performance for protein content "
        },
        "width": 600,
        "xaxis": {
         "anchor": "y",
         "domain": [
          0,
          0.98
         ],
         "title": {
          "text": "Protein content measured (%)"
         }
        },
        "yaxis": {
         "anchor": "x",
         "domain": [
          0,
          1
         ],
         "title": {
          "text": "Protein content predicted (%)"
         }
        }
       }
      }
     },
     "metadata": {},
     "output_type": "display_data"
    }
   ],
   "source": [
    "import plotly.express as px\n",
    "\n",
    "df_pred = pd.DataFrame()\n",
    "df_pred['y_ref_train'] = y_train\n",
    "df_pred['y_pred_train'] = y_cv\n",
    "fig = px.scatter(df_pred, x=\"y_ref_train\", y=\"y_pred_train\", trendline=\"ols\", title=\"Prediction performance for protein content \",\n",
    "                 labels={\n",
    "                     \"y_ref_train\": \"Protein content measured (%)\",\n",
    "                     \"y_pred_train\": \"Protein content predicted (%)\",\n",
    "\n",
    "                 },width=600, height=400)\n",
    "fig.show()"
   ]
  },
  {
   "cell_type": "code",
   "execution_count": 116,
   "id": "80414e91",
   "metadata": {},
   "outputs": [
    {
     "data": {
      "application/vnd.plotly.v1+json": {
       "config": {
        "plotlyServerURL": "https://plot.ly"
       },
       "data": [
        {
         "hoverlabel": {
          "namelength": 0
         },
         "hovertemplate": "Protein content measured (%)=%{x}<br>Protein content predicted (%)=%{y}",
         "legendgroup": "",
         "marker": {
          "color": "#636efa",
          "symbol": "circle"
         },
         "mode": "markers",
         "name": "",
         "showlegend": false,
         "type": "scatter",
         "x": [
          7.03188228607178,
          7.03410768508911,
          7.31655788421631,
          7.44341611862183,
          7.52386903762817,
          7.56338167190552,
          7.67544937133789,
          7.74936676025391,
          7.89883518218994,
          7.93083715438843,
          7.96237182617188,
          7.99500703811646,
          8.03803443908691,
          8.06943702697754,
          8.08359527587891,
          8.08794498443604,
          8.26801490783691,
          8.40591049194336,
          8.51922130584717,
          8.53377914428711,
          8.58030223846436,
          8.63374519348145,
          8.64165782928467,
          8.67977046966553,
          8.75222969055176,
          8.8058500289917,
          8.8149528503418,
          8.84332275390625,
          8.87489700317383,
          8.90607357025147,
          8.91575050354004,
          8.92778015136719,
          9.00032901763916,
          9.00871849060059,
          9.05504989624023,
          9.06671619415283,
          9.08559894561768,
          9.10027694702148,
          9.17107582092285,
          9.17298889160156,
          9.19345664978027,
          9.20268630981445,
          9.25359535217285,
          9.26262378692627,
          9.30488681793213,
          9.34175300598145,
          9.39696407318115,
          9.3999547958374,
          9.41381168365479,
          9.42414093017578,
          9.42825126647949,
          9.44586086273193,
          9.46045017242432,
          9.49739933013916,
          9.52682781219482,
          9.54724979400635,
          9.55977249145508,
          9.57194232940674,
          9.57574462890625,
          9.67908668518066,
          9.68106555938721,
          9.75577068328857,
          9.77244377136231,
          9.82133388519287,
          9.87768936157227,
          9.95456886291504,
          9.95783424377441,
          9.96218109130859,
          9.97067165374756,
          9.97617816925049,
          9.99148845672607,
          9.99365615844727,
          10.0184316635132,
          10.0599184036255,
          10.0755777359009,
          10.1346111297607,
          10.1871423721313,
          10.2764053344727,
          10.2954750061035,
          10.2962646484375,
          10.5011501312256,
          10.5315809249878,
          10.5933141708374,
          10.6003570556641,
          10.7067880630493,
          10.7703981399536,
          10.782187461853,
          10.8154420852661,
          10.8867225646973,
          10.8954391479492,
          10.9952278137207,
          11.3491020202637,
          11.4001417160034,
          11.7757015228271,
          11.7838487625122,
          11.8258399963379,
          12.1304416656494,
          12.151629447937,
          12.2291269302368,
          12.4000415802002,
          12.4606637954712,
          12.5515403747559,
          13.4558944702148,
          13.5652008056641,
          13.7729396820068,
          14.803807258606,
          16.3106002807617,
          16.9508838653564
         ],
         "xaxis": "x",
         "y": [
          6.9282222928646675,
          6.559010229572285,
          7.801807446703534,
          7.154313285184899,
          7.452722035098868,
          7.055915065364699,
          7.36344021042839,
          7.638818711484803,
          7.582679097235815,
          7.647033769880467,
          7.267412348408831,
          7.9037274395866834,
          8.06150610889296,
          7.893582851660378,
          7.8261169541637745,
          8.054115150060799,
          7.67615933060294,
          8.188918928095482,
          8.345979616610018,
          8.530356670992438,
          7.818023592941314,
          7.742395636304996,
          8.309549868909802,
          8.453029315570655,
          9.306475057747619,
          9.17822991574575,
          8.795728556878224,
          8.1655323042176,
          9.350622628758401,
          8.238925202049188,
          8.37220895091515,
          8.232701740636113,
          9.09427633174192,
          9.232285638736325,
          9.656015670478414,
          8.838872568664037,
          8.625685878704376,
          9.721315352676237,
          8.421868020969459,
          8.708193983368506,
          9.361563459038145,
          8.949332026773352,
          8.88674022644315,
          9.247594764251028,
          9.286197726901861,
          9.52674323561253,
          8.809149164404003,
          9.035879124095716,
          9.063072436024193,
          8.805343748142656,
          8.86091816444905,
          9.088671049072984,
          9.297415007916385,
          9.606258928855844,
          9.40750610471375,
          9.347130326309928,
          9.57737270244415,
          9.28395336850998,
          9.126281890501648,
          9.740524734525852,
          9.622181034055831,
          10.17122710910228,
          10.028716251507012,
          8.70085827348547,
          10.003007979153029,
          9.475215754455265,
          9.622808047994788,
          9.609979016530879,
          9.930795181077986,
          10.234369794742674,
          9.401478995571294,
          9.885539296469883,
          9.841499212769937,
          9.8266563127916,
          9.93030973333925,
          10.08310750957614,
          10.188022826711867,
          8.888149353959772,
          10.13785457764678,
          9.594897260869526,
          10.970496026416262,
          9.7083912186685,
          11.351684422511047,
          10.175579568709214,
          11.145102969184249,
          10.464051516054035,
          10.235393652172508,
          10.765932680257109,
          10.283027914349145,
          10.333859082240844,
          10.761513494050119,
          11.953546287656811,
          11.35482624908174,
          11.843590785963052,
          11.184216230823804,
          11.440838117335918,
          11.646448412474479,
          12.056599864769122,
          12.298412723332948,
          13.161216015513054,
          12.32977198403591,
          12.139641294392481,
          13.229043955057577,
          13.344090609695014,
          13.138945367958685,
          13.920083119158896,
          16.10721755633763,
          15.856471040229158
         ],
         "yaxis": "y"
        },
        {
         "hoverlabel": {
          "namelength": 0
         },
         "hovertemplate": "<b>OLS trendline</b><br>y_pred_test = 0.972970 * y_ref_test + 0.054570<br>R<sup>2</sup>=0.947321<br><br>Protein content measured (%)=%{x}<br>Protein content predicted (%)=%{y} <b>(trend)</b>",
         "legendgroup": "",
         "marker": {
          "color": "#636efa",
          "symbol": "circle"
         },
         "mode": "lines",
         "name": "",
         "showlegend": false,
         "type": "scatter",
         "x": [
          7.03188228607178,
          7.03410768508911,
          7.31655788421631,
          7.44341611862183,
          7.52386903762817,
          7.56338167190552,
          7.67544937133789,
          7.74936676025391,
          7.89883518218994,
          7.93083715438843,
          7.96237182617188,
          7.99500703811646,
          8.03803443908691,
          8.06943702697754,
          8.08359527587891,
          8.08794498443604,
          8.26801490783691,
          8.40591049194336,
          8.51922130584717,
          8.53377914428711,
          8.58030223846436,
          8.63374519348145,
          8.64165782928467,
          8.67977046966553,
          8.75222969055176,
          8.8058500289917,
          8.8149528503418,
          8.84332275390625,
          8.87489700317383,
          8.90607357025147,
          8.91575050354004,
          8.92778015136719,
          9.00032901763916,
          9.00871849060059,
          9.05504989624023,
          9.06671619415283,
          9.08559894561768,
          9.10027694702148,
          9.17107582092285,
          9.17298889160156,
          9.19345664978027,
          9.20268630981445,
          9.25359535217285,
          9.26262378692627,
          9.30488681793213,
          9.34175300598145,
          9.39696407318115,
          9.3999547958374,
          9.41381168365479,
          9.42414093017578,
          9.42825126647949,
          9.44586086273193,
          9.46045017242432,
          9.49739933013916,
          9.52682781219482,
          9.54724979400635,
          9.55977249145508,
          9.57194232940674,
          9.57574462890625,
          9.67908668518066,
          9.68106555938721,
          9.75577068328857,
          9.77244377136231,
          9.82133388519287,
          9.87768936157227,
          9.95456886291504,
          9.95783424377441,
          9.96218109130859,
          9.97067165374756,
          9.97617816925049,
          9.99148845672607,
          9.99365615844727,
          10.0184316635132,
          10.0599184036255,
          10.0755777359009,
          10.1346111297607,
          10.1871423721313,
          10.2764053344727,
          10.2954750061035,
          10.2962646484375,
          10.5011501312256,
          10.5315809249878,
          10.5933141708374,
          10.6003570556641,
          10.7067880630493,
          10.7703981399536,
          10.782187461853,
          10.8154420852661,
          10.8867225646973,
          10.8954391479492,
          10.9952278137207,
          11.3491020202637,
          11.4001417160034,
          11.7757015228271,
          11.7838487625122,
          11.8258399963379,
          12.1304416656494,
          12.151629447937,
          12.2291269302368,
          12.4000415802002,
          12.4606637954712,
          12.5515403747559,
          13.4558944702148,
          13.5652008056641,
          13.7729396820068,
          14.803807258606,
          16.3106002807617,
          16.9508838653564
         ],
         "xaxis": "x",
         "y": [
          6.896382343648581,
          6.898547590692207,
          7.173363232232987,
          7.29679252058404,
          7.375070817497537,
          7.413515435244138,
          7.522553973048943,
          7.594473393600767,
          7.739901721820637,
          7.771038688788529,
          7.801720986353644,
          7.833474076757131,
          7.8753384579403125,
          7.905892241806891,
          7.919667796814277,
          7.923899933847061,
          8.099102612671597,
          8.233270913947207,
          8.343518965153077,
          8.35768330889467,
          8.402948895579655,
          8.454947301012686,
          8.46264606026745,
          8.499728525599194,
          8.570229192035002,
          8.62240018626174,
          8.631256960648479,
          8.658860032880703,
          8.689580838160541,
          8.719914710499653,
          8.729330078724082,
          8.741034568206983,
          8.811622456936384,
          8.819785164561333,
          8.864864244001494,
          8.876215204826318,
          8.89458756028545,
          8.908868819016323,
          8.977754017227168,
          8.97961537808833,
          8.999529897929934,
          9.008510082583136,
          9.058043066377033,
          9.066827464818022,
          9.107948136763817,
          9.143817841055915,
          9.197536567045566,
          9.200446451223335,
          9.213928790860772,
          9.223978840455604,
          9.227978075406554,
          9.2451116887173,
          9.259306653051333,
          9.295257084359836,
          9.323890121973859,
          9.343760102771933,
          9.3559443148696,
          9.367785205173332,
          9.371484729477146,
          9.472033476056028,
          9.473958861792282,
          9.546644725051632,
          9.562867143763352,
          9.610435770157899,
          9.665267972235995,
          9.74006944006337,
          9.743246558502358,
          9.747475911844917,
          9.755736976524348,
          9.761094652303186,
          9.77599110657292,
          9.778100215863764,
          9.802206045281588,
          9.842571409280724,
          9.857807473757443,
          9.915245209882402,
          9.966356546031644,
          10.053206753032685,
          10.071760976252865,
          10.072529274753897,
          10.271876754659363,
          10.301485011747502,
          10.361549623544473,
          10.36840214097207,
          10.471956345092929,
          10.53384705767494,
          10.545317717179257,
          10.577673476515622,
          10.64702726258039,
          10.65550823878723,
          10.752599642111548,
          11.096908718176506,
          11.146568823823785,
          11.511977343867725,
          11.51990436572066,
          11.560760587095464,
          11.85712895017293,
          11.87774403205351,
          11.953146776968635,
          12.119441647085747,
          12.17842525918021,
          12.266845467465883,
          13.146755100001297,
          13.253106912794472,
          13.45523065974701,
          14.458234145961994,
          15.924298933073034,
          16.547275813996315
         ],
         "yaxis": "y"
        }
       ],
       "layout": {
        "height": 400,
        "legend": {
         "tracegroupgap": 0
        },
        "template": {
         "data": {
          "bar": [
           {
            "error_x": {
             "color": "#2a3f5f"
            },
            "error_y": {
             "color": "#2a3f5f"
            },
            "marker": {
             "line": {
              "color": "#E5ECF6",
              "width": 0.5
             }
            },
            "type": "bar"
           }
          ],
          "barpolar": [
           {
            "marker": {
             "line": {
              "color": "#E5ECF6",
              "width": 0.5
             }
            },
            "type": "barpolar"
           }
          ],
          "carpet": [
           {
            "aaxis": {
             "endlinecolor": "#2a3f5f",
             "gridcolor": "white",
             "linecolor": "white",
             "minorgridcolor": "white",
             "startlinecolor": "#2a3f5f"
            },
            "baxis": {
             "endlinecolor": "#2a3f5f",
             "gridcolor": "white",
             "linecolor": "white",
             "minorgridcolor": "white",
             "startlinecolor": "#2a3f5f"
            },
            "type": "carpet"
           }
          ],
          "choropleth": [
           {
            "colorbar": {
             "outlinewidth": 0,
             "ticks": ""
            },
            "type": "choropleth"
           }
          ],
          "contour": [
           {
            "colorbar": {
             "outlinewidth": 0,
             "ticks": ""
            },
            "colorscale": [
             [
              0,
              "#0d0887"
             ],
             [
              0.1111111111111111,
              "#46039f"
             ],
             [
              0.2222222222222222,
              "#7201a8"
             ],
             [
              0.3333333333333333,
              "#9c179e"
             ],
             [
              0.4444444444444444,
              "#bd3786"
             ],
             [
              0.5555555555555556,
              "#d8576b"
             ],
             [
              0.6666666666666666,
              "#ed7953"
             ],
             [
              0.7777777777777778,
              "#fb9f3a"
             ],
             [
              0.8888888888888888,
              "#fdca26"
             ],
             [
              1,
              "#f0f921"
             ]
            ],
            "type": "contour"
           }
          ],
          "contourcarpet": [
           {
            "colorbar": {
             "outlinewidth": 0,
             "ticks": ""
            },
            "type": "contourcarpet"
           }
          ],
          "heatmap": [
           {
            "colorbar": {
             "outlinewidth": 0,
             "ticks": ""
            },
            "colorscale": [
             [
              0,
              "#0d0887"
             ],
             [
              0.1111111111111111,
              "#46039f"
             ],
             [
              0.2222222222222222,
              "#7201a8"
             ],
             [
              0.3333333333333333,
              "#9c179e"
             ],
             [
              0.4444444444444444,
              "#bd3786"
             ],
             [
              0.5555555555555556,
              "#d8576b"
             ],
             [
              0.6666666666666666,
              "#ed7953"
             ],
             [
              0.7777777777777778,
              "#fb9f3a"
             ],
             [
              0.8888888888888888,
              "#fdca26"
             ],
             [
              1,
              "#f0f921"
             ]
            ],
            "type": "heatmap"
           }
          ],
          "heatmapgl": [
           {
            "colorbar": {
             "outlinewidth": 0,
             "ticks": ""
            },
            "colorscale": [
             [
              0,
              "#0d0887"
             ],
             [
              0.1111111111111111,
              "#46039f"
             ],
             [
              0.2222222222222222,
              "#7201a8"
             ],
             [
              0.3333333333333333,
              "#9c179e"
             ],
             [
              0.4444444444444444,
              "#bd3786"
             ],
             [
              0.5555555555555556,
              "#d8576b"
             ],
             [
              0.6666666666666666,
              "#ed7953"
             ],
             [
              0.7777777777777778,
              "#fb9f3a"
             ],
             [
              0.8888888888888888,
              "#fdca26"
             ],
             [
              1,
              "#f0f921"
             ]
            ],
            "type": "heatmapgl"
           }
          ],
          "histogram": [
           {
            "marker": {
             "colorbar": {
              "outlinewidth": 0,
              "ticks": ""
             }
            },
            "type": "histogram"
           }
          ],
          "histogram2d": [
           {
            "colorbar": {
             "outlinewidth": 0,
             "ticks": ""
            },
            "colorscale": [
             [
              0,
              "#0d0887"
             ],
             [
              0.1111111111111111,
              "#46039f"
             ],
             [
              0.2222222222222222,
              "#7201a8"
             ],
             [
              0.3333333333333333,
              "#9c179e"
             ],
             [
              0.4444444444444444,
              "#bd3786"
             ],
             [
              0.5555555555555556,
              "#d8576b"
             ],
             [
              0.6666666666666666,
              "#ed7953"
             ],
             [
              0.7777777777777778,
              "#fb9f3a"
             ],
             [
              0.8888888888888888,
              "#fdca26"
             ],
             [
              1,
              "#f0f921"
             ]
            ],
            "type": "histogram2d"
           }
          ],
          "histogram2dcontour": [
           {
            "colorbar": {
             "outlinewidth": 0,
             "ticks": ""
            },
            "colorscale": [
             [
              0,
              "#0d0887"
             ],
             [
              0.1111111111111111,
              "#46039f"
             ],
             [
              0.2222222222222222,
              "#7201a8"
             ],
             [
              0.3333333333333333,
              "#9c179e"
             ],
             [
              0.4444444444444444,
              "#bd3786"
             ],
             [
              0.5555555555555556,
              "#d8576b"
             ],
             [
              0.6666666666666666,
              "#ed7953"
             ],
             [
              0.7777777777777778,
              "#fb9f3a"
             ],
             [
              0.8888888888888888,
              "#fdca26"
             ],
             [
              1,
              "#f0f921"
             ]
            ],
            "type": "histogram2dcontour"
           }
          ],
          "mesh3d": [
           {
            "colorbar": {
             "outlinewidth": 0,
             "ticks": ""
            },
            "type": "mesh3d"
           }
          ],
          "parcoords": [
           {
            "line": {
             "colorbar": {
              "outlinewidth": 0,
              "ticks": ""
             }
            },
            "type": "parcoords"
           }
          ],
          "scatter": [
           {
            "marker": {
             "colorbar": {
              "outlinewidth": 0,
              "ticks": ""
             }
            },
            "type": "scatter"
           }
          ],
          "scatter3d": [
           {
            "line": {
             "colorbar": {
              "outlinewidth": 0,
              "ticks": ""
             }
            },
            "marker": {
             "colorbar": {
              "outlinewidth": 0,
              "ticks": ""
             }
            },
            "type": "scatter3d"
           }
          ],
          "scattercarpet": [
           {
            "marker": {
             "colorbar": {
              "outlinewidth": 0,
              "ticks": ""
             }
            },
            "type": "scattercarpet"
           }
          ],
          "scattergeo": [
           {
            "marker": {
             "colorbar": {
              "outlinewidth": 0,
              "ticks": ""
             }
            },
            "type": "scattergeo"
           }
          ],
          "scattergl": [
           {
            "marker": {
             "colorbar": {
              "outlinewidth": 0,
              "ticks": ""
             }
            },
            "type": "scattergl"
           }
          ],
          "scattermapbox": [
           {
            "marker": {
             "colorbar": {
              "outlinewidth": 0,
              "ticks": ""
             }
            },
            "type": "scattermapbox"
           }
          ],
          "scatterpolar": [
           {
            "marker": {
             "colorbar": {
              "outlinewidth": 0,
              "ticks": ""
             }
            },
            "type": "scatterpolar"
           }
          ],
          "scatterpolargl": [
           {
            "marker": {
             "colorbar": {
              "outlinewidth": 0,
              "ticks": ""
             }
            },
            "type": "scatterpolargl"
           }
          ],
          "scatterternary": [
           {
            "marker": {
             "colorbar": {
              "outlinewidth": 0,
              "ticks": ""
             }
            },
            "type": "scatterternary"
           }
          ],
          "surface": [
           {
            "colorbar": {
             "outlinewidth": 0,
             "ticks": ""
            },
            "colorscale": [
             [
              0,
              "#0d0887"
             ],
             [
              0.1111111111111111,
              "#46039f"
             ],
             [
              0.2222222222222222,
              "#7201a8"
             ],
             [
              0.3333333333333333,
              "#9c179e"
             ],
             [
              0.4444444444444444,
              "#bd3786"
             ],
             [
              0.5555555555555556,
              "#d8576b"
             ],
             [
              0.6666666666666666,
              "#ed7953"
             ],
             [
              0.7777777777777778,
              "#fb9f3a"
             ],
             [
              0.8888888888888888,
              "#fdca26"
             ],
             [
              1,
              "#f0f921"
             ]
            ],
            "type": "surface"
           }
          ],
          "table": [
           {
            "cells": {
             "fill": {
              "color": "#EBF0F8"
             },
             "line": {
              "color": "white"
             }
            },
            "header": {
             "fill": {
              "color": "#C8D4E3"
             },
             "line": {
              "color": "white"
             }
            },
            "type": "table"
           }
          ]
         },
         "layout": {
          "annotationdefaults": {
           "arrowcolor": "#2a3f5f",
           "arrowhead": 0,
           "arrowwidth": 1
          },
          "colorscale": {
           "diverging": [
            [
             0,
             "#8e0152"
            ],
            [
             0.1,
             "#c51b7d"
            ],
            [
             0.2,
             "#de77ae"
            ],
            [
             0.3,
             "#f1b6da"
            ],
            [
             0.4,
             "#fde0ef"
            ],
            [
             0.5,
             "#f7f7f7"
            ],
            [
             0.6,
             "#e6f5d0"
            ],
            [
             0.7,
             "#b8e186"
            ],
            [
             0.8,
             "#7fbc41"
            ],
            [
             0.9,
             "#4d9221"
            ],
            [
             1,
             "#276419"
            ]
           ],
           "sequential": [
            [
             0,
             "#0d0887"
            ],
            [
             0.1111111111111111,
             "#46039f"
            ],
            [
             0.2222222222222222,
             "#7201a8"
            ],
            [
             0.3333333333333333,
             "#9c179e"
            ],
            [
             0.4444444444444444,
             "#bd3786"
            ],
            [
             0.5555555555555556,
             "#d8576b"
            ],
            [
             0.6666666666666666,
             "#ed7953"
            ],
            [
             0.7777777777777778,
             "#fb9f3a"
            ],
            [
             0.8888888888888888,
             "#fdca26"
            ],
            [
             1,
             "#f0f921"
            ]
           ],
           "sequentialminus": [
            [
             0,
             "#0d0887"
            ],
            [
             0.1111111111111111,
             "#46039f"
            ],
            [
             0.2222222222222222,
             "#7201a8"
            ],
            [
             0.3333333333333333,
             "#9c179e"
            ],
            [
             0.4444444444444444,
             "#bd3786"
            ],
            [
             0.5555555555555556,
             "#d8576b"
            ],
            [
             0.6666666666666666,
             "#ed7953"
            ],
            [
             0.7777777777777778,
             "#fb9f3a"
            ],
            [
             0.8888888888888888,
             "#fdca26"
            ],
            [
             1,
             "#f0f921"
            ]
           ]
          },
          "colorway": [
           "#636efa",
           "#EF553B",
           "#00cc96",
           "#ab63fa",
           "#FFA15A",
           "#19d3f3",
           "#FF6692",
           "#B6E880",
           "#FF97FF",
           "#FECB52"
          ],
          "font": {
           "color": "#2a3f5f"
          },
          "geo": {
           "bgcolor": "white",
           "lakecolor": "white",
           "landcolor": "#E5ECF6",
           "showlakes": true,
           "showland": true,
           "subunitcolor": "white"
          },
          "hoverlabel": {
           "align": "left"
          },
          "hovermode": "closest",
          "mapbox": {
           "style": "light"
          },
          "paper_bgcolor": "white",
          "plot_bgcolor": "#E5ECF6",
          "polar": {
           "angularaxis": {
            "gridcolor": "white",
            "linecolor": "white",
            "ticks": ""
           },
           "bgcolor": "#E5ECF6",
           "radialaxis": {
            "gridcolor": "white",
            "linecolor": "white",
            "ticks": ""
           }
          },
          "scene": {
           "xaxis": {
            "backgroundcolor": "#E5ECF6",
            "gridcolor": "white",
            "gridwidth": 2,
            "linecolor": "white",
            "showbackground": true,
            "ticks": "",
            "zerolinecolor": "white"
           },
           "yaxis": {
            "backgroundcolor": "#E5ECF6",
            "gridcolor": "white",
            "gridwidth": 2,
            "linecolor": "white",
            "showbackground": true,
            "ticks": "",
            "zerolinecolor": "white"
           },
           "zaxis": {
            "backgroundcolor": "#E5ECF6",
            "gridcolor": "white",
            "gridwidth": 2,
            "linecolor": "white",
            "showbackground": true,
            "ticks": "",
            "zerolinecolor": "white"
           }
          },
          "shapedefaults": {
           "line": {
            "color": "#2a3f5f"
           }
          },
          "ternary": {
           "aaxis": {
            "gridcolor": "white",
            "linecolor": "white",
            "ticks": ""
           },
           "baxis": {
            "gridcolor": "white",
            "linecolor": "white",
            "ticks": ""
           },
           "bgcolor": "#E5ECF6",
           "caxis": {
            "gridcolor": "white",
            "linecolor": "white",
            "ticks": ""
           }
          },
          "title": {
           "x": 0.05
          },
          "xaxis": {
           "automargin": true,
           "gridcolor": "white",
           "linecolor": "white",
           "ticks": "",
           "zerolinecolor": "white",
           "zerolinewidth": 2
          },
          "yaxis": {
           "automargin": true,
           "gridcolor": "white",
           "linecolor": "white",
           "ticks": "",
           "zerolinecolor": "white",
           "zerolinewidth": 2
          }
         }
        },
        "title": {
         "text": "Prediction performance for protein content "
        },
        "width": 600,
        "xaxis": {
         "anchor": "y",
         "domain": [
          0,
          0.98
         ],
         "title": {
          "text": "Protein content measured (%)"
         }
        },
        "yaxis": {
         "anchor": "x",
         "domain": [
          0,
          1
         ],
         "title": {
          "text": "Protein content predicted (%)"
         }
        }
       }
      }
     },
     "metadata": {},
     "output_type": "display_data"
    }
   ],
   "source": [
    "\n",
    "df_pred = pd.DataFrame()\n",
    "df_pred['y_ref_test'] = y_test\n",
    "df_pred['y_pred_test'] = y_pred\n",
    "fig = px.scatter(df_pred, x=\"y_ref_test\", y=\"y_pred_test\", trendline=\"ols\", title=\"Prediction performance for protein content \",\n",
    "                 labels={\n",
    "                     \"y_ref_test\": \"Protein content measured (%)\",\n",
    "                     \"y_pred_test\": \"Protein content predicted (%)\",\n",
    "\n",
    "                 },width=600, height=400)\n",
    "fig.show()"
   ]
  },
  {
   "cell_type": "code",
   "execution_count": null,
   "id": "a0158b75",
   "metadata": {},
   "outputs": [],
   "source": []
  }
 ],
 "metadata": {
  "kernelspec": {
   "display_name": "base",
   "language": "python",
   "name": "python3"
  },
  "language_info": {
   "codemirror_mode": {
    "name": "ipython",
    "version": 3
   },
   "file_extension": ".py",
   "mimetype": "text/x-python",
   "name": "python",
   "nbconvert_exporter": "python",
   "pygments_lexer": "ipython3",
   "version": "3.9.7"
  },
  "vscode": {
   "interpreter": {
    "hash": "f495aec6bb42f5bf50edc3d7c3c03d5f8869c4ec116315d269d15969b9ab482a"
   }
  }
 },
 "nbformat": 4,
 "nbformat_minor": 5
}
