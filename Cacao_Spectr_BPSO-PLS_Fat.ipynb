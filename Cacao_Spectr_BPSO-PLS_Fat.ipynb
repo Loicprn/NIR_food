{
 "cells": [
  {
   "cell_type": "code",
   "execution_count": 6,
   "id": "79c1089e",
   "metadata": {},
   "outputs": [],
   "source": [
    "import plotly.express as px\n",
    "import pandas as pd\n",
    "import numpy as np\n",
    "import matplotlib.pyplot as plt\n",
    "from numpy import alen, arange\n",
    "import math\n",
    "from math import sqrt\n",
    "from sklearn import linear_model\n",
    "from sklearn import preprocessing\n",
    "from sklearn.linear_model import LinearRegression\n",
    "from sklearn.model_selection import cross_val_score, cross_val_predict, LeaveOneOut, KFold, train_test_split\n",
    "from sklearn.ensemble import AdaBoostRegressor, RandomForestRegressor, GradientBoostingRegressor, VotingRegressor\n",
    "from sklearn.pipeline import make_pipeline\n",
    "from sklearn.svm import SVR\n",
    "from sklearn.decomposition import PCA\n",
    "from sklearn.preprocessing import StandardScaler\n",
    "\n",
    "\n",
    "# Import PySwarms\n",
    "import pyswarms as ps\n",
    "\n",
    "\n",
    "#### PLS\n",
    "from sklearn.cross_decomposition import PLSRegression\n",
    "from sklearn.metrics import mean_squared_error, r2_score\n",
    "from scipy.signal import savgol_filter\n",
    "from sklearn.preprocessing import StandardScaler\n",
    "\n",
    "\n"
   ]
  },
  {
   "cell_type": "code",
   "execution_count": 7,
   "id": "66e3b728",
   "metadata": {},
   "outputs": [],
   "source": [
    "#BPSO\n",
    "\n",
    "def pls_optimise_components(X, y, npc):\n",
    " \n",
    "    rmsecv = np.zeros(npc)\n",
    "    for i in range(1,npc+1,1):\n",
    " \n",
    "        # Simple PLS\n",
    "        pls_simple = PLSRegression(n_components=i)\n",
    "        # Fit\n",
    "        pls_simple.fit(X, y)\n",
    "        #cv = LeaveOneOut()\n",
    "        cv=10\n",
    "        # Cross-validation\n",
    "        y_cv = cross_val_predict(pls_simple, X, y, cv=cv)\n",
    " \n",
    "        # Calculate scores\n",
    "        score = r2_score(y, y_cv)\n",
    "        rmsecv[i-1] = np.sqrt(mean_squared_error(y, y_cv))\n",
    " \n",
    "    # Find the minimum of ther RMSE and its location\n",
    "    opt_comp, rmsecv_min = np.argmin(rmsecv),  rmsecv[np.argmin(rmsecv)]\n",
    " \n",
    "    return (opt_comp+1, rmsecv_min)\n",
    "\n",
    "def base_pls(X,y,n_components, return_model=False):\n",
    " \n",
    "    # Simple PLS\n",
    "    pls_simple = PLSRegression(n_components=n_components)\n",
    "    # Fit\n",
    "    pls_simple.fit(X, y)\n",
    "    #cv = 10\n",
    "    cv= 10\n",
    "    # Cross-validation\n",
    "    y_cv = cross_val_predict(pls_simple, X, y, cv=cv)\n",
    " \n",
    "    # Calculate scores\n",
    "    score = r2_score(y, y_cv)\n",
    "    rmsecv = np.sqrt(mean_squared_error(y, y_cv))\n",
    " \n",
    "    if return_model == False:\n",
    "        return(y_cv, score, rmsecv)\n",
    "    else:\n",
    "        return(y_cv, score, rmsecv, pls_simple)\n",
    "    \n",
    "\n",
    "# Create an instance \n",
    "#reg = linear_model.LinearRegression\n",
    "\n",
    "# Define objective function\n",
    "def f_per_particle(m, alpha):\n",
    "    \"\"\"Computes for the objective function per particle\n",
    "\n",
    "    Inputs\n",
    "    ------\n",
    "    m : numpy.ndarray\n",
    "        Binary mask that can be obtained from BinaryPSO, will\n",
    "        be used to mask features.\n",
    "    alpha: float (default is 0.5)\n",
    "        Constant weight for trading-off classifier performance\n",
    "        and number of features\n",
    "\n",
    "    Returns\n",
    "    -------\n",
    "    numpy.ndarray\n",
    "        Computed objective function\n",
    "    \"\"\"\n",
    "    \n",
    "    total_features = dimensions\n",
    "    # Get the subset of the features from the binary mask\n",
    "\n",
    "    #X_sav = savgol_filter(X_train, 3, polyorder=2, deriv=1)\n",
    "\n",
    "    if np.count_nonzero(m) == 0:\n",
    "        X_subset = X_train\n",
    "    else:\n",
    "        X_subset = X_train[:,m==1]\n",
    "\n",
    "    \n",
    " \n",
    "\n",
    "    # #regr = make_pipeline(StandardScaler(), SVR())\n",
    "    # #regr = make_pipeline(StandardScaler(), RandomForestRegressor(max_depth=5, random_state=1))\n",
    "    # #regr = make_pipeline(StandardScaler(), SVR(C = 0.5, degree= 1, kernel= 'rbf',epsilon= 0.16))\n",
    "    # #X1 = savgol_filter(X_subset, 3, polyorder=2, deriv=1)\n",
    "    # reg1 = GradientBoostingRegressor(random_state=1)\n",
    "    # reg2 = RandomForestRegressor(random_state=1)\n",
    "    # reg3 = LinearRegression()\n",
    "    # ereg = VotingRegressor(estimators=[('gb', reg1), ('rf', reg2), ('lr', reg3)])\n",
    "    # ereg = ereg.fit(X_subset, y_train_oleo)\n",
    "    # #regr.fit(X_subset, y_train_oleo)\n",
    "    # #y_pred = cross_val_predict(regr, X_subset, y_train_oleo, cv=10)\n",
    "    # y_pred = ereg.predict(X_subset)\n",
    "    # #y_pred = regr.predict(X1)\n",
    "    # r2cv = mean_squared_error(y_train_oleo, y_pred)\n",
    "    # #r2cv = r2_score(y_train_oleo, y_pred)\n",
    "    # P = r2cv\n",
    "    # #P = (classifier.predict(X_subset) == y).mean()\n",
    "    # # Compute for the objective function\n",
    "    # j = (alpha * (1.0 - (1-P))\n",
    "    #     + (1.0 - alpha) * (1 - (X_subset.shape[1] / total_features)))\n",
    "\n",
    "    # regr = make_pipeline(StandardScaler(), SVR())\n",
    "    # #regr = make_pipeline(StandardScaler(), SVR(C = 0.5, degree= 1, kernel= 'rbf',epsilon= 0.16))\n",
    "    # #X1 = savgol_filter(X_subset, 3, polyorder=2, deriv=1)\n",
    "\n",
    "    # #regr.fit(X1, y_train_oleo)\n",
    "    # y_pred = cross_val_predict(regr, X_subset, y_train_oleo, cv=10)\n",
    "    # #y_pred = regr.predict(X1)\n",
    "    # #r2cv = mean_squared_error(y_train_oleo, y_pred)\n",
    "    # r2cv = r2_score(y_train_oleo, y_pred)\n",
    "    # P = r2cv\n",
    "    # #P = (classifier.predict(X_subset) == y).mean()\n",
    "    # # Compute for the objective function\n",
    "    # j = (alpha * (1.0 - P)\n",
    "    #     + (1.0 - alpha) * (1 - (X_subset.shape[1] / total_features)))\n",
    "\n",
    "\n",
    "\n",
    "    opt_comp, rmsecv_min = pls_optimise_components(X_subset, y_train_oleo, 5)\n",
    "    predicted, r2cv, rmscv = base_pls(X_subset, y_train_oleo, opt_comp)\n",
    "    \n",
    "    P = r2cv\n",
    "    #P = (classifier.predict(X_subset) == y).mean()\n",
    "    # Compute for the objective function\n",
    "    j = (alpha * (1.0 - P)\n",
    "        + (1.0 - alpha) * (1 - (X_subset.shape[1] / total_features)))\n",
    "\n",
    "    return j\n",
    "\n",
    "def f(x, alpha=0.88):\n",
    "    \"\"\"Higher-level method to do classification in the\n",
    "    whole swarm.\n",
    "\n",
    "    Inputs\n",
    "    ------\n",
    "    x: numpy.ndarray of shape (n_particles, dimensions)\n",
    "        The swarm that will perform the search\n",
    "\n",
    "    Returns\n",
    "    -------\n",
    "    numpy.ndarray of shape (n_particles, )\n",
    "        The computed loss for each particle\n",
    "    \"\"\"\n",
    "    n_particles = x.shape[0]\n",
    "    j = [f_per_particle(x[i], alpha) for i in range(n_particles)]\n",
    "    return np.array(j)\n",
    "\n",
    "def snv(input_data):\n",
    "  \n",
    "    # Define a new array and populate it with the corrected data  \n",
    "    output_data = np.zeros_like(input_data)\n",
    "    for i in range(input_data.shape[0]):\n",
    " \n",
    "        # Apply correction\n",
    "        output_data[i,:] = (input_data[i,:] - np.mean(input_data[i,:])) / np.std(input_data[i,:])\n",
    " \n",
    "    return output_data\n",
    "\n",
    "def msc(input_data):\n",
    "     # mean centre correction\n",
    "    for i in range(input_data.shape[0]):\n",
    "        input_data[i,:] -= input_data[i,:].mean()\n",
    " \n",
    "    # Get the reference spectrum. If not given, estimate it from the mean    \n",
    "\n",
    "    # Calculate mean\n",
    "    ref = np.mean(input_data, axis=0)\n",
    "\n",
    " \n",
    "    # Define a new array and populate it with the corrected data    \n",
    "    output_data= np.zeros_like(input_data)\n",
    "    for i in range(input_data.shape[0]):\n",
    "        # Run regression\n",
    "        fit = np.polyfit(ref, input_data[i,:], 1, full=True)\n",
    "        # Apply correction\n",
    "        output_data[i,:] = (input_data[i,:] - fit[0][1]) / fit[0][0] \n",
    "    return output_data"
   ]
  },
  {
   "cell_type": "code",
   "execution_count": 8,
   "id": "a70d7488",
   "metadata": {},
   "outputs": [],
   "source": [
    "df = pd.read_excel('Data/Cacao/NIRS spectrum Cocoa Beans.xlsx', skiprows=[0,1,2,3,4,5])"
   ]
  },
  {
   "cell_type": "code",
   "execution_count": 9,
   "id": "6e065140",
   "metadata": {},
   "outputs": [
    {
     "data": {
      "text/html": [
       "<div>\n",
       "<style scoped>\n",
       "    .dataframe tbody tr th:only-of-type {\n",
       "        vertical-align: middle;\n",
       "    }\n",
       "\n",
       "    .dataframe tbody tr th {\n",
       "        vertical-align: top;\n",
       "    }\n",
       "\n",
       "    .dataframe thead th {\n",
       "        text-align: right;\n",
       "    }\n",
       "</style>\n",
       "<table border=\"1\" class=\"dataframe\">\n",
       "  <thead>\n",
       "    <tr style=\"text-align: right;\">\n",
       "      <th></th>\n",
       "      <th>sample Num</th>\n",
       "      <th>999.9</th>\n",
       "      <th>1000.3</th>\n",
       "      <th>1000.7</th>\n",
       "      <th>1001.1</th>\n",
       "      <th>1001.4</th>\n",
       "      <th>1001.8</th>\n",
       "      <th>1002.2</th>\n",
       "      <th>1002.6</th>\n",
       "      <th>1003</th>\n",
       "      <th>...</th>\n",
       "      <th>2483.5</th>\n",
       "      <th>2485.8</th>\n",
       "      <th>2488.2</th>\n",
       "      <th>2490.6</th>\n",
       "      <th>2493</th>\n",
       "      <th>2495.4</th>\n",
       "      <th>2497.8</th>\n",
       "      <th>2500.2</th>\n",
       "      <th>Moisture Content (%)</th>\n",
       "      <th>Fat Content (%)</th>\n",
       "    </tr>\n",
       "  </thead>\n",
       "  <tbody>\n",
       "    <tr>\n",
       "      <th>0</th>\n",
       "      <td>1</td>\n",
       "      <td>0.455245</td>\n",
       "      <td>0.455134</td>\n",
       "      <td>0.454986</td>\n",
       "      <td>0.455009</td>\n",
       "      <td>0.454722</td>\n",
       "      <td>0.454652</td>\n",
       "      <td>0.454516</td>\n",
       "      <td>0.454527</td>\n",
       "      <td>0.454581</td>\n",
       "      <td>...</td>\n",
       "      <td>1.240786</td>\n",
       "      <td>1.244121</td>\n",
       "      <td>1.246720</td>\n",
       "      <td>1.249081</td>\n",
       "      <td>1.250945</td>\n",
       "      <td>1.252397</td>\n",
       "      <td>1.253387</td>\n",
       "      <td>1.254267</td>\n",
       "      <td>8.17</td>\n",
       "      <td>39.11000</td>\n",
       "    </tr>\n",
       "    <tr>\n",
       "      <th>1</th>\n",
       "      <td>2</td>\n",
       "      <td>0.485282</td>\n",
       "      <td>0.485407</td>\n",
       "      <td>0.485407</td>\n",
       "      <td>0.485478</td>\n",
       "      <td>0.485399</td>\n",
       "      <td>0.485284</td>\n",
       "      <td>0.485150</td>\n",
       "      <td>0.485174</td>\n",
       "      <td>0.485439</td>\n",
       "      <td>...</td>\n",
       "      <td>1.263340</td>\n",
       "      <td>1.266759</td>\n",
       "      <td>1.269205</td>\n",
       "      <td>1.271461</td>\n",
       "      <td>1.273356</td>\n",
       "      <td>1.274930</td>\n",
       "      <td>1.276129</td>\n",
       "      <td>1.277142</td>\n",
       "      <td>7.52</td>\n",
       "      <td>39.14000</td>\n",
       "    </tr>\n",
       "    <tr>\n",
       "      <th>2</th>\n",
       "      <td>3</td>\n",
       "      <td>0.504128</td>\n",
       "      <td>0.503784</td>\n",
       "      <td>0.503550</td>\n",
       "      <td>0.503983</td>\n",
       "      <td>0.503992</td>\n",
       "      <td>0.503576</td>\n",
       "      <td>0.503656</td>\n",
       "      <td>0.503647</td>\n",
       "      <td>0.503327</td>\n",
       "      <td>...</td>\n",
       "      <td>1.298061</td>\n",
       "      <td>1.301578</td>\n",
       "      <td>1.304317</td>\n",
       "      <td>1.306653</td>\n",
       "      <td>1.308487</td>\n",
       "      <td>1.310115</td>\n",
       "      <td>1.310987</td>\n",
       "      <td>1.311702</td>\n",
       "      <td>8.52</td>\n",
       "      <td>42.35439</td>\n",
       "    </tr>\n",
       "    <tr>\n",
       "      <th>3</th>\n",
       "      <td>4</td>\n",
       "      <td>0.470077</td>\n",
       "      <td>0.469761</td>\n",
       "      <td>0.469780</td>\n",
       "      <td>0.469852</td>\n",
       "      <td>0.469783</td>\n",
       "      <td>0.469600</td>\n",
       "      <td>0.469520</td>\n",
       "      <td>0.469439</td>\n",
       "      <td>0.469648</td>\n",
       "      <td>...</td>\n",
       "      <td>1.240584</td>\n",
       "      <td>1.243668</td>\n",
       "      <td>1.246182</td>\n",
       "      <td>1.248631</td>\n",
       "      <td>1.250560</td>\n",
       "      <td>1.252181</td>\n",
       "      <td>1.253309</td>\n",
       "      <td>1.254296</td>\n",
       "      <td>8.65</td>\n",
       "      <td>42.71632</td>\n",
       "    </tr>\n",
       "    <tr>\n",
       "      <th>4</th>\n",
       "      <td>5</td>\n",
       "      <td>0.495356</td>\n",
       "      <td>0.495335</td>\n",
       "      <td>0.495513</td>\n",
       "      <td>0.495504</td>\n",
       "      <td>0.495303</td>\n",
       "      <td>0.495128</td>\n",
       "      <td>0.495118</td>\n",
       "      <td>0.495339</td>\n",
       "      <td>0.495136</td>\n",
       "      <td>...</td>\n",
       "      <td>1.300846</td>\n",
       "      <td>1.304284</td>\n",
       "      <td>1.306948</td>\n",
       "      <td>1.309266</td>\n",
       "      <td>1.311007</td>\n",
       "      <td>1.312586</td>\n",
       "      <td>1.313464</td>\n",
       "      <td>1.314298</td>\n",
       "      <td>7.66</td>\n",
       "      <td>38.57000</td>\n",
       "    </tr>\n",
       "  </tbody>\n",
       "</table>\n",
       "<p>5 rows × 1560 columns</p>\n",
       "</div>"
      ],
      "text/plain": [
       "   sample Num     999.9    1000.3    1000.7    1001.1    1001.4    1001.8  \\\n",
       "0           1  0.455245  0.455134  0.454986  0.455009  0.454722  0.454652   \n",
       "1           2  0.485282  0.485407  0.485407  0.485478  0.485399  0.485284   \n",
       "2           3  0.504128  0.503784  0.503550  0.503983  0.503992  0.503576   \n",
       "3           4  0.470077  0.469761  0.469780  0.469852  0.469783  0.469600   \n",
       "4           5  0.495356  0.495335  0.495513  0.495504  0.495303  0.495128   \n",
       "\n",
       "     1002.2    1002.6      1003  ...    2483.5    2485.8    2488.2    2490.6  \\\n",
       "0  0.454516  0.454527  0.454581  ...  1.240786  1.244121  1.246720  1.249081   \n",
       "1  0.485150  0.485174  0.485439  ...  1.263340  1.266759  1.269205  1.271461   \n",
       "2  0.503656  0.503647  0.503327  ...  1.298061  1.301578  1.304317  1.306653   \n",
       "3  0.469520  0.469439  0.469648  ...  1.240584  1.243668  1.246182  1.248631   \n",
       "4  0.495118  0.495339  0.495136  ...  1.300846  1.304284  1.306948  1.309266   \n",
       "\n",
       "       2493    2495.4    2497.8    2500.2  Moisture Content (%)  \\\n",
       "0  1.250945  1.252397  1.253387  1.254267                  8.17   \n",
       "1  1.273356  1.274930  1.276129  1.277142                  7.52   \n",
       "2  1.308487  1.310115  1.310987  1.311702                  8.52   \n",
       "3  1.250560  1.252181  1.253309  1.254296                  8.65   \n",
       "4  1.311007  1.312586  1.313464  1.314298                  7.66   \n",
       "\n",
       "   Fat Content (%)  \n",
       "0         39.11000  \n",
       "1         39.14000  \n",
       "2         42.35439  \n",
       "3         42.71632  \n",
       "4         38.57000  \n",
       "\n",
       "[5 rows x 1560 columns]"
      ]
     },
     "execution_count": 9,
     "metadata": {},
     "output_type": "execute_result"
    }
   ],
   "source": [
    "df.head()"
   ]
  },
  {
   "cell_type": "code",
   "execution_count": 5,
   "id": "7c3b8119",
   "metadata": {},
   "outputs": [
    {
     "data": {
      "text/plain": [
       "<seaborn.axisgrid.FacetGrid at 0x2017e477fa0>"
      ]
     },
     "execution_count": 5,
     "metadata": {},
     "output_type": "execute_result"
    },
    {
     "data": {
      "image/png": "[encoded data removed]",
      "text/plain": [
       "<Figure size 360x360 with 1 Axes>"
      ]
     },
     "metadata": {
      "needs_background": "light"
     },
     "output_type": "display_data"
    }
   ],
   "source": [
    "import seaborn as sns\n",
    "sns.displot(df['Moisture Content (%)'])"
   ]
  },
  {
   "cell_type": "code",
   "execution_count": 6,
   "id": "662a29cc",
   "metadata": {},
   "outputs": [
    {
     "data": {
      "text/plain": [
       "<seaborn.axisgrid.FacetGrid at 0x2017efa66d0>"
      ]
     },
     "execution_count": 6,
     "metadata": {},
     "output_type": "execute_result"
    },
    {
     "data": {
      "image/png": "[encoded data removed]",
      "text/plain": [
       "<Figure size 360x360 with 1 Axes>"
      ]
     },
     "metadata": {
      "needs_background": "light"
     },
     "output_type": "display_data"
    }
   ],
   "source": [
    "import seaborn as sns\n",
    "sns.displot(df['Fat Content (%)'])"
   ]
  },
  {
   "cell_type": "code",
   "execution_count": 7,
   "id": "299b7701",
   "metadata": {},
   "outputs": [
    {
     "data": {
      "image/png": "[encoded data removed]",
      "text/plain": [
       "<Figure size 576x324 with 1 Axes>"
      ]
     },
     "metadata": {
      "needs_background": "light"
     },
     "output_type": "display_data"
    }
   ],
   "source": [
    "wl = np.arange(0, 1557, 1)\n",
    "plt.figure(figsize=(8, 4.5))\n",
    "with plt.style.context('ggplot'):\n",
    "    plt.plot(wl, df.iloc[:,1:-2].values.T)\n",
    "    plt.xlabel(\"Wavelengths (nm)\")\n",
    "    plt.ylabel(\"Absorbance\")\n",
    "    plt.show()"
   ]
  },
  {
   "cell_type": "code",
   "execution_count": null,
   "id": "7e8f0408",
   "metadata": {},
   "outputs": [],
   "source": []
  },
  {
   "cell_type": "code",
   "execution_count": 8,
   "id": "c0c84a51",
   "metadata": {},
   "outputs": [
    {
     "data": {
      "text/html": [
       "<div>\n",
       "<style scoped>\n",
       "    .dataframe tbody tr th:only-of-type {\n",
       "        vertical-align: middle;\n",
       "    }\n",
       "\n",
       "    .dataframe tbody tr th {\n",
       "        vertical-align: top;\n",
       "    }\n",
       "\n",
       "    .dataframe thead th {\n",
       "        text-align: right;\n",
       "    }\n",
       "</style>\n",
       "<table border=\"1\" class=\"dataframe\">\n",
       "  <thead>\n",
       "    <tr style=\"text-align: right;\">\n",
       "      <th></th>\n",
       "      <th>999.9</th>\n",
       "      <th>1000.3</th>\n",
       "      <th>1000.7</th>\n",
       "      <th>1001.1</th>\n",
       "      <th>1001.4</th>\n",
       "      <th>1001.8</th>\n",
       "      <th>1002.2</th>\n",
       "      <th>1002.6</th>\n",
       "      <th>1003</th>\n",
       "      <th>1003.4</th>\n",
       "      <th>...</th>\n",
       "      <th>2485.8</th>\n",
       "      <th>2488.2</th>\n",
       "      <th>2490.6</th>\n",
       "      <th>2493</th>\n",
       "      <th>2495.4</th>\n",
       "      <th>2497.8</th>\n",
       "      <th>2500.2</th>\n",
       "      <th>Umidade</th>\n",
       "      <th>Oleo</th>\n",
       "      <th>class</th>\n",
       "    </tr>\n",
       "  </thead>\n",
       "  <tbody>\n",
       "    <tr>\n",
       "      <th>0</th>\n",
       "      <td>0.000012</td>\n",
       "      <td>0.000012</td>\n",
       "      <td>0.000012</td>\n",
       "      <td>0.000012</td>\n",
       "      <td>0.000012</td>\n",
       "      <td>0.000012</td>\n",
       "      <td>0.000012</td>\n",
       "      <td>0.000012</td>\n",
       "      <td>0.000007</td>\n",
       "      <td>2.703685e-06</td>\n",
       "      <td>...</td>\n",
       "      <td>-0.000467</td>\n",
       "      <td>-0.000467</td>\n",
       "      <td>-0.000467</td>\n",
       "      <td>-0.000467</td>\n",
       "      <td>-0.000467</td>\n",
       "      <td>-0.000467</td>\n",
       "      <td>-0.000467</td>\n",
       "      <td>8.17</td>\n",
       "      <td>39.11000</td>\n",
       "      <td>39</td>\n",
       "    </tr>\n",
       "    <tr>\n",
       "      <th>1</th>\n",
       "      <td>-0.000011</td>\n",
       "      <td>-0.000011</td>\n",
       "      <td>-0.000011</td>\n",
       "      <td>-0.000011</td>\n",
       "      <td>-0.000011</td>\n",
       "      <td>-0.000011</td>\n",
       "      <td>-0.000011</td>\n",
       "      <td>-0.000011</td>\n",
       "      <td>-0.000005</td>\n",
       "      <td>-1.779202e-06</td>\n",
       "      <td>...</td>\n",
       "      <td>-0.000456</td>\n",
       "      <td>-0.000456</td>\n",
       "      <td>-0.000456</td>\n",
       "      <td>-0.000456</td>\n",
       "      <td>-0.000456</td>\n",
       "      <td>-0.000456</td>\n",
       "      <td>-0.000456</td>\n",
       "      <td>7.52</td>\n",
       "      <td>39.14000</td>\n",
       "      <td>39</td>\n",
       "    </tr>\n",
       "    <tr>\n",
       "      <th>2</th>\n",
       "      <td>-0.000003</td>\n",
       "      <td>-0.000003</td>\n",
       "      <td>-0.000003</td>\n",
       "      <td>-0.000003</td>\n",
       "      <td>-0.000003</td>\n",
       "      <td>-0.000003</td>\n",
       "      <td>-0.000003</td>\n",
       "      <td>-0.000003</td>\n",
       "      <td>-0.000005</td>\n",
       "      <td>2.780284e-06</td>\n",
       "      <td>...</td>\n",
       "      <td>-0.000470</td>\n",
       "      <td>-0.000470</td>\n",
       "      <td>-0.000470</td>\n",
       "      <td>-0.000470</td>\n",
       "      <td>-0.000470</td>\n",
       "      <td>-0.000470</td>\n",
       "      <td>-0.000470</td>\n",
       "      <td>8.52</td>\n",
       "      <td>42.35439</td>\n",
       "      <td>42</td>\n",
       "    </tr>\n",
       "    <tr>\n",
       "      <th>3</th>\n",
       "      <td>-0.000001</td>\n",
       "      <td>-0.000001</td>\n",
       "      <td>-0.000001</td>\n",
       "      <td>-0.000001</td>\n",
       "      <td>-0.000001</td>\n",
       "      <td>-0.000001</td>\n",
       "      <td>-0.000001</td>\n",
       "      <td>-0.000001</td>\n",
       "      <td>-0.000004</td>\n",
       "      <td>-1.152893e-06</td>\n",
       "      <td>...</td>\n",
       "      <td>-0.000449</td>\n",
       "      <td>-0.000449</td>\n",
       "      <td>-0.000449</td>\n",
       "      <td>-0.000449</td>\n",
       "      <td>-0.000449</td>\n",
       "      <td>-0.000449</td>\n",
       "      <td>-0.000449</td>\n",
       "      <td>8.65</td>\n",
       "      <td>42.71632</td>\n",
       "      <td>42</td>\n",
       "    </tr>\n",
       "    <tr>\n",
       "      <th>4</th>\n",
       "      <td>-0.000003</td>\n",
       "      <td>-0.000003</td>\n",
       "      <td>-0.000003</td>\n",
       "      <td>-0.000003</td>\n",
       "      <td>-0.000003</td>\n",
       "      <td>-0.000003</td>\n",
       "      <td>-0.000003</td>\n",
       "      <td>-0.000003</td>\n",
       "      <td>0.000001</td>\n",
       "      <td>4.558436e-06</td>\n",
       "      <td>...</td>\n",
       "      <td>-0.000465</td>\n",
       "      <td>-0.000465</td>\n",
       "      <td>-0.000465</td>\n",
       "      <td>-0.000465</td>\n",
       "      <td>-0.000465</td>\n",
       "      <td>-0.000465</td>\n",
       "      <td>-0.000465</td>\n",
       "      <td>7.66</td>\n",
       "      <td>38.57000</td>\n",
       "      <td>38</td>\n",
       "    </tr>\n",
       "    <tr>\n",
       "      <th>...</th>\n",
       "      <td>...</td>\n",
       "      <td>...</td>\n",
       "      <td>...</td>\n",
       "      <td>...</td>\n",
       "      <td>...</td>\n",
       "      <td>...</td>\n",
       "      <td>...</td>\n",
       "      <td>...</td>\n",
       "      <td>...</td>\n",
       "      <td>...</td>\n",
       "      <td>...</td>\n",
       "      <td>...</td>\n",
       "      <td>...</td>\n",
       "      <td>...</td>\n",
       "      <td>...</td>\n",
       "      <td>...</td>\n",
       "      <td>...</td>\n",
       "      <td>...</td>\n",
       "      <td>...</td>\n",
       "      <td>...</td>\n",
       "      <td>...</td>\n",
       "    </tr>\n",
       "    <tr>\n",
       "      <th>67</th>\n",
       "      <td>0.000006</td>\n",
       "      <td>0.000006</td>\n",
       "      <td>0.000006</td>\n",
       "      <td>0.000006</td>\n",
       "      <td>0.000006</td>\n",
       "      <td>0.000006</td>\n",
       "      <td>0.000006</td>\n",
       "      <td>0.000006</td>\n",
       "      <td>0.000004</td>\n",
       "      <td>5.214981e-06</td>\n",
       "      <td>...</td>\n",
       "      <td>-0.000423</td>\n",
       "      <td>-0.000423</td>\n",
       "      <td>-0.000423</td>\n",
       "      <td>-0.000423</td>\n",
       "      <td>-0.000423</td>\n",
       "      <td>-0.000423</td>\n",
       "      <td>-0.000423</td>\n",
       "      <td>9.29</td>\n",
       "      <td>36.49000</td>\n",
       "      <td>36</td>\n",
       "    </tr>\n",
       "    <tr>\n",
       "      <th>68</th>\n",
       "      <td>-0.000018</td>\n",
       "      <td>-0.000018</td>\n",
       "      <td>-0.000018</td>\n",
       "      <td>-0.000018</td>\n",
       "      <td>-0.000018</td>\n",
       "      <td>-0.000018</td>\n",
       "      <td>-0.000018</td>\n",
       "      <td>-0.000018</td>\n",
       "      <td>-0.000029</td>\n",
       "      <td>-1.856938e-05</td>\n",
       "      <td>...</td>\n",
       "      <td>-0.000357</td>\n",
       "      <td>-0.000357</td>\n",
       "      <td>-0.000357</td>\n",
       "      <td>-0.000357</td>\n",
       "      <td>-0.000357</td>\n",
       "      <td>-0.000357</td>\n",
       "      <td>-0.000357</td>\n",
       "      <td>8.02</td>\n",
       "      <td>41.30000</td>\n",
       "      <td>41</td>\n",
       "    </tr>\n",
       "    <tr>\n",
       "      <th>69</th>\n",
       "      <td>-0.000004</td>\n",
       "      <td>-0.000004</td>\n",
       "      <td>-0.000004</td>\n",
       "      <td>-0.000004</td>\n",
       "      <td>-0.000004</td>\n",
       "      <td>-0.000004</td>\n",
       "      <td>-0.000004</td>\n",
       "      <td>-0.000004</td>\n",
       "      <td>-0.000017</td>\n",
       "      <td>-9.768584e-06</td>\n",
       "      <td>...</td>\n",
       "      <td>-0.000347</td>\n",
       "      <td>-0.000347</td>\n",
       "      <td>-0.000347</td>\n",
       "      <td>-0.000347</td>\n",
       "      <td>-0.000347</td>\n",
       "      <td>-0.000347</td>\n",
       "      <td>-0.000347</td>\n",
       "      <td>7.70</td>\n",
       "      <td>38.89000</td>\n",
       "      <td>38</td>\n",
       "    </tr>\n",
       "    <tr>\n",
       "      <th>70</th>\n",
       "      <td>-0.000004</td>\n",
       "      <td>-0.000004</td>\n",
       "      <td>-0.000004</td>\n",
       "      <td>-0.000004</td>\n",
       "      <td>-0.000004</td>\n",
       "      <td>-0.000004</td>\n",
       "      <td>-0.000004</td>\n",
       "      <td>-0.000004</td>\n",
       "      <td>-0.000003</td>\n",
       "      <td>2.859292e-06</td>\n",
       "      <td>...</td>\n",
       "      <td>-0.000366</td>\n",
       "      <td>-0.000366</td>\n",
       "      <td>-0.000366</td>\n",
       "      <td>-0.000366</td>\n",
       "      <td>-0.000366</td>\n",
       "      <td>-0.000366</td>\n",
       "      <td>-0.000366</td>\n",
       "      <td>7.77</td>\n",
       "      <td>39.37000</td>\n",
       "      <td>39</td>\n",
       "    </tr>\n",
       "    <tr>\n",
       "      <th>71</th>\n",
       "      <td>0.000006</td>\n",
       "      <td>0.000006</td>\n",
       "      <td>0.000006</td>\n",
       "      <td>0.000006</td>\n",
       "      <td>0.000006</td>\n",
       "      <td>0.000006</td>\n",
       "      <td>0.000006</td>\n",
       "      <td>0.000006</td>\n",
       "      <td>-0.000003</td>\n",
       "      <td>-1.875081e-07</td>\n",
       "      <td>...</td>\n",
       "      <td>-0.000368</td>\n",
       "      <td>-0.000368</td>\n",
       "      <td>-0.000368</td>\n",
       "      <td>-0.000368</td>\n",
       "      <td>-0.000368</td>\n",
       "      <td>-0.000368</td>\n",
       "      <td>-0.000368</td>\n",
       "      <td>8.43</td>\n",
       "      <td>40.01092</td>\n",
       "      <td>40</td>\n",
       "    </tr>\n",
       "  </tbody>\n",
       "</table>\n",
       "<p>72 rows × 1560 columns</p>\n",
       "</div>"
      ],
      "text/plain": [
       "       999.9    1000.3    1000.7    1001.1    1001.4    1001.8    1002.2  \\\n",
       "0   0.000012  0.000012  0.000012  0.000012  0.000012  0.000012  0.000012   \n",
       "1  -0.000011 -0.000011 -0.000011 -0.000011 -0.000011 -0.000011 -0.000011   \n",
       "2  -0.000003 -0.000003 -0.000003 -0.000003 -0.000003 -0.000003 -0.000003   \n",
       "3  -0.000001 -0.000001 -0.000001 -0.000001 -0.000001 -0.000001 -0.000001   \n",
       "4  -0.000003 -0.000003 -0.000003 -0.000003 -0.000003 -0.000003 -0.000003   \n",
       "..       ...       ...       ...       ...       ...       ...       ...   \n",
       "67  0.000006  0.000006  0.000006  0.000006  0.000006  0.000006  0.000006   \n",
       "68 -0.000018 -0.000018 -0.000018 -0.000018 -0.000018 -0.000018 -0.000018   \n",
       "69 -0.000004 -0.000004 -0.000004 -0.000004 -0.000004 -0.000004 -0.000004   \n",
       "70 -0.000004 -0.000004 -0.000004 -0.000004 -0.000004 -0.000004 -0.000004   \n",
       "71  0.000006  0.000006  0.000006  0.000006  0.000006  0.000006  0.000006   \n",
       "\n",
       "      1002.6      1003        1003.4  ...    2485.8    2488.2    2490.6  \\\n",
       "0   0.000012  0.000007  2.703685e-06  ... -0.000467 -0.000467 -0.000467   \n",
       "1  -0.000011 -0.000005 -1.779202e-06  ... -0.000456 -0.000456 -0.000456   \n",
       "2  -0.000003 -0.000005  2.780284e-06  ... -0.000470 -0.000470 -0.000470   \n",
       "3  -0.000001 -0.000004 -1.152893e-06  ... -0.000449 -0.000449 -0.000449   \n",
       "4  -0.000003  0.000001  4.558436e-06  ... -0.000465 -0.000465 -0.000465   \n",
       "..       ...       ...           ...  ...       ...       ...       ...   \n",
       "67  0.000006  0.000004  5.214981e-06  ... -0.000423 -0.000423 -0.000423   \n",
       "68 -0.000018 -0.000029 -1.856938e-05  ... -0.000357 -0.000357 -0.000357   \n",
       "69 -0.000004 -0.000017 -9.768584e-06  ... -0.000347 -0.000347 -0.000347   \n",
       "70 -0.000004 -0.000003  2.859292e-06  ... -0.000366 -0.000366 -0.000366   \n",
       "71  0.000006 -0.000003 -1.875081e-07  ... -0.000368 -0.000368 -0.000368   \n",
       "\n",
       "        2493    2495.4    2497.8    2500.2  Umidade      Oleo  class  \n",
       "0  -0.000467 -0.000467 -0.000467 -0.000467     8.17  39.11000     39  \n",
       "1  -0.000456 -0.000456 -0.000456 -0.000456     7.52  39.14000     39  \n",
       "2  -0.000470 -0.000470 -0.000470 -0.000470     8.52  42.35439     42  \n",
       "3  -0.000449 -0.000449 -0.000449 -0.000449     8.65  42.71632     42  \n",
       "4  -0.000465 -0.000465 -0.000465 -0.000465     7.66  38.57000     38  \n",
       "..       ...       ...       ...       ...      ...       ...    ...  \n",
       "67 -0.000423 -0.000423 -0.000423 -0.000423     9.29  36.49000     36  \n",
       "68 -0.000357 -0.000357 -0.000357 -0.000357     8.02  41.30000     41  \n",
       "69 -0.000347 -0.000347 -0.000347 -0.000347     7.70  38.89000     38  \n",
       "70 -0.000366 -0.000366 -0.000366 -0.000366     7.77  39.37000     39  \n",
       "71 -0.000368 -0.000368 -0.000368 -0.000368     8.43  40.01092     40  \n",
       "\n",
       "[72 rows x 1560 columns]"
      ]
     },
     "execution_count": 8,
     "metadata": {},
     "output_type": "execute_result"
    }
   ],
   "source": [
    "#df.iloc[:,1:-2] = snv(df.values[:,1:-2])\n",
    "df.iloc[:,1:-2] = savgol_filter(df.values[:,1:-2], 15, polyorder=2, deriv=2)\n",
    "#df.iloc[:,1:-2] = snv(df.values[:,1:-2])\n",
    "df_pretreat = df.iloc[:, 1:-2]\n",
    "df_pretreat['Umidade'] = df['Moisture Content (%)']\n",
    "df_pretreat['Oleo'] = df['Fat Content (%)']\n",
    "df_pretreat['class'] = df_pretreat['Oleo'].astype(int)\n",
    "\n",
    "for index, row in df_pretreat.iterrows():\n",
    "    if row['Oleo']< 36.3 :\n",
    "        df_pretreat.loc[index, 'class'] = 35\n",
    "#     if row['Oleo']> 38 and row['Oleo']< 38.25 :\n",
    "#         df_pretreat.loc[index, 'class'] = 37\n",
    "#     if row['class']== 41:\n",
    "#         df_pretreat.loc[index, 'class'] = 40\n",
    "#     if row['class']== 42:\n",
    "#         df_pretreat.loc[index, 'class'] = 41\n",
    "#     if row['class']== 43:\n",
    "#         df_pretreat.loc[index, 'class'] = 42\n",
    "    if row['class']== 45:\n",
    "        df_pretreat.loc[index, 'class'] = 44\n",
    "\n",
    "df_pretreat"
   ]
  },
  {
   "cell_type": "code",
   "execution_count": 9,
   "id": "955674db",
   "metadata": {},
   "outputs": [
    {
     "data": {
      "image/png": "[encoded data removed]",
      "text/plain": [
       "<Figure size 576x324 with 1 Axes>"
      ]
     },
     "metadata": {
      "needs_background": "light"
     },
     "output_type": "display_data"
    }
   ],
   "source": [
    "wl = np.arange(0, 1557, 1)\n",
    "plt.figure(figsize=(8, 4.5))\n",
    "with plt.style.context('ggplot'):\n",
    "    plt.plot(wl, df_pretreat.iloc[:,:-3].values.T)\n",
    "    plt.xlabel(\"Wavelengths (nm)\")\n",
    "    plt.ylabel(\"Absorbance\")\n",
    "    plt.show()"
   ]
  },
  {
   "cell_type": "code",
   "execution_count": 10,
   "id": "107545c4",
   "metadata": {},
   "outputs": [
    {
     "data": {
      "text/plain": [
       "<seaborn.axisgrid.FacetGrid at 0x2017f0235b0>"
      ]
     },
     "execution_count": 10,
     "metadata": {},
     "output_type": "execute_result"
    },
    {
     "data": {
      "image/png": "[encoded data removed]",
      "text/plain": [
       "<Figure size 360x360 with 1 Axes>"
      ]
     },
     "metadata": {
      "needs_background": "light"
     },
     "output_type": "display_data"
    }
   ],
   "source": [
    "import seaborn as sns\n",
    "sns.displot(df_pretreat['class'])"
   ]
  },
  {
   "cell_type": "code",
   "execution_count": 466,
   "id": "8eea8f5f",
   "metadata": {},
   "outputs": [
    {
     "data": {
      "text/html": [
       "<div>\n",
       "<style scoped>\n",
       "    .dataframe tbody tr th:only-of-type {\n",
       "        vertical-align: middle;\n",
       "    }\n",
       "\n",
       "    .dataframe tbody tr th {\n",
       "        vertical-align: top;\n",
       "    }\n",
       "\n",
       "    .dataframe thead th {\n",
       "        text-align: right;\n",
       "    }\n",
       "</style>\n",
       "<table border=\"1\" class=\"dataframe\">\n",
       "  <thead>\n",
       "    <tr style=\"text-align: right;\">\n",
       "      <th></th>\n",
       "      <th>999.9</th>\n",
       "      <th>1000.3</th>\n",
       "      <th>1000.7</th>\n",
       "      <th>1001.1</th>\n",
       "      <th>1001.4</th>\n",
       "      <th>1001.8</th>\n",
       "      <th>1002.2</th>\n",
       "      <th>1002.6</th>\n",
       "      <th>1003</th>\n",
       "      <th>1003.4</th>\n",
       "      <th>...</th>\n",
       "      <th>2485.8</th>\n",
       "      <th>2488.2</th>\n",
       "      <th>2490.6</th>\n",
       "      <th>2493</th>\n",
       "      <th>2495.4</th>\n",
       "      <th>2497.8</th>\n",
       "      <th>2500.2</th>\n",
       "      <th>Umidade</th>\n",
       "      <th>Oleo</th>\n",
       "      <th>class</th>\n",
       "    </tr>\n",
       "  </thead>\n",
       "  <tbody>\n",
       "  </tbody>\n",
       "</table>\n",
       "<p>0 rows × 1560 columns</p>\n",
       "</div>"
      ],
      "text/plain": [
       "Empty DataFrame\n",
       "Columns: [999.9, 1000.3, 1000.7, 1001.1, 1001.4, 1001.8, 1002.2, 1002.6, 1003, 1003.4, 1003.8, 1004.2, 1004.5, 1004.9, 1005.3, 1005.7, 1006.1, 1006.5, 1006.9, 1007.3, 1007.7, 1008.1, 1008.5, 1008.8, 1009.2, 1009.6, 1010, 1010.4, 1010.8, 1011.2, 1011.6, 1012, 1012.4, 1012.8, 1013.2, 1013.6, 1014, 1014.4, 1014.8, 1015.2, 1015.6, 1016, 1016.4, 1016.8, 1017.2, 1017.6, 1018, 1018.4, 1018.8, 1019.2, 1019.6, 1020, 1020.4, 1020.8, 1021.2, 1021.6, 1022, 1022.4, 1022.8, 1023.2, 1023.6, 1024, 1024.4, 1024.8, 1025.2, 1025.6, 1026, 1026.4, 1026.8, 1027.2, 1027.6, 1028, 1028.5, 1028.9, 1029.3, 1029.7, 1030.1, 1030.5, 1030.9, 1031.3, 1031.7, 1032.1, 1032.6, 1033, 1033.4, 1033.8, 1034.2, 1034.6, 1035, 1035.4, 1035.9, 1036.3, 1036.7, 1037.1, 1037.5, 1037.9, 1038.3, 1038.8, 1039.2, 1039.6, ...]\n",
       "Index: []\n",
       "\n",
       "[0 rows x 1560 columns]"
      ]
     },
     "execution_count": 466,
     "metadata": {},
     "output_type": "execute_result"
    }
   ],
   "source": [
    "df_pretreat[df_pretreat['class']==8]"
   ]
  },
  {
   "cell_type": "code",
   "execution_count": 451,
   "id": "f763897f",
   "metadata": {},
   "outputs": [
    {
     "data": {
      "text/plain": [
       "10"
      ]
     },
     "execution_count": 451,
     "metadata": {},
     "output_type": "execute_result"
    }
   ],
   "source": [
    "df_pretreat['class'].nunique()"
   ]
  },
  {
   "cell_type": "code",
   "execution_count": 352,
   "id": "11cbadd5",
   "metadata": {},
   "outputs": [
    {
     "name": "stdout",
     "output_type": "stream",
     "text": [
      "[0.52149265 0.19601489 0.15091996 0.06237402 0.02763389]\n"
     ]
    }
   ],
   "source": [
    "\n",
    "\n",
    "\n",
    "\n",
    "pca = PCA(n_components=5)\n",
    "T = pca.fit_transform(df_pretreat.iloc[:,:-3].values)\n",
    "df_pca = pd.DataFrame(T)\n",
    "df_pca.rename(columns={0: 'PC1', 1: 'PC2', 2: 'PC3', 3: 'PC4', 4: 'PC5'}, inplace=True)\n",
    "\n",
    "print(pca.explained_variance_ratio_)\n"
   ]
  },
  {
   "cell_type": "code",
   "execution_count": 69,
   "id": "a947ee61",
   "metadata": {},
   "outputs": [
    {
     "data": {
      "text/html": [
       "<div>\n",
       "<style scoped>\n",
       "    .dataframe tbody tr th:only-of-type {\n",
       "        vertical-align: middle;\n",
       "    }\n",
       "\n",
       "    .dataframe tbody tr th {\n",
       "        vertical-align: top;\n",
       "    }\n",
       "\n",
       "    .dataframe thead th {\n",
       "        text-align: right;\n",
       "    }\n",
       "</style>\n",
       "<table border=\"1\" class=\"dataframe\">\n",
       "  <thead>\n",
       "    <tr style=\"text-align: right;\">\n",
       "      <th></th>\n",
       "      <th>PC1</th>\n",
       "      <th>PC2</th>\n",
       "      <th>PC3</th>\n",
       "      <th>PC4</th>\n",
       "      <th>PC5</th>\n",
       "      <th>ID</th>\n",
       "    </tr>\n",
       "  </thead>\n",
       "  <tbody>\n",
       "    <tr>\n",
       "      <th>0</th>\n",
       "      <td>-0.005806</td>\n",
       "      <td>-0.001853</td>\n",
       "      <td>-0.002422</td>\n",
       "      <td>-0.000318</td>\n",
       "      <td>-0.000533</td>\n",
       "      <td>1</td>\n",
       "    </tr>\n",
       "    <tr>\n",
       "      <th>1</th>\n",
       "      <td>-0.005280</td>\n",
       "      <td>-0.001893</td>\n",
       "      <td>-0.002498</td>\n",
       "      <td>-0.000402</td>\n",
       "      <td>-0.000768</td>\n",
       "      <td>2</td>\n",
       "    </tr>\n",
       "    <tr>\n",
       "      <th>2</th>\n",
       "      <td>-0.006186</td>\n",
       "      <td>-0.001068</td>\n",
       "      <td>-0.002292</td>\n",
       "      <td>-0.000977</td>\n",
       "      <td>0.000524</td>\n",
       "      <td>3</td>\n",
       "    </tr>\n",
       "    <tr>\n",
       "      <th>3</th>\n",
       "      <td>-0.004698</td>\n",
       "      <td>-0.002666</td>\n",
       "      <td>-0.002731</td>\n",
       "      <td>-0.000445</td>\n",
       "      <td>-0.000769</td>\n",
       "      <td>4</td>\n",
       "    </tr>\n",
       "    <tr>\n",
       "      <th>4</th>\n",
       "      <td>-0.005910</td>\n",
       "      <td>-0.001206</td>\n",
       "      <td>-0.002279</td>\n",
       "      <td>0.000070</td>\n",
       "      <td>0.000081</td>\n",
       "      <td>5</td>\n",
       "    </tr>\n",
       "    <tr>\n",
       "      <th>...</th>\n",
       "      <td>...</td>\n",
       "      <td>...</td>\n",
       "      <td>...</td>\n",
       "      <td>...</td>\n",
       "      <td>...</td>\n",
       "      <td>...</td>\n",
       "    </tr>\n",
       "    <tr>\n",
       "      <th>67</th>\n",
       "      <td>-0.002943</td>\n",
       "      <td>-0.003044</td>\n",
       "      <td>-0.001475</td>\n",
       "      <td>-0.000229</td>\n",
       "      <td>-0.000552</td>\n",
       "      <td>68</td>\n",
       "    </tr>\n",
       "    <tr>\n",
       "      <th>68</th>\n",
       "      <td>0.006656</td>\n",
       "      <td>0.002368</td>\n",
       "      <td>0.001296</td>\n",
       "      <td>0.004447</td>\n",
       "      <td>-0.002182</td>\n",
       "      <td>69</td>\n",
       "    </tr>\n",
       "    <tr>\n",
       "      <th>69</th>\n",
       "      <td>0.005736</td>\n",
       "      <td>0.001557</td>\n",
       "      <td>0.001370</td>\n",
       "      <td>0.005109</td>\n",
       "      <td>-0.001442</td>\n",
       "      <td>70</td>\n",
       "    </tr>\n",
       "    <tr>\n",
       "      <th>70</th>\n",
       "      <td>-0.005306</td>\n",
       "      <td>-0.012580</td>\n",
       "      <td>0.001204</td>\n",
       "      <td>0.002264</td>\n",
       "      <td>0.000288</td>\n",
       "      <td>71</td>\n",
       "    </tr>\n",
       "    <tr>\n",
       "      <th>71</th>\n",
       "      <td>-0.001521</td>\n",
       "      <td>-0.009022</td>\n",
       "      <td>-0.000080</td>\n",
       "      <td>0.001039</td>\n",
       "      <td>-0.000588</td>\n",
       "      <td>72</td>\n",
       "    </tr>\n",
       "  </tbody>\n",
       "</table>\n",
       "<p>72 rows × 6 columns</p>\n",
       "</div>"
      ],
      "text/plain": [
       "         PC1       PC2       PC3       PC4       PC5  ID\n",
       "0  -0.005806 -0.001853 -0.002422 -0.000318 -0.000533   1\n",
       "1  -0.005280 -0.001893 -0.002498 -0.000402 -0.000768   2\n",
       "2  -0.006186 -0.001068 -0.002292 -0.000977  0.000524   3\n",
       "3  -0.004698 -0.002666 -0.002731 -0.000445 -0.000769   4\n",
       "4  -0.005910 -0.001206 -0.002279  0.000070  0.000081   5\n",
       "..       ...       ...       ...       ...       ...  ..\n",
       "67 -0.002943 -0.003044 -0.001475 -0.000229 -0.000552  68\n",
       "68  0.006656  0.002368  0.001296  0.004447 -0.002182  69\n",
       "69  0.005736  0.001557  0.001370  0.005109 -0.001442  70\n",
       "70 -0.005306 -0.012580  0.001204  0.002264  0.000288  71\n",
       "71 -0.001521 -0.009022 -0.000080  0.001039 -0.000588  72\n",
       "\n",
       "[72 rows x 6 columns]"
      ]
     },
     "execution_count": 69,
     "metadata": {},
     "output_type": "execute_result"
    }
   ],
   "source": [
    "#df_pca['PC1'] = df_pca['PC1']*-1\n",
    "df_pca['PC2'] = df_pca['PC2']*-1\n",
    "df_pca['ID'] = df['sample Num']\n",
    "df_pca"
   ]
  },
  {
   "cell_type": "code",
   "execution_count": 70,
   "id": "e0413042",
   "metadata": {},
   "outputs": [
    {
     "data": {
      "application/vnd.plotly.v1+json": {
       "config": {
        "plotlyServerURL": "https://plot.ly"
       },
       "data": [
        {
         "customdata": [
          [
           1
          ],
          [
           2
          ],
          [
           3
          ],
          [
           4
          ],
          [
           5
          ],
          [
           6
          ],
          [
           7
          ],
          [
           8
          ],
          [
           9
          ],
          [
           10
          ],
          [
           11
          ],
          [
           12
          ],
          [
           13
          ],
          [
           14
          ],
          [
           15
          ],
          [
           16
          ],
          [
           17
          ],
          [
           18
          ],
          [
           19
          ],
          [
           20
          ],
          [
           21
          ],
          [
           22
          ],
          [
           23
          ],
          [
           24
          ],
          [
           25
          ],
          [
           26
          ],
          [
           27
          ],
          [
           28
          ],
          [
           29
          ],
          [
           30
          ],
          [
           31
          ],
          [
           32
          ],
          [
           33
          ],
          [
           34
          ],
          [
           35
          ],
          [
           36
          ],
          [
           37
          ],
          [
           38
          ],
          [
           39
          ],
          [
           40
          ],
          [
           41
          ],
          [
           42
          ],
          [
           43
          ],
          [
           44
          ],
          [
           45
          ],
          [
           46
          ],
          [
           47
          ],
          [
           48
          ],
          [
           49
          ],
          [
           50
          ],
          [
           51
          ],
          [
           52
          ],
          [
           53
          ],
          [
           54
          ],
          [
           55
          ],
          [
           56
          ],
          [
           57
          ],
          [
           58
          ],
          [
           59
          ],
          [
           60
          ],
          [
           61
          ],
          [
           62
          ],
          [
           63
          ],
          [
           64
          ],
          [
           65
          ],
          [
           66
          ],
          [
           67
          ],
          [
           68
          ],
          [
           69
          ],
          [
           70
          ],
          [
           71
          ],
          [
           72
          ]
         ],
         "hoverlabel": {
          "namelength": 0
         },
         "hovertemplate": "PC1=%{x}<br>PC2=%{y}<br>ID=%{customdata[0]}",
         "legendgroup": "",
         "marker": {
          "color": "#636efa",
          "symbol": "circle"
         },
         "mode": "markers",
         "name": "",
         "showlegend": false,
         "type": "scatter",
         "x": [
          -0.005806098512287644,
          -0.005279787824760533,
          -0.006186266309045748,
          -0.004697925146087078,
          -0.005909973773434209,
          -0.006810726069659906,
          -0.0037470564286513877,
          -0.0005342612062871803,
          -0.00573678174999156,
          -0.009193656074027093,
          -0.01532112245557505,
          -0.012461480086606724,
          -0.01091772443277808,
          -0.01199767068008292,
          -0.008518119082318252,
          0.0007915305337244449,
          0.00044404983791235025,
          0.0013466231402140167,
          -0.0008584966888728356,
          -0.0009649590184306929,
          -0.007982262561828414,
          -0.00272070795387999,
          -0.0030222490049643187,
          0.012160529940793821,
          -0.0005295477291328391,
          -0.002662137638090621,
          0.001752660756802929,
          0.007338948622192713,
          0.005089998519951214,
          0.009496140094428845,
          0.007500483349348898,
          0.005836729060834774,
          -0.0015374759416438997,
          0.0003049791892353749,
          0.012003905019784959,
          0.012615229613373542,
          0.008199412633073057,
          0.01545918485408489,
          0.015130921238115188,
          0.00888487823263147,
          0.005199223586011011,
          0.01216241185463059,
          0.012160529940793821,
          0.015256973249367468,
          0.01051741476143707,
          0.014545788603117369,
          -0.0018180553456249317,
          -0.002129696280464215,
          -0.0017373538432857072,
          -0.0004341913996567889,
          -0.0014771704663576303,
          -0.0011051635859135004,
          -0.0031205412708746163,
          -0.00511175877260801,
          -0.006160825377197279,
          -0.00567571691070132,
          -0.003510001075430228,
          -0.00573678174999156,
          -0.005185607961691554,
          -0.0065778899419089215,
          -0.008233560898401167,
          0.0008295265431422724,
          -0.0035704788126561943,
          -0.00014788377783853012,
          0.00042333801819404576,
          -0.0021198688532179147,
          -0.0008237281640679443,
          -0.0029432284161171494,
          0.006655966581013872,
          0.005735749535406438,
          -0.0053060424470969085,
          -0.0015210955900773753
         ],
         "xaxis": "x",
         "y": [
          -0.0018527560843682091,
          -0.0018933029636305956,
          -0.0010682721857968019,
          -0.002666050747771999,
          -0.0012061459989559323,
          -0.00972827663600953,
          0.003763921235546128,
          0.00903392166242605,
          -0.003338488721790348,
          0.0007126157936454437,
          0.0008826711868889199,
          0.008405166159525431,
          0.0020375439175158885,
          0.0030961980454630913,
          0.0019351843535299847,
          0.006701249806234801,
          0.0028476028990921283,
          0.00437848546829757,
          0.000034478865217348414,
          0.001318036179076589,
          -0.013958400964579024,
          -0.0011564183183746723,
          -0.002285432994408039,
          0.0007882164368610227,
          0.0031216553066979297,
          -0.0014302073240101251,
          0.008223577436573912,
          0.001782828011046364,
          -0.0013758878679232317,
          0.005419244842068114,
          -0.0006920113987176999,
          -0.0012548248860672728,
          -0.003962781947050956,
          -0.005277231234615881,
          -0.0015690801778897791,
          -0.0031271407727916363,
          -0.008484429504386567,
          0.0010373480584000999,
          -0.0012602875395047828,
          -0.002715433302506557,
          -0.010369701708917243,
          -0.00034556452339502835,
          0.0007882164368610227,
          0.002585535602203211,
          -0.004733634204246506,
          0.0005168453395908264,
          0.005148794345525547,
          0.0051549434478328415,
          0.006765668180699858,
          0.010777477911939809,
          0.004350566592656957,
          0.005400597333024632,
          0.001016585087681726,
          -0.0017225173447945384,
          -0.006882473956828874,
          -0.002086061314377969,
          0.00388927120053415,
          -0.003338488721790348,
          -0.0007841319533764425,
          0.0076140157599286105,
          0.003061236835837244,
          0.002836269512961132,
          -0.004487716051263935,
          0.0009675901723204986,
          0.0027991263735737968,
          -0.0030223215313304208,
          -0.0003968035331367629,
          -0.003043725287243615,
          0.0023681928462832786,
          0.0015569719957144559,
          -0.012580238068173917,
          -0.009021610869251075
         ],
         "yaxis": "y"
        }
       ],
       "layout": {
        "height": 600,
        "legend": {
         "tracegroupgap": 0
        },
        "margin": {
         "t": 60
        },
        "template": {
         "data": {
          "bar": [
           {
            "error_x": {
             "color": "#2a3f5f"
            },
            "error_y": {
             "color": "#2a3f5f"
            },
            "marker": {
             "line": {
              "color": "#E5ECF6",
              "width": 0.5
             }
            },
            "type": "bar"
           }
          ],
          "barpolar": [
           {
            "marker": {
             "line": {
              "color": "#E5ECF6",
              "width": 0.5
             }
            },
            "type": "barpolar"
           }
          ],
          "carpet": [
           {
            "aaxis": {
             "endlinecolor": "#2a3f5f",
             "gridcolor": "white",
             "linecolor": "white",
             "minorgridcolor": "white",
             "startlinecolor": "#2a3f5f"
            },
            "baxis": {
             "endlinecolor": "#2a3f5f",
             "gridcolor": "white",
             "linecolor": "white",
             "minorgridcolor": "white",
             "startlinecolor": "#2a3f5f"
            },
            "type": "carpet"
           }
          ],
          "choropleth": [
           {
            "colorbar": {
             "outlinewidth": 0,
             "ticks": ""
            },
            "type": "choropleth"
           }
          ],
          "contour": [
           {
            "colorbar": {
             "outlinewidth": 0,
             "ticks": ""
            },
            "colorscale": [
             [
              0,
              "#0d0887"
             ],
             [
              0.1111111111111111,
              "#46039f"
             ],
             [
              0.2222222222222222,
              "#7201a8"
             ],
             [
              0.3333333333333333,
              "#9c179e"
             ],
             [
              0.4444444444444444,
              "#bd3786"
             ],
             [
              0.5555555555555556,
              "#d8576b"
             ],
             [
              0.6666666666666666,
              "#ed7953"
             ],
             [
              0.7777777777777778,
              "#fb9f3a"
             ],
             [
              0.8888888888888888,
              "#fdca26"
             ],
             [
              1,
              "#f0f921"
             ]
            ],
            "type": "contour"
           }
          ],
          "contourcarpet": [
           {
            "colorbar": {
             "outlinewidth": 0,
             "ticks": ""
            },
            "type": "contourcarpet"
           }
          ],
          "heatmap": [
           {
            "colorbar": {
             "outlinewidth": 0,
             "ticks": ""
            },
            "colorscale": [
             [
              0,
              "#0d0887"
             ],
             [
              0.1111111111111111,
              "#46039f"
             ],
             [
              0.2222222222222222,
              "#7201a8"
             ],
             [
              0.3333333333333333,
              "#9c179e"
             ],
             [
              0.4444444444444444,
              "#bd3786"
             ],
             [
              0.5555555555555556,
              "#d8576b"
             ],
             [
              0.6666666666666666,
              "#ed7953"
             ],
             [
              0.7777777777777778,
              "#fb9f3a"
             ],
             [
              0.8888888888888888,
              "#fdca26"
             ],
             [
              1,
              "#f0f921"
             ]
            ],
            "type": "heatmap"
           }
          ],
          "heatmapgl": [
           {
            "colorbar": {
             "outlinewidth": 0,
             "ticks": ""
            },
            "colorscale": [
             [
              0,
              "#0d0887"
             ],
             [
              0.1111111111111111,
              "#46039f"
             ],
             [
              0.2222222222222222,
              "#7201a8"
             ],
             [
              0.3333333333333333,
              "#9c179e"
             ],
             [
              0.4444444444444444,
              "#bd3786"
             ],
             [
              0.5555555555555556,
              "#d8576b"
             ],
             [
              0.6666666666666666,
              "#ed7953"
             ],
             [
              0.7777777777777778,
              "#fb9f3a"
             ],
             [
              0.8888888888888888,
              "#fdca26"
             ],
             [
              1,
              "#f0f921"
             ]
            ],
            "type": "heatmapgl"
           }
          ],
          "histogram": [
           {
            "marker": {
             "colorbar": {
              "outlinewidth": 0,
              "ticks": ""
             }
            },
            "type": "histogram"
           }
          ],
          "histogram2d": [
           {
            "colorbar": {
             "outlinewidth": 0,
             "ticks": ""
            },
            "colorscale": [
             [
              0,
              "#0d0887"
             ],
             [
              0.1111111111111111,
              "#46039f"
             ],
             [
              0.2222222222222222,
              "#7201a8"
             ],
             [
              0.3333333333333333,
              "#9c179e"
             ],
             [
              0.4444444444444444,
              "#bd3786"
             ],
             [
              0.5555555555555556,
              "#d8576b"
             ],
             [
              0.6666666666666666,
              "#ed7953"
             ],
             [
              0.7777777777777778,
              "#fb9f3a"
             ],
             [
              0.8888888888888888,
              "#fdca26"
             ],
             [
              1,
              "#f0f921"
             ]
            ],
            "type": "histogram2d"
           }
          ],
          "histogram2dcontour": [
           {
            "colorbar": {
             "outlinewidth": 0,
             "ticks": ""
            },
            "colorscale": [
             [
              0,
              "#0d0887"
             ],
             [
              0.1111111111111111,
              "#46039f"
             ],
             [
              0.2222222222222222,
              "#7201a8"
             ],
             [
              0.3333333333333333,
              "#9c179e"
             ],
             [
              0.4444444444444444,
              "#bd3786"
             ],
             [
              0.5555555555555556,
              "#d8576b"
             ],
             [
              0.6666666666666666,
              "#ed7953"
             ],
             [
              0.7777777777777778,
              "#fb9f3a"
             ],
             [
              0.8888888888888888,
              "#fdca26"
             ],
             [
              1,
              "#f0f921"
             ]
            ],
            "type": "histogram2dcontour"
           }
          ],
          "mesh3d": [
           {
            "colorbar": {
             "outlinewidth": 0,
             "ticks": ""
            },
            "type": "mesh3d"
           }
          ],
          "parcoords": [
           {
            "line": {
             "colorbar": {
              "outlinewidth": 0,
              "ticks": ""
             }
            },
            "type": "parcoords"
           }
          ],
          "scatter": [
           {
            "marker": {
             "colorbar": {
              "outlinewidth": 0,
              "ticks": ""
             }
            },
            "type": "scatter"
           }
          ],
          "scatter3d": [
           {
            "line": {
             "colorbar": {
              "outlinewidth": 0,
              "ticks": ""
             }
            },
            "marker": {
             "colorbar": {
              "outlinewidth": 0,
              "ticks": ""
             }
            },
            "type": "scatter3d"
           }
          ],
          "scattercarpet": [
           {
            "marker": {
             "colorbar": {
              "outlinewidth": 0,
              "ticks": ""
             }
            },
            "type": "scattercarpet"
           }
          ],
          "scattergeo": [
           {
            "marker": {
             "colorbar": {
              "outlinewidth": 0,
              "ticks": ""
             }
            },
            "type": "scattergeo"
           }
          ],
          "scattergl": [
           {
            "marker": {
             "colorbar": {
              "outlinewidth": 0,
              "ticks": ""
             }
            },
            "type": "scattergl"
           }
          ],
          "scattermapbox": [
           {
            "marker": {
             "colorbar": {
              "outlinewidth": 0,
              "ticks": ""
             }
            },
            "type": "scattermapbox"
           }
          ],
          "scatterpolar": [
           {
            "marker": {
             "colorbar": {
              "outlinewidth": 0,
              "ticks": ""
             }
            },
            "type": "scatterpolar"
           }
          ],
          "scatterpolargl": [
           {
            "marker": {
             "colorbar": {
              "outlinewidth": 0,
              "ticks": ""
             }
            },
            "type": "scatterpolargl"
           }
          ],
          "scatterternary": [
           {
            "marker": {
             "colorbar": {
              "outlinewidth": 0,
              "ticks": ""
             }
            },
            "type": "scatterternary"
           }
          ],
          "surface": [
           {
            "colorbar": {
             "outlinewidth": 0,
             "ticks": ""
            },
            "colorscale": [
             [
              0,
              "#0d0887"
             ],
             [
              0.1111111111111111,
              "#46039f"
             ],
             [
              0.2222222222222222,
              "#7201a8"
             ],
             [
              0.3333333333333333,
              "#9c179e"
             ],
             [
              0.4444444444444444,
              "#bd3786"
             ],
             [
              0.5555555555555556,
              "#d8576b"
             ],
             [
              0.6666666666666666,
              "#ed7953"
             ],
             [
              0.7777777777777778,
              "#fb9f3a"
             ],
             [
              0.8888888888888888,
              "#fdca26"
             ],
             [
              1,
              "#f0f921"
             ]
            ],
            "type": "surface"
           }
          ],
          "table": [
           {
            "cells": {
             "fill": {
              "color": "#EBF0F8"
             },
             "line": {
              "color": "white"
             }
            },
            "header": {
             "fill": {
              "color": "#C8D4E3"
             },
             "line": {
              "color": "white"
             }
            },
            "type": "table"
           }
          ]
         },
         "layout": {
          "annotationdefaults": {
           "arrowcolor": "#2a3f5f",
           "arrowhead": 0,
           "arrowwidth": 1
          },
          "colorscale": {
           "diverging": [
            [
             0,
             "#8e0152"
            ],
            [
             0.1,
             "#c51b7d"
            ],
            [
             0.2,
             "#de77ae"
            ],
            [
             0.3,
             "#f1b6da"
            ],
            [
             0.4,
             "#fde0ef"
            ],
            [
             0.5,
             "#f7f7f7"
            ],
            [
             0.6,
             "#e6f5d0"
            ],
            [
             0.7,
             "#b8e186"
            ],
            [
             0.8,
             "#7fbc41"
            ],
            [
             0.9,
             "#4d9221"
            ],
            [
             1,
             "#276419"
            ]
           ],
           "sequential": [
            [
             0,
             "#0d0887"
            ],
            [
             0.1111111111111111,
             "#46039f"
            ],
            [
             0.2222222222222222,
             "#7201a8"
            ],
            [
             0.3333333333333333,
             "#9c179e"
            ],
            [
             0.4444444444444444,
             "#bd3786"
            ],
            [
             0.5555555555555556,
             "#d8576b"
            ],
            [
             0.6666666666666666,
             "#ed7953"
            ],
            [
             0.7777777777777778,
             "#fb9f3a"
            ],
            [
             0.8888888888888888,
             "#fdca26"
            ],
            [
             1,
             "#f0f921"
            ]
           ],
           "sequentialminus": [
            [
             0,
             "#0d0887"
            ],
            [
             0.1111111111111111,
             "#46039f"
            ],
            [
             0.2222222222222222,
             "#7201a8"
            ],
            [
             0.3333333333333333,
             "#9c179e"
            ],
            [
             0.4444444444444444,
             "#bd3786"
            ],
            [
             0.5555555555555556,
             "#d8576b"
            ],
            [
             0.6666666666666666,
             "#ed7953"
            ],
            [
             0.7777777777777778,
             "#fb9f3a"
            ],
            [
             0.8888888888888888,
             "#fdca26"
            ],
            [
             1,
             "#f0f921"
            ]
           ]
          },
          "colorway": [
           "#636efa",
           "#EF553B",
           "#00cc96",
           "#ab63fa",
           "#FFA15A",
           "#19d3f3",
           "#FF6692",
           "#B6E880",
           "#FF97FF",
           "#FECB52"
          ],
          "font": {
           "color": "#2a3f5f"
          },
          "geo": {
           "bgcolor": "white",
           "lakecolor": "white",
           "landcolor": "#E5ECF6",
           "showlakes": true,
           "showland": true,
           "subunitcolor": "white"
          },
          "hoverlabel": {
           "align": "left"
          },
          "hovermode": "closest",
          "mapbox": {
           "style": "light"
          },
          "paper_bgcolor": "white",
          "plot_bgcolor": "#E5ECF6",
          "polar": {
           "angularaxis": {
            "gridcolor": "white",
            "linecolor": "white",
            "ticks": ""
           },
           "bgcolor": "#E5ECF6",
           "radialaxis": {
            "gridcolor": "white",
            "linecolor": "white",
            "ticks": ""
           }
          },
          "scene": {
           "xaxis": {
            "backgroundcolor": "#E5ECF6",
            "gridcolor": "white",
            "gridwidth": 2,
            "linecolor": "white",
            "showbackground": true,
            "ticks": "",
            "zerolinecolor": "white"
           },
           "yaxis": {
            "backgroundcolor": "#E5ECF6",
            "gridcolor": "white",
            "gridwidth": 2,
            "linecolor": "white",
            "showbackground": true,
            "ticks": "",
            "zerolinecolor": "white"
           },
           "zaxis": {
            "backgroundcolor": "#E5ECF6",
            "gridcolor": "white",
            "gridwidth": 2,
            "linecolor": "white",
            "showbackground": true,
            "ticks": "",
            "zerolinecolor": "white"
           }
          },
          "shapedefaults": {
           "line": {
            "color": "#2a3f5f"
           }
          },
          "ternary": {
           "aaxis": {
            "gridcolor": "white",
            "linecolor": "white",
            "ticks": ""
           },
           "baxis": {
            "gridcolor": "white",
            "linecolor": "white",
            "ticks": ""
           },
           "bgcolor": "#E5ECF6",
           "caxis": {
            "gridcolor": "white",
            "linecolor": "white",
            "ticks": ""
           }
          },
          "title": {
           "x": 0.05
          },
          "xaxis": {
           "automargin": true,
           "gridcolor": "white",
           "linecolor": "white",
           "ticks": "",
           "zerolinecolor": "white",
           "zerolinewidth": 2
          },
          "yaxis": {
           "automargin": true,
           "gridcolor": "white",
           "linecolor": "white",
           "ticks": "",
           "zerolinecolor": "white",
           "zerolinewidth": 2
          }
         }
        },
        "xaxis": {
         "anchor": "y",
         "domain": [
          0,
          0.98
         ],
         "title": {
          "text": "PC1"
         }
        },
        "yaxis": {
         "anchor": "x",
         "domain": [
          0,
          1
         ],
         "title": {
          "text": "PC2"
         }
        }
       }
      }
     },
     "metadata": {},
     "output_type": "display_data"
    }
   ],
   "source": [
    "import plotly.express as px\n",
    "\n",
    "fig = px.scatter(df_pca, x='PC1', y='PC2', render_mode='svg', hover_data=['ID'])\n",
    "\n",
    "fig.show()"
   ]
  },
  {
   "cell_type": "code",
   "execution_count": 176,
   "id": "fe673cc3",
   "metadata": {},
   "outputs": [
    {
     "name": "stdout",
     "output_type": "stream",
     "text": [
      "[pca] >Column labels are auto-completed.\n",
      "[pca] >Row labels are auto-completed.\n",
      "[pca] >The PCA reduction is performed to capture [95.0%] explained variance using the [1557] columns of the input data.\n",
      "[pca] >Fit using PCA.\n",
      "[pca] >Compute loadings and PCs.\n",
      "[pca] >Compute explained variance.\n",
      "[pca] >Number of components is [2] that covers the [95.00%] explained variance.\n",
      "[pca] >The PCA reduction is performed on the [1557] columns of the input dataframe.\n",
      "[pca] >Fit using PCA.\n",
      "[pca] >Compute loadings and PCs.\n",
      "[pca] >Outlier detection using Hotelling T2 test with alpha=[0.05] and n_components=[2]\n",
      "[pca] >Multiple test correction applied for Hotelling T2 test: [fdr_bh]\n",
      "[pca] >Outlier detection using SPE/DmodX with n_std=[2]\n",
      "[pca] >Plot PC1 vs PC2 with loadings.\n"
     ]
    },
    {
     "name": "stderr",
     "output_type": "stream",
     "text": [
      "                                         \r"
     ]
    },
    {
     "data": {
      "text/plain": [
       "(<Figure size 1080x720 with 1 Axes>,\n",
       " <AxesSubplot:title={'center':'Outliers marked using Hotellings T2 method.'}, xlabel='PC1 (93.4% expl.var)', ylabel='PC2 (4.49% expl.var)'>)"
      ]
     },
     "execution_count": 176,
     "metadata": {},
     "output_type": "execute_result"
    },
    {
     "data": {
      "image/png": "[encoded data removed]",
      "text/plain": [
       "<Figure size 1080x720 with 1 Axes>"
      ]
     },
     "metadata": {
      "needs_background": "light"
     },
     "output_type": "display_data"
    }
   ],
   "source": [
    "# import numpy as np\n",
    "# from sklearn.decomposition import PCA\n",
    "# from sklearn.preprocessing import StandardScaler\n",
    "from pca import pca\n",
    "\n",
    "pca_model = pca(detect_outliers=['ht2', 'spe'],n_std=2.5 )\n",
    "\n",
    "results = pca_model.fit_transform(X)\n",
    "#PCA(n_components=5)\n",
    "# Plot Hotellings T2\n",
    "pca_model.biplot(SPE=True, hotellingt2=True, title='Outliers marked using Hotellings T2 method.', legend=False)"
   ]
  },
  {
   "cell_type": "code",
   "execution_count": 412,
   "id": "3d21e7e6",
   "metadata": {},
   "outputs": [],
   "source": [
    "# df_pretreat = df.iloc[:, 1:-2]\n",
    "# df_pretreat['Umidade'] = df['Moisture Content (%)']\n",
    "# df_pretreat['Oleo'] = df['Fat Content (%)']"
   ]
  },
  {
   "cell_type": "code",
   "execution_count": 423,
   "id": "a322761d",
   "metadata": {},
   "outputs": [],
   "source": [
    "# ###Remove maybe 39 and 42\n",
    "# df_pretreat.drop([39,42], inplace=True)"
   ]
  },
  {
   "cell_type": "code",
   "execution_count": 12,
   "id": "34e4be4b",
   "metadata": {},
   "outputs": [],
   "source": [
    "df_pretreat['class'] = 0\n",
    "for index, row in df_pretreat.iterrows():\n",
    "    if row['Umidade'] < 8:\n",
    "        df_pretreat.loc[index, 'class'] = 0\n",
    "    elif row['Umidade'] < 9:\n",
    "        df_pretreat.loc[index, 'class'] = 1\n",
    "    elif row['Umidade'] < 10:\n",
    "        df_pretreat.loc[index, 'class'] = 2\n",
    "    else:\n",
    "        df_pretreat.loc[index, 'class'] = 3"
   ]
  },
  {
   "cell_type": "code",
   "execution_count": 383,
   "id": "e8e2b137",
   "metadata": {},
   "outputs": [],
   "source": [
    "# ##Derive 3 + SNV\n",
    "\n",
    "\n",
    "\n",
    "\n",
    "y = df_pretreat[['Umidade','Oleo','class']]\n",
    "## Do not take the reference value and the class\n",
    "X = df_pretreat.values[:, :-3]\n",
    "X_train, X_test, y_train, y_test = train_test_split(X, y, test_size=0.15, random_state=0,stratify=y['class'])\n",
    "\n",
    "\n",
    "# col = [0,1,2,3,4,5,7,8,9,10,12,13,14,16,17,19,21,27,28,30,34,37,38,39,40,41,42,44,46,47,49,50,51,52,53,55,56,59,60,61,64,65,66,67,68,69,70,71,72,75,76,79,81,84,85,86,94,95,99,105,106,107,109,110,115,116,118,119,120,121,127,128,129,132,133,136,137,140,142,143,146,147,148,150,151,153,158,159,160,163,164,165,166,167,168,169,175,180,181,182,188,189,191,192,195,196,199,200,205,208,209,212,214,215,216,219,223,225,227,228,229,232,233,237,238,239,243,246,247,248,249,252,255,258,260,262,269,270,271,273,275,279,280,281,283,284,285,286,287,290,292,293,296,297,298,299,300,301,303,304,305,306,307,308,310,311,312,313,314,315,317,319,320,322,328,331,335,337,338,339,340,341,343,349,351,352,355,357,367,370,371,373,375,379,381,384,385,388,389,390,391,392,393,394,395,396,397,401,402,403,405,406,409,415,419,420,422,423,424,425,426,428,429,430,431,434,435,436,437,438,439,440,441,442,443,444,445,446,447,448,449,450,451,452,453,454,455,456,457,458,461,462,463,464,465,469,470,471,472,474,475,476,477,478,479,482,483,484,485,486,487,488,491,492,493,495,497,498,499,500,501,502,505,508,509,510,512,514,515,519,525,527,528,532,533,535,536,542,544,545,550,552,553,554,559,560,562,563,567,569,573,576,577,578,580,583,584,585,586,587,588,590,594,598,599,601,602,603,604,605,606,609,610,611,615,619,622,624,627,628,629,630,631,632,635,637,638,639,641,645,646,647,651,652,653,655,657,658,659,660,662,663,664,665,668,670,671,673,675,676,678,679,680,683,685,686,687,690,691,692,694,698,699,707,708,709,710,716,719,721,724,728,731,732,738,747,748,749,750,753,754,756,761,763,764,766,767,769,774,775,779,780,781,783,785,786,787,792,794,798,801,802,803,805,809,810,811,815,816,818,822,824,825,827,828,829,830,832,833,834,837,838,839,840,841,842,843,844,845,850,852,854,856,858,859,860,865,866,867,869,870,871,872,874,875,882,884,887,888,889,890,891,892,893,894,897,898,899,901,902,907,909,911,915,916,917,918,921,922,924,925,927,929,931,932,933,934,935,936,937,938,943,944,948,950,954,956,959,961,962,964,968,969,972,975,978,982,983,984,986,990,991,995,997,998,1000,1001,1003,1005,1007,1009,1010,1016,1017,1018,1019,1020,1028,1033,1034,1041,1047,1052,1053,1062,1063,1064,1070,1071,1072,1073,1075,1076,1078,1079,1082,1083,1084,1087,1088,1089,1092,1096,1097,1100,1101,1103,1106,1107,1108,1109,1110,1112,1115,1116,1117,1121,1123,1124,1126,1127,1131,1132,1134,1136,1140,1143,1146,1153,1154,1157,1159,1163,1164,1165,1166,1167,1168,1172,1173,1174,1176,1182,1183,1184,1188,1191,1193,1194,1197,1198,1201,1204,1208,1209,1214,1215,1216,1217,1218,1221,1223,1224,1226,1227,1228,1229,1232,1236,1237,1238,1241,1243,1245,1246,1247,1249,1250,1251,1253,1262,1265,1273,1277,1280,1281,1282,1283,1284,1285,1287,1288,1289,1291,1292,1293,1295,1296,1300,1301,1305,1306,1308,1309,1310,1311,1312,1317,1319,1320,1324,1325,1326,1327,1329,1331,1332,1334,1335,1338,1339,1341,1343,1345,1346,1347,1349,1352,1353,1355,1356,1357,1360,1361,1366,1367,1368,1371,1373,1374,1375,1376,1377,1378,1383,1392,1394,1397,1402,1403,1405,1408,1409,1410,1411,1413,1414,1416,1420,1422,1423,1424,1425,1426,1428,1432,1433,1434,1437,1438,1441,1447,1450,1451,1452,1453,1456,1458,1461,1462,1464,1467,1468,1471,1472,1475,1477,1478,1485,1487,1488,1489,1490,1493,1495,1497,1501,1507,1509,1510,1515,1517,1519,1521,1522,1523,1526,1529,1530,1533,1536,1538,1539,1540,1547,1549,1553,1554,1555]\n",
    "# X_train = (np.delete(X_train, col,1))\n",
    "# X_test = (np.delete(X_test, col,1))\n",
    "# X = (np.delete(X, col,1))\n",
    "# col = [  1,   4,   5,   6,  12,  13,  14,  15,  16,  20,  23,  24,  28,\n",
    "#         30,  31,  34,  37,  40,  46,  47,  50,  51,  58,  60,  61,  62,\n",
    "#         63,  64,  66,  67,  71,  72,  75,  77,  78,  79,  80,  86,  91,\n",
    "#         93,  94,  96,  97, 103, 104, 105, 106, 107, 113, 118, 120, 121,\n",
    "#        126, 130, 132, 134, 135, 137, 139, 140, 141, 144, 152, 153, 155,\n",
    "#        160, 161, 162, 163, 164, 167, 168, 169, 170, 172, 175, 177, 180,\n",
    "#        181, 182, 183, 186, 194, 195, 197, 199, 200, 202, 211, 213, 215,\n",
    "#        220, 222, 225, 226, 227, 230, 231, 235, 236, 237, 240, 242, 246,\n",
    "#        249, 250, 254, 255, 258, 259, 260, 261, 264, 268, 270, 272, 276,\n",
    "#        278, 283, 286, 287, 288, 289, 291, 293, 298, 300, 302, 309, 311,\n",
    "#        312, 313, 315, 317, 319, 320, 322, 323, 324, 325, 326, 329, 331,\n",
    "#        332, 334, 336, 337, 339, 344, 345, 346, 349, 351, 352, 353, 356,\n",
    "#        357, 359, 363, 365, 368, 371, 373, 375, 376, 377, 378, 379, 381,\n",
    "#        383, 384, 386, 387, 390, 393, 395, 396, 397, 400, 401, 403, 407,\n",
    "#        409, 410, 411, 413, 415, 416, 417, 420, 421, 424, 425, 427, 428,\n",
    "#        429, 430, 432, 434, 436, 437, 439, 440, 441, 445, 446, 450, 451,\n",
    "#        452, 453, 454, 457, 458, 461, 462, 464, 466, 467, 468, 470, 471,\n",
    "#        473, 474, 477, 479, 482, 486, 488, 490, 493, 496, 497, 500, 501,\n",
    "#        503, 508, 511, 512, 515, 517, 518, 519, 521, 522, 523, 525, 526,\n",
    "#        529, 531, 533, 535, 539, 542, 543, 544, 545, 546, 548, 549, 551,\n",
    "#        552, 564, 565, 570, 571, 572, 574, 576, 579, 581, 583, 585, 590,\n",
    "#        591, 592, 593, 594, 595, 602, 603, 604, 605, 606, 607, 610, 611,\n",
    "#        612, 614, 615, 617, 618, 621, 622, 623, 626, 628, 630, 631, 633,\n",
    "#        634, 638, 639, 640, 642, 643, 646, 647, 648, 649, 650, 658, 660,\n",
    "#        661, 662, 668, 669, 679, 683, 685, 686, 688, 690, 691, 692, 698,\n",
    "#        699, 703, 705, 706, 708, 709, 710, 712, 717, 718, 721, 723, 725,\n",
    "#        726, 727, 730, 732, 735, 737, 738, 746, 750, 751, 752, 754, 756,\n",
    "#        760, 762, 763, 765, 766, 769, 770, 771, 773, 774, 776]\n",
    "# X_train = (np.delete(X_train, col,1))\n",
    "# X_test = (np.delete(X_test, col,1))\n",
    "# X = (np.delete(X, col,1))\n",
    "\n",
    "# col = [0,   1,   2,   6,   8,  11,  12,  15,  18,  20,  22,  24,  25,\n",
    "#         27,  29,  30,  32,  36,  38,  39,  40,  42,  43,  47,  48,  49,\n",
    "#         58,  59,  62,  65,  67,  68,  72,  74,  75,  77,  78,  79,  80,\n",
    "#         82,  85,  86,  88,  96, 101, 108, 110, 112, 115, 118, 120, 122,\n",
    "#        123, 124, 125, 126, 127, 129, 131, 136, 137, 138, 139, 141, 142,\n",
    "#        143, 144, 145, 146, 147, 152, 157, 160, 166, 168, 170, 173, 176,\n",
    "#        177, 180, 184, 188, 189, 190, 194, 196, 202, 204, 209, 211, 213,\n",
    "#        214, 215, 216, 219, 222, 223, 225, 227, 228, 232, 233, 235, 236,\n",
    "#        240, 241, 247, 248, 249, 251, 257, 263, 268, 271, 273, 276, 277,\n",
    "#        280, 281, 288, 291, 292, 294, 296, 297, 298, 299, 304, 305, 306,\n",
    "#        307, 308, 310, 311, 313, 315, 316, 318, 319, 322, 323, 325, 328,\n",
    "#        329, 332, 335, 341, 346, 347, 348, 353, 360, 364, 365, 366, 367,\n",
    "#        373, 375, 377, 378, 379, 380, 381, 382, 383, 385, 387, 388, 391,\n",
    "#        392, 395, 396, 397, 403, 406, 407, 408, 409, 410, 414]\n",
    "# X_train = (np.delete(X_train, col,1))\n",
    "# X_test = (np.delete(X_test, col,1))\n",
    "# X = (np.delete(X, col,1))\n",
    "\n",
    "# # col = [1,   4,   6,   9,  12,  17,  18,  19,  22,  23,  24,  26,  33,\n",
    "# #         34,  35,  41,  48,  52,  53,  58,  60,  61,  63,  66,  68,  70,\n",
    "# #         72,  75,  78,  79,  82,  84,  86,  87,  88,  90,  91,  92,  95,\n",
    "# #         99, 102, 105, 107, 111, 115, 116, 125, 126, 127, 128, 129, 130,\n",
    "# #        132, 133, 135, 136, 140, 145, 147, 148, 149, 150, 151, 152, 154,\n",
    "# #        157, 160, 161, 163, 165, 171, 172, 175, 178, 182, 184, 185, 187,\n",
    "# #        189, 190, 193, 195, 196, 200, 201, 206, 208, 213, 216, 224, 226,\n",
    "# #        227, 232]\n",
    "# # X_train = (np.delete(X_train, col,1))\n",
    "# # X_test = (np.delete(X_test, col,1))\n",
    "# # X = (np.delete(X, col,1))\n",
    "\n",
    "# # col = [  1,   8,   9,  11,  13,  25,  28,  29,  32,  41,  43,  47,  51,\n",
    "# #         52,  53,  54,  55,  56,  57,  59,  65,  69,  72,  76,  84,  88,\n",
    "# #         89,  93,  95,  97,  99, 101, 102, 104, 114, 115, 117, 123, 125,\n",
    "# #        126, 128, 130, 132, 140, 144, 146, 147, 148, 149]\n",
    "# # X_train = (np.delete(X_train, col,1))\n",
    "# # X_test = (np.delete(X_test, col,1))\n",
    "# # X = (np.delete(X, col,1))\n",
    "\n",
    "# # col = [  0,  6,  9, 10, 13, 14, 15, 18, 20, 21, 22, 23, 25, 28, 29, 32, 35,\n",
    "# #        40, 42, 44, 45, 48, 53, 54, 67, 68, 71, 78, 83, 86, 89, 93]\n",
    "# # X_train = (np.delete(X_train, col,1))\n",
    "# # X_test = (np.delete(X_test, col,1))\n",
    "# # X = (np.delete(X, col,1))\n",
    "\n",
    "# # col = [  4,  6,  8, 15, 25, 41, 43, 44, 49, 51, 54, 58, 61, 64, 74, 78]\n",
    "# # X_train = (np.delete(X_train, col,1))\n",
    "# # X_test = (np.delete(X_test, col,1))\n",
    "# # X = (np.delete(X, col,1))\n",
    "\n",
    "# # col = [  8, 23, 27, 48, 53, 54, 58, 63]\n",
    "# # X_train = (np.delete(X_train, col,1))\n",
    "# # X_test = (np.delete(X_test, col,1))\n",
    "# # X = (np.delete(X, col,1))\n",
    "\n",
    "\n",
    "# # X_train_snv = msc(X_train)\n",
    "# # X_#test_snv = msc(X_test)\n",
    "\n",
    "y_train_oleo = y_train['Oleo']\n",
    "\n",
    "\n",
    "y_test_oleo = y_test['Oleo']\n",
    "\n",
    "# #X1 = savgol_filter(X_train, 23, polyorder=2, deriv=2)\n",
    "# #X2 = savgol_filter(X_test, 23, polyorder=2, deriv=2)\n",
    "\n",
    "# # X_train_snv = msc(X_train)\n",
    "# # X_test_snv = msc(X_test)\n",
    "\n",
    "# # mean centre correction\n",
    "# #X_mc = mc(X1)\n",
    "\n",
    "# ##Standard Normal Variate\n",
    "\n",
    "# # Xsnv = snv(X_train)"
   ]
  },
  {
   "cell_type": "code",
   "execution_count": 11,
   "id": "cbe6fa8f",
   "metadata": {},
   "outputs": [],
   "source": [
    "##Derive 3 + SNV\n",
    "\n",
    "from sklearn.preprocessing import StandardScaler\n",
    "from sklearn.model_selection import train_test_split\n",
    "\n",
    "\n",
    "y = df_pretreat[['Umidade','Oleo','class']]\n",
    "## Do not take the reference value and the class\n",
    "X = df_pretreat.values[:, :-3]\n",
    "X_train, X_test, y_train, y_test = train_test_split(X, y, test_size=0.15, random_state=0,stratify=y['class'])\n",
    "\n",
    "\n",
    "col = [1,3,4,5,6,7,8,11,13,14,18,21,22,23,24,30,31,32,33,36,38,41,42,43,45,47,51,60,61,65,66,67,70,73,75,78,79,81,82,85,86,87,89,92,94,97,99,103,105,106,107,109,110,111,113,115,118,119,121,127,128,129,130,132,134,137,140,147,148,152,158,160,163,164,165,166,169,172,179,181,188,189,190,192,196,197,198,199,201,202,203,206,208,209,210,212,213,214,215,217,218,219,220,222,225,229,230,231,233,237,239,240,242,243,244,246,248,249,251,252,257,259,260,261,263,264,267,268,272,275,276,278,279,280,284,285,286,287,288,290,293,295,296,297,298,299,300,302,303,304,307,308,310,311,312,314,315,319,321,322,327,328,329,330,334,335,341,342,344,350,355,356,365,368,369,370,382,383,384,386,388,389,390,391,392,393,394,397,398,403,404,406,408,409,411,412,413,414,415,419,420,421,422,423,424,427,428,429,431,433,435,436,438,440,442,443,444,447,448,449,450,454,455,456,458,460,463,468,469,471,473,475,476,477,478,479,480,484,485,486,490,493,494,496,498,500,501,504,505,506,508,509,510,511,512,514,520,521,525,528,531,532,533,534,535,538,541,543,546,547,549,550,556,558,559,560,566,567,568,569,571,575,576,577,578,579,582,584,585,586,588,589,592,595,596,599,602,603,604,605,606,608,609,610,611,618,623,626,628,629,632,635,636,641,643,645,646,650,651,652,659,660,663,664,668,670,673,674,675,676,681,682,683,685,686,688,689,691,695,696,698,699,702,703,706,707,710,711,713,715,717,719,722,726,727,728,729,730,731,732,733,734,735,736,737,739,741,747,748,749,750,753,756,762,763,767,772,775,782,790,791,793,797,799,800,802,804,805,806,807,810,811,813,815,816,817,818,824,827,828,829,830,831,834,835,836,837,838,839,840,841,842,843,844,848,849,850,852,853,854,856,857,859,860,866,869,871,873,876,877,878,880,882,884,885,888,889,890,891,895,897,898,899,902,903,905,906,907,909,911,912,916,917,918,919,921,922,923,924,926,929,930,931,933,936,939,940,943,948,949,957,959,960,961,965,967,968,969,970,971,972,973,974,977,980,981,984,989,991,992,993,997,998,999,1001,1008,1009,1011,1012,1014,1018,1019,1020,1022,1023,1025,1026,1031,1033,1035,1042,1047,1049,1051,1052,1056,1059,1062,1064,1066,1069,1071,1072,1074,1076,1077,1080,1082,1084,1085,1087,1089,1090,1091,1097,1098,1105,1106,1107,1110,1112,1113,1115,1117,1121,1123,1124,1125,1127,1128,1129,1130,1132,1133,1136,1139,1140,1150,1151,1153,1154,1155,1156,1161,1168,1170,1173,1177,1179,1182,1183,1185,1187,1190,1193,1197,1202,1203,1205,1206,1209,1210,1212,1213,1217,1218,1221,1224,1226,1228,1232,1235,1236,1237,1239,1240,1244,1248,1249,1262,1264,1266,1268,1274,1275,1276,1277,1282,1288,1289,1290,1292,1293,1303,1310,1311,1312,1314,1320,1321,1322,1323,1326,1327,1334,1335,1343,1344,1346,1347,1348,1349,1351,1353,1354,1355,1358,1361,1362,1368,1371,1372,1373,1376,1377,1380,1384,1385,1387,1388,1391,1392,1393,1397,1400,1401,1403,1406,1407,1410,1417,1418,1419,1420,1421,1423,1424,1425,1427,1429,1434,1437,1438,1439,1442,1448,1449,1451,1452,1453,1457,1463,1464,1466,1470,1472,1476,1479,1480,1483,1486,1488,1490,1493,1494,1495,1498,1505,1508,1509,1511,1512,1513,1514,1518,1519,1521,1523,1525,1526,1528,1531,1533,1534,1536,1537,1540,1541,1542,1548,1549,1553,1554]\n",
    "X_train = (np.delete(X_train, col,1))\n",
    "X_test = (np.delete(X_test, col,1))\n",
    "X = (np.delete(X, col,1))\n",
    "col = [ 2,   4,   5,   6,   7,   8,   9,  12,  13,  16,  18,  19,  20,\n",
    "        22,  27,  28,  30,  31,  33,  34,  35,  36,  38,  39,  42,  45,\n",
    "        46,  47,  49,  50,  51,  52,  54,  58,  59,  62,  66,  67,  71,\n",
    "        73,  74,  76,  77,  80,  81,  88,  90,  91,  94, 101, 102, 103,\n",
    "       105, 106, 108, 110, 111, 112, 128, 129, 132, 134, 137, 138, 139,\n",
    "       140, 141, 144, 147, 149, 150, 151, 152, 155, 156, 158, 159, 162,\n",
    "       163, 167, 168, 169, 171, 173, 175, 181, 183, 185, 186, 189, 193,\n",
    "       194, 195, 196, 197, 198, 199, 206, 212, 213, 214, 215, 216, 217,\n",
    "       222, 223, 224, 226, 228, 231, 232, 234, 236, 237, 239, 242, 246,\n",
    "       247, 248, 251, 252, 253, 254, 255, 256, 257, 266, 267, 271, 276,\n",
    "       280, 281, 284, 285, 286, 288, 289, 291, 292, 297, 299, 303, 304,\n",
    "       307, 312, 313, 316, 319, 321, 322, 323, 324, 328, 333, 334, 335,\n",
    "       336, 338, 341, 342, 344, 346, 349, 350, 351, 355, 357, 358, 361,\n",
    "       363, 365, 366, 368, 369, 370, 371, 373, 374, 376, 377, 380, 384,\n",
    "       389, 395, 396, 400, 404, 405, 411, 412, 413, 414, 416, 417, 418,\n",
    "       419, 420, 421, 423, 427, 431, 433, 434, 436, 440, 443, 444, 445,\n",
    "       446, 448, 451, 453, 455, 457, 460, 461, 466, 467, 472, 473, 474,\n",
    "       475, 477, 479, 480, 481, 482, 483, 484, 485, 487, 489, 491, 493,\n",
    "       494, 495, 496, 497, 498, 499, 504, 513, 517, 520, 522, 523, 524,\n",
    "       528, 529, 530, 531, 536, 537, 539, 542, 543, 544, 546, 547, 550,\n",
    "       552, 553, 554, 555, 558, 559, 566, 567, 571, 574, 578, 579, 583,\n",
    "       584, 586, 587, 588, 589, 594, 595, 596, 597, 600, 602, 603, 604,\n",
    "       606, 607, 609, 611, 614, 621, 622, 623, 624, 626, 632, 637, 638,\n",
    "       645, 646, 647, 648, 649, 650, 662, 664, 665, 668, 670, 674, 676,\n",
    "       677, 680, 681, 682, 683, 684, 685, 686, 690, 691, 693, 694, 698,\n",
    "       699, 703, 704, 706, 711, 715, 721, 722, 723, 725, 729, 730, 731,\n",
    "       735, 737, 739, 744, 747, 748, 749, 750, 751, 752, 763, 764, 766,\n",
    "       767, 768, 769, 771, 773, 774, 777, 779, 780, 781, 783, 784, 785,\n",
    "       786, 790, 794, 796, 797, 800, 801, 802, 803, 804, 810, 812, 814,\n",
    "       815, 819, 823, 827, 828, 831]\n",
    "X_train = (np.delete(X_train, col,1))\n",
    "X_test = (np.delete(X_test, col,1))\n",
    "X = (np.delete(X, col,1))\n",
    "\n",
    "col = [0,   1,   6,   7,  11,  13,  14,  15,  18,  21,  24,  26,  29,\n",
    "        30,  31,  34,  37,  38,  41,  42,  45,  46,  47,  52,  59,  62,\n",
    "        65,  66,  71,  72,  75,  76,  78,  79,  81,  82,  83,  84,  87,\n",
    "        89,  90,  92,  93,  95, 102, 106, 107, 110, 113, 118, 121, 124,\n",
    "       128, 131, 134, 141, 143, 144, 147, 148, 150, 151, 152, 153, 154,\n",
    "       155, 156, 158, 159, 166, 167, 168, 169, 173, 174, 175, 176, 182,\n",
    "       184, 188, 189, 190, 195, 196, 201, 205, 208, 210, 217, 219, 221,\n",
    "       223, 224, 225, 226, 228, 232, 233, 236, 238, 243, 244, 245, 246,\n",
    "       248, 250, 251, 252, 255, 256, 259, 262, 263, 264, 269, 270, 271,\n",
    "       273, 277, 279, 292, 293, 294, 295, 296, 298, 300, 301, 302, 303,\n",
    "       307, 308, 311, 316, 322, 325, 326, 327, 328, 342, 343, 346, 350,\n",
    "       352, 358, 362, 366, 367, 368, 370, 371, 373, 374, 377, 381, 382,\n",
    "       387, 389, 394, 395, 397, 398, 405, 406, 407, 409, 410, 411, 415,\n",
    "       418, 420, 422, 423, 425, 426, 427, 429, 431, 437, 438, 439, 441,\n",
    "       442, 443, 449]\n",
    "X_train = (np.delete(X_train, col,1))\n",
    "X_test = (np.delete(X_test, col,1))\n",
    "X = (np.delete(X, col,1))\n",
    "\n",
    "\n",
    "\n",
    "col = [0,   4,   5,   8,  10,  11,  18,  19,  21,  26,  30,  31,  32,\n",
    "        33,  35,  41,  48,  49,  50,  51,  57,  58,  60,  62,  63,  68,\n",
    "        69,  72,  79,  81,  86,  87,  90,  91,  94,  96,  98,  99, 102,\n",
    "       110, 111, 112, 113, 114, 115, 116, 118, 119, 120, 121, 122, 125,\n",
    "       128, 129, 131, 132, 135, 136, 140, 141, 142, 145, 146, 156, 162,\n",
    "       163, 169, 177, 178, 182, 183, 190, 193, 194, 196, 198, 200, 202,\n",
    "       203, 205, 206, 213, 216, 217, 221, 222, 227, 228, 234, 238, 240,\n",
    "       241, 242, 246, 249, 250, 257, 260, 261, 262]\n",
    "X_train = (np.delete(X_train, col,1))\n",
    "X_test = (np.delete(X_test, col,1))\n",
    "X = (np.delete(X, col,1))\n",
    "\n",
    "#A peut etre amelioer\n",
    "col = [   6,   9,  10,  16,  18,  19,  24,  27,  28,  29,  33,  35,  38,\n",
    "        42,  44,  49,  50,  52,  56,  57,  59,  61,  62,  64,  69,  72,\n",
    "        74,  77,  78,  79,  81,  82,  88,  92,  94,  95,  99, 101, 102,\n",
    "       105, 109, 111, 112, 122, 125, 127, 128, 131, 132, 134, 135, 137,\n",
    "       151, 155, 156, 157, 161, 162, 164, 165]\n",
    "X_train = (np.delete(X_train, col,1))\n",
    "X_test = (np.delete(X_test, col,1))\n",
    "X = (np.delete(X, col,1))\n",
    "\n",
    "# ###1\n",
    "\n",
    "# # col = [  0,  6,  9, 10, 13, 14, 15, 18, 20, 21, 22, 23, 25, 28, 29, 32, 35,\n",
    "# #        40, 42, 44, 45, 48, 53, 54, 67, 68, 71, 78, 83, 86, 89, 93]\n",
    "# # X_train = (np.delete(X_train, col,1))\n",
    "# # X_test = (np.delete(X_test, col,1))\n",
    "# # X = (np.delete(X, col,1))\n",
    "\n",
    "# # col = [  4,  6,  8, 15, 25, 41, 43, 44, 49, 51, 54, 58, 61, 64, 74, 78]\n",
    "# # X_train = (np.delete(X_train, col,1))\n",
    "# # X_test = (np.delete(X_test, col,1))\n",
    "# # X = (np.delete(X, col,1))\n",
    "\n",
    "# # col = [  8, 23, 27, 48, 53, 54, 58, 63]\n",
    "# # X_train = (np.delete(X_train, col,1))\n",
    "# # X_test = (np.delete(X_test, col,1))\n",
    "# # X = (np.delete(X, col,1))\n",
    "\n",
    "\n",
    "# 1#######################05-09\n",
    "# col = [  1, 11, 12, 15, 22, 30, 31, 36, 37, 43, 49, 50, 51, 52, 57, 59, 61,\n",
    "#        65, 68, 70, 72, 73, 77, 78, 84, 85, 86, 88, 92, 96, 99]\n",
    "# X_train = (np.delete(X_train, col,1))\n",
    "# X_test = (np.delete(X_test, col,1))\n",
    "# X = (np.delete(X, col,1))\n",
    "\n",
    "#####################\n",
    "\n",
    "# X_train_snv = msc(X_train)\n",
    "# X_#test_snv = msc(X_test)\n",
    "\n",
    "y_train_oleo = y_train['Oleo']\n",
    "\n",
    "\n",
    "y_test_oleo = y_test['Oleo']\n",
    "\n",
    "#X1 = savgol_filter(X_train, 23, polyorder=2, deriv=2)\n",
    "#X2 = savgol_filter(X_test, 23, polyorder=2, deriv=2)\n",
    "\n",
    "# X_train_snv = msc(X_train)\n",
    "# X_test_snv = msc(X_test)\n",
    "\n",
    "# mean centre correction\n",
    "#X_mc = mc(X1)\n",
    "\n",
    "##Standard Normal Variate\n",
    "\n",
    "# Xsnv = snv(X_train)"
   ]
  },
  {
   "cell_type": "code",
   "execution_count": 487,
   "id": "9f1ca287",
   "metadata": {},
   "outputs": [],
   "source": [
    "# ##Derive 3 + SNV\n",
    "\n",
    "from sklearn.preprocessing import StandardScaler\n",
    "from sklearn.model_selection import train_test_split\n",
    "\n",
    "\n",
    "y = df_pretreat[['Umidade','Oleo','class']]\n",
    "## Do not take the reference value and the class\n",
    "X = df_pretreat.values[:, :-3]\n",
    "X_train, X_test, y_train, y_test = train_test_split(X, y, test_size=0.25, random_state=0,stratify=y['class'])\n",
    "\n",
    "\n",
    "col = [2,3,5,8,11,13,17,19,20,21,26,27,28,29,30,32,33,35,36,37,38,39,40,41,43,44,45,46,47,51,52,53,54,55,56,57,63,66,67,70,71,72,76,77,78,79,80,81,83,86,87,88,89,90,91,92,94,102,103,104,106,107,109,110,111,115,122,126,128,130,131,132,133,134,139,140,142,146,149,150,152,154,155,156,160,161,162,163,164,169,175,176,177,179,183,185,186,187,188,190,192,193,194,195,197,198,200,201,211,212,213,215,216,218,222,223,226,227,230,231,232,234,235,236,238,239,240,243,244,248,249,250,251,255,256,258,260,263,264,265,267,269,270,272,273,274,276,278,279,280,281,288,290,291,292,293,294,298,299,301,302,304,307,308,310,311,315,316,318,319,320,321,323,325,326,327,329,330,332,336,338,342,343,344,345,346,347,348,352,353,355,362,364,366,368,370,372,373,374,378,381,384,386,387,388,391,392,393,400,401,405,406,407,410,411,412,413,417,418,419,421,424,426,428,429,430,431,437,441,445,446,449,455,457,459,461,463,465,467,469,470,472,474,476,478,479,482,483,484,485,487,488,491,495,496,498,501,502,503,504,505,506,508,510,511,513,514,515,516,517,521,522,524,527,528,529,530,531,538,540,544,546,549,551,553,556,557,560,563,565,566,567,568,569,570,572,573,576,578,579,580,581,582,585,586,592,598,599,601,603,605,609,610,612,613,614,617,619,622,625,626,628,629,631,633,636,637,638,641,643,644,646,647,649,650,652,653,654,663,664,665,666,667,669,672,673,675,678,680,682,689,691,695,697,699,700,701,706,712,714,715,717,722,723,724,725,726,727,728,729,730,732,733,735,736,737,739,740,741,743,745,746,748,749,751,752,753,754,755,756,757,758,761,762,765,767,768,770,773,775,780,782,791,796,798,799,807,811,813,814,816,817,820,822,823,826,828,830,831,832,835,836,840,841,846,847,853,855,857,858,860,862,864,865,869,872,879,880,881,883,885,886,891,892,893,894,896,898,901,905,906,907,910,913,916,917,918,919,922,925,927,928,929,931,932,934,937,941,945,946,948,950,951,953,954,955,956,957,958,961,963,965,966,967,969,972,977,978,981,982,983,984,986,993,994,996,998,1000,1001,1002,1013,1015,1018,1019,1021,1022,1023,1026,1027,1028,1030,1031,1032,1033,1035,1037,1038,1040,1041,1042,1043,1044,1045,1046,1047,1048,1050,1051,1052,1053,1055,1056,1057,1059,1060,1064,1065,1067,1068,1069,1071,1072,1073,1076,1079,1081,1082,1084,1086,1088,1089,1090,1091,1095,1096,1106,1107,1109,1115,1116,1119,1121,1123,1126,1127,1130,1132,1135,1136,1137,1138,1139,1140,1148,1149,1150,1154,1156,1158,1160,1161,1162,1163,1166,1168,1171,1173,1174,1175,1179,1180,1181,1182,1184,1185,1189,1190,1191,1193,1195,1197,1199,1202,1204,1206,1207,1208,1209,1210,1212,1216,1217,1218,1219,1222,1223,1224,1225,1226,1227,1228,1235,1236,1237,1241,1242,1243,1244,1245,1248,1249,1255,1258,1259,1260,1261,1265,1266,1267,1268,1269,1271,1272,1273,1275,1279,1280,1282,1283,1284,1285,1286,1292,1294,1295,1297,1298,1303,1308,1310,1311,1314,1318,1319,1321,1324,1325,1327,1328,1332,1333,1334,1336,1339,1340,1341,1342,1343,1344,1345,1346,1347,1348,1352,1353,1354,1358,1360,1363,1372,1373,1375,1377,1378,1381,1382,1383,1387,1388,1390,1391,1392,1395,1396,1397,1400,1404,1407,1409,1410,1412,1413,1414,1418,1419,1420,1421,1424,1425,1427,1431,1433,1434,1435,1436,1437,1440,1444,1445,1449,1450,1451,1453,1454,1458,1459,1461,1464,1466,1469,1473,1475,1476,1478,1481,1482,1483,1484,1485,1486,1488,1491,1494,1495,1496,1499,1500,1501,1502,1503,1506,1507,1510,1511,1512,1516,1518,1521,1522,1524,1527,1529,1530,1531,1532,1534,1537,1538,1539,1540,1541,1542,1545,1546,1549,1551]\n",
    "X_train = (np.delete(X_train, col,1))\n",
    "X_test = (np.delete(X_test, col,1))\n",
    "X = (np.delete(X, col,1))\n",
    "# col = [  1,   4,   5,   6,  12,  13,  14,  15,  16,  20,  23,  24,  28,\n",
    "#         30,  31,  34,  37,  40,  46,  47,  50,  51,  58,  60,  61,  62,\n",
    "#         63,  64,  66,  67,  71,  72,  75,  77,  78,  79,  80,  86,  91,\n",
    "#         93,  94,  96,  97, 103, 104, 105, 106, 107, 113, 118, 120, 121,\n",
    "#        126, 130, 132, 134, 135, 137, 139, 140, 141, 144, 152, 153, 155,\n",
    "#        160, 161, 162, 163, 164, 167, 168, 169, 170, 172, 175, 177, 180,\n",
    "#        181, 182, 183, 186, 194, 195, 197, 199, 200, 202, 211, 213, 215,\n",
    "#        220, 222, 225, 226, 227, 230, 231, 235, 236, 237, 240, 242, 246,\n",
    "#        249, 250, 254, 255, 258, 259, 260, 261, 264, 268, 270, 272, 276,\n",
    "#        278, 283, 286, 287, 288, 289, 291, 293, 298, 300, 302, 309, 311,\n",
    "#        312, 313, 315, 317, 319, 320, 322, 323, 324, 325, 326, 329, 331,\n",
    "#        332, 334, 336, 337, 339, 344, 345, 346, 349, 351, 352, 353, 356,\n",
    "#        357, 359, 363, 365, 368, 371, 373, 375, 376, 377, 378, 379, 381,\n",
    "#        383, 384, 386, 387, 390, 393, 395, 396, 397, 400, 401, 403, 407,\n",
    "#        409, 410, 411, 413, 415, 416, 417, 420, 421, 424, 425, 427, 428,\n",
    "#        429, 430, 432, 434, 436, 437, 439, 440, 441, 445, 446, 450, 451,\n",
    "#        452, 453, 454, 457, 458, 461, 462, 464, 466, 467, 468, 470, 471,\n",
    "#        473, 474, 477, 479, 482, 486, 488, 490, 493, 496, 497, 500, 501,\n",
    "#        503, 508, 511, 512, 515, 517, 518, 519, 521, 522, 523, 525, 526,\n",
    "#        529, 531, 533, 535, 539, 542, 543, 544, 545, 546, 548, 549, 551,\n",
    "#        552, 564, 565, 570, 571, 572, 574, 576, 579, 581, 583, 585, 590,\n",
    "#        591, 592, 593, 594, 595, 602, 603, 604, 605, 606, 607, 610, 611,\n",
    "#        612, 614, 615, 617, 618, 621, 622, 623, 626, 628, 630, 631, 633,\n",
    "#        634, 638, 639, 640, 642, 643, 646, 647, 648, 649, 650, 658, 660,\n",
    "#        661, 662, 668, 669, 679, 683, 685, 686, 688, 690, 691, 692, 698,\n",
    "#        699, 703, 705, 706, 708, 709, 710, 712, 717, 718, 721, 723, 725,\n",
    "#        726, 727, 730, 732, 735, 737, 738, 746, 750, 751, 752, 754, 756,\n",
    "#        760, 762, 763, 765, 766, 769, 770, 771, 773, 774, 776]\n",
    "# X_train = (np.delete(X_train, col,1))\n",
    "# X_test = (np.delete(X_test, col,1))\n",
    "# X = (np.delete(X, col,1))\n",
    "\n",
    "# col = [0,   1,   2,   6,   8,  11,  12,  15,  18,  20,  22,  24,  25,\n",
    "#         27,  29,  30,  32,  36,  38,  39,  40,  42,  43,  47,  48,  49,\n",
    "#         58,  59,  62,  65,  67,  68,  72,  74,  75,  77,  78,  79,  80,\n",
    "#         82,  85,  86,  88,  96, 101, 108, 110, 112, 115, 118, 120, 122,\n",
    "#        123, 124, 125, 126, 127, 129, 131, 136, 137, 138, 139, 141, 142,\n",
    "#        143, 144, 145, 146, 147, 152, 157, 160, 166, 168, 170, 173, 176,\n",
    "#        177, 180, 184, 188, 189, 190, 194, 196, 202, 204, 209, 211, 213,\n",
    "#        214, 215, 216, 219, 222, 223, 225, 227, 228, 232, 233, 235, 236,\n",
    "#        240, 241, 247, 248, 249, 251, 257, 263, 268, 271, 273, 276, 277,\n",
    "#        280, 281, 288, 291, 292, 294, 296, 297, 298, 299, 304, 305, 306,\n",
    "#        307, 308, 310, 311, 313, 315, 316, 318, 319, 322, 323, 325, 328,\n",
    "#        329, 332, 335, 341, 346, 347, 348, 353, 360, 364, 365, 366, 367,\n",
    "#        373, 375, 377, 378, 379, 380, 381, 382, 383, 385, 387, 388, 391,\n",
    "#        392, 395, 396, 397, 403, 406, 407, 408, 409, 410, 414]\n",
    "# X_train = (np.delete(X_train, col,1))\n",
    "# X_test = (np.delete(X_test, col,1))\n",
    "# X = (np.delete(X, col,1))\n",
    "\n",
    "# # col = [1,   4,   6,   9,  12,  17,  18,  19,  22,  23,  24,  26,  33,\n",
    "# #         34,  35,  41,  48,  52,  53,  58,  60,  61,  63,  66,  68,  70,\n",
    "# #         72,  75,  78,  79,  82,  84,  86,  87,  88,  90,  91,  92,  95,\n",
    "# #         99, 102, 105, 107, 111, 115, 116, 125, 126, 127, 128, 129, 130,\n",
    "# #        132, 133, 135, 136, 140, 145, 147, 148, 149, 150, 151, 152, 154,\n",
    "# #        157, 160, 161, 163, 165, 171, 172, 175, 178, 182, 184, 185, 187,\n",
    "# #        189, 190, 193, 195, 196, 200, 201, 206, 208, 213, 216, 224, 226,\n",
    "# #        227, 232]\n",
    "# # X_train = (np.delete(X_train, col,1))\n",
    "# # X_test = (np.delete(X_test, col,1))\n",
    "# # X = (np.delete(X, col,1))\n",
    "\n",
    "# # col = [  1,   8,   9,  11,  13,  25,  28,  29,  32,  41,  43,  47,  51,\n",
    "# #         52,  53,  54,  55,  56,  57,  59,  65,  69,  72,  76,  84,  88,\n",
    "# #         89,  93,  95,  97,  99, 101, 102, 104, 114, 115, 117, 123, 125,\n",
    "# #        126, 128, 130, 132, 140, 144, 146, 147, 148, 149]\n",
    "# # X_train = (np.delete(X_train, col,1))\n",
    "# # X_test = (np.delete(X_test, col,1))\n",
    "# # X = (np.delete(X, col,1))\n",
    "\n",
    "# # col = [  0,  6,  9, 10, 13, 14, 15, 18, 20, 21, 22, 23, 25, 28, 29, 32, 35,\n",
    "# #        40, 42, 44, 45, 48, 53, 54, 67, 68, 71, 78, 83, 86, 89, 93]\n",
    "# # X_train = (np.delete(X_train, col,1))\n",
    "# # X_test = (np.delete(X_test, col,1))\n",
    "# # X = (np.delete(X, col,1))\n",
    "\n",
    "# # col = [  4,  6,  8, 15, 25, 41, 43, 44, 49, 51, 54, 58, 61, 64, 74, 78]\n",
    "# # X_train = (np.delete(X_train, col,1))\n",
    "# # X_test = (np.delete(X_test, col,1))\n",
    "# # X = (np.delete(X, col,1))\n",
    "\n",
    "# # col = [  8, 23, 27, 48, 53, 54, 58, 63]\n",
    "# # X_train = (np.delete(X_train, col,1))\n",
    "# # X_test = (np.delete(X_test, col,1))\n",
    "# # X = (np.delete(X, col,1))\n",
    "\n",
    "\n",
    "# # X_train_snv = msc(X_train)\n",
    "# # X_#test_snv = msc(X_test)\n",
    "\n",
    "y_train_oleo = y_train['Oleo']\n",
    "\n",
    "\n",
    "y_test_oleo = y_test['Oleo']\n",
    "\n",
    "# #X1 = savgol_filter(X_train, 23, polyorder=2, deriv=2)\n",
    "# #X2 = savgol_filter(X_test, 23, polyorder=2, deriv=2)\n",
    "\n",
    "# # X_train_snv = msc(X_train)\n",
    "# # X_test_snv = msc(X_test)\n",
    "\n",
    "# # mean centre correction\n",
    "# #X_mc = mc(X1)\n",
    "\n",
    "# ##Standard Normal Variate\n",
    "\n",
    "# # Xsnv = snv(X_train)"
   ]
  },
  {
   "cell_type": "code",
   "execution_count": 488,
   "id": "d5826b53",
   "metadata": {},
   "outputs": [
    {
     "data": {
      "text/html": [
       "<div>\n",
       "<style scoped>\n",
       "    .dataframe tbody tr th:only-of-type {\n",
       "        vertical-align: middle;\n",
       "    }\n",
       "\n",
       "    .dataframe tbody tr th {\n",
       "        vertical-align: top;\n",
       "    }\n",
       "\n",
       "    .dataframe thead th {\n",
       "        text-align: right;\n",
       "    }\n",
       "</style>\n",
       "<table border=\"1\" class=\"dataframe\">\n",
       "  <thead>\n",
       "    <tr style=\"text-align: right;\">\n",
       "      <th></th>\n",
       "      <th>Umidade</th>\n",
       "      <th>Oleo</th>\n",
       "      <th>class</th>\n",
       "    </tr>\n",
       "  </thead>\n",
       "  <tbody>\n",
       "    <tr>\n",
       "      <th>39</th>\n",
       "      <td>9.74</td>\n",
       "      <td>43.07863</td>\n",
       "      <td>43</td>\n",
       "    </tr>\n",
       "    <tr>\n",
       "      <th>33</th>\n",
       "      <td>8.20</td>\n",
       "      <td>41.18000</td>\n",
       "      <td>41</td>\n",
       "    </tr>\n",
       "    <tr>\n",
       "      <th>20</th>\n",
       "      <td>7.89</td>\n",
       "      <td>39.84799</td>\n",
       "      <td>39</td>\n",
       "    </tr>\n",
       "    <tr>\n",
       "      <th>10</th>\n",
       "      <td>6.74</td>\n",
       "      <td>38.37085</td>\n",
       "      <td>38</td>\n",
       "    </tr>\n",
       "    <tr>\n",
       "      <th>55</th>\n",
       "      <td>8.18</td>\n",
       "      <td>39.32000</td>\n",
       "      <td>39</td>\n",
       "    </tr>\n",
       "    <tr>\n",
       "      <th>25</th>\n",
       "      <td>9.30</td>\n",
       "      <td>39.47000</td>\n",
       "      <td>39</td>\n",
       "    </tr>\n",
       "    <tr>\n",
       "      <th>9</th>\n",
       "      <td>8.29</td>\n",
       "      <td>38.72549</td>\n",
       "      <td>38</td>\n",
       "    </tr>\n",
       "    <tr>\n",
       "      <th>27</th>\n",
       "      <td>7.74</td>\n",
       "      <td>38.39479</td>\n",
       "      <td>38</td>\n",
       "    </tr>\n",
       "    <tr>\n",
       "      <th>36</th>\n",
       "      <td>10.30</td>\n",
       "      <td>42.58640</td>\n",
       "      <td>42</td>\n",
       "    </tr>\n",
       "    <tr>\n",
       "      <th>5</th>\n",
       "      <td>8.18</td>\n",
       "      <td>40.30501</td>\n",
       "      <td>40</td>\n",
       "    </tr>\n",
       "    <tr>\n",
       "      <th>8</th>\n",
       "      <td>8.59</td>\n",
       "      <td>41.25000</td>\n",
       "      <td>41</td>\n",
       "    </tr>\n",
       "    <tr>\n",
       "      <th>49</th>\n",
       "      <td>9.90</td>\n",
       "      <td>43.95116</td>\n",
       "      <td>43</td>\n",
       "    </tr>\n",
       "    <tr>\n",
       "      <th>26</th>\n",
       "      <td>9.28</td>\n",
       "      <td>37.93000</td>\n",
       "      <td>37</td>\n",
       "    </tr>\n",
       "    <tr>\n",
       "      <th>46</th>\n",
       "      <td>9.45</td>\n",
       "      <td>45.74586</td>\n",
       "      <td>44</td>\n",
       "    </tr>\n",
       "    <tr>\n",
       "      <th>43</th>\n",
       "      <td>11.01</td>\n",
       "      <td>42.64045</td>\n",
       "      <td>42</td>\n",
       "    </tr>\n",
       "    <tr>\n",
       "      <th>52</th>\n",
       "      <td>8.40</td>\n",
       "      <td>41.48000</td>\n",
       "      <td>41</td>\n",
       "    </tr>\n",
       "    <tr>\n",
       "      <th>58</th>\n",
       "      <td>7.71</td>\n",
       "      <td>40.63000</td>\n",
       "      <td>40</td>\n",
       "    </tr>\n",
       "    <tr>\n",
       "      <th>38</th>\n",
       "      <td>11.85</td>\n",
       "      <td>42.74000</td>\n",
       "      <td>42</td>\n",
       "    </tr>\n",
       "    <tr>\n",
       "      <th>28</th>\n",
       "      <td>7.94</td>\n",
       "      <td>40.34707</td>\n",
       "      <td>40</td>\n",
       "    </tr>\n",
       "    <tr>\n",
       "      <th>11</th>\n",
       "      <td>7.79</td>\n",
       "      <td>38.02817</td>\n",
       "      <td>38</td>\n",
       "    </tr>\n",
       "    <tr>\n",
       "      <th>61</th>\n",
       "      <td>9.83</td>\n",
       "      <td>37.47000</td>\n",
       "      <td>37</td>\n",
       "    </tr>\n",
       "    <tr>\n",
       "      <th>1</th>\n",
       "      <td>7.52</td>\n",
       "      <td>39.14000</td>\n",
       "      <td>39</td>\n",
       "    </tr>\n",
       "    <tr>\n",
       "      <th>64</th>\n",
       "      <td>9.45</td>\n",
       "      <td>39.51435</td>\n",
       "      <td>39</td>\n",
       "    </tr>\n",
       "    <tr>\n",
       "      <th>0</th>\n",
       "      <td>8.17</td>\n",
       "      <td>39.11000</td>\n",
       "      <td>39</td>\n",
       "    </tr>\n",
       "    <tr>\n",
       "      <th>70</th>\n",
       "      <td>7.77</td>\n",
       "      <td>39.37000</td>\n",
       "      <td>39</td>\n",
       "    </tr>\n",
       "    <tr>\n",
       "      <th>69</th>\n",
       "      <td>7.70</td>\n",
       "      <td>38.89000</td>\n",
       "      <td>38</td>\n",
       "    </tr>\n",
       "    <tr>\n",
       "      <th>71</th>\n",
       "      <td>8.43</td>\n",
       "      <td>40.01092</td>\n",
       "      <td>40</td>\n",
       "    </tr>\n",
       "    <tr>\n",
       "      <th>65</th>\n",
       "      <td>9.87</td>\n",
       "      <td>39.96000</td>\n",
       "      <td>39</td>\n",
       "    </tr>\n",
       "    <tr>\n",
       "      <th>56</th>\n",
       "      <td>8.77</td>\n",
       "      <td>40.24123</td>\n",
       "      <td>40</td>\n",
       "    </tr>\n",
       "    <tr>\n",
       "      <th>40</th>\n",
       "      <td>11.28</td>\n",
       "      <td>41.14994</td>\n",
       "      <td>41</td>\n",
       "    </tr>\n",
       "    <tr>\n",
       "      <th>44</th>\n",
       "      <td>10.91</td>\n",
       "      <td>43.77104</td>\n",
       "      <td>43</td>\n",
       "    </tr>\n",
       "    <tr>\n",
       "      <th>14</th>\n",
       "      <td>7.42</td>\n",
       "      <td>38.44492</td>\n",
       "      <td>38</td>\n",
       "    </tr>\n",
       "    <tr>\n",
       "      <th>3</th>\n",
       "      <td>8.65</td>\n",
       "      <td>42.71632</td>\n",
       "      <td>42</td>\n",
       "    </tr>\n",
       "    <tr>\n",
       "      <th>31</th>\n",
       "      <td>8.73</td>\n",
       "      <td>42.93538</td>\n",
       "      <td>42</td>\n",
       "    </tr>\n",
       "    <tr>\n",
       "      <th>15</th>\n",
       "      <td>8.94</td>\n",
       "      <td>37.98000</td>\n",
       "      <td>37</td>\n",
       "    </tr>\n",
       "    <tr>\n",
       "      <th>37</th>\n",
       "      <td>12.08</td>\n",
       "      <td>41.75199</td>\n",
       "      <td>41</td>\n",
       "    </tr>\n",
       "    <tr>\n",
       "      <th>13</th>\n",
       "      <td>7.98</td>\n",
       "      <td>38.20652</td>\n",
       "      <td>38</td>\n",
       "    </tr>\n",
       "    <tr>\n",
       "      <th>59</th>\n",
       "      <td>7.66</td>\n",
       "      <td>37.59480</td>\n",
       "      <td>37</td>\n",
       "    </tr>\n",
       "    <tr>\n",
       "      <th>47</th>\n",
       "      <td>9.13</td>\n",
       "      <td>42.57426</td>\n",
       "      <td>42</td>\n",
       "    </tr>\n",
       "    <tr>\n",
       "      <th>19</th>\n",
       "      <td>9.52</td>\n",
       "      <td>39.55801</td>\n",
       "      <td>39</td>\n",
       "    </tr>\n",
       "    <tr>\n",
       "      <th>22</th>\n",
       "      <td>9.68</td>\n",
       "      <td>38.31672</td>\n",
       "      <td>38</td>\n",
       "    </tr>\n",
       "    <tr>\n",
       "      <th>51</th>\n",
       "      <td>8.81</td>\n",
       "      <td>43.36623</td>\n",
       "      <td>43</td>\n",
       "    </tr>\n",
       "    <tr>\n",
       "      <th>17</th>\n",
       "      <td>9.57</td>\n",
       "      <td>38.49557</td>\n",
       "      <td>38</td>\n",
       "    </tr>\n",
       "    <tr>\n",
       "      <th>12</th>\n",
       "      <td>7.45</td>\n",
       "      <td>35.25918</td>\n",
       "      <td>35</td>\n",
       "    </tr>\n",
       "    <tr>\n",
       "      <th>16</th>\n",
       "      <td>9.06</td>\n",
       "      <td>40.27473</td>\n",
       "      <td>40</td>\n",
       "    </tr>\n",
       "    <tr>\n",
       "      <th>32</th>\n",
       "      <td>8.05</td>\n",
       "      <td>39.57000</td>\n",
       "      <td>39</td>\n",
       "    </tr>\n",
       "    <tr>\n",
       "      <th>34</th>\n",
       "      <td>11.46</td>\n",
       "      <td>42.70362</td>\n",
       "      <td>42</td>\n",
       "    </tr>\n",
       "    <tr>\n",
       "      <th>4</th>\n",
       "      <td>7.66</td>\n",
       "      <td>38.57000</td>\n",
       "      <td>38</td>\n",
       "    </tr>\n",
       "    <tr>\n",
       "      <th>30</th>\n",
       "      <td>8.26</td>\n",
       "      <td>41.71210</td>\n",
       "      <td>41</td>\n",
       "    </tr>\n",
       "    <tr>\n",
       "      <th>42</th>\n",
       "      <td>11.99</td>\n",
       "      <td>41.70454</td>\n",
       "      <td>41</td>\n",
       "    </tr>\n",
       "    <tr>\n",
       "      <th>48</th>\n",
       "      <td>8.80</td>\n",
       "      <td>42.11000</td>\n",
       "      <td>42</td>\n",
       "    </tr>\n",
       "    <tr>\n",
       "      <th>45</th>\n",
       "      <td>11.33</td>\n",
       "      <td>41.71000</td>\n",
       "      <td>41</td>\n",
       "    </tr>\n",
       "    <tr>\n",
       "      <th>35</th>\n",
       "      <td>11.91</td>\n",
       "      <td>44.22424</td>\n",
       "      <td>44</td>\n",
       "    </tr>\n",
       "    <tr>\n",
       "      <th>67</th>\n",
       "      <td>9.29</td>\n",
       "      <td>36.49000</td>\n",
       "      <td>36</td>\n",
       "    </tr>\n",
       "  </tbody>\n",
       "</table>\n",
       "</div>"
      ],
      "text/plain": [
       "    Umidade      Oleo  class\n",
       "39     9.74  43.07863     43\n",
       "33     8.20  41.18000     41\n",
       "20     7.89  39.84799     39\n",
       "10     6.74  38.37085     38\n",
       "55     8.18  39.32000     39\n",
       "25     9.30  39.47000     39\n",
       "9      8.29  38.72549     38\n",
       "27     7.74  38.39479     38\n",
       "36    10.30  42.58640     42\n",
       "5      8.18  40.30501     40\n",
       "8      8.59  41.25000     41\n",
       "49     9.90  43.95116     43\n",
       "26     9.28  37.93000     37\n",
       "46     9.45  45.74586     44\n",
       "43    11.01  42.64045     42\n",
       "52     8.40  41.48000     41\n",
       "58     7.71  40.63000     40\n",
       "38    11.85  42.74000     42\n",
       "28     7.94  40.34707     40\n",
       "11     7.79  38.02817     38\n",
       "61     9.83  37.47000     37\n",
       "1      7.52  39.14000     39\n",
       "64     9.45  39.51435     39\n",
       "0      8.17  39.11000     39\n",
       "70     7.77  39.37000     39\n",
       "69     7.70  38.89000     38\n",
       "71     8.43  40.01092     40\n",
       "65     9.87  39.96000     39\n",
       "56     8.77  40.24123     40\n",
       "40    11.28  41.14994     41\n",
       "44    10.91  43.77104     43\n",
       "14     7.42  38.44492     38\n",
       "3      8.65  42.71632     42\n",
       "31     8.73  42.93538     42\n",
       "15     8.94  37.98000     37\n",
       "37    12.08  41.75199     41\n",
       "13     7.98  38.20652     38\n",
       "59     7.66  37.59480     37\n",
       "47     9.13  42.57426     42\n",
       "19     9.52  39.55801     39\n",
       "22     9.68  38.31672     38\n",
       "51     8.81  43.36623     43\n",
       "17     9.57  38.49557     38\n",
       "12     7.45  35.25918     35\n",
       "16     9.06  40.27473     40\n",
       "32     8.05  39.57000     39\n",
       "34    11.46  42.70362     42\n",
       "4      7.66  38.57000     38\n",
       "30     8.26  41.71210     41\n",
       "42    11.99  41.70454     41\n",
       "48     8.80  42.11000     42\n",
       "45    11.33  41.71000     41\n",
       "35    11.91  44.22424     44\n",
       "67     9.29  36.49000     36"
      ]
     },
     "execution_count": 488,
     "metadata": {},
     "output_type": "execute_result"
    }
   ],
   "source": [
    "y_train"
   ]
  },
  {
   "cell_type": "code",
   "execution_count": 489,
   "id": "2bf50ec2",
   "metadata": {},
   "outputs": [
    {
     "data": {
      "text/html": [
       "<div>\n",
       "<style scoped>\n",
       "    .dataframe tbody tr th:only-of-type {\n",
       "        vertical-align: middle;\n",
       "    }\n",
       "\n",
       "    .dataframe tbody tr th {\n",
       "        vertical-align: top;\n",
       "    }\n",
       "\n",
       "    .dataframe thead th {\n",
       "        text-align: right;\n",
       "    }\n",
       "</style>\n",
       "<table border=\"1\" class=\"dataframe\">\n",
       "  <thead>\n",
       "    <tr style=\"text-align: right;\">\n",
       "      <th></th>\n",
       "      <th>Umidade</th>\n",
       "      <th>Oleo</th>\n",
       "      <th>class</th>\n",
       "    </tr>\n",
       "  </thead>\n",
       "  <tbody>\n",
       "    <tr>\n",
       "      <th>50</th>\n",
       "      <td>9.31</td>\n",
       "      <td>43.66000</td>\n",
       "      <td>43</td>\n",
       "    </tr>\n",
       "    <tr>\n",
       "      <th>66</th>\n",
       "      <td>9.56</td>\n",
       "      <td>36.69000</td>\n",
       "      <td>36</td>\n",
       "    </tr>\n",
       "    <tr>\n",
       "      <th>24</th>\n",
       "      <td>10.26</td>\n",
       "      <td>38.24000</td>\n",
       "      <td>38</td>\n",
       "    </tr>\n",
       "    <tr>\n",
       "      <th>60</th>\n",
       "      <td>7.42</td>\n",
       "      <td>39.57883</td>\n",
       "      <td>39</td>\n",
       "    </tr>\n",
       "    <tr>\n",
       "      <th>18</th>\n",
       "      <td>9.52</td>\n",
       "      <td>38.95028</td>\n",
       "      <td>38</td>\n",
       "    </tr>\n",
       "    <tr>\n",
       "      <th>68</th>\n",
       "      <td>8.02</td>\n",
       "      <td>41.30000</td>\n",
       "      <td>41</td>\n",
       "    </tr>\n",
       "    <tr>\n",
       "      <th>6</th>\n",
       "      <td>7.86</td>\n",
       "      <td>38.33000</td>\n",
       "      <td>38</td>\n",
       "    </tr>\n",
       "    <tr>\n",
       "      <th>23</th>\n",
       "      <td>9.29</td>\n",
       "      <td>39.91180</td>\n",
       "      <td>39</td>\n",
       "    </tr>\n",
       "    <tr>\n",
       "      <th>54</th>\n",
       "      <td>8.43</td>\n",
       "      <td>41.86681</td>\n",
       "      <td>41</td>\n",
       "    </tr>\n",
       "    <tr>\n",
       "      <th>57</th>\n",
       "      <td>8.21</td>\n",
       "      <td>40.63000</td>\n",
       "      <td>40</td>\n",
       "    </tr>\n",
       "    <tr>\n",
       "      <th>29</th>\n",
       "      <td>9.28</td>\n",
       "      <td>42.12555</td>\n",
       "      <td>42</td>\n",
       "    </tr>\n",
       "    <tr>\n",
       "      <th>2</th>\n",
       "      <td>8.52</td>\n",
       "      <td>42.35439</td>\n",
       "      <td>42</td>\n",
       "    </tr>\n",
       "    <tr>\n",
       "      <th>63</th>\n",
       "      <td>9.24</td>\n",
       "      <td>39.32000</td>\n",
       "      <td>39</td>\n",
       "    </tr>\n",
       "    <tr>\n",
       "      <th>41</th>\n",
       "      <td>11.73</td>\n",
       "      <td>43.04000</td>\n",
       "      <td>43</td>\n",
       "    </tr>\n",
       "    <tr>\n",
       "      <th>7</th>\n",
       "      <td>8.34</td>\n",
       "      <td>41.11000</td>\n",
       "      <td>41</td>\n",
       "    </tr>\n",
       "    <tr>\n",
       "      <th>62</th>\n",
       "      <td>8.62</td>\n",
       "      <td>37.89704</td>\n",
       "      <td>37</td>\n",
       "    </tr>\n",
       "    <tr>\n",
       "      <th>53</th>\n",
       "      <td>8.10</td>\n",
       "      <td>40.80522</td>\n",
       "      <td>40</td>\n",
       "    </tr>\n",
       "    <tr>\n",
       "      <th>21</th>\n",
       "      <td>9.28</td>\n",
       "      <td>36.27000</td>\n",
       "      <td>35</td>\n",
       "    </tr>\n",
       "  </tbody>\n",
       "</table>\n",
       "</div>"
      ],
      "text/plain": [
       "    Umidade      Oleo  class\n",
       "50     9.31  43.66000     43\n",
       "66     9.56  36.69000     36\n",
       "24    10.26  38.24000     38\n",
       "60     7.42  39.57883     39\n",
       "18     9.52  38.95028     38\n",
       "68     8.02  41.30000     41\n",
       "6      7.86  38.33000     38\n",
       "23     9.29  39.91180     39\n",
       "54     8.43  41.86681     41\n",
       "57     8.21  40.63000     40\n",
       "29     9.28  42.12555     42\n",
       "2      8.52  42.35439     42\n",
       "63     9.24  39.32000     39\n",
       "41    11.73  43.04000     43\n",
       "7      8.34  41.11000     41\n",
       "62     8.62  37.89704     37\n",
       "53     8.10  40.80522     40\n",
       "21     9.28  36.27000     35"
      ]
     },
     "execution_count": 489,
     "metadata": {},
     "output_type": "execute_result"
    }
   ],
   "source": [
    "y_test"
   ]
  },
  {
   "cell_type": "code",
   "execution_count": 484,
   "id": "cc236ea7",
   "metadata": {},
   "outputs": [
    {
     "name": "stderr",
     "output_type": "stream",
     "text": [
      "2023-05-09 22:29:49,703 - pyswarms.discrete.binary - INFO - Optimize for 100 iters with {'c1': 2, 'c2': 2, 'w': 0.9, 'k': 20, 'p': 2}\n",
      "pyswarms.discrete.binary: 100%|██████████|100/100, best_cost=0.305\n",
      "2023-05-09 22:43:56,611 - pyswarms.discrete.binary - INFO - Optimization finished | best cost: 0.3053267636298147, best pos: [1 1 0 ... 1 1 1]\n"
     ]
    }
   ],
   "source": [
    "\n",
    "# Initialize swarm, arbitrary\n",
    "options = {'c1': 2, 'c2': 2, 'w':0.9, 'k': 20, 'p':2}\n",
    "\n",
    "# Call instance of PSO\n",
    "dimensions = X_train.shape[1] # dimensions should be the number of features\n",
    "\n",
    "optimizer = ps.discrete.BinaryPSO(n_particles=20, dimensions=dimensions, options=options)\n",
    "\n",
    "# Perform optimization\n",
    "cost, pos = optimizer.optimize(f, iters=100, verbose=2)\n",
    "optimizer.reset()"
   ]
  },
  {
   "attachments": {},
   "cell_type": "markdown",
   "id": "2d99fe8b",
   "metadata": {},
   "source": [
    "best_cost=0.181\n",
    "\n",
    "best_cost=0.107\n",
    "\n",
    "best_cost=0.0982"
   ]
  },
  {
   "cell_type": "code",
   "execution_count": 485,
   "id": "a84219fb",
   "metadata": {},
   "outputs": [
    {
     "data": {
      "text/plain": [
       "array([   2,    3,    5,    8,   11,   13,   17,   19,   20,   21,   26,\n",
       "         27,   28,   29,   30,   32,   33,   35,   36,   37,   38,   39,\n",
       "         40,   41,   43,   44,   45,   46,   47,   51,   52,   53,   54,\n",
       "         55,   56,   57,   63,   66,   67,   70,   71,   72,   76,   77,\n",
       "         78,   79,   80,   81,   83,   86,   87,   88,   89,   90,   91,\n",
       "         92,   94,  102,  103,  104,  106,  107,  109,  110,  111,  115,\n",
       "        122,  126,  128,  130,  131,  132,  133,  134,  139,  140,  142,\n",
       "        146,  149,  150,  152,  154,  155,  156,  160,  161,  162,  163,\n",
       "        164,  169,  175,  176,  177,  179,  183,  185,  186,  187,  188,\n",
       "        190,  192,  193,  194,  195,  197,  198,  200,  201,  211,  212,\n",
       "        213,  215,  216,  218,  222,  223,  226,  227,  230,  231,  232,\n",
       "        234,  235,  236,  238,  239,  240,  243,  244,  248,  249,  250,\n",
       "        251,  255,  256,  258,  260,  263,  264,  265,  267,  269,  270,\n",
       "        272,  273,  274,  276,  278,  279,  280,  281,  288,  290,  291,\n",
       "        292,  293,  294,  298,  299,  301,  302,  304,  307,  308,  310,\n",
       "        311,  315,  316,  318,  319,  320,  321,  323,  325,  326,  327,\n",
       "        329,  330,  332,  336,  338,  342,  343,  344,  345,  346,  347,\n",
       "        348,  352,  353,  355,  362,  364,  366,  368,  370,  372,  373,\n",
       "        374,  378,  381,  384,  386,  387,  388,  391,  392,  393,  400,\n",
       "        401,  405,  406,  407,  410,  411,  412,  413,  417,  418,  419,\n",
       "        421,  424,  426,  428,  429,  430,  431,  437,  441,  445,  446,\n",
       "        449,  455,  457,  459,  461,  463,  465,  467,  469,  470,  472,\n",
       "        474,  476,  478,  479,  482,  483,  484,  485,  487,  488,  491,\n",
       "        495,  496,  498,  501,  502,  503,  504,  505,  506,  508,  510,\n",
       "        511,  513,  514,  515,  516,  517,  521,  522,  524,  527,  528,\n",
       "        529,  530,  531,  538,  540,  544,  546,  549,  551,  553,  556,\n",
       "        557,  560,  563,  565,  566,  567,  568,  569,  570,  572,  573,\n",
       "        576,  578,  579,  580,  581,  582,  585,  586,  592,  598,  599,\n",
       "        601,  603,  605,  609,  610,  612,  613,  614,  617,  619,  622,\n",
       "        625,  626,  628,  629,  631,  633,  636,  637,  638,  641,  643,\n",
       "        644,  646,  647,  649,  650,  652,  653,  654,  663,  664,  665,\n",
       "        666,  667,  669,  672,  673,  675,  678,  680,  682,  689,  691,\n",
       "        695,  697,  699,  700,  701,  706,  712,  714,  715,  717,  722,\n",
       "        723,  724,  725,  726,  727,  728,  729,  730,  732,  733,  735,\n",
       "        736,  737,  739,  740,  741,  743,  745,  746,  748,  749,  751,\n",
       "        752,  753,  754,  755,  756,  757,  758,  761,  762,  765,  767,\n",
       "        768,  770,  773,  775,  780,  782,  791,  796,  798,  799,  807,\n",
       "        811,  813,  814,  816,  817,  820,  822,  823,  826,  828,  830,\n",
       "        831,  832,  835,  836,  840,  841,  846,  847,  853,  855,  857,\n",
       "        858,  860,  862,  864,  865,  869,  872,  879,  880,  881,  883,\n",
       "        885,  886,  891,  892,  893,  894,  896,  898,  901,  905,  906,\n",
       "        907,  910,  913,  916,  917,  918,  919,  922,  925,  927,  928,\n",
       "        929,  931,  932,  934,  937,  941,  945,  946,  948,  950,  951,\n",
       "        953,  954,  955,  956,  957,  958,  961,  963,  965,  966,  967,\n",
       "        969,  972,  977,  978,  981,  982,  983,  984,  986,  993,  994,\n",
       "        996,  998, 1000, 1001, 1002, 1013, 1015, 1018, 1019, 1021, 1022,\n",
       "       1023, 1026, 1027, 1028, 1030, 1031, 1032, 1033, 1035, 1037, 1038,\n",
       "       1040, 1041, 1042, 1043, 1044, 1045, 1046, 1047, 1048, 1050, 1051,\n",
       "       1052, 1053, 1055, 1056, 1057, 1059, 1060, 1064, 1065, 1067, 1068,\n",
       "       1069, 1071, 1072, 1073, 1076, 1079, 1081, 1082, 1084, 1086, 1088,\n",
       "       1089, 1090, 1091, 1095, 1096, 1106, 1107, 1109, 1115, 1116, 1119,\n",
       "       1121, 1123, 1126, 1127, 1130, 1132, 1135, 1136, 1137, 1138, 1139,\n",
       "       1140, 1148, 1149, 1150, 1154, 1156, 1158, 1160, 1161, 1162, 1163,\n",
       "       1166, 1168, 1171, 1173, 1174, 1175, 1179, 1180, 1181, 1182, 1184,\n",
       "       1185, 1189, 1190, 1191, 1193, 1195, 1197, 1199, 1202, 1204, 1206,\n",
       "       1207, 1208, 1209, 1210, 1212, 1216, 1217, 1218, 1219, 1222, 1223,\n",
       "       1224, 1225, 1226, 1227, 1228, 1235, 1236, 1237, 1241, 1242, 1243,\n",
       "       1244, 1245, 1248, 1249, 1255, 1258, 1259, 1260, 1261, 1265, 1266,\n",
       "       1267, 1268, 1269, 1271, 1272, 1273, 1275, 1279, 1280, 1282, 1283,\n",
       "       1284, 1285, 1286, 1292, 1294, 1295, 1297, 1298, 1303, 1308, 1310,\n",
       "       1311, 1314, 1318, 1319, 1321, 1324, 1325, 1327, 1328, 1332, 1333,\n",
       "       1334, 1336, 1339, 1340, 1341, 1342, 1343, 1344, 1345, 1346, 1347,\n",
       "       1348, 1352, 1353, 1354, 1358, 1360, 1363, 1372, 1373, 1375, 1377,\n",
       "       1378, 1381, 1382, 1383, 1387, 1388, 1390, 1391, 1392, 1395, 1396,\n",
       "       1397, 1400, 1404, 1407, 1409, 1410, 1412, 1413, 1414, 1418, 1419,\n",
       "       1420, 1421, 1424, 1425, 1427, 1431, 1433, 1434, 1435, 1436, 1437,\n",
       "       1440, 1444, 1445, 1449, 1450, 1451, 1453, 1454, 1458, 1459, 1461,\n",
       "       1464, 1466, 1469, 1473, 1475, 1476, 1478, 1481, 1482, 1483, 1484,\n",
       "       1485, 1486, 1488, 1491, 1494, 1495, 1496, 1499, 1500, 1501, 1502,\n",
       "       1503, 1506, 1507, 1510, 1511, 1512, 1516, 1518, 1521, 1522, 1524,\n",
       "       1527, 1529, 1530, 1531, 1532, 1534, 1537, 1538, 1539, 1540, 1541,\n",
       "       1542, 1545, 1546, 1549, 1551], dtype=int64)"
      ]
     },
     "execution_count": 485,
     "metadata": {},
     "output_type": "execute_result"
    }
   ],
   "source": [
    "np.where(pos == 0)[0]"
   ]
  },
  {
   "cell_type": "code",
   "execution_count": 486,
   "id": "5c356a2d",
   "metadata": {},
   "outputs": [],
   "source": [
    "with open(\"Col_to_delete_2023-04-30_Cacao_FAT_X_train_test_SVR_3.txt\", \"w\") as txt_file:\n",
    "    for line in np.where(pos == 0)[0]:\n",
    "        txt_file.write(str(line)+',')"
   ]
  },
  {
   "cell_type": "code",
   "execution_count": 207,
   "id": "503d14cf",
   "metadata": {},
   "outputs": [
    {
     "data": {
      "text/plain": [
       "752"
      ]
     },
     "execution_count": 207,
     "metadata": {},
     "output_type": "execute_result"
    }
   ],
   "source": [
    "len(np.where(pos == 0)[0])"
   ]
  },
  {
   "cell_type": "code",
   "execution_count": 86,
   "id": "7af2a430",
   "metadata": {},
   "outputs": [],
   "source": [
    "# from sklearn.pipeline import make_pipeline\n",
    "# from sklearn.ensemble import RandomForestRegressor\n",
    "\n",
    "# regr = make_pipeline(StandardScaler(),  SVR())\n",
    "\n",
    "# X1 = X_train[:,pos==1] \n",
    "\n",
    "# X2 = X_test[:,pos==1] \n",
    "\n",
    "# X_ = X[:,pos==1] \n",
    "\n",
    "# regr.fit(X1, y_train_oleo)\n",
    "\n",
    "# y_pred = regr.predict(X2)\n",
    "# y_cv = regr.predict(X1)\n",
    "# y_pred_tot = regr.predict(X_)\n",
    "\n",
    "\n",
    "# score = r2_score(y_train_oleo, y_cv)\n",
    "# score_train = mean_squared_error(y_train_oleo, y_cv,squared=False)\n",
    "# score_test = mean_squared_error(y_test_oleo, y_pred,squared=False)\n",
    "\n",
    "\n",
    "# score_tot = r2_score(y['Oleo'], y_pred_tot)\n",
    "# score_rmse_tot = mean_squared_error(y['Oleo'], y_pred_tot,squared=False)\n",
    "\n",
    "# print('N Wave: ', X1.shape)\n",
    "# print('R2CV: ', score)\n",
    "# print('RMSECV: ', score_train)\n",
    "# print('RMSE test: ', score_test)\n",
    "\n",
    "\n",
    "# print('Pour comparaison')\n",
    "# print('R2: ', score_tot)\n",
    "# print('RMSE: ', score_rmse_tot)\n"
   ]
  },
  {
   "cell_type": "code",
   "execution_count": 12,
   "id": "08ffd85c",
   "metadata": {},
   "outputs": [
    {
     "name": "stdout",
     "output_type": "stream",
     "text": [
      "N comp:  8\n",
      "N Wave:  (61, 106)\n",
      "R2CV:  0.9347812779145526\n",
      "RMSECV:  0.5588174020339821\n",
      "RMSE test:  1.567993871893588\n",
      "Pour comparaison\n",
      "R2:  0.9066753287000472\n",
      "RMSE:  0.6532620204360127\n"
     ]
    }
   ],
   "source": [
    "ls_score_pls = []\n",
    "n_opt = 8\n",
    "for i in range(3,8):\n",
    "    pls_simple = PLSRegression(n_components=i)\n",
    "    cv = LeaveOneOut()\n",
    "    #cv = 10\n",
    "\n",
    "    X1 = X_train \n",
    "    #X1 = X_train[:,pos==1] \n",
    "\n",
    "    X2 = X_test\n",
    "    #X2 = X_test[:,pos==1] \n",
    "\n",
    "\n",
    "    # Fit\n",
    "    pls_simple.fit(X1, y_train_oleo)\n",
    "\n",
    "\n",
    "    # Cross-validation\n",
    "    y_cv = cross_val_predict(pls_simple,X1, y_train_oleo, cv=cv)\n",
    "    y_pred = pls_simple.predict(X2)\n",
    "    score = r2_score(y_train_oleo, y_cv)\n",
    "    if ls_score_pls:\n",
    "        if score< ls_score_pls[-1] and i>4:\n",
    "            n_opt =  i-1\n",
    "            break\n",
    "\n",
    "    ls_score_pls.append(score)\n",
    "\n",
    "pls_simple = PLSRegression(n_components=n_opt)\n",
    "cv = LeaveOneOut()\n",
    "# cv = 10\n",
    "\n",
    "X1 = X_train \n",
    "#X1 = X_train[:,pos==1] \n",
    "\n",
    "X2 = X_test\n",
    "#X2 = X_test[:,pos==1] \n",
    "\n",
    "\n",
    "# Fit\n",
    "pls_simple.fit(X1, y_train_oleo)\n",
    "\n",
    "\n",
    "# Cross-validation\n",
    "y_cv = cross_val_predict(pls_simple,X1, y_train_oleo, cv=cv)\n",
    "y_pred = pls_simple.predict(X2)\n",
    "y_pred_tot = pls_simple.predict(X)\n",
    "# Calculate scores\n",
    "score = r2_score(y_train_oleo, y_cv)\n",
    "score_train = mean_squared_error(y_train_oleo, y_cv,squared=False)\n",
    "score_test = mean_squared_error(y_test_oleo, y_pred,squared=False)\n",
    "\n",
    "score_tot = r2_score(y['Oleo'], y_pred_tot)\n",
    "score_rmse_tot = mean_squared_error(y['Oleo'], y_pred_tot,squared=False)\n",
    "\n",
    "print('N comp: ', n_opt)\n",
    "print('N Wave: ', X_train.shape)\n",
    "print('R2CV: ', score)\n",
    "print('RMSECV: ', score_train)\n",
    "print('RMSE test: ', score_test)\n",
    "\n",
    "\n",
    "print('Pour comparaison')\n",
    "print('R2: ', score_tot)\n",
    "print('RMSE: ', score_rmse_tot)"
   ]
  },
  {
   "attachments": {},
   "cell_type": "markdown",
   "id": "52fbf0e8",
   "metadata": {},
   "source": [
    "\n",
    "N comp:  5\n",
    "N Wave:  (61, 778)\n",
    "R2CV:  0.7343664450386924\n",
    "RMSECV:  1.1277822285190617\n",
    "RMSE test:  1.1352061151005874\n",
    "Pour comparaison\n",
    "R2:  0.9217652761625856\n",
    "RMSE:  0.5981208643204651\n",
    "\n",
    "N comp:  5\n",
    "N Wave:  (61, 402)\n",
    "R2CV:  0.8120364465780741\n",
    "RMSECV:  0.9486818741117063\n",
    "RMSE test:  1.3181243744185414\n",
    "Pour comparaison\n",
    "R2:  0.9133632892576252\n",
    "RMSE:  0.6294194411362429\n",
    "\n",
    "N comp:  5\n",
    "N Wave:  (61, 229)\n",
    "R2CV:  0.8751485498154934\n",
    "RMSECV:  0.773179935149487\n",
    "RMSE test:  1.531180968252294\n",
    "Pour comparaison\n",
    "R2:  0.8970381761636714\n",
    "RMSE:  0.6861629887517131\n",
    "\n",
    "\n",
    "\n",
    "N comp:  8\n",
    "N Wave:  (61, 416)\n",
    "R2CV:  0.8518212667756905\n",
    "RMSECV:  0.8423192352057604\n",
    "RMSE test:  1.1411903355663389\n",
    "Pour comparaison\n",
    "R2:  0.9474139609619948\n",
    "RMSE:  0.4903705782209487\n",
    "\n",
    "N comp:  8\n",
    "N Wave:  (61, 236)\n",
    "R2CV:  0.8971020846605855\n",
    "RMSECV:  0.701919112010572\n",
    "RMSE test:  1.091971121779484\n",
    "Pour comparaison\n",
    "R2:  0.9514880286221825\n",
    "RMSE:  0.47099211545560593\n",
    "\n",
    "N comp:  5\n",
    "N Wave:  (61, 834)\n",
    "R2CV:  0.7415324738931992\n",
    "RMSECV:  1.1124660663472692\n",
    "RMSE test:  1.1248377442129465\n",
    "Pour comparaison\n",
    "R2:  0.918464528515502\n",
    "RMSE:  0.6106079700959187\n",
    "\n",
    "N comp:  5\n",
    "N Wave:  (61, 266)\n",
    "R2CV:  0.8919550458730521\n",
    "RMSECV:  0.7192601913740643\n",
    "RMSE test:  1.340147149289383\n",
    "Pour comparaison\n",
    "R2:  0.9218204459423571\n",
    "RMSE:  0.5979099348620707"
   ]
  },
  {
   "attachments": {},
   "cell_type": "markdown",
   "id": "7e8171a3",
   "metadata": {},
   "source": [
    "N comp:  8\n",
    "N Wave:  (61, 1557)\n",
    "R2CV:  0.5939325994237918\n",
    "RMSECV:  1.3943854493739196\n",
    "RMSE test:  0.9555725944907429\n",
    "Pour comparaison\n",
    "R2:  0.9601450346801992\n",
    "RMSE:  0.4269041661179395\n",
    "\n",
    "N comp:  8\n",
    "N Wave:  (61, 834)\n",
    "R2CV:  0.7636180340543433\n",
    "RMSECV:  1.0638758478878196\n",
    "RMSE test:  1.1163376357727033\n",
    "Pour comparaison\n",
    "R2:  0.9481809490938835\n",
    "RMSE:  0.4867813182527165\n",
    "\n",
    "\n",
    "N comp:  8\n",
    "N Wave:  (61, 451)\n",
    "R2CV:  0.871522426990227\n",
    "RMSECV:  0.7843274983059583\n",
    "RMSE test:  1.219853579808185\n",
    "Pour comparaison\n",
    "R2:  0.9425251429922483\n",
    "RMSE:  0.5126584557769873\n",
    "\n",
    "N comp:  8\n",
    "N Wave:  (61, 266)\n",
    "R2CV:  0.9065056539276471\n",
    "RMSECV:  0.6690775434381815\n",
    "RMSE test:  1.3334568143371728\n",
    "Pour comparaison\n",
    "R2:  0.9311674591083842\n",
    "RMSE:  0.5610299884582348\n",
    "\n",
    "N comp:  8\n",
    "N Wave:  (61, 166)\n",
    "R2CV:  0.9286408034597077\n",
    "RMSECV:  0.5845326242688962\n",
    "RMSE test:  1.5192462430086022\n",
    "Pour comparaison\n",
    "R2:  0.9131072934333112\n",
    "RMSE:  0.6303486655737617\n",
    "\n",
    "N comp:  8\n",
    "N Wave:  (61, 106)\n",
    "R2CV:  0.9347812779145526\n",
    "RMSECV:  0.5588174020339821\n",
    "RMSE test:  1.567993871893588\n",
    "Pour comparaison\n",
    "R2:  0.9066753287000472\n",
    "RMSE:  0.6532620204360127\n",
    "\n",
    "N comp:  8\n",
    "N Wave:  (61, 75)\n",
    "R2CV:  0.9383467848889131\n",
    "RMSECV:  0.5433274463853454\n",
    "RMSE test:  1.7026678886032511\n",
    "Pour comparaison\n",
    "R2:  0.8895367648789453\n",
    "RMSE:  0.710719210413216"
   ]
  },
  {
   "cell_type": "code",
   "execution_count": 63,
   "id": "b71b2eab",
   "metadata": {},
   "outputs": [
    {
     "data": {
      "application/vnd.plotly.v1+json": {
       "config": {
        "plotlyServerURL": "https://plot.ly"
       },
       "data": [
        {
         "hoverlabel": {
          "namelength": 0
         },
         "hovertemplate": "Moisture content measured (%)=%{x}<br>Moisture content predicted (%)=%{y}",
         "legendgroup": "",
         "marker": {
          "color": "#636efa",
          "symbol": "circle"
         },
         "mode": "markers",
         "name": "",
         "showlegend": false,
         "type": "scatter",
         "x": [
          8.17,
          7.52,
          8.52,
          8.65,
          7.66,
          8.18,
          7.86,
          8.34,
          8.59,
          8.29,
          6.74,
          7.79,
          7.45,
          7.98,
          7.42,
          8.94,
          9.06,
          9.57,
          9.52,
          9.52,
          7.89,
          9.28,
          9.68,
          9.29,
          10.26,
          9.3,
          9.28,
          7.74,
          7.94,
          9.28,
          8.26,
          8.73,
          8.05,
          8.2,
          11.46,
          11.91,
          10.3,
          12.08,
          11.85,
          9.74,
          11.28,
          11.73,
          11.99,
          11.01,
          10.91,
          11.33,
          9.45,
          9.13,
          8.8,
          9.9,
          9.31,
          8.81,
          8.4,
          8.1,
          8.43,
          8.18,
          8.77,
          8.21,
          7.71,
          7.66,
          7.42,
          9.83,
          8.62,
          9.24,
          9.45,
          9.87,
          9.56,
          9.29,
          8.02,
          7.7,
          7.77,
          8.43
         ],
         "xaxis": "x",
         "y": [
          8.475484256878447,
          7.850865296216027,
          8.620486787851268,
          8.822284817045865,
          7.559490996335684,
          8.145805113952196,
          7.985376169973335,
          8.718004987300999,
          8.494639075392381,
          8.17927113294033,
          6.514952543942339,
          7.44321205169404,
          7.241449701403663,
          8.063155254628876,
          7.360749478714899,
          8.950622795966769,
          9.461062466604961,
          9.479678418819393,
          9.266370658612255,
          9.716070455396203,
          8.144243322974575,
          8.947449750578327,
          9.608913020004659,
          10.68437558336616,
          10.180389382014733,
          9.493093839083741,
          9.561227785163739,
          7.608929375010343,
          7.723440635134999,
          9.193828904269083,
          8.106372708905413,
          8.552632702230005,
          8.119131645334216,
          8.638347734645892,
          11.586939912356105,
          11.83599460091467,
          10.04507303374097,
          11.686309341668549,
          11.946675123549074,
          10.138082972550308,
          10.646454561052654,
          11.573611307790115,
          10.68437558336616,
          11.535226131598826,
          10.87803825529836,
          11.29196255000264,
          9.373833167595192,
          9.102184998567386,
          8.923072363000523,
          9.848681400740519,
          9.319207005880005,
          8.604378780917543,
          8.493326764260656,
          8.546229874427452,
          8.438254254659494,
          8.210536106291805,
          8.665439997118538,
          8.494639075392381,
          7.999428181852332,
          7.622665791918253,
          7.574795267415485,
          9.737895972413735,
          8.711311867391704,
          9.3066222499999,
          9.1769474104865,
          9.543313424887462,
          9.377289971824725,
          8.861290984266379,
          7.788605768566245,
          7.846519146736168,
          7.642191184076038,
          8.631186767039338
         ],
         "yaxis": "y"
        },
        {
         "hoverlabel": {
          "namelength": 0
         },
         "hovertemplate": "<b>OLS trendline</b><br>y_pred = 0.936536 * y + 0.573472<br>R<sup>2</sup>=0.936536<br><br>Moisture content measured (%)=%{x}<br>Moisture content predicted (%)=%{y} <b>(trend)</b>",
         "legendgroup": "",
         "marker": {
          "color": "#636efa",
          "symbol": "circle"
         },
         "mode": "lines",
         "name": "",
         "showlegend": false,
         "type": "scatter",
         "x": [
          6.74,
          7.42,
          7.42,
          7.45,
          7.52,
          7.66,
          7.66,
          7.7,
          7.71,
          7.74,
          7.77,
          7.79,
          7.86,
          7.89,
          7.94,
          7.98,
          8.02,
          8.05,
          8.1,
          8.17,
          8.18,
          8.18,
          8.2,
          8.21,
          8.26,
          8.29,
          8.34,
          8.4,
          8.43,
          8.43,
          8.52,
          8.59,
          8.62,
          8.65,
          8.73,
          8.77,
          8.8,
          8.81,
          8.94,
          9.06,
          9.13,
          9.24,
          9.28,
          9.28,
          9.28,
          9.29,
          9.29,
          9.3,
          9.31,
          9.45,
          9.45,
          9.52,
          9.52,
          9.56,
          9.57,
          9.68,
          9.74,
          9.83,
          9.87,
          9.9,
          10.26,
          10.3,
          10.91,
          11.01,
          11.28,
          11.33,
          11.46,
          11.73,
          11.85,
          11.91,
          11.99,
          12.08
         ],
         "xaxis": "x",
         "y": [
          6.885721505221992,
          7.52256565659104,
          7.52256565659104,
          7.550661722092616,
          7.616219208262959,
          7.747334180603645,
          7.747334180603645,
          7.784795601272413,
          7.794160956439605,
          7.822257021941181,
          7.850353087442756,
          7.86908379777714,
          7.934641283947483,
          7.962737349449059,
          8.009564125285019,
          8.047025545953787,
          8.084486966622553,
          8.11258303212413,
          8.159409807960088,
          8.224967294130431,
          8.234332649297624,
          8.234332649297624,
          8.253063359632007,
          8.2624287147992,
          8.30925549063516,
          8.337351556136735,
          8.384178331972695,
          8.440370462975846,
          8.468466528477421,
          8.468466528477421,
          8.552754724982147,
          8.61831221115249,
          8.646408276654066,
          8.674504342155643,
          8.749427183493179,
          8.786888604161945,
          8.814984669663522,
          8.824350024830713,
          8.946099642004206,
          9.05848390401051,
          9.124041390180853,
          9.227060297019964,
          9.264521717688732,
          9.264521717688732,
          9.264521717688732,
          9.273887072855922,
          9.273887072855922,
          9.283252428023117,
          9.292617783190307,
          9.423732755530994,
          9.423732755530994,
          9.489290241701337,
          9.489290241701337,
          9.526751662370105,
          9.536117017537297,
          9.639135924376406,
          9.695328055379559,
          9.779616251884285,
          9.817077672553053,
          9.84517373805463,
          10.182326524073536,
          10.219787944742304,
          10.79107460994101,
          10.884728161612928,
          11.137592751127109,
          11.184419526963069,
          11.306169144136565,
          11.559033733650745,
          11.671417995657047,
          11.727610126660199,
          11.802532967997733,
          11.88682116450246
         ],
         "yaxis": "y"
        }
       ],
       "layout": {
        "height": 400,
        "legend": {
         "tracegroupgap": 0
        },
        "template": {
         "data": {
          "bar": [
           {
            "error_x": {
             "color": "#2a3f5f"
            },
            "error_y": {
             "color": "#2a3f5f"
            },
            "marker": {
             "line": {
              "color": "#E5ECF6",
              "width": 0.5
             }
            },
            "type": "bar"
           }
          ],
          "barpolar": [
           {
            "marker": {
             "line": {
              "color": "#E5ECF6",
              "width": 0.5
             }
            },
            "type": "barpolar"
           }
          ],
          "carpet": [
           {
            "aaxis": {
             "endlinecolor": "#2a3f5f",
             "gridcolor": "white",
             "linecolor": "white",
             "minorgridcolor": "white",
             "startlinecolor": "#2a3f5f"
            },
            "baxis": {
             "endlinecolor": "#2a3f5f",
             "gridcolor": "white",
             "linecolor": "white",
             "minorgridcolor": "white",
             "startlinecolor": "#2a3f5f"
            },
            "type": "carpet"
           }
          ],
          "choropleth": [
           {
            "colorbar": {
             "outlinewidth": 0,
             "ticks": ""
            },
            "type": "choropleth"
           }
          ],
          "contour": [
           {
            "colorbar": {
             "outlinewidth": 0,
             "ticks": ""
            },
            "colorscale": [
             [
              0,
              "#0d0887"
             ],
             [
              0.1111111111111111,
              "#46039f"
             ],
             [
              0.2222222222222222,
              "#7201a8"
             ],
             [
              0.3333333333333333,
              "#9c179e"
             ],
             [
              0.4444444444444444,
              "#bd3786"
             ],
             [
              0.5555555555555556,
              "#d8576b"
             ],
             [
              0.6666666666666666,
              "#ed7953"
             ],
             [
              0.7777777777777778,
              "#fb9f3a"
             ],
             [
              0.8888888888888888,
              "#fdca26"
             ],
             [
              1,
              "#f0f921"
             ]
            ],
            "type": "contour"
           }
          ],
          "contourcarpet": [
           {
            "colorbar": {
             "outlinewidth": 0,
             "ticks": ""
            },
            "type": "contourcarpet"
           }
          ],
          "heatmap": [
           {
            "colorbar": {
             "outlinewidth": 0,
             "ticks": ""
            },
            "colorscale": [
             [
              0,
              "#0d0887"
             ],
             [
              0.1111111111111111,
              "#46039f"
             ],
             [
              0.2222222222222222,
              "#7201a8"
             ],
             [
              0.3333333333333333,
              "#9c179e"
             ],
             [
              0.4444444444444444,
              "#bd3786"
             ],
             [
              0.5555555555555556,
              "#d8576b"
             ],
             [
              0.6666666666666666,
              "#ed7953"
             ],
             [
              0.7777777777777778,
              "#fb9f3a"
             ],
             [
              0.8888888888888888,
              "#fdca26"
             ],
             [
              1,
              "#f0f921"
             ]
            ],
            "type": "heatmap"
           }
          ],
          "heatmapgl": [
           {
            "colorbar": {
             "outlinewidth": 0,
             "ticks": ""
            },
            "colorscale": [
             [
              0,
              "#0d0887"
             ],
             [
              0.1111111111111111,
              "#46039f"
             ],
             [
              0.2222222222222222,
              "#7201a8"
             ],
             [
              0.3333333333333333,
              "#9c179e"
             ],
             [
              0.4444444444444444,
              "#bd3786"
             ],
             [
              0.5555555555555556,
              "#d8576b"
             ],
             [
              0.6666666666666666,
              "#ed7953"
             ],
             [
              0.7777777777777778,
              "#fb9f3a"
             ],
             [
              0.8888888888888888,
              "#fdca26"
             ],
             [
              1,
              "#f0f921"
             ]
            ],
            "type": "heatmapgl"
           }
          ],
          "histogram": [
           {
            "marker": {
             "colorbar": {
              "outlinewidth": 0,
              "ticks": ""
             }
            },
            "type": "histogram"
           }
          ],
          "histogram2d": [
           {
            "colorbar": {
             "outlinewidth": 0,
             "ticks": ""
            },
            "colorscale": [
             [
              0,
              "#0d0887"
             ],
             [
              0.1111111111111111,
              "#46039f"
             ],
             [
              0.2222222222222222,
              "#7201a8"
             ],
             [
              0.3333333333333333,
              "#9c179e"
             ],
             [
              0.4444444444444444,
              "#bd3786"
             ],
             [
              0.5555555555555556,
              "#d8576b"
             ],
             [
              0.6666666666666666,
              "#ed7953"
             ],
             [
              0.7777777777777778,
              "#fb9f3a"
             ],
             [
              0.8888888888888888,
              "#fdca26"
             ],
             [
              1,
              "#f0f921"
             ]
            ],
            "type": "histogram2d"
           }
          ],
          "histogram2dcontour": [
           {
            "colorbar": {
             "outlinewidth": 0,
             "ticks": ""
            },
            "colorscale": [
             [
              0,
              "#0d0887"
             ],
             [
              0.1111111111111111,
              "#46039f"
             ],
             [
              0.2222222222222222,
              "#7201a8"
             ],
             [
              0.3333333333333333,
              "#9c179e"
             ],
             [
              0.4444444444444444,
              "#bd3786"
             ],
             [
              0.5555555555555556,
              "#d8576b"
             ],
             [
              0.6666666666666666,
              "#ed7953"
             ],
             [
              0.7777777777777778,
              "#fb9f3a"
             ],
             [
              0.8888888888888888,
              "#fdca26"
             ],
             [
              1,
              "#f0f921"
             ]
            ],
            "type": "histogram2dcontour"
           }
          ],
          "mesh3d": [
           {
            "colorbar": {
             "outlinewidth": 0,
             "ticks": ""
            },
            "type": "mesh3d"
           }
          ],
          "parcoords": [
           {
            "line": {
             "colorbar": {
              "outlinewidth": 0,
              "ticks": ""
             }
            },
            "type": "parcoords"
           }
          ],
          "scatter": [
           {
            "marker": {
             "colorbar": {
              "outlinewidth": 0,
              "ticks": ""
             }
            },
            "type": "scatter"
           }
          ],
          "scatter3d": [
           {
            "line": {
             "colorbar": {
              "outlinewidth": 0,
              "ticks": ""
             }
            },
            "marker": {
             "colorbar": {
              "outlinewidth": 0,
              "ticks": ""
             }
            },
            "type": "scatter3d"
           }
          ],
          "scattercarpet": [
           {
            "marker": {
             "colorbar": {
              "outlinewidth": 0,
              "ticks": ""
             }
            },
            "type": "scattercarpet"
           }
          ],
          "scattergeo": [
           {
            "marker": {
             "colorbar": {
              "outlinewidth": 0,
              "ticks": ""
             }
            },
            "type": "scattergeo"
           }
          ],
          "scattergl": [
           {
            "marker": {
             "colorbar": {
              "outlinewidth": 0,
              "ticks": ""
             }
            },
            "type": "scattergl"
           }
          ],
          "scattermapbox": [
           {
            "marker": {
             "colorbar": {
              "outlinewidth": 0,
              "ticks": ""
             }
            },
            "type": "scattermapbox"
           }
          ],
          "scatterpolar": [
           {
            "marker": {
             "colorbar": {
              "outlinewidth": 0,
              "ticks": ""
             }
            },
            "type": "scatterpolar"
           }
          ],
          "scatterpolargl": [
           {
            "marker": {
             "colorbar": {
              "outlinewidth": 0,
              "ticks": ""
             }
            },
            "type": "scatterpolargl"
           }
          ],
          "scatterternary": [
           {
            "marker": {
             "colorbar": {
              "outlinewidth": 0,
              "ticks": ""
             }
            },
            "type": "scatterternary"
           }
          ],
          "surface": [
           {
            "colorbar": {
             "outlinewidth": 0,
             "ticks": ""
            },
            "colorscale": [
             [
              0,
              "#0d0887"
             ],
             [
              0.1111111111111111,
              "#46039f"
             ],
             [
              0.2222222222222222,
              "#7201a8"
             ],
             [
              0.3333333333333333,
              "#9c179e"
             ],
             [
              0.4444444444444444,
              "#bd3786"
             ],
             [
              0.5555555555555556,
              "#d8576b"
             ],
             [
              0.6666666666666666,
              "#ed7953"
             ],
             [
              0.7777777777777778,
              "#fb9f3a"
             ],
             [
              0.8888888888888888,
              "#fdca26"
             ],
             [
              1,
              "#f0f921"
             ]
            ],
            "type": "surface"
           }
          ],
          "table": [
           {
            "cells": {
             "fill": {
              "color": "#EBF0F8"
             },
             "line": {
              "color": "white"
             }
            },
            "header": {
             "fill": {
              "color": "#C8D4E3"
             },
             "line": {
              "color": "white"
             }
            },
            "type": "table"
           }
          ]
         },
         "layout": {
          "annotationdefaults": {
           "arrowcolor": "#2a3f5f",
           "arrowhead": 0,
           "arrowwidth": 1
          },
          "colorscale": {
           "diverging": [
            [
             0,
             "#8e0152"
            ],
            [
             0.1,
             "#c51b7d"
            ],
            [
             0.2,
             "#de77ae"
            ],
            [
             0.3,
             "#f1b6da"
            ],
            [
             0.4,
             "#fde0ef"
            ],
            [
             0.5,
             "#f7f7f7"
            ],
            [
             0.6,
             "#e6f5d0"
            ],
            [
             0.7,
             "#b8e186"
            ],
            [
             0.8,
             "#7fbc41"
            ],
            [
             0.9,
             "#4d9221"
            ],
            [
             1,
             "#276419"
            ]
           ],
           "sequential": [
            [
             0,
             "#0d0887"
            ],
            [
             0.1111111111111111,
             "#46039f"
            ],
            [
             0.2222222222222222,
             "#7201a8"
            ],
            [
             0.3333333333333333,
             "#9c179e"
            ],
            [
             0.4444444444444444,
             "#bd3786"
            ],
            [
             0.5555555555555556,
             "#d8576b"
            ],
            [
             0.6666666666666666,
             "#ed7953"
            ],
            [
             0.7777777777777778,
             "#fb9f3a"
            ],
            [
             0.8888888888888888,
             "#fdca26"
            ],
            [
             1,
             "#f0f921"
            ]
           ],
           "sequentialminus": [
            [
             0,
             "#0d0887"
            ],
            [
             0.1111111111111111,
             "#46039f"
            ],
            [
             0.2222222222222222,
             "#7201a8"
            ],
            [
             0.3333333333333333,
             "#9c179e"
            ],
            [
             0.4444444444444444,
             "#bd3786"
            ],
            [
             0.5555555555555556,
             "#d8576b"
            ],
            [
             0.6666666666666666,
             "#ed7953"
            ],
            [
             0.7777777777777778,
             "#fb9f3a"
            ],
            [
             0.8888888888888888,
             "#fdca26"
            ],
            [
             1,
             "#f0f921"
            ]
           ]
          },
          "colorway": [
           "#636efa",
           "#EF553B",
           "#00cc96",
           "#ab63fa",
           "#FFA15A",
           "#19d3f3",
           "#FF6692",
           "#B6E880",
           "#FF97FF",
           "#FECB52"
          ],
          "font": {
           "color": "#2a3f5f"
          },
          "geo": {
           "bgcolor": "white",
           "lakecolor": "white",
           "landcolor": "#E5ECF6",
           "showlakes": true,
           "showland": true,
           "subunitcolor": "white"
          },
          "hoverlabel": {
           "align": "left"
          },
          "hovermode": "closest",
          "mapbox": {
           "style": "light"
          },
          "paper_bgcolor": "white",
          "plot_bgcolor": "#E5ECF6",
          "polar": {
           "angularaxis": {
            "gridcolor": "white",
            "linecolor": "white",
            "ticks": ""
           },
           "bgcolor": "#E5ECF6",
           "radialaxis": {
            "gridcolor": "white",
            "linecolor": "white",
            "ticks": ""
           }
          },
          "scene": {
           "xaxis": {
            "backgroundcolor": "#E5ECF6",
            "gridcolor": "white",
            "gridwidth": 2,
            "linecolor": "white",
            "showbackground": true,
            "ticks": "",
            "zerolinecolor": "white"
           },
           "yaxis": {
            "backgroundcolor": "#E5ECF6",
            "gridcolor": "white",
            "gridwidth": 2,
            "linecolor": "white",
            "showbackground": true,
            "ticks": "",
            "zerolinecolor": "white"
           },
           "zaxis": {
            "backgroundcolor": "#E5ECF6",
            "gridcolor": "white",
            "gridwidth": 2,
            "linecolor": "white",
            "showbackground": true,
            "ticks": "",
            "zerolinecolor": "white"
           }
          },
          "shapedefaults": {
           "line": {
            "color": "#2a3f5f"
           }
          },
          "ternary": {
           "aaxis": {
            "gridcolor": "white",
            "linecolor": "white",
            "ticks": ""
           },
           "baxis": {
            "gridcolor": "white",
            "linecolor": "white",
            "ticks": ""
           },
           "bgcolor": "#E5ECF6",
           "caxis": {
            "gridcolor": "white",
            "linecolor": "white",
            "ticks": ""
           }
          },
          "title": {
           "x": 0.05
          },
          "xaxis": {
           "automargin": true,
           "gridcolor": "white",
           "linecolor": "white",
           "ticks": "",
           "zerolinecolor": "white",
           "zerolinewidth": 2
          },
          "yaxis": {
           "automargin": true,
           "gridcolor": "white",
           "linecolor": "white",
           "ticks": "",
           "zerolinecolor": "white",
           "zerolinewidth": 2
          }
         }
        },
        "title": {
         "text": "Prediction performance for moisture content "
        },
        "width": 600,
        "xaxis": {
         "anchor": "y",
         "domain": [
          0,
          0.98
         ],
         "title": {
          "text": "Moisture content measured (%)"
         }
        },
        "yaxis": {
         "anchor": "x",
         "domain": [
          0,
          1
         ],
         "title": {
          "text": "Moisture content predicted (%)"
         }
        }
       }
      }
     },
     "metadata": {},
     "output_type": "display_data"
    }
   ],
   "source": [
    "import plotly.express as px\n",
    "\n",
    "df_pred = pd.DataFrame()\n",
    "df_pred['y'] = y['Umidade'].values\n",
    "df_pred['y_pred'] = y_pred\n",
    "fig = px.scatter(df_pred, x=\"y\", y=\"y_pred\", trendline=\"ols\", title=\"Prediction performance for moisture content \",\n",
    "                 labels={\n",
    "                     \"y\": \"Moisture content measured (%)\",\n",
    "                     \"y_pred\": \"Moisture content predicted (%)\",\n",
    "\n",
    "                 },width=600, height=400)\n",
    "fig.show()"
   ]
  },
  {
   "attachments": {},
   "cell_type": "markdown",
   "id": "3b8d1234",
   "metadata": {},
   "source": []
  },
  {
   "cell_type": "code",
   "execution_count": 614,
   "id": "e3d45641",
   "metadata": {},
   "outputs": [
    {
     "data": {
      "text/plain": [
       "array([   2,   11,   25,   27,   31,   46,   53,   60,   69,   94,   99,\n",
       "        105,  107,  128,  138,  152,  154,  169,  183,  214,  217,  218,\n",
       "        221,  241,  243,  250,  262,  281,  286,  306,  311,  312,  317,\n",
       "        324,  335,  342,  399,  404,  407,  436,  440,  450,  451,  452,\n",
       "        460,  467,  470,  483,  484,  486,  490,  493,  500,  503,  504,\n",
       "        517,  520,  522,  526,  533,  537,  576,  584,  600,  624,  628,\n",
       "        636,  640,  641,  642,  651,  670,  694,  701,  709,  711,  731,\n",
       "        748,  764,  770,  771,  787,  795,  798,  814,  817,  832,  842,\n",
       "        847,  859,  867,  878,  892,  894,  907,  912,  926,  935,  939,\n",
       "        963,  968,  985,  990,  997,  999, 1005, 1031, 1037, 1046, 1047,\n",
       "       1049, 1075, 1076, 1081, 1100, 1102, 1107, 1120, 1143, 1146, 1160,\n",
       "       1173, 1176, 1187, 1196, 1198, 1212, 1213, 1214, 1224, 1225, 1237,\n",
       "       1244, 1253, 1264, 1272, 1281, 1282, 1293, 1316, 1348, 1349, 1361,\n",
       "       1399, 1400, 1401, 1413, 1468, 1477, 1483, 1484, 1489, 1493, 1495,\n",
       "       1523, 1526, 1529, 1531, 1532, 1536, 1551])"
      ]
     },
     "execution_count": 614,
     "metadata": {},
     "output_type": "execute_result"
    }
   ],
   "source": [
    "#Wavelength to keep\n",
    "wl_list = np.arange(0, 1557, 1)\n",
    "col = [ 4,6,10,12,19,23,30,32,33,35,36,37,41,42,44,49,52,54,55,63,65,67,70,71,72,74,76,77,80,81,82,85,87,89,93,98,101,108,111,112,115,116,118,120,121,122,123,124,129,131,134,139,147,148,149,150,151,153,155,157,158,159,160,161,163,165,166,168,170,173,176,177,178,179,181,182,187,188,190,191,192,193,196,197,199,203,204,205,207,209,212,222,223,228,229,231,233,235,236,237,239,246,248,249,251,259,263,264,268,270,271,274,279,282,284,287,292,293,295,298,300,301,302,305,310,313,318,322,326,327,331,334,338,339,341,343,348,350,353,354,357,358,359,360,362,365,367,368,371,373,374,375,376,383,384,386,388,389,391,392,393,394,395,396,401,402,403,405,406,410,411,412,414,415,416,417,418,419,420,421,422,424,425,426,428,429,431,432,433,434,435,437,438,439,443,444,445,447,453,454,456,458,461,462,466,471,473,475,478,479,480,481,482,485,488,489,491,492,496,501,507,509,511,512,514,515,519,524,529,530,532,535,538,539,541,542,544,547,548,551,554,555,556,558,561,562,563,564,566,568,569,570,571,574,575,577,578,579,580,581,583,585,586,587,589,590,591,593,595,597,598,599,601,602,603,605,607,608,609,610,613,615,618,619,620,621,622,626,627,630,632,633,635,637,639,644,646,648,652,656,657,658,662,665,667,671,674,675,677,679,681,682,683,685,686,687,688,690,691,692,693,695,696,697,699,702,707,712,713,715,718,719,723,725,726,727,728,733,740,741,743,744,746,750,752,754,757,758,763,765,766,767,768,769,772,773,774,775,776,777,780,781,785,786,789,791,792,793,794,799,800,801,807,808,809,810,811,812,815,816,819,822,823,824,825,827,831,834,835,839,840,844,845,846,848,850,851,852,853,854,861,863,864,865,866,868,870,871,872,873,874,875,877,879,882,884,885,886,887,889,890,891,893,895,897,898,899,903,904,905,906,908,915,917,918,921,923,924,925,927,928,929,933,934,936,940,941,942,944,945,946,947,948,949,951,952,955,956,958,960,962,965,966,970,974,975,976,977,978,979,981,984,988,992,993,996,1000,1002,1003,1004,1007,1012,1014,1016,1017,1018,1021,1022,1024,1026,1028,1030,1032,1036,1038,1041,1042,1044,1048,1050,1053,1056,1057,1060,1062,1063,1066,1067,1068,1070,1073,1077,1080,1083,1084,1085,1087,1088,1089,1090,1091,1093,1095,1096,1098,1099,1105,1106,1108,1109,1110,1111,1113,1114,1115,1121,1122,1123,1124,1125,1126,1129,1131,1132,1133,1134,1137,1138,1141,1142,1144,1145,1149,1150,1152,1155,1158,1159,1163,1164,1169,1170,1172,1174,1178,1180,1181,1182,1183,1186,1188,1191,1193,1194,1195,1201,1202,1206,1208,1210,1215,1217,1219,1223,1226,1227,1229,1230,1232,1234,1240,1241,1242,1247,1249,1258,1262,1263,1265,1268,1269,1270,1274,1275,1276,1277,1278,1280,1283,1284,1287,1289,1291,1294,1295,1296,1297,1299,1300,1301,1304,1308,1311,1315,1317,1319,1323,1324,1326,1332,1338,1339,1340,1343,1344,1345,1346,1347,1351,1353,1354,1355,1357,1363,1364,1366,1367,1368,1371,1381,1382,1383,1385,1386,1389,1391,1396,1397,1402,1405,1406,1408,1409,1410,1415,1416,1417,1419,1420,1427,1429,1431,1432,1435,1436,1437,1438,1442,1443,1444,1445,1447,1448,1449,1450,1452,1454,1457,1459,1462,1463,1465,1466,1467,1470,1471,1472,1476,1478,1480,1486,1488,1490,1491,1494,1497,1499,1500,1501,1507,1508,1509,1511,1514,1516,1518,1522,1525,1527,1528,1533,1534,1541,1542,1545,1546,1548,1550,1553,1556]\n",
    "\n",
    "wl_list = np.delete(wl_list, col)\n",
    "###If needed ##\n",
    "col = [0,   1,   4,   6,   9,  14,  15,  16,  18,  25,  26,  27,  30,\n",
    "        33,  35,  37,  38,  39,  40,  44,  45,  51,  52,  53,  54,  58,\n",
    "        72,  73,  75,  76,  77,  78,  79,  82,  83,  85,  86,  88,  90,\n",
    "        91,  92,  93,  94,  99, 102, 108, 109, 110, 112, 113, 114, 115,\n",
    "       116, 117, 118, 119, 122, 125, 128, 129, 131, 133, 135, 143, 144,\n",
    "       145, 147, 148, 150, 151, 152, 159, 161, 163, 164, 165, 173, 176,\n",
    "       179, 180, 183, 184, 185, 189, 190, 193, 197, 199, 200, 204, 205,\n",
    "       208, 209, 210, 212, 213, 216, 217, 219, 220, 221, 223, 226, 227,\n",
    "       228, 231, 232, 236, 239, 242, 243, 256, 257, 259, 266, 268, 273,\n",
    "       277, 282, 287, 288, 296, 300, 301, 303, 304, 308, 317, 318, 319,\n",
    "       324, 327, 332, 333, 336, 338, 340, 341, 342, 344, 349, 350, 351,\n",
    "       354, 360, 361, 363, 366, 367, 374, 375, 377, 378, 379, 380, 383,\n",
    "       385, 387, 388, 390, 391, 393, 400, 402, 406, 408, 409, 411, 412,\n",
    "       413, 414, 418, 420, 421, 422, 425, 427, 430, 431, 432, 433, 434,\n",
    "       435, 439, 441, 443, 446, 447, 449, 450, 452, 454, 457, 458, 463,\n",
    "       467, 473, 474, 475, 477, 479, 483, 484, 486, 488, 490, 493, 495,\n",
    "       496, 497, 498, 501, 504, 506, 509, 510, 511, 515, 516, 524, 526,\n",
    "       527, 528, 529, 530, 532, 534, 535, 541, 544, 545, 553, 554, 555,\n",
    "       563, 566, 571, 572, 578, 580, 582, 586, 587, 588, 589, 590, 591,\n",
    "       592, 595, 596, 597, 599, 600, 601, 603, 605, 607, 608, 615, 616,\n",
    "       618, 620, 622, 626, 629, 630, 631, 642, 643, 644, 648, 649, 650,\n",
    "       653, 654, 655, 657, 660, 662, 663, 664, 668, 669, 671, 672, 675,\n",
    "       677, 679, 681, 682, 684, 686, 688, 689, 690, 691, 695, 696, 697,\n",
    "       699, 700, 702, 703, 704, 705, 706, 712, 713, 715, 716, 723, 724,\n",
    "       726, 727, 730, 731, 732, 736, 737, 738, 739, 740, 746, 748, 752,\n",
    "       756, 759, 761, 765, 766, 767, 772, 773, 775, 776, 778, 781, 785,\n",
    "       786, 791, 792, 794, 796, 798, 801, 804, 807, 817, 818, 821, 824,\n",
    "       826]\n",
    "wl_list = np.delete(wl_list, col)\n",
    "col = [1,   3,   7,   8,   9,  14,  16,  17,  20,  23,  27,  28,  29,\n",
    "        30,  31,  32,  36,  38,  39,  41,  48,  51,  54,  56,  58,  59,\n",
    "        60,  61,  63,  64,  67,  71,  72,  73,  75,  76,  78,  81,  82,\n",
    "        84,  87,  89,  90,  93,  94,  96,  97,  98,  99, 101, 105, 109,\n",
    "       111, 112, 115, 117, 118, 119, 121, 122, 124, 126, 131, 133, 136,\n",
    "       137, 139, 140, 144, 146, 149, 150, 152, 153, 159, 162, 166, 167,\n",
    "       168, 171, 173, 182, 183, 184, 187, 188, 189, 190, 192, 195, 197,\n",
    "       198, 200, 208, 211, 212, 213, 214, 215, 217, 220, 221, 223, 230,\n",
    "       237, 238, 239, 240, 242, 247, 249, 251, 255, 256, 258, 263, 264,\n",
    "       267, 269, 272, 273, 278, 281, 282, 284, 286, 289, 291, 294, 295,\n",
    "       297, 299, 300, 301, 303, 306, 307, 308, 309, 310, 312, 316, 320,\n",
    "       322, 324, 325, 326, 328, 333, 334, 335, 339, 341, 342, 343, 347,\n",
    "       349, 350, 351, 353, 356, 361, 363, 368, 371, 376, 379, 380, 382,\n",
    "       391, 394, 395, 402, 403, 406, 407, 411, 412, 413, 414, 415, 416,\n",
    "       423, 424, 426, 427, 428, 429, 430, 431, 433, 435, 438, 439, 440,\n",
    "       442, 445, 449, 453, 456, 457, 458, 459, 466, 470, 471, 472]\n",
    "wl_list = np.delete(wl_list, col)\n",
    "col = [1,   3,   4,   6,   8,  11,  14,  15,  18,  19,  21,  23,  25,\n",
    "        26,  28,  32,  35,  40,  44,  46,  47,  48,  51,  56,  57,  59,\n",
    "        62,  63,  64,  65,  69,  72,  77,  85,  86,  90,  94,  96,  99,\n",
    "       100, 101, 102, 105, 107, 108, 115, 117, 119, 120, 123, 126, 127,\n",
    "       129, 130, 131, 132, 134, 143, 145, 149, 152, 155, 158, 162, 165,\n",
    "       172, 174, 178, 179, 180, 183, 186, 195, 197, 200, 201, 205, 206,\n",
    "       207, 210, 214, 215, 217, 221, 223, 225, 226, 227, 228, 229, 233,\n",
    "       234, 235, 236, 240, 242, 243, 244, 245, 248, 254, 255, 256, 260,\n",
    "       264, 265, 267]\n",
    "wl_list = np.delete(wl_list, col)\n",
    "wl_list"
   ]
  },
  {
   "cell_type": "code",
   "execution_count": 616,
   "id": "32b55065",
   "metadata": {},
   "outputs": [],
   "source": [
    "# ##Show the wavelength selected\n",
    "\n",
    "# wl = np.arange(0, 1557, 1)\n",
    "# print(len(wl))\n",
    "# wavelength_res = wl_list\n",
    "# plt.figure(figsize=(18, 9.5))\n",
    "# with plt.style.context('ggplot'):\n",
    "#     plt.plot(wl, df_pretreat.values[:, :-3].T)\n",
    "#     for i in range(0, (len(wavelength_res)-1)):\n",
    "#         plt.axvline(x=wavelength_res[i], color='r', label='axvline - full height')\n",
    "#     plt.xlabel(\"Wavelengths (nm)\")\n",
    "#     plt.ylabel(\"D2 Absorbance\")\n",
    "#     plt.show()"
   ]
  },
  {
   "cell_type": "code",
   "execution_count": 617,
   "id": "eedf1a8e",
   "metadata": {},
   "outputs": [
    {
     "data": {
      "text/plain": [
       "161"
      ]
     },
     "execution_count": 617,
     "metadata": {},
     "output_type": "execute_result"
    }
   ],
   "source": [
    "len(wl_list)"
   ]
  },
  {
   "cell_type": "code",
   "execution_count": 385,
   "id": "230c471a",
   "metadata": {},
   "outputs": [
    {
     "name": "stdout",
     "output_type": "stream",
     "text": [
      "N comp:  8\n",
      "N Wave:  (61, 1557)\n",
      "R2CV:  0.640427767982437\n",
      "RMSECV:  1.3121299617702589\n",
      "RMSE test:  1.5088003836858654\n",
      "Pour comparaison\n",
      "R2:  0.786166549452898\n",
      "RMSE:  0.9888422117108644\n"
     ]
    }
   ],
   "source": [
    "ls_score_pls = []\n",
    "n_opt = 8\n",
    "for i in range(3,9):\n",
    "    pls_simple = PLSRegression(n_components=i)\n",
    "    cv = LeaveOneOut()\n",
    "    #cv = 10\n",
    "\n",
    "    X1 = X_train \n",
    "    #X1 = X_train[:,pos==1] \n",
    "\n",
    "    X2 = X_test\n",
    "    #X2 = X_test[:,pos==1] \n",
    "\n",
    "\n",
    "    # Fit\n",
    "    pls_simple.fit(X1, y_train_oleo)\n",
    "\n",
    "\n",
    "    # Cross-validation\n",
    "    y_cv = cross_val_predict(pls_simple,X1, y_train_oleo, cv=cv)\n",
    "    y_pred = pls_simple.predict(X2)\n",
    "    score = r2_score(y_train_oleo, y_cv)\n",
    "    if ls_score_pls:\n",
    "        if score< ls_score_pls[-1] and i>4:\n",
    "            n_opt =  i-1\n",
    "            break\n",
    "\n",
    "    ls_score_pls.append(score)\n",
    "\n",
    "pls_simple = PLSRegression(n_components=n_opt)\n",
    "cv = LeaveOneOut()\n",
    "# cv = 10\n",
    "\n",
    "X1 = X_train \n",
    "#X1 = X_train[:,pos==1] \n",
    "\n",
    "X2 = X_test\n",
    "#X2 = X_test[:,pos==1] \n",
    "\n",
    "\n",
    "# Fit\n",
    "pls_simple.fit(X1, y_train_oleo)\n",
    "\n",
    "\n",
    "# Cross-validation\n",
    "y_cv = cross_val_predict(pls_simple,X1, y_train_oleo, cv=cv)\n",
    "y_pred = pls_simple.predict(X2)\n",
    "y_pred_tot = pls_simple.predict(X)\n",
    "# Calculate scores\n",
    "score = r2_score(y_train_oleo, y_cv)\n",
    "score_train = mean_squared_error(y_train_oleo, y_cv,squared=False)\n",
    "score_test = mean_squared_error(y_test_oleo, y_pred,squared=False)\n",
    "\n",
    "score_tot = r2_score(y['Oleo'], y_pred_tot)\n",
    "score_rmse_tot = mean_squared_error(y['Oleo'], y_pred_tot,squared=False)\n",
    "\n",
    "print('N comp: ', n_opt)\n",
    "print('N Wave: ', X_train.shape)\n",
    "print('R2CV: ', score)\n",
    "print('RMSECV: ', score_train)\n",
    "print('RMSE test: ', score_test)\n",
    "\n",
    "\n",
    "print('Pour comparaison')\n",
    "print('R2: ', score_tot)\n",
    "print('RMSE: ', score_rmse_tot)"
   ]
  },
  {
   "attachments": {},
   "cell_type": "markdown",
   "id": "1cfe64d9",
   "metadata": {},
   "source": [
    "(3,2,1)\n",
    "N comp:  6\n",
    "N Wave:  (61, 1557)\n",
    "R2CV:  0.6530454444386171\n",
    "RMSECV:  1.2889025313168174\n",
    "RMSE test:  1.6961847587905499\n",
    "Pour comparaison\n",
    "R2:  0.8654741631852066\n",
    "RMSE:  0.7843177187725437\n",
    "\n",
    "N comp:  5\n",
    "N Wave:  (61, 1557)\n",
    "R2CV:  0.6464967531023336\n",
    "RMSECV:  1.3010095457249076\n",
    "RMSE test:  1.790763444184474\n",
    "Pour comparaison\n",
    "R2:  0.8214486347912489\n",
    "RMSE:  0.9035886411987984\n",
    "\n",
    "(5,2,1)\n",
    "N comp:  6\n",
    "N Wave:  (61, 1557)\n",
    "R2CV:  0.6661099395645476\n",
    "RMSECV:  1.2644030211954658\n",
    "RMSE test:  1.537657763123436\n",
    "Pour comparaison\n",
    "R2:  0.8563756180657579\n",
    "RMSE:  0.8104071456026767\n",
    "\n",
    "N comp:  5\n",
    "N Wave:  (61, 1557)\n",
    "R2CV:  0.6350662985683411\n",
    "RMSECV:  1.3218761459473312\n",
    "RMSE test:  1.787107923932826\n",
    "Pour comparaison\n",
    "R2:  0.7634113959344535\n",
    "RMSE:  1.040126320052597\n",
    "\n",
    "(7,2,1)\n",
    "N comp:  6\n",
    "N Wave:  (61, 1557)\n",
    "R2CV:  0.6682510727108328\n",
    "RMSECV:  1.2603423891058212\n",
    "RMSE test:  1.3755458637284859\n",
    "Pour comparaison\n",
    "R2:  0.8458011415365968\n",
    "RMSE:  0.8397108303013022\n",
    "\n",
    "N comp:  5\n",
    "N Wave:  (61, 1557)\n",
    "R2CV:  0.6205228270486218\n",
    "RMSECV:  1.3479587672485005\n",
    "RMSE test:  1.73872906953623\n",
    "Pour comparaison\n",
    "R2:  0.7192410410949727\n",
    "RMSE:  1.1330680326786615\n",
    "\n",
    "(9,2,1)\n",
    "N comp:  8\n",
    "N Wave:  (61, 1557)\n",
    "R2CV:  0.685051034415795\n",
    "RMSECV:  1.2280155683058276\n",
    "RMSE test:  1.518763932246492\n",
    "Pour comparaison\n",
    "R2:  0.8653412279150937\n",
    "RMSE:  0.784705145252483\n",
    "\n",
    "N comp:  5\n",
    "N Wave:  (61, 1557)\n",
    "R2CV:  0.6191837293857012\n",
    "RMSECV:  1.3503350087656052\n",
    "RMSE test:  1.7241461121372967\n",
    "Pour comparaison\n",
    "R2:  0.6939384058597662\n",
    "RMSE:  1.1830241035725502\n",
    "\n",
    "(9,2,2)\n",
    "N comp:  5\n",
    "N Wave:  (61, 1557)\n",
    "R2CV:  0.41016864629296157\n",
    "RMSECV:  1.6805355611455297\n",
    "RMSE test:  1.1579485341869653\n",
    "Pour comparaison\n",
    "R2:  0.9250271618185386\n",
    "RMSE:  0.5855192140837557\n",
    "\n",
    "(11,2,2)\n",
    "N comp:  5\n",
    "N Wave:  (61, 1557)\n",
    "R2CV:  0.4979531845928038\n",
    "RMSECV:  1.5504432970537148\n",
    "RMSE test:  1.1461042542840452\n",
    "Pour comparaison\n",
    "R2:  0.9203059735237306\n",
    "RMSE:  0.603673428424203\n",
    "\n",
    "(13,2,2)\n",
    "N comp:  7\n",
    "N Wave:  (61, 1557)\n",
    "R2CV:  0.5676165029831375\n",
    "RMSECV:  1.4388593204301332\n",
    "RMSE test:  1.0269390401041034\n",
    "Pour comparaison\n",
    "R2:  0.9517768939276389\n",
    "RMSE:  0.46958775674236625\n",
    "\n",
    "N comp:  5\n",
    "N Wave:  (61, 1557)\n",
    "R2CV:  0.541422309124472\n",
    "RMSECV:  1.4818022199189191\n",
    "RMSE test:  1.143927961248356\n",
    "Pour comparaison\n",
    "R2:  0.9148442220866146\n",
    "RMSE:  0.6240167332493306\n",
    "\n",
    "(15,2,2)\n",
    "N comp:  8\n",
    "N Wave:  (61, 1557)\n",
    "R2CV:  0.5939325994237918\n",
    "RMSECV:  1.3943854493739196\n",
    "RMSE test:  0.9555725944907429\n",
    "Pour comparaison\n",
    "R2:  0.9601450346801992\n",
    "RMSE:  0.4269041661179395\n",
    "\n",
    "N comp:  5\n",
    "N Wave:  (61, 1557)\n",
    "R2CV:  0.554096918747623\n",
    "RMSECV:  1.4611809994627731\n",
    "RMSE test:  1.136816635410985\n",
    "Pour comparaison\n",
    "R2:  0.903790054043769\n",
    "RMSE:  0.6632834493124607\n",
    "\n",
    "(17,2,2)\n",
    "N comp:  5\n",
    "N Wave:  (61, 1557)\n",
    "R2CV:  0.5679346801115522\n",
    "RMSECV:  1.4383298178204835\n",
    "RMSE test:  1.1830167874897293\n",
    "Pour comparaison\n",
    "R2:  0.8851676107143294\n",
    "RMSE:  0.7246384524705014\n",
    "\n",
    "(19,2,2)\n",
    "N comp:  6\n",
    "N Wave:  (61, 1557)\n",
    "R2CV:  0.5896360379683163\n",
    "RMSECV:  1.4017429697497372\n",
    "RMSE test:  0.9925806923952424\n",
    "Pour comparaison\n",
    "R2:  0.9166389706122845\n",
    "RMSE:  0.6174058067391404\n",
    "\n",
    "N comp:  5\n",
    "N Wave:  (61, 1557)\n",
    "R2CV:  0.5728436923260093\n",
    "RMSECV:  1.4301355139229637\n",
    "RMSE test:  1.0877042912390202\n",
    "Pour comparaison\n",
    "R2:  0.8880228105833862\n",
    "RMSE:  0.7155730184802437\n",
    "\n",
    "(21,2,2)\n",
    "N comp:  5\n",
    "N Wave:  (61, 1557)\n",
    "R2CV:  0.6210140131117121\n",
    "RMSECV:  1.347086102175131\n",
    "RMSE test:  1.044417150958413\n",
    "Pour comparaison\n",
    "R2:  0.8869244415748608\n",
    "RMSE:  0.7190739335967697\n",
    "\n",
    "(23,2,2)\n",
    "N comp:  8\n",
    "N Wave:  (61, 1557)\n",
    "R2CV:  0.6477826372553126\n",
    "RMSECV:  1.2986411492512557\n",
    "RMSE test:  1.0746811097263775\n",
    "Pour comparaison\n",
    "R2:  0.9398554859309807\n",
    "RMSE:  0.5244295869650407\n",
    "\n",
    "N comp:  5\n",
    "N Wave:  (61, 1557)\n",
    "R2CV:  0.6285853090682569\n",
    "RMSECV:  1.3335623276212072\n",
    "RMSE test:  1.1081201682765731\n",
    "Pour comparaison\n",
    "R2:  0.8650916873233023\n",
    "RMSE:  0.785431890154026\n",
    "\n",
    "N comp:  4\n",
    "N Wave:  (61, 1557)\n",
    "R2CV:  0.6056422723020412\n",
    "RMSECV:  1.3741335944997595\n",
    "RMSE test:  1.200086654152794\n",
    "Pour comparaison\n",
    "R2:  0.8325430516463204\n",
    "RMSE:  0.8750659024397156\n",
    "\n",
    "(25,2,2)\n",
    "N comp:  8\n",
    "N Wave:  (61, 1557)\n",
    "R2CV:  0.6550473413261537\n",
    "RMSECV:  1.2851787256280895\n",
    "RMSE test:  1.0019388831312381\n",
    "Pour comparaison\n",
    "R2:  0.9425733297747241\n",
    "RMSE:  0.5124435049031556\n",
    "\n",
    "N comp:  5\n",
    "N Wave:  (61, 1557)\n",
    "R2CV:  0.6211798298269943\n",
    "RMSECV:  1.3467913764619226\n",
    "RMSE test:  1.054417441049224\n",
    "Pour comparaison\n",
    "R2:  0.8581735825473402\n",
    "RMSE:  0.8053186218331922"
   ]
  },
  {
   "cell_type": "code",
   "execution_count": null,
   "id": "498797c8",
   "metadata": {},
   "outputs": [],
   "source": []
  }
 ],
 "metadata": {
  "kernelspec": {
   "display_name": "NIR_food",
   "language": "python",
   "name": "nir_food"
  },
  "language_info": {
   "codemirror_mode": {
    "name": "ipython",
    "version": 3
   },
   "file_extension": ".py",
   "mimetype": "text/x-python",
   "name": "python",
   "nbconvert_exporter": "python",
   "pygments_lexer": "ipython3",
   "version": "3.7.12"
  },
  "vscode": {
   "interpreter": {
    "hash": "f495aec6bb42f5bf50edc3d7c3c03d5f8869c4ec116315d269d15969b9ab482a"
   }
  }
 },
 "nbformat": 4,
 "nbformat_minor": 5
}
