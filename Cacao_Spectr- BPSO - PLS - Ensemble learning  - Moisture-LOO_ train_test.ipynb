{
 "cells": [
  {
   "cell_type": "code",
   "execution_count": 1,
   "id": "79c1089e",
   "metadata": {},
   "outputs": [],
   "source": [
    "import plotly.express as px\n",
    "import pandas as pd\n",
    "import numpy as np\n",
    "import matplotlib.pyplot as plt\n",
    "from numpy import alen, arange\n",
    "import math\n",
    "from math import sqrt\n",
    "from sklearn.model_selection import KFold\n",
    "from sklearn.linear_model import LinearRegression\n",
    "from sklearn.model_selection import cross_val_score\n",
    "from sklearn.model_selection import LeaveOneOut\n",
    "from sklearn.ensemble import AdaBoostRegressor\n",
    "from sklearn.pipeline import make_pipeline\n",
    "from sklearn.ensemble import RandomForestRegressor\n",
    "from sklearn.ensemble import GradientBoostingRegressor\n",
    "from sklearn.linear_model import LinearRegression\n",
    "from sklearn.ensemble import VotingRegressor\n",
    "\n",
    "from sklearn.svm import SVR\n",
    "#### PLS\n",
    "from sklearn.cross_decomposition import PLSRegression\n",
    "from sklearn.model_selection import cross_val_predict\n",
    "from sklearn.metrics import mean_squared_error, r2_score\n",
    "from scipy.signal import savgol_filter\n",
    "from sklearn.preprocessing import StandardScaler\n",
    "from sklearn import preprocessing\n",
    "from sklearn.model_selection import train_test_split\n",
    "from scipy.signal import savgol_filter"
   ]
  },
  {
   "cell_type": "code",
   "execution_count": 16,
   "id": "66e3b728",
   "metadata": {},
   "outputs": [],
   "source": [
    "#BPSO\n",
    "\n",
    "def pls_optimise_components(X, y, npc):\n",
    " \n",
    "    rmsecv = np.zeros(npc)\n",
    "    for i in range(1,npc+1,1):\n",
    " \n",
    "        # Simple PLS\n",
    "        pls_simple = PLSRegression(n_components=i)\n",
    "        # Fit\n",
    "        pls_simple.fit(X, y)\n",
    "        #cv = LeaveOneOut()\n",
    "        cv=10\n",
    "        # Cross-validation\n",
    "        y_cv = cross_val_predict(pls_simple, X, y, cv=cv)\n",
    " \n",
    "        # Calculate scores\n",
    "        score = r2_score(y, y_cv)\n",
    "        rmsecv[i-1] = np.sqrt(mean_squared_error(y, y_cv))\n",
    " \n",
    "    # Find the minimum of ther RMSE and its location\n",
    "    opt_comp, rmsecv_min = np.argmin(rmsecv),  rmsecv[np.argmin(rmsecv)]\n",
    " \n",
    "    return (opt_comp+1, rmsecv_min)\n",
    "\n",
    "def base_pls(X,y,n_components, return_model=False):\n",
    " \n",
    "    # Simple PLS\n",
    "    pls_simple = PLSRegression(n_components=n_components)\n",
    "    # Fit\n",
    "    pls_simple.fit(X, y)\n",
    "    #cv = 10\n",
    "    cv= 10\n",
    "    # Cross-validation\n",
    "    y_cv = cross_val_predict(pls_simple, X, y, cv=cv)\n",
    " \n",
    "    # Calculate scores\n",
    "    score = r2_score(y, y_cv)\n",
    "    rmsecv = np.sqrt(mean_squared_error(y, y_cv))\n",
    " \n",
    "    if return_model == False:\n",
    "        return(y_cv, score, rmsecv)\n",
    "    else:\n",
    "        return(y_cv, score, rmsecv, pls_simple)\n",
    "    \n",
    "from sklearn import linear_model\n",
    "from sklearn.linear_model import LinearRegression\n",
    "from sklearn.metrics import r2_score\n",
    "# Create an instance \n",
    "#reg = linear_model.LinearRegression\n",
    "\n",
    "# Define objective function\n",
    "def f_per_particle(m, alpha):\n",
    "    \"\"\"Computes for the objective function per particle\n",
    "\n",
    "    Inputs\n",
    "    ------\n",
    "    m : numpy.ndarray\n",
    "        Binary mask that can be obtained from BinaryPSO, will\n",
    "        be used to mask features.\n",
    "    alpha: float (default is 0.5)\n",
    "        Constant weight for trading-off classifier performance\n",
    "        and number of features\n",
    "\n",
    "    Returns\n",
    "    -------\n",
    "    numpy.ndarray\n",
    "        Computed objective function\n",
    "    \"\"\"\n",
    "    \n",
    "    total_features = dimensions\n",
    "    # Get the subset of the features from the binary mask\n",
    "\n",
    "    #X_sav = savgol_filter(X_train, 3, polyorder=2, deriv=1)\n",
    "\n",
    "    if np.count_nonzero(m) == 0:\n",
    "        X_subset = X_train\n",
    "    else:\n",
    "        X_subset = X_train[:,m==1]\n",
    "\n",
    "    \n",
    " \n",
    "\n",
    "    # #regr = make_pipeline(StandardScaler(), SVR())\n",
    "    # #regr = make_pipeline(StandardScaler(), RandomForestRegressor(max_depth=5, random_state=1))\n",
    "    # #regr = make_pipeline(StandardScaler(), SVR(C = 0.5, degree= 1, kernel= 'rbf',epsilon= 0.16))\n",
    "    # #X1 = savgol_filter(X_subset, 3, polyorder=2, deriv=1)\n",
    "    # reg1 = GradientBoostingRegressor(random_state=1)\n",
    "    # reg2 = RandomForestRegressor(random_state=1)\n",
    "    # reg3 = LinearRegression()\n",
    "    # ereg = VotingRegressor(estimators=[('gb', reg1), ('rf', reg2), ('lr', reg3)])\n",
    "    # ereg = ereg.fit(X_subset, y_train_oleo)\n",
    "    # #regr.fit(X_subset, y_train_oleo)\n",
    "    # #y_pred = cross_val_predict(regr, X_subset, y_train_oleo, cv=10)\n",
    "    # y_pred = ereg.predict(X_subset)\n",
    "    # #y_pred = regr.predict(X1)\n",
    "    # r2cv = mean_squared_error(y_train_oleo, y_pred)\n",
    "    # #r2cv = r2_score(y_train_oleo, y_pred)\n",
    "    # P = r2cv\n",
    "    # #P = (classifier.predict(X_subset) == y).mean()\n",
    "    # # Compute for the objective function\n",
    "    # j = (alpha * (1.0 - (1-P))\n",
    "    #     + (1.0 - alpha) * (1 - (X_subset.shape[1] / total_features)))\n",
    "\n",
    "\n",
    "\n",
    "    opt_comp, rmsecv_min = pls_optimise_components(X_subset, y_train_oleo, 6)\n",
    "    predicted, r2cv, rmscv = base_pls(X_subset, y_train_oleo, opt_comp)\n",
    "    \n",
    "    P = r2cv\n",
    "    #P = (classifier.predict(X_subset) == y).mean()\n",
    "    # Compute for the objective function\n",
    "    j = (alpha * (1.0 - P)\n",
    "        + (1.0 - alpha) * (1 - (X_subset.shape[1] / total_features)))\n",
    "\n",
    "    return j\n",
    "\n",
    "def f(x, alpha=0.88):\n",
    "    \"\"\"Higher-level method to do classification in the\n",
    "    whole swarm.\n",
    "\n",
    "    Inputs\n",
    "    ------\n",
    "    x: numpy.ndarray of shape (n_particles, dimensions)\n",
    "        The swarm that will perform the search\n",
    "\n",
    "    Returns\n",
    "    -------\n",
    "    numpy.ndarray of shape (n_particles, )\n",
    "        The computed loss for each particle\n",
    "    \"\"\"\n",
    "    n_particles = x.shape[0]\n",
    "    j = [f_per_particle(x[i], alpha) for i in range(n_particles)]\n",
    "    return np.array(j)\n",
    "\n",
    "def snv(input_data):\n",
    "  \n",
    "    # Define a new array and populate it with the corrected data  \n",
    "    output_data = np.zeros_like(input_data)\n",
    "    for i in range(input_data.shape[0]):\n",
    " \n",
    "        # Apply correction\n",
    "        output_data[i,:] = (input_data[i,:] - np.mean(input_data[i,:])) / np.std(input_data[i,:])\n",
    " \n",
    "    return output_data\n",
    "\n",
    "def msc(input_data):\n",
    "     # mean centre correction\n",
    "    for i in range(input_data.shape[0]):\n",
    "        input_data[i,:] -= input_data[i,:].mean()\n",
    " \n",
    "    # Get the reference spectrum. If not given, estimate it from the mean    \n",
    "\n",
    "    # Calculate mean\n",
    "    ref = np.mean(input_data, axis=0)\n",
    "\n",
    " \n",
    "    # Define a new array and populate it with the corrected data    \n",
    "    output_data= np.zeros_like(input_data)\n",
    "    for i in range(input_data.shape[0]):\n",
    "        # Run regression\n",
    "        fit = np.polyfit(ref, input_data[i,:], 1, full=True)\n",
    "        # Apply correction\n",
    "        output_data[i,:] = (input_data[i,:] - fit[0][1]) / fit[0][0] \n",
    "    return output_data"
   ]
  },
  {
   "cell_type": "code",
   "execution_count": 17,
   "id": "a70d7488",
   "metadata": {},
   "outputs": [],
   "source": [
    "df = pd.read_excel('Data/Cacao/NIRS spectrum Cocoa Beans.xlsx', skiprows=[0,1,2,3,4,5])"
   ]
  },
  {
   "cell_type": "code",
   "execution_count": 18,
   "id": "6e065140",
   "metadata": {},
   "outputs": [
    {
     "data": {
      "text/html": [
       "<div>\n",
       "<style scoped>\n",
       "    .dataframe tbody tr th:only-of-type {\n",
       "        vertical-align: middle;\n",
       "    }\n",
       "\n",
       "    .dataframe tbody tr th {\n",
       "        vertical-align: top;\n",
       "    }\n",
       "\n",
       "    .dataframe thead th {\n",
       "        text-align: right;\n",
       "    }\n",
       "</style>\n",
       "<table border=\"1\" class=\"dataframe\">\n",
       "  <thead>\n",
       "    <tr style=\"text-align: right;\">\n",
       "      <th></th>\n",
       "      <th>sample Num</th>\n",
       "      <th>999.9</th>\n",
       "      <th>1000.3</th>\n",
       "      <th>1000.7</th>\n",
       "      <th>1001.1</th>\n",
       "      <th>1001.4</th>\n",
       "      <th>1001.8</th>\n",
       "      <th>1002.2</th>\n",
       "      <th>1002.6</th>\n",
       "      <th>1003</th>\n",
       "      <th>...</th>\n",
       "      <th>2483.5</th>\n",
       "      <th>2485.8</th>\n",
       "      <th>2488.2</th>\n",
       "      <th>2490.6</th>\n",
       "      <th>2493</th>\n",
       "      <th>2495.4</th>\n",
       "      <th>2497.8</th>\n",
       "      <th>2500.2</th>\n",
       "      <th>Moisture Content (%)</th>\n",
       "      <th>Fat Content (%)</th>\n",
       "    </tr>\n",
       "  </thead>\n",
       "  <tbody>\n",
       "    <tr>\n",
       "      <th>0</th>\n",
       "      <td>1</td>\n",
       "      <td>0.455245</td>\n",
       "      <td>0.455134</td>\n",
       "      <td>0.454986</td>\n",
       "      <td>0.455009</td>\n",
       "      <td>0.454722</td>\n",
       "      <td>0.454652</td>\n",
       "      <td>0.454516</td>\n",
       "      <td>0.454527</td>\n",
       "      <td>0.454581</td>\n",
       "      <td>...</td>\n",
       "      <td>1.240786</td>\n",
       "      <td>1.244121</td>\n",
       "      <td>1.246720</td>\n",
       "      <td>1.249081</td>\n",
       "      <td>1.250945</td>\n",
       "      <td>1.252397</td>\n",
       "      <td>1.253387</td>\n",
       "      <td>1.254267</td>\n",
       "      <td>8.17</td>\n",
       "      <td>39.11000</td>\n",
       "    </tr>\n",
       "    <tr>\n",
       "      <th>1</th>\n",
       "      <td>2</td>\n",
       "      <td>0.485282</td>\n",
       "      <td>0.485407</td>\n",
       "      <td>0.485407</td>\n",
       "      <td>0.485478</td>\n",
       "      <td>0.485399</td>\n",
       "      <td>0.485284</td>\n",
       "      <td>0.485150</td>\n",
       "      <td>0.485174</td>\n",
       "      <td>0.485439</td>\n",
       "      <td>...</td>\n",
       "      <td>1.263340</td>\n",
       "      <td>1.266759</td>\n",
       "      <td>1.269205</td>\n",
       "      <td>1.271461</td>\n",
       "      <td>1.273356</td>\n",
       "      <td>1.274930</td>\n",
       "      <td>1.276129</td>\n",
       "      <td>1.277142</td>\n",
       "      <td>7.52</td>\n",
       "      <td>39.14000</td>\n",
       "    </tr>\n",
       "    <tr>\n",
       "      <th>2</th>\n",
       "      <td>3</td>\n",
       "      <td>0.504128</td>\n",
       "      <td>0.503784</td>\n",
       "      <td>0.503550</td>\n",
       "      <td>0.503983</td>\n",
       "      <td>0.503992</td>\n",
       "      <td>0.503576</td>\n",
       "      <td>0.503656</td>\n",
       "      <td>0.503647</td>\n",
       "      <td>0.503327</td>\n",
       "      <td>...</td>\n",
       "      <td>1.298061</td>\n",
       "      <td>1.301578</td>\n",
       "      <td>1.304317</td>\n",
       "      <td>1.306653</td>\n",
       "      <td>1.308487</td>\n",
       "      <td>1.310115</td>\n",
       "      <td>1.310987</td>\n",
       "      <td>1.311702</td>\n",
       "      <td>8.52</td>\n",
       "      <td>42.35439</td>\n",
       "    </tr>\n",
       "    <tr>\n",
       "      <th>3</th>\n",
       "      <td>4</td>\n",
       "      <td>0.470077</td>\n",
       "      <td>0.469761</td>\n",
       "      <td>0.469780</td>\n",
       "      <td>0.469852</td>\n",
       "      <td>0.469783</td>\n",
       "      <td>0.469600</td>\n",
       "      <td>0.469520</td>\n",
       "      <td>0.469439</td>\n",
       "      <td>0.469648</td>\n",
       "      <td>...</td>\n",
       "      <td>1.240584</td>\n",
       "      <td>1.243668</td>\n",
       "      <td>1.246182</td>\n",
       "      <td>1.248631</td>\n",
       "      <td>1.250560</td>\n",
       "      <td>1.252181</td>\n",
       "      <td>1.253309</td>\n",
       "      <td>1.254296</td>\n",
       "      <td>8.65</td>\n",
       "      <td>42.71632</td>\n",
       "    </tr>\n",
       "    <tr>\n",
       "      <th>4</th>\n",
       "      <td>5</td>\n",
       "      <td>0.495356</td>\n",
       "      <td>0.495335</td>\n",
       "      <td>0.495513</td>\n",
       "      <td>0.495504</td>\n",
       "      <td>0.495303</td>\n",
       "      <td>0.495128</td>\n",
       "      <td>0.495118</td>\n",
       "      <td>0.495339</td>\n",
       "      <td>0.495136</td>\n",
       "      <td>...</td>\n",
       "      <td>1.300846</td>\n",
       "      <td>1.304284</td>\n",
       "      <td>1.306948</td>\n",
       "      <td>1.309266</td>\n",
       "      <td>1.311007</td>\n",
       "      <td>1.312586</td>\n",
       "      <td>1.313464</td>\n",
       "      <td>1.314298</td>\n",
       "      <td>7.66</td>\n",
       "      <td>38.57000</td>\n",
       "    </tr>\n",
       "  </tbody>\n",
       "</table>\n",
       "<p>5 rows × 1560 columns</p>\n",
       "</div>"
      ],
      "text/plain": [
       "   sample Num     999.9    1000.3    1000.7    1001.1    1001.4    1001.8  \\\n",
       "0           1  0.455245  0.455134  0.454986  0.455009  0.454722  0.454652   \n",
       "1           2  0.485282  0.485407  0.485407  0.485478  0.485399  0.485284   \n",
       "2           3  0.504128  0.503784  0.503550  0.503983  0.503992  0.503576   \n",
       "3           4  0.470077  0.469761  0.469780  0.469852  0.469783  0.469600   \n",
       "4           5  0.495356  0.495335  0.495513  0.495504  0.495303  0.495128   \n",
       "\n",
       "     1002.2    1002.6      1003  ...    2483.5    2485.8    2488.2    2490.6  \\\n",
       "0  0.454516  0.454527  0.454581  ...  1.240786  1.244121  1.246720  1.249081   \n",
       "1  0.485150  0.485174  0.485439  ...  1.263340  1.266759  1.269205  1.271461   \n",
       "2  0.503656  0.503647  0.503327  ...  1.298061  1.301578  1.304317  1.306653   \n",
       "3  0.469520  0.469439  0.469648  ...  1.240584  1.243668  1.246182  1.248631   \n",
       "4  0.495118  0.495339  0.495136  ...  1.300846  1.304284  1.306948  1.309266   \n",
       "\n",
       "       2493    2495.4    2497.8    2500.2  Moisture Content (%)  \\\n",
       "0  1.250945  1.252397  1.253387  1.254267                  8.17   \n",
       "1  1.273356  1.274930  1.276129  1.277142                  7.52   \n",
       "2  1.308487  1.310115  1.310987  1.311702                  8.52   \n",
       "3  1.250560  1.252181  1.253309  1.254296                  8.65   \n",
       "4  1.311007  1.312586  1.313464  1.314298                  7.66   \n",
       "\n",
       "   Fat Content (%)  \n",
       "0         39.11000  \n",
       "1         39.14000  \n",
       "2         42.35439  \n",
       "3         42.71632  \n",
       "4         38.57000  \n",
       "\n",
       "[5 rows x 1560 columns]"
      ]
     },
     "execution_count": 18,
     "metadata": {},
     "output_type": "execute_result"
    }
   ],
   "source": [
    "df.head()"
   ]
  },
  {
   "cell_type": "code",
   "execution_count": 19,
   "id": "1e08a40c",
   "metadata": {},
   "outputs": [
    {
     "data": {
      "text/html": [
       "<div>\n",
       "<style scoped>\n",
       "    .dataframe tbody tr th:only-of-type {\n",
       "        vertical-align: middle;\n",
       "    }\n",
       "\n",
       "    .dataframe tbody tr th {\n",
       "        vertical-align: top;\n",
       "    }\n",
       "\n",
       "    .dataframe thead th {\n",
       "        text-align: right;\n",
       "    }\n",
       "</style>\n",
       "<table border=\"1\" class=\"dataframe\">\n",
       "  <thead>\n",
       "    <tr style=\"text-align: right;\">\n",
       "      <th></th>\n",
       "      <th>sample Num</th>\n",
       "      <th>999.9</th>\n",
       "      <th>1000.3</th>\n",
       "      <th>1000.7</th>\n",
       "      <th>1001.1</th>\n",
       "      <th>1001.4</th>\n",
       "      <th>1001.8</th>\n",
       "      <th>1002.2</th>\n",
       "      <th>1002.6</th>\n",
       "      <th>1003</th>\n",
       "      <th>...</th>\n",
       "      <th>2483.5</th>\n",
       "      <th>2485.8</th>\n",
       "      <th>2488.2</th>\n",
       "      <th>2490.6</th>\n",
       "      <th>2493</th>\n",
       "      <th>2495.4</th>\n",
       "      <th>2497.8</th>\n",
       "      <th>2500.2</th>\n",
       "      <th>Moisture Content (%)</th>\n",
       "      <th>Fat Content (%)</th>\n",
       "    </tr>\n",
       "  </thead>\n",
       "  <tbody>\n",
       "    <tr>\n",
       "      <th>count</th>\n",
       "      <td>72.00000</td>\n",
       "      <td>72.000000</td>\n",
       "      <td>72.000000</td>\n",
       "      <td>72.000000</td>\n",
       "      <td>72.000000</td>\n",
       "      <td>72.000000</td>\n",
       "      <td>72.000000</td>\n",
       "      <td>72.000000</td>\n",
       "      <td>72.000000</td>\n",
       "      <td>72.000000</td>\n",
       "      <td>...</td>\n",
       "      <td>72.000000</td>\n",
       "      <td>72.000000</td>\n",
       "      <td>72.000000</td>\n",
       "      <td>72.000000</td>\n",
       "      <td>72.000000</td>\n",
       "      <td>72.000000</td>\n",
       "      <td>72.000000</td>\n",
       "      <td>72.000000</td>\n",
       "      <td>72.000000</td>\n",
       "      <td>72.000000</td>\n",
       "    </tr>\n",
       "    <tr>\n",
       "      <th>mean</th>\n",
       "      <td>36.50000</td>\n",
       "      <td>0.553672</td>\n",
       "      <td>0.553252</td>\n",
       "      <td>0.553195</td>\n",
       "      <td>0.553385</td>\n",
       "      <td>0.553181</td>\n",
       "      <td>0.552734</td>\n",
       "      <td>0.552676</td>\n",
       "      <td>0.552743</td>\n",
       "      <td>0.552677</td>\n",
       "      <td>...</td>\n",
       "      <td>1.355246</td>\n",
       "      <td>1.358534</td>\n",
       "      <td>1.361217</td>\n",
       "      <td>1.363559</td>\n",
       "      <td>1.365416</td>\n",
       "      <td>1.367055</td>\n",
       "      <td>1.368250</td>\n",
       "      <td>1.369333</td>\n",
       "      <td>9.036111</td>\n",
       "      <td>40.319422</td>\n",
       "    </tr>\n",
       "    <tr>\n",
       "      <th>std</th>\n",
       "      <td>20.92845</td>\n",
       "      <td>0.058118</td>\n",
       "      <td>0.058024</td>\n",
       "      <td>0.058001</td>\n",
       "      <td>0.057977</td>\n",
       "      <td>0.057892</td>\n",
       "      <td>0.057755</td>\n",
       "      <td>0.057687</td>\n",
       "      <td>0.057656</td>\n",
       "      <td>0.057599</td>\n",
       "      <td>...</td>\n",
       "      <td>0.077153</td>\n",
       "      <td>0.077181</td>\n",
       "      <td>0.077192</td>\n",
       "      <td>0.077227</td>\n",
       "      <td>0.077250</td>\n",
       "      <td>0.077317</td>\n",
       "      <td>0.077330</td>\n",
       "      <td>0.077353</td>\n",
       "      <td>1.276969</td>\n",
       "      <td>2.153408</td>\n",
       "    </tr>\n",
       "    <tr>\n",
       "      <th>min</th>\n",
       "      <td>1.00000</td>\n",
       "      <td>0.453846</td>\n",
       "      <td>0.453121</td>\n",
       "      <td>0.453382</td>\n",
       "      <td>0.453692</td>\n",
       "      <td>0.453737</td>\n",
       "      <td>0.453246</td>\n",
       "      <td>0.453506</td>\n",
       "      <td>0.453738</td>\n",
       "      <td>0.453617</td>\n",
       "      <td>...</td>\n",
       "      <td>1.169063</td>\n",
       "      <td>1.172108</td>\n",
       "      <td>1.174711</td>\n",
       "      <td>1.176826</td>\n",
       "      <td>1.178704</td>\n",
       "      <td>1.180210</td>\n",
       "      <td>1.181361</td>\n",
       "      <td>1.182412</td>\n",
       "      <td>6.740000</td>\n",
       "      <td>35.259180</td>\n",
       "    </tr>\n",
       "    <tr>\n",
       "      <th>25%</th>\n",
       "      <td>18.75000</td>\n",
       "      <td>0.506507</td>\n",
       "      <td>0.506184</td>\n",
       "      <td>0.505822</td>\n",
       "      <td>0.506032</td>\n",
       "      <td>0.506154</td>\n",
       "      <td>0.505824</td>\n",
       "      <td>0.505751</td>\n",
       "      <td>0.505866</td>\n",
       "      <td>0.505862</td>\n",
       "      <td>...</td>\n",
       "      <td>1.302396</td>\n",
       "      <td>1.305891</td>\n",
       "      <td>1.308618</td>\n",
       "      <td>1.311181</td>\n",
       "      <td>1.313362</td>\n",
       "      <td>1.315192</td>\n",
       "      <td>1.316658</td>\n",
       "      <td>1.318237</td>\n",
       "      <td>8.087500</td>\n",
       "      <td>38.551392</td>\n",
       "    </tr>\n",
       "    <tr>\n",
       "      <th>50%</th>\n",
       "      <td>36.50000</td>\n",
       "      <td>0.539088</td>\n",
       "      <td>0.538746</td>\n",
       "      <td>0.538902</td>\n",
       "      <td>0.539029</td>\n",
       "      <td>0.538547</td>\n",
       "      <td>0.538157</td>\n",
       "      <td>0.538385</td>\n",
       "      <td>0.538500</td>\n",
       "      <td>0.538432</td>\n",
       "      <td>...</td>\n",
       "      <td>1.358992</td>\n",
       "      <td>1.362210</td>\n",
       "      <td>1.364917</td>\n",
       "      <td>1.367153</td>\n",
       "      <td>1.368977</td>\n",
       "      <td>1.370487</td>\n",
       "      <td>1.371482</td>\n",
       "      <td>1.372305</td>\n",
       "      <td>8.785000</td>\n",
       "      <td>40.126075</td>\n",
       "    </tr>\n",
       "    <tr>\n",
       "      <th>75%</th>\n",
       "      <td>54.25000</td>\n",
       "      <td>0.590582</td>\n",
       "      <td>0.589999</td>\n",
       "      <td>0.590054</td>\n",
       "      <td>0.590657</td>\n",
       "      <td>0.590543</td>\n",
       "      <td>0.590027</td>\n",
       "      <td>0.590106</td>\n",
       "      <td>0.590380</td>\n",
       "      <td>0.590249</td>\n",
       "      <td>...</td>\n",
       "      <td>1.411312</td>\n",
       "      <td>1.414535</td>\n",
       "      <td>1.417293</td>\n",
       "      <td>1.419362</td>\n",
       "      <td>1.421241</td>\n",
       "      <td>1.423092</td>\n",
       "      <td>1.424101</td>\n",
       "      <td>1.424838</td>\n",
       "      <td>9.562500</td>\n",
       "      <td>41.927608</td>\n",
       "    </tr>\n",
       "    <tr>\n",
       "      <th>max</th>\n",
       "      <td>72.00000</td>\n",
       "      <td>0.726047</td>\n",
       "      <td>0.725450</td>\n",
       "      <td>0.725075</td>\n",
       "      <td>0.725353</td>\n",
       "      <td>0.725137</td>\n",
       "      <td>0.724066</td>\n",
       "      <td>0.723827</td>\n",
       "      <td>0.723877</td>\n",
       "      <td>0.723535</td>\n",
       "      <td>...</td>\n",
       "      <td>1.495987</td>\n",
       "      <td>1.499257</td>\n",
       "      <td>1.501925</td>\n",
       "      <td>1.504354</td>\n",
       "      <td>1.505840</td>\n",
       "      <td>1.507209</td>\n",
       "      <td>1.508215</td>\n",
       "      <td>1.509087</td>\n",
       "      <td>12.080000</td>\n",
       "      <td>45.745860</td>\n",
       "    </tr>\n",
       "  </tbody>\n",
       "</table>\n",
       "<p>8 rows × 1560 columns</p>\n",
       "</div>"
      ],
      "text/plain": [
       "       sample Num      999.9     1000.3     1000.7     1001.1     1001.4  \\\n",
       "count    72.00000  72.000000  72.000000  72.000000  72.000000  72.000000   \n",
       "mean     36.50000   0.553672   0.553252   0.553195   0.553385   0.553181   \n",
       "std      20.92845   0.058118   0.058024   0.058001   0.057977   0.057892   \n",
       "min       1.00000   0.453846   0.453121   0.453382   0.453692   0.453737   \n",
       "25%      18.75000   0.506507   0.506184   0.505822   0.506032   0.506154   \n",
       "50%      36.50000   0.539088   0.538746   0.538902   0.539029   0.538547   \n",
       "75%      54.25000   0.590582   0.589999   0.590054   0.590657   0.590543   \n",
       "max      72.00000   0.726047   0.725450   0.725075   0.725353   0.725137   \n",
       "\n",
       "          1001.8     1002.2     1002.6       1003  ...     2483.5     2485.8  \\\n",
       "count  72.000000  72.000000  72.000000  72.000000  ...  72.000000  72.000000   \n",
       "mean    0.552734   0.552676   0.552743   0.552677  ...   1.355246   1.358534   \n",
       "std     0.057755   0.057687   0.057656   0.057599  ...   0.077153   0.077181   \n",
       "min     0.453246   0.453506   0.453738   0.453617  ...   1.169063   1.172108   \n",
       "25%     0.505824   0.505751   0.505866   0.505862  ...   1.302396   1.305891   \n",
       "50%     0.538157   0.538385   0.538500   0.538432  ...   1.358992   1.362210   \n",
       "75%     0.590027   0.590106   0.590380   0.590249  ...   1.411312   1.414535   \n",
       "max     0.724066   0.723827   0.723877   0.723535  ...   1.495987   1.499257   \n",
       "\n",
       "          2488.2     2490.6       2493     2495.4     2497.8     2500.2  \\\n",
       "count  72.000000  72.000000  72.000000  72.000000  72.000000  72.000000   \n",
       "mean    1.361217   1.363559   1.365416   1.367055   1.368250   1.369333   \n",
       "std     0.077192   0.077227   0.077250   0.077317   0.077330   0.077353   \n",
       "min     1.174711   1.176826   1.178704   1.180210   1.181361   1.182412   \n",
       "25%     1.308618   1.311181   1.313362   1.315192   1.316658   1.318237   \n",
       "50%     1.364917   1.367153   1.368977   1.370487   1.371482   1.372305   \n",
       "75%     1.417293   1.419362   1.421241   1.423092   1.424101   1.424838   \n",
       "max     1.501925   1.504354   1.505840   1.507209   1.508215   1.509087   \n",
       "\n",
       "       Moisture Content (%)  Fat Content (%)  \n",
       "count             72.000000        72.000000  \n",
       "mean               9.036111        40.319422  \n",
       "std                1.276969         2.153408  \n",
       "min                6.740000        35.259180  \n",
       "25%                8.087500        38.551392  \n",
       "50%                8.785000        40.126075  \n",
       "75%                9.562500        41.927608  \n",
       "max               12.080000        45.745860  \n",
       "\n",
       "[8 rows x 1560 columns]"
      ]
     },
     "execution_count": 19,
     "metadata": {},
     "output_type": "execute_result"
    }
   ],
   "source": [
    "df.describe()"
   ]
  },
  {
   "cell_type": "code",
   "execution_count": 20,
   "id": "7c3b8119",
   "metadata": {},
   "outputs": [
    {
     "data": {
      "text/plain": [
       "<seaborn.axisgrid.FacetGrid at 0x1fe8d3b8220>"
      ]
     },
     "execution_count": 20,
     "metadata": {},
     "output_type": "execute_result"
    },
    {
     "data": {
      "image/png": "[encoded data removed]",
      "text/plain": [
       "<Figure size 360x360 with 1 Axes>"
      ]
     },
     "metadata": {
      "needs_background": "light"
     },
     "output_type": "display_data"
    }
   ],
   "source": [
    "import seaborn as sns\n",
    "sns.displot(df['Moisture Content (%)'])"
   ]
  },
  {
   "cell_type": "code",
   "execution_count": 21,
   "id": "299b7701",
   "metadata": {},
   "outputs": [
    {
     "data": {
      "image/png": "[encoded data removed]",
      "text/plain": [
       "<Figure size 576x324 with 1 Axes>"
      ]
     },
     "metadata": {
      "needs_background": "light"
     },
     "output_type": "display_data"
    }
   ],
   "source": [
    "wl = np.arange(0, 1557, 1)\n",
    "plt.figure(figsize=(8, 4.5))\n",
    "with plt.style.context('ggplot'):\n",
    "    plt.plot(df.iloc[:,1:-2].columns.astype('float'), df.iloc[:,1:-2].values.T)\n",
    "    plt.xlabel(\"Wavelengths (nm)\")\n",
    "    plt.ylabel(\"Absorbance\")\n",
    "    plt.show()"
   ]
  },
  {
   "cell_type": "code",
   "execution_count": 22,
   "id": "7e8f0408",
   "metadata": {},
   "outputs": [
    {
     "data": {
      "image/png": "[encoded data removed]",
      "text/plain": [
       "<Figure size 576x324 with 1 Axes>"
      ]
     },
     "metadata": {
      "needs_background": "light"
     },
     "output_type": "display_data"
    }
   ],
   "source": [
    "wl = np.arange(0, 1557, 1)\n",
    "plt.figure(figsize=(8, 4.5))\n",
    "with plt.style.context('ggplot'):\n",
    "    plt.plot(wl, df.iloc[:,1:-2].values.T)\n",
    "    plt.xlabel(\"Wavelengths (nm)\")\n",
    "    plt.ylabel(\"Absorbance\")\n",
    "    plt.show()"
   ]
  },
  {
   "cell_type": "code",
   "execution_count": 23,
   "id": "c0c84a51",
   "metadata": {},
   "outputs": [
    {
     "data": {
      "text/html": [
       "<div>\n",
       "<style scoped>\n",
       "    .dataframe tbody tr th:only-of-type {\n",
       "        vertical-align: middle;\n",
       "    }\n",
       "\n",
       "    .dataframe tbody tr th {\n",
       "        vertical-align: top;\n",
       "    }\n",
       "\n",
       "    .dataframe thead th {\n",
       "        text-align: right;\n",
       "    }\n",
       "</style>\n",
       "<table border=\"1\" class=\"dataframe\">\n",
       "  <thead>\n",
       "    <tr style=\"text-align: right;\">\n",
       "      <th></th>\n",
       "      <th>999.9</th>\n",
       "      <th>1000.3</th>\n",
       "      <th>1000.7</th>\n",
       "      <th>1001.1</th>\n",
       "      <th>1001.4</th>\n",
       "      <th>1001.8</th>\n",
       "      <th>1002.2</th>\n",
       "      <th>1002.6</th>\n",
       "      <th>1003</th>\n",
       "      <th>1003.4</th>\n",
       "      <th>...</th>\n",
       "      <th>2485.8</th>\n",
       "      <th>2488.2</th>\n",
       "      <th>2490.6</th>\n",
       "      <th>2493</th>\n",
       "      <th>2495.4</th>\n",
       "      <th>2497.8</th>\n",
       "      <th>2500.2</th>\n",
       "      <th>Umidade</th>\n",
       "      <th>Oleo</th>\n",
       "      <th>class</th>\n",
       "    </tr>\n",
       "  </thead>\n",
       "  <tbody>\n",
       "    <tr>\n",
       "      <th>0</th>\n",
       "      <td>-0.000092</td>\n",
       "      <td>-0.000129</td>\n",
       "      <td>-0.000063</td>\n",
       "      <td>-0.000132</td>\n",
       "      <td>-0.000179</td>\n",
       "      <td>-0.000103</td>\n",
       "      <td>-0.000062</td>\n",
       "      <td>0.000032</td>\n",
       "      <td>-0.000203</td>\n",
       "      <td>-0.000159</td>\n",
       "      <td>...</td>\n",
       "      <td>0.002967</td>\n",
       "      <td>0.002480</td>\n",
       "      <td>0.002112</td>\n",
       "      <td>0.001658</td>\n",
       "      <td>0.001221</td>\n",
       "      <td>0.000935</td>\n",
       "      <td>0.000825</td>\n",
       "      <td>8.17</td>\n",
       "      <td>39.11000</td>\n",
       "      <td>8</td>\n",
       "    </tr>\n",
       "    <tr>\n",
       "      <th>1</th>\n",
       "      <td>0.000188</td>\n",
       "      <td>0.000063</td>\n",
       "      <td>0.000036</td>\n",
       "      <td>-0.000004</td>\n",
       "      <td>-0.000097</td>\n",
       "      <td>-0.000124</td>\n",
       "      <td>-0.000055</td>\n",
       "      <td>0.000144</td>\n",
       "      <td>-0.000074</td>\n",
       "      <td>-0.000382</td>\n",
       "      <td>...</td>\n",
       "      <td>0.002932</td>\n",
       "      <td>0.002351</td>\n",
       "      <td>0.002075</td>\n",
       "      <td>0.001734</td>\n",
       "      <td>0.001387</td>\n",
       "      <td>0.001106</td>\n",
       "      <td>0.000920</td>\n",
       "      <td>7.52</td>\n",
       "      <td>39.14000</td>\n",
       "      <td>7</td>\n",
       "    </tr>\n",
       "    <tr>\n",
       "      <th>2</th>\n",
       "      <td>-0.000398</td>\n",
       "      <td>-0.000289</td>\n",
       "      <td>0.000099</td>\n",
       "      <td>0.000221</td>\n",
       "      <td>-0.000203</td>\n",
       "      <td>-0.000168</td>\n",
       "      <td>0.000035</td>\n",
       "      <td>-0.000165</td>\n",
       "      <td>-0.000240</td>\n",
       "      <td>-0.000131</td>\n",
       "      <td>...</td>\n",
       "      <td>0.003128</td>\n",
       "      <td>0.002538</td>\n",
       "      <td>0.002085</td>\n",
       "      <td>0.001731</td>\n",
       "      <td>0.001250</td>\n",
       "      <td>0.000793</td>\n",
       "      <td>0.000637</td>\n",
       "      <td>8.52</td>\n",
       "      <td>42.35439</td>\n",
       "      <td>8</td>\n",
       "    </tr>\n",
       "    <tr>\n",
       "      <th>3</th>\n",
       "      <td>-0.000483</td>\n",
       "      <td>-0.000148</td>\n",
       "      <td>0.000045</td>\n",
       "      <td>0.000001</td>\n",
       "      <td>-0.000126</td>\n",
       "      <td>-0.000132</td>\n",
       "      <td>-0.000081</td>\n",
       "      <td>0.000064</td>\n",
       "      <td>-0.000034</td>\n",
       "      <td>-0.000317</td>\n",
       "      <td>...</td>\n",
       "      <td>0.002799</td>\n",
       "      <td>0.002481</td>\n",
       "      <td>0.002189</td>\n",
       "      <td>0.001775</td>\n",
       "      <td>0.001374</td>\n",
       "      <td>0.001057</td>\n",
       "      <td>0.000917</td>\n",
       "      <td>8.65</td>\n",
       "      <td>42.71632</td>\n",
       "      <td>8</td>\n",
       "    </tr>\n",
       "    <tr>\n",
       "      <th>4</th>\n",
       "      <td>-0.000121</td>\n",
       "      <td>0.000078</td>\n",
       "      <td>0.000084</td>\n",
       "      <td>-0.000105</td>\n",
       "      <td>-0.000188</td>\n",
       "      <td>-0.000092</td>\n",
       "      <td>0.000106</td>\n",
       "      <td>0.000009</td>\n",
       "      <td>-0.000228</td>\n",
       "      <td>-0.000167</td>\n",
       "      <td>...</td>\n",
       "      <td>0.003051</td>\n",
       "      <td>0.002491</td>\n",
       "      <td>0.002029</td>\n",
       "      <td>0.001660</td>\n",
       "      <td>0.001228</td>\n",
       "      <td>0.000856</td>\n",
       "      <td>0.000812</td>\n",
       "      <td>7.66</td>\n",
       "      <td>38.57000</td>\n",
       "      <td>7</td>\n",
       "    </tr>\n",
       "    <tr>\n",
       "      <th>...</th>\n",
       "      <td>...</td>\n",
       "      <td>...</td>\n",
       "      <td>...</td>\n",
       "      <td>...</td>\n",
       "      <td>...</td>\n",
       "      <td>...</td>\n",
       "      <td>...</td>\n",
       "      <td>...</td>\n",
       "      <td>...</td>\n",
       "      <td>...</td>\n",
       "      <td>...</td>\n",
       "      <td>...</td>\n",
       "      <td>...</td>\n",
       "      <td>...</td>\n",
       "      <td>...</td>\n",
       "      <td>...</td>\n",
       "      <td>...</td>\n",
       "      <td>...</td>\n",
       "      <td>...</td>\n",
       "      <td>...</td>\n",
       "      <td>...</td>\n",
       "    </tr>\n",
       "    <tr>\n",
       "      <th>67</th>\n",
       "      <td>-0.000411</td>\n",
       "      <td>-0.000133</td>\n",
       "      <td>0.000020</td>\n",
       "      <td>-0.000149</td>\n",
       "      <td>-0.000182</td>\n",
       "      <td>-0.000023</td>\n",
       "      <td>-0.000075</td>\n",
       "      <td>-0.000104</td>\n",
       "      <td>-0.000207</td>\n",
       "      <td>-0.000169</td>\n",
       "      <td>...</td>\n",
       "      <td>0.003082</td>\n",
       "      <td>0.002374</td>\n",
       "      <td>0.002103</td>\n",
       "      <td>0.001799</td>\n",
       "      <td>0.001416</td>\n",
       "      <td>0.001159</td>\n",
       "      <td>0.000920</td>\n",
       "      <td>9.29</td>\n",
       "      <td>36.49000</td>\n",
       "      <td>9</td>\n",
       "    </tr>\n",
       "    <tr>\n",
       "      <th>68</th>\n",
       "      <td>-0.001219</td>\n",
       "      <td>-0.000408</td>\n",
       "      <td>0.000103</td>\n",
       "      <td>-0.000071</td>\n",
       "      <td>-0.000409</td>\n",
       "      <td>-0.000395</td>\n",
       "      <td>-0.000037</td>\n",
       "      <td>0.000170</td>\n",
       "      <td>-0.000288</td>\n",
       "      <td>-0.000543</td>\n",
       "      <td>...</td>\n",
       "      <td>0.002933</td>\n",
       "      <td>0.002474</td>\n",
       "      <td>0.002148</td>\n",
       "      <td>0.001810</td>\n",
       "      <td>0.001491</td>\n",
       "      <td>0.001279</td>\n",
       "      <td>0.001157</td>\n",
       "      <td>8.02</td>\n",
       "      <td>41.30000</td>\n",
       "      <td>8</td>\n",
       "    </tr>\n",
       "    <tr>\n",
       "      <th>69</th>\n",
       "      <td>-0.001329</td>\n",
       "      <td>-0.000663</td>\n",
       "      <td>-0.000093</td>\n",
       "      <td>0.000072</td>\n",
       "      <td>-0.000159</td>\n",
       "      <td>-0.000382</td>\n",
       "      <td>-0.000169</td>\n",
       "      <td>0.000043</td>\n",
       "      <td>-0.000354</td>\n",
       "      <td>-0.000461</td>\n",
       "      <td>...</td>\n",
       "      <td>0.002772</td>\n",
       "      <td>0.002314</td>\n",
       "      <td>0.002154</td>\n",
       "      <td>0.001884</td>\n",
       "      <td>0.001442</td>\n",
       "      <td>0.001155</td>\n",
       "      <td>0.001175</td>\n",
       "      <td>7.70</td>\n",
       "      <td>38.89000</td>\n",
       "      <td>7</td>\n",
       "    </tr>\n",
       "    <tr>\n",
       "      <th>70</th>\n",
       "      <td>-0.000537</td>\n",
       "      <td>-0.000066</td>\n",
       "      <td>0.000156</td>\n",
       "      <td>-0.000002</td>\n",
       "      <td>-0.000252</td>\n",
       "      <td>-0.000370</td>\n",
       "      <td>-0.000132</td>\n",
       "      <td>0.000070</td>\n",
       "      <td>-0.000272</td>\n",
       "      <td>-0.000370</td>\n",
       "      <td>...</td>\n",
       "      <td>0.002639</td>\n",
       "      <td>0.002218</td>\n",
       "      <td>0.001832</td>\n",
       "      <td>0.001564</td>\n",
       "      <td>0.001133</td>\n",
       "      <td>0.000762</td>\n",
       "      <td>0.000700</td>\n",
       "      <td>7.77</td>\n",
       "      <td>39.37000</td>\n",
       "      <td>7</td>\n",
       "    </tr>\n",
       "    <tr>\n",
       "      <th>71</th>\n",
       "      <td>-0.000923</td>\n",
       "      <td>-0.000432</td>\n",
       "      <td>0.000252</td>\n",
       "      <td>0.000290</td>\n",
       "      <td>-0.000341</td>\n",
       "      <td>-0.000280</td>\n",
       "      <td>0.000057</td>\n",
       "      <td>-0.000176</td>\n",
       "      <td>-0.000335</td>\n",
       "      <td>-0.000094</td>\n",
       "      <td>...</td>\n",
       "      <td>0.002747</td>\n",
       "      <td>0.002387</td>\n",
       "      <td>0.002009</td>\n",
       "      <td>0.001666</td>\n",
       "      <td>0.001333</td>\n",
       "      <td>0.001082</td>\n",
       "      <td>0.001010</td>\n",
       "      <td>8.43</td>\n",
       "      <td>40.01092</td>\n",
       "      <td>8</td>\n",
       "    </tr>\n",
       "  </tbody>\n",
       "</table>\n",
       "<p>72 rows × 1560 columns</p>\n",
       "</div>"
      ],
      "text/plain": [
       "       999.9    1000.3    1000.7    1001.1    1001.4    1001.8    1002.2  \\\n",
       "0  -0.000092 -0.000129 -0.000063 -0.000132 -0.000179 -0.000103 -0.000062   \n",
       "1   0.000188  0.000063  0.000036 -0.000004 -0.000097 -0.000124 -0.000055   \n",
       "2  -0.000398 -0.000289  0.000099  0.000221 -0.000203 -0.000168  0.000035   \n",
       "3  -0.000483 -0.000148  0.000045  0.000001 -0.000126 -0.000132 -0.000081   \n",
       "4  -0.000121  0.000078  0.000084 -0.000105 -0.000188 -0.000092  0.000106   \n",
       "..       ...       ...       ...       ...       ...       ...       ...   \n",
       "67 -0.000411 -0.000133  0.000020 -0.000149 -0.000182 -0.000023 -0.000075   \n",
       "68 -0.001219 -0.000408  0.000103 -0.000071 -0.000409 -0.000395 -0.000037   \n",
       "69 -0.001329 -0.000663 -0.000093  0.000072 -0.000159 -0.000382 -0.000169   \n",
       "70 -0.000537 -0.000066  0.000156 -0.000002 -0.000252 -0.000370 -0.000132   \n",
       "71 -0.000923 -0.000432  0.000252  0.000290 -0.000341 -0.000280  0.000057   \n",
       "\n",
       "      1002.6      1003    1003.4  ...    2485.8    2488.2    2490.6      2493  \\\n",
       "0   0.000032 -0.000203 -0.000159  ...  0.002967  0.002480  0.002112  0.001658   \n",
       "1   0.000144 -0.000074 -0.000382  ...  0.002932  0.002351  0.002075  0.001734   \n",
       "2  -0.000165 -0.000240 -0.000131  ...  0.003128  0.002538  0.002085  0.001731   \n",
       "3   0.000064 -0.000034 -0.000317  ...  0.002799  0.002481  0.002189  0.001775   \n",
       "4   0.000009 -0.000228 -0.000167  ...  0.003051  0.002491  0.002029  0.001660   \n",
       "..       ...       ...       ...  ...       ...       ...       ...       ...   \n",
       "67 -0.000104 -0.000207 -0.000169  ...  0.003082  0.002374  0.002103  0.001799   \n",
       "68  0.000170 -0.000288 -0.000543  ...  0.002933  0.002474  0.002148  0.001810   \n",
       "69  0.000043 -0.000354 -0.000461  ...  0.002772  0.002314  0.002154  0.001884   \n",
       "70  0.000070 -0.000272 -0.000370  ...  0.002639  0.002218  0.001832  0.001564   \n",
       "71 -0.000176 -0.000335 -0.000094  ...  0.002747  0.002387  0.002009  0.001666   \n",
       "\n",
       "      2495.4    2497.8    2500.2  Umidade      Oleo  class  \n",
       "0   0.001221  0.000935  0.000825     8.17  39.11000      8  \n",
       "1   0.001387  0.001106  0.000920     7.52  39.14000      7  \n",
       "2   0.001250  0.000793  0.000637     8.52  42.35439      8  \n",
       "3   0.001374  0.001057  0.000917     8.65  42.71632      8  \n",
       "4   0.001228  0.000856  0.000812     7.66  38.57000      7  \n",
       "..       ...       ...       ...      ...       ...    ...  \n",
       "67  0.001416  0.001159  0.000920     9.29  36.49000      9  \n",
       "68  0.001491  0.001279  0.001157     8.02  41.30000      8  \n",
       "69  0.001442  0.001155  0.001175     7.70  38.89000      7  \n",
       "70  0.001133  0.000762  0.000700     7.77  39.37000      7  \n",
       "71  0.001333  0.001082  0.001010     8.43  40.01092      8  \n",
       "\n",
       "[72 rows x 1560 columns]"
      ]
     },
     "execution_count": 23,
     "metadata": {},
     "output_type": "execute_result"
    }
   ],
   "source": [
    "df.iloc[:,1:-2] = savgol_filter(df.values[:,1:-2], 3, polyorder=2, deriv=1)\n",
    "df_pretreat = df.iloc[:, 1:-2]\n",
    "df_pretreat['Umidade'] = df['Moisture Content (%)']\n",
    "df_pretreat['Oleo'] = df['Fat Content (%)']\n",
    "df_pretreat['class'] = df_pretreat['Umidade'].astype(int)\n",
    "\n",
    "for index, row in df_pretreat.iterrows():\n",
    "    if row['class']== 12 or row['class']== 6:\n",
    "        df_pretreat.loc[index, 'class'] = 12\n",
    "\n",
    "df_pretreat"
   ]
  },
  {
   "cell_type": "code",
   "execution_count": 24,
   "id": "955674db",
   "metadata": {},
   "outputs": [
    {
     "data": {
      "image/png": "[encoded data removed]",
      "text/plain": [
       "<Figure size 576x324 with 1 Axes>"
      ]
     },
     "metadata": {
      "needs_background": "light"
     },
     "output_type": "display_data"
    }
   ],
   "source": [
    "wl = np.arange(0, 1557, 1)\n",
    "plt.figure(figsize=(8, 4.5))\n",
    "with plt.style.context('ggplot'):\n",
    "    plt.plot(df.iloc[:,1:-2].columns.astype('float'), df_pretreat.iloc[:,:-3].values.T)\n",
    "    plt.xlabel(\"Wavelengths (nm)\")\n",
    "    plt.ylabel(\"Absorbance\")\n",
    "    plt.show()"
   ]
  },
  {
   "cell_type": "code",
   "execution_count": 25,
   "id": "b97c1a53",
   "metadata": {},
   "outputs": [
    {
     "data": {
      "image/png": "[encoded data removed]",
      "text/plain": [
       "<Figure size 576x324 with 1 Axes>"
      ]
     },
     "metadata": {
      "needs_background": "light"
     },
     "output_type": "display_data"
    }
   ],
   "source": [
    "\n",
    "plt.figure(figsize=(8, 4.5))\n",
    "with plt.style.context('ggplot'):\n",
    "    plt.plot(wl, df_pretreat.iloc[:,:-3].values.T)\n",
    "    plt.xlabel(\"Wavelengths (nm)\")\n",
    "    plt.ylabel(\"Absorbance\")\n",
    "    plt.show()"
   ]
  },
  {
   "cell_type": "code",
   "execution_count": 26,
   "id": "107545c4",
   "metadata": {},
   "outputs": [
    {
     "data": {
      "text/plain": [
       "<seaborn.axisgrid.FacetGrid at 0x1fe8cf60fa0>"
      ]
     },
     "execution_count": 26,
     "metadata": {},
     "output_type": "execute_result"
    },
    {
     "data": {
      "image/png": "[encoded data removed]",
      "text/plain": [
       "<Figure size 360x360 with 1 Axes>"
      ]
     },
     "metadata": {
      "needs_background": "light"
     },
     "output_type": "display_data"
    }
   ],
   "source": [
    "import seaborn as sns\n",
    "sns.displot(df_pretreat['Umidade'])"
   ]
  },
  {
   "cell_type": "code",
   "execution_count": 27,
   "id": "8eea8f5f",
   "metadata": {},
   "outputs": [
    {
     "data": {
      "text/html": [
       "<div>\n",
       "<style scoped>\n",
       "    .dataframe tbody tr th:only-of-type {\n",
       "        vertical-align: middle;\n",
       "    }\n",
       "\n",
       "    .dataframe tbody tr th {\n",
       "        vertical-align: top;\n",
       "    }\n",
       "\n",
       "    .dataframe thead th {\n",
       "        text-align: right;\n",
       "    }\n",
       "</style>\n",
       "<table border=\"1\" class=\"dataframe\">\n",
       "  <thead>\n",
       "    <tr style=\"text-align: right;\">\n",
       "      <th></th>\n",
       "      <th>999.9</th>\n",
       "      <th>1000.3</th>\n",
       "      <th>1000.7</th>\n",
       "      <th>1001.1</th>\n",
       "      <th>1001.4</th>\n",
       "      <th>1001.8</th>\n",
       "      <th>1002.2</th>\n",
       "      <th>1002.6</th>\n",
       "      <th>1003</th>\n",
       "      <th>1003.4</th>\n",
       "      <th>...</th>\n",
       "      <th>2485.8</th>\n",
       "      <th>2488.2</th>\n",
       "      <th>2490.6</th>\n",
       "      <th>2493</th>\n",
       "      <th>2495.4</th>\n",
       "      <th>2497.8</th>\n",
       "      <th>2500.2</th>\n",
       "      <th>Umidade</th>\n",
       "      <th>Oleo</th>\n",
       "      <th>class</th>\n",
       "    </tr>\n",
       "  </thead>\n",
       "  <tbody>\n",
       "    <tr>\n",
       "      <th>10</th>\n",
       "      <td>-0.000283</td>\n",
       "      <td>-0.000596</td>\n",
       "      <td>-0.000302</td>\n",
       "      <td>0.000143</td>\n",
       "      <td>-0.000075</td>\n",
       "      <td>0.000024</td>\n",
       "      <td>0.000271</td>\n",
       "      <td>-0.000083</td>\n",
       "      <td>-0.000378</td>\n",
       "      <td>-0.000140</td>\n",
       "      <td>...</td>\n",
       "      <td>0.003195</td>\n",
       "      <td>0.002645</td>\n",
       "      <td>0.001843</td>\n",
       "      <td>0.001287</td>\n",
       "      <td>0.000883</td>\n",
       "      <td>0.000382</td>\n",
       "      <td>-0.000106</td>\n",
       "      <td>6.74</td>\n",
       "      <td>38.37085</td>\n",
       "      <td>12</td>\n",
       "    </tr>\n",
       "    <tr>\n",
       "      <th>37</th>\n",
       "      <td>-0.001071</td>\n",
       "      <td>-0.000632</td>\n",
       "      <td>-0.000094</td>\n",
       "      <td>-0.000149</td>\n",
       "      <td>-0.000520</td>\n",
       "      <td>-0.000399</td>\n",
       "      <td>-0.000173</td>\n",
       "      <td>-0.000396</td>\n",
       "      <td>-0.000746</td>\n",
       "      <td>-0.000512</td>\n",
       "      <td>...</td>\n",
       "      <td>0.003305</td>\n",
       "      <td>0.002920</td>\n",
       "      <td>0.002281</td>\n",
       "      <td>0.001970</td>\n",
       "      <td>0.001904</td>\n",
       "      <td>0.001725</td>\n",
       "      <td>0.001561</td>\n",
       "      <td>12.08</td>\n",
       "      <td>41.75199</td>\n",
       "      <td>12</td>\n",
       "    </tr>\n",
       "  </tbody>\n",
       "</table>\n",
       "<p>2 rows × 1560 columns</p>\n",
       "</div>"
      ],
      "text/plain": [
       "       999.9    1000.3    1000.7    1001.1    1001.4    1001.8    1002.2  \\\n",
       "10 -0.000283 -0.000596 -0.000302  0.000143 -0.000075  0.000024  0.000271   \n",
       "37 -0.001071 -0.000632 -0.000094 -0.000149 -0.000520 -0.000399 -0.000173   \n",
       "\n",
       "      1002.6      1003    1003.4  ...    2485.8    2488.2    2490.6      2493  \\\n",
       "10 -0.000083 -0.000378 -0.000140  ...  0.003195  0.002645  0.001843  0.001287   \n",
       "37 -0.000396 -0.000746 -0.000512  ...  0.003305  0.002920  0.002281  0.001970   \n",
       "\n",
       "      2495.4    2497.8    2500.2  Umidade      Oleo  class  \n",
       "10  0.000883  0.000382 -0.000106     6.74  38.37085     12  \n",
       "37  0.001904  0.001725  0.001561    12.08  41.75199     12  \n",
       "\n",
       "[2 rows x 1560 columns]"
      ]
     },
     "execution_count": 27,
     "metadata": {},
     "output_type": "execute_result"
    }
   ],
   "source": [
    "df_pretreat[df_pretreat['class']==12]"
   ]
  },
  {
   "cell_type": "code",
   "execution_count": 28,
   "id": "f763897f",
   "metadata": {},
   "outputs": [
    {
     "data": {
      "text/plain": [
       "6"
      ]
     },
     "execution_count": 28,
     "metadata": {},
     "output_type": "execute_result"
    }
   ],
   "source": [
    "df_pretreat['class'].nunique()"
   ]
  },
  {
   "cell_type": "code",
   "execution_count": 12,
   "id": "11cbadd5",
   "metadata": {},
   "outputs": [
    {
     "name": "stdout",
     "output_type": "stream",
     "text": [
      "[0.52831014 0.23143533 0.09730903 0.04082419 0.01670712]\n"
     ]
    }
   ],
   "source": [
    "import numpy as np\n",
    "from sklearn.decomposition import PCA\n",
    "from sklearn.preprocessing import StandardScaler\n",
    "\n",
    "\n",
    "\n",
    "pca = PCA(n_components=5)\n",
    "T = pca.fit_transform(df_pretreat.iloc[:,:-3])\n",
    "df_pca = pd.DataFrame(T)\n",
    "df_pca.rename(columns={0: 'PC1', 1: 'PC2', 2: 'PC3', 3: 'PC4', 4: 'PC5'}, inplace=True)\n",
    "\n",
    "print(pca.explained_variance_ratio_)\n"
   ]
  },
  {
   "cell_type": "code",
   "execution_count": 170,
   "id": "a947ee61",
   "metadata": {},
   "outputs": [
    {
     "data": {
      "text/html": [
       "<div>\n",
       "<style scoped>\n",
       "    .dataframe tbody tr th:only-of-type {\n",
       "        vertical-align: middle;\n",
       "    }\n",
       "\n",
       "    .dataframe tbody tr th {\n",
       "        vertical-align: top;\n",
       "    }\n",
       "\n",
       "    .dataframe thead th {\n",
       "        text-align: right;\n",
       "    }\n",
       "</style>\n",
       "<table border=\"1\" class=\"dataframe\">\n",
       "  <thead>\n",
       "    <tr style=\"text-align: right;\">\n",
       "      <th></th>\n",
       "      <th>PC1</th>\n",
       "      <th>PC2</th>\n",
       "      <th>PC3</th>\n",
       "      <th>PC4</th>\n",
       "      <th>PC5</th>\n",
       "      <th>ID</th>\n",
       "    </tr>\n",
       "  </thead>\n",
       "  <tbody>\n",
       "    <tr>\n",
       "      <th>0</th>\n",
       "      <td>-3.862202</td>\n",
       "      <td>0.177252</td>\n",
       "      <td>0.113721</td>\n",
       "      <td>-0.030735</td>\n",
       "      <td>0.008251</td>\n",
       "      <td>1</td>\n",
       "    </tr>\n",
       "    <tr>\n",
       "      <th>1</th>\n",
       "      <td>-2.829240</td>\n",
       "      <td>-0.060656</td>\n",
       "      <td>-0.047625</td>\n",
       "      <td>-0.038181</td>\n",
       "      <td>-0.033535</td>\n",
       "      <td>2</td>\n",
       "    </tr>\n",
       "    <tr>\n",
       "      <th>2</th>\n",
       "      <td>-1.806598</td>\n",
       "      <td>0.032977</td>\n",
       "      <td>-0.147242</td>\n",
       "      <td>-0.050365</td>\n",
       "      <td>-0.008792</td>\n",
       "      <td>3</td>\n",
       "    </tr>\n",
       "    <tr>\n",
       "      <th>3</th>\n",
       "      <td>-3.532588</td>\n",
       "      <td>-0.075883</td>\n",
       "      <td>0.006264</td>\n",
       "      <td>-0.058364</td>\n",
       "      <td>-0.034904</td>\n",
       "      <td>4</td>\n",
       "    </tr>\n",
       "    <tr>\n",
       "      <th>4</th>\n",
       "      <td>-1.866254</td>\n",
       "      <td>0.163004</td>\n",
       "      <td>-0.094362</td>\n",
       "      <td>-0.071712</td>\n",
       "      <td>0.038916</td>\n",
       "      <td>5</td>\n",
       "    </tr>\n",
       "    <tr>\n",
       "      <th>...</th>\n",
       "      <td>...</td>\n",
       "      <td>...</td>\n",
       "      <td>...</td>\n",
       "      <td>...</td>\n",
       "      <td>...</td>\n",
       "      <td>...</td>\n",
       "    </tr>\n",
       "    <tr>\n",
       "      <th>67</th>\n",
       "      <td>-0.632141</td>\n",
       "      <td>-0.042717</td>\n",
       "      <td>-0.170269</td>\n",
       "      <td>-0.061992</td>\n",
       "      <td>0.051664</td>\n",
       "      <td>68</td>\n",
       "    </tr>\n",
       "    <tr>\n",
       "      <th>68</th>\n",
       "      <td>-0.482429</td>\n",
       "      <td>-0.040927</td>\n",
       "      <td>0.452897</td>\n",
       "      <td>0.104555</td>\n",
       "      <td>-0.118139</td>\n",
       "      <td>69</td>\n",
       "    </tr>\n",
       "    <tr>\n",
       "      <th>69</th>\n",
       "      <td>0.077184</td>\n",
       "      <td>0.071258</td>\n",
       "      <td>0.363242</td>\n",
       "      <td>0.098340</td>\n",
       "      <td>-0.093172</td>\n",
       "      <td>70</td>\n",
       "    </tr>\n",
       "    <tr>\n",
       "      <th>70</th>\n",
       "      <td>-2.888548</td>\n",
       "      <td>-0.458425</td>\n",
       "      <td>-0.252147</td>\n",
       "      <td>0.170125</td>\n",
       "      <td>0.015583</td>\n",
       "      <td>71</td>\n",
       "    </tr>\n",
       "    <tr>\n",
       "      <th>71</th>\n",
       "      <td>-3.368234</td>\n",
       "      <td>-0.409134</td>\n",
       "      <td>-0.060984</td>\n",
       "      <td>0.036619</td>\n",
       "      <td>-0.006850</td>\n",
       "      <td>72</td>\n",
       "    </tr>\n",
       "  </tbody>\n",
       "</table>\n",
       "<p>72 rows × 6 columns</p>\n",
       "</div>"
      ],
      "text/plain": [
       "         PC1       PC2       PC3       PC4       PC5  ID\n",
       "0  -3.862202  0.177252  0.113721 -0.030735  0.008251   1\n",
       "1  -2.829240 -0.060656 -0.047625 -0.038181 -0.033535   2\n",
       "2  -1.806598  0.032977 -0.147242 -0.050365 -0.008792   3\n",
       "3  -3.532588 -0.075883  0.006264 -0.058364 -0.034904   4\n",
       "4  -1.866254  0.163004 -0.094362 -0.071712  0.038916   5\n",
       "..       ...       ...       ...       ...       ...  ..\n",
       "67 -0.632141 -0.042717 -0.170269 -0.061992  0.051664  68\n",
       "68 -0.482429 -0.040927  0.452897  0.104555 -0.118139  69\n",
       "69  0.077184  0.071258  0.363242  0.098340 -0.093172  70\n",
       "70 -2.888548 -0.458425 -0.252147  0.170125  0.015583  71\n",
       "71 -3.368234 -0.409134 -0.060984  0.036619 -0.006850  72\n",
       "\n",
       "[72 rows x 6 columns]"
      ]
     },
     "execution_count": 170,
     "metadata": {},
     "output_type": "execute_result"
    }
   ],
   "source": [
    "#df_pca['PC1'] = df_pca['PC1']*-1\n",
    "df_pca['PC2'] = df_pca['PC2']*-1\n",
    "df_pca['ID'] = df['sample Num']\n",
    "df_pca"
   ]
  },
  {
   "cell_type": "code",
   "execution_count": 171,
   "id": "e0413042",
   "metadata": {},
   "outputs": [
    {
     "data": {
      "application/vnd.plotly.v1+json": {
       "config": {
        "plotlyServerURL": "https://plot.ly"
       },
       "data": [
        {
         "customdata": [
          [
           1
          ],
          [
           2
          ],
          [
           3
          ],
          [
           4
          ],
          [
           5
          ],
          [
           6
          ],
          [
           7
          ],
          [
           8
          ],
          [
           9
          ],
          [
           10
          ],
          [
           11
          ],
          [
           12
          ],
          [
           13
          ],
          [
           14
          ],
          [
           15
          ],
          [
           16
          ],
          [
           17
          ],
          [
           18
          ],
          [
           19
          ],
          [
           20
          ],
          [
           21
          ],
          [
           22
          ],
          [
           23
          ],
          [
           24
          ],
          [
           25
          ],
          [
           26
          ],
          [
           27
          ],
          [
           28
          ],
          [
           29
          ],
          [
           30
          ],
          [
           31
          ],
          [
           32
          ],
          [
           33
          ],
          [
           34
          ],
          [
           35
          ],
          [
           36
          ],
          [
           37
          ],
          [
           38
          ],
          [
           39
          ],
          [
           40
          ],
          [
           41
          ],
          [
           42
          ],
          [
           43
          ],
          [
           44
          ],
          [
           45
          ],
          [
           46
          ],
          [
           47
          ],
          [
           48
          ],
          [
           49
          ],
          [
           50
          ],
          [
           51
          ],
          [
           52
          ],
          [
           53
          ],
          [
           54
          ],
          [
           55
          ],
          [
           56
          ],
          [
           57
          ],
          [
           58
          ],
          [
           59
          ],
          [
           60
          ],
          [
           61
          ],
          [
           62
          ],
          [
           63
          ],
          [
           64
          ],
          [
           65
          ],
          [
           66
          ],
          [
           67
          ],
          [
           68
          ],
          [
           69
          ],
          [
           70
          ],
          [
           71
          ],
          [
           72
          ]
         ],
         "hoverlabel": {
          "namelength": 0
         },
         "hovertemplate": "PC1=%{x}<br>PC2=%{y}<br>ID=%{customdata[0]}",
         "legendgroup": "",
         "marker": {
          "color": "#636efa",
          "symbol": "circle"
         },
         "mode": "markers",
         "name": "",
         "showlegend": false,
         "type": "scatter",
         "x": [
          -3.8622018977846135,
          -2.8292396568594405,
          -1.806598348786325,
          -3.5325878373988435,
          -1.866254361077919,
          -4.633813433411855,
          -1.4131501787514256,
          3.216557832919105,
          -2.934426073995107,
          0.8727873642411398,
          -1.4831705790939866,
          1.450335689958394,
          -1.094067286119985,
          2.974391981768682,
          -1.1259817025217045,
          1.2914787423079217,
          2.680735796775474,
          -0.544801628106113,
          -0.6722197484141872,
          1.5476995746475575,
          -2.8398246217310943,
          0.8628309970380267,
          -2.1534151824284717,
          1.0311037426910168,
          1.7273270538877696,
          -0.8500347995345315,
          1.25256539463898,
          0.6150985269069682,
          0.06781207309083462,
          0.7269088547474805,
          3.651491323380278,
          -2.060428733854512,
          -2.3408009771972407,
          2.830989181056541,
          2.0522757173202395,
          2.712601347308451,
          0.47701988760992237,
          2.736636794180575,
          5.260964687652703,
          -0.5012279813014395,
          -2.9864655061028067,
          3.683435343637245,
          1.0311037426910168,
          1.665065772699308,
          -0.41023127050841796,
          1.0615365397399958,
          1.7240601648321452,
          -0.3958815523138773,
          3.383116075663021,
          1.3364450450130043,
          3.8144060342303714,
          0.1791703253071861,
          -0.6688816726936405,
          -1.7968617256032102,
          -1.1593956252181492,
          -2.7565291248779067,
          -0.6534968756475855,
          -2.934426073995107,
          -0.8195911581976377,
          -0.9687548028109538,
          -0.01707842392074848,
          0.29448167324998187,
          -0.6871893512159374,
          4.230511219407568,
          -0.5688411535320725,
          0.7045534310561099,
          -0.48545932147797427,
          -0.6321413434757625,
          -0.4824293682224961,
          0.07718370565307132,
          -2.8885481179319026,
          -3.368234141193104
         ],
         "xaxis": "x",
         "y": [
          0.1772524396467581,
          -0.06065608482197626,
          0.03297735831859705,
          -0.07588281132195131,
          0.16300378308440605,
          -0.34663238675980906,
          0.28134100520480243,
          0.5625965329829242,
          -0.1412157802964103,
          0.32560707015124823,
          0.3615309813242466,
          0.9530462738023563,
          0.8792892789082308,
          0.6106165358918034,
          0.9679386602866725,
          0.5508060267877889,
          0.14592537905879263,
          0.6786108729591119,
          0.2471903518517362,
          0.2486105895396792,
          -0.4301574379189057,
          -0.19481520289334123,
          -0.15938328966358947,
          -0.64168006773735,
          0.25389674778515997,
          -0.1287751751410957,
          0.8912012415545606,
          0.1701143138751848,
          -0.20350269444775915,
          0.4341630966883227,
          -0.45345895098814915,
          -0.1609277395670328,
          -0.07478476867246533,
          -0.2437439653014808,
          -0.5021728796260723,
          -0.647654833714639,
          -1.1829671447110757,
          -0.4557158361210137,
          -0.6416890617885121,
          -0.03187106619653789,
          -0.9183339082449562,
          -0.9484287227419764,
          -0.64168006773735,
          -0.32140678754116797,
          -0.7728509436411829,
          -0.6077159509914464,
          0.3386399471589946,
          0.35808964854852315,
          0.2818597769338705,
          0.651549083023405,
          0.007217460424343978,
          0.3164262186580149,
          -0.14535617082823304,
          -0.11236568258545972,
          -0.42782137802702486,
          -0.018332577813255223,
          0.25441244948937114,
          -0.1412157802964103,
          -0.16771618763093987,
          0.927258250166396,
          0.829895983851611,
          0.22926987189981,
          -0.1527216211348342,
          -0.17892310146695928,
          0.2353355625735327,
          -0.152890895912289,
          -0.0002816025695700438,
          -0.042716529830220465,
          -0.04092680126940421,
          0.07125768628081719,
          -0.45842469738887287,
          -0.4091338933703512
         ],
         "yaxis": "y"
        }
       ],
       "layout": {
        "height": 600,
        "legend": {
         "tracegroupgap": 0
        },
        "margin": {
         "t": 60
        },
        "template": {
         "data": {
          "bar": [
           {
            "error_x": {
             "color": "#2a3f5f"
            },
            "error_y": {
             "color": "#2a3f5f"
            },
            "marker": {
             "line": {
              "color": "#E5ECF6",
              "width": 0.5
             }
            },
            "type": "bar"
           }
          ],
          "barpolar": [
           {
            "marker": {
             "line": {
              "color": "#E5ECF6",
              "width": 0.5
             }
            },
            "type": "barpolar"
           }
          ],
          "carpet": [
           {
            "aaxis": {
             "endlinecolor": "#2a3f5f",
             "gridcolor": "white",
             "linecolor": "white",
             "minorgridcolor": "white",
             "startlinecolor": "#2a3f5f"
            },
            "baxis": {
             "endlinecolor": "#2a3f5f",
             "gridcolor": "white",
             "linecolor": "white",
             "minorgridcolor": "white",
             "startlinecolor": "#2a3f5f"
            },
            "type": "carpet"
           }
          ],
          "choropleth": [
           {
            "colorbar": {
             "outlinewidth": 0,
             "ticks": ""
            },
            "type": "choropleth"
           }
          ],
          "contour": [
           {
            "colorbar": {
             "outlinewidth": 0,
             "ticks": ""
            },
            "colorscale": [
             [
              0,
              "#0d0887"
             ],
             [
              0.1111111111111111,
              "#46039f"
             ],
             [
              0.2222222222222222,
              "#7201a8"
             ],
             [
              0.3333333333333333,
              "#9c179e"
             ],
             [
              0.4444444444444444,
              "#bd3786"
             ],
             [
              0.5555555555555556,
              "#d8576b"
             ],
             [
              0.6666666666666666,
              "#ed7953"
             ],
             [
              0.7777777777777778,
              "#fb9f3a"
             ],
             [
              0.8888888888888888,
              "#fdca26"
             ],
             [
              1,
              "#f0f921"
             ]
            ],
            "type": "contour"
           }
          ],
          "contourcarpet": [
           {
            "colorbar": {
             "outlinewidth": 0,
             "ticks": ""
            },
            "type": "contourcarpet"
           }
          ],
          "heatmap": [
           {
            "colorbar": {
             "outlinewidth": 0,
             "ticks": ""
            },
            "colorscale": [
             [
              0,
              "#0d0887"
             ],
             [
              0.1111111111111111,
              "#46039f"
             ],
             [
              0.2222222222222222,
              "#7201a8"
             ],
             [
              0.3333333333333333,
              "#9c179e"
             ],
             [
              0.4444444444444444,
              "#bd3786"
             ],
             [
              0.5555555555555556,
              "#d8576b"
             ],
             [
              0.6666666666666666,
              "#ed7953"
             ],
             [
              0.7777777777777778,
              "#fb9f3a"
             ],
             [
              0.8888888888888888,
              "#fdca26"
             ],
             [
              1,
              "#f0f921"
             ]
            ],
            "type": "heatmap"
           }
          ],
          "heatmapgl": [
           {
            "colorbar": {
             "outlinewidth": 0,
             "ticks": ""
            },
            "colorscale": [
             [
              0,
              "#0d0887"
             ],
             [
              0.1111111111111111,
              "#46039f"
             ],
             [
              0.2222222222222222,
              "#7201a8"
             ],
             [
              0.3333333333333333,
              "#9c179e"
             ],
             [
              0.4444444444444444,
              "#bd3786"
             ],
             [
              0.5555555555555556,
              "#d8576b"
             ],
             [
              0.6666666666666666,
              "#ed7953"
             ],
             [
              0.7777777777777778,
              "#fb9f3a"
             ],
             [
              0.8888888888888888,
              "#fdca26"
             ],
             [
              1,
              "#f0f921"
             ]
            ],
            "type": "heatmapgl"
           }
          ],
          "histogram": [
           {
            "marker": {
             "colorbar": {
              "outlinewidth": 0,
              "ticks": ""
             }
            },
            "type": "histogram"
           }
          ],
          "histogram2d": [
           {
            "colorbar": {
             "outlinewidth": 0,
             "ticks": ""
            },
            "colorscale": [
             [
              0,
              "#0d0887"
             ],
             [
              0.1111111111111111,
              "#46039f"
             ],
             [
              0.2222222222222222,
              "#7201a8"
             ],
             [
              0.3333333333333333,
              "#9c179e"
             ],
             [
              0.4444444444444444,
              "#bd3786"
             ],
             [
              0.5555555555555556,
              "#d8576b"
             ],
             [
              0.6666666666666666,
              "#ed7953"
             ],
             [
              0.7777777777777778,
              "#fb9f3a"
             ],
             [
              0.8888888888888888,
              "#fdca26"
             ],
             [
              1,
              "#f0f921"
             ]
            ],
            "type": "histogram2d"
           }
          ],
          "histogram2dcontour": [
           {
            "colorbar": {
             "outlinewidth": 0,
             "ticks": ""
            },
            "colorscale": [
             [
              0,
              "#0d0887"
             ],
             [
              0.1111111111111111,
              "#46039f"
             ],
             [
              0.2222222222222222,
              "#7201a8"
             ],
             [
              0.3333333333333333,
              "#9c179e"
             ],
             [
              0.4444444444444444,
              "#bd3786"
             ],
             [
              0.5555555555555556,
              "#d8576b"
             ],
             [
              0.6666666666666666,
              "#ed7953"
             ],
             [
              0.7777777777777778,
              "#fb9f3a"
             ],
             [
              0.8888888888888888,
              "#fdca26"
             ],
             [
              1,
              "#f0f921"
             ]
            ],
            "type": "histogram2dcontour"
           }
          ],
          "mesh3d": [
           {
            "colorbar": {
             "outlinewidth": 0,
             "ticks": ""
            },
            "type": "mesh3d"
           }
          ],
          "parcoords": [
           {
            "line": {
             "colorbar": {
              "outlinewidth": 0,
              "ticks": ""
             }
            },
            "type": "parcoords"
           }
          ],
          "scatter": [
           {
            "marker": {
             "colorbar": {
              "outlinewidth": 0,
              "ticks": ""
             }
            },
            "type": "scatter"
           }
          ],
          "scatter3d": [
           {
            "line": {
             "colorbar": {
              "outlinewidth": 0,
              "ticks": ""
             }
            },
            "marker": {
             "colorbar": {
              "outlinewidth": 0,
              "ticks": ""
             }
            },
            "type": "scatter3d"
           }
          ],
          "scattercarpet": [
           {
            "marker": {
             "colorbar": {
              "outlinewidth": 0,
              "ticks": ""
             }
            },
            "type": "scattercarpet"
           }
          ],
          "scattergeo": [
           {
            "marker": {
             "colorbar": {
              "outlinewidth": 0,
              "ticks": ""
             }
            },
            "type": "scattergeo"
           }
          ],
          "scattergl": [
           {
            "marker": {
             "colorbar": {
              "outlinewidth": 0,
              "ticks": ""
             }
            },
            "type": "scattergl"
           }
          ],
          "scattermapbox": [
           {
            "marker": {
             "colorbar": {
              "outlinewidth": 0,
              "ticks": ""
             }
            },
            "type": "scattermapbox"
           }
          ],
          "scatterpolar": [
           {
            "marker": {
             "colorbar": {
              "outlinewidth": 0,
              "ticks": ""
             }
            },
            "type": "scatterpolar"
           }
          ],
          "scatterpolargl": [
           {
            "marker": {
             "colorbar": {
              "outlinewidth": 0,
              "ticks": ""
             }
            },
            "type": "scatterpolargl"
           }
          ],
          "scatterternary": [
           {
            "marker": {
             "colorbar": {
              "outlinewidth": 0,
              "ticks": ""
             }
            },
            "type": "scatterternary"
           }
          ],
          "surface": [
           {
            "colorbar": {
             "outlinewidth": 0,
             "ticks": ""
            },
            "colorscale": [
             [
              0,
              "#0d0887"
             ],
             [
              0.1111111111111111,
              "#46039f"
             ],
             [
              0.2222222222222222,
              "#7201a8"
             ],
             [
              0.3333333333333333,
              "#9c179e"
             ],
             [
              0.4444444444444444,
              "#bd3786"
             ],
             [
              0.5555555555555556,
              "#d8576b"
             ],
             [
              0.6666666666666666,
              "#ed7953"
             ],
             [
              0.7777777777777778,
              "#fb9f3a"
             ],
             [
              0.8888888888888888,
              "#fdca26"
             ],
             [
              1,
              "#f0f921"
             ]
            ],
            "type": "surface"
           }
          ],
          "table": [
           {
            "cells": {
             "fill": {
              "color": "#EBF0F8"
             },
             "line": {
              "color": "white"
             }
            },
            "header": {
             "fill": {
              "color": "#C8D4E3"
             },
             "line": {
              "color": "white"
             }
            },
            "type": "table"
           }
          ]
         },
         "layout": {
          "annotationdefaults": {
           "arrowcolor": "#2a3f5f",
           "arrowhead": 0,
           "arrowwidth": 1
          },
          "colorscale": {
           "diverging": [
            [
             0,
             "#8e0152"
            ],
            [
             0.1,
             "#c51b7d"
            ],
            [
             0.2,
             "#de77ae"
            ],
            [
             0.3,
             "#f1b6da"
            ],
            [
             0.4,
             "#fde0ef"
            ],
            [
             0.5,
             "#f7f7f7"
            ],
            [
             0.6,
             "#e6f5d0"
            ],
            [
             0.7,
             "#b8e186"
            ],
            [
             0.8,
             "#7fbc41"
            ],
            [
             0.9,
             "#4d9221"
            ],
            [
             1,
             "#276419"
            ]
           ],
           "sequential": [
            [
             0,
             "#0d0887"
            ],
            [
             0.1111111111111111,
             "#46039f"
            ],
            [
             0.2222222222222222,
             "#7201a8"
            ],
            [
             0.3333333333333333,
             "#9c179e"
            ],
            [
             0.4444444444444444,
             "#bd3786"
            ],
            [
             0.5555555555555556,
             "#d8576b"
            ],
            [
             0.6666666666666666,
             "#ed7953"
            ],
            [
             0.7777777777777778,
             "#fb9f3a"
            ],
            [
             0.8888888888888888,
             "#fdca26"
            ],
            [
             1,
             "#f0f921"
            ]
           ],
           "sequentialminus": [
            [
             0,
             "#0d0887"
            ],
            [
             0.1111111111111111,
             "#46039f"
            ],
            [
             0.2222222222222222,
             "#7201a8"
            ],
            [
             0.3333333333333333,
             "#9c179e"
            ],
            [
             0.4444444444444444,
             "#bd3786"
            ],
            [
             0.5555555555555556,
             "#d8576b"
            ],
            [
             0.6666666666666666,
             "#ed7953"
            ],
            [
             0.7777777777777778,
             "#fb9f3a"
            ],
            [
             0.8888888888888888,
             "#fdca26"
            ],
            [
             1,
             "#f0f921"
            ]
           ]
          },
          "colorway": [
           "#636efa",
           "#EF553B",
           "#00cc96",
           "#ab63fa",
           "#FFA15A",
           "#19d3f3",
           "#FF6692",
           "#B6E880",
           "#FF97FF",
           "#FECB52"
          ],
          "font": {
           "color": "#2a3f5f"
          },
          "geo": {
           "bgcolor": "white",
           "lakecolor": "white",
           "landcolor": "#E5ECF6",
           "showlakes": true,
           "showland": true,
           "subunitcolor": "white"
          },
          "hoverlabel": {
           "align": "left"
          },
          "hovermode": "closest",
          "mapbox": {
           "style": "light"
          },
          "paper_bgcolor": "white",
          "plot_bgcolor": "#E5ECF6",
          "polar": {
           "angularaxis": {
            "gridcolor": "white",
            "linecolor": "white",
            "ticks": ""
           },
           "bgcolor": "#E5ECF6",
           "radialaxis": {
            "gridcolor": "white",
            "linecolor": "white",
            "ticks": ""
           }
          },
          "scene": {
           "xaxis": {
            "backgroundcolor": "#E5ECF6",
            "gridcolor": "white",
            "gridwidth": 2,
            "linecolor": "white",
            "showbackground": true,
            "ticks": "",
            "zerolinecolor": "white"
           },
           "yaxis": {
            "backgroundcolor": "#E5ECF6",
            "gridcolor": "white",
            "gridwidth": 2,
            "linecolor": "white",
            "showbackground": true,
            "ticks": "",
            "zerolinecolor": "white"
           },
           "zaxis": {
            "backgroundcolor": "#E5ECF6",
            "gridcolor": "white",
            "gridwidth": 2,
            "linecolor": "white",
            "showbackground": true,
            "ticks": "",
            "zerolinecolor": "white"
           }
          },
          "shapedefaults": {
           "line": {
            "color": "#2a3f5f"
           }
          },
          "ternary": {
           "aaxis": {
            "gridcolor": "white",
            "linecolor": "white",
            "ticks": ""
           },
           "baxis": {
            "gridcolor": "white",
            "linecolor": "white",
            "ticks": ""
           },
           "bgcolor": "#E5ECF6",
           "caxis": {
            "gridcolor": "white",
            "linecolor": "white",
            "ticks": ""
           }
          },
          "title": {
           "x": 0.05
          },
          "xaxis": {
           "automargin": true,
           "gridcolor": "white",
           "linecolor": "white",
           "ticks": "",
           "zerolinecolor": "white",
           "zerolinewidth": 2
          },
          "yaxis": {
           "automargin": true,
           "gridcolor": "white",
           "linecolor": "white",
           "ticks": "",
           "zerolinecolor": "white",
           "zerolinewidth": 2
          }
         }
        },
        "xaxis": {
         "anchor": "y",
         "domain": [
          0,
          0.98
         ],
         "title": {
          "text": "PC1"
         }
        },
        "yaxis": {
         "anchor": "x",
         "domain": [
          0,
          1
         ],
         "title": {
          "text": "PC2"
         }
        }
       }
      }
     },
     "metadata": {},
     "output_type": "display_data"
    }
   ],
   "source": [
    "import plotly.express as px\n",
    "\n",
    "fig = px.scatter(df_pca, x='PC1', y='PC2', render_mode='svg', hover_data=['ID'])\n",
    "\n",
    "fig.show()"
   ]
  },
  {
   "cell_type": "code",
   "execution_count": 176,
   "id": "fe673cc3",
   "metadata": {},
   "outputs": [
    {
     "name": "stdout",
     "output_type": "stream",
     "text": [
      "[pca] >Column labels are auto-completed.\n",
      "[pca] >Row labels are auto-completed.\n",
      "[pca] >The PCA reduction is performed to capture [95.0%] explained variance using the [1557] columns of the input data.\n",
      "[pca] >Fit using PCA.\n",
      "[pca] >Compute loadings and PCs.\n",
      "[pca] >Compute explained variance.\n",
      "[pca] >Number of components is [2] that covers the [95.00%] explained variance.\n",
      "[pca] >The PCA reduction is performed on the [1557] columns of the input dataframe.\n",
      "[pca] >Fit using PCA.\n",
      "[pca] >Compute loadings and PCs.\n",
      "[pca] >Outlier detection using Hotelling T2 test with alpha=[0.05] and n_components=[2]\n",
      "[pca] >Multiple test correction applied for Hotelling T2 test: [fdr_bh]\n",
      "[pca] >Outlier detection using SPE/DmodX with n_std=[2]\n",
      "[pca] >Plot PC1 vs PC2 with loadings.\n"
     ]
    },
    {
     "name": "stderr",
     "output_type": "stream",
     "text": [
      "                                         \r"
     ]
    },
    {
     "data": {
      "text/plain": [
       "(<Figure size 1080x720 with 1 Axes>,\n",
       " <AxesSubplot:title={'center':'Outliers marked using Hotellings T2 method.'}, xlabel='PC1 (93.4% expl.var)', ylabel='PC2 (4.49% expl.var)'>)"
      ]
     },
     "execution_count": 176,
     "metadata": {},
     "output_type": "execute_result"
    },
    {
     "data": {
      "image/png": "[encoded data removed]",
      "text/plain": [
       "<Figure size 1080x720 with 1 Axes>"
      ]
     },
     "metadata": {
      "needs_background": "light"
     },
     "output_type": "display_data"
    }
   ],
   "source": [
    "# import numpy as np\n",
    "# from sklearn.decomposition import PCA\n",
    "# from sklearn.preprocessing import StandardScaler\n",
    "from pca import pca\n",
    "\n",
    "pca_model = pca(detect_outliers=['ht2', 'spe'],n_std=2.5 )\n",
    "\n",
    "results = pca_model.fit_transform(X)\n",
    "#PCA(n_components=5)\n",
    "# Plot Hotellings T2\n",
    "pca_model.biplot(SPE=True, hotellingt2=True, title='Outliers marked using Hotellings T2 method.', legend=False)"
   ]
  },
  {
   "cell_type": "code",
   "execution_count": 412,
   "id": "3d21e7e6",
   "metadata": {},
   "outputs": [],
   "source": [
    "# df_pretreat = df.iloc[:, 1:-2]\n",
    "# df_pretreat['Umidade'] = df['Moisture Content (%)']\n",
    "# df_pretreat['Oleo'] = df['Fat Content (%)']"
   ]
  },
  {
   "cell_type": "code",
   "execution_count": 423,
   "id": "a322761d",
   "metadata": {},
   "outputs": [],
   "source": [
    "# ###Remove maybe 39 and 42\n",
    "# df_pretreat.drop([39,42], inplace=True)"
   ]
  },
  {
   "cell_type": "code",
   "execution_count": 12,
   "id": "34e4be4b",
   "metadata": {},
   "outputs": [],
   "source": [
    "df_pretreat['class'] = 0\n",
    "for index, row in df_pretreat.iterrows():\n",
    "    if row['Umidade'] < 8:\n",
    "        df_pretreat.loc[index, 'class'] = 0\n",
    "    elif row['Umidade'] < 9:\n",
    "        df_pretreat.loc[index, 'class'] = 1\n",
    "    elif row['Umidade'] < 10:\n",
    "        df_pretreat.loc[index, 'class'] = 2\n",
    "    else:\n",
    "        df_pretreat.loc[index, 'class'] = 3"
   ]
  },
  {
   "cell_type": "code",
   "execution_count": 29,
   "id": "e8e2b137",
   "metadata": {},
   "outputs": [],
   "source": [
    "##Derive\n",
    "\n",
    "from sklearn.preprocessing import StandardScaler\n",
    "from sklearn.model_selection import train_test_split\n",
    "\n",
    "\n",
    "y = df_pretreat[['Umidade','Oleo','class']]\n",
    "## Do not take the reference value and the class\n",
    "X = df_pretreat.values[:, :-3]\n",
    "X_train, X_test, y_train, y_test = train_test_split(X, y, test_size=0.15, random_state=0,stratify=y['class'])\n",
    "\n",
    "\n",
    "col = [0,2,3,4,5,7,10,11,13,14,15,17,20,24,26,29,30,31,35,36,40,41,42,44,48,49,50,58,64,67,70,71,72,73,74,76,78,79,81,82,83,86,87,89,95,99,100,101,108,109,110,111,112,113,114,115,117,118,119,122,124,125,128,129,136,137,139,140,142,143,145,147,148,150,151,153,155,159,164,168,169,170,171,173,176,177,185,186,188,189,191,192,194,197,199,200,202,209,212,214,215,216,218,219,222,227,228,231,232,234,235,236,238,239,242,244,246,248,252,253,255,257,260,261,272,276,277,283,284,285,290,293,295,297,300,303,304,305,306,310,311,314,315,318,320,322,325,326,328,329,331,332,333,334,336,338,346,347,348,349,350,352,353,354,355,357,362,363,364,367,368,374,375,378,381,383,384,385,386,387,389,392,393,395,396,401,402,403,406,409,410,412,417,418,421,428,429,430,432,433,434,435,438,441,443,444,450,453,456,457,459,462,464,465,466,467,469,477,485,488,490,496,497,500,503,504,505,511,514,515,516,520,522,523,530,536,538,539,541,543,544,545,546,562,564,565,566,567,570,571,572,574,575,576,577,578,579,580,582,583,585,586,587,588,589,592,593,594,595,597,598,602,604,609,612,615,622,623,626,627,632,634,637,639,644,645,646,648,649,653,656,657,658,662,663,666,668,669,670,673,677,680,683,684,686,688,690,691,696,699,704,705,707,713,720,721,723,724,725,726,727,729,736,750,752,768,770,772,774,775,778,779,782,783,784,786,787,788,794,798,800,806,809,813,814,824,825,830,831,838,841,843,844,847,849,851,852,856,858,859,861,862,863,864,865,866,877,884,885,886,894,896,897,901,902,906,907,910,916,918,925,932,933,935,939,941,944,946,947,951,953,960,961,970,971,977,981,984,989,992,994,995,997,999,1000,1001,1005,1008,1015,1022,1027,1029,1030,1031,1034,1035,1036,1037,1039,1045,1048,1052,1054,1060,1061,1062,1069,1071,1072,1073,1075,1076,1078,1081,1084,1086,1092,1094,1095,1098,1100,1104,1109,1111,1113,1114,1115,1117,1119,1120,1121,1122,1126,1127,1128,1134,1136,1137,1138,1139,1140,1143,1144,1145,1146,1147,1148,1149,1152,1153,1154,1157,1158,1159,1160,1161,1166,1168,1169,1171,1174,1176,1179,1180,1185,1187,1188,1189,1191,1197,1198,1199,1202,1204,1206,1212,1213,1220,1224,1229,1231,1232,1234,1237,1238,1239,1240,1241,1243,1244,1245,1246,1249,1252,1255,1256,1257,1259,1262,1263,1264,1267,1268,1269,1271,1274,1277,1281,1284,1285,1286,1290,1291,1293,1297,1299,1303,1305,1306,1311,1312,1314,1317,1319,1320,1322,1324,1327,1329,1331,1333,1334,1337,1340,1341,1344,1347,1348,1349,1354,1357,1358,1359,1361,1368,1369,1370,1371,1373,1374,1375,1377,1378,1379,1383,1384,1386,1389,1391,1395,1399,1400,1401,1402,1405,1406,1407,1412,1422,1424,1427,1429,1430,1431,1432,1433,1445,1446,1449,1451,1452,1455,1464,1466,1467,1468,1470,1472,1474,1475,1476,1477,1479,1482,1483,1484,1489,1492,1501,1503,1506,1509,1512,1516,1518,1520,1521,1523,1524,1525,1530,1533,1534,1535,1536,1538,1540,1543,1544,1547,1549,1550,1551,1554,1555]\n",
    "X_train = (np.delete(X_train, col,1))\n",
    "X_test = (np.delete(X_test, col,1))\n",
    "X = (np.delete(X, col,1))\n",
    "col = [6,   7,  14,  15,  18,  23,  25,  26,  27,  28,  29,  32,  34,\n",
    "        36,  41,  44,  45,  46,  47,  52,  56,  59,  60,  61,  62,  63,\n",
    "        67,  68,  69,  70,  72,  73,  74,  76,  80,  81,  83,  85,  87,\n",
    "        91,  93,  95,  96,  98,  99, 100, 102, 103, 105, 106, 109, 111,\n",
    "       115, 117, 120, 125, 126, 129, 130, 131, 132, 133, 136, 137, 142,\n",
    "       143, 144, 145, 147, 150, 151, 152, 153, 157, 162, 164, 167, 168,\n",
    "       170, 180, 181, 182, 183, 185, 189, 190, 191, 193, 194, 195, 197,\n",
    "       200, 201, 202, 203, 207, 208, 210, 217, 219, 222, 228, 229, 231,\n",
    "       233, 234, 235, 239, 244, 247, 252, 256, 260, 262, 263, 270, 271,\n",
    "       273, 274, 281, 282, 284, 287, 289, 294, 295, 296, 299, 305, 308,\n",
    "       312, 322, 325, 327, 332, 334, 335, 336, 342, 343, 345, 346, 350,\n",
    "       352, 353, 361, 372, 376, 380, 387, 390, 394, 398, 400, 402, 406,\n",
    "       407, 408, 410, 411, 413, 414, 421, 422, 423, 424, 425, 426, 427,\n",
    "       428, 429, 431, 435, 436, 438, 441, 442, 444, 445, 453, 454, 455,\n",
    "       456, 460, 461, 465, 467, 469, 472, 475, 477, 479, 480, 482, 484,\n",
    "       489, 490, 493, 494, 498, 499, 500, 502, 509, 511, 513, 516, 517,\n",
    "       518, 521, 523, 524, 527, 529, 533, 535, 536, 542, 544, 546, 551,\n",
    "       552, 554, 555, 556, 557, 558, 561, 562, 564, 567, 568, 573, 576,\n",
    "       580, 581, 584, 586, 589, 590, 591, 593, 594, 597, 598, 600, 601,\n",
    "       602, 607, 608, 610, 611, 613, 614, 615, 616, 619, 621, 623, 624,\n",
    "       626, 628, 629, 630, 632, 633, 635, 637, 644, 647, 650, 653, 657,\n",
    "       662, 669, 670, 671, 674, 675, 679, 680, 682, 684, 685, 690, 691,\n",
    "       693, 697, 698, 700, 704, 706, 707, 708, 709, 710, 715, 720, 721,\n",
    "       724, 726, 729, 734, 735, 736, 738, 740, 742, 743, 744, 745, 747,\n",
    "       748, 749, 750, 751, 752, 755, 758, 760, 763, 767, 770, 771, 772,\n",
    "       775, 779, 784, 786, 788, 790, 795, 801, 802, 805, 806, 807, 808,\n",
    "       810, 811, 813, 816, 819, 820, 821, 822, 823, 824, 827, 833, 834,\n",
    "       837, 838, 840, 842, 843, 848, 850, 855, 858, 860, 861, 863, 864,\n",
    "       865, 866, 872, 873, 874, 880, 882, 883, 885, 887, 889, 892, 897,\n",
    "       899, 900, 901, 902, 903, 904, 906, 907, 908, 909]\n",
    "X_train = (np.delete(X_train, col,1))\n",
    "X_test = (np.delete(X_test, col,1))\n",
    "X = (np.delete(X, col,1))\n",
    "\n",
    "col = [ 0,   1,   6,   7,   9,  16,  17,  18,  20,  22,  23,  27,  28,\n",
    "        31,  32,  37,  39,  42,  43,  48,  50,  51,  52,  53,  56,  58,\n",
    "        60,  67,  69,  70,  71,  75,  77,  79,  84,  89,  90,  91,  93,\n",
    "        96,  98,  99, 101, 102, 103, 104, 108, 110, 113, 114, 119, 121,\n",
    "       122, 124, 126, 127, 131, 132, 133, 136, 138, 142, 143, 148, 151,\n",
    "       153, 154, 159, 162, 165, 166, 167, 169, 171, 172, 174, 175, 176,\n",
    "       177, 178, 185, 186, 187, 190, 193, 197, 200, 202, 203, 208, 214,\n",
    "       215, 218, 219, 224, 226, 228, 232, 233, 234, 236, 237, 239, 242,\n",
    "       248, 249, 250, 252, 255, 258, 263, 266, 268, 269, 271, 272, 275,\n",
    "       279, 283, 284, 286, 289, 291, 292, 295, 296, 297, 300, 302, 303,\n",
    "       304, 305, 308, 310, 313, 315, 316, 322, 325, 328, 329, 331, 332,\n",
    "       333, 337, 339, 341, 342, 344, 347, 350, 352, 354, 356, 362, 363,\n",
    "       364, 368, 369, 375, 376, 378, 381, 384, 389, 390, 394, 395, 396,\n",
    "       398, 399, 402, 403, 407, 408, 410, 413, 418, 420, 421, 422, 423,\n",
    "       426, 428, 430, 432, 433, 437, 438, 439, 440, 441, 443, 444, 448,\n",
    "       449, 450, 451, 452, 454, 455, 460, 463, 468, 470, 471, 474, 476,\n",
    "       478, 479, 480, 482, 483, 485, 486, 488, 489, 490, 492, 493, 494,\n",
    "       498, 500, 502, 503, 510, 511, 513, 514, 518]\n",
    "X_train = (np.delete(X_train, col,1))\n",
    "X_test = (np.delete(X_test, col,1))\n",
    "X = (np.delete(X, col,1))\n",
    "\n",
    "col = [ 1,   3,   8,  12,  13,  15,  18,  20,  22,  24,  25,  26,  28,\n",
    "        31,  35,  37,  38,  39,  40,  41,  42,  46,  48,  49,  53,  54,\n",
    "        60,  61,  62,  64,  68,  69,  71,  72,  73,  75,  80,  85,  88,\n",
    "        96, 104, 108, 111, 113, 114, 116, 118, 120, 123, 127, 132, 133,\n",
    "       134, 138, 141, 143, 144, 149, 151, 152, 154, 155, 160, 162, 164,\n",
    "       165, 169, 173, 180, 182, 186, 187, 194, 196, 197, 202, 203, 207,\n",
    "       208, 209, 211, 212, 213, 214, 215, 218, 224, 227, 228, 230, 232,\n",
    "       233, 235, 237, 242, 245, 246, 248, 250, 252, 260, 261, 267, 268,\n",
    "       270, 271, 272, 274, 276, 279, 282, 288, 290, 292, 294]\n",
    "X_train = (np.delete(X_train, col,1))\n",
    "X_test = (np.delete(X_test, col,1))\n",
    "X = (np.delete(X, col,1))\n",
    "\n",
    "col = [  14,  16,  23,  32,  39,  41,  43,  45,  51,  52,  56,  57,  58,\n",
    "        66,  67,  78,  79,  98, 103, 106, 109, 117, 119, 123, 124, 127,\n",
    "       129, 132, 133, 134, 136, 137, 140, 141, 145, 147, 149, 150, 156,\n",
    "       159, 162, 163, 166, 167, 168, 169, 171]\n",
    "X_train = (np.delete(X_train, col,1))\n",
    "X_test = (np.delete(X_test, col,1))\n",
    "X = (np.delete(X, col,1))\n",
    "\n",
    "col = [  0,   1,   4,   5,   6,  15,  17,  19,  29,  30,  39,  40,  43,\n",
    "        48,  61,  70,  78,  79,  87,  88,  89,  92,  95,  97,  99, 102,\n",
    "       103, 107, 109, 112, 121, 122, 123, 127, 131]\n",
    "X_train = (np.delete(X_train, col,1))\n",
    "X_test = (np.delete(X_test, col,1))\n",
    "X = (np.delete(X, col,1))\n",
    "\n",
    "col = [ 3, 15, 16, 18, 25, 26, 27, 31, 32, 36, 37, 38, 40, 48, 54, 55, 58,\n",
    "       59, 60, 61, 63, 65, 89]\n",
    "X_train = (np.delete(X_train, col,1))\n",
    "X_test = (np.delete(X_test, col,1))\n",
    "X = (np.delete(X, col,1))\n",
    "\n",
    "col = [  4,  5,  7, 10, 19, 23, 32, 33, 36, 40, 43, 45]\n",
    "X_train = (np.delete(X_train, col,1))\n",
    "X_test = (np.delete(X_test, col,1))\n",
    "X = (np.delete(X, col,1))\n",
    "\n",
    "# col = [  16, 31, 34, 39, 40, 60, 61, 62]\n",
    "# X_train = (np.delete(X_train, col,1))\n",
    "# X_test = (np.delete(X_test, col,1))\n",
    "# X = (np.delete(X, col,1))\n",
    "\n",
    "\n",
    "# col = [ 27, 31, 40, 46]\n",
    "# X_train = (np.delete(X_train, col,1))\n",
    "# X_test = (np.delete(X_test, col,1))\n",
    "# X = (np.delete(X, col,1))\n",
    "\n",
    "\n",
    "# col = [ 7, 35, 46, 47, 49]\n",
    "# X_train = (np.delete(X_train, col,1))\n",
    "# X_test = (np.delete(X_test, col,1))\n",
    "# X = (np.delete(X, col,1))\n",
    "\n",
    "# col = [ 41]\n",
    "# X_train = (np.delete(X_train, col,1))\n",
    "# X_test = (np.delete(X_test, col,1))\n",
    "# X = (np.delete(X, col,1))\n",
    "\n",
    "\n",
    "# X_train_snv = msc(X_train)\n",
    "# X_#test_snv = msc(X_test)\n",
    "\n",
    "y_train_oleo = y_train['Umidade']\n",
    "\n",
    "\n",
    "y_test_oleo = y_test['Umidade']\n",
    "\n",
    "#X1 = savgol_filter(X_train, 23, polyorder=2, deriv=2)\n",
    "#X2 = savgol_filter(X_test, 23, polyorder=2, deriv=2)\n",
    "\n",
    "# X_train_snv = msc(X_train)\n",
    "# X_test_snv = msc(X_test)\n",
    "\n",
    "# mean centre correction\n",
    "#X_mc = mc(X1)\n",
    "\n",
    "##Standard Normal Variate\n",
    "\n",
    "# Xsnv = snv(X_train)"
   ]
  },
  {
   "cell_type": "code",
   "execution_count": 17,
   "id": "9901da5c",
   "metadata": {},
   "outputs": [],
   "source": [
    "# ##Derive\n",
    "\n",
    "# from sklearn.preprocessing import StandardScaler\n",
    "# from sklearn.model_selection import train_test_split\n",
    "\n",
    "\n",
    "# y = df_pretreat[['Umidade','Oleo','class']]\n",
    "# ## Do not take the reference value and the class\n",
    "# X = df_pretreat.values[:, :-3]\n",
    "# X_train, X_test, y_train, y_test = train_test_split(X, y, test_size=0.15, random_state=0,stratify=y['class'])\n",
    "\n",
    "\n",
    "# col = [0,2,3,4,5,7,10,11,13,14,15,17,20,24,26,29,30,31,35,36,40,41,42,44,48,49,50,58,64,67,70,71,72,73,74,76,78,79,81,82,83,86,87,89,95,99,100,101,108,109,110,111,112,113,114,115,117,118,119,122,124,125,128,129,136,137,139,140,142,143,145,147,148,150,151,153,155,159,164,168,169,170,171,173,176,177,185,186,188,189,191,192,194,197,199,200,202,209,212,214,215,216,218,219,222,227,228,231,232,234,235,236,238,239,242,244,246,248,252,253,255,257,260,261,272,276,277,283,284,285,290,293,295,297,300,303,304,305,306,310,311,314,315,318,320,322,325,326,328,329,331,332,333,334,336,338,346,347,348,349,350,352,353,354,355,357,362,363,364,367,368,374,375,378,381,383,384,385,386,387,389,392,393,395,396,401,402,403,406,409,410,412,417,418,421,428,429,430,432,433,434,435,438,441,443,444,450,453,456,457,459,462,464,465,466,467,469,477,485,488,490,496,497,500,503,504,505,511,514,515,516,520,522,523,530,536,538,539,541,543,544,545,546,562,564,565,566,567,570,571,572,574,575,576,577,578,579,580,582,583,585,586,587,588,589,592,593,594,595,597,598,602,604,609,612,615,622,623,626,627,632,634,637,639,644,645,646,648,649,653,656,657,658,662,663,666,668,669,670,673,677,680,683,684,686,688,690,691,696,699,704,705,707,713,720,721,723,724,725,726,727,729,736,750,752,768,770,772,774,775,778,779,782,783,784,786,787,788,794,798,800,806,809,813,814,824,825,830,831,838,841,843,844,847,849,851,852,856,858,859,861,862,863,864,865,866,877,884,885,886,894,896,897,901,902,906,907,910,916,918,925,932,933,935,939,941,944,946,947,951,953,960,961,970,971,977,981,984,989,992,994,995,997,999,1000,1001,1005,1008,1015,1022,1027,1029,1030,1031,1034,1035,1036,1037,1039,1045,1048,1052,1054,1060,1061,1062,1069,1071,1072,1073,1075,1076,1078,1081,1084,1086,1092,1094,1095,1098,1100,1104,1109,1111,1113,1114,1115,1117,1119,1120,1121,1122,1126,1127,1128,1134,1136,1137,1138,1139,1140,1143,1144,1145,1146,1147,1148,1149,1152,1153,1154,1157,1158,1159,1160,1161,1166,1168,1169,1171,1174,1176,1179,1180,1185,1187,1188,1189,1191,1197,1198,1199,1202,1204,1206,1212,1213,1220,1224,1229,1231,1232,1234,1237,1238,1239,1240,1241,1243,1244,1245,1246,1249,1252,1255,1256,1257,1259,1262,1263,1264,1267,1268,1269,1271,1274,1277,1281,1284,1285,1286,1290,1291,1293,1297,1299,1303,1305,1306,1311,1312,1314,1317,1319,1320,1322,1324,1327,1329,1331,1333,1334,1337,1340,1341,1344,1347,1348,1349,1354,1357,1358,1359,1361,1368,1369,1370,1371,1373,1374,1375,1377,1378,1379,1383,1384,1386,1389,1391,1395,1399,1400,1401,1402,1405,1406,1407,1412,1422,1424,1427,1429,1430,1431,1432,1433,1445,1446,1449,1451,1452,1455,1464,1466,1467,1468,1470,1472,1474,1475,1476,1477,1479,1482,1483,1484,1489,1492,1501,1503,1506,1509,1512,1516,1518,1520,1521,1523,1524,1525,1530,1533,1534,1535,1536,1538,1540,1543,1544,1547,1549,1550,1551,1554,1555]\n",
    "# X_train = (np.delete(X_train, col,1))\n",
    "# X_test = (np.delete(X_test, col,1))\n",
    "# X = (np.delete(X, col,1))\n",
    "# col = [6,   7,  14,  15,  18,  23,  25,  26,  27,  28,  29,  32,  34,\n",
    "#         36,  41,  44,  45,  46,  47,  52,  56,  59,  60,  61,  62,  63,\n",
    "#         67,  68,  69,  70,  72,  73,  74,  76,  80,  81,  83,  85,  87,\n",
    "#         91,  93,  95,  96,  98,  99, 100, 102, 103, 105, 106, 109, 111,\n",
    "#        115, 117, 120, 125, 126, 129, 130, 131, 132, 133, 136, 137, 142,\n",
    "#        143, 144, 145, 147, 150, 151, 152, 153, 157, 162, 164, 167, 168,\n",
    "#        170, 180, 181, 182, 183, 185, 189, 190, 191, 193, 194, 195, 197,\n",
    "#        200, 201, 202, 203, 207, 208, 210, 217, 219, 222, 228, 229, 231,\n",
    "#        233, 234, 235, 239, 244, 247, 252, 256, 260, 262, 263, 270, 271,\n",
    "#        273, 274, 281, 282, 284, 287, 289, 294, 295, 296, 299, 305, 308,\n",
    "#        312, 322, 325, 327, 332, 334, 335, 336, 342, 343, 345, 346, 350,\n",
    "#        352, 353, 361, 372, 376, 380, 387, 390, 394, 398, 400, 402, 406,\n",
    "#        407, 408, 410, 411, 413, 414, 421, 422, 423, 424, 425, 426, 427,\n",
    "#        428, 429, 431, 435, 436, 438, 441, 442, 444, 445, 453, 454, 455,\n",
    "#        456, 460, 461, 465, 467, 469, 472, 475, 477, 479, 480, 482, 484,\n",
    "#        489, 490, 493, 494, 498, 499, 500, 502, 509, 511, 513, 516, 517,\n",
    "#        518, 521, 523, 524, 527, 529, 533, 535, 536, 542, 544, 546, 551,\n",
    "#        552, 554, 555, 556, 557, 558, 561, 562, 564, 567, 568, 573, 576,\n",
    "#        580, 581, 584, 586, 589, 590, 591, 593, 594, 597, 598, 600, 601,\n",
    "#        602, 607, 608, 610, 611, 613, 614, 615, 616, 619, 621, 623, 624,\n",
    "#        626, 628, 629, 630, 632, 633, 635, 637, 644, 647, 650, 653, 657,\n",
    "#        662, 669, 670, 671, 674, 675, 679, 680, 682, 684, 685, 690, 691,\n",
    "#        693, 697, 698, 700, 704, 706, 707, 708, 709, 710, 715, 720, 721,\n",
    "#        724, 726, 729, 734, 735, 736, 738, 740, 742, 743, 744, 745, 747,\n",
    "#        748, 749, 750, 751, 752, 755, 758, 760, 763, 767, 770, 771, 772,\n",
    "#        775, 779, 784, 786, 788, 790, 795, 801, 802, 805, 806, 807, 808,\n",
    "#        810, 811, 813, 816, 819, 820, 821, 822, 823, 824, 827, 833, 834,\n",
    "#        837, 838, 840, 842, 843, 848, 850, 855, 858, 860, 861, 863, 864,\n",
    "#        865, 866, 872, 873, 874, 880, 882, 883, 885, 887, 889, 892, 897,\n",
    "#        899, 900, 901, 902, 903, 904, 906, 907, 908, 909]\n",
    "# X_train = (np.delete(X_train, col,1))\n",
    "# X_test = (np.delete(X_test, col,1))\n",
    "# X = (np.delete(X, col,1))\n",
    "\n",
    "# col = [ 0,   1,   6,   7,   9,  16,  17,  18,  20,  22,  23,  27,  28,\n",
    "#         31,  32,  37,  39,  42,  43,  48,  50,  51,  52,  53,  56,  58,\n",
    "#         60,  67,  69,  70,  71,  75,  77,  79,  84,  89,  90,  91,  93,\n",
    "#         96,  98,  99, 101, 102, 103, 104, 108, 110, 113, 114, 119, 121,\n",
    "#        122, 124, 126, 127, 131, 132, 133, 136, 138, 142, 143, 148, 151,\n",
    "#        153, 154, 159, 162, 165, 166, 167, 169, 171, 172, 174, 175, 176,\n",
    "#        177, 178, 185, 186, 187, 190, 193, 197, 200, 202, 203, 208, 214,\n",
    "#        215, 218, 219, 224, 226, 228, 232, 233, 234, 236, 237, 239, 242,\n",
    "#        248, 249, 250, 252, 255, 258, 263, 266, 268, 269, 271, 272, 275,\n",
    "#        279, 283, 284, 286, 289, 291, 292, 295, 296, 297, 300, 302, 303,\n",
    "#        304, 305, 308, 310, 313, 315, 316, 322, 325, 328, 329, 331, 332,\n",
    "#        333, 337, 339, 341, 342, 344, 347, 350, 352, 354, 356, 362, 363,\n",
    "#        364, 368, 369, 375, 376, 378, 381, 384, 389, 390, 394, 395, 396,\n",
    "#        398, 399, 402, 403, 407, 408, 410, 413, 418, 420, 421, 422, 423,\n",
    "#        426, 428, 430, 432, 433, 437, 438, 439, 440, 441, 443, 444, 448,\n",
    "#        449, 450, 451, 452, 454, 455, 460, 463, 468, 470, 471, 474, 476,\n",
    "#        478, 479, 480, 482, 483, 485, 486, 488, 489, 490, 492, 493, 494,\n",
    "#        498, 500, 502, 503, 510, 511, 513, 514, 518]\n",
    "# X_train = (np.delete(X_train, col,1))\n",
    "# X_test = (np.delete(X_test, col,1))\n",
    "# X = (np.delete(X, col,1))\n",
    "\n",
    "# col = [ 1,   3,   8,  12,  13,  15,  18,  20,  22,  24,  25,  26,  28,\n",
    "#         31,  35,  37,  38,  39,  40,  41,  42,  46,  48,  49,  53,  54,\n",
    "#         60,  61,  62,  64,  68,  69,  71,  72,  73,  75,  80,  85,  88,\n",
    "#         96, 104, 108, 111, 113, 114, 116, 118, 120, 123, 127, 132, 133,\n",
    "#        134, 138, 141, 143, 144, 149, 151, 152, 154, 155, 160, 162, 164,\n",
    "#        165, 169, 173, 180, 182, 186, 187, 194, 196, 197, 202, 203, 207,\n",
    "#        208, 209, 211, 212, 213, 214, 215, 218, 224, 227, 228, 230, 232,\n",
    "#        233, 235, 237, 242, 245, 246, 248, 250, 252, 260, 261, 267, 268,\n",
    "#        270, 271, 272, 274, 276, 279, 282, 288, 290, 292, 294]\n",
    "# X_train = (np.delete(X_train, col,1))\n",
    "# X_test = (np.delete(X_test, col,1))\n",
    "# X = (np.delete(X, col,1))\n",
    "\n",
    "# col = [  14,  16,  23,  32,  39,  41,  43,  45,  51,  52,  56,  57,  58,\n",
    "#         66,  67,  78,  79,  98, 103, 106, 109, 117, 119, 123, 124, 127,\n",
    "#        129, 132, 133, 134, 136, 137, 140, 141, 145, 147, 149, 150, 156,\n",
    "#        159, 162, 163, 166, 167, 168, 169, 171]\n",
    "# X_train = (np.delete(X_train, col,1))\n",
    "# X_test = (np.delete(X_test, col,1))\n",
    "# X = (np.delete(X, col,1))\n",
    "\n",
    "# col = [  0,   1,   4,   5,   6,  15,  17,  19,  29,  30,  39,  40,  43,\n",
    "#         48,  61,  70,  78,  79,  87,  88,  89,  92,  95,  97,  99, 102,\n",
    "#        103, 107, 109, 112, 121, 122, 123, 127, 131]\n",
    "# X_train = (np.delete(X_train, col,1))\n",
    "# X_test = (np.delete(X_test, col,1))\n",
    "# X = (np.delete(X, col,1))\n",
    "\n",
    "# col = [ 3, 15, 16, 18, 25, 26, 27, 31, 32, 36, 37, 38, 40, 48, 54, 55, 58,\n",
    "#        59, 60, 61, 63, 65, 89]\n",
    "# X_train = (np.delete(X_train, col,1))\n",
    "# X_test = (np.delete(X_test, col,1))\n",
    "# X = (np.delete(X, col,1))\n",
    "\n",
    "# col = [  5,  8, 23, 25, 29, 34, 36, 37, 40, 41, 42, 56, 57, 60, 74]\n",
    "# X_train = (np.delete(X_train, col,1))\n",
    "# X_test = (np.delete(X_test, col,1))\n",
    "# X = (np.delete(X, col,1))\n",
    "\n",
    "\n",
    "\n",
    "\n",
    "# # col = [  0,  2, 17, 40, 45]\n",
    "# # X_train = (np.delete(X_train, col,1))\n",
    "# # X_test = (np.delete(X_test, col,1))\n",
    "# # X = (np.delete(X, col,1))\n",
    "\n",
    "# ####################################################\n",
    "# # col = [ 27, 31, 40, 46]\n",
    "# # X_train = (np.delete(X_train, col,1))\n",
    "# # X_test = (np.delete(X_test, col,1))\n",
    "# # X = (np.delete(X, col,1))\n",
    "\n",
    "\n",
    "# # col = [ 7, 35, 46, 47, 49]\n",
    "# # X_train = (np.delete(X_train, col,1))\n",
    "# # X_test = (np.delete(X_test, col,1))\n",
    "# # X = (np.delete(X, col,1))\n",
    "\n",
    "# # col = [ 41]\n",
    "# # X_train = (np.delete(X_train, col,1))\n",
    "# # X_test = (np.delete(X_test, col,1))\n",
    "# # X = (np.delete(X, col,1))\n",
    "\n",
    "\n",
    "# # X_train_snv = msc(X_train)\n",
    "# # X_#test_snv = msc(X_test)\n",
    "\n",
    "# y_train_oleo = y_train['Umidade']\n",
    "\n",
    "\n",
    "# y_test_oleo = y_test['Umidade']\n",
    "\n",
    "# #X1 = savgol_filter(X_train, 23, polyorder=2, deriv=2)\n",
    "# #X2 = savgol_filter(X_test, 23, polyorder=2, deriv=2)\n",
    "\n",
    "# # X_train_snv = msc(X_train)\n",
    "# # X_test_snv = msc(X_test)\n",
    "\n",
    "# # mean centre correction\n",
    "# #X_mc = mc(X1)\n",
    "\n",
    "# ##Standard Normal Variate\n",
    "\n",
    "# # Xsnv = snv(X_train)"
   ]
  },
  {
   "cell_type": "code",
   "execution_count": 64,
   "id": "4fb32a54",
   "metadata": {},
   "outputs": [],
   "source": [
    "# ##Pour X\n",
    "# X = df_pretreat.values[:, :-3]\n",
    "# # col = [3,8,11,12,15,17,18,20,22,23,24,31,33,37,38,41,42,43,44,49,50,51,54,56,59,65,66,67,68,69,70,73,75,77,83,85,86,87,88,93,94,95,97,98,99,102,108,109,110,115,120,121,125,126,129,131,133,136,138,140,144,145,146,148,150,155,157,159,160,161,165,166,170,171,172,177,178,179,182,186,187,188,190,191,193,195,197,202,203,205,208,209,210,211,212,213,214,217,221,223,224,226,227,229,231,232,236,244,246,248,251,252,254,256,257,260,263,266,267,271,272,277,278,283,284,285,288,289,290,293,296,297,298,301,305,307,308,312,314,317,318,320,322,323,327,332,336,337,338,347,348,349,351,356,360,361,362,363,364,365,366,370,372,374,376,382,383,384,387,388,389,391,392,395,397,402,403,404,405,409,410,411,413,414,415,418,419,420,422,424,425,426,427,428,429,432,433,436,440,441,442,444,445,446,449,452,454,455,457,459,461,462,463,466,468,475,479,481,482,483,487,489,493,495,499,500,504,506,507,510,512,514,518,519,521,525,527,531,534,535,536,539,541,542,543,544,545,546,547,548,554,557,560,561,562,564,565,567,568,569,570,573,574,575,576,577,579,580,581,582,585,586,587,588,591,592,593,594,595,596,597,598,599,601,602,607,608,609,610,611,612,614,616,618,621,622,624,625,626,630,631,632,634,638,639,643,645,648,649,651,655,656,661,662,663,667,668,670,671,676,678,683,686,687,688,690,691,692,693,695,701,704,705,706,707,713,714,715,720,721,723,729,731,733,734,736,738,739,742,743,744,748,749,751,752,754,756,757,758,762,764,766,770,772,773,775,777,780,784,786,793,800,801,802,803,804,805,816,818,819,821,823,827,829,832,833,834,835,836,838,840,842,844,846,850,851,853,854,856,858,860,861,873,874,877,884,886,887,888,890,895,896,897,898,903,904,907,908,909,911,913,914,916,917,918,921,922,923,926,929,930,931,933,937,938,942,943,946,948,949,950,956,957,958,961,962,964,965,966,970,972,975,979,980,981,982,984,987,989,990,991,993,996,997,998,999,1000,1002,1006,1012,1015,1016,1018,1020,1021,1024,1027,1028,1030,1032,1036,1037,1038,1039,1043,1045,1048,1049,1051,1052,1053,1054,1061,1065,1067,1070,1071,1072,1073,1074,1075,1076,1078,1080,1083,1085,1086,1090,1091,1099,1100,1101,1104,1106,1109,1111,1114,1116,1117,1118,1120,1121,1126,1127,1128,1129,1131,1132,1133,1135,1136,1137,1139,1141,1142,1144,1145,1146,1148,1149,1151,1152,1153,1154,1159,1163,1164,1165,1176,1180,1181,1183,1185,1188,1189,1190,1194,1195,1198,1199,1203,1206,1207,1208,1209,1214,1215,1220,1226,1227,1228,1232,1235,1241,1243,1246,1249,1251,1254,1255,1259,1260,1262,1263,1266,1270,1272,1273,1274,1278,1279,1280,1282,1284,1285,1286,1287,1288,1292,1296,1298,1307,1308,1310,1313,1315,1317,1318,1320,1322,1323,1328,1335,1336,1338,1339,1344,1345,1346,1348,1353,1354,1355,1356,1357,1360,1361,1366,1370,1371,1372,1373,1375,1376,1378,1382,1384,1385,1387,1391,1394,1402,1403,1404,1406,1407,1414,1415,1417,1418,1420,1421,1424,1426,1430,1432,1433,1434,1438,1439,1440,1442,1443,1444,1448,1449,1450,1451,1453,1457,1459,1462,1463,1466,1467,1468,1471,1472,1473,1474,1475,1478,1479,1481,1482,1483,1485,1487,1488,1490,1494,1496,1498,1500,1502,1504,1509,1510,1511,1513,1514,1519,1521,1528,1529,1532,1534,1536,1537,1538,1544,1547,1549,1550,1551,1553,1555,1556]\n",
    "# col = [4,6,10,12,19,23,30,32,33,35,36,37,41,42,44,49,52,54,55,63,65,67,70,71,72,74,76,77,80,81,82,85,87,89,93,98,101,108,111,112,115,116,118,120,121,122,123,124,129,131,134,139,147,148,149,150,151,153,155,157,158,159,160,161,163,165,166,168,170,173,176,177,178,179,181,182,187,188,190,191,192,193,196,197,199,203,204,205,207,209,212,222,223,228,229,231,233,235,236,237,239,246,248,249,251,259,263,264,268,270,271,274,279,282,284,287,292,293,295,298,300,301,302,305,310,313,318,322,326,327,331,334,338,339,341,343,348,350,353,354,357,358,359,360,362,365,367,368,371,373,374,375,376,383,384,386,388,389,391,392,393,394,395,396,401,402,403,405,406,410,411,412,414,415,416,417,418,419,420,421,422,424,425,426,428,429,431,432,433,434,435,437,438,439,443,444,445,447,453,454,456,458,461,462,466,471,473,475,478,479,480,481,482,485,488,489,491,492,496,501,507,509,511,512,514,515,519,524,529,530,532,535,538,539,541,542,544,547,548,551,554,555,556,558,561,562,563,564,566,568,569,570,571,574,575,577,578,579,580,581,583,585,586,587,589,590,591,593,595,597,598,599,601,602,603,605,607,608,609,610,613,615,618,619,620,621,622,626,627,630,632,633,635,637,639,644,646,648,652,656,657,658,662,665,667,671,674,675,677,679,681,682,683,685,686,687,688,690,691,692,693,695,696,697,699,702,707,712,713,715,718,719,723,725,726,727,728,733,740,741,743,744,746,750,752,754,757,758,763,765,766,767,768,769,772,773,774,775,776,777,780,781,785,786,789,791,792,793,794,799,800,801,807,808,809,810,811,812,815,816,819,822,823,824,825,827,831,834,835,839,840,844,845,846,848,850,851,852,853,854,861,863,864,865,866,868,870,871,872,873,874,875,877,879,882,884,885,886,887,889,890,891,893,895,897,898,899,903,904,905,906,908,915,917,918,921,923,924,925,927,928,929,933,934,936,940,941,942,944,945,946,947,948,949,951,952,955,956,958,960,962,965,966,970,974,975,976,977,978,979,981,984,988,992,993,996,1000,1002,1003,1004,1007,1012,1014,1016,1017,1018,1021,1022,1024,1026,1028,1030,1032,1036,1038,1041,1042,1044,1048,1050,1053,1056,1057,1060,1062,1063,1066,1067,1068,1070,1073,1077,1080,1083,1084,1085,1087,1088,1089,1090,1091,1093,1095,1096,1098,1099,1105,1106,1108,1109,1110,1111,1113,1114,1115,1121,1122,1123,1124,1125,1126,1129,1131,1132,1133,1134,1137,1138,1141,1142,1144,1145,1149,1150,1152,1155,1158,1159,1163,1164,1169,1170,1172,1174,1178,1180,1181,1182,1183,1186,1188,1191,1193,1194,1195,1201,1202,1206,1208,1210,1215,1217,1219,1223,1226,1227,1229,1230,1232,1234,1240,1241,1242,1247,1249,1258,1262,1263,1265,1268,1269,1270,1274,1275,1276,1277,1278,1280,1283,1284,1287,1289,1291,1294,1295,1296,1297,1299,1300,1301,1304,1308,1311,1315,1317,1319,1323,1324,1326,1332,1338,1339,1340,1343,1344,1345,1346,1347,1351,1353,1354,1355,1357,1363,1364,1366,1367,1368,1371,1381,1382,1383,1385,1386,1389,1391,1396,1397,1402,1405,1406,1408,1409,1410,1415,1416,1417,1419,1420,1427,1429,1431,1432,1435,1436,1437,1438,1442,1443,1444,1445,1447,1448,1449,1450,1452,1454,1457,1459,1462,1463,1465,1466,1467,1470,1471,1472,1476,1478,1480,1486,1488,1490,1491,1494,1497,1499,1500,1501,1507,1508,1509,1511,1514,1516,1518,1522,1525,1527,1528,1533,1534,1541,1542,1545,1546,1548,1550,1553,1556]\n",
    "# X = (np.delete(X, col,1))\n",
    "\n",
    "# col = [0,   1,   4,   6,   9,  14,  15,  16,  18,  25,  26,  27,  30,\n",
    "#         33,  35,  37,  38,  39,  40,  44,  45,  51,  52,  53,  54,  58,\n",
    "#         72,  73,  75,  76,  77,  78,  79,  82,  83,  85,  86,  88,  90,\n",
    "#         91,  92,  93,  94,  99, 102, 108, 109, 110, 112, 113, 114, 115,\n",
    "#        116, 117, 118, 119, 122, 125, 128, 129, 131, 133, 135, 143, 144,\n",
    "#        145, 147, 148, 150, 151, 152, 159, 161, 163, 164, 165, 173, 176,\n",
    "#        179, 180, 183, 184, 185, 189, 190, 193, 197, 199, 200, 204, 205,\n",
    "#        208, 209, 210, 212, 213, 216, 217, 219, 220, 221, 223, 226, 227,\n",
    "#        228, 231, 232, 236, 239, 242, 243, 256, 257, 259, 266, 268, 273,\n",
    "#        277, 282, 287, 288, 296, 300, 301, 303, 304, 308, 317, 318, 319,\n",
    "#        324, 327, 332, 333, 336, 338, 340, 341, 342, 344, 349, 350, 351,\n",
    "#        354, 360, 361, 363, 366, 367, 374, 375, 377, 378, 379, 380, 383,\n",
    "#        385, 387, 388, 390, 391, 393, 400, 402, 406, 408, 409, 411, 412,\n",
    "#        413, 414, 418, 420, 421, 422, 425, 427, 430, 431, 432, 433, 434,\n",
    "#        435, 439, 441, 443, 446, 447, 449, 450, 452, 454, 457, 458, 463,\n",
    "#        467, 473, 474, 475, 477, 479, 483, 484, 486, 488, 490, 493, 495,\n",
    "#        496, 497, 498, 501, 504, 506, 509, 510, 511, 515, 516, 524, 526,\n",
    "#        527, 528, 529, 530, 532, 534, 535, 541, 544, 545, 553, 554, 555,\n",
    "#        563, 566, 571, 572, 578, 580, 582, 586, 587, 588, 589, 590, 591,\n",
    "#        592, 595, 596, 597, 599, 600, 601, 603, 605, 607, 608, 615, 616,\n",
    "#        618, 620, 622, 626, 629, 630, 631, 642, 643, 644, 648, 649, 650,\n",
    "#        653, 654, 655, 657, 660, 662, 663, 664, 668, 669, 671, 672, 675,\n",
    "#        677, 679, 681, 682, 684, 686, 688, 689, 690, 691, 695, 696, 697,\n",
    "#        699, 700, 702, 703, 704, 705, 706, 712, 713, 715, 716, 723, 724,\n",
    "#        726, 727, 730, 731, 732, 736, 737, 738, 739, 740, 746, 748, 752,\n",
    "#        756, 759, 761, 765, 766, 767, 772, 773, 775, 776, 778, 781, 785,\n",
    "#        786, 791, 792, 794, 796, 798, 801, 804, 807, 817, 818, 821, 824,\n",
    "#        826]\n",
    "# X = (np.delete(X, col,1))\n",
    "\n",
    "# col = [ 1,   3,   7,   8,   9,  14,  16,  17,  20,  23,  27,  28,  29,\n",
    "#         30,  31,  32,  36,  38,  39,  41,  48,  51,  54,  56,  58,  59,\n",
    "#         60,  61,  63,  64,  67,  71,  72,  73,  75,  76,  78,  81,  82,\n",
    "#         84,  87,  89,  90,  93,  94,  96,  97,  98,  99, 101, 105, 109,\n",
    "#        111, 112, 115, 117, 118, 119, 121, 122, 124, 126, 131, 133, 136,\n",
    "#        137, 139, 140, 144, 146, 149, 150, 152, 153, 159, 162, 166, 167,\n",
    "#        168, 171, 173, 182, 183, 184, 187, 188, 189, 190, 192, 195, 197,\n",
    "#        198, 200, 208, 211, 212, 213, 214, 215, 217, 220, 221, 223, 230,\n",
    "#        237, 238, 239, 240, 242, 247, 249, 251, 255, 256, 258, 263, 264,\n",
    "#        267, 269, 272, 273, 278, 281, 282, 284, 286, 289, 291, 294, 295,\n",
    "#        297, 299, 300, 301, 303, 306, 307, 308, 309, 310, 312, 316, 320,\n",
    "#        322, 324, 325, 326, 328, 333, 334, 335, 339, 341, 342, 343, 347,\n",
    "#        349, 350, 351, 353, 356, 361, 363, 368, 371, 376, 379, 380, 382,\n",
    "#        391, 394, 395, 402, 403, 406, 407, 411, 412, 413, 414, 415, 416,\n",
    "#        423, 424, 426, 427, 428, 429, 430, 431, 433, 435, 438, 439, 440,\n",
    "#        442, 445, 449, 453, 456, 457, 458, 459, 466, 470, 471, 472]\n",
    "# X = (np.delete(X, col,1))\n",
    "# col = [1,   3,   4,   6,   8,  11,  14,  15,  18,  19,  21,  23,  25,\n",
    "#         26,  28,  32,  35,  40,  44,  46,  47,  48,  51,  56,  57,  59,\n",
    "#         62,  63,  64,  65,  69,  72,  77,  85,  86,  90,  94,  96,  99,\n",
    "#        100, 101, 102, 105, 107, 108, 115, 117, 119, 120, 123, 126, 127,\n",
    "#        129, 130, 131, 132, 134, 143, 145, 149, 152, 155, 158, 162, 165,\n",
    "#        172, 174, 178, 179, 180, 183, 186, 195, 197, 200, 201, 205, 206,\n",
    "#        207, 210, 214, 215, 217, 221, 223, 225, 226, 227, 228, 229, 233,\n",
    "#        234, 235, 236, 240, 242, 243, 244, 245, 248, 254, 255, 256, 260,\n",
    "#        264, 265, 267]\n",
    "# X = (np.delete(X, col,1))\n",
    "\n",
    "\n",
    "\n",
    "# col = [1,   5,   8,   9,  10,  15,  18,  25,  28,  29,  35,  39,  41,\n",
    "#         43,  44,  51,  53,  54,  57,  61,  62,  63,  64,  74,  77,  80,\n",
    "#         81,  94,  98,  99, 100, 102, 103, 107, 109, 111, 117, 119, 124,\n",
    "#        127, 128, 130, 142, 152, 155, 157, 159]\n",
    "# X = (np.delete(X, col,1))\n",
    "# # col = [7,  14,  19,  23,  24,  40,  41,  46,  47,  48,  49,  52,  56,\n",
    "# #         69,  72,  74,  79,  82,  91,  92,  97, 102, 104, 110]\n",
    "# # X = (np.delete(X, col,1))\n"
   ]
  },
  {
   "cell_type": "code",
   "execution_count": 58,
   "id": "cc236ea7",
   "metadata": {},
   "outputs": [
    {
     "name": "stderr",
     "output_type": "stream",
     "text": [
      "2023-04-30 22:30:31,802 - pyswarms.discrete.binary - INFO - Optimize for 100 iters with {'c1': 2, 'c2': 2, 'w': 0.9, 'k': 20, 'p': 2}\n",
      "pyswarms.discrete.binary: 100%|██████████|100/100, best_cost=0.202\n",
      "2023-04-30 22:45:14,437 - pyswarms.discrete.binary - INFO - Optimization finished | best cost: 0.20249051946141425, best pos: [1 1 1 1 1 1 0 0 1 1 1 1 1 1 0 0 1 1 0 1 1 1 1 0 1 0 0 0 0 0 1 1 0 1 0 1 0\n",
      " 1 1 1 1 0 1 1 0 0 0 0 1 1 1 1 0 1 1 1 0 1 1 0 0 0 0 0 1 1 1 0 0 0 0 1 0 0\n",
      " 0 1 0 1 1 1 0 0 1 0 1 0 1 0 1 1 1 0 1 0 1 0 0 1 0 0 0 1 0 0 1 0 0 1 1 0 1\n",
      " 0 1 1 1 0 1 0 1 1 0 1 1 1 1 0 0 1 1 0 0 0 0 0 1 1 0 0 1 1 1 1 0 0 0 0 1 0\n",
      " 1 1 0 0 0 0 1 1 1 0 1 1 1 1 0 1 0 1 1 0 0 1 0 1 1 1 1 1 1 1 1 1 0 0 0 0 1\n",
      " 0 1 1 1 0 0 0 1 0 0 0 1 0 1 1 0 0 0 0 1 1 1 0 0 1 0 1 1 1 1 1 1 0 1 0 1 1\n",
      " 0 1 1 1 1 1 0 0 1 0 1 0 0 0 1 1 1 0 1 1 1 1 0 1 1 0 1 1 1 1 0 1 1 1 0 1 1\n",
      " 1 0 1 0 0 1 1 1 1 1 1 0 0 1 0 0 1 1 1 1 1 1 0 0 1 0 1 1 0 1 0 1 1 1 1 0 0\n",
      " 0 1 1 0 1 1 1 1 1 0 1 1 0 1 1 1 0 1 1 1 1 1 1 1 1 1 0 1 1 0 1 0 1 1 1 1 0\n",
      " 1 0 0 0 1 1 1 1 1 0 0 1 0 0 1 1 1 0 1 0 0 1 1 1 1 1 1 1 0 1 1 1 1 1 1 1 1\n",
      " 1 1 0 1 1 1 0 1 1 1 0 1 1 1 1 1 1 0 1 1 0 1 1 1 0 1 1 1 0 1 0 1 0 1 1 1 0\n",
      " 0 0 1 0 0 1 0 0 1 1 1 1 1 1 0 0 0 0 0 0 0 0 0 1 0 1 1 1 0 0 1 0 1 1 0 0 1\n",
      " 0 0 1 1 1 1 1 1 1 0 0 0 0 1 1 1 0 0 1 1 1 0 1 0 1 0 1 1 0 1 1 0 1 0 1 0 0\n",
      " 1 0 1 0 1 1 1 1 0 0 1 1 0 0 1 1 1 0 0 0 1 0 1 1 1 1 1 1 0 1 0 1 0 1 1 0 0\n",
      " 0 1 1 0 1 0 0 1 1 0 1 0 1 1 1 0 1 0 0 1 1 1 1 1 0 1 0 1 0 1 1 1 1 0 0 1 0\n",
      " 0 0 0 0 1 1 0 0 1 0 1 1 0 0 1 1 1 1 0 1 1 0 1 1 1 0 0 1 1 0 1 0 1 1 0 0 0\n",
      " 1 0 0 1 1 0 0 1 0 0 0 1 1 1 1 0 0 1 0 0 1 0 0 0 0 1 1 0 1 0 1 0 0 1 0 1 0\n",
      " 0 0 1 0 0 1 0 1 0 1 1 1 1 1 1 0 1 1 0 1 1 0 1 1 0 1 1 1 0 1 1 1 1 0 1 1 1\n",
      " 1 1 1 0 0 0 1 1 0 0 1 1 1 0 0 1 0 1 0 0 1 1 1 1 0 0 1 0 1 1 1 0 0 1 0 1 1\n",
      " 1 0 1 0 0 0 0 0 1 1 1 1 0 1 1 1 1 0 0 1 1 0 1 0 1 1 0 1 1 1 1 0 0 0 1 0 1\n",
      " 0 1 0 0 0 0 1 0 0 0 0 0 0 1 1 0 1 1 0 1 0 1 1 0 1 1 1 0 1 1 0 0 0 1 1 0 1\n",
      " 1 1 0 1 1 1 1 0 1 0 1 0 1 0 1 1 1 1 0 1 1 1 1 1 0 0 1 1 0 0 0 0 1 0 0 1 0\n",
      " 1 1 0 1 1 0 0 0 0 0 0 1 1 0 1 1 1 1 1 0 0 1 1 0 0 1 0 1 0 0 1 1 1 1 0 1 0\n",
      " 1 1 1 1 0 1 1 0 1 0 0 1 0 0 0 0 1 1 1 1 1 0 0 0 1 1 1 1 1 0 1 0 0 1 0 1 0\n",
      " 1 0 1 1 0 1 1 1 1 0 1 0 0 0 0 0 0 1 0 0 0 0 1 1]\n"
     ]
    }
   ],
   "source": [
    "# Import PySwarms\n",
    "import pyswarms as ps\n",
    "\n",
    "# Initialize swarm, arbitrary\n",
    "options = {'c1': 2, 'c2': 2, 'w':0.9, 'k': 20, 'p':2}\n",
    "\n",
    "# Call instance of PSO\n",
    "dimensions = X_train.shape[1] # dimensions should be the number of features\n",
    "\n",
    "optimizer = ps.discrete.BinaryPSO(n_particles=20, dimensions=dimensions, options=options)\n",
    "\n",
    "# Perform optimization\n",
    "cost, pos = optimizer.optimize(f, iters=100, verbose=2)\n",
    "optimizer.reset()"
   ]
  },
  {
   "cell_type": "code",
   "execution_count": 27,
   "id": "361f8e21",
   "metadata": {},
   "outputs": [
    {
     "name": "stderr",
     "output_type": "stream",
     "text": [
      "2023-05-03 10:23:34,569 - pyswarms.discrete.binary - INFO - Optimize for 100 iters with {'c1': 2, 'c2': 2, 'w': 0.9, 'k': 20, 'p': 2}\n",
      "pyswarms.discrete.binary: 100%|██████████|100/100, best_cost=0.0964\n",
      "2023-05-03 10:36:07,050 - pyswarms.discrete.binary - INFO - Optimization finished | best cost: 0.09640536532965739, best pos: [0 1 0 1 1 1 1 1 1 1 1 1 1 1 1 1 1 0 1 1 1 1 1 1 1 1 1 1 1 1 1 1 1 1 1 1 1\n",
      " 1 1 1 0 1 1 1 1 0 1 1 1 1 1 1 1 1 1 1 1 1 1 1]\n"
     ]
    }
   ],
   "source": [
    "# Import PySwarms\n",
    "import pyswarms as ps\n",
    "\n",
    "# Initialize swarm, arbitrary\n",
    "options = {'c1': 2, 'c2': 2, 'w':0.9, 'k': 20, 'p':2}\n",
    "\n",
    "# Call instance of PSO\n",
    "dimensions = X_train.shape[1] # dimensions should be the number of features\n",
    "\n",
    "optimizer = ps.discrete.BinaryPSO(n_particles=20, dimensions=dimensions, options=options)\n",
    "\n",
    "# Perform optimization\n",
    "cost, pos = optimizer.optimize(f, iters=100, verbose=2)\n",
    "optimizer.reset()"
   ]
  },
  {
   "cell_type": "code",
   "execution_count": 28,
   "id": "a84219fb",
   "metadata": {},
   "outputs": [
    {
     "data": {
      "text/plain": [
       "array([ 0,  2, 17, 40, 45], dtype=int64)"
      ]
     },
     "execution_count": 28,
     "metadata": {},
     "output_type": "execute_result"
    }
   ],
   "source": [
    "np.where(pos == 0)[0]"
   ]
  },
  {
   "cell_type": "code",
   "execution_count": 37,
   "id": "05173b9f",
   "metadata": {},
   "outputs": [
    {
     "name": "stdout",
     "output_type": "stream",
     "text": [
      "(61, 60)\n",
      "(11, 60)\n"
     ]
    }
   ],
   "source": [
    "print(X_train.shape)\n",
    "print(X_test.shape)"
   ]
  },
  {
   "cell_type": "code",
   "execution_count": 54,
   "id": "5c356a2d",
   "metadata": {},
   "outputs": [],
   "source": [
    "with open(\"Col_to_delete_2023-04-30_Cacao_moisture_X_train_test.txt\", \"w\") as txt_file:\n",
    "    for line in np.where(pos == 0)[0]:\n",
    "        txt_file.write(str(line)+',')"
   ]
  },
  {
   "cell_type": "code",
   "execution_count": 541,
   "id": "503d14cf",
   "metadata": {},
   "outputs": [
    {
     "data": {
      "text/plain": [
       "190"
      ]
     },
     "execution_count": 541,
     "metadata": {},
     "output_type": "execute_result"
    }
   ],
   "source": [
    "len(np.where(pos == 0)[0])"
   ]
  },
  {
   "cell_type": "code",
   "execution_count": 30,
   "id": "08ffd85c",
   "metadata": {},
   "outputs": [
    {
     "name": "stdout",
     "output_type": "stream",
     "text": [
      "N comp:  4\n",
      "N Wave:  (61, 63)\n",
      "R2CV:  0.8984455119946324\n",
      "RMSECV:  0.41393751459307876\n",
      "RMSE test:  0.27773933957251773\n",
      "Pour comparaison\n",
      "R2:  0.9385133344457575\n",
      "RMSE:  0.3144370415489428\n"
     ]
    }
   ],
   "source": [
    "ls_score_pls = []\n",
    "n_opt = 8\n",
    "for i in range(3,9):\n",
    "    pls_simple = PLSRegression(n_components=i)\n",
    "    cv = LeaveOneOut()\n",
    "    #cv = 10\n",
    "\n",
    "    X1 = X_train \n",
    "    #X1 = X_train[:,pos==1] \n",
    "\n",
    "    X2 = X_test\n",
    "    #X2 = X_test[:,pos==1] \n",
    "\n",
    "\n",
    "    # Fit\n",
    "    pls_simple.fit(X1, y_train_oleo)\n",
    "\n",
    "\n",
    "    # Cross-validation\n",
    "    y_cv = cross_val_predict(pls_simple,X1, y_train_oleo, cv=cv)\n",
    "    y_pred = pls_simple.predict(X2)\n",
    "    score = r2_score(y_train_oleo, y_cv)\n",
    "    if ls_score_pls:\n",
    "        if score< ls_score_pls[-1] and i>4:\n",
    "            n_opt =  i-1\n",
    "            break\n",
    "\n",
    "    ls_score_pls.append(score)\n",
    "\n",
    "pls_simple = PLSRegression(n_components=n_opt)\n",
    "cv = LeaveOneOut()\n",
    "# cv = 10\n",
    "\n",
    "X1 = X_train \n",
    "#X1 = X_train[:,pos==1] \n",
    "\n",
    "X2 = X_test\n",
    "#X2 = X_test[:,pos==1] \n",
    "\n",
    "\n",
    "# Fit\n",
    "pls_simple.fit(X1, y_train_oleo)\n",
    "\n",
    "\n",
    "# Cross-validation\n",
    "y_cv = cross_val_predict(pls_simple,X1, y_train_oleo, cv=cv)\n",
    "y_pred = pls_simple.predict(X2)\n",
    "y_pred_tot = pls_simple.predict(X)\n",
    "# Calculate scores\n",
    "score = r2_score(y_train_oleo, y_cv)\n",
    "score_train = mean_squared_error(y_train_oleo, y_cv,squared=False)\n",
    "score_test = mean_squared_error(y_test_oleo, y_pred,squared=False)\n",
    "\n",
    "score_tot = r2_score(y['Umidade'], y_pred_tot)\n",
    "score_rmse_tot = mean_squared_error(y['Umidade'], y_pred_tot,squared=False)\n",
    "\n",
    "print('N comp: ', n_opt)\n",
    "print('N Wave: ', X_train.shape)\n",
    "print('R2CV: ', score)\n",
    "print('RMSECV: ', score_train)\n",
    "print('RMSE test: ', score_test)\n",
    "\n",
    "\n",
    "print('Pour comparaison')\n",
    "print('R2: ', score_tot)\n",
    "print('RMSE: ', score_rmse_tot)"
   ]
  },
  {
   "attachments": {},
   "cell_type": "markdown",
   "id": "52fbf0e8",
   "metadata": {},
   "source": [
    "1e boucle\n",
    "\n",
    "N comp:  4\n",
    "N Wave:  (61, 836)\n",
    "R2CV:  0.7906058115482567\n",
    "RMSECV:  0.576249106465785\n",
    "RMSE test:  0.5305974577652899\n",
    "Pour comparaison\n",
    "R2:  0.8877274973808938\n",
    "RMSE:  0.42489334834939185\n",
    "\n",
    "N comp:  4\n",
    "N Wave:  (61, 456)\n",
    "R2CV:  0.8294502716234955\n",
    "RMSECV:  0.5200600207662146\n",
    "RMSE test:  0.5438633002139039\n",
    "Pour comparaison\n",
    "R2:  0.9010839620219706\n",
    "RMSE:  0.39881968571884463\n",
    "\n",
    "N comp:  4\n",
    "N Wave:  (61, 246)\n",
    "R2CV:  0.861924580583099\n",
    "RMSECV:  0.4679356554178945\n",
    "RMSE test:  0.5193840364593323\n",
    "Pour comparaison\n",
    "R2:  0.9127351761338441\n",
    "RMSE:  0.37459574402910234\n",
    "\n",
    "N comp:  4\n",
    "N Wave:  (61, 153)\n",
    "R2CV:  0.8824268478129647\n",
    "RMSECV:  0.43179939941177187\n",
    "RMSE test:  0.4532293929329008\n",
    "Pour comparaison\n",
    "R2:  0.9265345697414049\n",
    "RMSE:  0.3437041245437688\n",
    "\n",
    "N comp:  5\n",
    "N Wave:  (61, 116)\n",
    "R2CV:  0.8890046074122238\n",
    "RMSECV:  0.419546815270901\n",
    "RMSE test:  0.4791714267605138\n",
    "Pour comparaison\n",
    "R2:  0.935980841894937\n",
    "RMSE:  0.3208471677106381\n",
    "\n",
    "N comp:  4\n",
    "N Wave:  (61, 86)\n",
    "R2CV:  0.8953172233590015\n",
    "RMSECV:  0.40744178864411046\n",
    "RMSE test:  0.44418814383141164\n",
    "Pour comparaison\n",
    "R2:  0.9322304501750885\n",
    "RMSE:  0.33011140649952736\n",
    "\n",
    "N comp:  4\n",
    "N Wave:  (61, 70)\n",
    "R2CV:  0.9000113839773427\n",
    "RMSECV:  0.39820181164955515\n",
    "RMSE test:  0.40711334940434507\n",
    "Pour comparaison\n",
    "R2:  0.9391580557510238\n",
    "RMSE:  0.3127841751819344\n",
    "\n",
    "N comp:  4\n",
    "N Wave:  (61, 62)\n",
    "R2CV:  0.8937260161306835\n",
    "RMSECV:  0.4105267239642302\n",
    "RMSE test:  0.38532324094524906\n",
    "Pour comparaison\n",
    "R2:  0.9379214154991387\n",
    "RMSE:  0.3159469254125917\n",
    "\n",
    "\n",
    "\n",
    "Derive + Integer\n",
    "\n",
    "1e boucle\n",
    "N comp:  5\n",
    "N Wave:  (61, 912)\n",
    "R2CV:  0.7612154659114198\n",
    "RMSECV:  0.6347289755388027\n",
    "RMSE test:  0.234613779682457\n",
    "Pour comparaison\n",
    "R2:  0.9360864653351104\n",
    "RMSE:  0.3205823800104122\n",
    "\n",
    "N comp:  5\n",
    "N Wave:  (61, 525)\n",
    "R2CV:  0.8064410312979352\n",
    "RMSECV:  0.5714679478374822\n",
    "RMSE test:  0.2758287127248845\n",
    "Pour comparaison\n",
    "R2:  0.9410448147685089\n",
    "RMSE:  0.3078961331885508\n",
    "\n",
    "N comp:  5\n",
    "N Wave:  (61, 295)\n",
    "R2CV:  0.832797327782959\n",
    "RMSECV:  0.5311373399645349\n",
    "RMSE test:  0.31835684397820246\n",
    "Pour comparaison\n",
    "R2:  0.941727528719577\n",
    "RMSE:  0.3061081896087941\n",
    "\n",
    "N comp:  5\n",
    "N Wave:  (61, 180)\n",
    "R2CV:  0.8498081554266277\n",
    "RMSECV:  0.5033944264508037\n",
    "RMSE test:  0.33797740155640416\n",
    "Pour comparaison\n",
    "R2:  0.9426664218992404\n",
    "RMSE:  0.3036321492592071\n",
    "\n",
    "N comp:  4\n",
    "N Wave:  (61, 133)\n",
    "R2CV:  0.8699561931101456\n",
    "RMSECV:  0.46841421316702553\n",
    "RMSE test:  0.3077054927434038\n",
    "Pour comparaison\n",
    "R2:  0.9345658028494117\n",
    "RMSE:  0.32437368881715\n",
    "\n",
    "N comp:  4\n",
    "N Wave:  (61, 98)\n",
    "R2CV:  0.8809740105002363\n",
    "RMSECV:  0.44813217602520283\n",
    "RMSE test:  0.26438613134127403\n",
    "Pour comparaison\n",
    "R2:  0.9415535593253657\n",
    "RMSE:  0.3065647840178916\n",
    "\n",
    "N comp:  4\n",
    "N Wave:  (61, 75)\n",
    "R2CV:  0.8929871947586091\n",
    "RMSECV:  0.424916016722866\n",
    "RMSE test:  0.2393460020930744\n",
    "Pour comparaison\n",
    "R2:  0.9420341013097473\n",
    "RMSE:  0.3053019072123095\n",
    "\n",
    "N comp:  4\n",
    "N Wave:  (61, 63)\n",
    "R2CV:  0.8984455119946324\n",
    "RMSECV:  0.41393751459307876\n",
    "RMSE test:  0.27773933957251773\n",
    "Pour comparaison\n",
    "R2:  0.9385133344457575\n",
    "RMSE:  0.3144370415489428\n",
    "\n",
    "N comp:  5\n",
    "N Wave:  (61, 55)\n",
    "R2CV:  0.9037257302783157\n",
    "RMSECV:  0.4030327554302046\n",
    "RMSE test:  0.40161699895289726\n",
    "Pour comparaison\n",
    "R2:  0.9391202565186575\n",
    "RMSE:  0.31288132169917116\n",
    "\n",
    "N comp:  4\n",
    "N Wave:  (61, 51)\n",
    "R2CV:  0.9057746342748256\n",
    "RMSECV:  0.3987210305228433\n",
    "RMSE test:  0.35853970524085677\n",
    "Pour comparaison\n",
    "R2:  0.9381058086884738\n",
    "RMSE:  0.3154773448992202\n",
    "\n",
    "N comp:  4\n",
    "N Wave:  (61, 46)\n",
    "R2CV:  0.9088432995851274\n",
    "RMSECV:  0.39217465716460076\n",
    "RMSE test:  0.3828247333639276\n",
    "Pour comparaison\n",
    "R2:  0.9380685549765132\n",
    "RMSE:  0.31557227250026965\n",
    "\n",
    "N comp:  4\n",
    "N Wave:  (61, 45)\n",
    "R2CV:  0.9090498668083444\n",
    "RMSECV:  0.39173005805436906\n",
    "RMSE test:  0.3915149065782384\n",
    "Pour comparaison\n",
    "R2:  0.9378513541302539\n",
    "RMSE:  0.3161251626602285\n",
    "\n",
    "\n",
    "\n",
    "\n",
    "Autre\n",
    "\n",
    "N comp:  4\n",
    "N Wave:  (61, 60)\n",
    "R2CV:  0.9016975252444265\n",
    "RMSECV:  0.4072559638799272\n",
    "RMSE test:  0.3169151405823745\n",
    "Pour comparaison\n",
    "R2:  0.9391850098584158\n",
    "RMSE:  0.31271488291726846\n",
    "\n",
    "N comp:  4\n",
    "N Wave:  (61, 55)\n",
    "R2CV:  0.897181431983066\n",
    "RMSECV:  0.41650575131083195\n",
    "RMSE test:  0.30577130288257437\n",
    "Pour comparaison\n",
    "R2:  0.935961855877094\n",
    "RMSE:  0.3208947406454791"
   ]
  },
  {
   "cell_type": "code",
   "execution_count": 31,
   "id": "b71b2eab",
   "metadata": {},
   "outputs": [
    {
     "data": {
      "application/vnd.plotly.v1+json": {
       "config": {
        "plotlyServerURL": "https://plot.ly"
       },
       "data": [
        {
         "hoverlabel": {
          "namelength": 0
         },
         "hovertemplate": "Moisture content measured (%)=%{x}<br>Moisture content predicted (%)=%{y}",
         "legendgroup": "",
         "marker": {
          "color": "#636efa",
          "symbol": "circle"
         },
         "mode": "markers",
         "name": "",
         "showlegend": false,
         "type": "scatter",
         "x": [
          7.71,
          11.73,
          8.05,
          8.18,
          12.08,
          9.28,
          11.85,
          9.68,
          9.28,
          8.77,
          7.7,
          8.81,
          7.66,
          9.29,
          8.17,
          8.18,
          8.26,
          7.74,
          9.52,
          10.26,
          10.91,
          9.24,
          8.34,
          9.06,
          11.91,
          7.89,
          7.45,
          8.43,
          8.02,
          8.59,
          8.2,
          8.21,
          9.28,
          8.8,
          9.74,
          8.43,
          9.57,
          9.9,
          11.28,
          7.94,
          9.45,
          7.86,
          7.77,
          11.33,
          8.65,
          9.87,
          7.52,
          11.99,
          8.62,
          7.66,
          8.73,
          8.1,
          9.83,
          7.79,
          9.45,
          9.29,
          9.52,
          9.13,
          6.74,
          7.42,
          11.01
         ],
         "xaxis": "x",
         "y": [
          8.327688125925404,
          11.12775770602859,
          7.975667862647206,
          8.101350128749774,
          12.002646273518806,
          9.409831269310537,
          12.185931747014827,
          9.539827510633003,
          9.409034646502468,
          8.218136241870704,
          7.90515723951036,
          8.814687019108431,
          8.121783920354673,
          8.673689945693889,
          8.533311047309661,
          7.841724561777615,
          8.340482994867976,
          8.184239010192826,
          9.428018107313648,
          10.442799337789763,
          10.665651656038634,
          9.244131977223358,
          8.427276688172155,
          9.224357065334003,
          11.743859300542171,
          8.242722595285436,
          7.518252825593044,
          8.359543401719215,
          8.02549479165497,
          8.356102587754728,
          8.3033620269067,
          8.438529050849075,
          9.064118351794646,
          8.955249104412784,
          9.662694477508092,
          8.464477771256757,
          9.339840204640973,
          9.38729019189466,
          10.806980298945335,
          8.048607288869079,
          9.159814794331936,
          8.266927123322962,
          7.582719668808902,
          11.737467495847788,
          8.718043977606328,
          9.542419307254981,
          7.9070806050107025,
          10.567572331267796,
          8.447408392111388,
          7.570022982562615,
          8.86682836460186,
          8.327910160027525,
          9.401419507125269,
          8.21881379427725,
          9.345792741475812,
          11.175647281880604,
          9.530601511760336,
          8.712608777637712,
          6.672133153446408,
          7.570946663626814,
          11.340099320223308
         ],
         "yaxis": "y"
        },
        {
         "hoverlabel": {
          "namelength": 0
         },
         "hovertemplate": "<b>OLS trendline</b><br>y_pred = 0.892591 * y + 0.977042<br>R<sup>2</sup>=0.898511<br><br>Moisture content measured (%)=%{x}<br>Moisture content predicted (%)=%{y} <b>(trend)</b>",
         "legendgroup": "",
         "marker": {
          "color": "#636efa",
          "symbol": "circle"
         },
         "mode": "lines",
         "name": "",
         "showlegend": false,
         "type": "scatter",
         "x": [
          6.74,
          7.42,
          7.45,
          7.52,
          7.66,
          7.66,
          7.7,
          7.71,
          7.74,
          7.77,
          7.79,
          7.86,
          7.89,
          7.94,
          8.02,
          8.05,
          8.1,
          8.17,
          8.18,
          8.18,
          8.2,
          8.21,
          8.26,
          8.34,
          8.43,
          8.43,
          8.59,
          8.62,
          8.65,
          8.73,
          8.77,
          8.8,
          8.81,
          9.06,
          9.13,
          9.24,
          9.28,
          9.28,
          9.28,
          9.29,
          9.29,
          9.45,
          9.45,
          9.52,
          9.52,
          9.57,
          9.68,
          9.74,
          9.83,
          9.87,
          9.9,
          10.26,
          10.91,
          11.01,
          11.28,
          11.33,
          11.73,
          11.85,
          11.91,
          11.99,
          12.08
         ],
         "xaxis": "x",
         "y": [
          6.993108681659637,
          7.6000708849267555,
          7.62684862918854,
          7.689330032466037,
          7.814292839021033,
          7.814292839021033,
          7.849996498036746,
          7.858922412790673,
          7.885700157052459,
          7.912477901314243,
          7.930329730822099,
          7.992811134099598,
          8.019588878361382,
          8.064218452131023,
          8.135625770162449,
          8.162403514424234,
          8.207033088193874,
          8.269514491471373,
          8.2784404062253,
          8.2784404062253,
          8.296292235733157,
          8.305218150487086,
          8.349847724256726,
          8.421255042288152,
          8.501588275073505,
          8.501588275073505,
          8.644402911136357,
          8.67118065539814,
          8.697958399659926,
          8.769365717691352,
          8.805069376707065,
          8.83184712096885,
          8.840773035722778,
          9.063920904570983,
          9.126402307848481,
          9.224587370141691,
          9.260291029157404,
          9.260291029157404,
          9.260291029157404,
          9.269216943911331,
          9.269216943911331,
          9.412031579974183,
          9.412031579974183,
          9.47451298325168,
          9.47451298325168,
          9.519142557021322,
          9.617327619314532,
          9.670883107838103,
          9.751216340623456,
          9.786919999639167,
          9.813697743900955,
          10.135030675042369,
          10.715215134047703,
          10.804474281586986,
          11.045473979943047,
          11.090103553712689,
          11.447140143869817,
          11.554251120916955,
          11.607806609440525,
          11.67921392747195,
          11.759547160257306
         ],
         "yaxis": "y"
        }
       ],
       "layout": {
        "height": 400,
        "legend": {
         "tracegroupgap": 0
        },
        "template": {
         "data": {
          "bar": [
           {
            "error_x": {
             "color": "#2a3f5f"
            },
            "error_y": {
             "color": "#2a3f5f"
            },
            "marker": {
             "line": {
              "color": "#E5ECF6",
              "width": 0.5
             }
            },
            "type": "bar"
           }
          ],
          "barpolar": [
           {
            "marker": {
             "line": {
              "color": "#E5ECF6",
              "width": 0.5
             }
            },
            "type": "barpolar"
           }
          ],
          "carpet": [
           {
            "aaxis": {
             "endlinecolor": "#2a3f5f",
             "gridcolor": "white",
             "linecolor": "white",
             "minorgridcolor": "white",
             "startlinecolor": "#2a3f5f"
            },
            "baxis": {
             "endlinecolor": "#2a3f5f",
             "gridcolor": "white",
             "linecolor": "white",
             "minorgridcolor": "white",
             "startlinecolor": "#2a3f5f"
            },
            "type": "carpet"
           }
          ],
          "choropleth": [
           {
            "colorbar": {
             "outlinewidth": 0,
             "ticks": ""
            },
            "type": "choropleth"
           }
          ],
          "contour": [
           {
            "colorbar": {
             "outlinewidth": 0,
             "ticks": ""
            },
            "colorscale": [
             [
              0,
              "#0d0887"
             ],
             [
              0.1111111111111111,
              "#46039f"
             ],
             [
              0.2222222222222222,
              "#7201a8"
             ],
             [
              0.3333333333333333,
              "#9c179e"
             ],
             [
              0.4444444444444444,
              "#bd3786"
             ],
             [
              0.5555555555555556,
              "#d8576b"
             ],
             [
              0.6666666666666666,
              "#ed7953"
             ],
             [
              0.7777777777777778,
              "#fb9f3a"
             ],
             [
              0.8888888888888888,
              "#fdca26"
             ],
             [
              1,
              "#f0f921"
             ]
            ],
            "type": "contour"
           }
          ],
          "contourcarpet": [
           {
            "colorbar": {
             "outlinewidth": 0,
             "ticks": ""
            },
            "type": "contourcarpet"
           }
          ],
          "heatmap": [
           {
            "colorbar": {
             "outlinewidth": 0,
             "ticks": ""
            },
            "colorscale": [
             [
              0,
              "#0d0887"
             ],
             [
              0.1111111111111111,
              "#46039f"
             ],
             [
              0.2222222222222222,
              "#7201a8"
             ],
             [
              0.3333333333333333,
              "#9c179e"
             ],
             [
              0.4444444444444444,
              "#bd3786"
             ],
             [
              0.5555555555555556,
              "#d8576b"
             ],
             [
              0.6666666666666666,
              "#ed7953"
             ],
             [
              0.7777777777777778,
              "#fb9f3a"
             ],
             [
              0.8888888888888888,
              "#fdca26"
             ],
             [
              1,
              "#f0f921"
             ]
            ],
            "type": "heatmap"
           }
          ],
          "heatmapgl": [
           {
            "colorbar": {
             "outlinewidth": 0,
             "ticks": ""
            },
            "colorscale": [
             [
              0,
              "#0d0887"
             ],
             [
              0.1111111111111111,
              "#46039f"
             ],
             [
              0.2222222222222222,
              "#7201a8"
             ],
             [
              0.3333333333333333,
              "#9c179e"
             ],
             [
              0.4444444444444444,
              "#bd3786"
             ],
             [
              0.5555555555555556,
              "#d8576b"
             ],
             [
              0.6666666666666666,
              "#ed7953"
             ],
             [
              0.7777777777777778,
              "#fb9f3a"
             ],
             [
              0.8888888888888888,
              "#fdca26"
             ],
             [
              1,
              "#f0f921"
             ]
            ],
            "type": "heatmapgl"
           }
          ],
          "histogram": [
           {
            "marker": {
             "colorbar": {
              "outlinewidth": 0,
              "ticks": ""
             }
            },
            "type": "histogram"
           }
          ],
          "histogram2d": [
           {
            "colorbar": {
             "outlinewidth": 0,
             "ticks": ""
            },
            "colorscale": [
             [
              0,
              "#0d0887"
             ],
             [
              0.1111111111111111,
              "#46039f"
             ],
             [
              0.2222222222222222,
              "#7201a8"
             ],
             [
              0.3333333333333333,
              "#9c179e"
             ],
             [
              0.4444444444444444,
              "#bd3786"
             ],
             [
              0.5555555555555556,
              "#d8576b"
             ],
             [
              0.6666666666666666,
              "#ed7953"
             ],
             [
              0.7777777777777778,
              "#fb9f3a"
             ],
             [
              0.8888888888888888,
              "#fdca26"
             ],
             [
              1,
              "#f0f921"
             ]
            ],
            "type": "histogram2d"
           }
          ],
          "histogram2dcontour": [
           {
            "colorbar": {
             "outlinewidth": 0,
             "ticks": ""
            },
            "colorscale": [
             [
              0,
              "#0d0887"
             ],
             [
              0.1111111111111111,
              "#46039f"
             ],
             [
              0.2222222222222222,
              "#7201a8"
             ],
             [
              0.3333333333333333,
              "#9c179e"
             ],
             [
              0.4444444444444444,
              "#bd3786"
             ],
             [
              0.5555555555555556,
              "#d8576b"
             ],
             [
              0.6666666666666666,
              "#ed7953"
             ],
             [
              0.7777777777777778,
              "#fb9f3a"
             ],
             [
              0.8888888888888888,
              "#fdca26"
             ],
             [
              1,
              "#f0f921"
             ]
            ],
            "type": "histogram2dcontour"
           }
          ],
          "mesh3d": [
           {
            "colorbar": {
             "outlinewidth": 0,
             "ticks": ""
            },
            "type": "mesh3d"
           }
          ],
          "parcoords": [
           {
            "line": {
             "colorbar": {
              "outlinewidth": 0,
              "ticks": ""
             }
            },
            "type": "parcoords"
           }
          ],
          "scatter": [
           {
            "marker": {
             "colorbar": {
              "outlinewidth": 0,
              "ticks": ""
             }
            },
            "type": "scatter"
           }
          ],
          "scatter3d": [
           {
            "line": {
             "colorbar": {
              "outlinewidth": 0,
              "ticks": ""
             }
            },
            "marker": {
             "colorbar": {
              "outlinewidth": 0,
              "ticks": ""
             }
            },
            "type": "scatter3d"
           }
          ],
          "scattercarpet": [
           {
            "marker": {
             "colorbar": {
              "outlinewidth": 0,
              "ticks": ""
             }
            },
            "type": "scattercarpet"
           }
          ],
          "scattergeo": [
           {
            "marker": {
             "colorbar": {
              "outlinewidth": 0,
              "ticks": ""
             }
            },
            "type": "scattergeo"
           }
          ],
          "scattergl": [
           {
            "marker": {
             "colorbar": {
              "outlinewidth": 0,
              "ticks": ""
             }
            },
            "type": "scattergl"
           }
          ],
          "scattermapbox": [
           {
            "marker": {
             "colorbar": {
              "outlinewidth": 0,
              "ticks": ""
             }
            },
            "type": "scattermapbox"
           }
          ],
          "scatterpolar": [
           {
            "marker": {
             "colorbar": {
              "outlinewidth": 0,
              "ticks": ""
             }
            },
            "type": "scatterpolar"
           }
          ],
          "scatterpolargl": [
           {
            "marker": {
             "colorbar": {
              "outlinewidth": 0,
              "ticks": ""
             }
            },
            "type": "scatterpolargl"
           }
          ],
          "scatterternary": [
           {
            "marker": {
             "colorbar": {
              "outlinewidth": 0,
              "ticks": ""
             }
            },
            "type": "scatterternary"
           }
          ],
          "surface": [
           {
            "colorbar": {
             "outlinewidth": 0,
             "ticks": ""
            },
            "colorscale": [
             [
              0,
              "#0d0887"
             ],
             [
              0.1111111111111111,
              "#46039f"
             ],
             [
              0.2222222222222222,
              "#7201a8"
             ],
             [
              0.3333333333333333,
              "#9c179e"
             ],
             [
              0.4444444444444444,
              "#bd3786"
             ],
             [
              0.5555555555555556,
              "#d8576b"
             ],
             [
              0.6666666666666666,
              "#ed7953"
             ],
             [
              0.7777777777777778,
              "#fb9f3a"
             ],
             [
              0.8888888888888888,
              "#fdca26"
             ],
             [
              1,
              "#f0f921"
             ]
            ],
            "type": "surface"
           }
          ],
          "table": [
           {
            "cells": {
             "fill": {
              "color": "#EBF0F8"
             },
             "line": {
              "color": "white"
             }
            },
            "header": {
             "fill": {
              "color": "#C8D4E3"
             },
             "line": {
              "color": "white"
             }
            },
            "type": "table"
           }
          ]
         },
         "layout": {
          "annotationdefaults": {
           "arrowcolor": "#2a3f5f",
           "arrowhead": 0,
           "arrowwidth": 1
          },
          "colorscale": {
           "diverging": [
            [
             0,
             "#8e0152"
            ],
            [
             0.1,
             "#c51b7d"
            ],
            [
             0.2,
             "#de77ae"
            ],
            [
             0.3,
             "#f1b6da"
            ],
            [
             0.4,
             "#fde0ef"
            ],
            [
             0.5,
             "#f7f7f7"
            ],
            [
             0.6,
             "#e6f5d0"
            ],
            [
             0.7,
             "#b8e186"
            ],
            [
             0.8,
             "#7fbc41"
            ],
            [
             0.9,
             "#4d9221"
            ],
            [
             1,
             "#276419"
            ]
           ],
           "sequential": [
            [
             0,
             "#0d0887"
            ],
            [
             0.1111111111111111,
             "#46039f"
            ],
            [
             0.2222222222222222,
             "#7201a8"
            ],
            [
             0.3333333333333333,
             "#9c179e"
            ],
            [
             0.4444444444444444,
             "#bd3786"
            ],
            [
             0.5555555555555556,
             "#d8576b"
            ],
            [
             0.6666666666666666,
             "#ed7953"
            ],
            [
             0.7777777777777778,
             "#fb9f3a"
            ],
            [
             0.8888888888888888,
             "#fdca26"
            ],
            [
             1,
             "#f0f921"
            ]
           ],
           "sequentialminus": [
            [
             0,
             "#0d0887"
            ],
            [
             0.1111111111111111,
             "#46039f"
            ],
            [
             0.2222222222222222,
             "#7201a8"
            ],
            [
             0.3333333333333333,
             "#9c179e"
            ],
            [
             0.4444444444444444,
             "#bd3786"
            ],
            [
             0.5555555555555556,
             "#d8576b"
            ],
            [
             0.6666666666666666,
             "#ed7953"
            ],
            [
             0.7777777777777778,
             "#fb9f3a"
            ],
            [
             0.8888888888888888,
             "#fdca26"
            ],
            [
             1,
             "#f0f921"
            ]
           ]
          },
          "colorway": [
           "#636efa",
           "#EF553B",
           "#00cc96",
           "#ab63fa",
           "#FFA15A",
           "#19d3f3",
           "#FF6692",
           "#B6E880",
           "#FF97FF",
           "#FECB52"
          ],
          "font": {
           "color": "#2a3f5f"
          },
          "geo": {
           "bgcolor": "white",
           "lakecolor": "white",
           "landcolor": "#E5ECF6",
           "showlakes": true,
           "showland": true,
           "subunitcolor": "white"
          },
          "hoverlabel": {
           "align": "left"
          },
          "hovermode": "closest",
          "mapbox": {
           "style": "light"
          },
          "paper_bgcolor": "white",
          "plot_bgcolor": "#E5ECF6",
          "polar": {
           "angularaxis": {
            "gridcolor": "white",
            "linecolor": "white",
            "ticks": ""
           },
           "bgcolor": "#E5ECF6",
           "radialaxis": {
            "gridcolor": "white",
            "linecolor": "white",
            "ticks": ""
           }
          },
          "scene": {
           "xaxis": {
            "backgroundcolor": "#E5ECF6",
            "gridcolor": "white",
            "gridwidth": 2,
            "linecolor": "white",
            "showbackground": true,
            "ticks": "",
            "zerolinecolor": "white"
           },
           "yaxis": {
            "backgroundcolor": "#E5ECF6",
            "gridcolor": "white",
            "gridwidth": 2,
            "linecolor": "white",
            "showbackground": true,
            "ticks": "",
            "zerolinecolor": "white"
           },
           "zaxis": {
            "backgroundcolor": "#E5ECF6",
            "gridcolor": "white",
            "gridwidth": 2,
            "linecolor": "white",
            "showbackground": true,
            "ticks": "",
            "zerolinecolor": "white"
           }
          },
          "shapedefaults": {
           "line": {
            "color": "#2a3f5f"
           }
          },
          "ternary": {
           "aaxis": {
            "gridcolor": "white",
            "linecolor": "white",
            "ticks": ""
           },
           "baxis": {
            "gridcolor": "white",
            "linecolor": "white",
            "ticks": ""
           },
           "bgcolor": "#E5ECF6",
           "caxis": {
            "gridcolor": "white",
            "linecolor": "white",
            "ticks": ""
           }
          },
          "title": {
           "x": 0.05
          },
          "xaxis": {
           "automargin": true,
           "gridcolor": "white",
           "linecolor": "white",
           "ticks": "",
           "zerolinecolor": "white",
           "zerolinewidth": 2
          },
          "yaxis": {
           "automargin": true,
           "gridcolor": "white",
           "linecolor": "white",
           "ticks": "",
           "zerolinecolor": "white",
           "zerolinewidth": 2
          }
         }
        },
        "title": {
         "text": "Prediction performance for moisture content "
        },
        "width": 600,
        "xaxis": {
         "anchor": "y",
         "domain": [
          0,
          0.98
         ],
         "title": {
          "text": "Moisture content measured (%)"
         }
        },
        "yaxis": {
         "anchor": "x",
         "domain": [
          0,
          1
         ],
         "title": {
          "text": "Moisture content predicted (%)"
         }
        }
       }
      }
     },
     "metadata": {},
     "output_type": "display_data"
    }
   ],
   "source": [
    "import plotly.express as px\n",
    "\n",
    "df_pred = pd.DataFrame()\n",
    "df_pred['y'] = y_train_oleo\n",
    "df_pred['y_pred'] = y_cv\n",
    "fig = px.scatter(df_pred, x=\"y\", y=\"y_pred\", trendline=\"ols\", title=\"Prediction performance for moisture content \",\n",
    "                 labels={\n",
    "                     \"y\": \"Moisture content measured (%)\",\n",
    "                     \"y_pred\": \"Moisture content predicted (%)\",\n",
    "\n",
    "                 },width=600, height=400)\n",
    "fig.show()"
   ]
  },
  {
   "cell_type": "code",
   "execution_count": 32,
   "id": "786fbfdf",
   "metadata": {},
   "outputs": [
    {
     "data": {
      "application/vnd.plotly.v1+json": {
       "config": {
        "plotlyServerURL": "https://plot.ly"
       },
       "data": [
        {
         "hoverlabel": {
          "namelength": 0
         },
         "hovertemplate": "Moisture content measured (%)=%{x}<br>Moisture content predicted (%)=%{y}",
         "legendgroup": "",
         "marker": {
          "color": "#636efa",
          "symbol": "circle"
         },
         "mode": "markers",
         "name": "",
         "showlegend": false,
         "type": "scatter",
         "x": [
          7.98,
          8.52,
          9.31,
          7.42,
          8.29,
          9.56,
          9.3,
          11.46,
          10.3,
          8.94,
          8.4
         ],
         "xaxis": "x",
         "y": [
          7.4090116732312765,
          8.535143989635804,
          9.314929772286987,
          7.307438718997085,
          8.140900386223908,
          9.16592607362541,
          9.459743322168373,
          10.995066059320616,
          10.031299056087473,
          8.979756923461903,
          8.528809670334768
         ],
         "yaxis": "y"
        },
        {
         "hoverlabel": {
          "namelength": 0
         },
         "hovertemplate": "<b>OLS trendline</b><br>y_pred = 0.936620 * y + 0.426640<br>R<sup>2</sup>=0.952638<br><br>Moisture content measured (%)=%{x}<br>Moisture content predicted (%)=%{y} <b>(trend)</b>",
         "legendgroup": "",
         "marker": {
          "color": "#636efa",
          "symbol": "circle"
         },
         "mode": "lines",
         "name": "",
         "showlegend": false,
         "type": "scatter",
         "x": [
          7.42,
          7.98,
          8.29,
          8.4,
          8.52,
          8.94,
          9.3,
          9.31,
          9.56,
          10.3,
          11.46
         ],
         "xaxis": "x",
         "y": [
          7.376362551885435,
          7.900869889052007,
          8.1912221649835,
          8.294250391926937,
          8.406644821319773,
          8.800025324194701,
          9.137208612373213,
          9.146574814822616,
          9.380729876057691,
          10.073828857313519,
          11.160308341444274
         ],
         "yaxis": "y"
        }
       ],
       "layout": {
        "height": 400,
        "legend": {
         "tracegroupgap": 0
        },
        "template": {
         "data": {
          "bar": [
           {
            "error_x": {
             "color": "#2a3f5f"
            },
            "error_y": {
             "color": "#2a3f5f"
            },
            "marker": {
             "line": {
              "color": "#E5ECF6",
              "width": 0.5
             }
            },
            "type": "bar"
           }
          ],
          "barpolar": [
           {
            "marker": {
             "line": {
              "color": "#E5ECF6",
              "width": 0.5
             }
            },
            "type": "barpolar"
           }
          ],
          "carpet": [
           {
            "aaxis": {
             "endlinecolor": "#2a3f5f",
             "gridcolor": "white",
             "linecolor": "white",
             "minorgridcolor": "white",
             "startlinecolor": "#2a3f5f"
            },
            "baxis": {
             "endlinecolor": "#2a3f5f",
             "gridcolor": "white",
             "linecolor": "white",
             "minorgridcolor": "white",
             "startlinecolor": "#2a3f5f"
            },
            "type": "carpet"
           }
          ],
          "choropleth": [
           {
            "colorbar": {
             "outlinewidth": 0,
             "ticks": ""
            },
            "type": "choropleth"
           }
          ],
          "contour": [
           {
            "colorbar": {
             "outlinewidth": 0,
             "ticks": ""
            },
            "colorscale": [
             [
              0,
              "#0d0887"
             ],
             [
              0.1111111111111111,
              "#46039f"
             ],
             [
              0.2222222222222222,
              "#7201a8"
             ],
             [
              0.3333333333333333,
              "#9c179e"
             ],
             [
              0.4444444444444444,
              "#bd3786"
             ],
             [
              0.5555555555555556,
              "#d8576b"
             ],
             [
              0.6666666666666666,
              "#ed7953"
             ],
             [
              0.7777777777777778,
              "#fb9f3a"
             ],
             [
              0.8888888888888888,
              "#fdca26"
             ],
             [
              1,
              "#f0f921"
             ]
            ],
            "type": "contour"
           }
          ],
          "contourcarpet": [
           {
            "colorbar": {
             "outlinewidth": 0,
             "ticks": ""
            },
            "type": "contourcarpet"
           }
          ],
          "heatmap": [
           {
            "colorbar": {
             "outlinewidth": 0,
             "ticks": ""
            },
            "colorscale": [
             [
              0,
              "#0d0887"
             ],
             [
              0.1111111111111111,
              "#46039f"
             ],
             [
              0.2222222222222222,
              "#7201a8"
             ],
             [
              0.3333333333333333,
              "#9c179e"
             ],
             [
              0.4444444444444444,
              "#bd3786"
             ],
             [
              0.5555555555555556,
              "#d8576b"
             ],
             [
              0.6666666666666666,
              "#ed7953"
             ],
             [
              0.7777777777777778,
              "#fb9f3a"
             ],
             [
              0.8888888888888888,
              "#fdca26"
             ],
             [
              1,
              "#f0f921"
             ]
            ],
            "type": "heatmap"
           }
          ],
          "heatmapgl": [
           {
            "colorbar": {
             "outlinewidth": 0,
             "ticks": ""
            },
            "colorscale": [
             [
              0,
              "#0d0887"
             ],
             [
              0.1111111111111111,
              "#46039f"
             ],
             [
              0.2222222222222222,
              "#7201a8"
             ],
             [
              0.3333333333333333,
              "#9c179e"
             ],
             [
              0.4444444444444444,
              "#bd3786"
             ],
             [
              0.5555555555555556,
              "#d8576b"
             ],
             [
              0.6666666666666666,
              "#ed7953"
             ],
             [
              0.7777777777777778,
              "#fb9f3a"
             ],
             [
              0.8888888888888888,
              "#fdca26"
             ],
             [
              1,
              "#f0f921"
             ]
            ],
            "type": "heatmapgl"
           }
          ],
          "histogram": [
           {
            "marker": {
             "colorbar": {
              "outlinewidth": 0,
              "ticks": ""
             }
            },
            "type": "histogram"
           }
          ],
          "histogram2d": [
           {
            "colorbar": {
             "outlinewidth": 0,
             "ticks": ""
            },
            "colorscale": [
             [
              0,
              "#0d0887"
             ],
             [
              0.1111111111111111,
              "#46039f"
             ],
             [
              0.2222222222222222,
              "#7201a8"
             ],
             [
              0.3333333333333333,
              "#9c179e"
             ],
             [
              0.4444444444444444,
              "#bd3786"
             ],
             [
              0.5555555555555556,
              "#d8576b"
             ],
             [
              0.6666666666666666,
              "#ed7953"
             ],
             [
              0.7777777777777778,
              "#fb9f3a"
             ],
             [
              0.8888888888888888,
              "#fdca26"
             ],
             [
              1,
              "#f0f921"
             ]
            ],
            "type": "histogram2d"
           }
          ],
          "histogram2dcontour": [
           {
            "colorbar": {
             "outlinewidth": 0,
             "ticks": ""
            },
            "colorscale": [
             [
              0,
              "#0d0887"
             ],
             [
              0.1111111111111111,
              "#46039f"
             ],
             [
              0.2222222222222222,
              "#7201a8"
             ],
             [
              0.3333333333333333,
              "#9c179e"
             ],
             [
              0.4444444444444444,
              "#bd3786"
             ],
             [
              0.5555555555555556,
              "#d8576b"
             ],
             [
              0.6666666666666666,
              "#ed7953"
             ],
             [
              0.7777777777777778,
              "#fb9f3a"
             ],
             [
              0.8888888888888888,
              "#fdca26"
             ],
             [
              1,
              "#f0f921"
             ]
            ],
            "type": "histogram2dcontour"
           }
          ],
          "mesh3d": [
           {
            "colorbar": {
             "outlinewidth": 0,
             "ticks": ""
            },
            "type": "mesh3d"
           }
          ],
          "parcoords": [
           {
            "line": {
             "colorbar": {
              "outlinewidth": 0,
              "ticks": ""
             }
            },
            "type": "parcoords"
           }
          ],
          "scatter": [
           {
            "marker": {
             "colorbar": {
              "outlinewidth": 0,
              "ticks": ""
             }
            },
            "type": "scatter"
           }
          ],
          "scatter3d": [
           {
            "line": {
             "colorbar": {
              "outlinewidth": 0,
              "ticks": ""
             }
            },
            "marker": {
             "colorbar": {
              "outlinewidth": 0,
              "ticks": ""
             }
            },
            "type": "scatter3d"
           }
          ],
          "scattercarpet": [
           {
            "marker": {
             "colorbar": {
              "outlinewidth": 0,
              "ticks": ""
             }
            },
            "type": "scattercarpet"
           }
          ],
          "scattergeo": [
           {
            "marker": {
             "colorbar": {
              "outlinewidth": 0,
              "ticks": ""
             }
            },
            "type": "scattergeo"
           }
          ],
          "scattergl": [
           {
            "marker": {
             "colorbar": {
              "outlinewidth": 0,
              "ticks": ""
             }
            },
            "type": "scattergl"
           }
          ],
          "scattermapbox": [
           {
            "marker": {
             "colorbar": {
              "outlinewidth": 0,
              "ticks": ""
             }
            },
            "type": "scattermapbox"
           }
          ],
          "scatterpolar": [
           {
            "marker": {
             "colorbar": {
              "outlinewidth": 0,
              "ticks": ""
             }
            },
            "type": "scatterpolar"
           }
          ],
          "scatterpolargl": [
           {
            "marker": {
             "colorbar": {
              "outlinewidth": 0,
              "ticks": ""
             }
            },
            "type": "scatterpolargl"
           }
          ],
          "scatterternary": [
           {
            "marker": {
             "colorbar": {
              "outlinewidth": 0,
              "ticks": ""
             }
            },
            "type": "scatterternary"
           }
          ],
          "surface": [
           {
            "colorbar": {
             "outlinewidth": 0,
             "ticks": ""
            },
            "colorscale": [
             [
              0,
              "#0d0887"
             ],
             [
              0.1111111111111111,
              "#46039f"
             ],
             [
              0.2222222222222222,
              "#7201a8"
             ],
             [
              0.3333333333333333,
              "#9c179e"
             ],
             [
              0.4444444444444444,
              "#bd3786"
             ],
             [
              0.5555555555555556,
              "#d8576b"
             ],
             [
              0.6666666666666666,
              "#ed7953"
             ],
             [
              0.7777777777777778,
              "#fb9f3a"
             ],
             [
              0.8888888888888888,
              "#fdca26"
             ],
             [
              1,
              "#f0f921"
             ]
            ],
            "type": "surface"
           }
          ],
          "table": [
           {
            "cells": {
             "fill": {
              "color": "#EBF0F8"
             },
             "line": {
              "color": "white"
             }
            },
            "header": {
             "fill": {
              "color": "#C8D4E3"
             },
             "line": {
              "color": "white"
             }
            },
            "type": "table"
           }
          ]
         },
         "layout": {
          "annotationdefaults": {
           "arrowcolor": "#2a3f5f",
           "arrowhead": 0,
           "arrowwidth": 1
          },
          "colorscale": {
           "diverging": [
            [
             0,
             "#8e0152"
            ],
            [
             0.1,
             "#c51b7d"
            ],
            [
             0.2,
             "#de77ae"
            ],
            [
             0.3,
             "#f1b6da"
            ],
            [
             0.4,
             "#fde0ef"
            ],
            [
             0.5,
             "#f7f7f7"
            ],
            [
             0.6,
             "#e6f5d0"
            ],
            [
             0.7,
             "#b8e186"
            ],
            [
             0.8,
             "#7fbc41"
            ],
            [
             0.9,
             "#4d9221"
            ],
            [
             1,
             "#276419"
            ]
           ],
           "sequential": [
            [
             0,
             "#0d0887"
            ],
            [
             0.1111111111111111,
             "#46039f"
            ],
            [
             0.2222222222222222,
             "#7201a8"
            ],
            [
             0.3333333333333333,
             "#9c179e"
            ],
            [
             0.4444444444444444,
             "#bd3786"
            ],
            [
             0.5555555555555556,
             "#d8576b"
            ],
            [
             0.6666666666666666,
             "#ed7953"
            ],
            [
             0.7777777777777778,
             "#fb9f3a"
            ],
            [
             0.8888888888888888,
             "#fdca26"
            ],
            [
             1,
             "#f0f921"
            ]
           ],
           "sequentialminus": [
            [
             0,
             "#0d0887"
            ],
            [
             0.1111111111111111,
             "#46039f"
            ],
            [
             0.2222222222222222,
             "#7201a8"
            ],
            [
             0.3333333333333333,
             "#9c179e"
            ],
            [
             0.4444444444444444,
             "#bd3786"
            ],
            [
             0.5555555555555556,
             "#d8576b"
            ],
            [
             0.6666666666666666,
             "#ed7953"
            ],
            [
             0.7777777777777778,
             "#fb9f3a"
            ],
            [
             0.8888888888888888,
             "#fdca26"
            ],
            [
             1,
             "#f0f921"
            ]
           ]
          },
          "colorway": [
           "#636efa",
           "#EF553B",
           "#00cc96",
           "#ab63fa",
           "#FFA15A",
           "#19d3f3",
           "#FF6692",
           "#B6E880",
           "#FF97FF",
           "#FECB52"
          ],
          "font": {
           "color": "#2a3f5f"
          },
          "geo": {
           "bgcolor": "white",
           "lakecolor": "white",
           "landcolor": "#E5ECF6",
           "showlakes": true,
           "showland": true,
           "subunitcolor": "white"
          },
          "hoverlabel": {
           "align": "left"
          },
          "hovermode": "closest",
          "mapbox": {
           "style": "light"
          },
          "paper_bgcolor": "white",
          "plot_bgcolor": "#E5ECF6",
          "polar": {
           "angularaxis": {
            "gridcolor": "white",
            "linecolor": "white",
            "ticks": ""
           },
           "bgcolor": "#E5ECF6",
           "radialaxis": {
            "gridcolor": "white",
            "linecolor": "white",
            "ticks": ""
           }
          },
          "scene": {
           "xaxis": {
            "backgroundcolor": "#E5ECF6",
            "gridcolor": "white",
            "gridwidth": 2,
            "linecolor": "white",
            "showbackground": true,
            "ticks": "",
            "zerolinecolor": "white"
           },
           "yaxis": {
            "backgroundcolor": "#E5ECF6",
            "gridcolor": "white",
            "gridwidth": 2,
            "linecolor": "white",
            "showbackground": true,
            "ticks": "",
            "zerolinecolor": "white"
           },
           "zaxis": {
            "backgroundcolor": "#E5ECF6",
            "gridcolor": "white",
            "gridwidth": 2,
            "linecolor": "white",
            "showbackground": true,
            "ticks": "",
            "zerolinecolor": "white"
           }
          },
          "shapedefaults": {
           "line": {
            "color": "#2a3f5f"
           }
          },
          "ternary": {
           "aaxis": {
            "gridcolor": "white",
            "linecolor": "white",
            "ticks": ""
           },
           "baxis": {
            "gridcolor": "white",
            "linecolor": "white",
            "ticks": ""
           },
           "bgcolor": "#E5ECF6",
           "caxis": {
            "gridcolor": "white",
            "linecolor": "white",
            "ticks": ""
           }
          },
          "title": {
           "x": 0.05
          },
          "xaxis": {
           "automargin": true,
           "gridcolor": "white",
           "linecolor": "white",
           "ticks": "",
           "zerolinecolor": "white",
           "zerolinewidth": 2
          },
          "yaxis": {
           "automargin": true,
           "gridcolor": "white",
           "linecolor": "white",
           "ticks": "",
           "zerolinecolor": "white",
           "zerolinewidth": 2
          }
         }
        },
        "title": {
         "text": "Prediction performance for moisture content "
        },
        "width": 600,
        "xaxis": {
         "anchor": "y",
         "domain": [
          0,
          0.98
         ],
         "title": {
          "text": "Moisture content measured (%)"
         }
        },
        "yaxis": {
         "anchor": "x",
         "domain": [
          0,
          1
         ],
         "title": {
          "text": "Moisture content predicted (%)"
         }
        }
       }
      }
     },
     "metadata": {},
     "output_type": "display_data"
    }
   ],
   "source": [
    "df_pred = pd.DataFrame()\n",
    "df_pred['y'] = y_test_oleo\n",
    "df_pred['y_pred'] = y_pred\n",
    "fig = px.scatter(df_pred, x=\"y\", y=\"y_pred\", trendline=\"ols\", title=\"Prediction performance for moisture content \",\n",
    "                 labels={\n",
    "                     \"y\": \"Moisture content measured (%)\",\n",
    "                     \"y_pred\": \"Moisture content predicted (%)\",\n",
    "\n",
    "                 },width=600, height=400)\n",
    "fig.show()"
   ]
  },
  {
   "cell_type": "code",
   "execution_count": 33,
   "id": "e3d45641",
   "metadata": {},
   "outputs": [
    {
     "data": {
      "text/plain": [
       "array([   2,   11,   25,   27,   31,   46,   53,   60,   69,   94,   99,\n",
       "        105,  107,  128,  138,  152,  154,  169,  183,  214,  217,  218,\n",
       "        221,  241,  243,  250,  262,  281,  286,  306,  311,  312,  317,\n",
       "        324,  335,  342,  399,  404,  407,  436,  440,  450,  451,  452,\n",
       "        460,  467,  470,  483,  484,  486,  490,  493,  500,  503,  504,\n",
       "        517,  520,  522,  526,  533,  537,  576,  584,  600,  624,  628,\n",
       "        636,  640,  641,  642,  651,  670,  694,  701,  709,  711,  731,\n",
       "        748,  764,  770,  771,  787,  795,  798,  814,  817,  832,  842,\n",
       "        847,  859,  867,  878,  892,  894,  907,  912,  926,  935,  939,\n",
       "        963,  968,  985,  990,  997,  999, 1005, 1031, 1037, 1046, 1047,\n",
       "       1049, 1075, 1076, 1081, 1100, 1102, 1107, 1120, 1143, 1146, 1160,\n",
       "       1173, 1176, 1187, 1196, 1198, 1212, 1213, 1214, 1224, 1225, 1237,\n",
       "       1244, 1253, 1264, 1272, 1281, 1282, 1293, 1316, 1348, 1349, 1361,\n",
       "       1399, 1400, 1401, 1413, 1468, 1477, 1483, 1484, 1489, 1493, 1495,\n",
       "       1523, 1526, 1529, 1531, 1532, 1536, 1551])"
      ]
     },
     "execution_count": 33,
     "metadata": {},
     "output_type": "execute_result"
    }
   ],
   "source": [
    "#Wavelength to keep\n",
    "wl_list = np.arange(0, 1557, 1)\n",
    "col = [ 4,6,10,12,19,23,30,32,33,35,36,37,41,42,44,49,52,54,55,63,65,67,70,71,72,74,76,77,80,81,82,85,87,89,93,98,101,108,111,112,115,116,118,120,121,122,123,124,129,131,134,139,147,148,149,150,151,153,155,157,158,159,160,161,163,165,166,168,170,173,176,177,178,179,181,182,187,188,190,191,192,193,196,197,199,203,204,205,207,209,212,222,223,228,229,231,233,235,236,237,239,246,248,249,251,259,263,264,268,270,271,274,279,282,284,287,292,293,295,298,300,301,302,305,310,313,318,322,326,327,331,334,338,339,341,343,348,350,353,354,357,358,359,360,362,365,367,368,371,373,374,375,376,383,384,386,388,389,391,392,393,394,395,396,401,402,403,405,406,410,411,412,414,415,416,417,418,419,420,421,422,424,425,426,428,429,431,432,433,434,435,437,438,439,443,444,445,447,453,454,456,458,461,462,466,471,473,475,478,479,480,481,482,485,488,489,491,492,496,501,507,509,511,512,514,515,519,524,529,530,532,535,538,539,541,542,544,547,548,551,554,555,556,558,561,562,563,564,566,568,569,570,571,574,575,577,578,579,580,581,583,585,586,587,589,590,591,593,595,597,598,599,601,602,603,605,607,608,609,610,613,615,618,619,620,621,622,626,627,630,632,633,635,637,639,644,646,648,652,656,657,658,662,665,667,671,674,675,677,679,681,682,683,685,686,687,688,690,691,692,693,695,696,697,699,702,707,712,713,715,718,719,723,725,726,727,728,733,740,741,743,744,746,750,752,754,757,758,763,765,766,767,768,769,772,773,774,775,776,777,780,781,785,786,789,791,792,793,794,799,800,801,807,808,809,810,811,812,815,816,819,822,823,824,825,827,831,834,835,839,840,844,845,846,848,850,851,852,853,854,861,863,864,865,866,868,870,871,872,873,874,875,877,879,882,884,885,886,887,889,890,891,893,895,897,898,899,903,904,905,906,908,915,917,918,921,923,924,925,927,928,929,933,934,936,940,941,942,944,945,946,947,948,949,951,952,955,956,958,960,962,965,966,970,974,975,976,977,978,979,981,984,988,992,993,996,1000,1002,1003,1004,1007,1012,1014,1016,1017,1018,1021,1022,1024,1026,1028,1030,1032,1036,1038,1041,1042,1044,1048,1050,1053,1056,1057,1060,1062,1063,1066,1067,1068,1070,1073,1077,1080,1083,1084,1085,1087,1088,1089,1090,1091,1093,1095,1096,1098,1099,1105,1106,1108,1109,1110,1111,1113,1114,1115,1121,1122,1123,1124,1125,1126,1129,1131,1132,1133,1134,1137,1138,1141,1142,1144,1145,1149,1150,1152,1155,1158,1159,1163,1164,1169,1170,1172,1174,1178,1180,1181,1182,1183,1186,1188,1191,1193,1194,1195,1201,1202,1206,1208,1210,1215,1217,1219,1223,1226,1227,1229,1230,1232,1234,1240,1241,1242,1247,1249,1258,1262,1263,1265,1268,1269,1270,1274,1275,1276,1277,1278,1280,1283,1284,1287,1289,1291,1294,1295,1296,1297,1299,1300,1301,1304,1308,1311,1315,1317,1319,1323,1324,1326,1332,1338,1339,1340,1343,1344,1345,1346,1347,1351,1353,1354,1355,1357,1363,1364,1366,1367,1368,1371,1381,1382,1383,1385,1386,1389,1391,1396,1397,1402,1405,1406,1408,1409,1410,1415,1416,1417,1419,1420,1427,1429,1431,1432,1435,1436,1437,1438,1442,1443,1444,1445,1447,1448,1449,1450,1452,1454,1457,1459,1462,1463,1465,1466,1467,1470,1471,1472,1476,1478,1480,1486,1488,1490,1491,1494,1497,1499,1500,1501,1507,1508,1509,1511,1514,1516,1518,1522,1525,1527,1528,1533,1534,1541,1542,1545,1546,1548,1550,1553,1556]\n",
    "\n",
    "wl_list = np.delete(wl_list, col)\n",
    "###If needed ##\n",
    "col = [0,   1,   4,   6,   9,  14,  15,  16,  18,  25,  26,  27,  30,\n",
    "        33,  35,  37,  38,  39,  40,  44,  45,  51,  52,  53,  54,  58,\n",
    "        72,  73,  75,  76,  77,  78,  79,  82,  83,  85,  86,  88,  90,\n",
    "        91,  92,  93,  94,  99, 102, 108, 109, 110, 112, 113, 114, 115,\n",
    "       116, 117, 118, 119, 122, 125, 128, 129, 131, 133, 135, 143, 144,\n",
    "       145, 147, 148, 150, 151, 152, 159, 161, 163, 164, 165, 173, 176,\n",
    "       179, 180, 183, 184, 185, 189, 190, 193, 197, 199, 200, 204, 205,\n",
    "       208, 209, 210, 212, 213, 216, 217, 219, 220, 221, 223, 226, 227,\n",
    "       228, 231, 232, 236, 239, 242, 243, 256, 257, 259, 266, 268, 273,\n",
    "       277, 282, 287, 288, 296, 300, 301, 303, 304, 308, 317, 318, 319,\n",
    "       324, 327, 332, 333, 336, 338, 340, 341, 342, 344, 349, 350, 351,\n",
    "       354, 360, 361, 363, 366, 367, 374, 375, 377, 378, 379, 380, 383,\n",
    "       385, 387, 388, 390, 391, 393, 400, 402, 406, 408, 409, 411, 412,\n",
    "       413, 414, 418, 420, 421, 422, 425, 427, 430, 431, 432, 433, 434,\n",
    "       435, 439, 441, 443, 446, 447, 449, 450, 452, 454, 457, 458, 463,\n",
    "       467, 473, 474, 475, 477, 479, 483, 484, 486, 488, 490, 493, 495,\n",
    "       496, 497, 498, 501, 504, 506, 509, 510, 511, 515, 516, 524, 526,\n",
    "       527, 528, 529, 530, 532, 534, 535, 541, 544, 545, 553, 554, 555,\n",
    "       563, 566, 571, 572, 578, 580, 582, 586, 587, 588, 589, 590, 591,\n",
    "       592, 595, 596, 597, 599, 600, 601, 603, 605, 607, 608, 615, 616,\n",
    "       618, 620, 622, 626, 629, 630, 631, 642, 643, 644, 648, 649, 650,\n",
    "       653, 654, 655, 657, 660, 662, 663, 664, 668, 669, 671, 672, 675,\n",
    "       677, 679, 681, 682, 684, 686, 688, 689, 690, 691, 695, 696, 697,\n",
    "       699, 700, 702, 703, 704, 705, 706, 712, 713, 715, 716, 723, 724,\n",
    "       726, 727, 730, 731, 732, 736, 737, 738, 739, 740, 746, 748, 752,\n",
    "       756, 759, 761, 765, 766, 767, 772, 773, 775, 776, 778, 781, 785,\n",
    "       786, 791, 792, 794, 796, 798, 801, 804, 807, 817, 818, 821, 824,\n",
    "       826]\n",
    "wl_list = np.delete(wl_list, col)\n",
    "col = [1,   3,   7,   8,   9,  14,  16,  17,  20,  23,  27,  28,  29,\n",
    "        30,  31,  32,  36,  38,  39,  41,  48,  51,  54,  56,  58,  59,\n",
    "        60,  61,  63,  64,  67,  71,  72,  73,  75,  76,  78,  81,  82,\n",
    "        84,  87,  89,  90,  93,  94,  96,  97,  98,  99, 101, 105, 109,\n",
    "       111, 112, 115, 117, 118, 119, 121, 122, 124, 126, 131, 133, 136,\n",
    "       137, 139, 140, 144, 146, 149, 150, 152, 153, 159, 162, 166, 167,\n",
    "       168, 171, 173, 182, 183, 184, 187, 188, 189, 190, 192, 195, 197,\n",
    "       198, 200, 208, 211, 212, 213, 214, 215, 217, 220, 221, 223, 230,\n",
    "       237, 238, 239, 240, 242, 247, 249, 251, 255, 256, 258, 263, 264,\n",
    "       267, 269, 272, 273, 278, 281, 282, 284, 286, 289, 291, 294, 295,\n",
    "       297, 299, 300, 301, 303, 306, 307, 308, 309, 310, 312, 316, 320,\n",
    "       322, 324, 325, 326, 328, 333, 334, 335, 339, 341, 342, 343, 347,\n",
    "       349, 350, 351, 353, 356, 361, 363, 368, 371, 376, 379, 380, 382,\n",
    "       391, 394, 395, 402, 403, 406, 407, 411, 412, 413, 414, 415, 416,\n",
    "       423, 424, 426, 427, 428, 429, 430, 431, 433, 435, 438, 439, 440,\n",
    "       442, 445, 449, 453, 456, 457, 458, 459, 466, 470, 471, 472]\n",
    "wl_list = np.delete(wl_list, col)\n",
    "col = [1,   3,   4,   6,   8,  11,  14,  15,  18,  19,  21,  23,  25,\n",
    "        26,  28,  32,  35,  40,  44,  46,  47,  48,  51,  56,  57,  59,\n",
    "        62,  63,  64,  65,  69,  72,  77,  85,  86,  90,  94,  96,  99,\n",
    "       100, 101, 102, 105, 107, 108, 115, 117, 119, 120, 123, 126, 127,\n",
    "       129, 130, 131, 132, 134, 143, 145, 149, 152, 155, 158, 162, 165,\n",
    "       172, 174, 178, 179, 180, 183, 186, 195, 197, 200, 201, 205, 206,\n",
    "       207, 210, 214, 215, 217, 221, 223, 225, 226, 227, 228, 229, 233,\n",
    "       234, 235, 236, 240, 242, 243, 244, 245, 248, 254, 255, 256, 260,\n",
    "       264, 265, 267]\n",
    "wl_list = np.delete(wl_list, col)\n",
    "wl_list"
   ]
  },
  {
   "cell_type": "code",
   "execution_count": 616,
   "id": "32b55065",
   "metadata": {},
   "outputs": [],
   "source": [
    "# ##Show the wavelength selected\n",
    "\n",
    "# wl = np.arange(0, 1557, 1)\n",
    "# print(len(wl))\n",
    "# wavelength_res = wl_list\n",
    "# plt.figure(figsize=(18, 9.5))\n",
    "# with plt.style.context('ggplot'):\n",
    "#     plt.plot(wl, df_pretreat.values[:, :-3].T)\n",
    "#     for i in range(0, (len(wavelength_res)-1)):\n",
    "#         plt.axvline(x=wavelength_res[i], color='r', label='axvline - full height')\n",
    "#     plt.xlabel(\"Wavelengths (nm)\")\n",
    "#     plt.ylabel(\"D2 Absorbance\")\n",
    "#     plt.show()"
   ]
  },
  {
   "cell_type": "code",
   "execution_count": 617,
   "id": "eedf1a8e",
   "metadata": {},
   "outputs": [
    {
     "data": {
      "text/plain": [
       "161"
      ]
     },
     "execution_count": 617,
     "metadata": {},
     "output_type": "execute_result"
    }
   ],
   "source": [
    "len(wl_list)"
   ]
  },
  {
   "cell_type": "code",
   "execution_count": 34,
   "id": "6956f605",
   "metadata": {},
   "outputs": [
    {
     "data": {
      "text/plain": [
       "array([  23,   27,   43,   69,  102,  160,  204,  262,  270,  281,  292,\n",
       "        317,  321,  398,  399,  416,  475,  486,  552,  553,  556,  600,\n",
       "        620,  628,  636,  640,  659,  674,  697,  701,  708,  741,  799,\n",
       "        834,  867,  899,  909,  917,  920,  954,  963,  991, 1002, 1079,\n",
       "       1097, 1107, 1178, 1205, 1208, 1280, 1302, 1308, 1328, 1335, 1342,\n",
       "       1360, 1487, 1495, 1496, 1513, 1514, 1522, 1553])"
      ]
     },
     "execution_count": 34,
     "metadata": {},
     "output_type": "execute_result"
    }
   ],
   "source": [
    "#Wavelength to keep\n",
    "wl_list = np.arange(0, 1557, 1)\n",
    "col = [0,2,3,4,5,7,10,11,13,14,15,17,20,24,26,29,30,31,35,36,40,41,42,44,48,49,50,58,64,67,70,71,72,73,74,76,78,79,81,82,83,86,87,89,95,99,100,101,108,109,110,111,112,113,114,115,117,118,119,122,124,125,128,129,136,137,139,140,142,143,145,147,148,150,151,153,155,159,164,168,169,170,171,173,176,177,185,186,188,189,191,192,194,197,199,200,202,209,212,214,215,216,218,219,222,227,228,231,232,234,235,236,238,239,242,244,246,248,252,253,255,257,260,261,272,276,277,283,284,285,290,293,295,297,300,303,304,305,306,310,311,314,315,318,320,322,325,326,328,329,331,332,333,334,336,338,346,347,348,349,350,352,353,354,355,357,362,363,364,367,368,374,375,378,381,383,384,385,386,387,389,392,393,395,396,401,402,403,406,409,410,412,417,418,421,428,429,430,432,433,434,435,438,441,443,444,450,453,456,457,459,462,464,465,466,467,469,477,485,488,490,496,497,500,503,504,505,511,514,515,516,520,522,523,530,536,538,539,541,543,544,545,546,562,564,565,566,567,570,571,572,574,575,576,577,578,579,580,582,583,585,586,587,588,589,592,593,594,595,597,598,602,604,609,612,615,622,623,626,627,632,634,637,639,644,645,646,648,649,653,656,657,658,662,663,666,668,669,670,673,677,680,683,684,686,688,690,691,696,699,704,705,707,713,720,721,723,724,725,726,727,729,736,750,752,768,770,772,774,775,778,779,782,783,784,786,787,788,794,798,800,806,809,813,814,824,825,830,831,838,841,843,844,847,849,851,852,856,858,859,861,862,863,864,865,866,877,884,885,886,894,896,897,901,902,906,907,910,916,918,925,932,933,935,939,941,944,946,947,951,953,960,961,970,971,977,981,984,989,992,994,995,997,999,1000,1001,1005,1008,1015,1022,1027,1029,1030,1031,1034,1035,1036,1037,1039,1045,1048,1052,1054,1060,1061,1062,1069,1071,1072,1073,1075,1076,1078,1081,1084,1086,1092,1094,1095,1098,1100,1104,1109,1111,1113,1114,1115,1117,1119,1120,1121,1122,1126,1127,1128,1134,1136,1137,1138,1139,1140,1143,1144,1145,1146,1147,1148,1149,1152,1153,1154,1157,1158,1159,1160,1161,1166,1168,1169,1171,1174,1176,1179,1180,1185,1187,1188,1189,1191,1197,1198,1199,1202,1204,1206,1212,1213,1220,1224,1229,1231,1232,1234,1237,1238,1239,1240,1241,1243,1244,1245,1246,1249,1252,1255,1256,1257,1259,1262,1263,1264,1267,1268,1269,1271,1274,1277,1281,1284,1285,1286,1290,1291,1293,1297,1299,1303,1305,1306,1311,1312,1314,1317,1319,1320,1322,1324,1327,1329,1331,1333,1334,1337,1340,1341,1344,1347,1348,1349,1354,1357,1358,1359,1361,1368,1369,1370,1371,1373,1374,1375,1377,1378,1379,1383,1384,1386,1389,1391,1395,1399,1400,1401,1402,1405,1406,1407,1412,1422,1424,1427,1429,1430,1431,1432,1433,1445,1446,1449,1451,1452,1455,1464,1466,1467,1468,1470,1472,1474,1475,1476,1477,1479,1482,1483,1484,1489,1492,1501,1503,1506,1509,1512,1516,1518,1520,1521,1523,1524,1525,1530,1533,1534,1535,1536,1538,1540,1543,1544,1547,1549,1550,1551,1554,1555]\n",
    "\n",
    "wl_list = np.delete(wl_list, col)\n",
    "###If needed ##\n",
    "col = [6,   7,  14,  15,  18,  23,  25,  26,  27,  28,  29,  32,  34,\n",
    "        36,  41,  44,  45,  46,  47,  52,  56,  59,  60,  61,  62,  63,\n",
    "        67,  68,  69,  70,  72,  73,  74,  76,  80,  81,  83,  85,  87,\n",
    "        91,  93,  95,  96,  98,  99, 100, 102, 103, 105, 106, 109, 111,\n",
    "       115, 117, 120, 125, 126, 129, 130, 131, 132, 133, 136, 137, 142,\n",
    "       143, 144, 145, 147, 150, 151, 152, 153, 157, 162, 164, 167, 168,\n",
    "       170, 180, 181, 182, 183, 185, 189, 190, 191, 193, 194, 195, 197,\n",
    "       200, 201, 202, 203, 207, 208, 210, 217, 219, 222, 228, 229, 231,\n",
    "       233, 234, 235, 239, 244, 247, 252, 256, 260, 262, 263, 270, 271,\n",
    "       273, 274, 281, 282, 284, 287, 289, 294, 295, 296, 299, 305, 308,\n",
    "       312, 322, 325, 327, 332, 334, 335, 336, 342, 343, 345, 346, 350,\n",
    "       352, 353, 361, 372, 376, 380, 387, 390, 394, 398, 400, 402, 406,\n",
    "       407, 408, 410, 411, 413, 414, 421, 422, 423, 424, 425, 426, 427,\n",
    "       428, 429, 431, 435, 436, 438, 441, 442, 444, 445, 453, 454, 455,\n",
    "       456, 460, 461, 465, 467, 469, 472, 475, 477, 479, 480, 482, 484,\n",
    "       489, 490, 493, 494, 498, 499, 500, 502, 509, 511, 513, 516, 517,\n",
    "       518, 521, 523, 524, 527, 529, 533, 535, 536, 542, 544, 546, 551,\n",
    "       552, 554, 555, 556, 557, 558, 561, 562, 564, 567, 568, 573, 576,\n",
    "       580, 581, 584, 586, 589, 590, 591, 593, 594, 597, 598, 600, 601,\n",
    "       602, 607, 608, 610, 611, 613, 614, 615, 616, 619, 621, 623, 624,\n",
    "       626, 628, 629, 630, 632, 633, 635, 637, 644, 647, 650, 653, 657,\n",
    "       662, 669, 670, 671, 674, 675, 679, 680, 682, 684, 685, 690, 691,\n",
    "       693, 697, 698, 700, 704, 706, 707, 708, 709, 710, 715, 720, 721,\n",
    "       724, 726, 729, 734, 735, 736, 738, 740, 742, 743, 744, 745, 747,\n",
    "       748, 749, 750, 751, 752, 755, 758, 760, 763, 767, 770, 771, 772,\n",
    "       775, 779, 784, 786, 788, 790, 795, 801, 802, 805, 806, 807, 808,\n",
    "       810, 811, 813, 816, 819, 820, 821, 822, 823, 824, 827, 833, 834,\n",
    "       837, 838, 840, 842, 843, 848, 850, 855, 858, 860, 861, 863, 864,\n",
    "       865, 866, 872, 873, 874, 880, 882, 883, 885, 887, 889, 892, 897,\n",
    "       899, 900, 901, 902, 903, 904, 906, 907, 908, 909]\n",
    "wl_list = np.delete(wl_list, col)\n",
    "col = [ 0,   1,   6,   7,   9,  16,  17,  18,  20,  22,  23,  27,  28,\n",
    "        31,  32,  37,  39,  42,  43,  48,  50,  51,  52,  53,  56,  58,\n",
    "        60,  67,  69,  70,  71,  75,  77,  79,  84,  89,  90,  91,  93,\n",
    "        96,  98,  99, 101, 102, 103, 104, 108, 110, 113, 114, 119, 121,\n",
    "       122, 124, 126, 127, 131, 132, 133, 136, 138, 142, 143, 148, 151,\n",
    "       153, 154, 159, 162, 165, 166, 167, 169, 171, 172, 174, 175, 176,\n",
    "       177, 178, 185, 186, 187, 190, 193, 197, 200, 202, 203, 208, 214,\n",
    "       215, 218, 219, 224, 226, 228, 232, 233, 234, 236, 237, 239, 242,\n",
    "       248, 249, 250, 252, 255, 258, 263, 266, 268, 269, 271, 272, 275,\n",
    "       279, 283, 284, 286, 289, 291, 292, 295, 296, 297, 300, 302, 303,\n",
    "       304, 305, 308, 310, 313, 315, 316, 322, 325, 328, 329, 331, 332,\n",
    "       333, 337, 339, 341, 342, 344, 347, 350, 352, 354, 356, 362, 363,\n",
    "       364, 368, 369, 375, 376, 378, 381, 384, 389, 390, 394, 395, 396,\n",
    "       398, 399, 402, 403, 407, 408, 410, 413, 418, 420, 421, 422, 423,\n",
    "       426, 428, 430, 432, 433, 437, 438, 439, 440, 441, 443, 444, 448,\n",
    "       449, 450, 451, 452, 454, 455, 460, 463, 468, 470, 471, 474, 476,\n",
    "       478, 479, 480, 482, 483, 485, 486, 488, 489, 490, 492, 493, 494,\n",
    "       498, 500, 502, 503, 510, 511, 513, 514, 518]\n",
    "wl_list = np.delete(wl_list, col)\n",
    "col = [ 1,   3,   8,  12,  13,  15,  18,  20,  22,  24,  25,  26,  28,\n",
    "        31,  35,  37,  38,  39,  40,  41,  42,  46,  48,  49,  53,  54,\n",
    "        60,  61,  62,  64,  68,  69,  71,  72,  73,  75,  80,  85,  88,\n",
    "        96, 104, 108, 111, 113, 114, 116, 118, 120, 123, 127, 132, 133,\n",
    "       134, 138, 141, 143, 144, 149, 151, 152, 154, 155, 160, 162, 164,\n",
    "       165, 169, 173, 180, 182, 186, 187, 194, 196, 197, 202, 203, 207,\n",
    "       208, 209, 211, 212, 213, 214, 215, 218, 224, 227, 228, 230, 232,\n",
    "       233, 235, 237, 242, 245, 246, 248, 250, 252, 260, 261, 267, 268,\n",
    "       270, 271, 272, 274, 276, 279, 282, 288, 290, 292, 294]\n",
    "wl_list = np.delete(wl_list, col)\n",
    "\n",
    "col = [  14,  16,  23,  32,  39,  41,  43,  45,  51,  52,  56,  57,  58,\n",
    "        66,  67,  78,  79,  98, 103, 106, 109, 117, 119, 123, 124, 127,\n",
    "       129, 132, 133, 134, 136, 137, 140, 141, 145, 147, 149, 150, 156,\n",
    "       159, 162, 163, 166, 167, 168, 169, 171]\n",
    "wl_list = np.delete(wl_list, col)\n",
    "\n",
    "col = [  0,   1,   4,   5,   6,  15,  17,  19,  29,  30,  39,  40,  43,\n",
    "        48,  61,  70,  78,  79,  87,  88,  89,  92,  95,  97,  99, 102,\n",
    "       103, 107, 109, 112, 121, 122, 123, 127, 131]\n",
    "wl_list = np.delete(wl_list, col)\n",
    "\n",
    "col = [  3, 15, 16, 18, 25, 26, 27, 31, 32, 36, 37, 38, 40, 48, 54, 55, 58,\n",
    "       59, 60, 61, 63, 65, 89]\n",
    "wl_list = np.delete(wl_list, col)\n",
    "\n",
    "col = [ 4,  5,  7, 10, 19, 23, 32, 33, 36, 40, 43, 45]\n",
    "wl_list = np.delete(wl_list, col)\n",
    "wl_list"
   ]
  },
  {
   "cell_type": "code",
   "execution_count": 38,
   "id": "230c471a",
   "metadata": {},
   "outputs": [
    {
     "name": "stdout",
     "output_type": "stream",
     "text": [
      "1557\n"
     ]
    },
    {
     "data": {
      "image/png": "[encoded data removed]",
      "text/plain": [
       "<Figure size 1296x684 with 1 Axes>"
      ]
     },
     "metadata": {
      "needs_background": "light"
     },
     "output_type": "display_data"
    }
   ],
   "source": [
    "##Show the wavelength selected\n",
    "\n",
    "wl = np.arange(0, 1557, 1)\n",
    "print(len(wl))\n",
    "wavelength_res = wl_list\n",
    "plt.figure(figsize=(18, 9.5))\n",
    "with plt.style.context('ggplot'):\n",
    "    plt.plot(df.iloc[:,1:-2].columns.astype('float'), df_pretreat.values[:, :-3].T)\n",
    "    for i in wavelength_res:\n",
    "        plt.axvline(x=df.iloc[:,1:-2].columns.astype('float')[i], color='r', label='axvline - full height')\n",
    "    plt.xlabel(\"Wavelengths (nm)\")\n",
    "    plt.ylabel(\"D2 Absorbance\")\n",
    "    plt.show()"
   ]
  },
  {
   "cell_type": "code",
   "execution_count": 39,
   "id": "b06b6dd5",
   "metadata": {},
   "outputs": [
    {
     "name": "stdout",
     "output_type": "stream",
     "text": [
      "1557\n"
     ]
    },
    {
     "data": {
      "image/png": "[encoded data removed]",
      "text/plain": [
       "<Figure size 576x324 with 1 Axes>"
      ]
     },
     "metadata": {
      "needs_background": "light"
     },
     "output_type": "display_data"
    }
   ],
   "source": [
    "wl = np.arange(0, 1557, 1)\n",
    "print(len(wl))\n",
    "wavelength_res = wl_list\n",
    "plt.figure(figsize=(8, 4.5))\n",
    "with plt.style.context('ggplot'):\n",
    "    plt.plot(df.iloc[:,1:-2].columns.astype('float'), df_pretreat.values[:, :-3].T)\n",
    "    for i in wavelength_res:\n",
    "        plt.axvline(x=df.iloc[:,1:-2].columns.astype('float')[i], color='r', label='axvline - full height')\n",
    "    plt.xlabel(\"Wavelengths (nm)\")\n",
    "    plt.ylabel(\"D2 Absorbance\")\n",
    "    plt.show()"
   ]
  },
  {
   "cell_type": "code",
   "execution_count": null,
   "id": "e130f1f7",
   "metadata": {},
   "outputs": [],
   "source": []
  }
 ],
 "metadata": {
  "kernelspec": {
   "display_name": "base",
   "language": "python",
   "name": "python3"
  },
  "language_info": {
   "codemirror_mode": {
    "name": "ipython",
    "version": 3
   },
   "file_extension": ".py",
   "mimetype": "text/x-python",
   "name": "python",
   "nbconvert_exporter": "python",
   "pygments_lexer": "ipython3",
   "version": "3.9.7"
  },
  "vscode": {
   "interpreter": {
    "hash": "f495aec6bb42f5bf50edc3d7c3c03d5f8869c4ec116315d269d15969b9ab482a"
   }
  }
 },
 "nbformat": 4,
 "nbformat_minor": 5
}
