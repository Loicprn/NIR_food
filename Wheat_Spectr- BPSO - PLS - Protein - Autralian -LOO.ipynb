{
 "cells": [
  {
   "cell_type": "code",
   "execution_count": 1,
   "id": "79c1089e",
   "metadata": {},
   "outputs": [],
   "source": [
    "import plotly.express as px\n",
    "import pandas as pd\n",
    "import numpy as np\n",
    "import matplotlib.pyplot as plt\n",
    "from numpy import alen, arange\n",
    "import math\n",
    "from math import sqrt\n",
    "from sklearn.model_selection import KFold\n",
    "from sklearn.linear_model import LinearRegression\n",
    "from sklearn.model_selection import cross_val_score\n",
    "from sklearn.model_selection import LeaveOneOut\n",
    "from sklearn.ensemble import AdaBoostRegressor\n",
    "from sklearn.pipeline import make_pipeline\n",
    "from sklearn.ensemble import RandomForestRegressor\n",
    "from sklearn.ensemble import GradientBoostingRegressor\n",
    "from sklearn.linear_model import LinearRegression\n",
    "from sklearn.ensemble import VotingRegressor\n",
    "\n",
    "from sklearn.svm import SVR\n",
    "#### PLS\n",
    "from sklearn.cross_decomposition import PLSRegression\n",
    "from sklearn.model_selection import cross_val_predict\n",
    "from sklearn.metrics import mean_squared_error, r2_score\n",
    "from scipy.signal import savgol_filter\n",
    "from sklearn.preprocessing import StandardScaler\n",
    "from sklearn import preprocessing\n",
    "from sklearn.model_selection import train_test_split\n",
    "from scipy.signal import savgol_filter"
   ]
  },
  {
   "cell_type": "code",
   "execution_count": 2,
   "id": "66e3b728",
   "metadata": {},
   "outputs": [],
   "source": [
    "#BPSO\n",
    "\n",
    "def pls_optimise_components(X, y, npc):\n",
    " \n",
    "    rmsecv = np.zeros(npc)\n",
    "    for i in range(1,npc+1,1):\n",
    " \n",
    "        # Simple PLS\n",
    "        pls_simple = PLSRegression(n_components=i)\n",
    "        # Fit\n",
    "        pls_simple.fit(X, y)\n",
    "        #cv = LeaveOneOut()\n",
    "        cv=10\n",
    "        # Cross-validation\n",
    "        y_cv = cross_val_predict(pls_simple, X, y, cv=cv)\n",
    " \n",
    "        # Calculate scores\n",
    "        score = r2_score(y, y_cv)\n",
    "        rmsecv[i-1] = np.sqrt(mean_squared_error(y, y_cv))\n",
    " \n",
    "    # Find the minimum of ther RMSE and its location\n",
    "    opt_comp, rmsecv_min = np.argmin(rmsecv),  rmsecv[np.argmin(rmsecv)]\n",
    " \n",
    "    return (opt_comp+1, rmsecv_min)\n",
    "\n",
    "def base_pls(X,y,n_components, return_model=False):\n",
    " \n",
    "    # Simple PLS\n",
    "    pls_simple = PLSRegression(n_components=n_components)\n",
    "    # Fit\n",
    "    pls_simple.fit(X, y)\n",
    "    cv = 10\n",
    "    # Cross-validation\n",
    "    y_cv = cross_val_predict(pls_simple, X, y, cv=cv)\n",
    " \n",
    "    # Calculate scores\n",
    "    score = r2_score(y, y_cv)\n",
    "    rmsecv = np.sqrt(mean_squared_error(y, y_cv))\n",
    " \n",
    "    if return_model == False:\n",
    "        return(y_cv, score, rmsecv)\n",
    "    else:\n",
    "        return(y_cv, score, rmsecv, pls_simple)\n",
    "    \n",
    "from sklearn import linear_model\n",
    "from sklearn.linear_model import LinearRegression\n",
    "from sklearn.metrics import r2_score\n",
    "# Create an instance \n",
    "#reg = linear_model.LinearRegression\n",
    "\n",
    "# Define objective function\n",
    "def f_per_particle(m, alpha):\n",
    "    \"\"\"Computes for the objective function per particle\n",
    "\n",
    "    Inputs\n",
    "    ------\n",
    "    m : numpy.ndarray\n",
    "        Binary mask that can be obtained from BinaryPSO, will\n",
    "        be used to mask features.\n",
    "    alpha: float (default is 0.5)\n",
    "        Constant weight for trading-off classifier performance\n",
    "        and number of features\n",
    "\n",
    "    Returns\n",
    "    -------\n",
    "    numpy.ndarray\n",
    "        Computed objective function\n",
    "    \"\"\"\n",
    "    \n",
    "    total_features = dimensions\n",
    "    # Get the subset of the features from the binary mask\n",
    "\n",
    "    #X_sav = savgol_filter(X_train, 3, polyorder=2, deriv=1)\n",
    "\n",
    "    if np.count_nonzero(m) == 0:\n",
    "        X_subset = X_train\n",
    "    else:\n",
    "        X_subset = X_train[:,m==1]\n",
    "\n",
    "    \n",
    " \n",
    "\n",
    "    # #regr = make_pipeline(StandardScaler(), SVR())\n",
    "    # #regr = make_pipeline(StandardScaler(), RandomForestRegressor(max_depth=5, random_state=1))\n",
    "    # #regr = make_pipeline(StandardScaler(), SVR(C = 0.5, degree= 1, kernel= 'rbf',epsilon= 0.16))\n",
    "    # #X1 = savgol_filter(X_subset, 3, polyorder=2, deriv=1)\n",
    "    # reg1 = GradientBoostingRegressor(random_state=1)\n",
    "    # #reg2 = RandomForestRegressor(random_state=1)\n",
    "    # opt_comp, rmsecv_min = pls_optimise_components(X_subset, y_train_oleo, 8)\n",
    "    # reg3 = PLSRegression(n_components=opt_comp)\n",
    "    # #reg3 = PLSRegression(n_components=5)\n",
    "    # #reg3 = LinearRegression()\n",
    "    # ereg = VotingRegressor(estimators=[('gb', reg1), ('plsr', reg3)])\n",
    "    # ereg = ereg.fit(X_subset, y_train_oleo)\n",
    "    # #regr.fit(X_subset, y_train_oleo)\n",
    "    # y_pred = cross_val_predict(ereg, X_subset, y_train_oleo, cv=10)\n",
    "    # #y_pred = ereg.predict(X_subset)\n",
    "    # #y_pred = regr.predict(X1)\n",
    "    # #r2cv = mean_squared_error(y_train_oleo, y_pred)\n",
    "    # r2cv = r2_score(y_train_oleo, y_pred)\n",
    "    # P = r2cv\n",
    "    # #P = (classifier.predict(X_subset) == y).mean()\n",
    "    # # Compute for the objective function\n",
    "    # j = (alpha * (1.0 - P)\n",
    "    #     + (1.0 - alpha) * (1 - (X_subset.shape[1] / total_features)))\n",
    "\n",
    "\n",
    "\n",
    "    opt_comp, rmsecv_min = pls_optimise_components(X_subset, y_train_oleo, 8)\n",
    "    predicted, r2cv, rmscv = base_pls(X_subset, y_train_oleo, opt_comp)\n",
    "    \n",
    "    P = r2cv\n",
    "    #P = (classifier.predict(X_subset) == y).mean()\n",
    "    # Compute for the objective function\n",
    "    j = (alpha * (1.0 - P)\n",
    "        + (1.0 - alpha) * (1 - (X_subset.shape[1] / total_features)))\n",
    "\n",
    "    return j\n",
    "\n",
    "def f(x, alpha=0.88):\n",
    "    \"\"\"Higher-level method to do classification in the\n",
    "    whole swarm.\n",
    "\n",
    "    Inputs\n",
    "    ------\n",
    "    x: numpy.ndarray of shape (n_particles, dimensions)\n",
    "        The swarm that will perform the search\n",
    "\n",
    "    Returns\n",
    "    -------\n",
    "    numpy.ndarray of shape (n_particles, )\n",
    "        The computed loss for each particle\n",
    "    \"\"\"\n",
    "    n_particles = x.shape[0]\n",
    "    j = [f_per_particle(x[i], alpha) for i in range(n_particles)]\n",
    "    return np.array(j)\n",
    "\n",
    "def snv(input_data):\n",
    "  \n",
    "    # Define a new array and populate it with the corrected data  \n",
    "    output_data = np.zeros_like(input_data)\n",
    "    for i in range(input_data.shape[0]):\n",
    " \n",
    "        # Apply correction\n",
    "        output_data[i,:] = (input_data[i,:] - np.mean(input_data[i,:])) / np.std(input_data[i,:])\n",
    " \n",
    "    return output_data\n",
    "\n",
    "def msc(input_data):\n",
    "     # mean centre correction\n",
    "    for i in range(input_data.shape[0]):\n",
    "        input_data[i,:] -= input_data[i,:].mean()\n",
    " \n",
    "    # Get the reference spectrum. If not given, estimate it from the mean    \n",
    "\n",
    "    # Calculate mean\n",
    "    ref = np.mean(input_data, axis=0)\n",
    "\n",
    " \n",
    "    # Define a new array and populate it with the corrected data    \n",
    "    output_data= np.zeros_like(input_data)\n",
    "    for i in range(input_data.shape[0]):\n",
    "        # Run regression\n",
    "        fit = np.polyfit(ref, input_data[i,:], 1, full=True)\n",
    "        # Apply correction\n",
    "        output_data[i,:] = (input_data[i,:] - fit[0][1]) / fit[0][0] \n",
    "    return output_data"
   ]
  },
  {
   "cell_type": "code",
   "execution_count": 3,
   "id": "a70d7488",
   "metadata": {},
   "outputs": [],
   "source": [
    "pd.set_option('display.max_rows', None)\n",
    "df = pd.read_csv('Data/Wheat/Wheat_mean_NIR_data_65_samples.csv')"
   ]
  },
  {
   "cell_type": "code",
   "execution_count": 4,
   "id": "6e065140",
   "metadata": {},
   "outputs": [
    {
     "data": {
      "text/html": [
       "<div>\n",
       "<style scoped>\n",
       "    .dataframe tbody tr th:only-of-type {\n",
       "        vertical-align: middle;\n",
       "    }\n",
       "\n",
       "    .dataframe tbody tr th {\n",
       "        vertical-align: top;\n",
       "    }\n",
       "\n",
       "    .dataframe thead th {\n",
       "        text-align: right;\n",
       "    }\n",
       "</style>\n",
       "<table border=\"1\" class=\"dataframe\">\n",
       "  <thead>\n",
       "    <tr style=\"text-align: right;\">\n",
       "      <th></th>\n",
       "      <th>Sample</th>\n",
       "      <th>Batch</th>\n",
       "      <th>Order</th>\n",
       "      <th>TP</th>\n",
       "      <th>CUPRAC</th>\n",
       "      <th>FRAP</th>\n",
       "      <th>TMA</th>\n",
       "      <th>Moisture</th>\n",
       "      <th>Protein</th>\n",
       "      <th>999.8970106</th>\n",
       "      <th>...</th>\n",
       "      <th>2478.712814</th>\n",
       "      <th>2481.08483</th>\n",
       "      <th>2483.461389</th>\n",
       "      <th>2485.842505</th>\n",
       "      <th>2488.227573</th>\n",
       "      <th>2490.617843</th>\n",
       "      <th>2493.012709</th>\n",
       "      <th>2495.412185</th>\n",
       "      <th>2497.816284</th>\n",
       "      <th>2500.22502</th>\n",
       "    </tr>\n",
       "  </thead>\n",
       "  <tbody>\n",
       "    <tr>\n",
       "      <th>0</th>\n",
       "      <td>W1</td>\n",
       "      <td>1</td>\n",
       "      <td>1</td>\n",
       "      <td>177.256315</td>\n",
       "      <td>366.709718</td>\n",
       "      <td>56.286815</td>\n",
       "      <td>0.000000</td>\n",
       "      <td>10.1</td>\n",
       "      <td>13.904338</td>\n",
       "      <td>0.264490</td>\n",
       "      <td>...</td>\n",
       "      <td>0.993593</td>\n",
       "      <td>0.996831</td>\n",
       "      <td>0.998601</td>\n",
       "      <td>1.000223</td>\n",
       "      <td>1.001534</td>\n",
       "      <td>1.001571</td>\n",
       "      <td>1.002851</td>\n",
       "      <td>1.004485</td>\n",
       "      <td>1.004250</td>\n",
       "      <td>1.002066</td>\n",
       "    </tr>\n",
       "    <tr>\n",
       "      <th>1</th>\n",
       "      <td>W2</td>\n",
       "      <td>1</td>\n",
       "      <td>2</td>\n",
       "      <td>153.408515</td>\n",
       "      <td>290.123902</td>\n",
       "      <td>53.543083</td>\n",
       "      <td>2.511161</td>\n",
       "      <td>8.7</td>\n",
       "      <td>14.786418</td>\n",
       "      <td>0.283164</td>\n",
       "      <td>...</td>\n",
       "      <td>1.031166</td>\n",
       "      <td>1.033582</td>\n",
       "      <td>1.035195</td>\n",
       "      <td>1.037318</td>\n",
       "      <td>1.038840</td>\n",
       "      <td>1.038373</td>\n",
       "      <td>1.038098</td>\n",
       "      <td>1.039568</td>\n",
       "      <td>1.039971</td>\n",
       "      <td>1.039888</td>\n",
       "    </tr>\n",
       "    <tr>\n",
       "      <th>2</th>\n",
       "      <td>W3</td>\n",
       "      <td>1</td>\n",
       "      <td>3</td>\n",
       "      <td>167.788770</td>\n",
       "      <td>433.513709</td>\n",
       "      <td>54.841090</td>\n",
       "      <td>0.235243</td>\n",
       "      <td>10.4</td>\n",
       "      <td>12.500000</td>\n",
       "      <td>0.276600</td>\n",
       "      <td>...</td>\n",
       "      <td>1.048032</td>\n",
       "      <td>1.050699</td>\n",
       "      <td>1.051539</td>\n",
       "      <td>1.053081</td>\n",
       "      <td>1.054179</td>\n",
       "      <td>1.054097</td>\n",
       "      <td>1.053567</td>\n",
       "      <td>1.053987</td>\n",
       "      <td>1.054386</td>\n",
       "      <td>1.052976</td>\n",
       "    </tr>\n",
       "    <tr>\n",
       "      <th>3</th>\n",
       "      <td>W4</td>\n",
       "      <td>1</td>\n",
       "      <td>4</td>\n",
       "      <td>161.171271</td>\n",
       "      <td>281.405362</td>\n",
       "      <td>57.062854</td>\n",
       "      <td>9.228084</td>\n",
       "      <td>11.6</td>\n",
       "      <td>14.819005</td>\n",
       "      <td>0.284350</td>\n",
       "      <td>...</td>\n",
       "      <td>1.066802</td>\n",
       "      <td>1.069377</td>\n",
       "      <td>1.071662</td>\n",
       "      <td>1.075393</td>\n",
       "      <td>1.077126</td>\n",
       "      <td>1.075814</td>\n",
       "      <td>1.075846</td>\n",
       "      <td>1.076120</td>\n",
       "      <td>1.076186</td>\n",
       "      <td>1.076950</td>\n",
       "    </tr>\n",
       "    <tr>\n",
       "      <th>4</th>\n",
       "      <td>W5</td>\n",
       "      <td>1</td>\n",
       "      <td>5</td>\n",
       "      <td>143.785691</td>\n",
       "      <td>309.539558</td>\n",
       "      <td>55.627153</td>\n",
       "      <td>0.590040</td>\n",
       "      <td>10.9</td>\n",
       "      <td>16.722783</td>\n",
       "      <td>0.294623</td>\n",
       "      <td>...</td>\n",
       "      <td>1.007914</td>\n",
       "      <td>1.010732</td>\n",
       "      <td>1.012537</td>\n",
       "      <td>1.013475</td>\n",
       "      <td>1.015025</td>\n",
       "      <td>1.014866</td>\n",
       "      <td>1.015861</td>\n",
       "      <td>1.016620</td>\n",
       "      <td>1.016702</td>\n",
       "      <td>1.016687</td>\n",
       "    </tr>\n",
       "  </tbody>\n",
       "</table>\n",
       "<p>5 rows × 1566 columns</p>\n",
       "</div>"
      ],
      "text/plain": [
       "  Sample  Batch  Order          TP      CUPRAC       FRAP       TMA  Moisture  \\\n",
       "0     W1      1      1  177.256315  366.709718  56.286815  0.000000      10.1   \n",
       "1     W2      1      2  153.408515  290.123902  53.543083  2.511161       8.7   \n",
       "2     W3      1      3  167.788770  433.513709  54.841090  0.235243      10.4   \n",
       "3     W4      1      4  161.171271  281.405362  57.062854  9.228084      11.6   \n",
       "4     W5      1      5  143.785691  309.539558  55.627153  0.590040      10.9   \n",
       "\n",
       "     Protein  999.8970106  ...  2478.712814  2481.08483  2483.461389  \\\n",
       "0  13.904338     0.264490  ...     0.993593    0.996831     0.998601   \n",
       "1  14.786418     0.283164  ...     1.031166    1.033582     1.035195   \n",
       "2  12.500000     0.276600  ...     1.048032    1.050699     1.051539   \n",
       "3  14.819005     0.284350  ...     1.066802    1.069377     1.071662   \n",
       "4  16.722783     0.294623  ...     1.007914    1.010732     1.012537   \n",
       "\n",
       "   2485.842505  2488.227573  2490.617843  2493.012709  2495.412185  \\\n",
       "0     1.000223     1.001534     1.001571     1.002851     1.004485   \n",
       "1     1.037318     1.038840     1.038373     1.038098     1.039568   \n",
       "2     1.053081     1.054179     1.054097     1.053567     1.053987   \n",
       "3     1.075393     1.077126     1.075814     1.075846     1.076120   \n",
       "4     1.013475     1.015025     1.014866     1.015861     1.016620   \n",
       "\n",
       "   2497.816284  2500.22502  \n",
       "0     1.004250    1.002066  \n",
       "1     1.039971    1.039888  \n",
       "2     1.054386    1.052976  \n",
       "3     1.076186    1.076950  \n",
       "4     1.016702    1.016687  \n",
       "\n",
       "[5 rows x 1566 columns]"
      ]
     },
     "execution_count": 4,
     "metadata": {},
     "output_type": "execute_result"
    }
   ],
   "source": [
    "df.head()"
   ]
  },
  {
   "cell_type": "code",
   "execution_count": 5,
   "id": "e99e3448",
   "metadata": {},
   "outputs": [
    {
     "data": {
      "text/html": [
       "<div>\n",
       "<style scoped>\n",
       "    .dataframe tbody tr th:only-of-type {\n",
       "        vertical-align: middle;\n",
       "    }\n",
       "\n",
       "    .dataframe tbody tr th {\n",
       "        vertical-align: top;\n",
       "    }\n",
       "\n",
       "    .dataframe thead th {\n",
       "        text-align: right;\n",
       "    }\n",
       "</style>\n",
       "<table border=\"1\" class=\"dataframe\">\n",
       "  <thead>\n",
       "    <tr style=\"text-align: right;\">\n",
       "      <th></th>\n",
       "      <th>Batch</th>\n",
       "      <th>Order</th>\n",
       "      <th>TP</th>\n",
       "      <th>CUPRAC</th>\n",
       "      <th>FRAP</th>\n",
       "      <th>TMA</th>\n",
       "      <th>Moisture</th>\n",
       "      <th>Protein</th>\n",
       "      <th>999.8970106</th>\n",
       "      <th>1000.28298</th>\n",
       "      <th>...</th>\n",
       "      <th>2478.712814</th>\n",
       "      <th>2481.08483</th>\n",
       "      <th>2483.461389</th>\n",
       "      <th>2485.842505</th>\n",
       "      <th>2488.227573</th>\n",
       "      <th>2490.617843</th>\n",
       "      <th>2493.012709</th>\n",
       "      <th>2495.412185</th>\n",
       "      <th>2497.816284</th>\n",
       "      <th>2500.22502</th>\n",
       "    </tr>\n",
       "  </thead>\n",
       "  <tbody>\n",
       "    <tr>\n",
       "      <th>count</th>\n",
       "      <td>65.000000</td>\n",
       "      <td>65.00000</td>\n",
       "      <td>65.000000</td>\n",
       "      <td>17.000000</td>\n",
       "      <td>65.000000</td>\n",
       "      <td>65.000000</td>\n",
       "      <td>65.000000</td>\n",
       "      <td>65.000000</td>\n",
       "      <td>65.000000</td>\n",
       "      <td>65.000000</td>\n",
       "      <td>...</td>\n",
       "      <td>65.000000</td>\n",
       "      <td>65.000000</td>\n",
       "      <td>65.000000</td>\n",
       "      <td>65.000000</td>\n",
       "      <td>65.000000</td>\n",
       "      <td>65.000000</td>\n",
       "      <td>65.000000</td>\n",
       "      <td>65.000000</td>\n",
       "      <td>65.000000</td>\n",
       "      <td>65.000000</td>\n",
       "    </tr>\n",
       "    <tr>\n",
       "      <th>mean</th>\n",
       "      <td>1.738462</td>\n",
       "      <td>33.00000</td>\n",
       "      <td>150.098065</td>\n",
       "      <td>352.708476</td>\n",
       "      <td>31.096655</td>\n",
       "      <td>2.357995</td>\n",
       "      <td>11.851231</td>\n",
       "      <td>14.114709</td>\n",
       "      <td>0.262450</td>\n",
       "      <td>0.263598</td>\n",
       "      <td>...</td>\n",
       "      <td>1.015912</td>\n",
       "      <td>1.018007</td>\n",
       "      <td>1.019769</td>\n",
       "      <td>1.021549</td>\n",
       "      <td>1.023116</td>\n",
       "      <td>1.023843</td>\n",
       "      <td>1.024174</td>\n",
       "      <td>1.024359</td>\n",
       "      <td>1.024523</td>\n",
       "      <td>1.024243</td>\n",
       "    </tr>\n",
       "    <tr>\n",
       "      <th>std</th>\n",
       "      <td>0.442893</td>\n",
       "      <td>18.90767</td>\n",
       "      <td>10.953101</td>\n",
       "      <td>48.320131</td>\n",
       "      <td>15.224195</td>\n",
       "      <td>1.977936</td>\n",
       "      <td>1.358467</td>\n",
       "      <td>2.029961</td>\n",
       "      <td>0.013381</td>\n",
       "      <td>0.013966</td>\n",
       "      <td>...</td>\n",
       "      <td>0.032438</td>\n",
       "      <td>0.032584</td>\n",
       "      <td>0.032673</td>\n",
       "      <td>0.032854</td>\n",
       "      <td>0.032833</td>\n",
       "      <td>0.032685</td>\n",
       "      <td>0.032748</td>\n",
       "      <td>0.032733</td>\n",
       "      <td>0.032808</td>\n",
       "      <td>0.032759</td>\n",
       "    </tr>\n",
       "    <tr>\n",
       "      <th>min</th>\n",
       "      <td>1.000000</td>\n",
       "      <td>1.00000</td>\n",
       "      <td>129.700000</td>\n",
       "      <td>266.458447</td>\n",
       "      <td>14.400000</td>\n",
       "      <td>0.000000</td>\n",
       "      <td>8.700000</td>\n",
       "      <td>10.664571</td>\n",
       "      <td>0.248124</td>\n",
       "      <td>0.247141</td>\n",
       "      <td>...</td>\n",
       "      <td>0.925526</td>\n",
       "      <td>0.928191</td>\n",
       "      <td>0.927884</td>\n",
       "      <td>0.928114</td>\n",
       "      <td>0.930028</td>\n",
       "      <td>0.930709</td>\n",
       "      <td>0.930913</td>\n",
       "      <td>0.930114</td>\n",
       "      <td>0.931235</td>\n",
       "      <td>0.932131</td>\n",
       "    </tr>\n",
       "    <tr>\n",
       "      <th>25%</th>\n",
       "      <td>1.000000</td>\n",
       "      <td>17.00000</td>\n",
       "      <td>142.000000</td>\n",
       "      <td>320.102407</td>\n",
       "      <td>20.400000</td>\n",
       "      <td>0.932757</td>\n",
       "      <td>11.000000</td>\n",
       "      <td>12.008979</td>\n",
       "      <td>0.252859</td>\n",
       "      <td>0.254145</td>\n",
       "      <td>...</td>\n",
       "      <td>0.993593</td>\n",
       "      <td>0.996005</td>\n",
       "      <td>0.998032</td>\n",
       "      <td>0.999681</td>\n",
       "      <td>1.000850</td>\n",
       "      <td>1.001571</td>\n",
       "      <td>1.002568</td>\n",
       "      <td>1.002324</td>\n",
       "      <td>1.002347</td>\n",
       "      <td>1.001487</td>\n",
       "    </tr>\n",
       "    <tr>\n",
       "      <th>50%</th>\n",
       "      <td>2.000000</td>\n",
       "      <td>33.00000</td>\n",
       "      <td>148.600000</td>\n",
       "      <td>366.709718</td>\n",
       "      <td>24.000000</td>\n",
       "      <td>2.300000</td>\n",
       "      <td>11.400000</td>\n",
       "      <td>13.885648</td>\n",
       "      <td>0.257334</td>\n",
       "      <td>0.258076</td>\n",
       "      <td>...</td>\n",
       "      <td>1.018632</td>\n",
       "      <td>1.019457</td>\n",
       "      <td>1.021560</td>\n",
       "      <td>1.024043</td>\n",
       "      <td>1.026266</td>\n",
       "      <td>1.026563</td>\n",
       "      <td>1.027050</td>\n",
       "      <td>1.027214</td>\n",
       "      <td>1.026543</td>\n",
       "      <td>1.025906</td>\n",
       "    </tr>\n",
       "    <tr>\n",
       "      <th>75%</th>\n",
       "      <td>2.000000</td>\n",
       "      <td>49.00000</td>\n",
       "      <td>156.800000</td>\n",
       "      <td>382.491461</td>\n",
       "      <td>42.573828</td>\n",
       "      <td>2.900000</td>\n",
       "      <td>11.800000</td>\n",
       "      <td>16.478555</td>\n",
       "      <td>0.264490</td>\n",
       "      <td>0.265769</td>\n",
       "      <td>...</td>\n",
       "      <td>1.038734</td>\n",
       "      <td>1.040668</td>\n",
       "      <td>1.042488</td>\n",
       "      <td>1.045070</td>\n",
       "      <td>1.046475</td>\n",
       "      <td>1.047099</td>\n",
       "      <td>1.047631</td>\n",
       "      <td>1.047026</td>\n",
       "      <td>1.047125</td>\n",
       "      <td>1.048571</td>\n",
       "    </tr>\n",
       "    <tr>\n",
       "      <th>max</th>\n",
       "      <td>2.000000</td>\n",
       "      <td>65.00000</td>\n",
       "      <td>179.800000</td>\n",
       "      <td>433.513709</td>\n",
       "      <td>63.968801</td>\n",
       "      <td>10.000000</td>\n",
       "      <td>14.500000</td>\n",
       "      <td>17.463849</td>\n",
       "      <td>0.297521</td>\n",
       "      <td>0.300073</td>\n",
       "      <td>...</td>\n",
       "      <td>1.085171</td>\n",
       "      <td>1.087539</td>\n",
       "      <td>1.089120</td>\n",
       "      <td>1.090794</td>\n",
       "      <td>1.091733</td>\n",
       "      <td>1.092713</td>\n",
       "      <td>1.094012</td>\n",
       "      <td>1.093522</td>\n",
       "      <td>1.093375</td>\n",
       "      <td>1.094220</td>\n",
       "    </tr>\n",
       "  </tbody>\n",
       "</table>\n",
       "<p>8 rows × 1565 columns</p>\n",
       "</div>"
      ],
      "text/plain": [
       "           Batch     Order          TP      CUPRAC       FRAP        TMA  \\\n",
       "count  65.000000  65.00000   65.000000   17.000000  65.000000  65.000000   \n",
       "mean    1.738462  33.00000  150.098065  352.708476  31.096655   2.357995   \n",
       "std     0.442893  18.90767   10.953101   48.320131  15.224195   1.977936   \n",
       "min     1.000000   1.00000  129.700000  266.458447  14.400000   0.000000   \n",
       "25%     1.000000  17.00000  142.000000  320.102407  20.400000   0.932757   \n",
       "50%     2.000000  33.00000  148.600000  366.709718  24.000000   2.300000   \n",
       "75%     2.000000  49.00000  156.800000  382.491461  42.573828   2.900000   \n",
       "max     2.000000  65.00000  179.800000  433.513709  63.968801  10.000000   \n",
       "\n",
       "        Moisture    Protein  999.8970106  1000.28298  ...  2478.712814  \\\n",
       "count  65.000000  65.000000    65.000000   65.000000  ...    65.000000   \n",
       "mean   11.851231  14.114709     0.262450    0.263598  ...     1.015912   \n",
       "std     1.358467   2.029961     0.013381    0.013966  ...     0.032438   \n",
       "min     8.700000  10.664571     0.248124    0.247141  ...     0.925526   \n",
       "25%    11.000000  12.008979     0.252859    0.254145  ...     0.993593   \n",
       "50%    11.400000  13.885648     0.257334    0.258076  ...     1.018632   \n",
       "75%    11.800000  16.478555     0.264490    0.265769  ...     1.038734   \n",
       "max    14.500000  17.463849     0.297521    0.300073  ...     1.085171   \n",
       "\n",
       "       2481.08483  2483.461389  2485.842505  2488.227573  2490.617843  \\\n",
       "count   65.000000    65.000000    65.000000    65.000000    65.000000   \n",
       "mean     1.018007     1.019769     1.021549     1.023116     1.023843   \n",
       "std      0.032584     0.032673     0.032854     0.032833     0.032685   \n",
       "min      0.928191     0.927884     0.928114     0.930028     0.930709   \n",
       "25%      0.996005     0.998032     0.999681     1.000850     1.001571   \n",
       "50%      1.019457     1.021560     1.024043     1.026266     1.026563   \n",
       "75%      1.040668     1.042488     1.045070     1.046475     1.047099   \n",
       "max      1.087539     1.089120     1.090794     1.091733     1.092713   \n",
       "\n",
       "       2493.012709  2495.412185  2497.816284  2500.22502  \n",
       "count    65.000000    65.000000    65.000000   65.000000  \n",
       "mean      1.024174     1.024359     1.024523    1.024243  \n",
       "std       0.032748     0.032733     0.032808    0.032759  \n",
       "min       0.930913     0.930114     0.931235    0.932131  \n",
       "25%       1.002568     1.002324     1.002347    1.001487  \n",
       "50%       1.027050     1.027214     1.026543    1.025906  \n",
       "75%       1.047631     1.047026     1.047125    1.048571  \n",
       "max       1.094012     1.093522     1.093375    1.094220  \n",
       "\n",
       "[8 rows x 1565 columns]"
      ]
     },
     "execution_count": 5,
     "metadata": {},
     "output_type": "execute_result"
    }
   ],
   "source": [
    "df.describe()"
   ]
  },
  {
   "cell_type": "code",
   "execution_count": 70,
   "id": "7c3b8119",
   "metadata": {},
   "outputs": [
    {
     "data": {
      "text/plain": [
       "<seaborn.axisgrid.FacetGrid at 0x1fb6b3f3580>"
      ]
     },
     "execution_count": 70,
     "metadata": {},
     "output_type": "execute_result"
    },
    {
     "data": {
      "image/png": "[encoded data removed]",
      "text/plain": [
       "<Figure size 360x360 with 1 Axes>"
      ]
     },
     "metadata": {
      "needs_background": "light"
     },
     "output_type": "display_data"
    }
   ],
   "source": [
    "import seaborn as sns\n",
    "sns.displot(df['Protein'])"
   ]
  },
  {
   "cell_type": "code",
   "execution_count": 71,
   "id": "299b7701",
   "metadata": {},
   "outputs": [
    {
     "data": {
      "image/png": "[encoded data removed]",
      "text/plain": [
       "<Figure size 576x324 with 1 Axes>"
      ]
     },
     "metadata": {
      "needs_background": "light"
     },
     "output_type": "display_data"
    }
   ],
   "source": [
    "wl = np.arange(0, 1557, 1)\n",
    "plt.figure(figsize=(8, 4.5))\n",
    "with plt.style.context('ggplot'):\n",
    "    plt.plot(wl, df.iloc[:,9:].values.T)\n",
    "    plt.xlabel(\"Wavelengths (nm)\")\n",
    "    plt.ylabel(\"Absorbance\")\n",
    "    plt.show()"
   ]
  },
  {
   "cell_type": "code",
   "execution_count": 72,
   "id": "c0c84a51",
   "metadata": {},
   "outputs": [
    {
     "data": {
      "text/html": [
       "<div>\n",
       "<style scoped>\n",
       "    .dataframe tbody tr th:only-of-type {\n",
       "        vertical-align: middle;\n",
       "    }\n",
       "\n",
       "    .dataframe tbody tr th {\n",
       "        vertical-align: top;\n",
       "    }\n",
       "\n",
       "    .dataframe thead th {\n",
       "        text-align: right;\n",
       "    }\n",
       "</style>\n",
       "<table border=\"1\" class=\"dataframe\">\n",
       "  <thead>\n",
       "    <tr style=\"text-align: right;\">\n",
       "      <th></th>\n",
       "      <th>999.8970106</th>\n",
       "      <th>1000.28298</th>\n",
       "      <th>1000.669047</th>\n",
       "      <th>1001.055413</th>\n",
       "      <th>1001.441976</th>\n",
       "      <th>1001.829039</th>\n",
       "      <th>1002.216201</th>\n",
       "      <th>1002.603862</th>\n",
       "      <th>1002.991623</th>\n",
       "      <th>1003.379885</th>\n",
       "      <th>...</th>\n",
       "      <th>2485.842505</th>\n",
       "      <th>2488.227573</th>\n",
       "      <th>2490.617843</th>\n",
       "      <th>2493.012709</th>\n",
       "      <th>2495.412185</th>\n",
       "      <th>2497.816284</th>\n",
       "      <th>2500.22502</th>\n",
       "      <th>Umidade</th>\n",
       "      <th>Protein</th>\n",
       "      <th>class</th>\n",
       "    </tr>\n",
       "  </thead>\n",
       "  <tbody>\n",
       "    <tr>\n",
       "      <th>0</th>\n",
       "      <td>0.264490</td>\n",
       "      <td>0.265070</td>\n",
       "      <td>0.264313</td>\n",
       "      <td>0.265251</td>\n",
       "      <td>0.264319</td>\n",
       "      <td>0.264963</td>\n",
       "      <td>0.265600</td>\n",
       "      <td>0.265346</td>\n",
       "      <td>0.264630</td>\n",
       "      <td>0.264989</td>\n",
       "      <td>...</td>\n",
       "      <td>1.000223</td>\n",
       "      <td>1.001534</td>\n",
       "      <td>1.001571</td>\n",
       "      <td>1.002851</td>\n",
       "      <td>1.004485</td>\n",
       "      <td>1.004250</td>\n",
       "      <td>1.002066</td>\n",
       "      <td>10.100</td>\n",
       "      <td>13.904338</td>\n",
       "      <td>13</td>\n",
       "    </tr>\n",
       "    <tr>\n",
       "      <th>1</th>\n",
       "      <td>0.283164</td>\n",
       "      <td>0.284325</td>\n",
       "      <td>0.283624</td>\n",
       "      <td>0.284148</td>\n",
       "      <td>0.282205</td>\n",
       "      <td>0.281135</td>\n",
       "      <td>0.281490</td>\n",
       "      <td>0.281886</td>\n",
       "      <td>0.282097</td>\n",
       "      <td>0.282473</td>\n",
       "      <td>...</td>\n",
       "      <td>1.037318</td>\n",
       "      <td>1.038840</td>\n",
       "      <td>1.038373</td>\n",
       "      <td>1.038098</td>\n",
       "      <td>1.039568</td>\n",
       "      <td>1.039971</td>\n",
       "      <td>1.039888</td>\n",
       "      <td>8.700</td>\n",
       "      <td>14.786418</td>\n",
       "      <td>14</td>\n",
       "    </tr>\n",
       "    <tr>\n",
       "      <th>2</th>\n",
       "      <td>0.276600</td>\n",
       "      <td>0.277441</td>\n",
       "      <td>0.275031</td>\n",
       "      <td>0.276462</td>\n",
       "      <td>0.276817</td>\n",
       "      <td>0.276438</td>\n",
       "      <td>0.276419</td>\n",
       "      <td>0.276996</td>\n",
       "      <td>0.279289</td>\n",
       "      <td>0.279410</td>\n",
       "      <td>...</td>\n",
       "      <td>1.053081</td>\n",
       "      <td>1.054179</td>\n",
       "      <td>1.054097</td>\n",
       "      <td>1.053567</td>\n",
       "      <td>1.053987</td>\n",
       "      <td>1.054386</td>\n",
       "      <td>1.052976</td>\n",
       "      <td>10.400</td>\n",
       "      <td>12.500000</td>\n",
       "      <td>12</td>\n",
       "    </tr>\n",
       "    <tr>\n",
       "      <th>3</th>\n",
       "      <td>0.284350</td>\n",
       "      <td>0.286067</td>\n",
       "      <td>0.286507</td>\n",
       "      <td>0.286528</td>\n",
       "      <td>0.286619</td>\n",
       "      <td>0.286029</td>\n",
       "      <td>0.285122</td>\n",
       "      <td>0.286209</td>\n",
       "      <td>0.286949</td>\n",
       "      <td>0.287247</td>\n",
       "      <td>...</td>\n",
       "      <td>1.075393</td>\n",
       "      <td>1.077126</td>\n",
       "      <td>1.075814</td>\n",
       "      <td>1.075846</td>\n",
       "      <td>1.076120</td>\n",
       "      <td>1.076186</td>\n",
       "      <td>1.076950</td>\n",
       "      <td>11.600</td>\n",
       "      <td>14.819005</td>\n",
       "      <td>14</td>\n",
       "    </tr>\n",
       "    <tr>\n",
       "      <th>4</th>\n",
       "      <td>0.294623</td>\n",
       "      <td>0.296398</td>\n",
       "      <td>0.297447</td>\n",
       "      <td>0.295038</td>\n",
       "      <td>0.291319</td>\n",
       "      <td>0.292503</td>\n",
       "      <td>0.295399</td>\n",
       "      <td>0.297310</td>\n",
       "      <td>0.297976</td>\n",
       "      <td>0.297869</td>\n",
       "      <td>...</td>\n",
       "      <td>1.013475</td>\n",
       "      <td>1.015025</td>\n",
       "      <td>1.014866</td>\n",
       "      <td>1.015861</td>\n",
       "      <td>1.016620</td>\n",
       "      <td>1.016702</td>\n",
       "      <td>1.016687</td>\n",
       "      <td>10.900</td>\n",
       "      <td>16.722783</td>\n",
       "      <td>16</td>\n",
       "    </tr>\n",
       "    <tr>\n",
       "      <th>5</th>\n",
       "      <td>0.282375</td>\n",
       "      <td>0.287083</td>\n",
       "      <td>0.286892</td>\n",
       "      <td>0.284803</td>\n",
       "      <td>0.283465</td>\n",
       "      <td>0.282188</td>\n",
       "      <td>0.284186</td>\n",
       "      <td>0.286474</td>\n",
       "      <td>0.287194</td>\n",
       "      <td>0.286512</td>\n",
       "      <td>...</td>\n",
       "      <td>1.047044</td>\n",
       "      <td>1.049193</td>\n",
       "      <td>1.051013</td>\n",
       "      <td>1.051977</td>\n",
       "      <td>1.051542</td>\n",
       "      <td>1.050629</td>\n",
       "      <td>1.051896</td>\n",
       "      <td>10.800</td>\n",
       "      <td>14.573991</td>\n",
       "      <td>14</td>\n",
       "    </tr>\n",
       "    <tr>\n",
       "      <th>6</th>\n",
       "      <td>0.282874</td>\n",
       "      <td>0.284265</td>\n",
       "      <td>0.283478</td>\n",
       "      <td>0.282764</td>\n",
       "      <td>0.282825</td>\n",
       "      <td>0.283858</td>\n",
       "      <td>0.285506</td>\n",
       "      <td>0.286562</td>\n",
       "      <td>0.286818</td>\n",
       "      <td>0.286688</td>\n",
       "      <td>...</td>\n",
       "      <td>1.027949</td>\n",
       "      <td>1.030002</td>\n",
       "      <td>1.029024</td>\n",
       "      <td>1.029246</td>\n",
       "      <td>1.029050</td>\n",
       "      <td>1.030828</td>\n",
       "      <td>1.031243</td>\n",
       "      <td>10.900</td>\n",
       "      <td>16.947250</td>\n",
       "      <td>17</td>\n",
       "    </tr>\n",
       "    <tr>\n",
       "      <th>7</th>\n",
       "      <td>0.296397</td>\n",
       "      <td>0.298170</td>\n",
       "      <td>0.298537</td>\n",
       "      <td>0.296517</td>\n",
       "      <td>0.294241</td>\n",
       "      <td>0.295545</td>\n",
       "      <td>0.298439</td>\n",
       "      <td>0.299407</td>\n",
       "      <td>0.300325</td>\n",
       "      <td>0.298181</td>\n",
       "      <td>...</td>\n",
       "      <td>1.090794</td>\n",
       "      <td>1.091733</td>\n",
       "      <td>1.092713</td>\n",
       "      <td>1.094012</td>\n",
       "      <td>1.093522</td>\n",
       "      <td>1.093375</td>\n",
       "      <td>1.094220</td>\n",
       "      <td>10.900</td>\n",
       "      <td>12.008979</td>\n",
       "      <td>12</td>\n",
       "    </tr>\n",
       "    <tr>\n",
       "      <th>8</th>\n",
       "      <td>0.287868</td>\n",
       "      <td>0.291356</td>\n",
       "      <td>0.291459</td>\n",
       "      <td>0.290088</td>\n",
       "      <td>0.290191</td>\n",
       "      <td>0.290831</td>\n",
       "      <td>0.292437</td>\n",
       "      <td>0.293254</td>\n",
       "      <td>0.293087</td>\n",
       "      <td>0.292965</td>\n",
       "      <td>...</td>\n",
       "      <td>1.076934</td>\n",
       "      <td>1.077594</td>\n",
       "      <td>1.078698</td>\n",
       "      <td>1.080099</td>\n",
       "      <td>1.080271</td>\n",
       "      <td>1.080195</td>\n",
       "      <td>1.078815</td>\n",
       "      <td>11.800</td>\n",
       "      <td>13.265306</td>\n",
       "      <td>13</td>\n",
       "    </tr>\n",
       "    <tr>\n",
       "      <th>9</th>\n",
       "      <td>0.278647</td>\n",
       "      <td>0.280093</td>\n",
       "      <td>0.279433</td>\n",
       "      <td>0.278047</td>\n",
       "      <td>0.277211</td>\n",
       "      <td>0.278076</td>\n",
       "      <td>0.280960</td>\n",
       "      <td>0.282530</td>\n",
       "      <td>0.282205</td>\n",
       "      <td>0.281284</td>\n",
       "      <td>...</td>\n",
       "      <td>1.038255</td>\n",
       "      <td>1.039835</td>\n",
       "      <td>1.040807</td>\n",
       "      <td>1.040020</td>\n",
       "      <td>1.039720</td>\n",
       "      <td>1.040702</td>\n",
       "      <td>1.041183</td>\n",
       "      <td>11.050</td>\n",
       "      <td>14.839798</td>\n",
       "      <td>14</td>\n",
       "    </tr>\n",
       "    <tr>\n",
       "      <th>10</th>\n",
       "      <td>0.276862</td>\n",
       "      <td>0.280093</td>\n",
       "      <td>0.280191</td>\n",
       "      <td>0.278375</td>\n",
       "      <td>0.278081</td>\n",
       "      <td>0.277663</td>\n",
       "      <td>0.278634</td>\n",
       "      <td>0.280083</td>\n",
       "      <td>0.281196</td>\n",
       "      <td>0.282054</td>\n",
       "      <td>...</td>\n",
       "      <td>1.061945</td>\n",
       "      <td>1.064431</td>\n",
       "      <td>1.065591</td>\n",
       "      <td>1.064840</td>\n",
       "      <td>1.065101</td>\n",
       "      <td>1.065465</td>\n",
       "      <td>1.065664</td>\n",
       "      <td>10.700</td>\n",
       "      <td>15.677492</td>\n",
       "      <td>14</td>\n",
       "    </tr>\n",
       "    <tr>\n",
       "      <th>11</th>\n",
       "      <td>0.281426</td>\n",
       "      <td>0.283584</td>\n",
       "      <td>0.283887</td>\n",
       "      <td>0.281944</td>\n",
       "      <td>0.281006</td>\n",
       "      <td>0.281136</td>\n",
       "      <td>0.282682</td>\n",
       "      <td>0.283940</td>\n",
       "      <td>0.284828</td>\n",
       "      <td>0.285302</td>\n",
       "      <td>...</td>\n",
       "      <td>1.045613</td>\n",
       "      <td>1.046571</td>\n",
       "      <td>1.047235</td>\n",
       "      <td>1.047560</td>\n",
       "      <td>1.046955</td>\n",
       "      <td>1.045113</td>\n",
       "      <td>1.045376</td>\n",
       "      <td>10.100</td>\n",
       "      <td>17.463849</td>\n",
       "      <td>17</td>\n",
       "    </tr>\n",
       "    <tr>\n",
       "      <th>12</th>\n",
       "      <td>0.281154</td>\n",
       "      <td>0.283837</td>\n",
       "      <td>0.284432</td>\n",
       "      <td>0.284098</td>\n",
       "      <td>0.284167</td>\n",
       "      <td>0.284492</td>\n",
       "      <td>0.286225</td>\n",
       "      <td>0.285542</td>\n",
       "      <td>0.287165</td>\n",
       "      <td>0.287850</td>\n",
       "      <td>...</td>\n",
       "      <td>1.083737</td>\n",
       "      <td>1.086494</td>\n",
       "      <td>1.087415</td>\n",
       "      <td>1.087173</td>\n",
       "      <td>1.086510</td>\n",
       "      <td>1.087434</td>\n",
       "      <td>1.085989</td>\n",
       "      <td>10.940</td>\n",
       "      <td>12.463508</td>\n",
       "      <td>12</td>\n",
       "    </tr>\n",
       "    <tr>\n",
       "      <th>13</th>\n",
       "      <td>0.273015</td>\n",
       "      <td>0.276437</td>\n",
       "      <td>0.275924</td>\n",
       "      <td>0.274677</td>\n",
       "      <td>0.273080</td>\n",
       "      <td>0.272797</td>\n",
       "      <td>0.273364</td>\n",
       "      <td>0.273914</td>\n",
       "      <td>0.274611</td>\n",
       "      <td>0.275076</td>\n",
       "      <td>...</td>\n",
       "      <td>1.044944</td>\n",
       "      <td>1.045785</td>\n",
       "      <td>1.047099</td>\n",
       "      <td>1.048392</td>\n",
       "      <td>1.047026</td>\n",
       "      <td>1.047125</td>\n",
       "      <td>1.048848</td>\n",
       "      <td>10.920</td>\n",
       "      <td>10.664571</td>\n",
       "      <td>10</td>\n",
       "    </tr>\n",
       "    <tr>\n",
       "      <th>14</th>\n",
       "      <td>0.276055</td>\n",
       "      <td>0.278207</td>\n",
       "      <td>0.279193</td>\n",
       "      <td>0.277639</td>\n",
       "      <td>0.275753</td>\n",
       "      <td>0.277209</td>\n",
       "      <td>0.278196</td>\n",
       "      <td>0.278098</td>\n",
       "      <td>0.279828</td>\n",
       "      <td>0.279685</td>\n",
       "      <td>...</td>\n",
       "      <td>1.039347</td>\n",
       "      <td>1.040770</td>\n",
       "      <td>1.040672</td>\n",
       "      <td>1.041388</td>\n",
       "      <td>1.041095</td>\n",
       "      <td>1.041560</td>\n",
       "      <td>1.041891</td>\n",
       "      <td>10.500</td>\n",
       "      <td>12.513966</td>\n",
       "      <td>12</td>\n",
       "    </tr>\n",
       "    <tr>\n",
       "      <th>15</th>\n",
       "      <td>0.288452</td>\n",
       "      <td>0.290421</td>\n",
       "      <td>0.290402</td>\n",
       "      <td>0.288629</td>\n",
       "      <td>0.288480</td>\n",
       "      <td>0.287924</td>\n",
       "      <td>0.288443</td>\n",
       "      <td>0.288692</td>\n",
       "      <td>0.291809</td>\n",
       "      <td>0.291985</td>\n",
       "      <td>...</td>\n",
       "      <td>1.068070</td>\n",
       "      <td>1.069529</td>\n",
       "      <td>1.069754</td>\n",
       "      <td>1.070420</td>\n",
       "      <td>1.071329</td>\n",
       "      <td>1.070507</td>\n",
       "      <td>1.069557</td>\n",
       "      <td>11.700</td>\n",
       "      <td>13.476784</td>\n",
       "      <td>13</td>\n",
       "    </tr>\n",
       "    <tr>\n",
       "      <th>16</th>\n",
       "      <td>0.297521</td>\n",
       "      <td>0.300073</td>\n",
       "      <td>0.300032</td>\n",
       "      <td>0.299144</td>\n",
       "      <td>0.299168</td>\n",
       "      <td>0.298542</td>\n",
       "      <td>0.299683</td>\n",
       "      <td>0.300385</td>\n",
       "      <td>0.300661</td>\n",
       "      <td>0.300363</td>\n",
       "      <td>...</td>\n",
       "      <td>1.029044</td>\n",
       "      <td>1.030594</td>\n",
       "      <td>1.031919</td>\n",
       "      <td>1.031285</td>\n",
       "      <td>1.030590</td>\n",
       "      <td>1.032339</td>\n",
       "      <td>1.032344</td>\n",
       "      <td>11.500</td>\n",
       "      <td>16.271186</td>\n",
       "      <td>16</td>\n",
       "    </tr>\n",
       "    <tr>\n",
       "      <th>17</th>\n",
       "      <td>0.256282</td>\n",
       "      <td>0.254573</td>\n",
       "      <td>0.254210</td>\n",
       "      <td>0.255648</td>\n",
       "      <td>0.257451</td>\n",
       "      <td>0.257088</td>\n",
       "      <td>0.257334</td>\n",
       "      <td>0.256952</td>\n",
       "      <td>0.255814</td>\n",
       "      <td>0.255297</td>\n",
       "      <td>...</td>\n",
       "      <td>0.991584</td>\n",
       "      <td>0.992840</td>\n",
       "      <td>0.994159</td>\n",
       "      <td>0.995378</td>\n",
       "      <td>0.994890</td>\n",
       "      <td>0.993417</td>\n",
       "      <td>0.992413</td>\n",
       "      <td>10.900</td>\n",
       "      <td>16.947250</td>\n",
       "      <td>17</td>\n",
       "    </tr>\n",
       "    <tr>\n",
       "      <th>18</th>\n",
       "      <td>0.252859</td>\n",
       "      <td>0.250948</td>\n",
       "      <td>0.249849</td>\n",
       "      <td>0.251464</td>\n",
       "      <td>0.254061</td>\n",
       "      <td>0.253598</td>\n",
       "      <td>0.252981</td>\n",
       "      <td>0.252762</td>\n",
       "      <td>0.251284</td>\n",
       "      <td>0.251291</td>\n",
       "      <td>...</td>\n",
       "      <td>0.928114</td>\n",
       "      <td>0.930028</td>\n",
       "      <td>0.930709</td>\n",
       "      <td>0.930913</td>\n",
       "      <td>0.930114</td>\n",
       "      <td>0.931235</td>\n",
       "      <td>0.932131</td>\n",
       "      <td>10.700</td>\n",
       "      <td>16.909295</td>\n",
       "      <td>16</td>\n",
       "    </tr>\n",
       "    <tr>\n",
       "      <th>19</th>\n",
       "      <td>0.250291</td>\n",
       "      <td>0.249946</td>\n",
       "      <td>0.248455</td>\n",
       "      <td>0.248172</td>\n",
       "      <td>0.249665</td>\n",
       "      <td>0.249874</td>\n",
       "      <td>0.249791</td>\n",
       "      <td>0.249679</td>\n",
       "      <td>0.248930</td>\n",
       "      <td>0.248778</td>\n",
       "      <td>...</td>\n",
       "      <td>0.974909</td>\n",
       "      <td>0.976572</td>\n",
       "      <td>0.977227</td>\n",
       "      <td>0.978547</td>\n",
       "      <td>0.978478</td>\n",
       "      <td>0.977933</td>\n",
       "      <td>0.978138</td>\n",
       "      <td>11.100</td>\n",
       "      <td>16.647919</td>\n",
       "      <td>16</td>\n",
       "    </tr>\n",
       "    <tr>\n",
       "      <th>20</th>\n",
       "      <td>0.248330</td>\n",
       "      <td>0.247141</td>\n",
       "      <td>0.246445</td>\n",
       "      <td>0.247026</td>\n",
       "      <td>0.249957</td>\n",
       "      <td>0.249816</td>\n",
       "      <td>0.249286</td>\n",
       "      <td>0.247967</td>\n",
       "      <td>0.247006</td>\n",
       "      <td>0.247687</td>\n",
       "      <td>...</td>\n",
       "      <td>0.957930</td>\n",
       "      <td>0.960628</td>\n",
       "      <td>0.961784</td>\n",
       "      <td>0.961693</td>\n",
       "      <td>0.961442</td>\n",
       "      <td>0.961261</td>\n",
       "      <td>0.961781</td>\n",
       "      <td>11.125</td>\n",
       "      <td>16.540084</td>\n",
       "      <td>16</td>\n",
       "    </tr>\n",
       "    <tr>\n",
       "      <th>21</th>\n",
       "      <td>0.251721</td>\n",
       "      <td>0.251463</td>\n",
       "      <td>0.251353</td>\n",
       "      <td>0.251487</td>\n",
       "      <td>0.251267</td>\n",
       "      <td>0.249875</td>\n",
       "      <td>0.250233</td>\n",
       "      <td>0.249626</td>\n",
       "      <td>0.249825</td>\n",
       "      <td>0.251413</td>\n",
       "      <td>...</td>\n",
       "      <td>0.964460</td>\n",
       "      <td>0.966565</td>\n",
       "      <td>0.968296</td>\n",
       "      <td>0.967351</td>\n",
       "      <td>0.967812</td>\n",
       "      <td>0.968988</td>\n",
       "      <td>0.967985</td>\n",
       "      <td>11.000</td>\n",
       "      <td>16.741573</td>\n",
       "      <td>16</td>\n",
       "    </tr>\n",
       "    <tr>\n",
       "      <th>22</th>\n",
       "      <td>0.248124</td>\n",
       "      <td>0.249511</td>\n",
       "      <td>0.248142</td>\n",
       "      <td>0.247333</td>\n",
       "      <td>0.248580</td>\n",
       "      <td>0.248597</td>\n",
       "      <td>0.248738</td>\n",
       "      <td>0.246566</td>\n",
       "      <td>0.246000</td>\n",
       "      <td>0.246762</td>\n",
       "      <td>...</td>\n",
       "      <td>0.950061</td>\n",
       "      <td>0.950665</td>\n",
       "      <td>0.951003</td>\n",
       "      <td>0.951404</td>\n",
       "      <td>0.951275</td>\n",
       "      <td>0.951623</td>\n",
       "      <td>0.952619</td>\n",
       "      <td>11.015</td>\n",
       "      <td>16.632017</td>\n",
       "      <td>16</td>\n",
       "    </tr>\n",
       "    <tr>\n",
       "      <th>23</th>\n",
       "      <td>0.253627</td>\n",
       "      <td>0.254530</td>\n",
       "      <td>0.255181</td>\n",
       "      <td>0.255941</td>\n",
       "      <td>0.256887</td>\n",
       "      <td>0.256450</td>\n",
       "      <td>0.257743</td>\n",
       "      <td>0.256965</td>\n",
       "      <td>0.254140</td>\n",
       "      <td>0.253274</td>\n",
       "      <td>...</td>\n",
       "      <td>0.992198</td>\n",
       "      <td>0.993015</td>\n",
       "      <td>0.993830</td>\n",
       "      <td>0.994335</td>\n",
       "      <td>0.994702</td>\n",
       "      <td>0.994491</td>\n",
       "      <td>0.993614</td>\n",
       "      <td>11.500</td>\n",
       "      <td>16.836158</td>\n",
       "      <td>16</td>\n",
       "    </tr>\n",
       "    <tr>\n",
       "      <th>24</th>\n",
       "      <td>0.252620</td>\n",
       "      <td>0.253485</td>\n",
       "      <td>0.252943</td>\n",
       "      <td>0.253443</td>\n",
       "      <td>0.254430</td>\n",
       "      <td>0.253621</td>\n",
       "      <td>0.253191</td>\n",
       "      <td>0.251473</td>\n",
       "      <td>0.251421</td>\n",
       "      <td>0.251859</td>\n",
       "      <td>...</td>\n",
       "      <td>0.977374</td>\n",
       "      <td>0.978632</td>\n",
       "      <td>0.979841</td>\n",
       "      <td>0.980336</td>\n",
       "      <td>0.982089</td>\n",
       "      <td>0.982213</td>\n",
       "      <td>0.980510</td>\n",
       "      <td>11.500</td>\n",
       "      <td>16.836158</td>\n",
       "      <td>16</td>\n",
       "    </tr>\n",
       "    <tr>\n",
       "      <th>25</th>\n",
       "      <td>0.256270</td>\n",
       "      <td>0.256963</td>\n",
       "      <td>0.256179</td>\n",
       "      <td>0.256207</td>\n",
       "      <td>0.256496</td>\n",
       "      <td>0.255933</td>\n",
       "      <td>0.255023</td>\n",
       "      <td>0.253956</td>\n",
       "      <td>0.253852</td>\n",
       "      <td>0.255309</td>\n",
       "      <td>...</td>\n",
       "      <td>1.003075</td>\n",
       "      <td>1.004933</td>\n",
       "      <td>1.004528</td>\n",
       "      <td>1.004537</td>\n",
       "      <td>1.006445</td>\n",
       "      <td>1.006993</td>\n",
       "      <td>1.006798</td>\n",
       "      <td>11.500</td>\n",
       "      <td>16.497175</td>\n",
       "      <td>16</td>\n",
       "    </tr>\n",
       "    <tr>\n",
       "      <th>26</th>\n",
       "      <td>0.253611</td>\n",
       "      <td>0.255030</td>\n",
       "      <td>0.254088</td>\n",
       "      <td>0.253468</td>\n",
       "      <td>0.254138</td>\n",
       "      <td>0.253594</td>\n",
       "      <td>0.252690</td>\n",
       "      <td>0.251973</td>\n",
       "      <td>0.251686</td>\n",
       "      <td>0.252385</td>\n",
       "      <td>...</td>\n",
       "      <td>0.992370</td>\n",
       "      <td>0.994610</td>\n",
       "      <td>0.995334</td>\n",
       "      <td>0.995611</td>\n",
       "      <td>0.997526</td>\n",
       "      <td>0.996147</td>\n",
       "      <td>0.994828</td>\n",
       "      <td>11.600</td>\n",
       "      <td>16.628959</td>\n",
       "      <td>16</td>\n",
       "    </tr>\n",
       "    <tr>\n",
       "      <th>27</th>\n",
       "      <td>0.252132</td>\n",
       "      <td>0.254617</td>\n",
       "      <td>0.254898</td>\n",
       "      <td>0.252366</td>\n",
       "      <td>0.251709</td>\n",
       "      <td>0.251422</td>\n",
       "      <td>0.251670</td>\n",
       "      <td>0.250308</td>\n",
       "      <td>0.250298</td>\n",
       "      <td>0.252596</td>\n",
       "      <td>...</td>\n",
       "      <td>0.989732</td>\n",
       "      <td>0.990563</td>\n",
       "      <td>0.990997</td>\n",
       "      <td>0.991112</td>\n",
       "      <td>0.991372</td>\n",
       "      <td>0.991619</td>\n",
       "      <td>0.993110</td>\n",
       "      <td>11.600</td>\n",
       "      <td>16.402715</td>\n",
       "      <td>16</td>\n",
       "    </tr>\n",
       "    <tr>\n",
       "      <th>28</th>\n",
       "      <td>0.250363</td>\n",
       "      <td>0.252966</td>\n",
       "      <td>0.253875</td>\n",
       "      <td>0.253420</td>\n",
       "      <td>0.253347</td>\n",
       "      <td>0.253393</td>\n",
       "      <td>0.252991</td>\n",
       "      <td>0.251887</td>\n",
       "      <td>0.251875</td>\n",
       "      <td>0.252293</td>\n",
       "      <td>...</td>\n",
       "      <td>0.999681</td>\n",
       "      <td>1.000850</td>\n",
       "      <td>1.003170</td>\n",
       "      <td>1.003583</td>\n",
       "      <td>1.002680</td>\n",
       "      <td>1.001863</td>\n",
       "      <td>1.001227</td>\n",
       "      <td>11.300</td>\n",
       "      <td>16.798196</td>\n",
       "      <td>16</td>\n",
       "    </tr>\n",
       "    <tr>\n",
       "      <th>29</th>\n",
       "      <td>0.251585</td>\n",
       "      <td>0.254031</td>\n",
       "      <td>0.253531</td>\n",
       "      <td>0.252722</td>\n",
       "      <td>0.251066</td>\n",
       "      <td>0.249774</td>\n",
       "      <td>0.249317</td>\n",
       "      <td>0.251281</td>\n",
       "      <td>0.252823</td>\n",
       "      <td>0.251616</td>\n",
       "      <td>...</td>\n",
       "      <td>0.988306</td>\n",
       "      <td>0.990562</td>\n",
       "      <td>0.991101</td>\n",
       "      <td>0.989135</td>\n",
       "      <td>0.990369</td>\n",
       "      <td>0.991706</td>\n",
       "      <td>0.990469</td>\n",
       "      <td>11.400</td>\n",
       "      <td>16.704289</td>\n",
       "      <td>16</td>\n",
       "    </tr>\n",
       "    <tr>\n",
       "      <th>30</th>\n",
       "      <td>0.250714</td>\n",
       "      <td>0.251298</td>\n",
       "      <td>0.249084</td>\n",
       "      <td>0.249862</td>\n",
       "      <td>0.250715</td>\n",
       "      <td>0.251612</td>\n",
       "      <td>0.252005</td>\n",
       "      <td>0.250611</td>\n",
       "      <td>0.251786</td>\n",
       "      <td>0.252630</td>\n",
       "      <td>...</td>\n",
       "      <td>1.001311</td>\n",
       "      <td>1.003182</td>\n",
       "      <td>1.005402</td>\n",
       "      <td>1.005359</td>\n",
       "      <td>1.004789</td>\n",
       "      <td>1.004744</td>\n",
       "      <td>1.004486</td>\n",
       "      <td>11.400</td>\n",
       "      <td>16.591422</td>\n",
       "      <td>16</td>\n",
       "    </tr>\n",
       "    <tr>\n",
       "      <th>31</th>\n",
       "      <td>0.250488</td>\n",
       "      <td>0.251893</td>\n",
       "      <td>0.250915</td>\n",
       "      <td>0.250356</td>\n",
       "      <td>0.250844</td>\n",
       "      <td>0.250693</td>\n",
       "      <td>0.249664</td>\n",
       "      <td>0.248040</td>\n",
       "      <td>0.249005</td>\n",
       "      <td>0.251130</td>\n",
       "      <td>...</td>\n",
       "      <td>0.996807</td>\n",
       "      <td>0.997719</td>\n",
       "      <td>0.998255</td>\n",
       "      <td>0.998563</td>\n",
       "      <td>0.997936</td>\n",
       "      <td>0.996669</td>\n",
       "      <td>0.997118</td>\n",
       "      <td>11.400</td>\n",
       "      <td>16.478555</td>\n",
       "      <td>16</td>\n",
       "    </tr>\n",
       "    <tr>\n",
       "      <th>32</th>\n",
       "      <td>0.253343</td>\n",
       "      <td>0.254145</td>\n",
       "      <td>0.253261</td>\n",
       "      <td>0.254031</td>\n",
       "      <td>0.254646</td>\n",
       "      <td>0.254382</td>\n",
       "      <td>0.254502</td>\n",
       "      <td>0.253372</td>\n",
       "      <td>0.255058</td>\n",
       "      <td>0.256222</td>\n",
       "      <td>...</td>\n",
       "      <td>1.016987</td>\n",
       "      <td>1.018629</td>\n",
       "      <td>1.019655</td>\n",
       "      <td>1.020241</td>\n",
       "      <td>1.020392</td>\n",
       "      <td>1.020082</td>\n",
       "      <td>1.020843</td>\n",
       "      <td>11.400</td>\n",
       "      <td>16.252822</td>\n",
       "      <td>16</td>\n",
       "    </tr>\n",
       "    <tr>\n",
       "      <th>33</th>\n",
       "      <td>0.255559</td>\n",
       "      <td>0.255482</td>\n",
       "      <td>0.255068</td>\n",
       "      <td>0.256057</td>\n",
       "      <td>0.258279</td>\n",
       "      <td>0.257545</td>\n",
       "      <td>0.257592</td>\n",
       "      <td>0.256295</td>\n",
       "      <td>0.254973</td>\n",
       "      <td>0.255176</td>\n",
       "      <td>...</td>\n",
       "      <td>1.010871</td>\n",
       "      <td>1.012573</td>\n",
       "      <td>1.012513</td>\n",
       "      <td>1.012015</td>\n",
       "      <td>1.011233</td>\n",
       "      <td>1.011795</td>\n",
       "      <td>1.012690</td>\n",
       "      <td>10.900</td>\n",
       "      <td>12.008979</td>\n",
       "      <td>12</td>\n",
       "    </tr>\n",
       "    <tr>\n",
       "      <th>34</th>\n",
       "      <td>0.249233</td>\n",
       "      <td>0.250576</td>\n",
       "      <td>0.251079</td>\n",
       "      <td>0.250124</td>\n",
       "      <td>0.250738</td>\n",
       "      <td>0.251958</td>\n",
       "      <td>0.251795</td>\n",
       "      <td>0.249268</td>\n",
       "      <td>0.248534</td>\n",
       "      <td>0.250446</td>\n",
       "      <td>...</td>\n",
       "      <td>0.984785</td>\n",
       "      <td>0.987174</td>\n",
       "      <td>0.987398</td>\n",
       "      <td>0.989278</td>\n",
       "      <td>0.990505</td>\n",
       "      <td>0.988860</td>\n",
       "      <td>0.988302</td>\n",
       "      <td>11.075</td>\n",
       "      <td>11.695249</td>\n",
       "      <td>11</td>\n",
       "    </tr>\n",
       "    <tr>\n",
       "      <th>35</th>\n",
       "      <td>0.254324</td>\n",
       "      <td>0.254918</td>\n",
       "      <td>0.254730</td>\n",
       "      <td>0.251984</td>\n",
       "      <td>0.253286</td>\n",
       "      <td>0.254010</td>\n",
       "      <td>0.254022</td>\n",
       "      <td>0.253625</td>\n",
       "      <td>0.253054</td>\n",
       "      <td>0.253788</td>\n",
       "      <td>...</td>\n",
       "      <td>0.994023</td>\n",
       "      <td>0.995371</td>\n",
       "      <td>0.997228</td>\n",
       "      <td>0.998207</td>\n",
       "      <td>0.998430</td>\n",
       "      <td>0.998053</td>\n",
       "      <td>0.998757</td>\n",
       "      <td>10.960</td>\n",
       "      <td>11.567835</td>\n",
       "      <td>11</td>\n",
       "    </tr>\n",
       "    <tr>\n",
       "      <th>36</th>\n",
       "      <td>0.252615</td>\n",
       "      <td>0.253911</td>\n",
       "      <td>0.254604</td>\n",
       "      <td>0.252776</td>\n",
       "      <td>0.253701</td>\n",
       "      <td>0.254805</td>\n",
       "      <td>0.254402</td>\n",
       "      <td>0.250843</td>\n",
       "      <td>0.249901</td>\n",
       "      <td>0.252352</td>\n",
       "      <td>...</td>\n",
       "      <td>0.998517</td>\n",
       "      <td>0.999528</td>\n",
       "      <td>0.999823</td>\n",
       "      <td>0.999645</td>\n",
       "      <td>1.001150</td>\n",
       "      <td>1.002648</td>\n",
       "      <td>1.001487</td>\n",
       "      <td>11.335</td>\n",
       "      <td>11.616760</td>\n",
       "      <td>11</td>\n",
       "    </tr>\n",
       "    <tr>\n",
       "      <th>37</th>\n",
       "      <td>0.255005</td>\n",
       "      <td>0.255048</td>\n",
       "      <td>0.253761</td>\n",
       "      <td>0.251688</td>\n",
       "      <td>0.253740</td>\n",
       "      <td>0.255931</td>\n",
       "      <td>0.255639</td>\n",
       "      <td>0.252628</td>\n",
       "      <td>0.251098</td>\n",
       "      <td>0.253494</td>\n",
       "      <td>...</td>\n",
       "      <td>0.988368</td>\n",
       "      <td>0.990146</td>\n",
       "      <td>0.991362</td>\n",
       "      <td>0.991428</td>\n",
       "      <td>0.991208</td>\n",
       "      <td>0.991459</td>\n",
       "      <td>0.991594</td>\n",
       "      <td>11.345</td>\n",
       "      <td>11.392476</td>\n",
       "      <td>11</td>\n",
       "    </tr>\n",
       "    <tr>\n",
       "      <th>38</th>\n",
       "      <td>0.254603</td>\n",
       "      <td>0.254870</td>\n",
       "      <td>0.254420</td>\n",
       "      <td>0.253078</td>\n",
       "      <td>0.253854</td>\n",
       "      <td>0.254746</td>\n",
       "      <td>0.255485</td>\n",
       "      <td>0.254228</td>\n",
       "      <td>0.251965</td>\n",
       "      <td>0.253634</td>\n",
       "      <td>...</td>\n",
       "      <td>1.013090</td>\n",
       "      <td>1.014284</td>\n",
       "      <td>1.017082</td>\n",
       "      <td>1.017660</td>\n",
       "      <td>1.016591</td>\n",
       "      <td>1.016532</td>\n",
       "      <td>1.016678</td>\n",
       "      <td>11.360</td>\n",
       "      <td>11.507220</td>\n",
       "      <td>11</td>\n",
       "    </tr>\n",
       "    <tr>\n",
       "      <th>39</th>\n",
       "      <td>0.251916</td>\n",
       "      <td>0.253609</td>\n",
       "      <td>0.254845</td>\n",
       "      <td>0.254352</td>\n",
       "      <td>0.255016</td>\n",
       "      <td>0.254450</td>\n",
       "      <td>0.254172</td>\n",
       "      <td>0.253873</td>\n",
       "      <td>0.253265</td>\n",
       "      <td>0.254675</td>\n",
       "      <td>...</td>\n",
       "      <td>1.004021</td>\n",
       "      <td>1.005050</td>\n",
       "      <td>1.006264</td>\n",
       "      <td>1.007143</td>\n",
       "      <td>1.006948</td>\n",
       "      <td>1.007114</td>\n",
       "      <td>1.005921</td>\n",
       "      <td>11.400</td>\n",
       "      <td>11.851016</td>\n",
       "      <td>11</td>\n",
       "    </tr>\n",
       "    <tr>\n",
       "      <th>40</th>\n",
       "      <td>0.258311</td>\n",
       "      <td>0.258076</td>\n",
       "      <td>0.258011</td>\n",
       "      <td>0.257191</td>\n",
       "      <td>0.258312</td>\n",
       "      <td>0.258700</td>\n",
       "      <td>0.258857</td>\n",
       "      <td>0.257673</td>\n",
       "      <td>0.255674</td>\n",
       "      <td>0.256207</td>\n",
       "      <td>...</td>\n",
       "      <td>1.032472</td>\n",
       "      <td>1.034184</td>\n",
       "      <td>1.034415</td>\n",
       "      <td>1.033890</td>\n",
       "      <td>1.034755</td>\n",
       "      <td>1.035505</td>\n",
       "      <td>1.035084</td>\n",
       "      <td>11.400</td>\n",
       "      <td>11.738149</td>\n",
       "      <td>11</td>\n",
       "    </tr>\n",
       "    <tr>\n",
       "      <th>41</th>\n",
       "      <td>0.257069</td>\n",
       "      <td>0.258082</td>\n",
       "      <td>0.258115</td>\n",
       "      <td>0.257384</td>\n",
       "      <td>0.258556</td>\n",
       "      <td>0.257577</td>\n",
       "      <td>0.255720</td>\n",
       "      <td>0.254580</td>\n",
       "      <td>0.253582</td>\n",
       "      <td>0.254292</td>\n",
       "      <td>...</td>\n",
       "      <td>1.025975</td>\n",
       "      <td>1.026418</td>\n",
       "      <td>1.027845</td>\n",
       "      <td>1.028105</td>\n",
       "      <td>1.027976</td>\n",
       "      <td>1.028875</td>\n",
       "      <td>1.029002</td>\n",
       "      <td>11.400</td>\n",
       "      <td>11.851016</td>\n",
       "      <td>11</td>\n",
       "    </tr>\n",
       "    <tr>\n",
       "      <th>42</th>\n",
       "      <td>0.250550</td>\n",
       "      <td>0.252532</td>\n",
       "      <td>0.252906</td>\n",
       "      <td>0.252544</td>\n",
       "      <td>0.253875</td>\n",
       "      <td>0.254447</td>\n",
       "      <td>0.253906</td>\n",
       "      <td>0.252371</td>\n",
       "      <td>0.251943</td>\n",
       "      <td>0.251802</td>\n",
       "      <td>...</td>\n",
       "      <td>1.020970</td>\n",
       "      <td>1.023804</td>\n",
       "      <td>1.024833</td>\n",
       "      <td>1.023309</td>\n",
       "      <td>1.023972</td>\n",
       "      <td>1.025676</td>\n",
       "      <td>1.025312</td>\n",
       "      <td>11.400</td>\n",
       "      <td>11.399549</td>\n",
       "      <td>11</td>\n",
       "    </tr>\n",
       "    <tr>\n",
       "      <th>43</th>\n",
       "      <td>0.257869</td>\n",
       "      <td>0.259482</td>\n",
       "      <td>0.257427</td>\n",
       "      <td>0.255503</td>\n",
       "      <td>0.255837</td>\n",
       "      <td>0.255185</td>\n",
       "      <td>0.255514</td>\n",
       "      <td>0.254533</td>\n",
       "      <td>0.253705</td>\n",
       "      <td>0.255364</td>\n",
       "      <td>...</td>\n",
       "      <td>1.036179</td>\n",
       "      <td>1.036123</td>\n",
       "      <td>1.036085</td>\n",
       "      <td>1.039073</td>\n",
       "      <td>1.040777</td>\n",
       "      <td>1.040218</td>\n",
       "      <td>1.038903</td>\n",
       "      <td>11.300</td>\n",
       "      <td>11.386697</td>\n",
       "      <td>10</td>\n",
       "    </tr>\n",
       "    <tr>\n",
       "      <th>44</th>\n",
       "      <td>0.253776</td>\n",
       "      <td>0.254999</td>\n",
       "      <td>0.254729</td>\n",
       "      <td>0.254936</td>\n",
       "      <td>0.254558</td>\n",
       "      <td>0.254637</td>\n",
       "      <td>0.253974</td>\n",
       "      <td>0.252614</td>\n",
       "      <td>0.253940</td>\n",
       "      <td>0.254645</td>\n",
       "      <td>...</td>\n",
       "      <td>1.025141</td>\n",
       "      <td>1.026266</td>\n",
       "      <td>1.026563</td>\n",
       "      <td>1.027050</td>\n",
       "      <td>1.028430</td>\n",
       "      <td>1.027831</td>\n",
       "      <td>1.026302</td>\n",
       "      <td>11.500</td>\n",
       "      <td>11.864407</td>\n",
       "      <td>11</td>\n",
       "    </tr>\n",
       "    <tr>\n",
       "      <th>45</th>\n",
       "      <td>0.251022</td>\n",
       "      <td>0.253164</td>\n",
       "      <td>0.254225</td>\n",
       "      <td>0.253501</td>\n",
       "      <td>0.251422</td>\n",
       "      <td>0.250902</td>\n",
       "      <td>0.251424</td>\n",
       "      <td>0.250264</td>\n",
       "      <td>0.250787</td>\n",
       "      <td>0.252114</td>\n",
       "      <td>...</td>\n",
       "      <td>1.018626</td>\n",
       "      <td>1.021317</td>\n",
       "      <td>1.022105</td>\n",
       "      <td>1.021015</td>\n",
       "      <td>1.020724</td>\n",
       "      <td>1.020642</td>\n",
       "      <td>1.019981</td>\n",
       "      <td>11.400</td>\n",
       "      <td>11.738149</td>\n",
       "      <td>11</td>\n",
       "    </tr>\n",
       "    <tr>\n",
       "      <th>46</th>\n",
       "      <td>0.253259</td>\n",
       "      <td>0.254735</td>\n",
       "      <td>0.254103</td>\n",
       "      <td>0.254307</td>\n",
       "      <td>0.253900</td>\n",
       "      <td>0.252966</td>\n",
       "      <td>0.252612</td>\n",
       "      <td>0.252606</td>\n",
       "      <td>0.253165</td>\n",
       "      <td>0.253415</td>\n",
       "      <td>...</td>\n",
       "      <td>1.022063</td>\n",
       "      <td>1.022654</td>\n",
       "      <td>1.023889</td>\n",
       "      <td>1.025288</td>\n",
       "      <td>1.024901</td>\n",
       "      <td>1.025971</td>\n",
       "      <td>1.024668</td>\n",
       "      <td>11.400</td>\n",
       "      <td>11.738149</td>\n",
       "      <td>11</td>\n",
       "    </tr>\n",
       "    <tr>\n",
       "      <th>47</th>\n",
       "      <td>0.255410</td>\n",
       "      <td>0.257697</td>\n",
       "      <td>0.256808</td>\n",
       "      <td>0.255918</td>\n",
       "      <td>0.255936</td>\n",
       "      <td>0.254739</td>\n",
       "      <td>0.255151</td>\n",
       "      <td>0.255463</td>\n",
       "      <td>0.255864</td>\n",
       "      <td>0.256951</td>\n",
       "      <td>...</td>\n",
       "      <td>1.049840</td>\n",
       "      <td>1.050834</td>\n",
       "      <td>1.051609</td>\n",
       "      <td>1.053023</td>\n",
       "      <td>1.052894</td>\n",
       "      <td>1.052838</td>\n",
       "      <td>1.053111</td>\n",
       "      <td>11.600</td>\n",
       "      <td>11.651584</td>\n",
       "      <td>11</td>\n",
       "    </tr>\n",
       "    <tr>\n",
       "      <th>48</th>\n",
       "      <td>0.251296</td>\n",
       "      <td>0.253070</td>\n",
       "      <td>0.251677</td>\n",
       "      <td>0.251291</td>\n",
       "      <td>0.251760</td>\n",
       "      <td>0.252565</td>\n",
       "      <td>0.252042</td>\n",
       "      <td>0.250816</td>\n",
       "      <td>0.251087</td>\n",
       "      <td>0.251145</td>\n",
       "      <td>...</td>\n",
       "      <td>1.020797</td>\n",
       "      <td>1.024048</td>\n",
       "      <td>1.024507</td>\n",
       "      <td>1.023532</td>\n",
       "      <td>1.024605</td>\n",
       "      <td>1.025481</td>\n",
       "      <td>1.023697</td>\n",
       "      <td>11.600</td>\n",
       "      <td>11.425339</td>\n",
       "      <td>11</td>\n",
       "    </tr>\n",
       "    <tr>\n",
       "      <th>49</th>\n",
       "      <td>0.263522</td>\n",
       "      <td>0.262702</td>\n",
       "      <td>0.262920</td>\n",
       "      <td>0.262647</td>\n",
       "      <td>0.263164</td>\n",
       "      <td>0.265047</td>\n",
       "      <td>0.265237</td>\n",
       "      <td>0.263143</td>\n",
       "      <td>0.260931</td>\n",
       "      <td>0.262304</td>\n",
       "      <td>...</td>\n",
       "      <td>1.024043</td>\n",
       "      <td>1.026641</td>\n",
       "      <td>1.027270</td>\n",
       "      <td>1.027420</td>\n",
       "      <td>1.027214</td>\n",
       "      <td>1.026664</td>\n",
       "      <td>1.025906</td>\n",
       "      <td>14.000</td>\n",
       "      <td>14.069767</td>\n",
       "      <td>14</td>\n",
       "    </tr>\n",
       "    <tr>\n",
       "      <th>50</th>\n",
       "      <td>0.256768</td>\n",
       "      <td>0.256283</td>\n",
       "      <td>0.256882</td>\n",
       "      <td>0.256829</td>\n",
       "      <td>0.257449</td>\n",
       "      <td>0.256208</td>\n",
       "      <td>0.256398</td>\n",
       "      <td>0.255926</td>\n",
       "      <td>0.254511</td>\n",
       "      <td>0.255453</td>\n",
       "      <td>...</td>\n",
       "      <td>1.006964</td>\n",
       "      <td>1.009028</td>\n",
       "      <td>1.010107</td>\n",
       "      <td>1.010069</td>\n",
       "      <td>1.009959</td>\n",
       "      <td>1.010662</td>\n",
       "      <td>1.010463</td>\n",
       "      <td>13.670</td>\n",
       "      <td>13.784316</td>\n",
       "      <td>13</td>\n",
       "    </tr>\n",
       "    <tr>\n",
       "      <th>51</th>\n",
       "      <td>0.259404</td>\n",
       "      <td>0.258937</td>\n",
       "      <td>0.259846</td>\n",
       "      <td>0.260747</td>\n",
       "      <td>0.261178</td>\n",
       "      <td>0.260579</td>\n",
       "      <td>0.260135</td>\n",
       "      <td>0.259773</td>\n",
       "      <td>0.258792</td>\n",
       "      <td>0.256777</td>\n",
       "      <td>...</td>\n",
       "      <td>1.020620</td>\n",
       "      <td>1.022922</td>\n",
       "      <td>1.024537</td>\n",
       "      <td>1.024719</td>\n",
       "      <td>1.023667</td>\n",
       "      <td>1.023886</td>\n",
       "      <td>1.024930</td>\n",
       "      <td>13.920</td>\n",
       "      <td>13.708178</td>\n",
       "      <td>13</td>\n",
       "    </tr>\n",
       "    <tr>\n",
       "      <th>52</th>\n",
       "      <td>0.257759</td>\n",
       "      <td>0.258404</td>\n",
       "      <td>0.258526</td>\n",
       "      <td>0.259258</td>\n",
       "      <td>0.261368</td>\n",
       "      <td>0.259283</td>\n",
       "      <td>0.259539</td>\n",
       "      <td>0.260451</td>\n",
       "      <td>0.258550</td>\n",
       "      <td>0.258614</td>\n",
       "      <td>...</td>\n",
       "      <td>1.037596</td>\n",
       "      <td>1.038527</td>\n",
       "      <td>1.039187</td>\n",
       "      <td>1.039403</td>\n",
       "      <td>1.039181</td>\n",
       "      <td>1.038982</td>\n",
       "      <td>1.037722</td>\n",
       "      <td>14.000</td>\n",
       "      <td>13.720930</td>\n",
       "      <td>13</td>\n",
       "    </tr>\n",
       "    <tr>\n",
       "      <th>53</th>\n",
       "      <td>0.259123</td>\n",
       "      <td>0.257965</td>\n",
       "      <td>0.259065</td>\n",
       "      <td>0.259509</td>\n",
       "      <td>0.261161</td>\n",
       "      <td>0.260770</td>\n",
       "      <td>0.260229</td>\n",
       "      <td>0.261076</td>\n",
       "      <td>0.259059</td>\n",
       "      <td>0.257843</td>\n",
       "      <td>...</td>\n",
       "      <td>1.029731</td>\n",
       "      <td>1.030563</td>\n",
       "      <td>1.031681</td>\n",
       "      <td>1.032558</td>\n",
       "      <td>1.032063</td>\n",
       "      <td>1.032394</td>\n",
       "      <td>1.031326</td>\n",
       "      <td>13.735</td>\n",
       "      <td>13.331015</td>\n",
       "      <td>13</td>\n",
       "    </tr>\n",
       "    <tr>\n",
       "      <th>54</th>\n",
       "      <td>0.258738</td>\n",
       "      <td>0.258214</td>\n",
       "      <td>0.256970</td>\n",
       "      <td>0.257347</td>\n",
       "      <td>0.259137</td>\n",
       "      <td>0.258965</td>\n",
       "      <td>0.259720</td>\n",
       "      <td>0.259374</td>\n",
       "      <td>0.257799</td>\n",
       "      <td>0.256341</td>\n",
       "      <td>...</td>\n",
       "      <td>0.999819</td>\n",
       "      <td>1.001033</td>\n",
       "      <td>1.001584</td>\n",
       "      <td>1.002568</td>\n",
       "      <td>1.002324</td>\n",
       "      <td>1.002347</td>\n",
       "      <td>1.002510</td>\n",
       "      <td>13.880</td>\n",
       "      <td>13.353460</td>\n",
       "      <td>13</td>\n",
       "    </tr>\n",
       "    <tr>\n",
       "      <th>55</th>\n",
       "      <td>0.262997</td>\n",
       "      <td>0.262845</td>\n",
       "      <td>0.260861</td>\n",
       "      <td>0.261680</td>\n",
       "      <td>0.263196</td>\n",
       "      <td>0.262327</td>\n",
       "      <td>0.260859</td>\n",
       "      <td>0.261324</td>\n",
       "      <td>0.262683</td>\n",
       "      <td>0.263153</td>\n",
       "      <td>...</td>\n",
       "      <td>1.054179</td>\n",
       "      <td>1.057041</td>\n",
       "      <td>1.057470</td>\n",
       "      <td>1.056402</td>\n",
       "      <td>1.055508</td>\n",
       "      <td>1.056635</td>\n",
       "      <td>1.058438</td>\n",
       "      <td>14.300</td>\n",
       "      <td>14.235706</td>\n",
       "      <td>14</td>\n",
       "    </tr>\n",
       "    <tr>\n",
       "      <th>56</th>\n",
       "      <td>0.263524</td>\n",
       "      <td>0.264933</td>\n",
       "      <td>0.263065</td>\n",
       "      <td>0.261639</td>\n",
       "      <td>0.262520</td>\n",
       "      <td>0.263099</td>\n",
       "      <td>0.262453</td>\n",
       "      <td>0.260515</td>\n",
       "      <td>0.261856</td>\n",
       "      <td>0.262501</td>\n",
       "      <td>...</td>\n",
       "      <td>1.036724</td>\n",
       "      <td>1.037468</td>\n",
       "      <td>1.037349</td>\n",
       "      <td>1.037787</td>\n",
       "      <td>1.037330</td>\n",
       "      <td>1.036351</td>\n",
       "      <td>1.036066</td>\n",
       "      <td>14.500</td>\n",
       "      <td>14.035088</td>\n",
       "      <td>14</td>\n",
       "    </tr>\n",
       "    <tr>\n",
       "      <th>57</th>\n",
       "      <td>0.257928</td>\n",
       "      <td>0.258493</td>\n",
       "      <td>0.256274</td>\n",
       "      <td>0.256748</td>\n",
       "      <td>0.256847</td>\n",
       "      <td>0.255802</td>\n",
       "      <td>0.256963</td>\n",
       "      <td>0.255658</td>\n",
       "      <td>0.254012</td>\n",
       "      <td>0.255144</td>\n",
       "      <td>...</td>\n",
       "      <td>1.038969</td>\n",
       "      <td>1.040504</td>\n",
       "      <td>1.039957</td>\n",
       "      <td>1.041634</td>\n",
       "      <td>1.042717</td>\n",
       "      <td>1.042537</td>\n",
       "      <td>1.041138</td>\n",
       "      <td>14.500</td>\n",
       "      <td>13.801170</td>\n",
       "      <td>13</td>\n",
       "    </tr>\n",
       "    <tr>\n",
       "      <th>58</th>\n",
       "      <td>0.264258</td>\n",
       "      <td>0.265769</td>\n",
       "      <td>0.265144</td>\n",
       "      <td>0.262717</td>\n",
       "      <td>0.262066</td>\n",
       "      <td>0.261431</td>\n",
       "      <td>0.262405</td>\n",
       "      <td>0.262650</td>\n",
       "      <td>0.262869</td>\n",
       "      <td>0.263462</td>\n",
       "      <td>...</td>\n",
       "      <td>1.064523</td>\n",
       "      <td>1.066684</td>\n",
       "      <td>1.066300</td>\n",
       "      <td>1.066078</td>\n",
       "      <td>1.066394</td>\n",
       "      <td>1.068570</td>\n",
       "      <td>1.067794</td>\n",
       "      <td>13.800</td>\n",
       "      <td>13.805104</td>\n",
       "      <td>13</td>\n",
       "    </tr>\n",
       "    <tr>\n",
       "      <th>59</th>\n",
       "      <td>0.261645</td>\n",
       "      <td>0.263557</td>\n",
       "      <td>0.260884</td>\n",
       "      <td>0.260163</td>\n",
       "      <td>0.261343</td>\n",
       "      <td>0.261019</td>\n",
       "      <td>0.260655</td>\n",
       "      <td>0.258698</td>\n",
       "      <td>0.259224</td>\n",
       "      <td>0.261512</td>\n",
       "      <td>...</td>\n",
       "      <td>1.058526</td>\n",
       "      <td>1.060265</td>\n",
       "      <td>1.060853</td>\n",
       "      <td>1.060331</td>\n",
       "      <td>1.060213</td>\n",
       "      <td>1.062184</td>\n",
       "      <td>1.063425</td>\n",
       "      <td>13.900</td>\n",
       "      <td>13.588850</td>\n",
       "      <td>13</td>\n",
       "    </tr>\n",
       "    <tr>\n",
       "      <th>60</th>\n",
       "      <td>0.255387</td>\n",
       "      <td>0.256557</td>\n",
       "      <td>0.257468</td>\n",
       "      <td>0.256755</td>\n",
       "      <td>0.255548</td>\n",
       "      <td>0.255051</td>\n",
       "      <td>0.255576</td>\n",
       "      <td>0.256388</td>\n",
       "      <td>0.255947</td>\n",
       "      <td>0.256028</td>\n",
       "      <td>...</td>\n",
       "      <td>1.024929</td>\n",
       "      <td>1.026869</td>\n",
       "      <td>1.029787</td>\n",
       "      <td>1.029719</td>\n",
       "      <td>1.027954</td>\n",
       "      <td>1.026543</td>\n",
       "      <td>1.027072</td>\n",
       "      <td>14.000</td>\n",
       "      <td>14.186047</td>\n",
       "      <td>14</td>\n",
       "    </tr>\n",
       "    <tr>\n",
       "      <th>61</th>\n",
       "      <td>0.260055</td>\n",
       "      <td>0.261521</td>\n",
       "      <td>0.260796</td>\n",
       "      <td>0.261677</td>\n",
       "      <td>0.261635</td>\n",
       "      <td>0.258871</td>\n",
       "      <td>0.257091</td>\n",
       "      <td>0.258535</td>\n",
       "      <td>0.259138</td>\n",
       "      <td>0.260256</td>\n",
       "      <td>...</td>\n",
       "      <td>1.045070</td>\n",
       "      <td>1.046475</td>\n",
       "      <td>1.047091</td>\n",
       "      <td>1.047631</td>\n",
       "      <td>1.048851</td>\n",
       "      <td>1.049913</td>\n",
       "      <td>1.048571</td>\n",
       "      <td>14.100</td>\n",
       "      <td>14.318976</td>\n",
       "      <td>14</td>\n",
       "    </tr>\n",
       "    <tr>\n",
       "      <th>62</th>\n",
       "      <td>0.261027</td>\n",
       "      <td>0.262079</td>\n",
       "      <td>0.260400</td>\n",
       "      <td>0.259748</td>\n",
       "      <td>0.259618</td>\n",
       "      <td>0.258786</td>\n",
       "      <td>0.258932</td>\n",
       "      <td>0.257340</td>\n",
       "      <td>0.256873</td>\n",
       "      <td>0.259077</td>\n",
       "      <td>...</td>\n",
       "      <td>1.052203</td>\n",
       "      <td>1.054044</td>\n",
       "      <td>1.055173</td>\n",
       "      <td>1.055738</td>\n",
       "      <td>1.057897</td>\n",
       "      <td>1.059257</td>\n",
       "      <td>1.057239</td>\n",
       "      <td>14.200</td>\n",
       "      <td>13.986014</td>\n",
       "      <td>13</td>\n",
       "    </tr>\n",
       "    <tr>\n",
       "      <th>63</th>\n",
       "      <td>0.257334</td>\n",
       "      <td>0.258735</td>\n",
       "      <td>0.257742</td>\n",
       "      <td>0.256439</td>\n",
       "      <td>0.255940</td>\n",
       "      <td>0.255588</td>\n",
       "      <td>0.255329</td>\n",
       "      <td>0.255204</td>\n",
       "      <td>0.256131</td>\n",
       "      <td>0.255853</td>\n",
       "      <td>...</td>\n",
       "      <td>1.054979</td>\n",
       "      <td>1.056454</td>\n",
       "      <td>1.057531</td>\n",
       "      <td>1.059781</td>\n",
       "      <td>1.060897</td>\n",
       "      <td>1.059562</td>\n",
       "      <td>1.057915</td>\n",
       "      <td>14.200</td>\n",
       "      <td>13.869464</td>\n",
       "      <td>13</td>\n",
       "    </tr>\n",
       "    <tr>\n",
       "      <th>64</th>\n",
       "      <td>0.259750</td>\n",
       "      <td>0.261176</td>\n",
       "      <td>0.260649</td>\n",
       "      <td>0.260872</td>\n",
       "      <td>0.262105</td>\n",
       "      <td>0.262085</td>\n",
       "      <td>0.261662</td>\n",
       "      <td>0.260108</td>\n",
       "      <td>0.260835</td>\n",
       "      <td>0.261071</td>\n",
       "      <td>...</td>\n",
       "      <td>1.047974</td>\n",
       "      <td>1.049033</td>\n",
       "      <td>1.048476</td>\n",
       "      <td>1.049073</td>\n",
       "      <td>1.050243</td>\n",
       "      <td>1.050267</td>\n",
       "      <td>1.050142</td>\n",
       "      <td>14.300</td>\n",
       "      <td>13.885648</td>\n",
       "      <td>13</td>\n",
       "    </tr>\n",
       "  </tbody>\n",
       "</table>\n",
       "<p>65 rows × 1560 columns</p>\n",
       "</div>"
      ],
      "text/plain": [
       "    999.8970106  1000.28298  1000.669047  1001.055413  1001.441976  \\\n",
       "0      0.264490    0.265070     0.264313     0.265251     0.264319   \n",
       "1      0.283164    0.284325     0.283624     0.284148     0.282205   \n",
       "2      0.276600    0.277441     0.275031     0.276462     0.276817   \n",
       "3      0.284350    0.286067     0.286507     0.286528     0.286619   \n",
       "4      0.294623    0.296398     0.297447     0.295038     0.291319   \n",
       "5      0.282375    0.287083     0.286892     0.284803     0.283465   \n",
       "6      0.282874    0.284265     0.283478     0.282764     0.282825   \n",
       "7      0.296397    0.298170     0.298537     0.296517     0.294241   \n",
       "8      0.287868    0.291356     0.291459     0.290088     0.290191   \n",
       "9      0.278647    0.280093     0.279433     0.278047     0.277211   \n",
       "10     0.276862    0.280093     0.280191     0.278375     0.278081   \n",
       "11     0.281426    0.283584     0.283887     0.281944     0.281006   \n",
       "12     0.281154    0.283837     0.284432     0.284098     0.284167   \n",
       "13     0.273015    0.276437     0.275924     0.274677     0.273080   \n",
       "14     0.276055    0.278207     0.279193     0.277639     0.275753   \n",
       "15     0.288452    0.290421     0.290402     0.288629     0.288480   \n",
       "16     0.297521    0.300073     0.300032     0.299144     0.299168   \n",
       "17     0.256282    0.254573     0.254210     0.255648     0.257451   \n",
       "18     0.252859    0.250948     0.249849     0.251464     0.254061   \n",
       "19     0.250291    0.249946     0.248455     0.248172     0.249665   \n",
       "20     0.248330    0.247141     0.246445     0.247026     0.249957   \n",
       "21     0.251721    0.251463     0.251353     0.251487     0.251267   \n",
       "22     0.248124    0.249511     0.248142     0.247333     0.248580   \n",
       "23     0.253627    0.254530     0.255181     0.255941     0.256887   \n",
       "24     0.252620    0.253485     0.252943     0.253443     0.254430   \n",
       "25     0.256270    0.256963     0.256179     0.256207     0.256496   \n",
       "26     0.253611    0.255030     0.254088     0.253468     0.254138   \n",
       "27     0.252132    0.254617     0.254898     0.252366     0.251709   \n",
       "28     0.250363    0.252966     0.253875     0.253420     0.253347   \n",
       "29     0.251585    0.254031     0.253531     0.252722     0.251066   \n",
       "30     0.250714    0.251298     0.249084     0.249862     0.250715   \n",
       "31     0.250488    0.251893     0.250915     0.250356     0.250844   \n",
       "32     0.253343    0.254145     0.253261     0.254031     0.254646   \n",
       "33     0.255559    0.255482     0.255068     0.256057     0.258279   \n",
       "34     0.249233    0.250576     0.251079     0.250124     0.250738   \n",
       "35     0.254324    0.254918     0.254730     0.251984     0.253286   \n",
       "36     0.252615    0.253911     0.254604     0.252776     0.253701   \n",
       "37     0.255005    0.255048     0.253761     0.251688     0.253740   \n",
       "38     0.254603    0.254870     0.254420     0.253078     0.253854   \n",
       "39     0.251916    0.253609     0.254845     0.254352     0.255016   \n",
       "40     0.258311    0.258076     0.258011     0.257191     0.258312   \n",
       "41     0.257069    0.258082     0.258115     0.257384     0.258556   \n",
       "42     0.250550    0.252532     0.252906     0.252544     0.253875   \n",
       "43     0.257869    0.259482     0.257427     0.255503     0.255837   \n",
       "44     0.253776    0.254999     0.254729     0.254936     0.254558   \n",
       "45     0.251022    0.253164     0.254225     0.253501     0.251422   \n",
       "46     0.253259    0.254735     0.254103     0.254307     0.253900   \n",
       "47     0.255410    0.257697     0.256808     0.255918     0.255936   \n",
       "48     0.251296    0.253070     0.251677     0.251291     0.251760   \n",
       "49     0.263522    0.262702     0.262920     0.262647     0.263164   \n",
       "50     0.256768    0.256283     0.256882     0.256829     0.257449   \n",
       "51     0.259404    0.258937     0.259846     0.260747     0.261178   \n",
       "52     0.257759    0.258404     0.258526     0.259258     0.261368   \n",
       "53     0.259123    0.257965     0.259065     0.259509     0.261161   \n",
       "54     0.258738    0.258214     0.256970     0.257347     0.259137   \n",
       "55     0.262997    0.262845     0.260861     0.261680     0.263196   \n",
       "56     0.263524    0.264933     0.263065     0.261639     0.262520   \n",
       "57     0.257928    0.258493     0.256274     0.256748     0.256847   \n",
       "58     0.264258    0.265769     0.265144     0.262717     0.262066   \n",
       "59     0.261645    0.263557     0.260884     0.260163     0.261343   \n",
       "60     0.255387    0.256557     0.257468     0.256755     0.255548   \n",
       "61     0.260055    0.261521     0.260796     0.261677     0.261635   \n",
       "62     0.261027    0.262079     0.260400     0.259748     0.259618   \n",
       "63     0.257334    0.258735     0.257742     0.256439     0.255940   \n",
       "64     0.259750    0.261176     0.260649     0.260872     0.262105   \n",
       "\n",
       "    1001.829039  1002.216201  1002.603862  1002.991623  1003.379885  ...  \\\n",
       "0      0.264963     0.265600     0.265346     0.264630     0.264989  ...   \n",
       "1      0.281135     0.281490     0.281886     0.282097     0.282473  ...   \n",
       "2      0.276438     0.276419     0.276996     0.279289     0.279410  ...   \n",
       "3      0.286029     0.285122     0.286209     0.286949     0.287247  ...   \n",
       "4      0.292503     0.295399     0.297310     0.297976     0.297869  ...   \n",
       "5      0.282188     0.284186     0.286474     0.287194     0.286512  ...   \n",
       "6      0.283858     0.285506     0.286562     0.286818     0.286688  ...   \n",
       "7      0.295545     0.298439     0.299407     0.300325     0.298181  ...   \n",
       "8      0.290831     0.292437     0.293254     0.293087     0.292965  ...   \n",
       "9      0.278076     0.280960     0.282530     0.282205     0.281284  ...   \n",
       "10     0.277663     0.278634     0.280083     0.281196     0.282054  ...   \n",
       "11     0.281136     0.282682     0.283940     0.284828     0.285302  ...   \n",
       "12     0.284492     0.286225     0.285542     0.287165     0.287850  ...   \n",
       "13     0.272797     0.273364     0.273914     0.274611     0.275076  ...   \n",
       "14     0.277209     0.278196     0.278098     0.279828     0.279685  ...   \n",
       "15     0.287924     0.288443     0.288692     0.291809     0.291985  ...   \n",
       "16     0.298542     0.299683     0.300385     0.300661     0.300363  ...   \n",
       "17     0.257088     0.257334     0.256952     0.255814     0.255297  ...   \n",
       "18     0.253598     0.252981     0.252762     0.251284     0.251291  ...   \n",
       "19     0.249874     0.249791     0.249679     0.248930     0.248778  ...   \n",
       "20     0.249816     0.249286     0.247967     0.247006     0.247687  ...   \n",
       "21     0.249875     0.250233     0.249626     0.249825     0.251413  ...   \n",
       "22     0.248597     0.248738     0.246566     0.246000     0.246762  ...   \n",
       "23     0.256450     0.257743     0.256965     0.254140     0.253274  ...   \n",
       "24     0.253621     0.253191     0.251473     0.251421     0.251859  ...   \n",
       "25     0.255933     0.255023     0.253956     0.253852     0.255309  ...   \n",
       "26     0.253594     0.252690     0.251973     0.251686     0.252385  ...   \n",
       "27     0.251422     0.251670     0.250308     0.250298     0.252596  ...   \n",
       "28     0.253393     0.252991     0.251887     0.251875     0.252293  ...   \n",
       "29     0.249774     0.249317     0.251281     0.252823     0.251616  ...   \n",
       "30     0.251612     0.252005     0.250611     0.251786     0.252630  ...   \n",
       "31     0.250693     0.249664     0.248040     0.249005     0.251130  ...   \n",
       "32     0.254382     0.254502     0.253372     0.255058     0.256222  ...   \n",
       "33     0.257545     0.257592     0.256295     0.254973     0.255176  ...   \n",
       "34     0.251958     0.251795     0.249268     0.248534     0.250446  ...   \n",
       "35     0.254010     0.254022     0.253625     0.253054     0.253788  ...   \n",
       "36     0.254805     0.254402     0.250843     0.249901     0.252352  ...   \n",
       "37     0.255931     0.255639     0.252628     0.251098     0.253494  ...   \n",
       "38     0.254746     0.255485     0.254228     0.251965     0.253634  ...   \n",
       "39     0.254450     0.254172     0.253873     0.253265     0.254675  ...   \n",
       "40     0.258700     0.258857     0.257673     0.255674     0.256207  ...   \n",
       "41     0.257577     0.255720     0.254580     0.253582     0.254292  ...   \n",
       "42     0.254447     0.253906     0.252371     0.251943     0.251802  ...   \n",
       "43     0.255185     0.255514     0.254533     0.253705     0.255364  ...   \n",
       "44     0.254637     0.253974     0.252614     0.253940     0.254645  ...   \n",
       "45     0.250902     0.251424     0.250264     0.250787     0.252114  ...   \n",
       "46     0.252966     0.252612     0.252606     0.253165     0.253415  ...   \n",
       "47     0.254739     0.255151     0.255463     0.255864     0.256951  ...   \n",
       "48     0.252565     0.252042     0.250816     0.251087     0.251145  ...   \n",
       "49     0.265047     0.265237     0.263143     0.260931     0.262304  ...   \n",
       "50     0.256208     0.256398     0.255926     0.254511     0.255453  ...   \n",
       "51     0.260579     0.260135     0.259773     0.258792     0.256777  ...   \n",
       "52     0.259283     0.259539     0.260451     0.258550     0.258614  ...   \n",
       "53     0.260770     0.260229     0.261076     0.259059     0.257843  ...   \n",
       "54     0.258965     0.259720     0.259374     0.257799     0.256341  ...   \n",
       "55     0.262327     0.260859     0.261324     0.262683     0.263153  ...   \n",
       "56     0.263099     0.262453     0.260515     0.261856     0.262501  ...   \n",
       "57     0.255802     0.256963     0.255658     0.254012     0.255144  ...   \n",
       "58     0.261431     0.262405     0.262650     0.262869     0.263462  ...   \n",
       "59     0.261019     0.260655     0.258698     0.259224     0.261512  ...   \n",
       "60     0.255051     0.255576     0.256388     0.255947     0.256028  ...   \n",
       "61     0.258871     0.257091     0.258535     0.259138     0.260256  ...   \n",
       "62     0.258786     0.258932     0.257340     0.256873     0.259077  ...   \n",
       "63     0.255588     0.255329     0.255204     0.256131     0.255853  ...   \n",
       "64     0.262085     0.261662     0.260108     0.260835     0.261071  ...   \n",
       "\n",
       "    2485.842505  2488.227573  2490.617843  2493.012709  2495.412185  \\\n",
       "0      1.000223     1.001534     1.001571     1.002851     1.004485   \n",
       "1      1.037318     1.038840     1.038373     1.038098     1.039568   \n",
       "2      1.053081     1.054179     1.054097     1.053567     1.053987   \n",
       "3      1.075393     1.077126     1.075814     1.075846     1.076120   \n",
       "4      1.013475     1.015025     1.014866     1.015861     1.016620   \n",
       "5      1.047044     1.049193     1.051013     1.051977     1.051542   \n",
       "6      1.027949     1.030002     1.029024     1.029246     1.029050   \n",
       "7      1.090794     1.091733     1.092713     1.094012     1.093522   \n",
       "8      1.076934     1.077594     1.078698     1.080099     1.080271   \n",
       "9      1.038255     1.039835     1.040807     1.040020     1.039720   \n",
       "10     1.061945     1.064431     1.065591     1.064840     1.065101   \n",
       "11     1.045613     1.046571     1.047235     1.047560     1.046955   \n",
       "12     1.083737     1.086494     1.087415     1.087173     1.086510   \n",
       "13     1.044944     1.045785     1.047099     1.048392     1.047026   \n",
       "14     1.039347     1.040770     1.040672     1.041388     1.041095   \n",
       "15     1.068070     1.069529     1.069754     1.070420     1.071329   \n",
       "16     1.029044     1.030594     1.031919     1.031285     1.030590   \n",
       "17     0.991584     0.992840     0.994159     0.995378     0.994890   \n",
       "18     0.928114     0.930028     0.930709     0.930913     0.930114   \n",
       "19     0.974909     0.976572     0.977227     0.978547     0.978478   \n",
       "20     0.957930     0.960628     0.961784     0.961693     0.961442   \n",
       "21     0.964460     0.966565     0.968296     0.967351     0.967812   \n",
       "22     0.950061     0.950665     0.951003     0.951404     0.951275   \n",
       "23     0.992198     0.993015     0.993830     0.994335     0.994702   \n",
       "24     0.977374     0.978632     0.979841     0.980336     0.982089   \n",
       "25     1.003075     1.004933     1.004528     1.004537     1.006445   \n",
       "26     0.992370     0.994610     0.995334     0.995611     0.997526   \n",
       "27     0.989732     0.990563     0.990997     0.991112     0.991372   \n",
       "28     0.999681     1.000850     1.003170     1.003583     1.002680   \n",
       "29     0.988306     0.990562     0.991101     0.989135     0.990369   \n",
       "30     1.001311     1.003182     1.005402     1.005359     1.004789   \n",
       "31     0.996807     0.997719     0.998255     0.998563     0.997936   \n",
       "32     1.016987     1.018629     1.019655     1.020241     1.020392   \n",
       "33     1.010871     1.012573     1.012513     1.012015     1.011233   \n",
       "34     0.984785     0.987174     0.987398     0.989278     0.990505   \n",
       "35     0.994023     0.995371     0.997228     0.998207     0.998430   \n",
       "36     0.998517     0.999528     0.999823     0.999645     1.001150   \n",
       "37     0.988368     0.990146     0.991362     0.991428     0.991208   \n",
       "38     1.013090     1.014284     1.017082     1.017660     1.016591   \n",
       "39     1.004021     1.005050     1.006264     1.007143     1.006948   \n",
       "40     1.032472     1.034184     1.034415     1.033890     1.034755   \n",
       "41     1.025975     1.026418     1.027845     1.028105     1.027976   \n",
       "42     1.020970     1.023804     1.024833     1.023309     1.023972   \n",
       "43     1.036179     1.036123     1.036085     1.039073     1.040777   \n",
       "44     1.025141     1.026266     1.026563     1.027050     1.028430   \n",
       "45     1.018626     1.021317     1.022105     1.021015     1.020724   \n",
       "46     1.022063     1.022654     1.023889     1.025288     1.024901   \n",
       "47     1.049840     1.050834     1.051609     1.053023     1.052894   \n",
       "48     1.020797     1.024048     1.024507     1.023532     1.024605   \n",
       "49     1.024043     1.026641     1.027270     1.027420     1.027214   \n",
       "50     1.006964     1.009028     1.010107     1.010069     1.009959   \n",
       "51     1.020620     1.022922     1.024537     1.024719     1.023667   \n",
       "52     1.037596     1.038527     1.039187     1.039403     1.039181   \n",
       "53     1.029731     1.030563     1.031681     1.032558     1.032063   \n",
       "54     0.999819     1.001033     1.001584     1.002568     1.002324   \n",
       "55     1.054179     1.057041     1.057470     1.056402     1.055508   \n",
       "56     1.036724     1.037468     1.037349     1.037787     1.037330   \n",
       "57     1.038969     1.040504     1.039957     1.041634     1.042717   \n",
       "58     1.064523     1.066684     1.066300     1.066078     1.066394   \n",
       "59     1.058526     1.060265     1.060853     1.060331     1.060213   \n",
       "60     1.024929     1.026869     1.029787     1.029719     1.027954   \n",
       "61     1.045070     1.046475     1.047091     1.047631     1.048851   \n",
       "62     1.052203     1.054044     1.055173     1.055738     1.057897   \n",
       "63     1.054979     1.056454     1.057531     1.059781     1.060897   \n",
       "64     1.047974     1.049033     1.048476     1.049073     1.050243   \n",
       "\n",
       "    2497.816284  2500.22502  Umidade    Protein  class  \n",
       "0      1.004250    1.002066   10.100  13.904338     13  \n",
       "1      1.039971    1.039888    8.700  14.786418     14  \n",
       "2      1.054386    1.052976   10.400  12.500000     12  \n",
       "3      1.076186    1.076950   11.600  14.819005     14  \n",
       "4      1.016702    1.016687   10.900  16.722783     16  \n",
       "5      1.050629    1.051896   10.800  14.573991     14  \n",
       "6      1.030828    1.031243   10.900  16.947250     17  \n",
       "7      1.093375    1.094220   10.900  12.008979     12  \n",
       "8      1.080195    1.078815   11.800  13.265306     13  \n",
       "9      1.040702    1.041183   11.050  14.839798     14  \n",
       "10     1.065465    1.065664   10.700  15.677492     14  \n",
       "11     1.045113    1.045376   10.100  17.463849     17  \n",
       "12     1.087434    1.085989   10.940  12.463508     12  \n",
       "13     1.047125    1.048848   10.920  10.664571     10  \n",
       "14     1.041560    1.041891   10.500  12.513966     12  \n",
       "15     1.070507    1.069557   11.700  13.476784     13  \n",
       "16     1.032339    1.032344   11.500  16.271186     16  \n",
       "17     0.993417    0.992413   10.900  16.947250     17  \n",
       "18     0.931235    0.932131   10.700  16.909295     16  \n",
       "19     0.977933    0.978138   11.100  16.647919     16  \n",
       "20     0.961261    0.961781   11.125  16.540084     16  \n",
       "21     0.968988    0.967985   11.000  16.741573     16  \n",
       "22     0.951623    0.952619   11.015  16.632017     16  \n",
       "23     0.994491    0.993614   11.500  16.836158     16  \n",
       "24     0.982213    0.980510   11.500  16.836158     16  \n",
       "25     1.006993    1.006798   11.500  16.497175     16  \n",
       "26     0.996147    0.994828   11.600  16.628959     16  \n",
       "27     0.991619    0.993110   11.600  16.402715     16  \n",
       "28     1.001863    1.001227   11.300  16.798196     16  \n",
       "29     0.991706    0.990469   11.400  16.704289     16  \n",
       "30     1.004744    1.004486   11.400  16.591422     16  \n",
       "31     0.996669    0.997118   11.400  16.478555     16  \n",
       "32     1.020082    1.020843   11.400  16.252822     16  \n",
       "33     1.011795    1.012690   10.900  12.008979     12  \n",
       "34     0.988860    0.988302   11.075  11.695249     11  \n",
       "35     0.998053    0.998757   10.960  11.567835     11  \n",
       "36     1.002648    1.001487   11.335  11.616760     11  \n",
       "37     0.991459    0.991594   11.345  11.392476     11  \n",
       "38     1.016532    1.016678   11.360  11.507220     11  \n",
       "39     1.007114    1.005921   11.400  11.851016     11  \n",
       "40     1.035505    1.035084   11.400  11.738149     11  \n",
       "41     1.028875    1.029002   11.400  11.851016     11  \n",
       "42     1.025676    1.025312   11.400  11.399549     11  \n",
       "43     1.040218    1.038903   11.300  11.386697     10  \n",
       "44     1.027831    1.026302   11.500  11.864407     11  \n",
       "45     1.020642    1.019981   11.400  11.738149     11  \n",
       "46     1.025971    1.024668   11.400  11.738149     11  \n",
       "47     1.052838    1.053111   11.600  11.651584     11  \n",
       "48     1.025481    1.023697   11.600  11.425339     11  \n",
       "49     1.026664    1.025906   14.000  14.069767     14  \n",
       "50     1.010662    1.010463   13.670  13.784316     13  \n",
       "51     1.023886    1.024930   13.920  13.708178     13  \n",
       "52     1.038982    1.037722   14.000  13.720930     13  \n",
       "53     1.032394    1.031326   13.735  13.331015     13  \n",
       "54     1.002347    1.002510   13.880  13.353460     13  \n",
       "55     1.056635    1.058438   14.300  14.235706     14  \n",
       "56     1.036351    1.036066   14.500  14.035088     14  \n",
       "57     1.042537    1.041138   14.500  13.801170     13  \n",
       "58     1.068570    1.067794   13.800  13.805104     13  \n",
       "59     1.062184    1.063425   13.900  13.588850     13  \n",
       "60     1.026543    1.027072   14.000  14.186047     14  \n",
       "61     1.049913    1.048571   14.100  14.318976     14  \n",
       "62     1.059257    1.057239   14.200  13.986014     13  \n",
       "63     1.059562    1.057915   14.200  13.869464     13  \n",
       "64     1.050267    1.050142   14.300  13.885648     13  \n",
       "\n",
       "[65 rows x 1560 columns]"
      ]
     },
     "execution_count": 72,
     "metadata": {},
     "output_type": "execute_result"
    }
   ],
   "source": [
    "##df.iloc[:,9:] = savgol_filter(df.values[:,9:], 3, polyorder=2, deriv=1)\n",
    "#df.iloc[:,9:] = snv(df.values[:,9:])\n",
    "df_pretreat = df.iloc[:,9:]\n",
    "df_pretreat['Umidade'] = df['Moisture']\n",
    "df_pretreat['Protein'] = df['Protein']\n",
    "df_pretreat['class'] = df['Protein'].astype(int)\n",
    "\n",
    "for index, row in df_pretreat.iterrows():\n",
    "    if row['class']== 15:\n",
    "        df_pretreat.loc[index, 'class'] = 14\n",
    "    if row['Protein']< 11.39 and row['Protein']> 11.3:\n",
    "        df_pretreat.loc[index, 'class'] = 10\n",
    "    if row['Protein']< 17 and row['Protein']> 16.91:\n",
    "        df_pretreat.loc[index, 'class'] = 17\n",
    "\n",
    "df_pretreat"
   ]
  },
  {
   "cell_type": "code",
   "execution_count": 73,
   "id": "955674db",
   "metadata": {},
   "outputs": [
    {
     "data": {
      "image/png": "[encoded data removed]",
      "text/plain": [
       "<Figure size 576x324 with 1 Axes>"
      ]
     },
     "metadata": {
      "needs_background": "light"
     },
     "output_type": "display_data"
    }
   ],
   "source": [
    "wl = np.arange(0, 1557, 1)\n",
    "plt.figure(figsize=(8, 4.5))\n",
    "with plt.style.context('ggplot'):\n",
    "    plt.plot(wl, df_pretreat.iloc[:,:-3].values.T)\n",
    "    plt.xlabel(\"Wavelengths (nm)\")\n",
    "    plt.ylabel(\"Absorbance\")\n",
    "    plt.show()"
   ]
  },
  {
   "cell_type": "code",
   "execution_count": 27,
   "id": "11cbadd5",
   "metadata": {},
   "outputs": [
    {
     "name": "stdout",
     "output_type": "stream",
     "text": [
      "[0.88334189 0.06457041 0.02465638 0.01915992 0.00250407]\n"
     ]
    }
   ],
   "source": [
    "import numpy as np\n",
    "from sklearn.decomposition import PCA\n",
    "from sklearn.preprocessing import StandardScaler\n",
    "\n",
    "\n",
    "\n",
    "pca = PCA(n_components=5)\n",
    "T = pca.fit_transform(df_pretreat.iloc[:,:-2])\n",
    "df_pca = pd.DataFrame(T)\n",
    "df_pca.rename(columns={0: 'PC1', 1: 'PC2', 2: 'PC3', 3: 'PC4', 4: 'PC5'}, inplace=True)\n",
    "\n",
    "print(pca.explained_variance_ratio_)\n"
   ]
  },
  {
   "cell_type": "code",
   "execution_count": 50,
   "id": "e0413042",
   "metadata": {},
   "outputs": [
    {
     "data": {
      "application/vnd.plotly.v1+json": {
       "config": {
        "plotlyServerURL": "https://plot.ly"
       },
       "data": [
        {
         "hoverlabel": {
          "namelength": 0
         },
         "hovertemplate": "PC1=%{x}<br>PC2=%{y}",
         "legendgroup": "",
         "marker": {
          "color": "#636efa",
          "symbol": "circle"
         },
         "mode": "markers",
         "name": "",
         "showlegend": false,
         "type": "scatter",
         "x": [
          -0.004761262659324521,
          -0.0019533298953606534,
          -0.0059102479317561865,
          -0.0023256063514846223,
          0.010923156625640234,
          0.008415798217795232,
          0.00956283134602901,
          0.007190971183343605,
          0.007353844080535553,
          0.008392770287388081,
          0.007050771377281091,
          0.008686146009620243,
          0.00657441840921089,
          0.007575437471020947,
          0.006676015196886612,
          0.006836133641291665,
          0.011855725199639788,
          0.002632294434392089,
          0.005660173637705013,
          0.003163634708005316,
          0.003880063627412934,
          0.0030823315803042853,
          0.0019766903377843024,
          0.0011384456543583439,
          0.001021759520578745,
          0.0008763307979686916,
          0.00021554286968218845,
          0.0012341779161100122,
          -0.004226229360869979,
          -0.004005782154719246,
          -0.0064846013718508145,
          -0.005920540221455019,
          -0.0057360794305621075,
          0.0010275244360109066,
          0.0011851011982056262,
          0.0000446203241451451,
          -0.0008473241723420569,
          0.00037241864110873084,
          -0.0004275505714699106,
          -0.0004644766006825753,
          -0.0022539217954620017,
          -0.0008676361742582876,
          -0.0008287335029998103,
          -0.002384282942883703,
          -0.0070749942736917605,
          -0.009049053380219652,
          -0.0069178008543978285,
          -0.008194281796477678,
          -0.007992022105211272,
          0.0003344592478105756,
          0.001985193492050132,
          0.00007445337565965475,
          -0.00018482591214611868,
          0.0018917247533400449,
          0.002373608287997976,
          -0.0024413339782614037,
          -0.0019403398491597687,
          -0.0022066838263328837,
          -0.003498783335106346,
          -0.0025363082411025187,
          -0.006728803123477086,
          -0.007727236787109664,
          -0.009720594306875687,
          -0.007685429565485505,
          -0.00796847141377696
         ],
         "xaxis": "x",
         "y": [
          0.0018768627567483612,
          0.00291972859430768,
          0.0039902589534801325,
          0.004381169467512457,
          0.0034831286299781706,
          0.009302039329143488,
          0.004570983742949025,
          0.007403680371672919,
          0.007708690159027705,
          0.005552425627320978,
          0.006544188738843239,
          0.0063865379072956755,
          0.007861136444616544,
          0.00750074865426624,
          0.005581655862479599,
          0.006144535035149919,
          0.003825466842127364,
          -0.00781359575777524,
          -0.009117866974647382,
          -0.006164274930393584,
          -0.00712331248720066,
          -0.006667033530870752,
          -0.007310870664191745,
          -0.007180939785250321,
          -0.006739931926048276,
          -0.005925882095348717,
          -0.005692081660457091,
          -0.004090154197913101,
          0.0018450923235086387,
          0.0033689883180436737,
          0.0015718735978955073,
          0.0037666768913627814,
          0.0022987029469560016,
          -0.004137846485940883,
          -0.004569835836817005,
          -0.004169756738354016,
          -0.005465991517397952,
          -0.005739369019353249,
          -0.00483607308456498,
          -0.004877083300858571,
          -0.004359696475950841,
          -0.004481166552775367,
          -0.003658488831754108,
          0.00046531440603815615,
          0.004121715565350724,
          0.0032827910308542256,
          0.0034283261780744694,
          0.004930409200959702,
          0.004126724774100736,
          -0.006078797981011165,
          -0.006028216052971655,
          -0.005307227950493178,
          -0.005036891262078902,
          -0.006334498438346199,
          -0.006745724207838376,
          0.000551119105920185,
          0.0016252793601097496,
          0.0017358697717498098,
          0.002453953793967397,
          0.0026175529161891935,
          0.0036752929981053984,
          0.00357496992280713,
          0.0037291233144042552,
          0.004433249114568509,
          0.0030163450987175204
         ],
         "yaxis": "y"
        }
       ],
       "layout": {
        "height": 600,
        "legend": {
         "tracegroupgap": 0
        },
        "margin": {
         "t": 60
        },
        "template": {
         "data": {
          "bar": [
           {
            "error_x": {
             "color": "#2a3f5f"
            },
            "error_y": {
             "color": "#2a3f5f"
            },
            "marker": {
             "line": {
              "color": "#E5ECF6",
              "width": 0.5
             }
            },
            "type": "bar"
           }
          ],
          "barpolar": [
           {
            "marker": {
             "line": {
              "color": "#E5ECF6",
              "width": 0.5
             }
            },
            "type": "barpolar"
           }
          ],
          "carpet": [
           {
            "aaxis": {
             "endlinecolor": "#2a3f5f",
             "gridcolor": "white",
             "linecolor": "white",
             "minorgridcolor": "white",
             "startlinecolor": "#2a3f5f"
            },
            "baxis": {
             "endlinecolor": "#2a3f5f",
             "gridcolor": "white",
             "linecolor": "white",
             "minorgridcolor": "white",
             "startlinecolor": "#2a3f5f"
            },
            "type": "carpet"
           }
          ],
          "choropleth": [
           {
            "colorbar": {
             "outlinewidth": 0,
             "ticks": ""
            },
            "type": "choropleth"
           }
          ],
          "contour": [
           {
            "colorbar": {
             "outlinewidth": 0,
             "ticks": ""
            },
            "colorscale": [
             [
              0,
              "#0d0887"
             ],
             [
              0.1111111111111111,
              "#46039f"
             ],
             [
              0.2222222222222222,
              "#7201a8"
             ],
             [
              0.3333333333333333,
              "#9c179e"
             ],
             [
              0.4444444444444444,
              "#bd3786"
             ],
             [
              0.5555555555555556,
              "#d8576b"
             ],
             [
              0.6666666666666666,
              "#ed7953"
             ],
             [
              0.7777777777777778,
              "#fb9f3a"
             ],
             [
              0.8888888888888888,
              "#fdca26"
             ],
             [
              1,
              "#f0f921"
             ]
            ],
            "type": "contour"
           }
          ],
          "contourcarpet": [
           {
            "colorbar": {
             "outlinewidth": 0,
             "ticks": ""
            },
            "type": "contourcarpet"
           }
          ],
          "heatmap": [
           {
            "colorbar": {
             "outlinewidth": 0,
             "ticks": ""
            },
            "colorscale": [
             [
              0,
              "#0d0887"
             ],
             [
              0.1111111111111111,
              "#46039f"
             ],
             [
              0.2222222222222222,
              "#7201a8"
             ],
             [
              0.3333333333333333,
              "#9c179e"
             ],
             [
              0.4444444444444444,
              "#bd3786"
             ],
             [
              0.5555555555555556,
              "#d8576b"
             ],
             [
              0.6666666666666666,
              "#ed7953"
             ],
             [
              0.7777777777777778,
              "#fb9f3a"
             ],
             [
              0.8888888888888888,
              "#fdca26"
             ],
             [
              1,
              "#f0f921"
             ]
            ],
            "type": "heatmap"
           }
          ],
          "heatmapgl": [
           {
            "colorbar": {
             "outlinewidth": 0,
             "ticks": ""
            },
            "colorscale": [
             [
              0,
              "#0d0887"
             ],
             [
              0.1111111111111111,
              "#46039f"
             ],
             [
              0.2222222222222222,
              "#7201a8"
             ],
             [
              0.3333333333333333,
              "#9c179e"
             ],
             [
              0.4444444444444444,
              "#bd3786"
             ],
             [
              0.5555555555555556,
              "#d8576b"
             ],
             [
              0.6666666666666666,
              "#ed7953"
             ],
             [
              0.7777777777777778,
              "#fb9f3a"
             ],
             [
              0.8888888888888888,
              "#fdca26"
             ],
             [
              1,
              "#f0f921"
             ]
            ],
            "type": "heatmapgl"
           }
          ],
          "histogram": [
           {
            "marker": {
             "colorbar": {
              "outlinewidth": 0,
              "ticks": ""
             }
            },
            "type": "histogram"
           }
          ],
          "histogram2d": [
           {
            "colorbar": {
             "outlinewidth": 0,
             "ticks": ""
            },
            "colorscale": [
             [
              0,
              "#0d0887"
             ],
             [
              0.1111111111111111,
              "#46039f"
             ],
             [
              0.2222222222222222,
              "#7201a8"
             ],
             [
              0.3333333333333333,
              "#9c179e"
             ],
             [
              0.4444444444444444,
              "#bd3786"
             ],
             [
              0.5555555555555556,
              "#d8576b"
             ],
             [
              0.6666666666666666,
              "#ed7953"
             ],
             [
              0.7777777777777778,
              "#fb9f3a"
             ],
             [
              0.8888888888888888,
              "#fdca26"
             ],
             [
              1,
              "#f0f921"
             ]
            ],
            "type": "histogram2d"
           }
          ],
          "histogram2dcontour": [
           {
            "colorbar": {
             "outlinewidth": 0,
             "ticks": ""
            },
            "colorscale": [
             [
              0,
              "#0d0887"
             ],
             [
              0.1111111111111111,
              "#46039f"
             ],
             [
              0.2222222222222222,
              "#7201a8"
             ],
             [
              0.3333333333333333,
              "#9c179e"
             ],
             [
              0.4444444444444444,
              "#bd3786"
             ],
             [
              0.5555555555555556,
              "#d8576b"
             ],
             [
              0.6666666666666666,
              "#ed7953"
             ],
             [
              0.7777777777777778,
              "#fb9f3a"
             ],
             [
              0.8888888888888888,
              "#fdca26"
             ],
             [
              1,
              "#f0f921"
             ]
            ],
            "type": "histogram2dcontour"
           }
          ],
          "mesh3d": [
           {
            "colorbar": {
             "outlinewidth": 0,
             "ticks": ""
            },
            "type": "mesh3d"
           }
          ],
          "parcoords": [
           {
            "line": {
             "colorbar": {
              "outlinewidth": 0,
              "ticks": ""
             }
            },
            "type": "parcoords"
           }
          ],
          "scatter": [
           {
            "marker": {
             "colorbar": {
              "outlinewidth": 0,
              "ticks": ""
             }
            },
            "type": "scatter"
           }
          ],
          "scatter3d": [
           {
            "line": {
             "colorbar": {
              "outlinewidth": 0,
              "ticks": ""
             }
            },
            "marker": {
             "colorbar": {
              "outlinewidth": 0,
              "ticks": ""
             }
            },
            "type": "scatter3d"
           }
          ],
          "scattercarpet": [
           {
            "marker": {
             "colorbar": {
              "outlinewidth": 0,
              "ticks": ""
             }
            },
            "type": "scattercarpet"
           }
          ],
          "scattergeo": [
           {
            "marker": {
             "colorbar": {
              "outlinewidth": 0,
              "ticks": ""
             }
            },
            "type": "scattergeo"
           }
          ],
          "scattergl": [
           {
            "marker": {
             "colorbar": {
              "outlinewidth": 0,
              "ticks": ""
             }
            },
            "type": "scattergl"
           }
          ],
          "scattermapbox": [
           {
            "marker": {
             "colorbar": {
              "outlinewidth": 0,
              "ticks": ""
             }
            },
            "type": "scattermapbox"
           }
          ],
          "scatterpolar": [
           {
            "marker": {
             "colorbar": {
              "outlinewidth": 0,
              "ticks": ""
             }
            },
            "type": "scatterpolar"
           }
          ],
          "scatterpolargl": [
           {
            "marker": {
             "colorbar": {
              "outlinewidth": 0,
              "ticks": ""
             }
            },
            "type": "scatterpolargl"
           }
          ],
          "scatterternary": [
           {
            "marker": {
             "colorbar": {
              "outlinewidth": 0,
              "ticks": ""
             }
            },
            "type": "scatterternary"
           }
          ],
          "surface": [
           {
            "colorbar": {
             "outlinewidth": 0,
             "ticks": ""
            },
            "colorscale": [
             [
              0,
              "#0d0887"
             ],
             [
              0.1111111111111111,
              "#46039f"
             ],
             [
              0.2222222222222222,
              "#7201a8"
             ],
             [
              0.3333333333333333,
              "#9c179e"
             ],
             [
              0.4444444444444444,
              "#bd3786"
             ],
             [
              0.5555555555555556,
              "#d8576b"
             ],
             [
              0.6666666666666666,
              "#ed7953"
             ],
             [
              0.7777777777777778,
              "#fb9f3a"
             ],
             [
              0.8888888888888888,
              "#fdca26"
             ],
             [
              1,
              "#f0f921"
             ]
            ],
            "type": "surface"
           }
          ],
          "table": [
           {
            "cells": {
             "fill": {
              "color": "#EBF0F8"
             },
             "line": {
              "color": "white"
             }
            },
            "header": {
             "fill": {
              "color": "#C8D4E3"
             },
             "line": {
              "color": "white"
             }
            },
            "type": "table"
           }
          ]
         },
         "layout": {
          "annotationdefaults": {
           "arrowcolor": "#2a3f5f",
           "arrowhead": 0,
           "arrowwidth": 1
          },
          "colorscale": {
           "diverging": [
            [
             0,
             "#8e0152"
            ],
            [
             0.1,
             "#c51b7d"
            ],
            [
             0.2,
             "#de77ae"
            ],
            [
             0.3,
             "#f1b6da"
            ],
            [
             0.4,
             "#fde0ef"
            ],
            [
             0.5,
             "#f7f7f7"
            ],
            [
             0.6,
             "#e6f5d0"
            ],
            [
             0.7,
             "#b8e186"
            ],
            [
             0.8,
             "#7fbc41"
            ],
            [
             0.9,
             "#4d9221"
            ],
            [
             1,
             "#276419"
            ]
           ],
           "sequential": [
            [
             0,
             "#0d0887"
            ],
            [
             0.1111111111111111,
             "#46039f"
            ],
            [
             0.2222222222222222,
             "#7201a8"
            ],
            [
             0.3333333333333333,
             "#9c179e"
            ],
            [
             0.4444444444444444,
             "#bd3786"
            ],
            [
             0.5555555555555556,
             "#d8576b"
            ],
            [
             0.6666666666666666,
             "#ed7953"
            ],
            [
             0.7777777777777778,
             "#fb9f3a"
            ],
            [
             0.8888888888888888,
             "#fdca26"
            ],
            [
             1,
             "#f0f921"
            ]
           ],
           "sequentialminus": [
            [
             0,
             "#0d0887"
            ],
            [
             0.1111111111111111,
             "#46039f"
            ],
            [
             0.2222222222222222,
             "#7201a8"
            ],
            [
             0.3333333333333333,
             "#9c179e"
            ],
            [
             0.4444444444444444,
             "#bd3786"
            ],
            [
             0.5555555555555556,
             "#d8576b"
            ],
            [
             0.6666666666666666,
             "#ed7953"
            ],
            [
             0.7777777777777778,
             "#fb9f3a"
            ],
            [
             0.8888888888888888,
             "#fdca26"
            ],
            [
             1,
             "#f0f921"
            ]
           ]
          },
          "colorway": [
           "#636efa",
           "#EF553B",
           "#00cc96",
           "#ab63fa",
           "#FFA15A",
           "#19d3f3",
           "#FF6692",
           "#B6E880",
           "#FF97FF",
           "#FECB52"
          ],
          "font": {
           "color": "#2a3f5f"
          },
          "geo": {
           "bgcolor": "white",
           "lakecolor": "white",
           "landcolor": "#E5ECF6",
           "showlakes": true,
           "showland": true,
           "subunitcolor": "white"
          },
          "hoverlabel": {
           "align": "left"
          },
          "hovermode": "closest",
          "mapbox": {
           "style": "light"
          },
          "paper_bgcolor": "white",
          "plot_bgcolor": "#E5ECF6",
          "polar": {
           "angularaxis": {
            "gridcolor": "white",
            "linecolor": "white",
            "ticks": ""
           },
           "bgcolor": "#E5ECF6",
           "radialaxis": {
            "gridcolor": "white",
            "linecolor": "white",
            "ticks": ""
           }
          },
          "scene": {
           "xaxis": {
            "backgroundcolor": "#E5ECF6",
            "gridcolor": "white",
            "gridwidth": 2,
            "linecolor": "white",
            "showbackground": true,
            "ticks": "",
            "zerolinecolor": "white"
           },
           "yaxis": {
            "backgroundcolor": "#E5ECF6",
            "gridcolor": "white",
            "gridwidth": 2,
            "linecolor": "white",
            "showbackground": true,
            "ticks": "",
            "zerolinecolor": "white"
           },
           "zaxis": {
            "backgroundcolor": "#E5ECF6",
            "gridcolor": "white",
            "gridwidth": 2,
            "linecolor": "white",
            "showbackground": true,
            "ticks": "",
            "zerolinecolor": "white"
           }
          },
          "shapedefaults": {
           "line": {
            "color": "#2a3f5f"
           }
          },
          "ternary": {
           "aaxis": {
            "gridcolor": "white",
            "linecolor": "white",
            "ticks": ""
           },
           "baxis": {
            "gridcolor": "white",
            "linecolor": "white",
            "ticks": ""
           },
           "bgcolor": "#E5ECF6",
           "caxis": {
            "gridcolor": "white",
            "linecolor": "white",
            "ticks": ""
           }
          },
          "title": {
           "x": 0.05
          },
          "xaxis": {
           "automargin": true,
           "gridcolor": "white",
           "linecolor": "white",
           "ticks": "",
           "zerolinecolor": "white",
           "zerolinewidth": 2
          },
          "yaxis": {
           "automargin": true,
           "gridcolor": "white",
           "linecolor": "white",
           "ticks": "",
           "zerolinecolor": "white",
           "zerolinewidth": 2
          }
         }
        },
        "xaxis": {
         "anchor": "y",
         "domain": [
          0,
          0.98
         ],
         "title": {
          "text": "PC1"
         }
        },
        "yaxis": {
         "anchor": "x",
         "domain": [
          0,
          1
         ],
         "title": {
          "text": "PC2"
         }
        }
       }
      }
     },
     "metadata": {},
     "output_type": "display_data"
    }
   ],
   "source": [
    "import plotly.express as px\n",
    "\n",
    "fig = px.scatter(df_pca, x='PC1', y='PC2', render_mode='svg')\n",
    "\n",
    "fig.show()"
   ]
  },
  {
   "cell_type": "code",
   "execution_count": 74,
   "id": "1da0d349",
   "metadata": {},
   "outputs": [
    {
     "data": {
      "text/html": [
       "<div>\n",
       "<style scoped>\n",
       "    .dataframe tbody tr th:only-of-type {\n",
       "        vertical-align: middle;\n",
       "    }\n",
       "\n",
       "    .dataframe tbody tr th {\n",
       "        vertical-align: top;\n",
       "    }\n",
       "\n",
       "    .dataframe thead th {\n",
       "        text-align: right;\n",
       "    }\n",
       "</style>\n",
       "<table border=\"1\" class=\"dataframe\">\n",
       "  <thead>\n",
       "    <tr style=\"text-align: right;\">\n",
       "      <th></th>\n",
       "      <th>999.8970106</th>\n",
       "      <th>1000.28298</th>\n",
       "      <th>1000.669047</th>\n",
       "      <th>1001.055413</th>\n",
       "      <th>1001.441976</th>\n",
       "      <th>1001.829039</th>\n",
       "      <th>1002.216201</th>\n",
       "      <th>1002.603862</th>\n",
       "      <th>1002.991623</th>\n",
       "      <th>1003.379885</th>\n",
       "      <th>...</th>\n",
       "      <th>2485.842505</th>\n",
       "      <th>2488.227573</th>\n",
       "      <th>2490.617843</th>\n",
       "      <th>2493.012709</th>\n",
       "      <th>2495.412185</th>\n",
       "      <th>2497.816284</th>\n",
       "      <th>2500.22502</th>\n",
       "      <th>Umidade</th>\n",
       "      <th>Protein</th>\n",
       "      <th>class</th>\n",
       "    </tr>\n",
       "  </thead>\n",
       "  <tbody>\n",
       "    <tr>\n",
       "      <th>count</th>\n",
       "      <td>65.000000</td>\n",
       "      <td>65.000000</td>\n",
       "      <td>65.000000</td>\n",
       "      <td>65.000000</td>\n",
       "      <td>65.000000</td>\n",
       "      <td>65.000000</td>\n",
       "      <td>65.000000</td>\n",
       "      <td>65.000000</td>\n",
       "      <td>65.000000</td>\n",
       "      <td>65.000000</td>\n",
       "      <td>...</td>\n",
       "      <td>65.000000</td>\n",
       "      <td>65.000000</td>\n",
       "      <td>65.000000</td>\n",
       "      <td>65.000000</td>\n",
       "      <td>65.000000</td>\n",
       "      <td>65.000000</td>\n",
       "      <td>65.000000</td>\n",
       "      <td>65.000000</td>\n",
       "      <td>65.000000</td>\n",
       "      <td>65.000000</td>\n",
       "    </tr>\n",
       "    <tr>\n",
       "      <th>mean</th>\n",
       "      <td>0.262450</td>\n",
       "      <td>0.263598</td>\n",
       "      <td>0.263188</td>\n",
       "      <td>0.262685</td>\n",
       "      <td>0.262942</td>\n",
       "      <td>0.262787</td>\n",
       "      <td>0.263007</td>\n",
       "      <td>0.262583</td>\n",
       "      <td>0.262511</td>\n",
       "      <td>0.263006</td>\n",
       "      <td>...</td>\n",
       "      <td>1.021549</td>\n",
       "      <td>1.023116</td>\n",
       "      <td>1.023843</td>\n",
       "      <td>1.024174</td>\n",
       "      <td>1.024359</td>\n",
       "      <td>1.024523</td>\n",
       "      <td>1.024243</td>\n",
       "      <td>11.851231</td>\n",
       "      <td>14.114709</td>\n",
       "      <td>13.523077</td>\n",
       "    </tr>\n",
       "    <tr>\n",
       "      <th>std</th>\n",
       "      <td>0.013381</td>\n",
       "      <td>0.013966</td>\n",
       "      <td>0.014161</td>\n",
       "      <td>0.013803</td>\n",
       "      <td>0.013159</td>\n",
       "      <td>0.013293</td>\n",
       "      <td>0.013934</td>\n",
       "      <td>0.014699</td>\n",
       "      <td>0.015194</td>\n",
       "      <td>0.014817</td>\n",
       "      <td>...</td>\n",
       "      <td>0.032854</td>\n",
       "      <td>0.032833</td>\n",
       "      <td>0.032685</td>\n",
       "      <td>0.032748</td>\n",
       "      <td>0.032733</td>\n",
       "      <td>0.032808</td>\n",
       "      <td>0.032759</td>\n",
       "      <td>1.358467</td>\n",
       "      <td>2.029961</td>\n",
       "      <td>2.062369</td>\n",
       "    </tr>\n",
       "    <tr>\n",
       "      <th>min</th>\n",
       "      <td>0.248124</td>\n",
       "      <td>0.247141</td>\n",
       "      <td>0.246445</td>\n",
       "      <td>0.247026</td>\n",
       "      <td>0.248580</td>\n",
       "      <td>0.248597</td>\n",
       "      <td>0.248738</td>\n",
       "      <td>0.246566</td>\n",
       "      <td>0.246000</td>\n",
       "      <td>0.246762</td>\n",
       "      <td>...</td>\n",
       "      <td>0.928114</td>\n",
       "      <td>0.930028</td>\n",
       "      <td>0.930709</td>\n",
       "      <td>0.930913</td>\n",
       "      <td>0.930114</td>\n",
       "      <td>0.931235</td>\n",
       "      <td>0.932131</td>\n",
       "      <td>8.700000</td>\n",
       "      <td>10.664571</td>\n",
       "      <td>10.000000</td>\n",
       "    </tr>\n",
       "    <tr>\n",
       "      <th>25%</th>\n",
       "      <td>0.252859</td>\n",
       "      <td>0.254145</td>\n",
       "      <td>0.254103</td>\n",
       "      <td>0.253420</td>\n",
       "      <td>0.253875</td>\n",
       "      <td>0.254010</td>\n",
       "      <td>0.253906</td>\n",
       "      <td>0.252606</td>\n",
       "      <td>0.251943</td>\n",
       "      <td>0.252630</td>\n",
       "      <td>...</td>\n",
       "      <td>0.999681</td>\n",
       "      <td>1.000850</td>\n",
       "      <td>1.001571</td>\n",
       "      <td>1.002568</td>\n",
       "      <td>1.002324</td>\n",
       "      <td>1.002347</td>\n",
       "      <td>1.001487</td>\n",
       "      <td>11.000000</td>\n",
       "      <td>12.008979</td>\n",
       "      <td>12.000000</td>\n",
       "    </tr>\n",
       "    <tr>\n",
       "      <th>50%</th>\n",
       "      <td>0.257334</td>\n",
       "      <td>0.258076</td>\n",
       "      <td>0.257427</td>\n",
       "      <td>0.256755</td>\n",
       "      <td>0.257451</td>\n",
       "      <td>0.257088</td>\n",
       "      <td>0.257091</td>\n",
       "      <td>0.256388</td>\n",
       "      <td>0.255814</td>\n",
       "      <td>0.256028</td>\n",
       "      <td>...</td>\n",
       "      <td>1.024043</td>\n",
       "      <td>1.026266</td>\n",
       "      <td>1.026563</td>\n",
       "      <td>1.027050</td>\n",
       "      <td>1.027214</td>\n",
       "      <td>1.026543</td>\n",
       "      <td>1.025906</td>\n",
       "      <td>11.400000</td>\n",
       "      <td>13.885648</td>\n",
       "      <td>13.000000</td>\n",
       "    </tr>\n",
       "    <tr>\n",
       "      <th>75%</th>\n",
       "      <td>0.264490</td>\n",
       "      <td>0.265769</td>\n",
       "      <td>0.265144</td>\n",
       "      <td>0.265251</td>\n",
       "      <td>0.264319</td>\n",
       "      <td>0.265047</td>\n",
       "      <td>0.265600</td>\n",
       "      <td>0.265346</td>\n",
       "      <td>0.264630</td>\n",
       "      <td>0.264989</td>\n",
       "      <td>...</td>\n",
       "      <td>1.045070</td>\n",
       "      <td>1.046475</td>\n",
       "      <td>1.047099</td>\n",
       "      <td>1.047631</td>\n",
       "      <td>1.047026</td>\n",
       "      <td>1.047125</td>\n",
       "      <td>1.048571</td>\n",
       "      <td>11.800000</td>\n",
       "      <td>16.478555</td>\n",
       "      <td>16.000000</td>\n",
       "    </tr>\n",
       "    <tr>\n",
       "      <th>max</th>\n",
       "      <td>0.297521</td>\n",
       "      <td>0.300073</td>\n",
       "      <td>0.300032</td>\n",
       "      <td>0.299144</td>\n",
       "      <td>0.299168</td>\n",
       "      <td>0.298542</td>\n",
       "      <td>0.299683</td>\n",
       "      <td>0.300385</td>\n",
       "      <td>0.300661</td>\n",
       "      <td>0.300363</td>\n",
       "      <td>...</td>\n",
       "      <td>1.090794</td>\n",
       "      <td>1.091733</td>\n",
       "      <td>1.092713</td>\n",
       "      <td>1.094012</td>\n",
       "      <td>1.093522</td>\n",
       "      <td>1.093375</td>\n",
       "      <td>1.094220</td>\n",
       "      <td>14.500000</td>\n",
       "      <td>17.463849</td>\n",
       "      <td>17.000000</td>\n",
       "    </tr>\n",
       "  </tbody>\n",
       "</table>\n",
       "<p>8 rows × 1560 columns</p>\n",
       "</div>"
      ],
      "text/plain": [
       "       999.8970106  1000.28298  1000.669047  1001.055413  1001.441976  \\\n",
       "count    65.000000   65.000000    65.000000    65.000000    65.000000   \n",
       "mean      0.262450    0.263598     0.263188     0.262685     0.262942   \n",
       "std       0.013381    0.013966     0.014161     0.013803     0.013159   \n",
       "min       0.248124    0.247141     0.246445     0.247026     0.248580   \n",
       "25%       0.252859    0.254145     0.254103     0.253420     0.253875   \n",
       "50%       0.257334    0.258076     0.257427     0.256755     0.257451   \n",
       "75%       0.264490    0.265769     0.265144     0.265251     0.264319   \n",
       "max       0.297521    0.300073     0.300032     0.299144     0.299168   \n",
       "\n",
       "       1001.829039  1002.216201  1002.603862  1002.991623  1003.379885  ...  \\\n",
       "count    65.000000    65.000000    65.000000    65.000000    65.000000  ...   \n",
       "mean      0.262787     0.263007     0.262583     0.262511     0.263006  ...   \n",
       "std       0.013293     0.013934     0.014699     0.015194     0.014817  ...   \n",
       "min       0.248597     0.248738     0.246566     0.246000     0.246762  ...   \n",
       "25%       0.254010     0.253906     0.252606     0.251943     0.252630  ...   \n",
       "50%       0.257088     0.257091     0.256388     0.255814     0.256028  ...   \n",
       "75%       0.265047     0.265600     0.265346     0.264630     0.264989  ...   \n",
       "max       0.298542     0.299683     0.300385     0.300661     0.300363  ...   \n",
       "\n",
       "       2485.842505  2488.227573  2490.617843  2493.012709  2495.412185  \\\n",
       "count    65.000000    65.000000    65.000000    65.000000    65.000000   \n",
       "mean      1.021549     1.023116     1.023843     1.024174     1.024359   \n",
       "std       0.032854     0.032833     0.032685     0.032748     0.032733   \n",
       "min       0.928114     0.930028     0.930709     0.930913     0.930114   \n",
       "25%       0.999681     1.000850     1.001571     1.002568     1.002324   \n",
       "50%       1.024043     1.026266     1.026563     1.027050     1.027214   \n",
       "75%       1.045070     1.046475     1.047099     1.047631     1.047026   \n",
       "max       1.090794     1.091733     1.092713     1.094012     1.093522   \n",
       "\n",
       "       2497.816284  2500.22502    Umidade    Protein      class  \n",
       "count    65.000000   65.000000  65.000000  65.000000  65.000000  \n",
       "mean      1.024523    1.024243  11.851231  14.114709  13.523077  \n",
       "std       0.032808    0.032759   1.358467   2.029961   2.062369  \n",
       "min       0.931235    0.932131   8.700000  10.664571  10.000000  \n",
       "25%       1.002347    1.001487  11.000000  12.008979  12.000000  \n",
       "50%       1.026543    1.025906  11.400000  13.885648  13.000000  \n",
       "75%       1.047125    1.048571  11.800000  16.478555  16.000000  \n",
       "max       1.093375    1.094220  14.500000  17.463849  17.000000  \n",
       "\n",
       "[8 rows x 1560 columns]"
      ]
     },
     "execution_count": 74,
     "metadata": {},
     "output_type": "execute_result"
    }
   ],
   "source": [
    "df_pretreat.describe()"
   ]
  },
  {
   "cell_type": "code",
   "execution_count": 124,
   "id": "34e4be4b",
   "metadata": {},
   "outputs": [],
   "source": [
    "df_pretreat['class'] = 0\n",
    "for index, row in df_pretreat.iterrows():\n",
    "    if row['Protein'] < 12:\n",
    "        df_pretreat.loc[index, 'class'] = 0\n",
    "    elif row['Protein'] < 14:\n",
    "        df_pretreat.loc[index, 'class'] = 1\n",
    "    elif row['Protein'] < 16:\n",
    "        df_pretreat.loc[index, 'class'] = 2\n",
    "    else:\n",
    "        df_pretreat.loc[index, 'class'] = 3"
   ]
  },
  {
   "cell_type": "code",
   "execution_count": 135,
   "id": "e8e2b137",
   "metadata": {},
   "outputs": [],
   "source": [
    "#SNV\n",
    "from sklearn.preprocessing import StandardScaler\n",
    "from sklearn.model_selection import train_test_split\n",
    "\n",
    "\n",
    "y = df_pretreat[['Umidade','Protein','class']]\n",
    "## Do not take the reference value and the class\n",
    "X = df_pretreat.values[:, :-2]\n",
    "X_train, X_test, y_train, y_test = train_test_split(X, y, test_size=0.25, random_state=0,stratify=y['class'])\n",
    "\n",
    "\n",
    "col = [1,2,4,5,8,25,28,29,30,31,33,34,39,41,43,44,46,48,52,55,56,59,60,67,68,72,73,75,78,81,83,84,90,91,93,94,98,103,104,109,117,118,120,121,123,124,127,129,130,138,142,144,146,147,154,157,158,160,163,165,166,168,171,176,177,180,184,188,193,194,196,198,201,206,209,212,214,215,216,219,220,226,228,230,236,240,241,242,243,245,251,252,253,254,256,257,264,266,271,272,274,276,283,285,291,292,295,297,298,300,301,308,310,311,317,318,321,324,328,329,332,341,343,344,346,348,354,355,359,366,370,371,374,376,378,383,384,385,387,388,389,391,393,394,398,400,404,405,406,410,411,412,416,417,423,424,425,426,428,429,433,440,443,444,445,446,447,453,456,457,460,462,465,466,471,472,473,474,479,480,481,483,484,485,488,489,490,492,493,494,498,504,506,507,510,513,514,515,516,518,520,521,531,533,536,537,539,540,541,547,552,553,554,556,558,564,568,569,573,574,575,576,577,580,582,586,592,593,594,596,597,598,601,604,607,608,610,613,617,618,620,625,628,634,636,639,640,641,642,644,646,647,654,659,660,661,663,665,669,670,671,675,676,677,678,681,682,688,691,692,696,697,698,701,705,706,712,713,718,719,722,724,725,726,729,737,738,739,741,745,746,749,750,752,754,762,763,773,774,778,781,784,785,786,787,791,792,794,797,799,800,801,805,809,812,815,816,823,825,826,828,833,834,835,836,844,847,848,849,851,853,863,870,874,876,877,878,879,882,883,888,889,890,892,893,894,895,899,902,904,906,922,930,934,935,936,938,941,944,946,949,950,951,953,955,956,958,960,961,966,967,970,974,975,978,980,983,985,987,995,999,1000,1001,1002,1004,1006,1012,1014,1015,1016,1022,1024,1027,1031,1032,1033,1035,1038,1039,1040,1046,1047,1048,1050,1051,1053,1054,1059,1063,1064,1065,1067,1068,1072,1073,1074,1075,1076,1077,1078,1082,1085,1087,1089,1090,1091,1092,1094,1099,1101,1103,1104,1105,1107,1108,1110,1111,1113,1117,1119,1120,1124,1128,1129,1134,1135,1139,1140,1144,1147,1151,1152,1153,1154,1156,1157,1159,1160,1161,1164,1165,1166,1169,1172,1179,1180,1184,1189,1191,1192,1196,1199,1201,1208,1209,1211,1213,1214,1215,1216,1220,1223,1225,1226,1229,1230,1239,1241,1243,1250,1252,1255,1259,1263,1266,1279,1280,1282,1286,1289,1291,1292,1293,1298,1301,1304,1306,1307,1309,1312,1314,1316,1318,1319,1321,1324,1325,1327,1330,1332,1333,1337,1339,1341,1344,1346,1350,1351,1353,1359,1361,1362,1365,1368,1369,1371,1373,1376,1378,1379,1380,1381,1385,1388,1390,1392,1394,1397,1398,1401,1402,1403,1405,1406,1411,1416,1417,1421,1425,1426,1430,1431,1439,1440,1443,1446,1452,1453,1455,1458,1461,1468,1469,1471,1473,1474,1479,1480,1483,1484,1488,1491,1492,1496,1497,1501,1505,1507,1508,1509,1513,1515,1516,1521,1524,1525,1527,1529,1533,1535,1537,1538,1541,1543,1544,1545,1546,1550,1551,1552,1555,1556]\n",
    "X_train = (np.delete(X_train, col,1))\n",
    "X_test = (np.delete(X_test, col,1))\n",
    "col=[0,2,3,7,14,15,21,22,23,25,32,35,39,40,56,59,63,65,66,67,68,69,73,76,77,80,85,90,91,93,96,98,99,101,106,108,109,113,114,116,120,131,136,138,139,143,145,146,148,152,155,157,158,162,163,165,167,169,171,172,175,178,181,182,185,187,188,189,190,191,196,198,199,202,206,209,219,223,224,225,227,228,232,236,240,245,247,251,252,253,257,265,274,276,277,279,282,283,285,286,290,292,293,297,303,308,309,316,317,319,321,324,327,331,334,335,337,340,342,343,346,347,349,353,354,355,356,357,360,362,363,365,367,368,371,375,377,381,383,389,399,407,408,413,415,416,418,422,423,424,434,436,437,438,439,442,444,449,455,456,457,458,459,460,461,463,466,468,470,474,475,477,478,481,482,485,488,489,493,499,500,505,506,507,510,513,517,519,522,525,526,527,532,533,535,537,538,542,543,546,550,551,558,567,571,574,577,578,582,585,587,590,591,593,594,601,602,605,606,610,611,612,616,621,622,624,626,627,630,632,634,637,638,639,640,641,642,643,646,647,651,653,654,655,657,666,667,668,672,676,678,679,683,684,688,692,696,700,701,710,713,715,718,721,723,724,725,726,727,732,733,734,735,737,740,746,748,749,750,751,753,754,759,760,761,762,764,765,771,772,776,777,778,786,788,790,791,792,799,800,801,802,805,808,809,810,811,812,813,815,816,817,827,830,837,838,842,845,846,853,855,857,861,862,863,866,867,868,875,878,881,882,886,891,892,893,894,896,899,903,905,916,921,922,924,927,928,930,931,933,935,938,940,941,942]\n",
    "X_train = (np.delete(X_train, col,1))\n",
    "X_test = (np.delete(X_test, col,1))\n",
    "\n",
    "col = [   1,   5,   6,   7,   8,  11,  12,  13,  16,  17,  18,  20,  22,\n",
    "        28,  31,  33,  37,  39,  41,  44,  46,  49,  53,  56,  59,  62,\n",
    "        63,  68,  74,  79,  81,  92,  97,  98, 100, 106, 107, 110, 111,\n",
    "       122, 123, 124, 128, 129, 131, 132, 134, 144, 146, 150, 152, 155,\n",
    "       160, 161, 162, 164, 168, 170, 178, 179, 180, 183, 187, 190, 193,\n",
    "       197, 199, 200, 201, 214, 221, 227, 228, 232, 244, 245, 246, 248,\n",
    "       250, 254, 259, 260, 262, 266, 268, 269, 270, 273, 275, 277, 282,\n",
    "       286, 290, 293, 296, 298, 300, 301, 306, 310, 312, 313, 318, 319,\n",
    "       320, 324, 327, 330, 332, 335, 337, 341, 345, 346, 347, 348, 349,\n",
    "       352, 354, 356, 358, 362, 364, 366, 367, 368, 374, 376, 377, 382,\n",
    "       384, 386, 389, 390, 391, 396, 397, 398, 400, 401, 407, 408, 410,\n",
    "       411, 419, 420, 421, 429, 431, 435, 436, 437, 440, 442, 443, 444,\n",
    "       448, 451, 456, 458, 465, 469, 470, 471, 477, 480, 488, 489, 495,\n",
    "       496, 498, 499, 501, 508, 510, 514, 515, 526, 527, 538, 542, 547,\n",
    "       552, 553, 554, 555, 557, 562, 563, 565, 568, 571, 572, 574, 575,\n",
    "       577, 580, 581, 583, 584]\n",
    "X_train = (np.delete(X_train, col,1))\n",
    "X_test = (np.delete(X_test, col,1))\n",
    "\n",
    "# col = [  1,   2,   3,   5,   8,  10,  13,  14,  16,  20,  27,  28,  29,\n",
    "#         36,  39,  41,  47,  53,  56,  59,  60,  62,  63,  65,  67,  76,\n",
    "#         79,  94,  95,  96,  99, 100, 102, 116, 120, 121, 123, 126, 132,\n",
    "#        133, 134, 140, 146, 150, 163, 168, 170, 175, 176, 178, 181, 182,\n",
    "#        183, 187, 191, 193, 195, 201, 202, 204, 211, 212, 214, 216, 219,\n",
    "#        221, 223, 228, 231, 232, 233, 234, 235, 238, 240, 244, 247, 250,\n",
    "#        252, 253, 256, 266, 273, 278, 280, 284, 287, 288, 289, 291, 296,\n",
    "#        297, 299, 302, 306, 307, 308, 313, 315, 319, 320, 327, 329, 331,\n",
    "#        335, 336, 342, 345, 347, 348, 353, 357, 358, 365, 367, 369, 372,\n",
    "#        373, 375, 376, 381, 385, 390]\n",
    "# X_train = (np.delete(X_train, col,1))\n",
    "# X_test = (np.delete(X_test, col,1))\n",
    "# #X_train_snv = msc(X_train)\n",
    "# #X_test_snv = msc(X_test)\n",
    "\n",
    "y_train_oleo = y_train['Protein']\n",
    "\n",
    "\n",
    "y_test_oleo = y_test['Protein']\n",
    "\n",
    "#X1 = savgol_filter(X_train, 23, polyorder=2, deriv=2)\n",
    "#X2 = savgol_filter(X_test, 23, polyorder=2, deriv=2)\n",
    "\n",
    "# X_train_snv = msc(X_train)\n",
    "# X_test_snv = msc(X_test)\n",
    "\n",
    "# mean centre correction\n",
    "#X_mc = mc(X1)\n",
    "\n",
    "##Standard Normal Variate\n",
    "\n",
    "# Xsnv = snv(X_train)"
   ]
  },
  {
   "cell_type": "code",
   "execution_count": 75,
   "id": "252e2a75",
   "metadata": {},
   "outputs": [],
   "source": [
    "#SNV\n",
    "from sklearn.preprocessing import StandardScaler\n",
    "from sklearn.model_selection import train_test_split\n",
    "\n",
    "\n",
    "y = df_pretreat[['Umidade','Protein','class']]\n",
    "## Do not take the reference value and the class\n",
    "X = df_pretreat.values[:, :-3]\n",
    "X_train, X_test, y_train, y_test = train_test_split(X, y, test_size=0.25, random_state=0,stratify=y['class'])\n",
    "\n",
    "\n",
    "# col = [0,1,2,4,6,7,8,9,11,12,13,15,17,20,23,25,26,27,28,29,33,34,35,36,41,43,44,46,47,50,51,55,61,65,66,68,72,76,77,78,80,83,85,88,90,92,94,95,96,97,101,104,113,115,116,121,123,126,131,132,133,136,140,142,145,149,151,155,160,164,167,170,172,176,182,185,186,188,190,192,194,196,200,201,205,206,209,210,214,218,221,222,223,232,233,234,236,241,242,243,244,248,249,250,251,252,253,255,257,264,265,266,269,270,271,273,274,278,279,280,286,289,301,305,307,309,311,312,313,315,317,320,324,325,329,331,334,335,338,339,341,342,343,345,349,351,353,357,358,360,361,365,367,368,373,376,377,380,385,386,387,388,391,392,393,397,403,407,408,412,430,431,439,440,444,448,449,450,451,456,459,460,463,464,465,467,470,471,473,474,477,479,483,486,487,488,490,493,494,495,496,498,503,505,506,510,512,515,517,518,519,522,523,525,529,531,532,533,534,536,537,539,540,541,544,545,549,551,553,554,556,563,566,567,568,571,575,576,577,578,580,582,583,586,587,592,593,595,598,601,604,605,606,610,614,618,620,625,628,629,634,636,639,640,644,646,647,648,651,652,653,654,656,657,660,662,667,669,671,675,678,684,690,691,694,695,696,697,698,699,701,709,710,713,717,721,723,727,730,732,734,735,736,737,740,745,753,755,757,761,762,764,768,770,772,773,774,779,780,784,791,795,797,798,801,802,805,806,809,811,813,816,820,821,824,825,828,829,834,839,841,842,843,845,847,851,854,855,856,859,861,863,864,865,868,871,872,873,878,879,880,882,886,888,891,893,894,895,897,899,905,909,913,916,920,923,924,925,932,935,936,937,938,941,944,947,948,949,950,951,952,954,958,960,961,962,963,964,965,979,992,993,994,995,997,1000,1001,1002,1004,1005,1006,1007,1008,1009,1013,1015,1018,1024,1028,1036,1037,1038,1043,1044,1045,1050,1052,1055,1057,1058,1060,1061,1066,1067,1068,1069,1071,1073,1076,1080,1083,1084,1087,1089,1091,1097,1098,1104,1108,1113,1114,1115,1118,1119,1120,1121,1122,1123,1125,1126,1128,1130,1131,1135,1136,1139,1141,1148,1153,1158,1160,1162,1164,1165,1166,1172,1173,1175,1176,1181,1183,1185,1186,1188,1195,1197,1200,1202,1203,1204,1207,1211,1213,1214,1218,1219,1221,1223,1224,1225,1226,1229,1230,1231,1232,1233,1234,1240,1243,1246,1248,1249,1251,1253,1258,1259,1260,1264,1271,1276,1279,1280,1281,1283,1284,1286,1288,1289,1295,1296,1297,1299,1303,1304,1305,1306,1310,1311,1314,1315,1316,1317,1319,1320,1321,1325,1332,1335,1337,1342,1345,1347,1350,1356,1357,1358,1360,1362,1365,1367,1369,1372,1374,1376,1379,1380,1381,1389,1391,1396,1409,1410,1413,1414,1415,1416,1420,1421,1423,1426,1433,1437,1440,1443,1444,1446,1448,1457,1458,1459,1460,1464,1466,1470,1471,1473,1478,1480,1481,1482,1483,1484,1490,1492,1493,1495,1501,1502,1506,1511,1517,1525,1529,1530,1535,1536,1537,1540,1541,1547,1548,1550,1551,1552,1553,1554,1556]\n",
    "# X_train = (np.delete(X_train, col,1))\n",
    "# X_test = (np.delete(X_test, col,1))\n",
    "# col=[1,   6,   9,  10,  11,  15,  16,  17,  18,  19,  23,  31,  35,\n",
    "#         38,  39,  45,  49,  50,  51,  56,  59,  61,  62,  65,  67,  68,\n",
    "#         70,  71,  72,  73,  77,  78,  79,  83,  84,  90,  91,  92,  97,\n",
    "#         99, 100, 102, 103, 106, 110, 111, 114, 115, 116, 117, 119, 121,\n",
    "#        122, 123, 124, 127, 131, 132, 134, 135, 136, 137, 138, 139, 142,\n",
    "#        144, 145, 148, 149, 150, 151, 153, 154, 155, 156, 160, 161, 165,\n",
    "#        172, 173, 175, 179, 183, 184, 185, 186, 189, 190, 191, 194, 198,\n",
    "#        199, 205, 213, 214, 216, 217, 221, 222, 224, 225, 226, 227, 229,\n",
    "#        230, 236, 242, 243, 247, 250, 251, 255, 258, 260, 261, 262, 264,\n",
    "#        266, 267, 269, 270, 274, 275, 277, 280, 290, 291, 292, 293, 296,\n",
    "#        300, 304, 310, 311, 313, 314, 316, 317, 323, 324, 328, 329, 331,\n",
    "#        335, 336, 337, 343, 345, 349, 352, 354, 355, 356, 357, 359, 360,\n",
    "#        361, 363, 366, 368, 370, 373, 374, 382, 390, 391, 392, 394, 395,\n",
    "#        396, 398, 399, 400, 405, 411, 413, 416, 417, 418, 420, 422, 424,\n",
    "#        425, 427, 428, 429, 432, 433, 437, 442, 444, 450, 451, 454, 458,\n",
    "#        460, 464, 468, 469, 471, 475, 477, 482, 486, 489, 490, 492, 499,\n",
    "#        501, 503, 504, 506, 507, 510, 513, 515, 516, 518, 522, 525, 527,\n",
    "#        528, 537, 538, 539, 542, 547, 549, 550, 551, 552, 554, 556, 557,\n",
    "#        559, 560, 562, 567, 571, 574, 576, 582, 583, 585, 586, 588, 595,\n",
    "#        600, 601, 604, 605, 606, 610, 621, 623, 624, 627, 632, 633, 639,\n",
    "#        643, 644, 645, 649, 654, 656, 659, 663, 664, 665, 668, 670, 671,\n",
    "#        675, 676, 679, 680, 685, 688, 691, 697, 698, 699, 701, 703, 707,\n",
    "#        715, 719, 721, 733, 735, 738, 741, 745, 747, 749, 757, 759, 761,\n",
    "#        766, 767, 769, 771, 772, 773, 778, 779, 781, 784, 787, 789, 804,\n",
    "#        811, 813, 814, 815, 817, 821, 822, 826, 828, 830, 833, 840, 852,\n",
    "#        853, 854, 855, 856, 859, 861, 862, 863, 864, 866, 867, 868, 872,\n",
    "#        873, 876, 879, 881, 882, 884, 886, 887, 894, 895, 896, 897, 899,\n",
    "#        901, 903, 904, 905, 910, 912, 917, 922, 925, 927]\n",
    "# X_train = (np.delete(X_train, col,1))\n",
    "# X_test = (np.delete(X_test, col,1))\n",
    "\n",
    "# col = [  3,   5,  10,  13,  18,  20,  21,  22,  25,  27,  28,  31,  35,\n",
    "#         37,  39,  43,  47,  48,  60,  62,  63,  65,  66,  68,  75,  80,\n",
    "#         81,  85,  87,  91,  95, 100, 101, 118, 119, 120, 121, 122, 125,\n",
    "#        126, 136, 137, 139, 142, 147, 151, 154, 159, 160, 164, 166, 167,\n",
    "#        170, 176, 177, 187, 189, 195, 198, 199, 201, 206, 207, 210, 211,\n",
    "#        213, 214, 221, 228, 233, 234, 236, 237, 248, 253, 255, 259, 265,\n",
    "#        267, 269, 270, 272, 274, 276, 279, 280, 283, 284, 288, 289, 290,\n",
    "#        291, 294, 297, 301, 303, 304, 306, 309, 311, 312, 314, 319, 320,\n",
    "#        321, 322, 323, 326, 329, 331, 336, 338, 339, 340, 345, 347, 349,\n",
    "#        350, 352, 356, 360, 361, 365, 366, 368, 371, 376, 379, 385, 388,\n",
    "#        389, 392, 398, 400, 406, 409, 417, 418, 421, 431, 439, 441, 443,\n",
    "#        444, 446, 450, 456, 458, 461, 463, 465, 469, 472, 473, 475, 477,\n",
    "#        481, 487, 488, 491, 500, 501, 506, 507, 509, 511, 512, 513, 519,\n",
    "#        520, 528, 529, 531, 533, 539, 540, 541, 542, 543, 544, 545, 546,\n",
    "#        547, 548, 551, 556, 557, 559, 560, 561, 563, 565, 567, 568]\n",
    "# X_train = (np.delete(X_train, col,1))\n",
    "# X_test = (np.delete(X_test, col,1))\n",
    "\n",
    "# # # col = [ 0,   9,  11,  12,  13,  15,  18,  23,  24,  27,  31,  33,  35,\n",
    "# # #         36,  37,  39,  40,  42,  43,  45,  48,  49,  58,  61,  66,  70,\n",
    "# # #         73,  75,  79,  81,  84,  87,  89,  90, 104, 106, 108, 111, 112,\n",
    "# # #        113, 121, 123, 128, 136, 138, 140, 141, 145, 146, 148, 149, 155,\n",
    "# # #        157, 160, 162, 165, 167, 169, 171, 173, 175, 177, 178, 179, 180,\n",
    "# # #        183, 188, 197, 198, 205, 212, 213, 219, 224, 225, 227, 229, 230,\n",
    "# # #        231, 233, 239, 243, 249, 252, 256, 257, 262, 264, 266, 271, 272,\n",
    "# # #        281, 287, 288, 289, 291, 292, 293, 295, 296, 299, 300, 302, 312,\n",
    "# # #        316, 319, 330, 332, 334, 335, 336, 339, 341, 346, 349, 373]\n",
    "# # # X_train = (np.delete(X_train, col,1))\n",
    "# # # X_test = (np.delete(X_test, col,1))\n",
    "\n",
    "\n",
    "# # ################\n",
    "# col = [  2,   8,  10,  11,  12,  15,  27,  32,  33,  34,  35,  40,  41,\n",
    "#         42,  43,  44,  52,  53,  54,  55,  60,  62,  65,  68,  69,  71,\n",
    "#         75,  78,  79,  80,  82,  86,  88,  93,  94,  96,  99, 104, 113,\n",
    "#        117, 126, 129, 132, 134, 136, 137, 143, 147, 150, 153, 155, 157,\n",
    "#        158, 164, 165, 174, 175, 178, 184, 187, 188, 194, 198, 201, 203,\n",
    "#        204, 206, 211, 215, 219, 226, 228, 232, 235, 238, 239, 241, 247,\n",
    "#        248, 255, 259, 261, 262, 263, 265, 268, 276, 277, 279, 281, 284,\n",
    "#        288, 289, 294, 300, 303, 305, 307, 310, 311, 312, 316, 318, 321,\n",
    "#        322, 325, 326, 329, 332, 333, 334, 338, 339, 342, 344, 346, 349,\n",
    "#        352, 355, 357, 360, 361, 364, 365, 367, 374]\n",
    "# X_train = (np.delete(X_train, col,1))\n",
    "# X_test = (np.delete(X_test, col,1))\n",
    "\n",
    "# col = [ 0,   4,   7,  10,  18,  22,  31,  33,  37,  39,  40,  41,  43,\n",
    "#         48,  50,  51,  52,  56,  58,  60,  63,  64,  70,  71,  73,  74,\n",
    "#         79,  81,  95, 100, 110, 111, 113, 115, 118, 119, 120, 122, 125,\n",
    "#        129, 130, 131, 133, 135, 137, 139, 154, 156, 164, 165, 166, 167,\n",
    "#        168, 171, 173, 183, 184, 189, 190, 197, 202, 206, 216, 223, 224,\n",
    "#        234, 235, 237, 243, 244, 245]\n",
    "# X_train = (np.delete(X_train, col,1))\n",
    "# X_test = (np.delete(X_test, col,1))\n",
    "\n",
    "# col = [  3,  12,  22,  24,  30,  32,  44,  47,  49,  52,  56,  57,  64,\n",
    "#         67,  68,  70,  74,  76,  80,  81,  89,  93,  94,  96,  97, 106,\n",
    "#        107, 109, 112, 118, 119, 125, 132, 140, 141, 151, 155, 164, 165,\n",
    "#        173, 175]\n",
    "# X_train = (np.delete(X_train, col,1))\n",
    "# X_test = (np.delete(X_test, col,1))\n",
    "\n",
    "\n",
    "#######################\n",
    "# col = [  4,   9,  10,  16,  17,  22,  23,  25,  36,  37,  38,  39,  43,\n",
    "#         49,  51,  54,  61,  62,  69,  70,  72,  78,  81,  85,  92,  93,\n",
    "#         95, 102, 105, 106, 120, 127, 128, 133, 136, 140, 141, 143, 147,\n",
    "#        158, 168, 172, 174, 178, 183, 185, 188, 193, 194, 201, 205, 206,\n",
    "#        208, 211, 212, 214, 217, 224, 239, 240, 244, 245, 249, 252, 254,\n",
    "#        255, 258]\n",
    "# X_train = (np.delete(X_train, col,1))\n",
    "# X_test = (np.delete(X_test, col,1))\n",
    "\n",
    "# col = [  3,   8,  15,  16,  25,  26,  27,  34,  38,  39,  48,  49,  50,\n",
    "#         52,  55,  61,  62,  63,  65,  68,  79,  85,  94, 100, 102, 108,\n",
    "#        109, 111, 114, 120, 121, 123, 126, 128, 132, 135, 136, 145, 150,\n",
    "#        151, 153, 161, 168, 170, 176, 178, 183, 188, 189]\n",
    "# X_train = (np.delete(X_train, col,1))\n",
    "# X_test = (np.delete(X_test, col,1))\n",
    "\n",
    "# col = [  2,   8,  15,  23,  26,  32,  35,  37,  38,  44,  48,  54,  58,\n",
    "#         59,  61,  63,  79,  84,  86,  89,  93,  95,  97, 104, 107, 112,\n",
    "#        121, 133, 138]\n",
    "# X_train = (np.delete(X_train, col,1))\n",
    "# X_test = (np.delete(X_test, col,1))\n",
    "\n",
    "# #X_train_snv = msc(X_train)\n",
    "# #X_test_snv = msc(X_test)\n",
    "\n",
    "y_train_oleo = y_train['Protein']\n",
    "\n",
    "\n",
    "y_test_oleo = y_test['Protein']\n",
    "\n",
    "#X1 = savgol_filter(X_train, 23, polyorder=2, deriv=2)\n",
    "#X2 = savgol_filter(X_test, 23, polyorder=2, deriv=2)\n",
    "\n",
    "# X_train_snv = msc(X_train)\n",
    "# X_test_snv = msc(X_test)\n",
    "\n",
    "# mean centre correction\n",
    "#X_mc = mc(X1)\n",
    "\n",
    "##Standard Normal Variate\n",
    "\n",
    "# Xsnv = snv(X_train)"
   ]
  },
  {
   "cell_type": "code",
   "execution_count": 76,
   "id": "645e30f1",
   "metadata": {},
   "outputs": [],
   "source": [
    "# #Derive\n",
    "\n",
    "# from sklearn.preprocessing import StandardScaler\n",
    "# from sklearn.model_selection import train_test_split\n",
    "\n",
    "\n",
    "# y = df_pretreat[['Umidade','Protein','class']]\n",
    "# ## Do not take the reference value and the class\n",
    "# X = df_pretreat.values[:, :-2]\n",
    "# X_train, X_test, y_train, y_test = train_test_split(X, y, test_size=0.25, random_state=0,stratify=y['class'])\n",
    "\n",
    "\n",
    "# col = [1,2,10,11,12,15,17,18,20,21,22,26,27,28,32,34,36,39,40,42,46,48,49,53,59,62,63,65,66,67,69,71,73,74,75,79,80,82,86,87,88,89,90,94,95,96,97,98,100,101,103,105,106,110,114,116,117,118,119,120,121,122,123,125,128,130,133,134,137,140,142,143,146,147,148,149,151,154,155,156,158,160,162,163,167,171,173,176,177,179,180,182,184,185,188,189,193,194,195,196,197,201,204,205,208,209,211,212,213,214,216,217,219,221,222,223,225,226,227,231,233,234,239,241,245,247,250,252,253,254,255,256,258,259,263,266,267,269,270,272,273,275,276,279,280,282,283,284,285,286,287,289,290,293,294,295,297,301,302,305,306,308,310,315,318,321,322,327,328,331,337,338,339,340,341,343,344,345,347,348,350,351,352,355,360,361,362,363,367,368,370,373,374,377,380,385,386,387,390,393,394,395,399,403,407,409,411,416,417,418,420,421,422,423,428,429,430,431,434,436,439,441,442,446,447,448,458,461,463,464,465,467,471,473,475,476,479,481,482,483,489,491,494,495,499,500,501,505,506,512,514,515,516,521,523,524,525,526,529,533,536,537,538,539,540,545,547,548,552,557,558,563,564,567,569,570,571,572,574,578,579,581,582,583,585,586,587,588,590,593,597,598,599,601,602,603,605,606,607,608,611,612,613,614,615,617,618,619,620,622,623,629,630,631,632,633,636,641,645,646,648,651,653,655,656,657,661,663,665,666,667,668,670,672,676,677,682,685,687,688,690,692,693,694,696,698,702,705,707,710,712,713,715,722,723,724,726,727,728,729,730,732,734,737,738,739,741,744,745,746,747,748,749,752,754,755,757,760,761,762,763,766,767,768,769,770,772,773,776,778,781,786,789,790,793,794,795,796,797,799,807,808,809,810,812,813,818,820,822,823,826,828,829,831,832,833,835,836,838,839,840,843,844,846,847,849,850,856,857,858,859,861,863,864,866,870,873,879,880,881,882,883,887,890,893,895,897,898,899,901,903,904,906,909,911,913,914,915,916,920,922,924,929,931,932,938,941,942,943,946,947,953,955,959,965,967,968,969,972,973,975,977,978,979,980,981,982,983,985,986,988,989,993,994,999,1003,1006,1010,1011,1012,1013,1014,1015,1016,1017,1019,1020,1022,1024,1026,1027,1030,1031,1032,1036,1037,1039,1042,1043,1044,1047,1048,1049,1055,1056,1059,1060,1061,1063,1068,1069,1070,1076,1077,1079,1085,1086,1091,1092,1095,1096,1097,1098,1101,1103,1104,1110,1111,1114,1115,1116,1119,1121,1122,1125,1130,1131,1134,1135,1136,1137,1144,1147,1150,1151,1154,1155,1156,1158,1161,1162,1163,1164,1168,1170,1171,1173,1174,1176,1178,1179,1181,1183,1185,1187,1192,1195,1197,1198,1199,1202,1204,1205,1206,1208,1209,1210,1214,1215,1217,1221,1222,1228,1232,1234,1235,1236,1239,1240,1241,1243,1244,1246,1249,1252,1253,1254,1257,1258,1259,1261,1262,1266,1267,1268,1269,1271,1275,1277,1279,1280,1282,1286,1289,1290,1291,1292,1294,1295,1296,1298,1301,1303,1304,1305,1310,1314,1315,1319,1320,1322,1323,1324,1331,1337,1342,1343,1345,1356,1360,1362,1364,1365,1366,1368,1369,1371,1374,1378,1380,1388,1392,1394,1400,1402,1403,1405,1407,1411,1412,1413,1414,1417,1418,1420,1422,1424,1430,1433,1434,1436,1441,1445,1447,1449,1450,1455,1456,1459,1460,1462,1464,1466,1471,1472,1473,1477,1481,1486,1487,1488,1490,1492,1494,1495,1499,1500,1502,1505,1506,1508,1511,1512,1516,1518,1520,1522,1523,1528,1530,1532,1533,1534,1535,1538,1539,1541,1542,1543,1544,1545,1546,1547,1548,1549,1551,1553,1554,1555]\n",
    "# X_train = (np.delete(X_train, col,1))\n",
    "# X_test = (np.delete(X_test, col,1))\n",
    "# col=[2,4,5,6,8,9,14,15,16,17,21,25,26,27,29,30,31,33,34,35,37,39,40,41,43,44,46,47,48,53,54,56,58,60,61,66,70,71,73,75,76,77,80,82,85,86,87,88,89,93,94,95,96,97,100,102,103,105,106,108,109,115,118,120,121,122,123,124,126,127,128,129,133,136,140,141,143,144,145,147,150,151,152,156,157,161,162,163,164,165,166,169,170,171,172,175,176,177,179,180,181,182,183,184,188,189,190,191,192,193,194,198,199,200,201,202,206,209,213,218,219,221,223,226,227,228,231,232,234,235,236,238,239,242,247,248,249,255,256,257,258,260,261,263,268,270,272,275,276,278,280,281,283,284,285,290,292,295,297,299,300,301,305,307,308,309,310,312,313,317,318,324,326,327,328,330,332,333,334,336,338,340,343,344,347,350,352,353,358,359,363,366,370,373,374,376,379,380,381,383,384,389,390,393,394,397,398,399,400,402,403,404,405,410,411,412,413,415,416,417,418,419,420,423,424,425,427,428,429,431,432,433,434,436,437,443,444,445,446,447,448,449,450,452,454,455,457,461,463,464,466,468,469,470,472,474,475,480,481,485,488,494,496,498,499,505,507,511,515,516,517,518,519,520,523,524,526,532,533,534,535,538,539,540,542,545,547,548,549,552,554,558,559,562,563,565,566,567,568,569,571,582,584,585,586,588,590,591,592,594,598,599,600,601,602,603,605,610,613,614,615,622,623,624,629,630,631,633,634,636,637,642,645,647,650,652,653,655,656,657,658,659,660,661,667,668,669,671,675,676,678,679,681,684,688,689,691,693,694,700,703,704,705,708,711,712,715,726,729,730,732,733,734,735,736,737,738,739,741,742,745,746,749,750,751,752,754,756,757,758,762,763,764,765,768,769,772,779,780,781,784,788,794,795,796,798,799,801,803,804,806,807]\n",
    "# X_train = (np.delete(X_train, col,1))\n",
    "# X_test = (np.delete(X_test, col,1))\n",
    "\n",
    "# col = [   0,   1,   6,   8,  10,  12,  13,  14,  16,  19,  20,  22,  25,\n",
    "#         33,  34,  35,  37,  41,  43,  44,  49,  50,  51,  53,  57,  58,\n",
    "#         59,  60,  61,  62,  68,  69,  70,  71,  76,  79,  81,  83,  85,\n",
    "#         89,  99, 100, 102, 103, 105, 107, 109, 111, 114, 115, 117, 118,\n",
    "#        121, 125, 127, 128, 134, 136, 138, 142, 147, 149, 152, 160, 161,\n",
    "#        162, 165, 168, 170, 172, 173, 174, 175, 179, 181, 182, 188, 189,\n",
    "#        192, 196, 198, 200, 202, 205, 206, 210, 214, 219, 220, 225, 226,\n",
    "#        228, 233, 236, 238, 239, 243, 245, 246, 258, 259, 264, 272, 273,\n",
    "#        274, 275, 276, 277, 278, 280, 281, 282, 283, 284, 287, 288, 290,\n",
    "#        291, 298, 300, 301, 302, 303, 304, 305, 306, 307, 312, 313, 314,\n",
    "#        319, 321, 327, 328, 333, 334, 335, 337, 339, 342, 354, 356, 362,\n",
    "#        363, 364, 367, 373, 376, 377, 381, 382, 383, 385, 386, 388, 390,\n",
    "#        391]\n",
    "# X_train = (np.delete(X_train, col,1))\n",
    "# X_test = (np.delete(X_test, col,1))\n",
    "\n",
    "# col = [  0,   5,   8,  10,  12,  14,  19,  20,  27,  28,  29,  31,  34,\n",
    "#         35,  36,  38,  41,  44,  47,  49,  53,  55,  59,  60,  66,  71,\n",
    "#         73,  75,  76,  78,  79,  80,  82,  83,  85,  88,  90,  91,  92,\n",
    "#         96,  99, 100, 103, 104, 105, 106, 107, 108, 109, 110, 111, 112,\n",
    "#        114, 116, 117, 119, 120, 121, 122, 131, 132, 134, 135, 139, 142,\n",
    "#        144, 145, 149, 152, 153, 155, 157, 159, 161, 163, 174, 175, 177,\n",
    "#        181, 182, 184, 187, 190, 191, 200, 216, 219, 220, 222, 224, 226,\n",
    "#        227, 229, 234, 235, 238]\n",
    "# X_train = (np.delete(X_train, col,1))\n",
    "# X_test = (np.delete(X_test, col,1))\n",
    "# # X_train_snv = msc(X_train)\n",
    "# # X_#test_snv = msc(X_test)\n",
    "\n",
    "# y_train_oleo = y_train['Protein']\n",
    "\n",
    "\n",
    "# y_test_oleo = y_test['Protein']\n",
    "\n",
    "# #X1 = savgol_filter(X_train, 23, polyorder=2, deriv=2)\n",
    "# #X2 = savgol_filter(X_test, 23, polyorder=2, deriv=2)\n",
    "\n",
    "# # X_train_snv = msc(X_train)\n",
    "# # X_test_snv = msc(X_test)\n",
    "\n",
    "# # mean centre correction\n",
    "# #X_mc = mc(X1)\n",
    "\n",
    "# ##Standard Normal Variate\n",
    "\n",
    "# # Xsnv = snv(X_train)"
   ]
  },
  {
   "cell_type": "code",
   "execution_count": 77,
   "id": "8929abaa",
   "metadata": {},
   "outputs": [
    {
     "data": {
      "text/plain": [
       "(48, 1557)"
      ]
     },
     "execution_count": 77,
     "metadata": {},
     "output_type": "execute_result"
    }
   ],
   "source": [
    "X_train.shape"
   ]
  },
  {
   "cell_type": "code",
   "execution_count": 78,
   "id": "79fd33e2",
   "metadata": {},
   "outputs": [
    {
     "data": {
      "text/plain": [
       "17"
      ]
     },
     "execution_count": 78,
     "metadata": {},
     "output_type": "execute_result"
    }
   ],
   "source": [
    "len(X_test)"
   ]
  },
  {
   "cell_type": "code",
   "execution_count": 112,
   "id": "361f8e21",
   "metadata": {},
   "outputs": [
    {
     "name": "stderr",
     "output_type": "stream",
     "text": [
      "2023-05-02 22:48:13,707 - pyswarms.discrete.binary - INFO - Optimize for 100 iters with {'c1': 2, 'c2': 2, 'w': 0.9, 'k': 20, 'p': 2}\n",
      "pyswarms.discrete.binary: 100%|██████████|100/100, best_cost=0.0336\n",
      "2023-05-02 22:59:00,790 - pyswarms.discrete.binary - INFO - Optimization finished | best cost: 0.03362729743074012, best pos: [1 1 1 0 1 1 1 1 1 1 1 1 0 1 1 1 1 1 1 1 1 1 0 1 0 1 1 1 1 1 0 1 0 1 1 1 1\n",
      " 1 1 1 1 1 1 1 0 1 1 0 1 0 1 1 0 1 1 1 0 0 1 1 1 1 1 1 0 1 1 0 0 1 0 1 1 1\n",
      " 0 1 0 1 1 1 0 0 1 1 1 1 1 1 1 0 1 1 1 0 0 1 0 0 1 1 1 1 1 1 1 1 0 0 1 0 1\n",
      " 1 0 1 1 1 1 1 0 0 1 1 1 1 1 0 1 1 1 1 1 1 0 1 1 1 1 1 1 1 0 0 1 1 1 1 1 1\n",
      " 1 1 1 0 1 1 1 0 1 1 1 1 1 1 1 1 0 0 1 1 1 1 1 1 1 0 1 0 1 1]\n"
     ]
    }
   ],
   "source": [
    "# Import PySwarms\n",
    "import pyswarms as ps\n",
    "\n",
    "# Initialize swarm, arbitrary\n",
    "options = {'c1': 2, 'c2': 2, 'w':0.9, 'k': 20, 'p':2}\n",
    "\n",
    "# Call instance of PSO\n",
    "dimensions = X_train.shape[1] # dimensions should be the number of features\n",
    "\n",
    "optimizer = ps.discrete.BinaryPSO(n_particles=20, dimensions=dimensions, options=options)\n",
    "\n",
    "# Perform optimization\n",
    "cost, pos = optimizer.optimize(f, iters=100, verbose=2)\n",
    "optimizer.reset()"
   ]
  },
  {
   "cell_type": "code",
   "execution_count": 113,
   "id": "a84219fb",
   "metadata": {},
   "outputs": [
    {
     "data": {
      "text/plain": [
       "array([  3,  12,  22,  24,  30,  32,  44,  47,  49,  52,  56,  57,  64,\n",
       "        67,  68,  70,  74,  76,  80,  81,  89,  93,  94,  96,  97, 106,\n",
       "       107, 109, 112, 118, 119, 125, 132, 140, 141, 151, 155, 164, 165,\n",
       "       173, 175], dtype=int64)"
      ]
     },
     "execution_count": 113,
     "metadata": {},
     "output_type": "execute_result"
    }
   ],
   "source": [
    "np.where(pos == 0)[0]"
   ]
  },
  {
   "cell_type": "code",
   "execution_count": 34,
   "id": "2879d3da",
   "metadata": {},
   "outputs": [],
   "source": [
    "with open(\"Col_to_delete_2023-05-02_Wheat_protein_snv.txt\", \"w\") as txt_file:\n",
    "    for line in np.where(pos == 0)[0]:\n",
    "        txt_file.write(str(line)+',')"
   ]
  },
  {
   "cell_type": "code",
   "execution_count": 79,
   "id": "8f6b5e0f",
   "metadata": {},
   "outputs": [
    {
     "name": "stdout",
     "output_type": "stream",
     "text": [
      "N comp:  8\n",
      "N W:  (48, 1557)\n",
      "R2:  0.9730691183381993\n",
      "RMSE train:  0.33581403086577055\n",
      "RMSE test:  0.2550783010389887\n"
     ]
    }
   ],
   "source": [
    "ls_score_pls = []\n",
    "n_opt = 8\n",
    "for i in range(3,9):\n",
    "    pls_simple = PLSRegression(n_components=i)\n",
    "    cv = LeaveOneOut()\n",
    "    #cv = 10\n",
    "\n",
    "    X1 = X_train \n",
    "    #X1 = X_train[:,pos==1] \n",
    "\n",
    "    X2 = X_test\n",
    "    #X2 = X_test[:,pos==1] \n",
    "\n",
    "\n",
    "    # Fit\n",
    "    pls_simple.fit(X1, y_train_oleo)\n",
    "\n",
    "\n",
    "    # Cross-validation\n",
    "    y_cv = cross_val_predict(pls_simple,X1, y_train_oleo, cv=cv)\n",
    "    y_pred = pls_simple.predict(X2)\n",
    "    score = r2_score(y_train_oleo, y_cv)\n",
    "    if ls_score_pls:\n",
    "        if score< ls_score_pls[-1] and i>4:\n",
    "            n_opt =  i-1\n",
    "            break\n",
    "\n",
    "    ls_score_pls.append(score)\n",
    "\n",
    "pls_simple = PLSRegression(n_components=n_opt)\n",
    "cv = LeaveOneOut()\n",
    "#cv = 10\n",
    "\n",
    "X1 = X_train \n",
    "#X1 = X_train[:,pos==1] \n",
    "\n",
    "X2 = X_test\n",
    "#X2 = X_test[:,pos==1] \n",
    "\n",
    "\n",
    "# Fit\n",
    "pls_simple.fit(X1, y_train_oleo)\n",
    "\n",
    "\n",
    "# Cross-validation\n",
    "y_cv = cross_val_predict(pls_simple,X1, y_train_oleo, cv=cv)\n",
    "y_pred = pls_simple.predict(X2)\n",
    "# Calculate scores\n",
    "score = r2_score(y_train_oleo, y_cv)\n",
    "score_train = mean_squared_error(y_train_oleo, y_cv,squared=False)\n",
    "score_test = mean_squared_error(y_test_oleo, y_pred,squared=False)\n",
    "\n",
    "print('N comp: ', n_opt)\n",
    "print('N W: ', X_train.shape)\n",
    "print('R2: ', score)\n",
    "print('RMSE train: ', score_train)\n",
    "print('RMSE test: ', score_test)\n",
    "\n"
   ]
  },
  {
   "attachments": {},
   "cell_type": "markdown",
   "id": "48845b97",
   "metadata": {},
   "source": [
    "Sans suppression \n",
    "N comp:  7\n",
    "R2:  0.9805049598710649\n",
    "RMSE train:  0.27595271220778406\n",
    "RMSE test:  0.29009266827183483\n",
    "\n",
    "1e boucle\n",
    "N comp:  7\n",
    "R2:  0.9831982207456885\n",
    "RMSE train:  0.2561829589026026\n",
    "RMSE test:  0.2708269216645377\n",
    "\n",
    "2e boucle\n",
    "N comp:  6\n",
    "R2:  0.9849831044939732\n",
    "RMSE train:  0.24219360940939957\n",
    "RMSE test:  0.24730487643536805\n",
    "\n",
    "3e\n",
    "N comp:  9\n",
    "R2:  0.9872025093580399\n",
    "RMSE train:  0.22358105982604698\n",
    "RMSE test:  0.24924251365465772\n",
    "\n",
    "4e\n",
    "N comp:  6\n",
    "R2:  0.9871519526637231\n",
    "RMSE train:  0.2240222548198685\n",
    "RMSE test:  0.2706374693677986\n",
    "\n",
    "\n",
    "Derive\n",
    "\n",
    "1e boucle\n",
    "N comp:  7\n",
    "R2:  0.8443729298212104\n",
    "RMSE train:  0.7796778041725819\n",
    "RMSE test:  1.083202000891111\n",
    "\n",
    "2e\n",
    "N comp:  13\n",
    "R2:  0.9101503934267089\n",
    "RMSE train:  0.5924213344224807\n",
    "RMSE test:  1.0363557918297595\n",
    "\n",
    "3e\n",
    "N comp:  8\n",
    "R2:  0.9395854758358158\n",
    "RMSE train:  0.48578408187061634\n",
    "RMSE test:  1.060057150000316\n",
    "\n",
    "4e\n",
    "N comp:  11\n",
    "R2:  0.9714393086793586\n",
    "RMSE train:  0.3340080684002813\n",
    "RMSE test:  1.0016505154741253\n",
    "\n",
    "5e\n",
    "N comp:  9\n",
    "R2:  0.9798866100697079\n",
    "RMSE train:  0.28029492643100534\n",
    "RMSE test:  1.0098700715421522\n",
    "\n",
    "\n",
    "#SNV\n",
    "\n",
    "N comp:  8\n",
    "R2:  0.9845619593655333\n",
    "RMSE train:  0.2542550817211081\n",
    "RMSE test:  0.22318440525892122\n",
    "\n",
    "N comp:  8\n",
    "R2:  0.9883433226181755\n",
    "RMSE train:  0.22093317833785509\n",
    "RMSE test:  0.201607787570438\n",
    "\n",
    "N comp:  8\n",
    "R2:  0.988921366527693\n",
    "RMSE train:  0.21538559242737057\n",
    "RMSE test:  0.19260607186134462\n",
    "\n",
    "N comp:  8\n",
    "R2:  0.9895243700304294\n",
    "RMSE train:  0.20944192779975856\n",
    "RMSE test:  0.19678730656074378\n",
    "\n",
    "N comp:  8\n",
    "R2:  0.9925122082001334\n",
    "RMSE train:  0.17707221994772723\n",
    "RMSE test:  0.19580215924773092\n",
    "\n",
    "N comp:  8\n",
    "R2:  0.9917799074532182\n",
    "RMSE train:  0.1855290434741453\n",
    "RMSE test:  0.22682561777188678\n",
    "\n",
    "\n",
    "\n",
    "\n",
    "\n",
    "\n",
    "\n",
    "\n",
    "\n",
    "N comp:  8\n",
    "R2:  0.9916223155864788\n",
    "RMSE train:  0.18729903947888898\n",
    "RMSE test:  0.23294941574822697\n",
    "\n",
    "N comp:  8\n",
    "R2:  0.9934466069265414\n",
    "RMSE train:  0.16565580559936982\n",
    "RMSE test:  0.2606671582280617\n",
    "\n",
    "N comp:  8\n",
    "R2:  0.9922277228893237\n",
    "RMSE train:  0.18040463450474412\n",
    "RMSE test:  0.26607241270279025"
   ]
  },
  {
   "cell_type": "code",
   "execution_count": 64,
   "id": "73507540",
   "metadata": {},
   "outputs": [
    {
     "data": {
      "application/vnd.plotly.v1+json": {
       "config": {
        "plotlyServerURL": "https://plot.ly"
       },
       "data": [
        {
         "hoverlabel": {
          "namelength": 0
         },
         "hovertemplate": "Protein content measured (%)=%{x}<br>Protein content predicted (%)=%{y}",
         "legendgroup": "",
         "marker": {
          "color": "#636efa",
          "symbol": "circle"
         },
         "mode": "markers",
         "name": "",
         "showlegend": false,
         "type": "scatter",
         "x": [
          13.98601399,
          14.81900452,
          11.73814898,
          13.90433815,
          13.88564761,
          11.50722022,
          13.70817844,
          11.56783468,
          16.25282167,
          14.23570595,
          13.35346029,
          16.74157303,
          13.47678369,
          11.42533937,
          11.86440678,
          16.64791901,
          13.86946387,
          12.5,
          13.784316,
          14.06976744,
          14.03508772,
          17.46384872,
          11.61675971,
          16.63201663,
          15.6774916,
          16.83615819,
          11.73814898,
          16.40271493,
          12.46350775,
          16.94725028,
          11.65158371,
          11.39954853,
          16.90929451,
          13.3310149,
          12.00897868,
          12.51396648,
          11.38669673,
          14.57399103,
          13.58885017,
          11.8510158,
          16.70428894,
          16.27118644,
          16.59142212,
          16.49717514,
          16.83615819,
          10.66457117,
          14.7864184,
          16.79819617
         ],
         "xaxis": "x",
         "y": [
          13.91848427020367,
          14.592286056527122,
          11.942417786318215,
          14.08759120873667,
          13.871071566331452,
          11.332455875624861,
          14.071119861803897,
          11.878232745676701,
          16.075384753914356,
          14.106433760216982,
          13.531009152936486,
          16.535909872171995,
          13.499413705458046,
          11.195286889832555,
          12.238125512717808,
          16.400292101120343,
          13.910269824634321,
          12.624818216011258,
          13.991973602487771,
          14.049774480783693,
          14.21019038279872,
          17.631463957481852,
          11.577324472580026,
          16.69346843743866,
          15.483374623138815,
          16.99632515363878,
          11.714884555644462,
          16.517111450909326,
          12.487673890329438,
          16.75584599079264,
          11.690004882475309,
          11.35019098521371,
          17.177831458538908,
          13.474793674591869,
          12.207900958819017,
          12.517637149417158,
          11.172006599310665,
          14.243938136017302,
          13.51802836115058,
          11.812871446622097,
          16.640912535464146,
          16.112203239625376,
          16.410396841429666,
          16.378234595397533,
          16.690256582221394,
          10.928965216743137,
          14.616820948547245,
          16.872407900444788
         ],
         "yaxis": "y"
        },
        {
         "hoverlabel": {
          "namelength": 0
         },
         "hovertemplate": "<b>OLS trendline</b><br>y_pred_train = 0.978346 * y_ref_train + 0.310226<br>R<sup>2</sup>=0.992726<br><br>Protein content measured (%)=%{x}<br>Protein content predicted (%)=%{y} <b>(trend)</b>",
         "legendgroup": "",
         "marker": {
          "color": "#636efa",
          "symbol": "circle"
         },
         "mode": "lines",
         "name": "",
         "showlegend": false,
         "type": "scatter",
         "x": [
          10.66457117,
          11.38669673,
          11.39954853,
          11.42533937,
          11.50722022,
          11.56783468,
          11.61675971,
          11.65158371,
          11.73814898,
          11.73814898,
          11.8510158,
          11.86440678,
          12.00897868,
          12.46350775,
          12.5,
          12.51396648,
          13.3310149,
          13.35346029,
          13.47678369,
          13.58885017,
          13.70817844,
          13.784316,
          13.86946387,
          13.88564761,
          13.90433815,
          13.98601399,
          14.03508772,
          14.06976744,
          14.23570595,
          14.57399103,
          14.7864184,
          14.81900452,
          15.6774916,
          16.25282167,
          16.27118644,
          16.40271493,
          16.49717514,
          16.59142212,
          16.63201663,
          16.64791901,
          16.70428894,
          16.74157303,
          16.79819617,
          16.83615819,
          16.83615819,
          16.90929451,
          16.94725028,
          17.46384872
         ],
         "xaxis": "x",
         "y": [
          10.74386974680866,
          11.450358594852974,
          11.46293210544481,
          11.488164477557072,
          11.568272301732954,
          11.627574232577539,
          11.675439853184063,
          11.70950978368797,
          11.794200592697617,
          11.794200592697617,
          11.904623425043042,
          11.917724440376697,
          12.05916581947783,
          12.50385263968532,
          12.539554696354031,
          12.55321874996603,
          13.352575024022062,
          13.3745343876056,
          13.495187375990207,
          13.60482719868196,
          13.721571566533196,
          13.796060464360474,
          13.879364565367128,
          13.895197867029582,
          13.913483687121486,
          13.99339094052857,
          14.041402041225432,
          14.075330815929513,
          14.237676138225114,
          14.568636084414774,
          14.776463609484491,
          14.808344118437857,
          15.648241750935627,
          16.21111377889646,
          16.229080883124016,
          16.35776129070453,
          16.450176084814466,
          16.542382266149275,
          16.58209775358725,
          16.5976557877432,
          16.652805098494696,
          16.689281848873783,
          16.74467888668429,
          16.78181888735015,
          16.78181888735015,
          16.853371533218272,
          16.89050541921995,
          17.3959175760436
         ],
         "yaxis": "y"
        }
       ],
       "layout": {
        "height": 400,
        "legend": {
         "tracegroupgap": 0
        },
        "template": {
         "data": {
          "bar": [
           {
            "error_x": {
             "color": "#2a3f5f"
            },
            "error_y": {
             "color": "#2a3f5f"
            },
            "marker": {
             "line": {
              "color": "#E5ECF6",
              "width": 0.5
             }
            },
            "type": "bar"
           }
          ],
          "barpolar": [
           {
            "marker": {
             "line": {
              "color": "#E5ECF6",
              "width": 0.5
             }
            },
            "type": "barpolar"
           }
          ],
          "carpet": [
           {
            "aaxis": {
             "endlinecolor": "#2a3f5f",
             "gridcolor": "white",
             "linecolor": "white",
             "minorgridcolor": "white",
             "startlinecolor": "#2a3f5f"
            },
            "baxis": {
             "endlinecolor": "#2a3f5f",
             "gridcolor": "white",
             "linecolor": "white",
             "minorgridcolor": "white",
             "startlinecolor": "#2a3f5f"
            },
            "type": "carpet"
           }
          ],
          "choropleth": [
           {
            "colorbar": {
             "outlinewidth": 0,
             "ticks": ""
            },
            "type": "choropleth"
           }
          ],
          "contour": [
           {
            "colorbar": {
             "outlinewidth": 0,
             "ticks": ""
            },
            "colorscale": [
             [
              0,
              "#0d0887"
             ],
             [
              0.1111111111111111,
              "#46039f"
             ],
             [
              0.2222222222222222,
              "#7201a8"
             ],
             [
              0.3333333333333333,
              "#9c179e"
             ],
             [
              0.4444444444444444,
              "#bd3786"
             ],
             [
              0.5555555555555556,
              "#d8576b"
             ],
             [
              0.6666666666666666,
              "#ed7953"
             ],
             [
              0.7777777777777778,
              "#fb9f3a"
             ],
             [
              0.8888888888888888,
              "#fdca26"
             ],
             [
              1,
              "#f0f921"
             ]
            ],
            "type": "contour"
           }
          ],
          "contourcarpet": [
           {
            "colorbar": {
             "outlinewidth": 0,
             "ticks": ""
            },
            "type": "contourcarpet"
           }
          ],
          "heatmap": [
           {
            "colorbar": {
             "outlinewidth": 0,
             "ticks": ""
            },
            "colorscale": [
             [
              0,
              "#0d0887"
             ],
             [
              0.1111111111111111,
              "#46039f"
             ],
             [
              0.2222222222222222,
              "#7201a8"
             ],
             [
              0.3333333333333333,
              "#9c179e"
             ],
             [
              0.4444444444444444,
              "#bd3786"
             ],
             [
              0.5555555555555556,
              "#d8576b"
             ],
             [
              0.6666666666666666,
              "#ed7953"
             ],
             [
              0.7777777777777778,
              "#fb9f3a"
             ],
             [
              0.8888888888888888,
              "#fdca26"
             ],
             [
              1,
              "#f0f921"
             ]
            ],
            "type": "heatmap"
           }
          ],
          "heatmapgl": [
           {
            "colorbar": {
             "outlinewidth": 0,
             "ticks": ""
            },
            "colorscale": [
             [
              0,
              "#0d0887"
             ],
             [
              0.1111111111111111,
              "#46039f"
             ],
             [
              0.2222222222222222,
              "#7201a8"
             ],
             [
              0.3333333333333333,
              "#9c179e"
             ],
             [
              0.4444444444444444,
              "#bd3786"
             ],
             [
              0.5555555555555556,
              "#d8576b"
             ],
             [
              0.6666666666666666,
              "#ed7953"
             ],
             [
              0.7777777777777778,
              "#fb9f3a"
             ],
             [
              0.8888888888888888,
              "#fdca26"
             ],
             [
              1,
              "#f0f921"
             ]
            ],
            "type": "heatmapgl"
           }
          ],
          "histogram": [
           {
            "marker": {
             "colorbar": {
              "outlinewidth": 0,
              "ticks": ""
             }
            },
            "type": "histogram"
           }
          ],
          "histogram2d": [
           {
            "colorbar": {
             "outlinewidth": 0,
             "ticks": ""
            },
            "colorscale": [
             [
              0,
              "#0d0887"
             ],
             [
              0.1111111111111111,
              "#46039f"
             ],
             [
              0.2222222222222222,
              "#7201a8"
             ],
             [
              0.3333333333333333,
              "#9c179e"
             ],
             [
              0.4444444444444444,
              "#bd3786"
             ],
             [
              0.5555555555555556,
              "#d8576b"
             ],
             [
              0.6666666666666666,
              "#ed7953"
             ],
             [
              0.7777777777777778,
              "#fb9f3a"
             ],
             [
              0.8888888888888888,
              "#fdca26"
             ],
             [
              1,
              "#f0f921"
             ]
            ],
            "type": "histogram2d"
           }
          ],
          "histogram2dcontour": [
           {
            "colorbar": {
             "outlinewidth": 0,
             "ticks": ""
            },
            "colorscale": [
             [
              0,
              "#0d0887"
             ],
             [
              0.1111111111111111,
              "#46039f"
             ],
             [
              0.2222222222222222,
              "#7201a8"
             ],
             [
              0.3333333333333333,
              "#9c179e"
             ],
             [
              0.4444444444444444,
              "#bd3786"
             ],
             [
              0.5555555555555556,
              "#d8576b"
             ],
             [
              0.6666666666666666,
              "#ed7953"
             ],
             [
              0.7777777777777778,
              "#fb9f3a"
             ],
             [
              0.8888888888888888,
              "#fdca26"
             ],
             [
              1,
              "#f0f921"
             ]
            ],
            "type": "histogram2dcontour"
           }
          ],
          "mesh3d": [
           {
            "colorbar": {
             "outlinewidth": 0,
             "ticks": ""
            },
            "type": "mesh3d"
           }
          ],
          "parcoords": [
           {
            "line": {
             "colorbar": {
              "outlinewidth": 0,
              "ticks": ""
             }
            },
            "type": "parcoords"
           }
          ],
          "scatter": [
           {
            "marker": {
             "colorbar": {
              "outlinewidth": 0,
              "ticks": ""
             }
            },
            "type": "scatter"
           }
          ],
          "scatter3d": [
           {
            "line": {
             "colorbar": {
              "outlinewidth": 0,
              "ticks": ""
             }
            },
            "marker": {
             "colorbar": {
              "outlinewidth": 0,
              "ticks": ""
             }
            },
            "type": "scatter3d"
           }
          ],
          "scattercarpet": [
           {
            "marker": {
             "colorbar": {
              "outlinewidth": 0,
              "ticks": ""
             }
            },
            "type": "scattercarpet"
           }
          ],
          "scattergeo": [
           {
            "marker": {
             "colorbar": {
              "outlinewidth": 0,
              "ticks": ""
             }
            },
            "type": "scattergeo"
           }
          ],
          "scattergl": [
           {
            "marker": {
             "colorbar": {
              "outlinewidth": 0,
              "ticks": ""
             }
            },
            "type": "scattergl"
           }
          ],
          "scattermapbox": [
           {
            "marker": {
             "colorbar": {
              "outlinewidth": 0,
              "ticks": ""
             }
            },
            "type": "scattermapbox"
           }
          ],
          "scatterpolar": [
           {
            "marker": {
             "colorbar": {
              "outlinewidth": 0,
              "ticks": ""
             }
            },
            "type": "scatterpolar"
           }
          ],
          "scatterpolargl": [
           {
            "marker": {
             "colorbar": {
              "outlinewidth": 0,
              "ticks": ""
             }
            },
            "type": "scatterpolargl"
           }
          ],
          "scatterternary": [
           {
            "marker": {
             "colorbar": {
              "outlinewidth": 0,
              "ticks": ""
             }
            },
            "type": "scatterternary"
           }
          ],
          "surface": [
           {
            "colorbar": {
             "outlinewidth": 0,
             "ticks": ""
            },
            "colorscale": [
             [
              0,
              "#0d0887"
             ],
             [
              0.1111111111111111,
              "#46039f"
             ],
             [
              0.2222222222222222,
              "#7201a8"
             ],
             [
              0.3333333333333333,
              "#9c179e"
             ],
             [
              0.4444444444444444,
              "#bd3786"
             ],
             [
              0.5555555555555556,
              "#d8576b"
             ],
             [
              0.6666666666666666,
              "#ed7953"
             ],
             [
              0.7777777777777778,
              "#fb9f3a"
             ],
             [
              0.8888888888888888,
              "#fdca26"
             ],
             [
              1,
              "#f0f921"
             ]
            ],
            "type": "surface"
           }
          ],
          "table": [
           {
            "cells": {
             "fill": {
              "color": "#EBF0F8"
             },
             "line": {
              "color": "white"
             }
            },
            "header": {
             "fill": {
              "color": "#C8D4E3"
             },
             "line": {
              "color": "white"
             }
            },
            "type": "table"
           }
          ]
         },
         "layout": {
          "annotationdefaults": {
           "arrowcolor": "#2a3f5f",
           "arrowhead": 0,
           "arrowwidth": 1
          },
          "colorscale": {
           "diverging": [
            [
             0,
             "#8e0152"
            ],
            [
             0.1,
             "#c51b7d"
            ],
            [
             0.2,
             "#de77ae"
            ],
            [
             0.3,
             "#f1b6da"
            ],
            [
             0.4,
             "#fde0ef"
            ],
            [
             0.5,
             "#f7f7f7"
            ],
            [
             0.6,
             "#e6f5d0"
            ],
            [
             0.7,
             "#b8e186"
            ],
            [
             0.8,
             "#7fbc41"
            ],
            [
             0.9,
             "#4d9221"
            ],
            [
             1,
             "#276419"
            ]
           ],
           "sequential": [
            [
             0,
             "#0d0887"
            ],
            [
             0.1111111111111111,
             "#46039f"
            ],
            [
             0.2222222222222222,
             "#7201a8"
            ],
            [
             0.3333333333333333,
             "#9c179e"
            ],
            [
             0.4444444444444444,
             "#bd3786"
            ],
            [
             0.5555555555555556,
             "#d8576b"
            ],
            [
             0.6666666666666666,
             "#ed7953"
            ],
            [
             0.7777777777777778,
             "#fb9f3a"
            ],
            [
             0.8888888888888888,
             "#fdca26"
            ],
            [
             1,
             "#f0f921"
            ]
           ],
           "sequentialminus": [
            [
             0,
             "#0d0887"
            ],
            [
             0.1111111111111111,
             "#46039f"
            ],
            [
             0.2222222222222222,
             "#7201a8"
            ],
            [
             0.3333333333333333,
             "#9c179e"
            ],
            [
             0.4444444444444444,
             "#bd3786"
            ],
            [
             0.5555555555555556,
             "#d8576b"
            ],
            [
             0.6666666666666666,
             "#ed7953"
            ],
            [
             0.7777777777777778,
             "#fb9f3a"
            ],
            [
             0.8888888888888888,
             "#fdca26"
            ],
            [
             1,
             "#f0f921"
            ]
           ]
          },
          "colorway": [
           "#636efa",
           "#EF553B",
           "#00cc96",
           "#ab63fa",
           "#FFA15A",
           "#19d3f3",
           "#FF6692",
           "#B6E880",
           "#FF97FF",
           "#FECB52"
          ],
          "font": {
           "color": "#2a3f5f"
          },
          "geo": {
           "bgcolor": "white",
           "lakecolor": "white",
           "landcolor": "#E5ECF6",
           "showlakes": true,
           "showland": true,
           "subunitcolor": "white"
          },
          "hoverlabel": {
           "align": "left"
          },
          "hovermode": "closest",
          "mapbox": {
           "style": "light"
          },
          "paper_bgcolor": "white",
          "plot_bgcolor": "#E5ECF6",
          "polar": {
           "angularaxis": {
            "gridcolor": "white",
            "linecolor": "white",
            "ticks": ""
           },
           "bgcolor": "#E5ECF6",
           "radialaxis": {
            "gridcolor": "white",
            "linecolor": "white",
            "ticks": ""
           }
          },
          "scene": {
           "xaxis": {
            "backgroundcolor": "#E5ECF6",
            "gridcolor": "white",
            "gridwidth": 2,
            "linecolor": "white",
            "showbackground": true,
            "ticks": "",
            "zerolinecolor": "white"
           },
           "yaxis": {
            "backgroundcolor": "#E5ECF6",
            "gridcolor": "white",
            "gridwidth": 2,
            "linecolor": "white",
            "showbackground": true,
            "ticks": "",
            "zerolinecolor": "white"
           },
           "zaxis": {
            "backgroundcolor": "#E5ECF6",
            "gridcolor": "white",
            "gridwidth": 2,
            "linecolor": "white",
            "showbackground": true,
            "ticks": "",
            "zerolinecolor": "white"
           }
          },
          "shapedefaults": {
           "line": {
            "color": "#2a3f5f"
           }
          },
          "ternary": {
           "aaxis": {
            "gridcolor": "white",
            "linecolor": "white",
            "ticks": ""
           },
           "baxis": {
            "gridcolor": "white",
            "linecolor": "white",
            "ticks": ""
           },
           "bgcolor": "#E5ECF6",
           "caxis": {
            "gridcolor": "white",
            "linecolor": "white",
            "ticks": ""
           }
          },
          "title": {
           "x": 0.05
          },
          "xaxis": {
           "automargin": true,
           "gridcolor": "white",
           "linecolor": "white",
           "ticks": "",
           "zerolinecolor": "white",
           "zerolinewidth": 2
          },
          "yaxis": {
           "automargin": true,
           "gridcolor": "white",
           "linecolor": "white",
           "ticks": "",
           "zerolinecolor": "white",
           "zerolinewidth": 2
          }
         }
        },
        "title": {
         "text": "Prediction performance for protein content "
        },
        "width": 600,
        "xaxis": {
         "anchor": "y",
         "domain": [
          0,
          0.98
         ],
         "title": {
          "text": "Protein content measured (%)"
         }
        },
        "yaxis": {
         "anchor": "x",
         "domain": [
          0,
          1
         ],
         "title": {
          "text": "Protein content predicted (%)"
         }
        }
       }
      }
     },
     "metadata": {},
     "output_type": "display_data"
    }
   ],
   "source": [
    "import plotly.express as px\n",
    "\n",
    "df_pred = pd.DataFrame()\n",
    "df_pred['y_ref_train'] = y_train_oleo\n",
    "df_pred['y_pred_train'] = y_cv\n",
    "fig = px.scatter(df_pred, x=\"y_ref_train\", y=\"y_pred_train\", trendline=\"ols\", title=\"Prediction performance for protein content \",\n",
    "                 labels={\n",
    "                     \"y_ref_train\": \"Protein content measured (%)\",\n",
    "                     \"y_pred_train\": \"Protein content predicted (%)\",\n",
    "\n",
    "                 },width=600, height=400)\n",
    "fig.show()"
   ]
  },
  {
   "cell_type": "code",
   "execution_count": 65,
   "id": "a80e688f",
   "metadata": {},
   "outputs": [
    {
     "data": {
      "application/vnd.plotly.v1+json": {
       "config": {
        "plotlyServerURL": "https://plot.ly"
       },
       "data": [
        {
         "hoverlabel": {
          "namelength": 0
         },
         "hovertemplate": "Protein content measured (%)=%{x}<br>Protein content predicted (%)=%{y}",
         "legendgroup": "",
         "marker": {
          "color": "#636efa",
          "symbol": "circle"
         },
         "mode": "markers",
         "name": "",
         "showlegend": false,
         "type": "scatter",
         "x": [
          14.83979764,
          16.94725028,
          13.26530612,
          12.00897868,
          13.80510441,
          11.39247645,
          16.54008439,
          11.8510158,
          16.4785553,
          11.69524881,
          14.31897555,
          16.72278339,
          14.18604651,
          13.80116959,
          13.72093023,
          11.73814898,
          16.62895928
         ],
         "xaxis": "x",
         "y": [
          14.987976930878732,
          16.760248579109547,
          13.127790587282567,
          11.852797985693051,
          14.195029853973532,
          11.247440026080621,
          16.46076718950776,
          12.194012944423118,
          16.40334845897315,
          11.429111971299044,
          14.454654675259029,
          16.70089160790483,
          14.04589578643386,
          13.612124365750768,
          13.903444356175534,
          11.90693325926914,
          16.424127428432136
         ],
         "yaxis": "y"
        },
        {
         "hoverlabel": {
          "namelength": 0
         },
         "hovertemplate": "<b>OLS trendline</b><br>y_pred_test = 0.981295 * y_ref_test + 0.250225<br>R<sup>2</sup>=0.989734<br><br>Protein content measured (%)=%{x}<br>Protein content predicted (%)=%{y} <b>(trend)</b>",
         "legendgroup": "",
         "marker": {
          "color": "#636efa",
          "symbol": "circle"
         },
         "mode": "lines",
         "name": "",
         "showlegend": false,
         "type": "scatter",
         "x": [
          11.39247645,
          11.69524881,
          11.73814898,
          11.8510158,
          12.00897868,
          13.26530612,
          13.72093023,
          13.80116959,
          13.80510441,
          14.18604651,
          14.31897555,
          14.83979764,
          16.4785553,
          16.54008439,
          16.62895928,
          16.72278339,
          16.94725028
         ],
         "xaxis": "x",
         "y": [
          11.429606815190086,
          11.726715851018481,
          11.768813577989246,
          11.879569236356533,
          12.034577437810182,
          13.26740540923781,
          13.714507119652428,
          13.793245611122018,
          13.797106830740473,
          14.1709234500562,
          14.301366066773241,
          14.812446236039781,
          16.420551111659858,
          16.4809293067015,
          16.56814180151858,
          16.66021094171208,
          16.880479202868077
         ],
         "yaxis": "y"
        }
       ],
       "layout": {
        "height": 400,
        "legend": {
         "tracegroupgap": 0
        },
        "template": {
         "data": {
          "bar": [
           {
            "error_x": {
             "color": "#2a3f5f"
            },
            "error_y": {
             "color": "#2a3f5f"
            },
            "marker": {
             "line": {
              "color": "#E5ECF6",
              "width": 0.5
             }
            },
            "type": "bar"
           }
          ],
          "barpolar": [
           {
            "marker": {
             "line": {
              "color": "#E5ECF6",
              "width": 0.5
             }
            },
            "type": "barpolar"
           }
          ],
          "carpet": [
           {
            "aaxis": {
             "endlinecolor": "#2a3f5f",
             "gridcolor": "white",
             "linecolor": "white",
             "minorgridcolor": "white",
             "startlinecolor": "#2a3f5f"
            },
            "baxis": {
             "endlinecolor": "#2a3f5f",
             "gridcolor": "white",
             "linecolor": "white",
             "minorgridcolor": "white",
             "startlinecolor": "#2a3f5f"
            },
            "type": "carpet"
           }
          ],
          "choropleth": [
           {
            "colorbar": {
             "outlinewidth": 0,
             "ticks": ""
            },
            "type": "choropleth"
           }
          ],
          "contour": [
           {
            "colorbar": {
             "outlinewidth": 0,
             "ticks": ""
            },
            "colorscale": [
             [
              0,
              "#0d0887"
             ],
             [
              0.1111111111111111,
              "#46039f"
             ],
             [
              0.2222222222222222,
              "#7201a8"
             ],
             [
              0.3333333333333333,
              "#9c179e"
             ],
             [
              0.4444444444444444,
              "#bd3786"
             ],
             [
              0.5555555555555556,
              "#d8576b"
             ],
             [
              0.6666666666666666,
              "#ed7953"
             ],
             [
              0.7777777777777778,
              "#fb9f3a"
             ],
             [
              0.8888888888888888,
              "#fdca26"
             ],
             [
              1,
              "#f0f921"
             ]
            ],
            "type": "contour"
           }
          ],
          "contourcarpet": [
           {
            "colorbar": {
             "outlinewidth": 0,
             "ticks": ""
            },
            "type": "contourcarpet"
           }
          ],
          "heatmap": [
           {
            "colorbar": {
             "outlinewidth": 0,
             "ticks": ""
            },
            "colorscale": [
             [
              0,
              "#0d0887"
             ],
             [
              0.1111111111111111,
              "#46039f"
             ],
             [
              0.2222222222222222,
              "#7201a8"
             ],
             [
              0.3333333333333333,
              "#9c179e"
             ],
             [
              0.4444444444444444,
              "#bd3786"
             ],
             [
              0.5555555555555556,
              "#d8576b"
             ],
             [
              0.6666666666666666,
              "#ed7953"
             ],
             [
              0.7777777777777778,
              "#fb9f3a"
             ],
             [
              0.8888888888888888,
              "#fdca26"
             ],
             [
              1,
              "#f0f921"
             ]
            ],
            "type": "heatmap"
           }
          ],
          "heatmapgl": [
           {
            "colorbar": {
             "outlinewidth": 0,
             "ticks": ""
            },
            "colorscale": [
             [
              0,
              "#0d0887"
             ],
             [
              0.1111111111111111,
              "#46039f"
             ],
             [
              0.2222222222222222,
              "#7201a8"
             ],
             [
              0.3333333333333333,
              "#9c179e"
             ],
             [
              0.4444444444444444,
              "#bd3786"
             ],
             [
              0.5555555555555556,
              "#d8576b"
             ],
             [
              0.6666666666666666,
              "#ed7953"
             ],
             [
              0.7777777777777778,
              "#fb9f3a"
             ],
             [
              0.8888888888888888,
              "#fdca26"
             ],
             [
              1,
              "#f0f921"
             ]
            ],
            "type": "heatmapgl"
           }
          ],
          "histogram": [
           {
            "marker": {
             "colorbar": {
              "outlinewidth": 0,
              "ticks": ""
             }
            },
            "type": "histogram"
           }
          ],
          "histogram2d": [
           {
            "colorbar": {
             "outlinewidth": 0,
             "ticks": ""
            },
            "colorscale": [
             [
              0,
              "#0d0887"
             ],
             [
              0.1111111111111111,
              "#46039f"
             ],
             [
              0.2222222222222222,
              "#7201a8"
             ],
             [
              0.3333333333333333,
              "#9c179e"
             ],
             [
              0.4444444444444444,
              "#bd3786"
             ],
             [
              0.5555555555555556,
              "#d8576b"
             ],
             [
              0.6666666666666666,
              "#ed7953"
             ],
             [
              0.7777777777777778,
              "#fb9f3a"
             ],
             [
              0.8888888888888888,
              "#fdca26"
             ],
             [
              1,
              "#f0f921"
             ]
            ],
            "type": "histogram2d"
           }
          ],
          "histogram2dcontour": [
           {
            "colorbar": {
             "outlinewidth": 0,
             "ticks": ""
            },
            "colorscale": [
             [
              0,
              "#0d0887"
             ],
             [
              0.1111111111111111,
              "#46039f"
             ],
             [
              0.2222222222222222,
              "#7201a8"
             ],
             [
              0.3333333333333333,
              "#9c179e"
             ],
             [
              0.4444444444444444,
              "#bd3786"
             ],
             [
              0.5555555555555556,
              "#d8576b"
             ],
             [
              0.6666666666666666,
              "#ed7953"
             ],
             [
              0.7777777777777778,
              "#fb9f3a"
             ],
             [
              0.8888888888888888,
              "#fdca26"
             ],
             [
              1,
              "#f0f921"
             ]
            ],
            "type": "histogram2dcontour"
           }
          ],
          "mesh3d": [
           {
            "colorbar": {
             "outlinewidth": 0,
             "ticks": ""
            },
            "type": "mesh3d"
           }
          ],
          "parcoords": [
           {
            "line": {
             "colorbar": {
              "outlinewidth": 0,
              "ticks": ""
             }
            },
            "type": "parcoords"
           }
          ],
          "scatter": [
           {
            "marker": {
             "colorbar": {
              "outlinewidth": 0,
              "ticks": ""
             }
            },
            "type": "scatter"
           }
          ],
          "scatter3d": [
           {
            "line": {
             "colorbar": {
              "outlinewidth": 0,
              "ticks": ""
             }
            },
            "marker": {
             "colorbar": {
              "outlinewidth": 0,
              "ticks": ""
             }
            },
            "type": "scatter3d"
           }
          ],
          "scattercarpet": [
           {
            "marker": {
             "colorbar": {
              "outlinewidth": 0,
              "ticks": ""
             }
            },
            "type": "scattercarpet"
           }
          ],
          "scattergeo": [
           {
            "marker": {
             "colorbar": {
              "outlinewidth": 0,
              "ticks": ""
             }
            },
            "type": "scattergeo"
           }
          ],
          "scattergl": [
           {
            "marker": {
             "colorbar": {
              "outlinewidth": 0,
              "ticks": ""
             }
            },
            "type": "scattergl"
           }
          ],
          "scattermapbox": [
           {
            "marker": {
             "colorbar": {
              "outlinewidth": 0,
              "ticks": ""
             }
            },
            "type": "scattermapbox"
           }
          ],
          "scatterpolar": [
           {
            "marker": {
             "colorbar": {
              "outlinewidth": 0,
              "ticks": ""
             }
            },
            "type": "scatterpolar"
           }
          ],
          "scatterpolargl": [
           {
            "marker": {
             "colorbar": {
              "outlinewidth": 0,
              "ticks": ""
             }
            },
            "type": "scatterpolargl"
           }
          ],
          "scatterternary": [
           {
            "marker": {
             "colorbar": {
              "outlinewidth": 0,
              "ticks": ""
             }
            },
            "type": "scatterternary"
           }
          ],
          "surface": [
           {
            "colorbar": {
             "outlinewidth": 0,
             "ticks": ""
            },
            "colorscale": [
             [
              0,
              "#0d0887"
             ],
             [
              0.1111111111111111,
              "#46039f"
             ],
             [
              0.2222222222222222,
              "#7201a8"
             ],
             [
              0.3333333333333333,
              "#9c179e"
             ],
             [
              0.4444444444444444,
              "#bd3786"
             ],
             [
              0.5555555555555556,
              "#d8576b"
             ],
             [
              0.6666666666666666,
              "#ed7953"
             ],
             [
              0.7777777777777778,
              "#fb9f3a"
             ],
             [
              0.8888888888888888,
              "#fdca26"
             ],
             [
              1,
              "#f0f921"
             ]
            ],
            "type": "surface"
           }
          ],
          "table": [
           {
            "cells": {
             "fill": {
              "color": "#EBF0F8"
             },
             "line": {
              "color": "white"
             }
            },
            "header": {
             "fill": {
              "color": "#C8D4E3"
             },
             "line": {
              "color": "white"
             }
            },
            "type": "table"
           }
          ]
         },
         "layout": {
          "annotationdefaults": {
           "arrowcolor": "#2a3f5f",
           "arrowhead": 0,
           "arrowwidth": 1
          },
          "colorscale": {
           "diverging": [
            [
             0,
             "#8e0152"
            ],
            [
             0.1,
             "#c51b7d"
            ],
            [
             0.2,
             "#de77ae"
            ],
            [
             0.3,
             "#f1b6da"
            ],
            [
             0.4,
             "#fde0ef"
            ],
            [
             0.5,
             "#f7f7f7"
            ],
            [
             0.6,
             "#e6f5d0"
            ],
            [
             0.7,
             "#b8e186"
            ],
            [
             0.8,
             "#7fbc41"
            ],
            [
             0.9,
             "#4d9221"
            ],
            [
             1,
             "#276419"
            ]
           ],
           "sequential": [
            [
             0,
             "#0d0887"
            ],
            [
             0.1111111111111111,
             "#46039f"
            ],
            [
             0.2222222222222222,
             "#7201a8"
            ],
            [
             0.3333333333333333,
             "#9c179e"
            ],
            [
             0.4444444444444444,
             "#bd3786"
            ],
            [
             0.5555555555555556,
             "#d8576b"
            ],
            [
             0.6666666666666666,
             "#ed7953"
            ],
            [
             0.7777777777777778,
             "#fb9f3a"
            ],
            [
             0.8888888888888888,
             "#fdca26"
            ],
            [
             1,
             "#f0f921"
            ]
           ],
           "sequentialminus": [
            [
             0,
             "#0d0887"
            ],
            [
             0.1111111111111111,
             "#46039f"
            ],
            [
             0.2222222222222222,
             "#7201a8"
            ],
            [
             0.3333333333333333,
             "#9c179e"
            ],
            [
             0.4444444444444444,
             "#bd3786"
            ],
            [
             0.5555555555555556,
             "#d8576b"
            ],
            [
             0.6666666666666666,
             "#ed7953"
            ],
            [
             0.7777777777777778,
             "#fb9f3a"
            ],
            [
             0.8888888888888888,
             "#fdca26"
            ],
            [
             1,
             "#f0f921"
            ]
           ]
          },
          "colorway": [
           "#636efa",
           "#EF553B",
           "#00cc96",
           "#ab63fa",
           "#FFA15A",
           "#19d3f3",
           "#FF6692",
           "#B6E880",
           "#FF97FF",
           "#FECB52"
          ],
          "font": {
           "color": "#2a3f5f"
          },
          "geo": {
           "bgcolor": "white",
           "lakecolor": "white",
           "landcolor": "#E5ECF6",
           "showlakes": true,
           "showland": true,
           "subunitcolor": "white"
          },
          "hoverlabel": {
           "align": "left"
          },
          "hovermode": "closest",
          "mapbox": {
           "style": "light"
          },
          "paper_bgcolor": "white",
          "plot_bgcolor": "#E5ECF6",
          "polar": {
           "angularaxis": {
            "gridcolor": "white",
            "linecolor": "white",
            "ticks": ""
           },
           "bgcolor": "#E5ECF6",
           "radialaxis": {
            "gridcolor": "white",
            "linecolor": "white",
            "ticks": ""
           }
          },
          "scene": {
           "xaxis": {
            "backgroundcolor": "#E5ECF6",
            "gridcolor": "white",
            "gridwidth": 2,
            "linecolor": "white",
            "showbackground": true,
            "ticks": "",
            "zerolinecolor": "white"
           },
           "yaxis": {
            "backgroundcolor": "#E5ECF6",
            "gridcolor": "white",
            "gridwidth": 2,
            "linecolor": "white",
            "showbackground": true,
            "ticks": "",
            "zerolinecolor": "white"
           },
           "zaxis": {
            "backgroundcolor": "#E5ECF6",
            "gridcolor": "white",
            "gridwidth": 2,
            "linecolor": "white",
            "showbackground": true,
            "ticks": "",
            "zerolinecolor": "white"
           }
          },
          "shapedefaults": {
           "line": {
            "color": "#2a3f5f"
           }
          },
          "ternary": {
           "aaxis": {
            "gridcolor": "white",
            "linecolor": "white",
            "ticks": ""
           },
           "baxis": {
            "gridcolor": "white",
            "linecolor": "white",
            "ticks": ""
           },
           "bgcolor": "#E5ECF6",
           "caxis": {
            "gridcolor": "white",
            "linecolor": "white",
            "ticks": ""
           }
          },
          "title": {
           "x": 0.05
          },
          "xaxis": {
           "automargin": true,
           "gridcolor": "white",
           "linecolor": "white",
           "ticks": "",
           "zerolinecolor": "white",
           "zerolinewidth": 2
          },
          "yaxis": {
           "automargin": true,
           "gridcolor": "white",
           "linecolor": "white",
           "ticks": "",
           "zerolinecolor": "white",
           "zerolinewidth": 2
          }
         }
        },
        "title": {
         "text": "Prediction performance for protein content "
        },
        "width": 600,
        "xaxis": {
         "anchor": "y",
         "domain": [
          0,
          0.98
         ],
         "title": {
          "text": "Protein content measured (%)"
         }
        },
        "yaxis": {
         "anchor": "x",
         "domain": [
          0,
          1
         ],
         "title": {
          "text": "Protein content predicted (%)"
         }
        }
       }
      }
     },
     "metadata": {},
     "output_type": "display_data"
    }
   ],
   "source": [
    "df_pred = pd.DataFrame()\n",
    "df_pred['y_ref_test'] = y_test_oleo\n",
    "df_pred['y_pred_test'] = y_pred\n",
    "fig = px.scatter(df_pred, x=\"y_ref_test\", y=\"y_pred_test\", trendline=\"ols\", title=\"Prediction performance for protein content \",\n",
    "                 labels={\n",
    "                     \"y_ref_test\": \"Protein content measured (%)\",\n",
    "                     \"y_pred_test\": \"Protein content predicted (%)\",\n",
    "\n",
    "                 },width=600, height=400)\n",
    "fig.show()"
   ]
  },
  {
   "cell_type": "code",
   "execution_count": null,
   "id": "d6a33868",
   "metadata": {},
   "outputs": [],
   "source": []
  }
 ],
 "metadata": {
  "kernelspec": {
   "display_name": "base",
   "language": "python",
   "name": "python3"
  },
  "language_info": {
   "codemirror_mode": {
    "name": "ipython",
    "version": 3
   },
   "file_extension": ".py",
   "mimetype": "text/x-python",
   "name": "python",
   "nbconvert_exporter": "python",
   "pygments_lexer": "ipython3",
   "version": "3.9.7"
  },
  "vscode": {
   "interpreter": {
    "hash": "f495aec6bb42f5bf50edc3d7c3c03d5f8869c4ec116315d269d15969b9ab482a"
   }
  }
 },
 "nbformat": 4,
 "nbformat_minor": 5
}
